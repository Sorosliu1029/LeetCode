{
  "cells": [
    {
      "cell_type": "markdown",
      "metadata": {},
      "source": [
        "### 655. Print Binary Tree"
      ]
    },
    {
      "cell_type": "markdown",
      "metadata": {},
      "source": [
        "#### Content\n",
        "<p>Given the <code>root</code> of a binary tree, construct a <strong>0-indexed</strong> <code>m x n</code> string matrix <code>res</code> that represents a <strong>formatted layout</strong> of the tree. The formatted layout matrix should be constructed using the following rules:</p>\n",
        "\n",
        "<ul>\n",
        "\t<li>The <strong>height</strong> of the tree is <code>height</code>&nbsp;and the number of rows <code>m</code> should be equal to <code>height + 1</code>.</li>\n",
        "\t<li>The number of columns <code>n</code> should be equal to <code>2<sup>height+1</sup> - 1</code>.</li>\n",
        "\t<li>Place the <strong>root node</strong> in the <strong>middle</strong> of the <strong>top row</strong> (more formally, at location <code>res[0][(n-1)/2]</code>).</li>\n",
        "\t<li>For each node that has been placed in the matrix at position <code>res[r][c]</code>, place its <strong>left child</strong> at <code>res[r+1][c-2<sup>height-r-1</sup>]</code> and its <strong>right child</strong> at <code>res[r+1][c+2<sup>height-r-1</sup>]</code>.</li>\n",
        "\t<li>Continue this process until all the nodes in the tree have been placed.</li>\n",
        "\t<li>Any empty cells should contain the empty string <code>&quot;&quot;</code>.</li>\n",
        "</ul>\n",
        "\n",
        "<p>Return <em>the constructed matrix </em><code>res</code>.</p>\n",
        "\n",
        "<p>&nbsp;</p>\n",
        "<p><strong>Example 1:</strong></p>\n",
        "<img alt=\"\" src=\"https://assets.leetcode.com/uploads/2021/05/03/print1-tree.jpg\" style=\"width: 141px; height: 181px;\" />\n",
        "<pre>\n",
        "<strong>Input:</strong> root = [1,2]\n",
        "<strong>Output:</strong> \n",
        "[[&quot;&quot;,&quot;1&quot;,&quot;&quot;],\n",
        "&nbsp;[&quot;2&quot;,&quot;&quot;,&quot;&quot;]]\n",
        "</pre>\n",
        "\n",
        "<p><strong>Example 2:</strong></p>\n",
        "<img alt=\"\" src=\"https://assets.leetcode.com/uploads/2021/05/03/print2-tree.jpg\" style=\"width: 207px; height: 302px;\" />\n",
        "<pre>\n",
        "<strong>Input:</strong> root = [1,2,3,null,4]\n",
        "<strong>Output:</strong> \n",
        "[[&quot;&quot;,&quot;&quot;,&quot;&quot;,&quot;1&quot;,&quot;&quot;,&quot;&quot;,&quot;&quot;],\n",
        "&nbsp;[&quot;&quot;,&quot;2&quot;,&quot;&quot;,&quot;&quot;,&quot;&quot;,&quot;3&quot;,&quot;&quot;],\n",
        "&nbsp;[&quot;&quot;,&quot;&quot;,&quot;4&quot;,&quot;&quot;,&quot;&quot;,&quot;&quot;,&quot;&quot;]]\n",
        "</pre>\n",
        "\n",
        "<p>&nbsp;</p>\n",
        "<p><strong>Constraints:</strong></p>\n",
        "\n",
        "<ul>\n",
        "\t<li>The number of nodes in the tree is in the range <code>[1, 2<sup>10</sup>]</code>.</li>\n",
        "\t<li><code>-99 &lt;= Node.val &lt;= 99</code></li>\n",
        "\t<li>The depth of the tree will be in the range <code>[1, 10]</code>.</li>\n",
        "</ul>\n"
      ]
    },
    {
      "cell_type": "markdown",
      "metadata": {},
      "source": [
        "#### Difficulty: Medium, AC rate: 59.0%\n",
        "\n",
        "#### Question Tags:\n",
        "- Tree\n",
        "- Depth-First Search\n",
        "- Breadth-First Search\n",
        "- Binary Tree\n",
        "\n",
        "#### Links:\n",
        " 🎁 [Question Detail](https://leetcode.com/problems/print-binary-tree/description/) | 🎉 [Question Solution](https://leetcode.com/problems/print-binary-tree/solution/) | 💬 [Question Discussion](https://leetcode.com/problems/print-binary-tree/discuss/?orderBy=most_votes)\n",
        "\n",
        "#### Hints:\n"
      ]
    },
    {
      "cell_type": "markdown",
      "metadata": {},
      "source": [
        "#### Sample Test Case\n",
        "[1,2]"
      ]
    },
    {
      "cell_type": "markdown",
      "metadata": {},
      "source": [
        "---\n",
        "What's your idea?\n",
        "\n",
        "1. 获取树的高度\n",
        "2. 递归填充 matrix\n",
        "\n",
        "---"
      ]
    },
    {
      "cell_type": "code",
      "execution_count": 38,
      "metadata": {
        "isSolutionCode": true
      },
      "outputs": [],
      "source": [
        "from typing import Optional, List\n",
        "# Definition for a binary tree node.\n",
        "class TreeNode:\n",
        "    def __init__(self, val=0, left=None, right=None):\n",
        "        self.val = val\n",
        "        self.left = left\n",
        "        self.right = right\n",
        "\n",
        "class Solution:\n",
        "    def printTree(self, root: Optional[TreeNode]) -> List[List[str]]:\n",
        "        h = self._height(root)\n",
        "        m = h + 1\n",
        "        n = 2 ** m - 1\n",
        "        matrix = []\n",
        "        for i in range(m):\n",
        "            matrix.append([''] * n)\n",
        "        self.recur(root, 0, (n-1)//2, h, matrix)\n",
        "        return matrix\n",
        "\n",
        "    def recur(self, node, r, c, h, matrix):\n",
        "        if node is None:\n",
        "            return\n",
        "        matrix[r][c] = str(node.val)\n",
        "        delta = 2 ** (h-r-1)\n",
        "        self.recur(node.left, r+1, c-delta, h, matrix)\n",
        "        self.recur(node.right, r+1, c+delta, h, matrix)\n",
        "\n",
        "    def _height(self, node):\n",
        "        if node is None:\n",
        "            return -1\n",
        "        return max(self._height(node.left), self._height(node.right)) + 1"
      ]
    },
    {
      "cell_type": "code",
      "execution_count": 41,
      "metadata": {},
      "outputs": [],
      "source": [
        "from helper import array_to_tree\n",
        "s = Solution()\n",
        "\n",
        "t = array_to_tree([1,2])\n",
        "assert s.printTree(t) == [\n",
        "  [\"\",\"1\",\"\"],\n",
        "  [\"2\",\"\",\"\"]\n",
        "]\n",
        "\n",
        "t = array_to_tree([1,2,3,None,4])\n",
        "assert s.printTree(t) == [\n",
        "  [\"\",\"\",\"\",\"1\",\"\",\"\",\"\"],\n",
        "  [\"\",\"2\",\"\",\"\",\"\",\"3\",\"\"],\n",
        "  [\"\",\"\",\"4\",\"\",\"\",\"\",\"\"]\n",
        "]\n",
        "\n",
        "t = array_to_tree([1])\n",
        "assert s.printTree(t) == [[\"1\"]]"
      ]
    },
    {
      "cell_type": "code",
      "execution_count": 42,
      "metadata": {},
      "outputs": [
        {
          "data": {
            "text/markdown": [
              "😃 Result: Accepted\n",
              "\n",
              "📥 Input: ``\n",
              "\n",
              "📤 Output: ``\n",
              "\n",
              "✅ Expected: ``\n",
              "\n",
              "💯 Passed Test Case: 73 / 73\n",
              "\n",
              "🚀 Runtime: 36 ms, Memory: 13.9 MB\n",
              "\n",
              "🉑 Runtime Percentile: better than 81.72%, Memory Percentile: better than 82.78%\n",
              "\n",
              "📆 Finished At: 2022-02-14"
            ],
            "text/plain": [
              "<IPython.core.display.Markdown object>"
            ]
          },
          "metadata": {},
          "output_type": "display_data"
        }
      ],
      "source": [
        "import sys, os; sys.path.append(os.path.abspath('..'))\n",
        "from submitter import submit\n",
        "submit(655)"
      ]
    }
  ],
  "metadata": {
    "authors": [
      {
        "name": "Soros Liu"
      }
    ],
    "kernelspec": {
      "display_name": "Python 3",
      "language": "python",
      "name": "python3"
    },
    "language_info": {
      "codemirror_mode": {
        "name": "ipython",
        "version": 3
      },
      "file_extension": ".py",
      "mimetype": "text/x-python",
      "name": "python",
      "nbconvert_exporter": "python",
      "pygments_lexer": "ipython3",
      "version": "3.8.6"
    },
    "leetcode_question_info": {
      "questionFrontendId": "655",
      "questionId": "655",
      "sampleTestCase": "[1,2]",
      "submitUrl": "/problems/print-binary-tree/submit/"
    }
  },
  "nbformat": 4,
  "nbformat_minor": 2
}
