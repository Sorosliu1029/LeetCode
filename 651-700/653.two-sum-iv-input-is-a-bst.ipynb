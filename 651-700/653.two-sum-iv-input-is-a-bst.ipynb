{
  "cells": [
    {
      "cell_type": "markdown",
      "metadata": {},
      "source": [
        "### 653. Two Sum IV - Input is a BST"
      ]
    },
    {
      "cell_type": "markdown",
      "metadata": {},
      "source": [
        "#### Content\n",
        "<p>Given the <code>root</code> of a Binary Search Tree and a target number <code>k</code>, return <em><code>true</code> if there exist two elements in the BST such that their sum is equal to the given target</em>.</p>\n",
        "\n",
        "<p>&nbsp;</p>\n",
        "<p><strong>Example 1:</strong></p>\n",
        "<img alt=\"\" src=\"https://assets.leetcode.com/uploads/2020/09/21/sum_tree_1.jpg\" style=\"width: 400px; height: 229px;\" />\n",
        "<pre>\n",
        "<strong>Input:</strong> root = [5,3,6,2,4,null,7], k = 9\n",
        "<strong>Output:</strong> true\n",
        "</pre>\n",
        "\n",
        "<p><strong>Example 2:</strong></p>\n",
        "<img alt=\"\" src=\"https://assets.leetcode.com/uploads/2020/09/21/sum_tree_2.jpg\" style=\"width: 400px; height: 229px;\" />\n",
        "<pre>\n",
        "<strong>Input:</strong> root = [5,3,6,2,4,null,7], k = 28\n",
        "<strong>Output:</strong> false\n",
        "</pre>\n",
        "\n",
        "<p>&nbsp;</p>\n",
        "<p><strong>Constraints:</strong></p>\n",
        "\n",
        "<ul>\n",
        "\t<li>The number of nodes in the tree is in the range <code>[1, 10<sup>4</sup>]</code>.</li>\n",
        "\t<li><code>-10<sup>4</sup>&nbsp;&lt;= Node.val &lt;= 10<sup>4</sup></code></li>\n",
        "\t<li><code>root</code> is guaranteed to be a <strong>valid</strong> binary search tree.</li>\n",
        "\t<li><code>-10<sup>5</sup>&nbsp;&lt;= k &lt;= 10<sup>5</sup></code></li>\n",
        "</ul>\n"
      ]
    },
    {
      "cell_type": "markdown",
      "metadata": {},
      "source": [
        "#### Difficulty: Easy, AC rate: 58.5%\n",
        "\n",
        "#### Question Tags:\n",
        "- Hash Table\n",
        "- Two Pointers\n",
        "- Tree\n",
        "- Depth-First Search\n",
        "- Breadth-First Search\n",
        "- Binary Search Tree\n",
        "- Binary Tree\n",
        "\n",
        "#### Links:\n",
        " 🎁 [Question Detail](https://leetcode.com/problems/two-sum-iv-input-is-a-bst/description/) | 🎉 [Question Solution](https://leetcode.com/problems/two-sum-iv-input-is-a-bst/solution/) | 💬 [Question Discussion](https://leetcode.com/problems/two-sum-iv-input-is-a-bst/discuss/?orderBy=most_votes)\n",
        "\n",
        "#### Hints:\n"
      ]
    },
    {
      "cell_type": "markdown",
      "metadata": {},
      "source": [
        "#### Sample Test Case\n",
        "[5,3,6,2,4,null,7]\n",
        "9"
      ]
    },
    {
      "cell_type": "markdown",
      "metadata": {},
      "source": [
        "---\n",
        "What's your idea?\n",
        "\n",
        "类似双指针的思路，从 low, high 两个边界向内聚拢\n",
        "\n",
        "---"
      ]
    },
    {
      "cell_type": "code",
      "execution_count": 211,
      "metadata": {
        "isSolutionCode": true
      },
      "outputs": [],
      "source": [
        "from typing import Optional\n",
        "# Definition for a binary tree node.\n",
        "class TreeNode:\n",
        "    def __init__(self, val=0, left=None, right=None):\n",
        "        self.val = val\n",
        "        self.left = left\n",
        "        self.right = right\n",
        "\n",
        "class Solution:\n",
        "    def findTarget(self, root: Optional[TreeNode], k: int) -> bool:\n",
        "        if root is None:\n",
        "            return False\n",
        "        low_stack = []\n",
        "        n = root\n",
        "        while n:\n",
        "            low_stack.append(n)\n",
        "            n = n.left\n",
        "        high_stack = []\n",
        "        n = root\n",
        "        while n:\n",
        "            high_stack.append(n)\n",
        "            n = n.right\n",
        "        \n",
        "        while low_stack[-1].val < high_stack[-1].val:\n",
        "            if low_stack[-1].val + high_stack[-1].val > k:\n",
        "                self.move_to_low(high_stack)\n",
        "            elif low_stack[-1].val + high_stack[-1].val < k:\n",
        "                self.move_to_high(low_stack)\n",
        "            else:\n",
        "                return True\n",
        "        return False\n",
        "    \n",
        "    def move_to_high(self, stack):\n",
        "        n = stack.pop().right\n",
        "        while n is not None:\n",
        "            stack.append(n)\n",
        "            n = n.left\n",
        "\n",
        "    def move_to_low(self, stack):\n",
        "        n = stack.pop().left\n",
        "        while n is not None:\n",
        "            stack.append(n)\n",
        "            n = n.right"
      ]
    },
    {
      "cell_type": "code",
      "execution_count": 212,
      "metadata": {},
      "outputs": [],
      "source": [
        "from helper import array_to_tree\n",
        "s = Solution()\n",
        "\n",
        "t = array_to_tree([5,3,6,2,4,None,7])\n",
        "assert s.findTarget(t, 9) == True\n",
        "assert s.findTarget(t, 28) == False\n",
        "assert s.findTarget(t, 10) == True\n",
        "\n",
        "t = array_to_tree([1,0,4,-2,None,3])\n",
        "assert s.findTarget(t, 7) == True"
      ]
    },
    {
      "cell_type": "code",
      "execution_count": 208,
      "metadata": {},
      "outputs": [
        {
          "data": {
            "text/markdown": [
              "😃 Result: Accepted\n",
              "\n",
              "📥 Input: ``\n",
              "\n",
              "📤 Output: ``\n",
              "\n",
              "✅ Expected: ``\n",
              "\n",
              "💯 Passed Test Case: 422 / 422\n",
              "\n",
              "🚀 Runtime: 126 ms, Memory: 16.5 MB\n",
              "\n",
              "🉑 Runtime Percentile: better than 41.69%, Memory Percentile: better than 70.93%\n",
              "\n",
              "📆 Finished At: 2022-02-17"
            ],
            "text/plain": [
              "<IPython.core.display.Markdown object>"
            ]
          },
          "metadata": {},
          "output_type": "display_data"
        }
      ],
      "source": [
        "import sys, os; sys.path.append(os.path.abspath('..'))\n",
        "from submitter import submit\n",
        "submit(653)"
      ]
    }
  ],
  "metadata": {
    "authors": [
      {
        "name": "Soros Liu"
      }
    ],
    "kernelspec": {
      "display_name": "Python 3",
      "language": "python",
      "name": "python3"
    },
    "language_info": {
      "codemirror_mode": {
        "name": "ipython",
        "version": 3
      },
      "file_extension": ".py",
      "mimetype": "text/x-python",
      "name": "python",
      "nbconvert_exporter": "python",
      "pygments_lexer": "ipython3",
      "version": "3.8.6"
    },
    "leetcode_question_info": {
      "questionFrontendId": "653",
      "questionId": "653",
      "sampleTestCase": "[5,3,6,2,4,null,7]\n9",
      "submitUrl": "/problems/two-sum-iv-input-is-a-bst/submit/"
    }
  },
  "nbformat": 4,
  "nbformat_minor": 2
}
