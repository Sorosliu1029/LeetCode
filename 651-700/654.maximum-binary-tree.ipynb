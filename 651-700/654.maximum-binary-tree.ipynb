{
  "cells": [
    {
      "cell_type": "markdown",
      "metadata": {},
      "source": [
        "### 654. Maximum Binary Tree"
      ]
    },
    {
      "cell_type": "markdown",
      "metadata": {},
      "source": [
        "#### Content\n",
        "<p>You are given an integer array <code>nums</code> with no duplicates. A <strong>maximum binary tree</strong> can be built recursively from <code>nums</code> using the following algorithm:</p>\n",
        "\n",
        "<ol>\n",
        "\t<li>Create a root node whose value is the maximum value in <code>nums</code>.</li>\n",
        "\t<li>Recursively build the left subtree on the <strong>subarray prefix</strong> to the <strong>left</strong> of the maximum value.</li>\n",
        "\t<li>Recursively build the right subtree on the <strong>subarray suffix</strong> to the <strong>right</strong> of the maximum value.</li>\n",
        "</ol>\n",
        "\n",
        "<p>Return <em>the <strong>maximum binary tree</strong> built from </em><code>nums</code>.</p>\n",
        "\n",
        "<p>&nbsp;</p>\n",
        "<p><strong>Example 1:</strong></p>\n",
        "<img alt=\"\" src=\"https://assets.leetcode.com/uploads/2020/12/24/tree1.jpg\" style=\"width: 302px; height: 421px;\" />\n",
        "<pre>\n",
        "<strong>Input:</strong> nums = [3,2,1,6,0,5]\n",
        "<strong>Output:</strong> [6,3,5,null,2,0,null,null,1]\n",
        "<strong>Explanation:</strong> The recursive calls are as follow:\n",
        "- The largest value in [3,2,1,6,0,5] is 6. Left prefix is [3,2,1] and right suffix is [0,5].\n",
        "    - The largest value in [3,2,1] is 3. Left prefix is [] and right suffix is [2,1].\n",
        "        - Empty array, so no child.\n",
        "        - The largest value in [2,1] is 2. Left prefix is [] and right suffix is [1].\n",
        "            - Empty array, so no child.\n",
        "            - Only one element, so child is a node with value 1.\n",
        "    - The largest value in [0,5] is 5. Left prefix is [0] and right suffix is [].\n",
        "        - Only one element, so child is a node with value 0.\n",
        "        - Empty array, so no child.\n",
        "</pre>\n",
        "\n",
        "<p><strong>Example 2:</strong></p>\n",
        "<img alt=\"\" src=\"https://assets.leetcode.com/uploads/2020/12/24/tree2.jpg\" style=\"width: 182px; height: 301px;\" />\n",
        "<pre>\n",
        "<strong>Input:</strong> nums = [3,2,1]\n",
        "<strong>Output:</strong> [3,null,2,null,1]\n",
        "</pre>\n",
        "\n",
        "<p>&nbsp;</p>\n",
        "<p><strong>Constraints:</strong></p>\n",
        "\n",
        "<ul>\n",
        "\t<li><code>1 &lt;= nums.length &lt;= 1000</code></li>\n",
        "\t<li><code>0 &lt;= nums[i] &lt;= 1000</code></li>\n",
        "\t<li>All integers in <code>nums</code> are <strong>unique</strong>.</li>\n",
        "</ul>\n"
      ]
    },
    {
      "cell_type": "markdown",
      "metadata": {},
      "source": [
        "#### Difficulty: Medium, AC rate: 83.2%\n",
        "\n",
        "#### Question Tags:\n",
        "- Array\n",
        "- Divide and Conquer\n",
        "- Stack\n",
        "- Tree\n",
        "- Monotonic Stack\n",
        "- Binary Tree\n",
        "\n",
        "#### Links:\n",
        " 🎁 [Question Detail](https://leetcode.com/problems/maximum-binary-tree/description/) | 🎉 [Question Solution](https://leetcode.com/problems/maximum-binary-tree/solution/) | 💬 [Question Discussion](https://leetcode.com/problems/maximum-binary-tree/discuss/?orderBy=most_votes)\n",
        "\n",
        "#### Hints:\n"
      ]
    },
    {
      "cell_type": "markdown",
      "metadata": {},
      "source": [
        "#### Sample Test Case\n",
        "[3,2,1,6,0,5]"
      ]
    },
    {
      "cell_type": "markdown",
      "metadata": {},
      "source": [
        "---\n",
        "What's your idea?\n",
        "\n",
        "按定义递归\n",
        "\n",
        "---"
      ]
    },
    {
      "cell_type": "code",
      "execution_count": 22,
      "metadata": {
        "isSolutionCode": true
      },
      "outputs": [],
      "source": [
        "from typing import List, Optional\n",
        "# Definition for a binary tree node.\n",
        "class TreeNode:\n",
        "    def __init__(self, val=0, left=None, right=None):\n",
        "        self.val = val\n",
        "        self.left = left\n",
        "        self.right = right\n",
        "\n",
        "class Solution:\n",
        "    def constructMaximumBinaryTree(self, nums: List[int]) -> Optional[TreeNode]:\n",
        "        if not nums:\n",
        "            return None\n",
        "        idx = self._max_index(nums)\n",
        "        return TreeNode(nums[idx], \n",
        "            left = self.constructMaximumBinaryTree(nums[:idx]), \n",
        "            right = self.constructMaximumBinaryTree(nums[idx+1:]),\n",
        "        )\n",
        "        \n",
        "    def _max_index(self, nums):\n",
        "        idx, m = 0, nums[0]\n",
        "        for i, n in enumerate(nums[1:], start=1):\n",
        "            if n > m:\n",
        "                idx, m = i, n\n",
        "        return idx"
      ]
    },
    {
      "cell_type": "code",
      "execution_count": 24,
      "metadata": {},
      "outputs": [
        {
          "data": {
            "image/svg+xml": "<?xml version=\"1.0\" encoding=\"UTF-8\" standalone=\"no\"?>\n<!DOCTYPE svg PUBLIC \"-//W3C//DTD SVG 1.1//EN\"\n \"http://www.w3.org/Graphics/SVG/1.1/DTD/svg11.dtd\">\n<!-- Generated by graphviz version 2.48.0 (20210717.2242)\n -->\n<!-- Pages: 1 -->\n<svg width=\"199pt\" height=\"260pt\"\n viewBox=\"0.00 0.00 199.00 260.00\" xmlns=\"http://www.w3.org/2000/svg\" xmlns:xlink=\"http://www.w3.org/1999/xlink\">\n<g id=\"graph0\" class=\"graph\" transform=\"scale(1 1) rotate(0) translate(4 256)\">\n<polygon fill=\"white\" stroke=\"transparent\" points=\"-4,4 -4,-256 195,-256 195,4 -4,4\"/>\n<!-- 0x7f9b921863a0 -->\n<g id=\"node1\" class=\"node\">\n<title>0x7f9b921863a0</title>\n<ellipse fill=\"none\" stroke=\"black\" cx=\"97.5\" cy=\"-234\" rx=\"18\" ry=\"18\"/>\n<text text-anchor=\"middle\" x=\"97.5\" y=\"-230.3\" font-family=\"Times,serif\" font-size=\"14.00\">6</text>\n</g>\n<!-- 0x7f9b921861f0 -->\n<g id=\"node2\" class=\"node\">\n<title>0x7f9b921861f0</title>\n<ellipse fill=\"none\" stroke=\"black\" cx=\"50.5\" cy=\"-162\" rx=\"18\" ry=\"18\"/>\n<text text-anchor=\"middle\" x=\"50.5\" y=\"-158.3\" font-family=\"Times,serif\" font-size=\"14.00\">3</text>\n</g>\n<!-- 0x7f9b921863a0&#45;&gt;0x7f9b921861f0 -->\n<g id=\"edge1\" class=\"edge\">\n<title>0x7f9b921863a0&#45;&gt;0x7f9b921861f0</title>\n<path fill=\"none\" stroke=\"black\" d=\"M87.76,-218.5C81.46,-209.11 73.12,-196.69 65.93,-185.98\"/>\n<polygon fill=\"black\" stroke=\"black\" points=\"68.71,-183.84 60.23,-177.49 62.89,-187.74 68.71,-183.84\"/>\n</g>\n<!-- 0x7f9b921863a0invis_m -->\n<!-- 0x7f9b921863a0&#45;&gt;0x7f9b921863a0invis_m -->\n<!-- 0x7f9b92186370 -->\n<g id=\"node10\" class=\"node\">\n<title>0x7f9b92186370</title>\n<ellipse fill=\"none\" stroke=\"black\" cx=\"140.5\" cy=\"-162\" rx=\"18\" ry=\"18\"/>\n<text text-anchor=\"middle\" x=\"140.5\" y=\"-158.3\" font-family=\"Times,serif\" font-size=\"14.00\">5</text>\n</g>\n<!-- 0x7f9b921863a0&#45;&gt;0x7f9b92186370 -->\n<g id=\"edge9\" class=\"edge\">\n<title>0x7f9b921863a0&#45;&gt;0x7f9b92186370</title>\n<path fill=\"none\" stroke=\"black\" d=\"M106.62,-218.15C112.26,-208.97 119.63,-196.97 126.06,-186.51\"/>\n<polygon fill=\"black\" stroke=\"black\" points=\"129.14,-188.18 131.39,-177.82 123.18,-184.51 129.14,-188.18\"/>\n</g>\n<!-- 0x7f9b921861f0invis_l -->\n<!-- 0x7f9b921861f0&#45;&gt;0x7f9b921861f0invis_l -->\n<!-- 0x7f9b921861f0invis_m -->\n<!-- 0x7f9b921861f0&#45;&gt;0x7f9b921861f0invis_m -->\n<!-- 0x7f9b921862b0 -->\n<g id=\"node5\" class=\"node\">\n<title>0x7f9b921862b0</title>\n<ellipse fill=\"none\" stroke=\"black\" cx=\"68.5\" cy=\"-90\" rx=\"18\" ry=\"18\"/>\n<text text-anchor=\"middle\" x=\"68.5\" y=\"-86.3\" font-family=\"Times,serif\" font-size=\"14.00\">2</text>\n</g>\n<!-- 0x7f9b921861f0&#45;&gt;0x7f9b921862b0 -->\n<g id=\"edge4\" class=\"edge\">\n<title>0x7f9b921861f0&#45;&gt;0x7f9b921862b0</title>\n<path fill=\"none\" stroke=\"black\" d=\"M54.77,-144.41C56.82,-136.42 59.33,-126.64 61.65,-117.64\"/>\n<polygon fill=\"black\" stroke=\"black\" points=\"65.04,-118.51 64.14,-107.96 58.26,-116.77 65.04,-118.51\"/>\n</g>\n<!-- 0x7f9b921862b0invis_l -->\n<!-- 0x7f9b921862b0&#45;&gt;0x7f9b921862b0invis_l -->\n<!-- 0x7f9b921862b0invis_m -->\n<!-- 0x7f9b921862b0&#45;&gt;0x7f9b921862b0invis_m -->\n<!-- 0x7f9b92186220 -->\n<g id=\"node8\" class=\"node\">\n<title>0x7f9b92186220</title>\n<ellipse fill=\"none\" stroke=\"black\" cx=\"108.5\" cy=\"-18\" rx=\"18\" ry=\"18\"/>\n<text text-anchor=\"middle\" x=\"108.5\" y=\"-14.3\" font-family=\"Times,serif\" font-size=\"14.00\">1</text>\n</g>\n<!-- 0x7f9b921862b0&#45;&gt;0x7f9b92186220 -->\n<g id=\"edge7\" class=\"edge\">\n<title>0x7f9b921862b0&#45;&gt;0x7f9b92186220</title>\n<path fill=\"none\" stroke=\"black\" d=\"M77.18,-73.81C82.32,-64.82 88.94,-53.23 94.77,-43.03\"/>\n<polygon fill=\"black\" stroke=\"black\" points=\"97.91,-44.58 99.84,-34.16 91.84,-41.11 97.91,-44.58\"/>\n</g>\n<!-- 0x7f9b921862e0 -->\n<g id=\"node11\" class=\"node\">\n<title>0x7f9b921862e0</title>\n<ellipse fill=\"none\" stroke=\"black\" cx=\"122.5\" cy=\"-90\" rx=\"18\" ry=\"18\"/>\n<text text-anchor=\"middle\" x=\"122.5\" y=\"-86.3\" font-family=\"Times,serif\" font-size=\"14.00\">0</text>\n</g>\n<!-- 0x7f9b92186370&#45;&gt;0x7f9b921862e0 -->\n<g id=\"edge10\" class=\"edge\">\n<title>0x7f9b92186370&#45;&gt;0x7f9b921862e0</title>\n<path fill=\"none\" stroke=\"black\" d=\"M136.23,-144.41C134.18,-136.42 131.67,-126.64 129.35,-117.64\"/>\n<polygon fill=\"black\" stroke=\"black\" points=\"132.74,-116.77 126.86,-107.96 125.96,-118.51 132.74,-116.77\"/>\n</g>\n<!-- 0x7f9b92186370invis_m -->\n<!-- 0x7f9b92186370&#45;&gt;0x7f9b92186370invis_m -->\n<!-- 0x7f9b92186370invis_r -->\n<!-- 0x7f9b92186370&#45;&gt;0x7f9b92186370invis_r -->\n</g>\n</svg>\n",
            "text/plain": [
              "<graphviz.dot.Digraph at 0x7f9b92186460>"
            ]
          },
          "metadata": {},
          "output_type": "display_data"
        },
        {
          "data": {
            "image/svg+xml": "<?xml version=\"1.0\" encoding=\"UTF-8\" standalone=\"no\"?>\n<!DOCTYPE svg PUBLIC \"-//W3C//DTD SVG 1.1//EN\"\n \"http://www.w3.org/Graphics/SVG/1.1/DTD/svg11.dtd\">\n<!-- Generated by graphviz version 2.48.0 (20210717.2242)\n -->\n<!-- Pages: 1 -->\n<svg width=\"135pt\" height=\"188pt\"\n viewBox=\"0.00 0.00 134.50 188.00\" xmlns=\"http://www.w3.org/2000/svg\" xmlns:xlink=\"http://www.w3.org/1999/xlink\">\n<g id=\"graph0\" class=\"graph\" transform=\"scale(1 1) rotate(0) translate(4 184)\">\n<polygon fill=\"white\" stroke=\"transparent\" points=\"-4,4 -4,-184 130.5,-184 130.5,4 -4,4\"/>\n<!-- 0x7f9b92186370 -->\n<g id=\"node1\" class=\"node\">\n<title>0x7f9b92186370</title>\n<ellipse fill=\"none\" stroke=\"black\" cx=\"28.5\" cy=\"-162\" rx=\"18\" ry=\"18\"/>\n<text text-anchor=\"middle\" x=\"28.5\" y=\"-158.3\" font-family=\"Times,serif\" font-size=\"14.00\">3</text>\n</g>\n<!-- 0x7f9b92186370invis_l -->\n<!-- 0x7f9b92186370&#45;&gt;0x7f9b92186370invis_l -->\n<!-- 0x7f9b92186370invis_m -->\n<!-- 0x7f9b92186370&#45;&gt;0x7f9b92186370invis_m -->\n<!-- 0x7f9b921863a0 -->\n<g id=\"node4\" class=\"node\">\n<title>0x7f9b921863a0</title>\n<ellipse fill=\"none\" stroke=\"black\" cx=\"68.5\" cy=\"-90\" rx=\"18\" ry=\"18\"/>\n<text text-anchor=\"middle\" x=\"68.5\" y=\"-86.3\" font-family=\"Times,serif\" font-size=\"14.00\">2</text>\n</g>\n<!-- 0x7f9b92186370&#45;&gt;0x7f9b921863a0 -->\n<g id=\"edge3\" class=\"edge\">\n<title>0x7f9b92186370&#45;&gt;0x7f9b921863a0</title>\n<path fill=\"none\" stroke=\"black\" d=\"M37.18,-145.81C42.32,-136.82 48.94,-125.23 54.77,-115.03\"/>\n<polygon fill=\"black\" stroke=\"black\" points=\"57.91,-116.58 59.84,-106.16 51.84,-113.11 57.91,-116.58\"/>\n</g>\n<!-- 0x7f9b921863a0invis_l -->\n<!-- 0x7f9b921863a0&#45;&gt;0x7f9b921863a0invis_l -->\n<!-- 0x7f9b921863a0invis_m -->\n<!-- 0x7f9b921863a0&#45;&gt;0x7f9b921863a0invis_m -->\n<!-- 0x7f9b92242100 -->\n<g id=\"node7\" class=\"node\">\n<title>0x7f9b92242100</title>\n<ellipse fill=\"none\" stroke=\"black\" cx=\"108.5\" cy=\"-18\" rx=\"18\" ry=\"18\"/>\n<text text-anchor=\"middle\" x=\"108.5\" y=\"-14.3\" font-family=\"Times,serif\" font-size=\"14.00\">1</text>\n</g>\n<!-- 0x7f9b921863a0&#45;&gt;0x7f9b92242100 -->\n<g id=\"edge6\" class=\"edge\">\n<title>0x7f9b921863a0&#45;&gt;0x7f9b92242100</title>\n<path fill=\"none\" stroke=\"black\" d=\"M77.18,-73.81C82.32,-64.82 88.94,-53.23 94.77,-43.03\"/>\n<polygon fill=\"black\" stroke=\"black\" points=\"97.91,-44.58 99.84,-34.16 91.84,-41.11 97.91,-44.58\"/>\n</g>\n</g>\n</svg>\n",
            "text/plain": [
              "<graphviz.dot.Digraph at 0x7f9b92186340>"
            ]
          },
          "metadata": {},
          "output_type": "display_data"
        }
      ],
      "source": [
        "from visualizer import visualize_binary_tree\n",
        "s = Solution()\n",
        "\n",
        "visualize_binary_tree(s.constructMaximumBinaryTree([3,2,1,6,0,5]))\n",
        "\n",
        "visualize_binary_tree(s.constructMaximumBinaryTree([3,2,1]))"
      ]
    },
    {
      "cell_type": "code",
      "execution_count": 25,
      "metadata": {},
      "outputs": [
        {
          "data": {
            "text/markdown": [
              "😃 Result: Accepted\n",
              "\n",
              "📥 Input: ``\n",
              "\n",
              "📤 Output: ``\n",
              "\n",
              "✅ Expected: ``\n",
              "\n",
              "💯 Passed Test Case: 107 / 107\n",
              "\n",
              "🚀 Runtime: 283 ms, Memory: 14.6 MB\n",
              "\n",
              "🉑 Runtime Percentile: better than 49.05%, Memory Percentile: better than 70.26%\n",
              "\n",
              "📆 Finished At: 2022-02-14"
            ],
            "text/plain": [
              "<IPython.core.display.Markdown object>"
            ]
          },
          "metadata": {},
          "output_type": "display_data"
        }
      ],
      "source": [
        "import sys, os; sys.path.append(os.path.abspath('..'))\n",
        "from submitter import submit\n",
        "submit(654)"
      ]
    }
  ],
  "metadata": {
    "authors": [
      {
        "name": "Soros Liu"
      }
    ],
    "kernelspec": {
      "display_name": "Python 3",
      "language": "python",
      "name": "python3"
    },
    "language_info": {
      "codemirror_mode": {
        "name": "ipython",
        "version": 3
      },
      "file_extension": ".py",
      "mimetype": "text/x-python",
      "name": "python",
      "nbconvert_exporter": "python",
      "pygments_lexer": "ipython3",
      "version": "3.8.6"
    },
    "leetcode_question_info": {
      "questionFrontendId": "654",
      "questionId": "654",
      "sampleTestCase": "[3,2,1,6,0,5]",
      "submitUrl": "/problems/maximum-binary-tree/submit/"
    }
  },
  "nbformat": 4,
  "nbformat_minor": 2
}
