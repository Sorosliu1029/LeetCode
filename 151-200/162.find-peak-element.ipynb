{
 "cells": [
  {
   "cell_type": "markdown",
   "metadata": {},
   "source": [
    "### 162. Find Peak Element"
   ]
  },
  {
   "cell_type": "markdown",
   "metadata": {},
   "source": [
    "#### Content\n",
    "<p>A peak element is an element that is strictly greater than its neighbors.</p>\n",
    "\n",
    "<p>Given an integer array <code>nums</code>, find a peak element, and return its index. If&nbsp;the array contains multiple peaks, return the index to <strong>any of the peaks</strong>.</p>\n",
    "\n",
    "<p>You may imagine that <code>nums[-1] = nums[n] = -&infin;</code>.</p>\n",
    "\n",
    "<p>You must write an algorithm that runs in&nbsp;<code>O(log n)</code> time.</p>\n",
    "\n",
    "<p>&nbsp;</p>\n",
    "<p><strong>Example 1:</strong></p>\n",
    "\n",
    "<pre>\n",
    "<strong>Input:</strong> nums = [1,2,3,1]\n",
    "<strong>Output:</strong> 2\n",
    "<strong>Explanation:</strong> 3 is a peak element and your function should return the index number 2.</pre>\n",
    "\n",
    "<p><strong>Example 2:</strong></p>\n",
    "\n",
    "<pre>\n",
    "<strong>Input:</strong> nums = [1,2,1,3,5,6,4]\n",
    "<strong>Output:</strong> 5\n",
    "<strong>Explanation:</strong> Your function can return either index number 1 where the peak element is 2, or index number 5 where the peak element is 6.</pre>\n",
    "\n",
    "<p>&nbsp;</p>\n",
    "<p><strong>Constraints:</strong></p>\n",
    "\n",
    "<ul>\n",
    "\t<li><code>1 &lt;= nums.length &lt;= 1000</code></li>\n",
    "\t<li><code>-2<sup>31</sup> &lt;= nums[i] &lt;= 2<sup>31</sup> - 1</code></li>\n",
    "\t<li><code>nums[i] != nums[i + 1]</code> for all valid <code>i</code>.</li>\n",
    "</ul>\n"
   ]
  },
  {
   "cell_type": "markdown",
   "metadata": {},
   "source": [
    "#### Difficulty: Medium, AC rate: 44.6%\n",
    "\n",
    "#### Question Tags:\n",
    "- Array\n",
    "- Binary Search\n",
    "\n",
    "#### Links:\n",
    " 🎁 [Question Detail](https://leetcode.com/problems/find-peak-element/description/) | 🎉 [Question Solution](https://leetcode.com/problems/find-peak-element/solution/) | 💬 [Question Discussion](https://leetcode.com/problems/find-peak-element/discuss/?orderBy=most_votes)\n",
    "\n",
    "#### Hints:\n"
   ]
  },
  {
   "cell_type": "markdown",
   "metadata": {},
   "source": [
    "#### Sample Test Case\n",
    "[1,2,3,1]"
   ]
  },
  {
   "cell_type": "markdown",
   "metadata": {},
   "source": [
    "---\n",
    "What's your idea?\n",
    "\n",
    "二分，因为只需要找出符合条件的一个 peak 即可\n",
    "\n",
    "同时 [MIT6.006](https://www.youtube.com/v/HtSuA80QTyo) 有讲到这个问题\n",
    "\n",
    "---"
   ]
  },
  {
   "cell_type": "code",
   "execution_count": 1,
   "metadata": {
    "isSolutionCode": true
   },
   "outputs": [],
   "source": [
    "from typing import List\n",
    "\n",
    "class Solution:\n",
    "    def findPeakElement(self, nums: List[int]) -> int:\n",
    "        length = len(nums)\n",
    "        if length == 1:\n",
    "            return 0\n",
    "        \n",
    "        middle = length // 2\n",
    "        if middle > 0 and nums[middle-1] > nums[middle]:\n",
    "            return self.findPeakElement(nums[:middle])\n",
    "        elif middle < length - 1 and nums[middle+1] > nums[middle]:\n",
    "            return self.findPeakElement(nums[middle:]) + middle\n",
    "        else:\n",
    "            return middle"
   ]
  },
  {
   "cell_type": "code",
   "execution_count": 2,
   "metadata": {},
   "outputs": [
    {
     "name": "stdout",
     "output_type": "stream",
     "text": [
      "True\n",
      "True\n",
      "True\n",
      "True\n",
      "True\n",
      "True\n",
      "True\n",
      "True\n"
     ]
    }
   ],
   "source": [
    "s = Solution()\n",
    "\n",
    "print(s.findPeakElement([1,2,3,1]) == 2)\n",
    "print(s.findPeakElement([1,2,1,3,5,6,4]) == 5)\n",
    "print(s.findPeakElement([5,6,4,3,1,2,1]) == 1)\n",
    "print(s.findPeakElement([1]) == 0)\n",
    "print(s.findPeakElement([1,-1]) == 0)\n",
    "print(s.findPeakElement([0,1]) == 1)\n",
    "print(s.findPeakElement([0,1,2]) == 2)\n",
    "print(s.findPeakElement([0,2,1]) == 1)"
   ]
  },
  {
   "cell_type": "code",
   "execution_count": 3,
   "metadata": {},
   "outputs": [
    {
     "data": {
      "text/markdown": [
       "😃 Result: Accepted\n",
       "\n",
       "📥 Input: ``\n",
       "\n",
       "📤 Output: ``\n",
       "\n",
       "✅ Expected: ``\n",
       "\n",
       "💯 Passed Test Case: 63 / 63\n",
       "\n",
       "🚀 Runtime: 36 ms, Memory: 14.4 MB\n",
       "\n",
       "🉑 Runtime Percentile: better than 98.47%, Memory Percentile: better than 44.32%\n",
       "\n",
       "📆 Finished At: 2021-08-21"
      ],
      "text/plain": [
       "<IPython.core.display.Markdown object>"
      ]
     },
     "metadata": {},
     "output_type": "display_data"
    }
   ],
   "source": [
    "import sys, os; sys.path.append(os.path.abspath('..'))\n",
    "from submitter import submit\n",
    "submit(162)"
   ]
  }
 ],
 "metadata": {
  "authors": [
   {
    "name": "Soros Liu"
   }
  ],
  "kernelspec": {
   "display_name": "Python 3",
   "language": "python",
   "name": "python3"
  },
  "language_info": {
   "codemirror_mode": {
    "name": "ipython",
    "version": 3
   },
   "file_extension": ".py",
   "mimetype": "text/x-python",
   "name": "python",
   "nbconvert_exporter": "python",
   "pygments_lexer": "ipython3",
   "version": "3.8.6"
  },
  "leetcode_question_info": {
   "sampleTestCase": "[1,2,3,1]",
   "submitUrl": "/problems/find-peak-element/submit/"
  }
 },
 "nbformat": 4,
 "nbformat_minor": 2
}
