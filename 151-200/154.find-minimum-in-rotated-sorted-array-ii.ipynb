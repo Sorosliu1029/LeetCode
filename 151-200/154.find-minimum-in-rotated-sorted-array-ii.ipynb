{
 "cells": [
  {
   "cell_type": "markdown",
   "metadata": {},
   "source": [
    "### 154. Find Minimum in Rotated Sorted Array II"
   ]
  },
  {
   "cell_type": "markdown",
   "metadata": {},
   "source": [
    "#### Content\n",
    "<p>Suppose an array of length <code>n</code> sorted in ascending order is <strong>rotated</strong> between <code>1</code> and <code>n</code> times. For example, the array <code>nums = [0,1,4,4,5,6,7]</code> might become:</p>\n",
    "\n",
    "<ul>\n",
    "\t<li><code>[4,5,6,7,0,1,4]</code> if it was rotated <code>4</code> times.</li>\n",
    "\t<li><code>[0,1,4,4,5,6,7]</code> if it was rotated <code>7</code> times.</li>\n",
    "</ul>\n",
    "\n",
    "<p>Notice that <strong>rotating</strong> an array <code>[a[0], a[1], a[2], ..., a[n-1]]</code> 1 time results in the array <code>[a[n-1], a[0], a[1], a[2], ..., a[n-2]]</code>.</p>\n",
    "\n",
    "<p>Given the sorted rotated array <code>nums</code> that may contain <strong>duplicates</strong>, return <em>the minimum element of this array</em>.</p>\n",
    "\n",
    "<p>You must decrease the overall operation steps as much as possible.</p>\n",
    "\n",
    "<p>&nbsp;</p>\n",
    "<p><strong>Example 1:</strong></p>\n",
    "<pre><strong>Input:</strong> nums = [1,3,5]\n",
    "<strong>Output:</strong> 1\n",
    "</pre><p><strong>Example 2:</strong></p>\n",
    "<pre><strong>Input:</strong> nums = [2,2,2,0,1]\n",
    "<strong>Output:</strong> 0\n",
    "</pre>\n",
    "<p>&nbsp;</p>\n",
    "<p><strong>Constraints:</strong></p>\n",
    "\n",
    "<ul>\n",
    "\t<li><code>n == nums.length</code></li>\n",
    "\t<li><code>1 &lt;= n &lt;= 5000</code></li>\n",
    "\t<li><code>-5000 &lt;= nums[i] &lt;= 5000</code></li>\n",
    "\t<li><code>nums</code> is sorted and rotated between <code>1</code> and <code>n</code> times.</li>\n",
    "</ul>\n",
    "\n",
    "<p>&nbsp;</p>\n",
    "<p><strong>Follow up:</strong> This problem is similar to&nbsp;<a href=\"https://leetcode.com/problems/find-minimum-in-rotated-sorted-array/description/\" target=\"_blank\">Find Minimum in Rotated Sorted Array</a>, but&nbsp;<code>nums</code> may contain <strong>duplicates</strong>. Would this affect the runtime complexity? How and why?</p>\n",
    "\n",
    "<p>&nbsp;</p>\n"
   ]
  },
  {
   "cell_type": "markdown",
   "metadata": {},
   "source": [
    "#### Difficulty: Hard, AC rate: 42.3%\n",
    "\n",
    "#### Question Tags:\n",
    "- Array\n",
    "- Binary Search\n",
    "\n",
    "#### Links:\n",
    " 🎁 [Question Detail](https://leetcode.com/problems/find-minimum-in-rotated-sorted-array-ii/description/) | 🎉 [Question Solution](https://leetcode.com/problems/find-minimum-in-rotated-sorted-array-ii/solution/) | 💬 [Question Discussion](https://leetcode.com/problems/find-minimum-in-rotated-sorted-array-ii/discuss/?orderBy=most_votes)\n",
    "\n",
    "#### Hints:\n"
   ]
  },
  {
   "cell_type": "markdown",
   "metadata": {},
   "source": [
    "#### Sample Test Case\n",
    "[1,3,5]"
   ]
  },
  {
   "cell_type": "markdown",
   "metadata": {},
   "source": [
    "---\n",
    "What's your idea?\n",
    "\n",
    "考虑最坏情况下，所有元素都相等，则退化为遍历得出最小值，时间为 O(n)\n",
    "\n",
    "二分的思想，分左右区间检查有无 **下凹** 的可能性。最小值仅会在下凹区间内\n",
    "\n",
    "- 探测区间的左中右三值，如果严格单调递增，则该区间不存在下凹点，区间最小值为左值\n",
    "- 否则，左半区间和右半区间都可能有下凹点，递归检查\n",
    "- 先检查右半区间，要注意右半区间的开始点可能是左右联合区间的下凹点\n",
    "- 检查左半区间\n",
    "- 如果某个半区间内不存在下凹点，则最小值只可能在另半个区间内\n",
    "- 否则，需要比较左右半区间的最小值\n",
    "\n",
    "---"
   ]
  },
  {
   "cell_type": "code",
   "execution_count": 1,
   "metadata": {
    "isSolutionCode": true
   },
   "outputs": [],
   "source": [
    "from typing import List, Tuple\n",
    "\n",
    "class Solution:\n",
    "    def findMin(self, nums: List[int]) -> int:\n",
    "        _, r = self.checkHalf(nums)\n",
    "        return r\n",
    "        \n",
    "    \"\"\"\n",
    "    返回结果为 (该半区间内是否可能有下凹点, 该半区间内最小值)\n",
    "    \"\"\"\n",
    "    def checkHalf(self, nums: List[int]) -> Tuple[bool, int]:\n",
    "        length = len(nums)\n",
    "        if not length:\n",
    "            return [False, 0]\n",
    "        if length <= 2:\n",
    "            return [True, min(nums)]\n",
    "        \n",
    "        left, right = 0, length-1\n",
    "        middle = (left + right) // 2\n",
    "        if nums[left] < nums[middle] < nums[right]:\n",
    "            return [False, nums[left]]\n",
    "        \n",
    "        is_right_half_possible, right_min = self.checkHalf(nums[middle:])\n",
    "        if not is_right_half_possible and nums[middle-1] > nums[middle]:\n",
    "            return [True, nums[middle]]\n",
    "        \n",
    "        is_left_half_possible, left_min = self.checkHalf(nums[:middle])\n",
    "        \n",
    "        if not is_left_half_possible:\n",
    "            return [True, right_min]\n",
    "        if not is_right_half_possible:\n",
    "            return [True, left_min]\n",
    "        \n",
    "        return [True, min(left_min, right_min)]"
   ]
  },
  {
   "cell_type": "code",
   "execution_count": 2,
   "metadata": {},
   "outputs": [
    {
     "name": "stdout",
     "output_type": "stream",
     "text": [
      "True\n",
      "True\n",
      "True\n",
      "True\n",
      "True\n",
      "True\n",
      "True\n",
      "True\n",
      "True\n",
      "True\n",
      "True\n",
      "True\n",
      "True\n"
     ]
    }
   ],
   "source": [
    "s = Solution()\n",
    "\n",
    "print(s.findMin([1,3,5]) == 1)\n",
    "print(s.findMin([2,2,2,0,1]) == 0)\n",
    "print(s.findMin([0,1,1,1,1]) == 0)\n",
    "print(s.findMin([1,0,1,1,1]) == 0)\n",
    "print(s.findMin([1,0,1,1]) == 0)\n",
    "print(s.findMin([1,1,0,1]) == 0)\n",
    "\n",
    "print(s.findMin([-1]) == -1)\n",
    "print(s.findMin([-1, 0]) == -1)\n",
    "print(s.findMin([-1, -1, -1, -1]) == -1)\n",
    "print(s.findMin([0,0,0,0,0,0,0,0,-2,-2,-1,0,0,0]) == -2)\n",
    "\n",
    "print(s.findMin([4,5,6,7,-1,0,1,2]) == -1)\n",
    "print(s.findMin([4,5,6,-1,0,1,2]) == -1)\n",
    "print(s.findMin([-1,0,1,2,3,4,5,6,7]) == -1)"
   ]
  },
  {
   "cell_type": "code",
   "execution_count": 3,
   "metadata": {},
   "outputs": [
    {
     "data": {
      "text/markdown": [
       "😃 Result: Accepted\n",
       "\n",
       "📥 Input: ``\n",
       "\n",
       "📤 Output: ``\n",
       "\n",
       "✅ Expected: ``\n",
       "\n",
       "💯 Passed Test Case: 192 / 192\n",
       "\n",
       "🚀 Runtime: 44 ms, Memory: 15.1 MB\n",
       "\n",
       "🉑 Runtime Percentile: better than 97.55%, Memory Percentile: better than 14.14%\n",
       "\n",
       "📆 Finished At: 2021-08-01"
      ],
      "text/plain": [
       "<IPython.core.display.Markdown object>"
      ]
     },
     "metadata": {},
     "output_type": "display_data"
    }
   ],
   "source": [
    "import sys, os; sys.path.append(os.path.abspath('..'))\n",
    "from submitter import submit\n",
    "submit(154)"
   ]
  }
 ],
 "metadata": {
  "authors": [
   {
    "name": "Soros Liu"
   }
  ],
  "kernelspec": {
   "display_name": "Python 3",
   "language": "python",
   "name": "python3"
  },
  "language_info": {
   "codemirror_mode": {
    "name": "ipython",
    "version": 3
   },
   "file_extension": ".py",
   "mimetype": "text/x-python",
   "name": "python",
   "nbconvert_exporter": "python",
   "pygments_lexer": "ipython3",
   "version": "3.8.6"
  },
  "leetcode_question_info": {
   "sampleTestCase": "[1,3,5]",
   "submitUrl": "/problems/find-minimum-in-rotated-sorted-array-ii/submit/"
  }
 },
 "nbformat": 4,
 "nbformat_minor": 2
}
