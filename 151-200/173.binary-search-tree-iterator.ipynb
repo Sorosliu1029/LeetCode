{
  "cells": [
    {
      "cell_type": "markdown",
      "metadata": {},
      "source": [
        "### 173. Binary Search Tree Iterator"
      ]
    },
    {
      "cell_type": "markdown",
      "metadata": {},
      "source": [
        "#### Content\n",
        "<p>Implement the <code>BSTIterator</code> class that represents an iterator over the <strong><a href=\"https://en.wikipedia.org/wiki/Tree_traversal#In-order_(LNR)\" target=\"_blank\">in-order traversal</a></strong> of a binary search tree (BST):</p>\n",
        "\n",
        "<ul>\n",
        "\t<li><code>BSTIterator(TreeNode root)</code> Initializes an object of the <code>BSTIterator</code> class. The <code>root</code> of the BST is given as part of the constructor. The pointer should be initialized to a non-existent number smaller than any element in the BST.</li>\n",
        "\t<li><code>boolean hasNext()</code> Returns <code>true</code> if there exists a number in the traversal to the right of the pointer, otherwise returns <code>false</code>.</li>\n",
        "\t<li><code>int next()</code> Moves the pointer to the right, then returns the number at the pointer.</li>\n",
        "</ul>\n",
        "\n",
        "<p>Notice that by initializing the pointer to a non-existent smallest number, the first call to <code>next()</code> will return the smallest element in the BST.</p>\n",
        "\n",
        "<p>You may assume that <code>next()</code> calls will always be valid. That is, there will be at least a next number in the in-order traversal when <code>next()</code> is called.</p>\n",
        "\n",
        "<p>&nbsp;</p>\n",
        "<p><strong>Example 1:</strong></p>\n",
        "<img alt=\"\" src=\"https://assets.leetcode.com/uploads/2018/12/25/bst-tree.png\" style=\"width: 189px; height: 178px;\" />\n",
        "<pre>\n",
        "<strong>Input</strong>\n",
        "[&quot;BSTIterator&quot;, &quot;next&quot;, &quot;next&quot;, &quot;hasNext&quot;, &quot;next&quot;, &quot;hasNext&quot;, &quot;next&quot;, &quot;hasNext&quot;, &quot;next&quot;, &quot;hasNext&quot;]\n",
        "[[[7, 3, 15, null, null, 9, 20]], [], [], [], [], [], [], [], [], []]\n",
        "<strong>Output</strong>\n",
        "[null, 3, 7, true, 9, true, 15, true, 20, false]\n",
        "\n",
        "<strong>Explanation</strong>\n",
        "BSTIterator bSTIterator = new BSTIterator([7, 3, 15, null, null, 9, 20]);\n",
        "bSTIterator.next();    // return 3\n",
        "bSTIterator.next();    // return 7\n",
        "bSTIterator.hasNext(); // return True\n",
        "bSTIterator.next();    // return 9\n",
        "bSTIterator.hasNext(); // return True\n",
        "bSTIterator.next();    // return 15\n",
        "bSTIterator.hasNext(); // return True\n",
        "bSTIterator.next();    // return 20\n",
        "bSTIterator.hasNext(); // return False\n",
        "</pre>\n",
        "\n",
        "<p>&nbsp;</p>\n",
        "<p><strong>Constraints:</strong></p>\n",
        "\n",
        "<ul>\n",
        "\t<li>The number of nodes in the tree is in the range <code>[1, 10<sup>5</sup>]</code>.</li>\n",
        "\t<li><code>0 &lt;= Node.val &lt;= 10<sup>6</sup></code></li>\n",
        "\t<li>At most <code>10<sup>5</sup></code> calls will be made to <code>hasNext</code>, and <code>next</code>.</li>\n",
        "</ul>\n",
        "\n",
        "<p>&nbsp;</p>\n",
        "<p><strong>Follow up:</strong></p>\n",
        "\n",
        "<ul>\n",
        "\t<li>Could you implement <code>next()</code> and <code>hasNext()</code> to run in average <code>O(1)</code> time and use&nbsp;<code>O(h)</code> memory, where <code>h</code> is the height of the tree?</li>\n",
        "</ul>\n"
      ]
    },
    {
      "cell_type": "markdown",
      "metadata": {},
      "source": [
        "#### Difficulty: Medium, AC rate: 64.8%\n",
        "\n",
        "#### Question Tags:\n",
        "- Stack\n",
        "- Tree\n",
        "- Design\n",
        "- Binary Search Tree\n",
        "- Binary Tree\n",
        "- Iterator\n",
        "\n",
        "#### Links:\n",
        " 🎁 [Question Detail](https://leetcode.com/problems/binary-search-tree-iterator/description/) | 🎉 [Question Solution](https://leetcode.com/problems/binary-search-tree-iterator/solution/) | 💬 [Question Discussion](https://leetcode.com/problems/binary-search-tree-iterator/discuss/?orderBy=most_votes)\n",
        "\n",
        "#### Hints:\n"
      ]
    },
    {
      "cell_type": "markdown",
      "metadata": {},
      "source": [
        "#### Sample Test Case\n",
        "[\"BSTIterator\",\"next\",\"next\",\"hasNext\",\"next\",\"hasNext\",\"next\",\"hasNext\",\"next\",\"hasNext\"]\n",
        "[[[7,3,15,null,null,9,20]],[],[],[],[],[],[],[],[],[]]"
      ]
    },
    {
      "cell_type": "markdown",
      "metadata": {},
      "source": [
        "---\n",
        "What's your idea?\n",
        "\n",
        "利用栈结构模拟中序遍历递归\n",
        "\n",
        "---"
      ]
    },
    {
      "cell_type": "code",
      "execution_count": 7,
      "metadata": {
        "isSolutionCode": true
      },
      "outputs": [],
      "source": [
        "from typing import Optional\n",
        "# Definition for a binary tree node.\n",
        "class TreeNode:\n",
        "    def __init__(self, val=0, left=None, right=None):\n",
        "        self.val = val\n",
        "        self.left = left\n",
        "        self.right = right\n",
        "\n",
        "class BSTIterator:\n",
        "\n",
        "    def __init__(self, root: Optional[TreeNode]):\n",
        "        self.stack = []\n",
        "        while root is not None:\n",
        "            self.stack.append(root)\n",
        "            root = root.left\n",
        "\n",
        "    def next(self) -> int:\n",
        "        n = self.stack.pop()\n",
        "        self._add(n.right)\n",
        "        return n.val\n",
        "\n",
        "    def _add(self, node):\n",
        "        while node is not None:\n",
        "            self.stack.append(node)\n",
        "            node = node.left\n",
        "\n",
        "    def hasNext(self) -> bool:\n",
        "        return len(self.stack) > 0"
      ]
    },
    {
      "cell_type": "code",
      "execution_count": 8,
      "metadata": {},
      "outputs": [
        {
          "name": "stdout",
          "output_type": "stream",
          "text": [
            "3\n",
            "7\n",
            "True\n",
            "9\n",
            "True\n",
            "15\n",
            "True\n",
            "20\n",
            "False\n"
          ]
        }
      ],
      "source": [
        "from helper import array_to_tree\n",
        "root = array_to_tree([7,3,15,None,None,9,20])\n",
        "# Your BSTIterator object will be instantiated and called as such:\n",
        "bSTIterator= BSTIterator(root)\n",
        "print(bSTIterator.next()) # return 3\n",
        "print(bSTIterator.next()) # return 7\n",
        "print(bSTIterator.hasNext()) # return True\n",
        "print(bSTIterator.next()) # return 9\n",
        "print(bSTIterator.hasNext()) # return True\n",
        "print(bSTIterator.next()) # return 15\n",
        "print(bSTIterator.hasNext()) # return True\n",
        "print(bSTIterator.next()) # return 20\n",
        "print(bSTIterator.hasNext()) # return False"
      ]
    },
    {
      "cell_type": "code",
      "execution_count": 9,
      "metadata": {},
      "outputs": [
        {
          "data": {
            "text/markdown": [
              "😃 Result: Accepted\n",
              "\n",
              "📥 Input: ``\n",
              "\n",
              "📤 Output: ``\n",
              "\n",
              "✅ Expected: ``\n",
              "\n",
              "💯 Passed Test Case: 61 / 61\n",
              "\n",
              "🚀 Runtime: 97 ms, Memory: 20.5 MB\n",
              "\n",
              "🉑 Runtime Percentile: better than 51.93%, Memory Percentile: better than 56.70%\n",
              "\n",
              "📆 Finished At: 2022-02-13"
            ],
            "text/plain": [
              "<IPython.core.display.Markdown object>"
            ]
          },
          "metadata": {},
          "output_type": "display_data"
        }
      ],
      "source": [
        "import sys, os; sys.path.append(os.path.abspath('..'))\n",
        "from submitter import submit\n",
        "submit(173)"
      ]
    }
  ],
  "metadata": {
    "authors": [
      {
        "name": "Soros Liu"
      }
    ],
    "kernelspec": {
      "display_name": "Python 3",
      "language": "python",
      "name": "python3"
    },
    "language_info": {
      "codemirror_mode": {
        "name": "ipython",
        "version": 3
      },
      "file_extension": ".py",
      "mimetype": "text/x-python",
      "name": "python",
      "nbconvert_exporter": "python",
      "pygments_lexer": "ipython3",
      "version": "3.8.6"
    },
    "leetcode_question_info": {
      "questionFrontendId": "173",
      "questionId": "173",
      "sampleTestCase": "[\"BSTIterator\",\"next\",\"next\",\"hasNext\",\"next\",\"hasNext\",\"next\",\"hasNext\",\"next\",\"hasNext\"]\n[[[7,3,15,null,null,9,20]],[],[],[],[],[],[],[],[],[]]",
      "submitUrl": "/problems/binary-search-tree-iterator/submit/"
    }
  },
  "nbformat": 4,
  "nbformat_minor": 2
}
