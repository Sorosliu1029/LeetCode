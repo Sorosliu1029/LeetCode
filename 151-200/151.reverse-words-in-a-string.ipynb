{
 "cells": [
  {
   "cell_type": "markdown",
   "metadata": {},
   "source": [
    "### 151. Reverse Words in a String"
   ]
  },
  {
   "cell_type": "markdown",
   "metadata": {},
   "source": [
    "#### Content\n",
    "<p>Given an input string <code>s</code>, reverse the order of the <strong>words</strong>.</p>\n",
    "\n",
    "<p>A <strong>word</strong> is defined as a sequence of non-space characters. The <strong>words</strong> in <code>s</code> will be separated by at least one space.</p>\n",
    "\n",
    "<p>Return <em>a string of the words in reverse order concatenated by a single space.</em></p>\n",
    "\n",
    "<p><b>Note</b> that <code>s</code> may contain leading or trailing spaces or multiple spaces between two words. The returned string should only have a single space separating the words. Do not include any extra spaces.</p>\n",
    "\n",
    "<p>&nbsp;</p>\n",
    "<p><strong>Example 1:</strong></p>\n",
    "\n",
    "<pre>\n",
    "<strong>Input:</strong> s = &quot;the sky is blue&quot;\n",
    "<strong>Output:</strong> &quot;blue is sky the&quot;\n",
    "</pre>\n",
    "\n",
    "<p><strong>Example 2:</strong></p>\n",
    "\n",
    "<pre>\n",
    "<strong>Input:</strong> s = &quot;  hello world  &quot;\n",
    "<strong>Output:</strong> &quot;world hello&quot;\n",
    "<strong>Explanation:</strong> Your reversed string should not contain leading or trailing spaces.\n",
    "</pre>\n",
    "\n",
    "<p><strong>Example 3:</strong></p>\n",
    "\n",
    "<pre>\n",
    "<strong>Input:</strong> s = &quot;a good   example&quot;\n",
    "<strong>Output:</strong> &quot;example good a&quot;\n",
    "<strong>Explanation:</strong> You need to reduce multiple spaces between two words to a single space in the reversed string.\n",
    "</pre>\n",
    "\n",
    "<p><strong>Example 4:</strong></p>\n",
    "\n",
    "<pre>\n",
    "<strong>Input:</strong> s = &quot;  Bob    Loves  Alice   &quot;\n",
    "<strong>Output:</strong> &quot;Alice Loves Bob&quot;\n",
    "</pre>\n",
    "\n",
    "<p><strong>Example 5:</strong></p>\n",
    "\n",
    "<pre>\n",
    "<strong>Input:</strong> s = &quot;Alice does not even like bob&quot;\n",
    "<strong>Output:</strong> &quot;bob like even not does Alice&quot;\n",
    "</pre>\n",
    "\n",
    "<p>&nbsp;</p>\n",
    "<p><strong>Constraints:</strong></p>\n",
    "\n",
    "<ul>\n",
    "\t<li><code>1 &lt;= s.length &lt;= 10<sup>4</sup></code></li>\n",
    "\t<li><code>s</code> contains English letters (upper-case and lower-case), digits, and spaces <code>&#39; &#39;</code>.</li>\n",
    "\t<li>There is <strong>at least one</strong> word in <code>s</code>.</li>\n",
    "</ul>\n",
    "\n",
    "<p>&nbsp;</p>\n",
    "<p><b data-stringify-type=\"bold\">Follow-up:&nbsp;</b>If the string data type is mutable in your language, can&nbsp;you solve it&nbsp;<b data-stringify-type=\"bold\">in-place</b>&nbsp;with&nbsp;<code data-stringify-type=\"code\">O(1)</code>&nbsp;extra space?</p>\n"
   ]
  },
  {
   "cell_type": "markdown",
   "metadata": {},
   "source": [
    "#### Difficulty: Medium, AC rate: 25.3%\n",
    "\n",
    "#### Question Tags:\n",
    "- Two Pointers\n",
    "- String\n",
    "\n",
    "#### Links:\n",
    " 🎁 [Question Detail](https://leetcode.com/problems/reverse-words-in-a-string/description/) | 🎉 [Question Solution](https://leetcode.com/problems/reverse-words-in-a-string/solution/) | 💬 [Question Discussion](https://leetcode.com/problems/reverse-words-in-a-string/discuss/?orderBy=most_votes)\n",
    "\n",
    "#### Hints:\n"
   ]
  },
  {
   "cell_type": "markdown",
   "metadata": {},
   "source": [
    "#### Sample Test Case\n",
    "\"the sky is blue\""
   ]
  },
  {
   "cell_type": "markdown",
   "metadata": {},
   "source": [
    "---\n",
    "What's your idea?\n",
    "\n",
    "注重 `O(1)` 的空间复杂度\n",
    "\n",
    "大体思路上是：\n",
    "1. 先整个字符串翻转\n",
    "2. 然后逐个单词翻转\n",
    "\n",
    "细节实现上，在第2步，为了避免多次遍历，需要记录翻转单词后应该放置的位置（`new_word_start`)\n",
    "\n",
    "对于第1步翻转后的字符串的划分，用正则表示是这样的： `([ ]*)([A-Za-z0-9]+)( )`，即「零个或多个前导空格」+「单词」+「一个后置空格」\n",
    "\n",
    "---"
   ]
  },
  {
   "cell_type": "code",
   "execution_count": 1,
   "metadata": {
    "isSolutionCode": true
   },
   "outputs": [],
   "source": [
    "class Solution:\n",
    "    def reverseWords(self, s: str) -> str:\n",
    "        l = [' '] + list(s)\n",
    "        length = len(l)\n",
    "        \n",
    "        # 第1步，整个字符串翻转\n",
    "        left, right = 0, length-1\n",
    "        while left < right:\n",
    "            l[left], l[right] = l[right], l[left]\n",
    "            left += 1\n",
    "            right -= 1\n",
    "        \n",
    "        # 第2步，逐个单词翻转\n",
    "        new_word_start = 0\n",
    "        inner_word_start = 0\n",
    "        while inner_word_start < length:\n",
    "            # 前导空格的个数\n",
    "            leading_space_cnt = 0\n",
    "            while l[inner_word_start+leading_space_cnt] == ' ':\n",
    "                leading_space_cnt += 1\n",
    "                if (inner_word_start+leading_space_cnt >= length):\n",
    "                    return ''.join(l[:new_word_start-1])\n",
    "            \n",
    "            # 单词的长度\n",
    "            word_size = 0\n",
    "            while l[inner_word_start+leading_space_cnt+word_size] != ' ':\n",
    "                word_size += 1\n",
    "            \n",
    "            # 单词翻转\n",
    "            swap_cnt = 0\n",
    "            while swap_cnt < word_size:\n",
    "                left = new_word_start+swap_cnt\n",
    "                right = inner_word_start+leading_space_cnt+word_size-1-swap_cnt\n",
    "                if (left >= right):\n",
    "                    break\n",
    "                l[left], l[right] = l[right], l[left]\n",
    "                swap_cnt += 1\n",
    "            \n",
    "            # 新的单词放置位置递增「单词长度+一个空格」的量\n",
    "            new_word_start += (word_size+1)\n",
    "            # 下一翻转单词的位置递增「前导空格数+单词长度+一个空格」的量\n",
    "            inner_word_start += (leading_space_cnt+word_size+1)\n",
    "            \n",
    "        return ''.join(l[:new_word_start-1])"
   ]
  },
  {
   "cell_type": "code",
   "execution_count": 2,
   "metadata": {},
   "outputs": [
    {
     "name": "stdout",
     "output_type": "stream",
     "text": [
      ">blue is sky the<\n",
      ">world hello<\n",
      ">example good a<\n",
      ">Alice Loves Bob<\n",
      ">bob like even not does Alice<\n"
     ]
    }
   ],
   "source": [
    "s = Solution()\n",
    "\n",
    "print('>' + s.reverseWords('the sky is blue') + '<')\n",
    "print('>' + s.reverseWords('  hello world  ') + '<')\n",
    "print('>' + s.reverseWords('a good   example') + '<')\n",
    "print('>' + s.reverseWords('  Bob    Loves  Alice   ') + '<')\n",
    "print('>' + s.reverseWords('Alice does not even like bob') + '<')"
   ]
  },
  {
   "cell_type": "code",
   "execution_count": 3,
   "metadata": {},
   "outputs": [
    {
     "data": {
      "text/markdown": [
       "😃 Result: Accepted\n",
       "\n",
       "📥 Input: ``\n",
       "\n",
       "📤 Output: ``\n",
       "\n",
       "✅ Expected: ``\n",
       "\n",
       "💯 Passed Test Case: 57 / 57\n",
       "\n",
       "🚀 Runtime: 52 ms, Memory: 14.3 MB\n",
       "\n",
       "🉑 Runtime Percentile: better than 10.71%, Memory Percentile: better than 87.73%\n",
       "\n",
       "📆 Finished At: 2021-08-11"
      ],
      "text/plain": [
       "<IPython.core.display.Markdown object>"
      ]
     },
     "metadata": {},
     "output_type": "display_data"
    }
   ],
   "source": [
    "import sys, os; sys.path.append(os.path.abspath('..'))\n",
    "from submitter import submit\n",
    "submit(151)"
   ]
  }
 ],
 "metadata": {
  "authors": [
   {
    "name": "Soros Liu"
   }
  ],
  "kernelspec": {
   "display_name": "Python 3",
   "language": "python",
   "name": "python3"
  },
  "language_info": {
   "codemirror_mode": {
    "name": "ipython",
    "version": 3
   },
   "file_extension": ".py",
   "mimetype": "text/x-python",
   "name": "python",
   "nbconvert_exporter": "python",
   "pygments_lexer": "ipython3",
   "version": "3.8.6"
  },
  "leetcode_question_info": {
   "sampleTestCase": "\"the sky is blue\"",
   "submitUrl": "/problems/reverse-words-in-a-string/submit/"
  }
 },
 "nbformat": 4,
 "nbformat_minor": 2
}
