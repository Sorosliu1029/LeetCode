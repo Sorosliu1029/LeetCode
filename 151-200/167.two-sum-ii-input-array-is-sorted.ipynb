{
 "cells": [
  {
   "cell_type": "markdown",
   "metadata": {},
   "source": [
    "### 167. Two Sum II - Input array is sorted"
   ]
  },
  {
   "cell_type": "markdown",
   "metadata": {},
   "source": [
    "#### Content\n",
    "<p>Given an array of integers <code>numbers</code> that is already <strong><em>sorted in non-decreasing order</em></strong>, find two numbers such that they add up to a specific <code>target</code> number.</p>\n",
    "\n",
    "<p>Return<em> the indices of the two numbers (<strong>1-indexed</strong>) as an integer array </em><code>answer</code><em> of size </em><code>2</code><em>, where </em><code>1 &lt;= answer[0] &lt; answer[1] &lt;= numbers.length</code>.</p>\n",
    "\n",
    "<p>The tests are generated such that there is <strong>exactly one solution</strong>. You <strong>may not</strong> use the same element twice.</p>\n",
    "\n",
    "<p>&nbsp;</p>\n",
    "<p><strong>Example 1:</strong></p>\n",
    "\n",
    "<pre>\n",
    "<strong>Input:</strong> numbers = [2,7,11,15], target = 9\n",
    "<strong>Output:</strong> [1,2]\n",
    "<strong>Explanation:</strong> The sum of 2 and 7 is 9. Therefore index1 = 1, index2 = 2.\n",
    "</pre>\n",
    "\n",
    "<p><strong>Example 2:</strong></p>\n",
    "\n",
    "<pre>\n",
    "<strong>Input:</strong> numbers = [2,3,4], target = 6\n",
    "<strong>Output:</strong> [1,3]\n",
    "</pre>\n",
    "\n",
    "<p><strong>Example 3:</strong></p>\n",
    "\n",
    "<pre>\n",
    "<strong>Input:</strong> numbers = [-1,0], target = -1\n",
    "<strong>Output:</strong> [1,2]\n",
    "</pre>\n",
    "\n",
    "<p>&nbsp;</p>\n",
    "<p><strong>Constraints:</strong></p>\n",
    "\n",
    "<ul>\n",
    "\t<li><code>2 &lt;= numbers.length &lt;= 3 * 10<sup>4</sup></code></li>\n",
    "\t<li><code>-1000 &lt;= numbers[i] &lt;= 1000</code></li>\n",
    "\t<li><code>numbers</code> is sorted in <strong>non-decreasing order</strong>.</li>\n",
    "\t<li><code>-1000 &lt;= target &lt;= 1000</code></li>\n",
    "\t<li>The tests are generated such that there is <strong>exactly one solution</strong>.</li>\n",
    "</ul>\n"
   ]
  },
  {
   "cell_type": "markdown",
   "metadata": {},
   "source": [
    "#### Difficulty: Easy, AC rate: 56.4%\n",
    "\n",
    "#### Question Tags:\n",
    "- Array\n",
    "- Two Pointers\n",
    "- Binary Search\n",
    "\n",
    "#### Links:\n",
    " 🎁 [Question Detail](https://leetcode.com/problems/two-sum-ii-input-array-is-sorted/description/) | 🎉 [Question Solution](https://leetcode.com/problems/two-sum-ii-input-array-is-sorted/solution/) | 💬 [Question Discussion](https://leetcode.com/problems/two-sum-ii-input-array-is-sorted/discuss/?orderBy=most_votes)\n",
    "\n",
    "#### Hints:\n"
   ]
  },
  {
   "cell_type": "markdown",
   "metadata": {},
   "source": [
    "#### Sample Test Case\n",
    "[2,7,11,15]\n",
    "9"
   ]
  },
  {
   "cell_type": "markdown",
   "metadata": {},
   "source": [
    "---\n",
    "What's your idea?\n",
    "\n",
    "时间复杂度 O(n)\n",
    "\n",
    "不断收窄要检查的 `numbers` 范围。因为 `numbers` 已排序，所以可能的答案只会是 **向心的**\n",
    "\n",
    "用二分查找，交替收窄左右边界\n",
    "\n",
    "---"
   ]
  },
  {
   "cell_type": "code",
   "execution_count": 1,
   "metadata": {},
   "outputs": [],
   "source": [
    "from typing import List\n",
    "\n",
    "class Solution:\n",
    "    def twoSum(self, numbers: List[int], target: int) -> List[int]:\n",
    "        left_boundary = 0\n",
    "        right_boundary = len(numbers) - 1\n",
    "        while left_boundary < right_boundary:\n",
    "            # fix left boundary, narrow down right boundary\n",
    "            left = left_boundary\n",
    "            right = right_boundary\n",
    "            n = target - numbers[left_boundary]\n",
    "            while left <= right:\n",
    "                middle = (left + right) // 2\n",
    "                if numbers[middle] < n:\n",
    "                    left = middle + 1\n",
    "                elif numbers[middle] > n:\n",
    "                    right = middle - 1\n",
    "                else:\n",
    "                    return [left_boundary + 1, middle + 1]\n",
    "            right_boundary = right\n",
    "            \n",
    "            # fix right boudary, narrow down left boundary\n",
    "            left = left_boundary\n",
    "            n = target - numbers[right_boundary]\n",
    "            while left <= right:\n",
    "                middle = (left + right) // 2\n",
    "                if numbers[middle] < n:\n",
    "                    left = middle + 1\n",
    "                elif numbers[middle] > n:\n",
    "                    right = middle - 1\n",
    "                else:\n",
    "                    return [middle + 1, right_boundary + 1]\n",
    "            left_boundary = left"
   ]
  },
  {
   "cell_type": "code",
   "execution_count": 2,
   "metadata": {},
   "outputs": [
    {
     "name": "stdout",
     "output_type": "stream",
     "text": [
      "[1, 2]\n",
      "[1, 3]\n",
      "[1, 2]\n",
      "[3, 6]\n"
     ]
    }
   ],
   "source": [
    "s = Solution()\n",
    "print(s.twoSum([2,7,11,15], 9))\n",
    "print(s.twoSum([2,3,4], 6))\n",
    "print(s.twoSum([-1,0], -1))\n",
    "print(s.twoSum([0,1,10,12,20,100], 110))"
   ]
  },
  {
   "cell_type": "code",
   "execution_count": 3,
   "metadata": {},
   "outputs": [
    {
     "data": {
      "text/markdown": [
       "😃 Result: Accepted\n",
       "\n",
       "📥 Input: ``\n",
       "\n",
       "📤 Output: ``\n",
       "\n",
       "✅ Expected: ``\n",
       "\n",
       "💯 Passed Test Case: 19 / 19\n",
       "\n",
       "🚀 Runtime: 60 ms, Memory: 14.8 MB\n",
       "\n",
       "🉑 Runtime Percentile: better than 85.59%, Memory Percentile: better than 33.09%\n",
       "\n",
       "📆 Finished At: 2021-07-30"
      ],
      "text/plain": [
       "<IPython.core.display.Markdown object>"
      ]
     },
     "metadata": {},
     "output_type": "display_data"
    }
   ],
   "source": [
    "import sys, os; sys.path.append(os.path.abspath('..'))\n",
    "from submitter import submit\n",
    "submit(167)"
   ]
  }
 ],
 "metadata": {
  "authors": [
   {
    "name": "Soros Liu"
   }
  ],
  "kernelspec": {
   "display_name": "Python 3",
   "language": "python",
   "name": "python3"
  },
  "language_info": {
   "codemirror_mode": {
    "name": "ipython",
    "version": 3
   },
   "file_extension": ".py",
   "mimetype": "text/x-python",
   "name": "python",
   "nbconvert_exporter": "python",
   "pygments_lexer": "ipython3",
   "version": "3.8.6"
  },
  "leetcode_question_info": {
   "sampleTestCase": "[2,7,11,15]\n9",
   "submitUrl": "/problems/two-sum-ii-input-array-is-sorted/submit/"
  }
 },
 "nbformat": 4,
 "nbformat_minor": 2
}
