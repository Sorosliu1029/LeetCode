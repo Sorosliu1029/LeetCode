{
 "cells": [
  {
   "cell_type": "markdown",
   "metadata": {},
   "source": [
    "### 153. Find Minimum in Rotated Sorted Array"
   ]
  },
  {
   "cell_type": "markdown",
   "metadata": {},
   "source": [
    "#### Content\n",
    "<p>Suppose an array of length <code>n</code> sorted in ascending order is <strong>rotated</strong> between <code>1</code> and <code>n</code> times. For example, the array <code>nums = [0,1,2,4,5,6,7]</code> might become:</p>\n",
    "\n",
    "<ul>\n",
    "\t<li><code>[4,5,6,7,0,1,2]</code> if it was rotated <code>4</code> times.</li>\n",
    "\t<li><code>[0,1,2,4,5,6,7]</code> if it was rotated <code>7</code> times.</li>\n",
    "</ul>\n",
    "\n",
    "<p>Notice that <strong>rotating</strong> an array <code>[a[0], a[1], a[2], ..., a[n-1]]</code> 1 time results in the array <code>[a[n-1], a[0], a[1], a[2], ..., a[n-2]]</code>.</p>\n",
    "\n",
    "<p>Given the sorted rotated array <code>nums</code> of <strong>unique</strong> elements, return <em>the minimum element of this array</em>.</p>\n",
    "\n",
    "<p>You must write an algorithm that runs in&nbsp;<code>O(log n) time.</code></p>\n",
    "\n",
    "<p>&nbsp;</p>\n",
    "<p><strong>Example 1:</strong></p>\n",
    "\n",
    "<pre>\n",
    "<strong>Input:</strong> nums = [3,4,5,1,2]\n",
    "<strong>Output:</strong> 1\n",
    "<strong>Explanation:</strong> The original array was [1,2,3,4,5] rotated 3 times.\n",
    "</pre>\n",
    "\n",
    "<p><strong>Example 2:</strong></p>\n",
    "\n",
    "<pre>\n",
    "<strong>Input:</strong> nums = [4,5,6,7,0,1,2]\n",
    "<strong>Output:</strong> 0\n",
    "<strong>Explanation:</strong> The original array was [0,1,2,4,5,6,7] and it was rotated 4 times.\n",
    "</pre>\n",
    "\n",
    "<p><strong>Example 3:</strong></p>\n",
    "\n",
    "<pre>\n",
    "<strong>Input:</strong> nums = [11,13,15,17]\n",
    "<strong>Output:</strong> 11\n",
    "<strong>Explanation:</strong> The original array was [11,13,15,17] and it was rotated 4 times. \n",
    "</pre>\n",
    "\n",
    "<p>&nbsp;</p>\n",
    "<p><strong>Constraints:</strong></p>\n",
    "\n",
    "<ul>\n",
    "\t<li><code>n == nums.length</code></li>\n",
    "\t<li><code>1 &lt;= n &lt;= 5000</code></li>\n",
    "\t<li><code>-5000 &lt;= nums[i] &lt;= 5000</code></li>\n",
    "\t<li>All the integers of <code>nums</code> are <strong>unique</strong>.</li>\n",
    "\t<li><code>nums</code> is sorted and rotated between <code>1</code> and <code>n</code> times.</li>\n",
    "</ul>\n"
   ]
  },
  {
   "cell_type": "markdown",
   "metadata": {},
   "source": [
    "#### Difficulty: Medium, AC rate: 46.8%\n",
    "\n",
    "#### Question Tags:\n",
    "- Array\n",
    "- Binary Search\n",
    "\n",
    "#### Links:\n",
    " 🎁 [Question Detail](https://leetcode.com/problems/find-minimum-in-rotated-sorted-array/description/) | 🎉 [Question Solution](https://leetcode.com/problems/find-minimum-in-rotated-sorted-array/solution/) | 💬 [Question Discussion](https://leetcode.com/problems/find-minimum-in-rotated-sorted-array/discuss/?orderBy=most_votes)\n",
    "\n",
    "#### Hints:\n",
    "<details><summary>Hint 0  🔍</summary>Array was originally in ascending order. Now that the array is rotated, there would be a point in the array where there is a small deflection from the increasing sequence. eg. The array would be something like [4, 5, 6, 7, 0, 1, 2].</details>\n",
    "<details><summary>Hint 1  🔍</summary>You can divide the search space into two and see which direction to go.\n",
    "Can you think of an algorithm which has O(logN) search complexity?</details>\n",
    "<details><summary>Hint 2  🔍</summary><ol>\n",
    "<li>All the elements to the left of inflection point > first element of the array.</li>\n",
    "<li>All the elements to the right of inflection point < first element of the array.</li>\n",
    "<ol></details>\n"
   ]
  },
  {
   "cell_type": "markdown",
   "metadata": {},
   "source": [
    "#### Sample Test Case\n",
    "[3,4,5,1,2]"
   ]
  },
  {
   "cell_type": "markdown",
   "metadata": {},
   "source": [
    "---\n",
    "What's your idea?\n",
    "\n",
    "观察左右半区的特点，由于旋转保持了整体的排序，最小值不会在有序的半区\n",
    "\n",
    "利用二分查找的思路，检查中间值和左右边界值的关系：\n",
    "\n",
    "- 中间值小于左边界值：左半区无序，收窄到左半区\n",
    "- 中间值大于右边界值：右半区无序，收窄到右半区\n",
    "- 否则，左右边界框定的区域内已经有序，返回左边界值\n",
    "\n",
    "---"
   ]
  },
  {
   "cell_type": "code",
   "execution_count": 1,
   "metadata": {
    "isSolutionCode": true
   },
   "outputs": [],
   "source": [
    "from typing import List\n",
    "\n",
    "class Solution:\n",
    "    def findMin(self, nums: List[int]) -> int:\n",
    "        if nums[0] <= nums[-1]:\n",
    "            return nums[0]\n",
    "        \n",
    "        left, right = 0, len(nums)-1\n",
    "        while left <= right:\n",
    "            middle = (left + right) // 2\n",
    "            if nums[middle] < nums[left]:\n",
    "                if nums[middle-1] > nums[middle]:\n",
    "                    return nums[middle]\n",
    "                else:\n",
    "                    right = middle - 1\n",
    "            elif nums[middle] > nums[right]:\n",
    "                left = middle + 1\n",
    "            else:\n",
    "                return nums[left]\n",
    "        \n",
    "        return nums[left]"
   ]
  },
  {
   "cell_type": "code",
   "execution_count": 2,
   "metadata": {},
   "outputs": [
    {
     "name": "stdout",
     "output_type": "stream",
     "text": [
      "1\n",
      "0\n",
      "11\n",
      "1\n",
      "0\n"
     ]
    }
   ],
   "source": [
    "s = Solution()\n",
    "print(s.findMin([3,4,5,1,2]))\n",
    "print(s.findMin([4,5,6,7,0,1,2]))\n",
    "print(s.findMin([11,13,15,17]))\n",
    "print(s.findMin([1]))\n",
    "print(s.findMin([7,0,1,2,3,4,5,6]))"
   ]
  },
  {
   "cell_type": "code",
   "execution_count": 3,
   "metadata": {},
   "outputs": [
    {
     "data": {
      "text/markdown": [
       "😃 Result: Accepted\n",
       "\n",
       "📥 Input: ``\n",
       "\n",
       "📤 Output: ``\n",
       "\n",
       "✅ Expected: ``\n",
       "\n",
       "💯 Passed Test Case: 150 / 150\n",
       "\n",
       "🚀 Runtime: 44 ms, Memory: 14.5 MB\n",
       "\n",
       "🉑 Runtime Percentile: better than 38.59%, Memory Percentile: better than 84.66%\n",
       "\n",
       "📆 Finished At: 2021-08-01"
      ],
      "text/plain": [
       "<IPython.core.display.Markdown object>"
      ]
     },
     "metadata": {},
     "output_type": "display_data"
    }
   ],
   "source": [
    "import sys, os; sys.path.append(os.path.abspath('..'))\n",
    "from submitter import submit\n",
    "submit(153)"
   ]
  }
 ],
 "metadata": {
  "authors": [
   {
    "name": "Soros Liu"
   }
  ],
  "kernelspec": {
   "display_name": "Python 3",
   "language": "python",
   "name": "python3"
  },
  "language_info": {
   "codemirror_mode": {
    "name": "ipython",
    "version": 3
   },
   "file_extension": ".py",
   "mimetype": "text/x-python",
   "name": "python",
   "nbconvert_exporter": "python",
   "pygments_lexer": "ipython3",
   "version": "3.8.6"
  },
  "leetcode_question_info": {
   "sampleTestCase": "[3,4,5,1,2]",
   "submitUrl": "/problems/find-minimum-in-rotated-sorted-array/submit/"
  }
 },
 "nbformat": 4,
 "nbformat_minor": 2
}
