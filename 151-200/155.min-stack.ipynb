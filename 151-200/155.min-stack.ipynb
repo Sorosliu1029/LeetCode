{
 "cells": [
  {
   "cell_type": "markdown",
   "metadata": {},
   "source": [
    "### 155. Min Stack"
   ]
  },
  {
   "cell_type": "markdown",
   "metadata": {},
   "source": [
    "#### Content\n",
    "<p>Design a stack that supports push, pop, top, and retrieving the minimum element in constant time.</p>\n",
    "\n",
    "<p>Implement the <code>MinStack</code> class:</p>\n",
    "\n",
    "<ul>\n",
    "\t<li><code>MinStack()</code> initializes the stack object.</li>\n",
    "\t<li><code>void push(val)</code> pushes the element <code>val</code> onto the stack.</li>\n",
    "\t<li><code>void pop()</code> removes the element on the top of the stack.</li>\n",
    "\t<li><code>int top()</code> gets the top element of the stack.</li>\n",
    "\t<li><code>int getMin()</code> retrieves the minimum element in the stack.</li>\n",
    "</ul>\n",
    "\n",
    "<p>&nbsp;</p>\n",
    "<p><strong>Example 1:</strong></p>\n",
    "\n",
    "<pre>\n",
    "<strong>Input</strong>\n",
    "[&quot;MinStack&quot;,&quot;push&quot;,&quot;push&quot;,&quot;push&quot;,&quot;getMin&quot;,&quot;pop&quot;,&quot;top&quot;,&quot;getMin&quot;]\n",
    "[[],[-2],[0],[-3],[],[],[],[]]\n",
    "\n",
    "<strong>Output</strong>\n",
    "[null,null,null,null,-3,null,0,-2]\n",
    "\n",
    "<strong>Explanation</strong>\n",
    "MinStack minStack = new MinStack();\n",
    "minStack.push(-2);\n",
    "minStack.push(0);\n",
    "minStack.push(-3);\n",
    "minStack.getMin(); // return -3\n",
    "minStack.pop();\n",
    "minStack.top();    // return 0\n",
    "minStack.getMin(); // return -2\n",
    "</pre>\n",
    "\n",
    "<p>&nbsp;</p>\n",
    "<p><strong>Constraints:</strong></p>\n",
    "\n",
    "<ul>\n",
    "\t<li><code>-2<sup>31</sup> &lt;= val &lt;= 2<sup>31</sup> - 1</code></li>\n",
    "\t<li>Methods <code>pop</code>, <code>top</code> and <code>getMin</code> operations will always be called on <strong>non-empty</strong> stacks.</li>\n",
    "\t<li>At most <code>3 * 10<sup>4</sup></code> calls will be made to <code>push</code>, <code>pop</code>, <code>top</code>, and <code>getMin</code>.</li>\n",
    "</ul>\n"
   ]
  },
  {
   "cell_type": "markdown",
   "metadata": {},
   "source": [
    "#### Difficulty: Easy, AC rate: 47.6%\n",
    "\n",
    "#### Question Tags:\n",
    "- Stack\n",
    "- Design\n",
    "\n",
    "#### Links:\n",
    " 🎁 [Question Detail](https://leetcode.com/problems/min-stack/description/) | 🎉 [Question Solution](https://leetcode.com/problems/min-stack/solution/) | 💬 [Question Discussion](https://leetcode.com/problems/min-stack/discuss/?orderBy=most_votes)\n",
    "\n",
    "#### Hints:\n",
    "<details><summary>Hint 0  🔍</summary>Consider each node in the stack having a minimum value. (Credits to @aakarshmadhavan)</details>\n"
   ]
  },
  {
   "cell_type": "markdown",
   "metadata": {},
   "source": [
    "#### Sample Test Case\n",
    "[\"MinStack\",\"push\",\"push\",\"push\",\"getMin\",\"pop\",\"top\",\"getMin\"]\n",
    "[[],[-2],[0],[-3],[],[],[],[]]"
   ]
  },
  {
   "cell_type": "markdown",
   "metadata": {},
   "source": [
    "---\n",
    "What's your idea?\n",
    "\n",
    "栈中每个节点都可以暂存该节点入栈时的快照信息。此处的信息是入栈时全局最小值\n",
    "\n",
    "---"
   ]
  },
  {
   "cell_type": "code",
   "execution_count": 1,
   "metadata": {
    "isSolutionCode": true
   },
   "outputs": [],
   "source": [
    "class MinStack:\n",
    "\n",
    "    def __init__(self):\n",
    "        \"\"\"\n",
    "        initialize your data structure here.\n",
    "        \"\"\"\n",
    "        self.stack = [(0, 2**31-1)]\n",
    "\n",
    "    def push(self, val: int) -> None:\n",
    "        self.stack.append((val, min(val, self.stack[-1][1])))\n",
    "\n",
    "    def pop(self) -> None:\n",
    "        self.stack.pop()\n",
    "\n",
    "    def top(self) -> int:\n",
    "        return self.stack[-1][0]\n",
    "\n",
    "    def getMin(self) -> int:\n",
    "        return self.stack[-1][1]\n",
    "\n",
    "\n",
    "# Your MinStack object will be instantiated and called as such:\n",
    "# obj = MinStack()\n",
    "# obj.push(val)\n",
    "# obj.pop()\n",
    "# param_3 = obj.top()\n",
    "# param_4 = obj.getMin()"
   ]
  },
  {
   "cell_type": "code",
   "execution_count": 2,
   "metadata": {},
   "outputs": [
    {
     "data": {
      "text/plain": [
       "[None, None, None, -3, None, 0, -2]"
      ]
     },
     "execution_count": 2,
     "metadata": {},
     "output_type": "execute_result"
    }
   ],
   "source": [
    "ops = [\"MinStack\",\"push\",\"push\",\"push\",\"getMin\",\"pop\",\"top\",\"getMin\"]\n",
    "params = [[],[-2],[0],[-3],[],[],[],[]]\n",
    "\n",
    "stack = MinStack()\n",
    "results = []\n",
    "for op, param in zip(ops[1:], params[1:]):\n",
    "    if op == 'push':\n",
    "        results.append(stack.push(param[0]))\n",
    "    elif op == 'getMin':\n",
    "        results.append(stack.getMin())\n",
    "    elif op == 'pop':\n",
    "        results.append(stack.pop())\n",
    "    elif op == 'top':\n",
    "        results.append(stack.top())\n",
    "\n",
    "results"
   ]
  },
  {
   "cell_type": "code",
   "execution_count": 3,
   "metadata": {},
   "outputs": [
    {
     "data": {
      "text/markdown": [
       "😃 Result: Accepted\n",
       "\n",
       "📥 Input: ``\n",
       "\n",
       "📤 Output: ``\n",
       "\n",
       "✅ Expected: ``\n",
       "\n",
       "💯 Passed Test Case: 31 / 31\n",
       "\n",
       "🚀 Runtime: 64 ms, Memory: 18.5 MB\n",
       "\n",
       "🉑 Runtime Percentile: better than 56.70%, Memory Percentile: better than 19.23%\n",
       "\n",
       "📆 Finished At: 2021-07-27"
      ],
      "text/plain": [
       "<IPython.core.display.Markdown object>"
      ]
     },
     "metadata": {},
     "output_type": "display_data"
    }
   ],
   "source": [
    "import sys, os; sys.path.append(os.path.abspath('..'))\n",
    "from submitter import submit\n",
    "submit(155)"
   ]
  }
 ],
 "metadata": {
  "authors": [
   {
    "name": "Soros Liu"
   }
  ],
  "kernelspec": {
   "display_name": "Python 3",
   "language": "python",
   "name": "python3"
  },
  "language_info": {
   "codemirror_mode": {
    "name": "ipython",
    "version": 3
   },
   "file_extension": ".py",
   "mimetype": "text/x-python",
   "name": "python",
   "nbconvert_exporter": "python",
   "pygments_lexer": "ipython3",
   "version": "3.8.6"
  },
  "leetcode_question_info": {
   "sampleTestCase": "[\"MinStack\",\"push\",\"push\",\"push\",\"getMin\",\"pop\",\"top\",\"getMin\"]\n[[],[-2],[0],[-3],[],[],[],[]]",
   "submitUrl": "/problems/min-stack/submit/"
  }
 },
 "nbformat": 4,
 "nbformat_minor": 2
}
