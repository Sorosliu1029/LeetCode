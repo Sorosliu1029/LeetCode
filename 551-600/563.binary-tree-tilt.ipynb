{
  "cells": [
    {
      "cell_type": "markdown",
      "metadata": {},
      "source": [
        "### 563. Binary Tree Tilt"
      ]
    },
    {
      "cell_type": "markdown",
      "metadata": {},
      "source": [
        "#### Content\n",
        "<p>Given the <code>root</code> of a binary tree, return <em>the sum of every tree node&#39;s <strong>tilt</strong>.</em></p>\n",
        "\n",
        "<p>The <strong>tilt</strong> of a tree node is the <strong>absolute difference</strong> between the sum of all left subtree node <strong>values</strong> and all right subtree node <strong>values</strong>. If a node does not have a left child, then the sum of the left subtree node <strong>values</strong> is treated as <code>0</code>. The rule is similar if the node does not have a right child.</p>\n",
        "\n",
        "<p>&nbsp;</p>\n",
        "<p><strong>Example 1:</strong></p>\n",
        "<img alt=\"\" src=\"https://assets.leetcode.com/uploads/2020/10/20/tilt1.jpg\" style=\"width: 712px; height: 182px;\" />\n",
        "<pre>\n",
        "<strong>Input:</strong> root = [1,2,3]\n",
        "<strong>Output:</strong> 1\n",
        "<strong>Explanation:</strong> \n",
        "Tilt of node 2 : |0-0| = 0 (no children)\n",
        "Tilt of node 3 : |0-0| = 0 (no children)\n",
        "Tilt of node 1 : |2-3| = 1 (left subtree is just left child, so sum is 2; right subtree is just right child, so sum is 3)\n",
        "Sum of every tilt : 0 + 0 + 1 = 1\n",
        "</pre>\n",
        "\n",
        "<p><strong>Example 2:</strong></p>\n",
        "<img alt=\"\" src=\"https://assets.leetcode.com/uploads/2020/10/20/tilt2.jpg\" style=\"width: 800px; height: 203px;\" />\n",
        "<pre>\n",
        "<strong>Input:</strong> root = [4,2,9,3,5,null,7]\n",
        "<strong>Output:</strong> 15\n",
        "<strong>Explanation:</strong> \n",
        "Tilt of node 3 : |0-0| = 0 (no children)\n",
        "Tilt of node 5 : |0-0| = 0 (no children)\n",
        "Tilt of node 7 : |0-0| = 0 (no children)\n",
        "Tilt of node 2 : |3-5| = 2 (left subtree is just left child, so sum is 3; right subtree is just right child, so sum is 5)\n",
        "Tilt of node 9 : |0-7| = 7 (no left child, so sum is 0; right subtree is just right child, so sum is 7)\n",
        "Tilt of node 4 : |(3+5+2)-(9+7)| = |10-16| = 6 (left subtree values are 3, 5, and 2, which sums to 10; right subtree values are 9 and 7, which sums to 16)\n",
        "Sum of every tilt : 0 + 0 + 0 + 2 + 7 + 6 = 15\n",
        "</pre>\n",
        "\n",
        "<p><strong>Example 3:</strong></p>\n",
        "<img alt=\"\" src=\"https://assets.leetcode.com/uploads/2020/10/20/tilt3.jpg\" style=\"width: 800px; height: 293px;\" />\n",
        "<pre>\n",
        "<strong>Input:</strong> root = [21,7,14,1,1,2,2,3,3]\n",
        "<strong>Output:</strong> 9\n",
        "</pre>\n",
        "\n",
        "<p>&nbsp;</p>\n",
        "<p><strong>Constraints:</strong></p>\n",
        "\n",
        "<ul>\n",
        "\t<li>The number of nodes in the tree is in the range <code>[0, 10<sup>4</sup>]</code>.</li>\n",
        "\t<li><code>-1000 &lt;= Node.val &lt;= 1000</code></li>\n",
        "</ul>\n"
      ]
    },
    {
      "cell_type": "markdown",
      "metadata": {},
      "source": [
        "#### Difficulty: Easy, AC rate: 58.2%\n",
        "\n",
        "#### Question Tags:\n",
        "- Tree\n",
        "- Depth-First Search\n",
        "- Binary Tree\n",
        "\n",
        "#### Links:\n",
        " 🎁 [Question Detail](https://leetcode.com/problems/binary-tree-tilt/description/) | 🎉 [Question Solution](https://leetcode.com/problems/binary-tree-tilt/solution/) | 💬 [Question Discussion](https://leetcode.com/problems/binary-tree-tilt/discuss/?orderBy=most_votes)\n",
        "\n",
        "#### Hints:\n",
        "<details><summary>Hint 0  🔍</summary>Don't think too much, this is an easy problem. Take some small tree as an example.</details>\n",
        "<details><summary>Hint 1  🔍</summary>Can a parent node use the values of its child nodes? How will you implement it?</details>\n",
        "<details><summary>Hint 2  🔍</summary>May be recursion and tree traversal can help you in implementing.</details>\n",
        "<details><summary>Hint 3  🔍</summary>What about postorder traversal, using values of left and right childs?</details>\n"
      ]
    },
    {
      "cell_type": "markdown",
      "metadata": {},
      "source": [
        "#### Sample Test Case\n",
        "[1,2,3]"
      ]
    },
    {
      "cell_type": "markdown",
      "metadata": {},
      "source": [
        "---\n",
        "What's your idea?\n",
        "\n",
        "DFS, 后序遍历\n",
        "\n",
        "---"
      ]
    },
    {
      "cell_type": "code",
      "execution_count": 14,
      "metadata": {
        "isSolutionCode": true
      },
      "outputs": [],
      "source": [
        "from typing import Optional\n",
        "# Definition for a binary tree node.\n",
        "class TreeNode:\n",
        "    def __init__(self, val=0, left=None, right=None):\n",
        "        self.val = val\n",
        "        self.left = left\n",
        "        self.right = right\n",
        "\n",
        "class Solution:\n",
        "    def findTilt(self, root: Optional[TreeNode]) -> int:\n",
        "        return self.recur(root)[1]\n",
        "        \n",
        "    def recur(self, node):\n",
        "        if node is None:\n",
        "            return (0, 0)\n",
        "        left_sum, left_tilt = self.recur(node.left)\n",
        "        right_sum, right_tilt = self.recur(node.right)\n",
        "        return (left_sum + right_sum + node.val, abs(left_sum - right_sum) + left_tilt + right_tilt)"
      ]
    },
    {
      "cell_type": "code",
      "execution_count": 18,
      "metadata": {},
      "outputs": [],
      "source": [
        "from helper import array_to_tree\n",
        "s = Solution()\n",
        "\n",
        "t = array_to_tree([1,2,3])\n",
        "assert s.findTilt(t) == 1\n",
        "\n",
        "t = array_to_tree([4,2,9,3,5,None,7])\n",
        "assert s.findTilt(t) == 15\n",
        "\n",
        "t = array_to_tree([21,7,14,1,1,2,2,3,3])\n",
        "assert s.findTilt(t) == 9\n",
        "\n",
        "t = None\n",
        "assert s.findTilt(t) == 0"
      ]
    },
    {
      "cell_type": "code",
      "execution_count": 19,
      "metadata": {},
      "outputs": [
        {
          "data": {
            "text/markdown": [
              "😃 Result: Accepted\n",
              "\n",
              "📥 Input: ``\n",
              "\n",
              "📤 Output: ``\n",
              "\n",
              "✅ Expected: ``\n",
              "\n",
              "💯 Passed Test Case: 77 / 77\n",
              "\n",
              "🚀 Runtime: 52 ms, Memory: 16.3 MB\n",
              "\n",
              "🉑 Runtime Percentile: better than 95.67%, Memory Percentile: better than 54.79%\n",
              "\n",
              "📆 Finished At: 2022-02-14"
            ],
            "text/plain": [
              "<IPython.core.display.Markdown object>"
            ]
          },
          "metadata": {},
          "output_type": "display_data"
        }
      ],
      "source": [
        "import sys, os; sys.path.append(os.path.abspath('..'))\n",
        "from submitter import submit\n",
        "submit(563)"
      ]
    }
  ],
  "metadata": {
    "authors": [
      {
        "name": "Soros Liu"
      }
    ],
    "kernelspec": {
      "display_name": "Python 3",
      "language": "python",
      "name": "python3"
    },
    "language_info": {
      "codemirror_mode": {
        "name": "ipython",
        "version": 3
      },
      "file_extension": ".py",
      "mimetype": "text/x-python",
      "name": "python",
      "nbconvert_exporter": "python",
      "pygments_lexer": "ipython3",
      "version": "3.8.6"
    },
    "leetcode_question_info": {
      "questionFrontendId": "563",
      "questionId": "563",
      "sampleTestCase": "[1,2,3]",
      "submitUrl": "/problems/binary-tree-tilt/submit/"
    }
  },
  "nbformat": 4,
  "nbformat_minor": 2
}
