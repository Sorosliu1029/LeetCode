{
  "cells": [
    {
      "cell_type": "markdown",
      "metadata": {},
      "source": [
        "### 559. Maximum Depth of N-ary Tree"
      ]
    },
    {
      "cell_type": "markdown",
      "metadata": {},
      "source": [
        "#### Content\n",
        "<p>Given a n-ary tree, find its maximum depth.</p>\n",
        "\n",
        "<p>The maximum depth is the number of nodes along the longest path from the root node down to the farthest leaf node.</p>\n",
        "\n",
        "<p><em>Nary-Tree input serialization is represented in their level order traversal, each group of children is separated by the null value (See examples).</em></p>\n",
        "\n",
        "<p>&nbsp;</p>\n",
        "<p><strong>Example 1:</strong></p>\n",
        "\n",
        "<p><img src=\"https://assets.leetcode.com/uploads/2018/10/12/narytreeexample.png\" style=\"width: 100%; max-width: 300px;\" /></p>\n",
        "\n",
        "<pre>\n",
        "<strong>Input:</strong> root = [1,null,3,2,4,null,5,6]\n",
        "<strong>Output:</strong> 3\n",
        "</pre>\n",
        "\n",
        "<p><strong>Example 2:</strong></p>\n",
        "\n",
        "<p><img alt=\"\" src=\"https://assets.leetcode.com/uploads/2019/11/08/sample_4_964.png\" style=\"width: 296px; height: 241px;\" /></p>\n",
        "\n",
        "<pre>\n",
        "<strong>Input:</strong> root = [1,null,2,3,4,5,null,null,6,7,null,8,null,9,10,null,null,11,null,12,null,13,null,null,14]\n",
        "<strong>Output:</strong> 5\n",
        "</pre>\n",
        "\n",
        "<p>&nbsp;</p>\n",
        "<p><strong>Constraints:</strong></p>\n",
        "\n",
        "<ul>\n",
        "\t<li>The total number of nodes is in the range <code>[0, 10<sup>4</sup>]</code>.</li>\n",
        "\t<li>The depth of the n-ary tree is less than or equal to <code>1000</code>.</li>\n",
        "</ul>\n"
      ]
    },
    {
      "cell_type": "markdown",
      "metadata": {},
      "source": [
        "#### Difficulty: Easy, AC rate: 70.7%\n",
        "\n",
        "#### Question Tags:\n",
        "- Tree\n",
        "- Depth-First Search\n",
        "- Breadth-First Search\n",
        "\n",
        "#### Links:\n",
        " 🎁 [Question Detail](https://leetcode.com/problems/maximum-depth-of-n-ary-tree/description/) | 🎉 [Question Solution](https://leetcode.com/problems/maximum-depth-of-n-ary-tree/solution/) | 💬 [Question Discussion](https://leetcode.com/problems/maximum-depth-of-n-ary-tree/discuss/?orderBy=most_votes)\n",
        "\n",
        "#### Hints:\n"
      ]
    },
    {
      "cell_type": "markdown",
      "metadata": {},
      "source": [
        "#### Sample Test Case\n",
        "[1,null,3,2,4,null,5,6]"
      ]
    },
    {
      "cell_type": "markdown",
      "metadata": {},
      "source": [
        "---\n",
        "What's your idea?\n",
        "\n",
        "DFS\n",
        "\n",
        "---"
      ]
    },
    {
      "cell_type": "code",
      "execution_count": 91,
      "metadata": {
        "isSolutionCode": true
      },
      "outputs": [],
      "source": [
        "# Definition for a Node.\n",
        "class Node:\n",
        "    def __init__(self, val=None, children=None):\n",
        "        self.val = val\n",
        "        self.children = children\n",
        "\n",
        "class Solution:\n",
        "    def maxDepth(self, root: Node) -> int:\n",
        "        if root is None:\n",
        "            return 0\n",
        "        return max([self.maxDepth(child) for child in (root.children or [])], default=0) + 1"
      ]
    },
    {
      "cell_type": "code",
      "execution_count": 93,
      "metadata": {},
      "outputs": [],
      "source": [
        "s = Solution()\n",
        "\n",
        "t = Node(1, [\n",
        "  Node(3, [\n",
        "    Node(5),\n",
        "    Node(6)\n",
        "  ]),\n",
        "  Node(2),\n",
        "  Node(4),\n",
        "])\n",
        "assert s.maxDepth(t) == 3\n",
        "\n",
        "t = Node(1, [\n",
        "  Node(2),\n",
        "  Node(3, [\n",
        "    Node(6),\n",
        "    Node(7, [\n",
        "      Node(11, [\n",
        "        Node(14),\n",
        "      ])\n",
        "    ]),\n",
        "  ]),\n",
        "  Node(4, [\n",
        "    Node(8, [\n",
        "      Node(12),\n",
        "    ])\n",
        "  ]),\n",
        "  Node(5, [\n",
        "    Node(9, [\n",
        "      Node(13),\n",
        "    ]),\n",
        "    Node(10),\n",
        "  ]),\n",
        "])\n",
        "assert s.maxDepth(t) == 5\n",
        "\n",
        "t = Node(1)\n",
        "assert s.maxDepth(t) == 1\n",
        "\n",
        "t = None\n",
        "assert s.maxDepth(t) == 0"
      ]
    },
    {
      "cell_type": "code",
      "execution_count": 94,
      "metadata": {},
      "outputs": [
        {
          "data": {
            "text/markdown": [
              "😃 Result: Accepted\n",
              "\n",
              "📥 Input: ``\n",
              "\n",
              "📤 Output: ``\n",
              "\n",
              "✅ Expected: ``\n",
              "\n",
              "💯 Passed Test Case: 38 / 38\n",
              "\n",
              "🚀 Runtime: 52 ms, Memory: 16.3 MB\n",
              "\n",
              "🉑 Runtime Percentile: better than 62.73%, Memory Percentile: better than 11.32%\n",
              "\n",
              "📆 Finished At: 2022-02-13"
            ],
            "text/plain": [
              "<IPython.core.display.Markdown object>"
            ]
          },
          "metadata": {},
          "output_type": "display_data"
        }
      ],
      "source": [
        "import sys, os; sys.path.append(os.path.abspath('..'))\n",
        "from submitter import submit\n",
        "submit(559)"
      ]
    }
  ],
  "metadata": {
    "authors": [
      {
        "name": "Soros Liu"
      }
    ],
    "kernelspec": {
      "display_name": "Python 3",
      "language": "python",
      "name": "python3"
    },
    "language_info": {
      "codemirror_mode": {
        "name": "ipython",
        "version": 3
      },
      "file_extension": ".py",
      "mimetype": "text/x-python",
      "name": "python",
      "nbconvert_exporter": "python",
      "pygments_lexer": "ipython3",
      "version": "3.8.6"
    },
    "leetcode_question_info": {
      "questionFrontendId": "559",
      "questionId": "774",
      "sampleTestCase": "[1,null,3,2,4,null,5,6]",
      "submitUrl": "/problems/maximum-depth-of-n-ary-tree/submit/"
    }
  },
  "nbformat": 4,
  "nbformat_minor": 2
}
