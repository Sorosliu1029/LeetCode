{
  "cells": [
    {
      "cell_type": "markdown",
      "metadata": {},
      "source": [
        "### 590. N-ary Tree Postorder Traversal"
      ]
    },
    {
      "cell_type": "markdown",
      "metadata": {},
      "source": [
        "#### Content\n",
        "<p>Given the <code>root</code> of an n-ary tree, return <em>the postorder traversal of its nodes&#39; values</em>.</p>\n",
        "\n",
        "<p>Nary-Tree input serialization is represented in their level order traversal. Each group of children is separated by the null value (See examples)</p>\n",
        "\n",
        "<p>&nbsp;</p>\n",
        "<p><strong>Example 1:</strong></p>\n",
        "<img src=\"https://assets.leetcode.com/uploads/2018/10/12/narytreeexample.png\" style=\"width: 100%; max-width: 300px;\" />\n",
        "<pre>\n",
        "<strong>Input:</strong> root = [1,null,3,2,4,null,5,6]\n",
        "<strong>Output:</strong> [5,6,3,2,4,1]\n",
        "</pre>\n",
        "\n",
        "<p><strong>Example 2:</strong></p>\n",
        "<img alt=\"\" src=\"https://assets.leetcode.com/uploads/2019/11/08/sample_4_964.png\" style=\"width: 296px; height: 241px;\" />\n",
        "<pre>\n",
        "<strong>Input:</strong> root = [1,null,2,3,4,5,null,null,6,7,null,8,null,9,10,null,null,11,null,12,null,13,null,null,14]\n",
        "<strong>Output:</strong> [2,6,14,11,7,3,12,8,4,13,9,10,5,1]\n",
        "</pre>\n",
        "\n",
        "<p>&nbsp;</p>\n",
        "<p><strong>Constraints:</strong></p>\n",
        "\n",
        "<ul>\n",
        "\t<li>The number of nodes in the tree is in the range <code>[0, 10<sup>4</sup>]</code>.</li>\n",
        "\t<li><code>0 &lt;= Node.val &lt;= 10<sup>4</sup></code></li>\n",
        "\t<li>The height of the n-ary tree is less than or equal to <code>1000</code>.</li>\n",
        "</ul>\n",
        "\n",
        "<p>&nbsp;</p>\n",
        "<p><strong>Follow up:</strong> Recursive solution is trivial, could you do it iteratively?</p>\n"
      ]
    },
    {
      "cell_type": "markdown",
      "metadata": {},
      "source": [
        "#### Difficulty: Easy, AC rate: 75.8%\n",
        "\n",
        "#### Question Tags:\n",
        "- Stack\n",
        "- Tree\n",
        "- Depth-First Search\n",
        "\n",
        "#### Links:\n",
        " 🎁 [Question Detail](https://leetcode.com/problems/n-ary-tree-postorder-traversal/description/) | 🎉 [Question Solution](https://leetcode.com/problems/n-ary-tree-postorder-traversal/solution/) | 💬 [Question Discussion](https://leetcode.com/problems/n-ary-tree-postorder-traversal/discuss/?orderBy=most_votes)\n",
        "\n",
        "#### Hints:\n"
      ]
    },
    {
      "cell_type": "markdown",
      "metadata": {},
      "source": [
        "#### Sample Test Case\n",
        "[1,null,3,2,4,null,5,6]"
      ]
    },
    {
      "cell_type": "markdown",
      "metadata": {},
      "source": [
        "---\n",
        "What's your idea?\n",
        "\n",
        "DFS\n",
        "\n",
        "---"
      ]
    },
    {
      "cell_type": "code",
      "execution_count": 71,
      "metadata": {
        "isSolutionCode": true
      },
      "outputs": [],
      "source": [
        "from typing import List\n",
        "# Definition for a Node.\n",
        "class Node:\n",
        "    def __init__(self, val=None, children=None):\n",
        "        self.val = val\n",
        "        self.children = children\n",
        "\n",
        "class Solution:\n",
        "    def postorder(self, root: Node) -> List[int]:\n",
        "        if root is None:\n",
        "            return []\n",
        "        r = []\n",
        "        for child in (root.children or []):\n",
        "            r += self.postorder(child)\n",
        "        r.append(root.val)\n",
        "        return r"
      ]
    },
    {
      "cell_type": "code",
      "execution_count": 73,
      "metadata": {},
      "outputs": [],
      "source": [
        "s = Solution()\n",
        "\n",
        "t = Node(1, [\n",
        "  Node(3, [\n",
        "    Node(5),\n",
        "    Node(6)\n",
        "  ]),\n",
        "  Node(2),\n",
        "  Node(4),\n",
        "])\n",
        "assert s.postorder(t) == [5,6,3,2,4,1]\n",
        "\n",
        "t = Node(1, [\n",
        "  Node(2),\n",
        "  Node(3, [\n",
        "    Node(6),\n",
        "    Node(7, [\n",
        "      Node(11, [\n",
        "        Node(14),\n",
        "      ])\n",
        "    ]),\n",
        "  ]),\n",
        "  Node(4, [\n",
        "    Node(8, [\n",
        "      Node(12),\n",
        "    ])\n",
        "  ]),\n",
        "  Node(5, [\n",
        "    Node(9, [\n",
        "      Node(13),\n",
        "    ]),\n",
        "    Node(10),\n",
        "  ]),\n",
        "])\n",
        "assert s.postorder(t) == [2,6,14,11,7,3,12,8,4,13,9,10,5,1]"
      ]
    },
    {
      "cell_type": "code",
      "execution_count": 74,
      "metadata": {},
      "outputs": [
        {
          "data": {
            "text/markdown": [
              "😃 Result: Accepted\n",
              "\n",
              "📥 Input: ``\n",
              "\n",
              "📤 Output: ``\n",
              "\n",
              "✅ Expected: ``\n",
              "\n",
              "💯 Passed Test Case: 38 / 38\n",
              "\n",
              "🚀 Runtime: 70 ms, Memory: 16.4 MB\n",
              "\n",
              "🉑 Runtime Percentile: better than 47.41%, Memory Percentile: better than 5.68%\n",
              "\n",
              "📆 Finished At: 2022-02-13"
            ],
            "text/plain": [
              "<IPython.core.display.Markdown object>"
            ]
          },
          "metadata": {},
          "output_type": "display_data"
        }
      ],
      "source": [
        "import sys, os; sys.path.append(os.path.abspath('..'))\n",
        "from submitter import submit\n",
        "submit(590)"
      ]
    }
  ],
  "metadata": {
    "authors": [
      {
        "name": "Soros Liu"
      }
    ],
    "kernelspec": {
      "display_name": "Python 3",
      "language": "python",
      "name": "python3"
    },
    "language_info": {
      "codemirror_mode": {
        "name": "ipython",
        "version": 3
      },
      "file_extension": ".py",
      "mimetype": "text/x-python",
      "name": "python",
      "nbconvert_exporter": "python",
      "pygments_lexer": "ipython3",
      "version": "3.8.6"
    },
    "leetcode_question_info": {
      "questionFrontendId": "590",
      "questionId": "776",
      "sampleTestCase": "[1,null,3,2,4,null,5,6]",
      "submitUrl": "/problems/n-ary-tree-postorder-traversal/submit/"
    }
  },
  "nbformat": 4,
  "nbformat_minor": 2
}
