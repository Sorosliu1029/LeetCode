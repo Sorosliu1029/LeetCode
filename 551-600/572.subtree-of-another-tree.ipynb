{
  "cells": [
    {
      "cell_type": "markdown",
      "metadata": {},
      "source": [
        "### 572. Subtree of Another Tree"
      ]
    },
    {
      "cell_type": "markdown",
      "metadata": {},
      "source": [
        "#### Content\n",
        "<p>Given the roots of two binary trees <code>root</code> and <code>subRoot</code>, return <code>true</code> if there is a subtree of <code>root</code> with the same structure and node values of<code> subRoot</code> and <code>false</code> otherwise.</p>\n",
        "\n",
        "<p>A subtree of a binary tree <code>tree</code> is a tree that consists of a node in <code>tree</code> and all of this node&#39;s descendants. The tree <code>tree</code> could also be considered as a subtree of itself.</p>\n",
        "\n",
        "<p>&nbsp;</p>\n",
        "<p><strong>Example 1:</strong></p>\n",
        "<img alt=\"\" src=\"https://assets.leetcode.com/uploads/2021/04/28/subtree1-tree.jpg\" style=\"width: 532px; height: 400px;\" />\n",
        "<pre>\n",
        "<strong>Input:</strong> root = [3,4,5,1,2], subRoot = [4,1,2]\n",
        "<strong>Output:</strong> true\n",
        "</pre>\n",
        "\n",
        "<p><strong>Example 2:</strong></p>\n",
        "<img alt=\"\" src=\"https://assets.leetcode.com/uploads/2021/04/28/subtree2-tree.jpg\" style=\"width: 502px; height: 458px;\" />\n",
        "<pre>\n",
        "<strong>Input:</strong> root = [3,4,5,1,2,null,null,null,null,0], subRoot = [4,1,2]\n",
        "<strong>Output:</strong> false\n",
        "</pre>\n",
        "\n",
        "<p>&nbsp;</p>\n",
        "<p><strong>Constraints:</strong></p>\n",
        "\n",
        "<ul>\n",
        "\t<li>The number of nodes in the <code>root</code> tree is in the range <code>[1, 2000]</code>.</li>\n",
        "\t<li>The number of nodes in the <code>subRoot</code> tree is in the range <code>[1, 1000]</code>.</li>\n",
        "\t<li><code>-10<sup>4</sup> &lt;= root.val &lt;= 10<sup>4</sup></code></li>\n",
        "\t<li><code>-10<sup>4</sup> &lt;= subRoot.val &lt;= 10<sup>4</sup></code></li>\n",
        "</ul>\n"
      ]
    },
    {
      "cell_type": "markdown",
      "metadata": {},
      "source": [
        "#### Difficulty: Easy, AC rate: 45.2%\n",
        "\n",
        "#### Question Tags:\n",
        "- Tree\n",
        "- Depth-First Search\n",
        "- String Matching\n",
        "- Binary Tree\n",
        "- Hash Function\n",
        "\n",
        "#### Links:\n",
        " 🎁 [Question Detail](https://leetcode.com/problems/subtree-of-another-tree/description/) | 🎉 [Question Solution](https://leetcode.com/problems/subtree-of-another-tree/solution/) | 💬 [Question Discussion](https://leetcode.com/problems/subtree-of-another-tree/discuss/?orderBy=most_votes)\n",
        "\n",
        "#### Hints:\n",
        "<details><summary>Hint 0  🔍</summary>Which approach is better here- recursive or iterative?</details>\n",
        "<details><summary>Hint 1  🔍</summary>If recursive approach is better, can you write recursive function with its parameters?</details>\n",
        "<details><summary>Hint 2  🔍</summary>Two trees <b>s</b> and <b>t</b> are said to be identical if their root values are same and their left and right subtrees are identical. Can you write this in form of recursive formulae?</details>\n",
        "<details><summary>Hint 3  🔍</summary>Recursive formulae can be: \n",
        "isIdentical(s,t)= s.val==t.val AND isIdentical(s.left,t.left) AND isIdentical(s.right,t.right)</details>\n"
      ]
    },
    {
      "cell_type": "markdown",
      "metadata": {},
      "source": [
        "#### Sample Test Case\n",
        "[3,4,5,1,2]\n",
        "[4,1,2]"
      ]
    },
    {
      "cell_type": "markdown",
      "metadata": {},
      "source": [
        "---\n",
        "What's your idea?\n",
        "\n",
        "DFS\n",
        "\n",
        "---"
      ]
    },
    {
      "cell_type": "code",
      "execution_count": 51,
      "metadata": {},
      "outputs": [],
      "source": [
        "from typing import Optional\n",
        "# Definition for a binary tree node.\n",
        "class TreeNode:\n",
        "    def __init__(self, val=0, left=None, right=None):\n",
        "        self.val = val\n",
        "        self.left = left\n",
        "        self.right = right"
      ]
    },
    {
      "cell_type": "code",
      "execution_count": 56,
      "metadata": {
        "isSolutionCode": true
      },
      "outputs": [],
      "source": [
        "class Solution:\n",
        "    def isSubtree(self, root: Optional[TreeNode], subRoot: Optional[TreeNode]) -> bool:\n",
        "        if subRoot is None:\n",
        "            return root is not None\n",
        "        if root is None:\n",
        "            return False\n",
        "        if self.is_same_tree(root, subRoot):\n",
        "            return True\n",
        "        return self.isSubtree(root.left, subRoot) or self.isSubtree(root.right, subRoot)\n",
        "    \n",
        "    def is_same_tree(self, q, p):\n",
        "        if q is None and p is None:\n",
        "            return True\n",
        "        if q is None or p is None:\n",
        "            return False\n",
        "        return q.val == p.val and self.is_same_tree(q.left, p.left) and self.is_same_tree(q.right, p.right)\n"
      ]
    },
    {
      "cell_type": "code",
      "execution_count": 57,
      "metadata": {},
      "outputs": [],
      "source": [
        "from helper import array_to_tree\n",
        "s = Solution()\n",
        "\n",
        "root, subRoot = array_to_tree([3,4,5,1,2]), array_to_tree([4,1,2])\n",
        "assert s.isSubtree(root, subRoot) == True\n",
        "\n",
        "root, subRoot = TreeNode(3,\n",
        "  TreeNode(4,\n",
        "    TreeNode(1),\n",
        "    TreeNode(2,\n",
        "      TreeNode(0)\n",
        "    ),\n",
        "  ),\n",
        "  TreeNode(5),\n",
        "), array_to_tree([4,1,2])\n",
        "assert s.isSubtree(root, subRoot) == False"
      ]
    },
    {
      "cell_type": "code",
      "execution_count": 58,
      "metadata": {},
      "outputs": [
        {
          "data": {
            "text/markdown": [
              "😃 Result: Accepted\n",
              "\n",
              "📥 Input: ``\n",
              "\n",
              "📤 Output: ``\n",
              "\n",
              "✅ Expected: ``\n",
              "\n",
              "💯 Passed Test Case: 182 / 182\n",
              "\n",
              "🚀 Runtime: 133 ms, Memory: 15.2 MB\n",
              "\n",
              "🉑 Runtime Percentile: better than 84.96%, Memory Percentile: better than 54.23%\n",
              "\n",
              "📆 Finished At: 2022-02-23"
            ],
            "text/plain": [
              "<IPython.core.display.Markdown object>"
            ]
          },
          "metadata": {},
          "output_type": "display_data"
        }
      ],
      "source": [
        "import sys, os; sys.path.append(os.path.abspath('..'))\n",
        "from submitter import submit\n",
        "submit(572)"
      ]
    }
  ],
  "metadata": {
    "authors": [
      {
        "name": "Soros Liu"
      }
    ],
    "kernelspec": {
      "display_name": "Python 3",
      "language": "python",
      "name": "python3"
    },
    "language_info": {
      "codemirror_mode": {
        "name": "ipython",
        "version": 3
      },
      "file_extension": ".py",
      "mimetype": "text/x-python",
      "name": "python",
      "nbconvert_exporter": "python",
      "pygments_lexer": "ipython3",
      "version": "3.8.6"
    },
    "leetcode_question_info": {
      "questionFrontendId": "572",
      "questionId": "572",
      "sampleTestCase": "[3,4,5,1,2]\n[4,1,2]",
      "submitUrl": "/problems/subtree-of-another-tree/submit/"
    }
  },
  "nbformat": 4,
  "nbformat_minor": 2
}
