{
  "cells": [
    {
      "cell_type": "markdown",
      "metadata": {},
      "source": [
        "### 404. Sum of Left Leaves"
      ]
    },
    {
      "cell_type": "markdown",
      "metadata": {},
      "source": [
        "#### Content\n",
        "<p>Given the <code>root</code> of a binary tree, return the sum of all left leaves.</p>\n",
        "\n",
        "<p>&nbsp;</p>\n",
        "<p><strong>Example 1:</strong></p>\n",
        "<img alt=\"\" src=\"https://assets.leetcode.com/uploads/2021/04/08/leftsum-tree.jpg\" style=\"width: 277px; height: 302px;\" />\n",
        "<pre>\n",
        "<strong>Input:</strong> root = [3,9,20,null,null,15,7]\n",
        "<strong>Output:</strong> 24\n",
        "<strong>Explanation:</strong> There are two left leaves in the binary tree, with values 9 and 15 respectively.\n",
        "</pre>\n",
        "\n",
        "<p><strong>Example 2:</strong></p>\n",
        "\n",
        "<pre>\n",
        "<strong>Input:</strong> root = [1]\n",
        "<strong>Output:</strong> 0\n",
        "</pre>\n",
        "\n",
        "<p>&nbsp;</p>\n",
        "<p><strong>Constraints:</strong></p>\n",
        "\n",
        "<ul>\n",
        "\t<li>The number of nodes in the tree is in the range <code>[1, 1000]</code>.</li>\n",
        "\t<li><code>-1000 &lt;= Node.val &lt;= 1000</code></li>\n",
        "</ul>\n"
      ]
    },
    {
      "cell_type": "markdown",
      "metadata": {},
      "source": [
        "#### Difficulty: Easy, AC rate: 54.6%\n",
        "\n",
        "#### Question Tags:\n",
        "- Tree\n",
        "- Depth-First Search\n",
        "- Breadth-First Search\n",
        "- Binary Tree\n",
        "\n",
        "#### Links:\n",
        " 🎁 [Question Detail](https://leetcode.com/problems/sum-of-left-leaves/description/) | 🎉 [Question Solution](https://leetcode.com/problems/sum-of-left-leaves/solution/) | 💬 [Question Discussion](https://leetcode.com/problems/sum-of-left-leaves/discuss/?orderBy=most_votes)\n",
        "\n",
        "#### Hints:\n"
      ]
    },
    {
      "cell_type": "markdown",
      "metadata": {},
      "source": [
        "#### Sample Test Case\n",
        "[3,9,20,null,null,15,7]"
      ]
    },
    {
      "cell_type": "markdown",
      "metadata": {},
      "source": [
        "---\n",
        "What's your idea?\n",
        "\n",
        "DFS 递归\n",
        "\n",
        "---"
      ]
    },
    {
      "cell_type": "code",
      "execution_count": 92,
      "metadata": {},
      "outputs": [],
      "source": [
        "from typing import Optional\n",
        "# Definition for a binary tree node.\n",
        "class TreeNode:\n",
        "    def __init__(self, val=0, left=None, right=None):\n",
        "        self.val = val\n",
        "        self.left = left\n",
        "        self.right = right"
      ]
    },
    {
      "cell_type": "code",
      "execution_count": 93,
      "metadata": {
        "isSolutionCode": true
      },
      "outputs": [],
      "source": [
        "class Solution:\n",
        "    def sumOfLeftLeaves(self, root: Optional[TreeNode]) -> int:\n",
        "        return self.recur(root, False)\n",
        "\n",
        "    def recur(self, node, is_left):\n",
        "        if node is None:\n",
        "            return 0\n",
        "        if node.left is None and node.right is None:\n",
        "            return node.val if is_left else 0\n",
        "        return self.recur(node.left, True) + self.recur(node.right, False)"
      ]
    },
    {
      "cell_type": "code",
      "execution_count": 98,
      "metadata": {},
      "outputs": [],
      "source": [
        "from helper import array_to_tree\n",
        "s = Solution()\n",
        "\n",
        "t = array_to_tree([3,9,20,None,None,15,7])\n",
        "assert s.sumOfLeftLeaves(t) == 24\n",
        "\n",
        "t = array_to_tree([1])\n",
        "assert s.sumOfLeftLeaves(t) == 0\n",
        "\n",
        "t = TreeNode(1,\n",
        "  right=TreeNode(2,\n",
        "    right=TreeNode(3)\n",
        "  )\n",
        ")\n",
        "assert s.sumOfLeftLeaves(t) == 0\n",
        "\n",
        "t = TreeNode(1,\n",
        "  right=TreeNode(2,\n",
        "    left=TreeNode(3)\n",
        "  )\n",
        ")\n",
        "assert s.sumOfLeftLeaves(t) == 3"
      ]
    },
    {
      "cell_type": "code",
      "execution_count": 99,
      "metadata": {},
      "outputs": [
        {
          "data": {
            "text/markdown": [
              "😃 Result: Accepted\n",
              "\n",
              "📥 Input: ``\n",
              "\n",
              "📤 Output: ``\n",
              "\n",
              "✅ Expected: ``\n",
              "\n",
              "💯 Passed Test Case: 100 / 100\n",
              "\n",
              "🚀 Runtime: 45 ms, Memory: 14.8 MB\n",
              "\n",
              "🉑 Runtime Percentile: better than 50.21%, Memory Percentile: better than 56.62%\n",
              "\n",
              "📆 Finished At: 2022-02-19"
            ],
            "text/plain": [
              "<IPython.core.display.Markdown object>"
            ]
          },
          "metadata": {},
          "output_type": "display_data"
        }
      ],
      "source": [
        "import sys, os; sys.path.append(os.path.abspath('..'))\n",
        "from submitter import submit\n",
        "submit(404)"
      ]
    }
  ],
  "metadata": {
    "authors": [
      {
        "name": "Soros Liu"
      }
    ],
    "kernelspec": {
      "display_name": "Python 3",
      "language": "python",
      "name": "python3"
    },
    "language_info": {
      "codemirror_mode": {
        "name": "ipython",
        "version": 3
      },
      "file_extension": ".py",
      "mimetype": "text/x-python",
      "name": "python",
      "nbconvert_exporter": "python",
      "pygments_lexer": "ipython3",
      "version": "3.8.6"
    },
    "leetcode_question_info": {
      "questionFrontendId": "404",
      "questionId": "404",
      "sampleTestCase": "[3,9,20,null,null,15,7]",
      "submitUrl": "/problems/sum-of-left-leaves/submit/"
    }
  },
  "nbformat": 4,
  "nbformat_minor": 2
}
