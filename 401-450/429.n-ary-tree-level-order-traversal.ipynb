{
  "cells": [
    {
      "cell_type": "markdown",
      "metadata": {},
      "source": [
        "### 429. N-ary Tree Level Order Traversal"
      ]
    },
    {
      "cell_type": "markdown",
      "metadata": {},
      "source": [
        "#### Content\n",
        "<p>Given an n-ary tree, return the <em>level order</em> traversal of its nodes&#39; values.</p>\n",
        "\n",
        "<p><em>Nary-Tree input serialization is represented in their level order traversal, each group of children is separated by the null value (See examples).</em></p>\n",
        "\n",
        "<p>&nbsp;</p>\n",
        "<p><strong>Example 1:</strong></p>\n",
        "\n",
        "<p><img src=\"https://assets.leetcode.com/uploads/2018/10/12/narytreeexample.png\" style=\"width: 100%; max-width: 300px;\" /></p>\n",
        "\n",
        "<pre>\n",
        "<strong>Input:</strong> root = [1,null,3,2,4,null,5,6]\n",
        "<strong>Output:</strong> [[1],[3,2,4],[5,6]]\n",
        "</pre>\n",
        "\n",
        "<p><strong>Example 2:</strong></p>\n",
        "\n",
        "<p><img alt=\"\" src=\"https://assets.leetcode.com/uploads/2019/11/08/sample_4_964.png\" style=\"width: 296px; height: 241px;\" /></p>\n",
        "\n",
        "<pre>\n",
        "<strong>Input:</strong> root = [1,null,2,3,4,5,null,null,6,7,null,8,null,9,10,null,null,11,null,12,null,13,null,null,14]\n",
        "<strong>Output:</strong> [[1],[2,3,4,5],[6,7,8,9,10],[11,12,13],[14]]\n",
        "</pre>\n",
        "\n",
        "<p>&nbsp;</p>\n",
        "<p><strong>Constraints:</strong></p>\n",
        "\n",
        "<ul>\n",
        "\t<li>The height of the n-ary tree is less than or equal to <code>1000</code></li>\n",
        "\t<li>The total number of nodes is between <code>[0, 10<sup>4</sup>]</code></li>\n",
        "</ul>\n"
      ]
    },
    {
      "cell_type": "markdown",
      "metadata": {},
      "source": [
        "#### Difficulty: Medium, AC rate: 68.6%\n",
        "\n",
        "#### Question Tags:\n",
        "- Tree\n",
        "- Breadth-First Search\n",
        "\n",
        "#### Links:\n",
        " 🎁 [Question Detail](https://leetcode.com/problems/n-ary-tree-level-order-traversal/description/) | 🎉 [Question Solution](https://leetcode.com/problems/n-ary-tree-level-order-traversal/solution/) | 💬 [Question Discussion](https://leetcode.com/problems/n-ary-tree-level-order-traversal/discuss/?orderBy=most_votes)\n",
        "\n",
        "#### Hints:\n"
      ]
    },
    {
      "cell_type": "markdown",
      "metadata": {},
      "source": [
        "#### Sample Test Case\n",
        "[1,null,3,2,4,null,5,6]"
      ]
    },
    {
      "cell_type": "markdown",
      "metadata": {},
      "source": [
        "---\n",
        "What's your idea?\n",
        "\n",
        "和 #102 题思路一样，扩展成 n-ary 而已\n",
        "\n",
        "BFS\n",
        "\n",
        "---"
      ]
    },
    {
      "cell_type": "code",
      "execution_count": 21,
      "metadata": {
        "isSolutionCode": true
      },
      "outputs": [],
      "source": [
        "# Definition for a Node.\n",
        "class Node:\n",
        "    def __init__(self, val=None, children=None):\n",
        "        self.val = val\n",
        "        self.children = children\n",
        "\n",
        "class Solution:\n",
        "    def levelOrder(self, root: Node) -> List[List[int]]:\n",
        "        if root is None:\n",
        "            return []\n",
        "        \n",
        "        levels = []\n",
        "        cur = [root]\n",
        "        while cur:\n",
        "            levels.append([n.val for n in cur])\n",
        "            nxt = []\n",
        "            for n in cur:\n",
        "                if n.children is not None:\n",
        "                    nxt += n.children\n",
        "            cur = nxt\n",
        "        return levels"
      ]
    },
    {
      "cell_type": "code",
      "execution_count": 23,
      "metadata": {},
      "outputs": [
        {
          "name": "stdout",
          "output_type": "stream",
          "text": [
            "[[1], [3, 2, 4], [5, 6]]\n",
            "[[1], [2, 3, 4, 5], [6, 7, 8, 9, 10], [11, 12, 13], [14]]\n"
          ]
        }
      ],
      "source": [
        "s = Solution()\n",
        "\n",
        "t = Node(1, [\n",
        "  Node(3, [\n",
        "    Node(5),\n",
        "    Node(6)\n",
        "  ]),\n",
        "  Node(2),\n",
        "  Node(4),\n",
        "])\n",
        "print(s.levelOrder(t))\n",
        "\n",
        "t = Node(1, [\n",
        "  Node(2),\n",
        "  Node(3, [\n",
        "    Node(6),\n",
        "    Node(7, [\n",
        "      Node(11, [\n",
        "        Node(14),\n",
        "      ])\n",
        "    ]),\n",
        "  ]),\n",
        "  Node(4, [\n",
        "    Node(8, [\n",
        "      Node(12),\n",
        "    ])\n",
        "  ]),\n",
        "  Node(5, [\n",
        "    Node(9, [\n",
        "      Node(13),\n",
        "    ]),\n",
        "    Node(10),\n",
        "  ]),\n",
        "])\n",
        "print(s.levelOrder(t))"
      ]
    },
    {
      "cell_type": "code",
      "execution_count": 24,
      "metadata": {},
      "outputs": [
        {
          "data": {
            "text/markdown": [
              "😃 Result: Accepted\n",
              "\n",
              "📥 Input: ``\n",
              "\n",
              "📤 Output: ``\n",
              "\n",
              "✅ Expected: ``\n",
              "\n",
              "💯 Passed Test Case: 38 / 38\n",
              "\n",
              "🚀 Runtime: 56 ms, Memory: 16 MB\n",
              "\n",
              "🉑 Runtime Percentile: better than 73.25%, Memory Percentile: better than 90.88%\n",
              "\n",
              "📆 Finished At: 2022-02-13"
            ],
            "text/plain": [
              "<IPython.core.display.Markdown object>"
            ]
          },
          "metadata": {},
          "output_type": "display_data"
        }
      ],
      "source": [
        "import sys, os; sys.path.append(os.path.abspath('..'))\n",
        "from submitter import submit\n",
        "submit(429)"
      ]
    }
  ],
  "metadata": {
    "authors": [
      {
        "name": "Soros Liu"
      }
    ],
    "kernelspec": {
      "display_name": "Python 3",
      "language": "python",
      "name": "python3"
    },
    "language_info": {
      "codemirror_mode": {
        "name": "ipython",
        "version": 3
      },
      "file_extension": ".py",
      "mimetype": "text/x-python",
      "name": "python",
      "nbconvert_exporter": "python",
      "pygments_lexer": "ipython3",
      "version": "3.8.6"
    },
    "leetcode_question_info": {
      "questionFrontendId": "429",
      "questionId": "764",
      "sampleTestCase": "[1,null,3,2,4,null,5,6]",
      "submitUrl": "/problems/n-ary-tree-level-order-traversal/submit/"
    }
  },
  "nbformat": 4,
  "nbformat_minor": 2
}
