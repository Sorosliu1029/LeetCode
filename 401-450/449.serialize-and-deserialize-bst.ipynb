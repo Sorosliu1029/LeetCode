{
  "cells": [
    {
      "cell_type": "markdown",
      "metadata": {},
      "source": [
        "### 449. Serialize and Deserialize BST"
      ]
    },
    {
      "cell_type": "markdown",
      "metadata": {},
      "source": [
        "#### Content\n",
        "<p>Serialization is converting a data structure or object into a sequence of bits so that it can be stored in a file or memory buffer, or transmitted across a network connection link to be reconstructed later in the same or another computer environment.</p>\n",
        "\n",
        "<p>Design an algorithm to serialize and deserialize a <b>binary search tree</b>. There is no restriction on how your serialization/deserialization algorithm should work. You need to ensure that a binary search tree can be serialized to a string, and this string can be deserialized to the original tree structure.</p>\n",
        "\n",
        "<p><b>The encoded string should be as compact as possible.</b></p>\n",
        "\n",
        "<p>&nbsp;</p>\n",
        "<p><strong>Example 1:</strong></p>\n",
        "<pre><strong>Input:</strong> root = [2,1,3]\n",
        "<strong>Output:</strong> [2,1,3]\n",
        "</pre><p><strong>Example 2:</strong></p>\n",
        "<pre><strong>Input:</strong> root = []\n",
        "<strong>Output:</strong> []\n",
        "</pre>\n",
        "<p>&nbsp;</p>\n",
        "<p><strong>Constraints:</strong></p>\n",
        "\n",
        "<ul>\n",
        "\t<li>The number of nodes in the tree is in the range <code>[0, 10<sup>4</sup>]</code>.</li>\n",
        "\t<li><code>0 &lt;= Node.val &lt;= 10<sup>4</sup></code></li>\n",
        "\t<li>The input tree is <strong>guaranteed</strong> to be a binary search tree.</li>\n",
        "</ul>\n"
      ]
    },
    {
      "cell_type": "markdown",
      "metadata": {},
      "source": [
        "#### Difficulty: Medium, AC rate: 55.9%\n",
        "\n",
        "#### Question Tags:\n",
        "- String\n",
        "- Tree\n",
        "- Depth-First Search\n",
        "- Breadth-First Search\n",
        "- Design\n",
        "- Binary Search Tree\n",
        "- Binary Tree\n",
        "\n",
        "#### Links:\n",
        " 🎁 [Question Detail](https://leetcode.com/problems/serialize-and-deserialize-bst/description/) | 🎉 [Question Solution](https://leetcode.com/problems/serialize-and-deserialize-bst/solution/) | 💬 [Question Discussion](https://leetcode.com/problems/serialize-and-deserialize-bst/discuss/?orderBy=most_votes)\n",
        "\n",
        "#### Hints:\n"
      ]
    },
    {
      "cell_type": "markdown",
      "metadata": {},
      "source": [
        "#### Sample Test Case\n",
        "[2,1,3]"
      ]
    },
    {
      "cell_type": "markdown",
      "metadata": {},
      "source": [
        "---\n",
        "What's your idea?\n",
        "\n",
        "同 #297 题, BFS\n",
        "\n",
        "---"
      ]
    },
    {
      "cell_type": "code",
      "execution_count": 3,
      "metadata": {},
      "outputs": [],
      "source": [
        "from typing import Optional\n",
        "# Definition for a binary tree node.\n",
        "class TreeNode:\n",
        "    def __init__(self, x):\n",
        "        self.val = x\n",
        "        self.left = None\n",
        "        self.right = None"
      ]
    },
    {
      "cell_type": "code",
      "execution_count": 4,
      "metadata": {
        "isSolutionCode": true
      },
      "outputs": [],
      "source": [
        "class Codec:\n",
        "\n",
        "    def serialize(self, root: Optional[TreeNode]) -> str:\n",
        "        \"\"\"Encodes a tree to a single string.\n",
        "        \"\"\"\n",
        "        if root is None:\n",
        "            return ''\n",
        "        r = ''\n",
        "        cur = [root]\n",
        "        while cur:\n",
        "            nxt = []\n",
        "            for n in cur:\n",
        "                if n:\n",
        "                    nxt += [n.left, n.right]\n",
        "            if not nxt:\n",
        "                break\n",
        "            r += (','.join([str(n.val) if n else 'N' for n in cur]) + '#')\n",
        "            cur = nxt\n",
        "        return r\n",
        "        \n",
        "\n",
        "    def deserialize(self, data: str) -> Optional[TreeNode]:\n",
        "        \"\"\"Decodes your encoded data to tree.\n",
        "        \"\"\"\n",
        "        if not data:\n",
        "            return None\n",
        "        levels = data.split('#')\n",
        "        root = TreeNode(int(levels[0]))\n",
        "        prev = [root]\n",
        "        for level in levels[1:-1]:\n",
        "            vals = level.split(',')\n",
        "            cur = []\n",
        "            for idx, n in enumerate(prev):\n",
        "                n.left = TreeNode(int(vals[2*idx])) if vals[2*idx] != 'N' else None\n",
        "                if n.left:\n",
        "                    cur.append(n.left)\n",
        "                n.right = TreeNode(int(vals[2*idx+1])) if vals[2*idx+1] != 'N' else None\n",
        "                if n.right:\n",
        "                    cur.append(n.right)\n",
        "            prev = cur\n",
        "        return root"
      ]
    },
    {
      "cell_type": "code",
      "execution_count": 5,
      "metadata": {},
      "outputs": [
        {
          "data": {
            "image/svg+xml": "<?xml version=\"1.0\" encoding=\"UTF-8\" standalone=\"no\"?>\n<!DOCTYPE svg PUBLIC \"-//W3C//DTD SVG 1.1//EN\"\n \"http://www.w3.org/Graphics/SVG/1.1/DTD/svg11.dtd\">\n<!-- Generated by graphviz version 2.48.0 (20210717.2242)\n -->\n<!-- Pages: 1 -->\n<svg width=\"124pt\" height=\"116pt\"\n viewBox=\"0.00 0.00 124.00 116.00\" xmlns=\"http://www.w3.org/2000/svg\" xmlns:xlink=\"http://www.w3.org/1999/xlink\">\n<g id=\"graph0\" class=\"graph\" transform=\"scale(1 1) rotate(0) translate(4 112)\">\n<polygon fill=\"white\" stroke=\"transparent\" points=\"-4,4 -4,-112 120,-112 120,4 -4,4\"/>\n<!-- 0x7efd07311880 -->\n<g id=\"node1\" class=\"node\">\n<title>0x7efd07311880</title>\n<ellipse fill=\"none\" stroke=\"black\" cx=\"58\" cy=\"-90\" rx=\"18\" ry=\"18\"/>\n<text text-anchor=\"middle\" x=\"58\" y=\"-86.3\" font-family=\"Times,serif\" font-size=\"14.00\">2</text>\n</g>\n<!-- 0x7efd07311a90 -->\n<g id=\"node2\" class=\"node\">\n<title>0x7efd07311a90</title>\n<ellipse fill=\"none\" stroke=\"black\" cx=\"18\" cy=\"-18\" rx=\"18\" ry=\"18\"/>\n<text text-anchor=\"middle\" x=\"18\" y=\"-14.3\" font-family=\"Times,serif\" font-size=\"14.00\">1</text>\n</g>\n<!-- 0x7efd07311880&#45;&gt;0x7efd07311a90 -->\n<g id=\"edge1\" class=\"edge\">\n<title>0x7efd07311880&#45;&gt;0x7efd07311a90</title>\n<path fill=\"none\" stroke=\"black\" d=\"M49.32,-73.81C44.18,-64.82 37.56,-53.23 31.73,-43.03\"/>\n<polygon fill=\"black\" stroke=\"black\" points=\"34.66,-41.11 26.66,-34.16 28.59,-44.58 34.66,-41.11\"/>\n</g>\n<!-- 0x7efd07311880invis_m -->\n<!-- 0x7efd07311880&#45;&gt;0x7efd07311880invis_m -->\n<!-- 0x7efd07311be0 -->\n<g id=\"node4\" class=\"node\">\n<title>0x7efd07311be0</title>\n<ellipse fill=\"none\" stroke=\"black\" cx=\"98\" cy=\"-18\" rx=\"18\" ry=\"18\"/>\n<text text-anchor=\"middle\" x=\"98\" y=\"-14.3\" font-family=\"Times,serif\" font-size=\"14.00\">3</text>\n</g>\n<!-- 0x7efd07311880&#45;&gt;0x7efd07311be0 -->\n<g id=\"edge3\" class=\"edge\">\n<title>0x7efd07311880&#45;&gt;0x7efd07311be0</title>\n<path fill=\"none\" stroke=\"black\" d=\"M66.68,-73.81C71.82,-64.82 78.44,-53.23 84.27,-43.03\"/>\n<polygon fill=\"black\" stroke=\"black\" points=\"87.41,-44.58 89.34,-34.16 81.34,-41.11 87.41,-44.58\"/>\n</g>\n</g>\n</svg>\n",
            "text/plain": [
              "<graphviz.dot.Digraph at 0x7efd07311850>"
            ]
          },
          "metadata": {},
          "output_type": "display_data"
        }
      ],
      "source": [
        "from helper import array_to_tree\n",
        "from visualizer import visualize_binary_tree\n",
        "# Your Codec object will be instantiated and called as such:\n",
        "ser = Codec()\n",
        "deser = Codec()\n",
        "\n",
        "root = array_to_tree([2,1,3])\n",
        "tree = ser.serialize(root)\n",
        "visualize_binary_tree(deser.deserialize(tree))"
      ]
    },
    {
      "cell_type": "code",
      "execution_count": 6,
      "metadata": {},
      "outputs": [
        {
          "data": {
            "text/markdown": [
              "😃 Result: Accepted\n",
              "\n",
              "📥 Input: ``\n",
              "\n",
              "📤 Output: ``\n",
              "\n",
              "✅ Expected: ``\n",
              "\n",
              "💯 Passed Test Case: 62 / 62\n",
              "\n",
              "🚀 Runtime: 90 ms, Memory: 18.6 MB\n",
              "\n",
              "🉑 Runtime Percentile: better than 70.84%, Memory Percentile: better than 51.87%\n",
              "\n",
              "📆 Finished At: 2022-02-24"
            ],
            "text/plain": [
              "<IPython.core.display.Markdown object>"
            ]
          },
          "metadata": {},
          "output_type": "display_data"
        }
      ],
      "source": [
        "import sys, os; sys.path.append(os.path.abspath('..'))\n",
        "from submitter import submit\n",
        "submit(449)"
      ]
    }
  ],
  "metadata": {
    "authors": [
      {
        "name": "Soros Liu"
      }
    ],
    "kernelspec": {
      "display_name": "Python 3",
      "language": "python",
      "name": "python3"
    },
    "language_info": {
      "codemirror_mode": {
        "name": "ipython",
        "version": 3
      },
      "file_extension": ".py",
      "mimetype": "text/x-python",
      "name": "python",
      "nbconvert_exporter": "python",
      "pygments_lexer": "ipython3",
      "version": "3.8.6"
    },
    "leetcode_question_info": {
      "questionFrontendId": "449",
      "questionId": "449",
      "sampleTestCase": "[2,1,3]",
      "submitUrl": "/problems/serialize-and-deserialize-bst/submit/"
    }
  },
  "nbformat": 4,
  "nbformat_minor": 2
}
