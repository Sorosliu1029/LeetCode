{
  "cells": [
    {
      "cell_type": "markdown",
      "metadata": {},
      "source": [
        "### 450. Delete Node in a BST"
      ]
    },
    {
      "cell_type": "markdown",
      "metadata": {},
      "source": [
        "#### Content\n",
        "<p>Given a root node reference of a BST and a key, delete the node with the given key in the BST. Return the root node reference (possibly updated) of the BST.</p>\n",
        "\n",
        "<p>Basically, the deletion can be divided into two stages:</p>\n",
        "\n",
        "<ol>\n",
        "\t<li>Search for a node to remove.</li>\n",
        "\t<li>If the node is found, delete the node.</li>\n",
        "</ol>\n",
        "\n",
        "<p>&nbsp;</p>\n",
        "<p><strong>Example 1:</strong></p>\n",
        "<img alt=\"\" src=\"https://assets.leetcode.com/uploads/2020/09/04/del_node_1.jpg\" style=\"width: 800px; height: 214px;\" />\n",
        "<pre>\n",
        "<strong>Input:</strong> root = [5,3,6,2,4,null,7], key = 3\n",
        "<strong>Output:</strong> [5,4,6,2,null,null,7]\n",
        "<strong>Explanation:</strong> Given key to delete is 3. So we find the node with value 3 and delete it.\n",
        "One valid answer is [5,4,6,2,null,null,7], shown in the above BST.\n",
        "Please notice that another valid answer is [5,2,6,null,4,null,7] and it&#39;s also accepted.\n",
        "<img alt=\"\" src=\"https://assets.leetcode.com/uploads/2020/09/04/del_node_supp.jpg\" style=\"width: 350px; height: 255px;\" />\n",
        "</pre>\n",
        "\n",
        "<p><strong>Example 2:</strong></p>\n",
        "\n",
        "<pre>\n",
        "<strong>Input:</strong> root = [5,3,6,2,4,null,7], key = 0\n",
        "<strong>Output:</strong> [5,3,6,2,4,null,7]\n",
        "<strong>Explanation:</strong> The tree does not contain a node with value = 0.\n",
        "</pre>\n",
        "\n",
        "<p><strong>Example 3:</strong></p>\n",
        "\n",
        "<pre>\n",
        "<strong>Input:</strong> root = [], key = 0\n",
        "<strong>Output:</strong> []\n",
        "</pre>\n",
        "\n",
        "<p>&nbsp;</p>\n",
        "<p><strong>Constraints:</strong></p>\n",
        "\n",
        "<ul>\n",
        "\t<li>The number of nodes in the tree is in the range <code>[0, 10<sup>4</sup>]</code>.</li>\n",
        "\t<li><code>-10<sup>5</sup> &lt;= Node.val &lt;= 10<sup>5</sup></code></li>\n",
        "\t<li>Each node has a <strong>unique</strong> value.</li>\n",
        "\t<li><code>root</code> is a valid binary search tree.</li>\n",
        "\t<li><code>-10<sup>5</sup> &lt;= key &lt;= 10<sup>5</sup></code></li>\n",
        "</ul>\n",
        "\n",
        "<p>&nbsp;</p>\n",
        "<p><strong>Follow up:</strong> Could you solve it with time complexity <code>O(height of tree)</code>?</p>\n"
      ]
    },
    {
      "cell_type": "markdown",
      "metadata": {},
      "source": [
        "#### Difficulty: Medium, AC rate: 48.5%\n",
        "\n",
        "#### Question Tags:\n",
        "- Tree\n",
        "- Binary Search Tree\n",
        "- Binary Tree\n",
        "\n",
        "#### Links:\n",
        " 🎁 [Question Detail](https://leetcode.com/problems/delete-node-in-a-bst/description/) | 🎉 [Question Solution](https://leetcode.com/problems/delete-node-in-a-bst/solution/) | 💬 [Question Discussion](https://leetcode.com/problems/delete-node-in-a-bst/discuss/?orderBy=most_votes)\n",
        "\n",
        "#### Hints:\n"
      ]
    },
    {
      "cell_type": "markdown",
      "metadata": {},
      "source": [
        "#### Sample Test Case\n",
        "[5,3,6,2,4,null,7]\n",
        "3"
      ]
    },
    {
      "cell_type": "markdown",
      "metadata": {},
      "source": [
        "---\n",
        "What's your idea?\n",
        "\n",
        "DFS\n",
        "\n",
        "---"
      ]
    },
    {
      "cell_type": "code",
      "execution_count": 59,
      "metadata": {},
      "outputs": [],
      "source": [
        "from typing import Optional\n",
        "# Definition for a binary tree node.\n",
        "class TreeNode:\n",
        "    def __init__(self, val=0, left=None, right=None):\n",
        "        self.val = val\n",
        "        self.left = left\n",
        "        self.right = right"
      ]
    },
    {
      "cell_type": "code",
      "execution_count": 83,
      "metadata": {
        "isSolutionCode": true
      },
      "outputs": [],
      "source": [
        "class Solution:\n",
        "    def deleteNode(self, root: Optional[TreeNode], key: int) -> Optional[TreeNode]:\n",
        "        if root is None:\n",
        "            return None\n",
        "        if root.val > key:\n",
        "            root.left = self.deleteNode(root.left, key)\n",
        "            return root\n",
        "        if root.val < key:\n",
        "            root.right = self.deleteNode(root.right, key)\n",
        "            return root\n",
        "        \n",
        "        return self.right_min_to_root(root)\n",
        "\n",
        "        \n",
        "    def right_min_to_root(self, root):\n",
        "        \"\"\"\n",
        "        move minimum root in right sub tree to root\n",
        "        return new root\n",
        "        \"\"\"\n",
        "        if root.right is None:\n",
        "            return root.left\n",
        "        parent, child = root, root.right\n",
        "        while child.left:\n",
        "            parent = child\n",
        "            child = child.left\n",
        "        root.val = child.val\n",
        "        if child is parent.left:\n",
        "            parent.left = self.right_min_to_root(child)\n",
        "        else:\n",
        "            parent.right = self.right_min_to_root(child)\n",
        "        return root"
      ]
    },
    {
      "cell_type": "code",
      "execution_count": 84,
      "metadata": {},
      "outputs": [
        {
          "data": {
            "image/svg+xml": "<?xml version=\"1.0\" encoding=\"UTF-8\" standalone=\"no\"?>\n<!DOCTYPE svg PUBLIC \"-//W3C//DTD SVG 1.1//EN\"\n \"http://www.w3.org/Graphics/SVG/1.1/DTD/svg11.dtd\">\n<!-- Generated by graphviz version 2.48.0 (20210717.2242)\n -->\n<!-- Pages: 1 -->\n<svg width=\"44pt\" height=\"44pt\"\n viewBox=\"0.00 0.00 44.00 44.00\" xmlns=\"http://www.w3.org/2000/svg\" xmlns:xlink=\"http://www.w3.org/1999/xlink\">\n<g id=\"graph0\" class=\"graph\" transform=\"scale(1 1) rotate(0) translate(4 40)\">\n<polygon fill=\"white\" stroke=\"transparent\" points=\"-4,4 -4,-40 40,-40 40,4 -4,4\"/>\n<!-- 0x7fa6bcee2190 -->\n<g id=\"node1\" class=\"node\">\n<title>0x7fa6bcee2190</title>\n<ellipse fill=\"none\" stroke=\"black\" cx=\"18\" cy=\"-18\" rx=\"18\" ry=\"18\"/>\n<text text-anchor=\"middle\" x=\"18\" y=\"-14.3\" font-family=\"Times,serif\" font-size=\"14.00\">2</text>\n</g>\n</g>\n</svg>\n",
            "text/plain": [
              "<graphviz.dot.Digraph at 0x7fa6bcf395e0>"
            ]
          },
          "metadata": {},
          "output_type": "display_data"
        },
        {
          "data": {
            "image/svg+xml": "<?xml version=\"1.0\" encoding=\"UTF-8\" standalone=\"no\"?>\n<!DOCTYPE svg PUBLIC \"-//W3C//DTD SVG 1.1//EN\"\n \"http://www.w3.org/Graphics/SVG/1.1/DTD/svg11.dtd\">\n<!-- Generated by graphviz version 2.48.0 (20210717.2242)\n -->\n<!-- Pages: 1 -->\n<svg width=\"44pt\" height=\"44pt\"\n viewBox=\"0.00 0.00 44.00 44.00\" xmlns=\"http://www.w3.org/2000/svg\" xmlns:xlink=\"http://www.w3.org/1999/xlink\">\n<g id=\"graph0\" class=\"graph\" transform=\"scale(1 1) rotate(0) translate(4 40)\">\n<polygon fill=\"white\" stroke=\"transparent\" points=\"-4,4 -4,-40 40,-40 40,4 -4,4\"/>\n<!-- 0x7fa6bceff040 -->\n<g id=\"node1\" class=\"node\">\n<title>0x7fa6bceff040</title>\n<ellipse fill=\"none\" stroke=\"black\" cx=\"18\" cy=\"-18\" rx=\"18\" ry=\"18\"/>\n<text text-anchor=\"middle\" x=\"18\" y=\"-14.3\" font-family=\"Times,serif\" font-size=\"14.00\">2</text>\n</g>\n</g>\n</svg>\n",
            "text/plain": [
              "<graphviz.dot.Digraph at 0x7fa6bce52910>"
            ]
          },
          "metadata": {},
          "output_type": "display_data"
        },
        {
          "data": {
            "image/svg+xml": "<?xml version=\"1.0\" encoding=\"UTF-8\" standalone=\"no\"?>\n<!DOCTYPE svg PUBLIC \"-//W3C//DTD SVG 1.1//EN\"\n \"http://www.w3.org/Graphics/SVG/1.1/DTD/svg11.dtd\">\n<!-- Generated by graphviz version 2.48.0 (20210717.2242)\n -->\n<!-- Pages: 1 -->\n<svg width=\"44pt\" height=\"44pt\"\n viewBox=\"0.00 0.00 44.00 44.00\" xmlns=\"http://www.w3.org/2000/svg\" xmlns:xlink=\"http://www.w3.org/1999/xlink\">\n<g id=\"graph0\" class=\"graph\" transform=\"scale(1 1) rotate(0) translate(4 40)\">\n<polygon fill=\"white\" stroke=\"transparent\" points=\"-4,4 -4,-40 40,-40 40,4 -4,4\"/>\n<!-- 0x7fa6bcee2850 -->\n<g id=\"node1\" class=\"node\">\n<title>0x7fa6bcee2850</title>\n<ellipse fill=\"none\" stroke=\"black\" cx=\"18\" cy=\"-18\" rx=\"18\" ry=\"18\"/>\n<text text-anchor=\"middle\" x=\"18\" y=\"-14.3\" font-family=\"Times,serif\" font-size=\"14.00\">1</text>\n</g>\n</g>\n</svg>\n",
            "text/plain": [
              "<graphviz.dot.Digraph at 0x7fa6bce52790>"
            ]
          },
          "metadata": {},
          "output_type": "display_data"
        },
        {
          "data": {
            "image/svg+xml": "<?xml version=\"1.0\" encoding=\"UTF-8\" standalone=\"no\"?>\n<!DOCTYPE svg PUBLIC \"-//W3C//DTD SVG 1.1//EN\"\n \"http://www.w3.org/Graphics/SVG/1.1/DTD/svg11.dtd\">\n<!-- Generated by graphviz version 2.48.0 (20210717.2242)\n -->\n<!-- Pages: 1 -->\n<svg width=\"95pt\" height=\"116pt\"\n viewBox=\"0.00 0.00 94.50 116.00\" xmlns=\"http://www.w3.org/2000/svg\" xmlns:xlink=\"http://www.w3.org/1999/xlink\">\n<g id=\"graph0\" class=\"graph\" transform=\"scale(1 1) rotate(0) translate(4 112)\">\n<polygon fill=\"white\" stroke=\"transparent\" points=\"-4,4 -4,-112 90.5,-112 90.5,4 -4,4\"/>\n<!-- 0x7fa6bcf39d90 -->\n<g id=\"node1\" class=\"node\">\n<title>0x7fa6bcf39d90</title>\n<ellipse fill=\"none\" stroke=\"black\" cx=\"58\" cy=\"-90\" rx=\"18\" ry=\"18\"/>\n<text text-anchor=\"middle\" x=\"58\" y=\"-86.3\" font-family=\"Times,serif\" font-size=\"14.00\">2</text>\n</g>\n<!-- 0x7fa6bcee2bb0 -->\n<g id=\"node2\" class=\"node\">\n<title>0x7fa6bcee2bb0</title>\n<ellipse fill=\"none\" stroke=\"black\" cx=\"18\" cy=\"-18\" rx=\"18\" ry=\"18\"/>\n<text text-anchor=\"middle\" x=\"18\" y=\"-14.3\" font-family=\"Times,serif\" font-size=\"14.00\">1</text>\n</g>\n<!-- 0x7fa6bcf39d90&#45;&gt;0x7fa6bcee2bb0 -->\n<g id=\"edge1\" class=\"edge\">\n<title>0x7fa6bcf39d90&#45;&gt;0x7fa6bcee2bb0</title>\n<path fill=\"none\" stroke=\"black\" d=\"M49.32,-73.81C44.18,-64.82 37.56,-53.23 31.73,-43.03\"/>\n<polygon fill=\"black\" stroke=\"black\" points=\"34.66,-41.11 26.66,-34.16 28.59,-44.58 34.66,-41.11\"/>\n</g>\n<!-- 0x7fa6bcf39d90invis_m -->\n<!-- 0x7fa6bcf39d90&#45;&gt;0x7fa6bcf39d90invis_m -->\n<!-- 0x7fa6bcf39d90invis_r -->\n<!-- 0x7fa6bcf39d90&#45;&gt;0x7fa6bcf39d90invis_r -->\n</g>\n</svg>\n",
            "text/plain": [
              "<graphviz.dot.Digraph at 0x7fa6bda13070>"
            ]
          },
          "metadata": {},
          "output_type": "display_data"
        },
        {
          "data": {
            "image/svg+xml": "<?xml version=\"1.0\" encoding=\"UTF-8\" standalone=\"no\"?>\n<!DOCTYPE svg PUBLIC \"-//W3C//DTD SVG 1.1//EN\"\n \"http://www.w3.org/Graphics/SVG/1.1/DTD/svg11.dtd\">\n<!-- Generated by graphviz version 2.48.0 (20210717.2242)\n -->\n<!-- Pages: 1 -->\n<svg width=\"95pt\" height=\"116pt\"\n viewBox=\"0.00 0.00 94.50 116.00\" xmlns=\"http://www.w3.org/2000/svg\" xmlns:xlink=\"http://www.w3.org/1999/xlink\">\n<g id=\"graph0\" class=\"graph\" transform=\"scale(1 1) rotate(0) translate(4 112)\">\n<polygon fill=\"white\" stroke=\"transparent\" points=\"-4,4 -4,-112 90.5,-112 90.5,4 -4,4\"/>\n<!-- 0x7fa6bcee2190 -->\n<g id=\"node1\" class=\"node\">\n<title>0x7fa6bcee2190</title>\n<ellipse fill=\"none\" stroke=\"black\" cx=\"58\" cy=\"-90\" rx=\"18\" ry=\"18\"/>\n<text text-anchor=\"middle\" x=\"58\" y=\"-86.3\" font-family=\"Times,serif\" font-size=\"14.00\">3</text>\n</g>\n<!-- 0x7fa6bcee2a60 -->\n<g id=\"node2\" class=\"node\">\n<title>0x7fa6bcee2a60</title>\n<ellipse fill=\"none\" stroke=\"black\" cx=\"18\" cy=\"-18\" rx=\"18\" ry=\"18\"/>\n<text text-anchor=\"middle\" x=\"18\" y=\"-14.3\" font-family=\"Times,serif\" font-size=\"14.00\">1</text>\n</g>\n<!-- 0x7fa6bcee2190&#45;&gt;0x7fa6bcee2a60 -->\n<g id=\"edge1\" class=\"edge\">\n<title>0x7fa6bcee2190&#45;&gt;0x7fa6bcee2a60</title>\n<path fill=\"none\" stroke=\"black\" d=\"M49.32,-73.81C44.18,-64.82 37.56,-53.23 31.73,-43.03\"/>\n<polygon fill=\"black\" stroke=\"black\" points=\"34.66,-41.11 26.66,-34.16 28.59,-44.58 34.66,-41.11\"/>\n</g>\n<!-- 0x7fa6bcee2190invis_m -->\n<!-- 0x7fa6bcee2190&#45;&gt;0x7fa6bcee2190invis_m -->\n<!-- 0x7fa6bcee2190invis_r -->\n<!-- 0x7fa6bcee2190&#45;&gt;0x7fa6bcee2190invis_r -->\n</g>\n</svg>\n",
            "text/plain": [
              "<graphviz.dot.Digraph at 0x7fa6bce528b0>"
            ]
          },
          "metadata": {},
          "output_type": "display_data"
        },
        {
          "data": {
            "image/svg+xml": "<?xml version=\"1.0\" encoding=\"UTF-8\" standalone=\"no\"?>\n<!DOCTYPE svg PUBLIC \"-//W3C//DTD SVG 1.1//EN\"\n \"http://www.w3.org/Graphics/SVG/1.1/DTD/svg11.dtd\">\n<!-- Generated by graphviz version 2.48.0 (20210717.2242)\n -->\n<!-- Pages: 1 -->\n<svg width=\"229pt\" height=\"188pt\"\n viewBox=\"0.00 0.00 229.00 188.00\" xmlns=\"http://www.w3.org/2000/svg\" xmlns:xlink=\"http://www.w3.org/1999/xlink\">\n<g id=\"graph0\" class=\"graph\" transform=\"scale(1 1) rotate(0) translate(4 184)\">\n<polygon fill=\"white\" stroke=\"transparent\" points=\"-4,4 -4,-184 225,-184 225,4 -4,4\"/>\n<!-- 0x7fa6bceff040 -->\n<g id=\"node1\" class=\"node\">\n<title>0x7fa6bceff040</title>\n<ellipse fill=\"none\" stroke=\"black\" cx=\"110\" cy=\"-162\" rx=\"18\" ry=\"18\"/>\n<text text-anchor=\"middle\" x=\"110\" y=\"-158.3\" font-family=\"Times,serif\" font-size=\"14.00\">5</text>\n</g>\n<!-- 0x7fa6bcee2d00 -->\n<g id=\"node2\" class=\"node\">\n<title>0x7fa6bcee2d00</title>\n<ellipse fill=\"none\" stroke=\"black\" cx=\"70\" cy=\"-90\" rx=\"18\" ry=\"18\"/>\n<text text-anchor=\"middle\" x=\"70\" y=\"-86.3\" font-family=\"Times,serif\" font-size=\"14.00\">3</text>\n</g>\n<!-- 0x7fa6bceff040&#45;&gt;0x7fa6bcee2d00 -->\n<g id=\"edge1\" class=\"edge\">\n<title>0x7fa6bceff040&#45;&gt;0x7fa6bcee2d00</title>\n<path fill=\"none\" stroke=\"black\" d=\"M101.32,-145.81C96.18,-136.82 89.56,-125.23 83.73,-115.03\"/>\n<polygon fill=\"black\" stroke=\"black\" points=\"86.66,-113.11 78.66,-106.16 80.59,-116.58 86.66,-113.11\"/>\n</g>\n<!-- 0x7fa6bceff040invis_m -->\n<!-- 0x7fa6bceff040&#45;&gt;0x7fa6bceff040invis_m -->\n<!-- 0x7fa6bcee23d0 -->\n<g id=\"node7\" class=\"node\">\n<title>0x7fa6bcee23d0</title>\n<ellipse fill=\"none\" stroke=\"black\" cx=\"150\" cy=\"-90\" rx=\"18\" ry=\"18\"/>\n<text text-anchor=\"middle\" x=\"150\" y=\"-86.3\" font-family=\"Times,serif\" font-size=\"14.00\">6</text>\n</g>\n<!-- 0x7fa6bceff040&#45;&gt;0x7fa6bcee23d0 -->\n<g id=\"edge6\" class=\"edge\">\n<title>0x7fa6bceff040&#45;&gt;0x7fa6bcee23d0</title>\n<path fill=\"none\" stroke=\"black\" d=\"M118.68,-145.81C123.82,-136.82 130.44,-125.23 136.27,-115.03\"/>\n<polygon fill=\"black\" stroke=\"black\" points=\"139.41,-116.58 141.34,-106.16 133.34,-113.11 139.41,-116.58\"/>\n</g>\n<!-- 0x7fa6bcee2dc0 -->\n<g id=\"node3\" class=\"node\">\n<title>0x7fa6bcee2dc0</title>\n<ellipse fill=\"none\" stroke=\"black\" cx=\"18\" cy=\"-18\" rx=\"18\" ry=\"18\"/>\n<text text-anchor=\"middle\" x=\"18\" y=\"-14.3\" font-family=\"Times,serif\" font-size=\"14.00\">2</text>\n</g>\n<!-- 0x7fa6bcee2d00&#45;&gt;0x7fa6bcee2dc0 -->\n<g id=\"edge2\" class=\"edge\">\n<title>0x7fa6bcee2d00&#45;&gt;0x7fa6bcee2dc0</title>\n<path fill=\"none\" stroke=\"black\" d=\"M59.73,-75.17C52.46,-65.39 42.57,-52.08 34.25,-40.87\"/>\n<polygon fill=\"black\" stroke=\"black\" points=\"37.03,-38.74 28.25,-32.8 31.41,-42.92 37.03,-38.74\"/>\n</g>\n<!-- 0x7fa6bcee2d00invis_m -->\n<!-- 0x7fa6bcee2d00&#45;&gt;0x7fa6bcee2d00invis_m -->\n<!-- 0x7fa6bcee2d60 -->\n<g id=\"node5\" class=\"node\">\n<title>0x7fa6bcee2d60</title>\n<ellipse fill=\"none\" stroke=\"black\" cx=\"98\" cy=\"-18\" rx=\"18\" ry=\"18\"/>\n<text text-anchor=\"middle\" x=\"98\" y=\"-14.3\" font-family=\"Times,serif\" font-size=\"14.00\">4</text>\n</g>\n<!-- 0x7fa6bcee2d00&#45;&gt;0x7fa6bcee2d60 -->\n<g id=\"edge4\" class=\"edge\">\n<title>0x7fa6bcee2d00&#45;&gt;0x7fa6bcee2d60</title>\n<path fill=\"none\" stroke=\"black\" d=\"M76.35,-73.12C79.71,-64.73 83.9,-54.24 87.71,-44.73\"/>\n<polygon fill=\"black\" stroke=\"black\" points=\"91.01,-45.89 91.48,-35.31 84.51,-43.29 91.01,-45.89\"/>\n</g>\n<!-- 0x7fa6bcee23d0invis_l -->\n<!-- 0x7fa6bcee23d0&#45;&gt;0x7fa6bcee23d0invis_l -->\n<!-- 0x7fa6bcee23d0invis_m -->\n<!-- 0x7fa6bcee23d0&#45;&gt;0x7fa6bcee23d0invis_m -->\n<!-- 0x7fa6bcee2f40 -->\n<g id=\"node10\" class=\"node\">\n<title>0x7fa6bcee2f40</title>\n<ellipse fill=\"none\" stroke=\"black\" cx=\"203\" cy=\"-18\" rx=\"18\" ry=\"18\"/>\n<text text-anchor=\"middle\" x=\"203\" y=\"-14.3\" font-family=\"Times,serif\" font-size=\"14.00\">7</text>\n</g>\n<!-- 0x7fa6bcee23d0&#45;&gt;0x7fa6bcee2f40 -->\n<g id=\"edge9\" class=\"edge\">\n<title>0x7fa6bcee23d0&#45;&gt;0x7fa6bcee2f40</title>\n<path fill=\"none\" stroke=\"black\" d=\"M160.47,-75.17C167.88,-65.39 177.95,-52.08 186.44,-40.87\"/>\n<polygon fill=\"black\" stroke=\"black\" points=\"189.3,-42.89 192.55,-32.8 183.72,-38.66 189.3,-42.89\"/>\n</g>\n</g>\n</svg>\n",
            "text/plain": [
              "<graphviz.dot.Digraph at 0x7fa6bcee2760>"
            ]
          },
          "metadata": {},
          "output_type": "display_data"
        },
        {
          "data": {
            "image/svg+xml": "<?xml version=\"1.0\" encoding=\"UTF-8\" standalone=\"no\"?>\n<!DOCTYPE svg PUBLIC \"-//W3C//DTD SVG 1.1//EN\"\n \"http://www.w3.org/Graphics/SVG/1.1/DTD/svg11.dtd\">\n<!-- Generated by graphviz version 2.48.0 (20210717.2242)\n -->\n<!-- Pages: 1 -->\n<svg width=\"204pt\" height=\"188pt\"\n viewBox=\"0.00 0.00 204.00 188.00\" xmlns=\"http://www.w3.org/2000/svg\" xmlns:xlink=\"http://www.w3.org/1999/xlink\">\n<g id=\"graph0\" class=\"graph\" transform=\"scale(1 1) rotate(0) translate(4 184)\">\n<polygon fill=\"white\" stroke=\"transparent\" points=\"-4,4 -4,-184 200,-184 200,4 -4,4\"/>\n<!-- 0x7fa6bcee2190 -->\n<g id=\"node1\" class=\"node\">\n<title>0x7fa6bcee2190</title>\n<ellipse fill=\"none\" stroke=\"black\" cx=\"98\" cy=\"-162\" rx=\"18\" ry=\"18\"/>\n<text text-anchor=\"middle\" x=\"98\" y=\"-158.3\" font-family=\"Times,serif\" font-size=\"14.00\">5</text>\n</g>\n<!-- 0x7fa6bcee2e20 -->\n<g id=\"node2\" class=\"node\">\n<title>0x7fa6bcee2e20</title>\n<ellipse fill=\"none\" stroke=\"black\" cx=\"58\" cy=\"-90\" rx=\"18\" ry=\"18\"/>\n<text text-anchor=\"middle\" x=\"58\" y=\"-86.3\" font-family=\"Times,serif\" font-size=\"14.00\">4</text>\n</g>\n<!-- 0x7fa6bcee2190&#45;&gt;0x7fa6bcee2e20 -->\n<g id=\"edge1\" class=\"edge\">\n<title>0x7fa6bcee2190&#45;&gt;0x7fa6bcee2e20</title>\n<path fill=\"none\" stroke=\"black\" d=\"M89.32,-145.81C84.18,-136.82 77.56,-125.23 71.73,-115.03\"/>\n<polygon fill=\"black\" stroke=\"black\" points=\"74.66,-113.11 66.66,-106.16 68.59,-116.58 74.66,-113.11\"/>\n</g>\n<!-- 0x7fa6bcee2190invis_m -->\n<!-- 0x7fa6bcee2190&#45;&gt;0x7fa6bcee2190invis_m -->\n<!-- 0x7fa6bcee2b80 -->\n<g id=\"node7\" class=\"node\">\n<title>0x7fa6bcee2b80</title>\n<ellipse fill=\"none\" stroke=\"black\" cx=\"138\" cy=\"-90\" rx=\"18\" ry=\"18\"/>\n<text text-anchor=\"middle\" x=\"138\" y=\"-86.3\" font-family=\"Times,serif\" font-size=\"14.00\">6</text>\n</g>\n<!-- 0x7fa6bcee2190&#45;&gt;0x7fa6bcee2b80 -->\n<g id=\"edge6\" class=\"edge\">\n<title>0x7fa6bcee2190&#45;&gt;0x7fa6bcee2b80</title>\n<path fill=\"none\" stroke=\"black\" d=\"M106.68,-145.81C111.82,-136.82 118.44,-125.23 124.27,-115.03\"/>\n<polygon fill=\"black\" stroke=\"black\" points=\"127.41,-116.58 129.34,-106.16 121.34,-113.11 127.41,-116.58\"/>\n</g>\n<!-- 0x7fa6bcee2af0 -->\n<g id=\"node3\" class=\"node\">\n<title>0x7fa6bcee2af0</title>\n<ellipse fill=\"none\" stroke=\"black\" cx=\"18\" cy=\"-18\" rx=\"18\" ry=\"18\"/>\n<text text-anchor=\"middle\" x=\"18\" y=\"-14.3\" font-family=\"Times,serif\" font-size=\"14.00\">2</text>\n</g>\n<!-- 0x7fa6bcee2e20&#45;&gt;0x7fa6bcee2af0 -->\n<g id=\"edge2\" class=\"edge\">\n<title>0x7fa6bcee2e20&#45;&gt;0x7fa6bcee2af0</title>\n<path fill=\"none\" stroke=\"black\" d=\"M49.32,-73.81C44.18,-64.82 37.56,-53.23 31.73,-43.03\"/>\n<polygon fill=\"black\" stroke=\"black\" points=\"34.66,-41.11 26.66,-34.16 28.59,-44.58 34.66,-41.11\"/>\n</g>\n<!-- 0x7fa6bcee2e20invis_m -->\n<!-- 0x7fa6bcee2e20&#45;&gt;0x7fa6bcee2e20invis_m -->\n<!-- 0x7fa6bcee2e20invis_r -->\n<!-- 0x7fa6bcee2e20&#45;&gt;0x7fa6bcee2e20invis_r -->\n<!-- 0x7fa6bcee2b80invis_l -->\n<!-- 0x7fa6bcee2b80&#45;&gt;0x7fa6bcee2b80invis_l -->\n<!-- 0x7fa6bcee2b80invis_m -->\n<!-- 0x7fa6bcee2b80&#45;&gt;0x7fa6bcee2b80invis_m -->\n<!-- 0x7fa6bcee2940 -->\n<g id=\"node10\" class=\"node\">\n<title>0x7fa6bcee2940</title>\n<ellipse fill=\"none\" stroke=\"black\" cx=\"178\" cy=\"-18\" rx=\"18\" ry=\"18\"/>\n<text text-anchor=\"middle\" x=\"178\" y=\"-14.3\" font-family=\"Times,serif\" font-size=\"14.00\">7</text>\n</g>\n<!-- 0x7fa6bcee2b80&#45;&gt;0x7fa6bcee2940 -->\n<g id=\"edge9\" class=\"edge\">\n<title>0x7fa6bcee2b80&#45;&gt;0x7fa6bcee2940</title>\n<path fill=\"none\" stroke=\"black\" d=\"M146.68,-73.81C151.82,-64.82 158.44,-53.23 164.27,-43.03\"/>\n<polygon fill=\"black\" stroke=\"black\" points=\"167.41,-44.58 169.34,-34.16 161.34,-41.11 167.41,-44.58\"/>\n</g>\n</g>\n</svg>\n",
            "text/plain": [
              "<graphviz.dot.Digraph at 0x7fa6bcee2bb0>"
            ]
          },
          "metadata": {},
          "output_type": "display_data"
        }
      ],
      "source": [
        "from helper import array_to_tree\n",
        "from visualizer import visualize_binary_tree\n",
        "s = Solution()\n",
        "\n",
        "t = None\n",
        "assert s.deleteNode(t, 0) is None\n",
        "\n",
        "t = array_to_tree([2])\n",
        "assert s.deleteNode(t, 2) is None\n",
        "\n",
        "t = array_to_tree([2])\n",
        "visualize_binary_tree(s.deleteNode(t,1))\n",
        "\n",
        "t = array_to_tree([2,1])\n",
        "visualize_binary_tree(s.deleteNode(t,1))\n",
        "\n",
        "t = array_to_tree([2,1])\n",
        "visualize_binary_tree(s.deleteNode(t,2))\n",
        "\n",
        "t = array_to_tree([2,1,3])\n",
        "visualize_binary_tree(s.deleteNode(t,3))\n",
        "\n",
        "t = array_to_tree([2,1,3])\n",
        "visualize_binary_tree(s.deleteNode(t,2))\n",
        "\n",
        "t = array_to_tree([5,3,6,2,4,None,7])\n",
        "visualize_binary_tree(s.deleteNode(t,0))\n",
        "\n",
        "t = array_to_tree([5,3,6,2,4,None,7])\n",
        "visualize_binary_tree(s.deleteNode(t,3))"
      ]
    },
    {
      "cell_type": "code",
      "execution_count": 85,
      "metadata": {},
      "outputs": [
        {
          "data": {
            "text/markdown": [
              "😃 Result: Accepted\n",
              "\n",
              "📥 Input: ``\n",
              "\n",
              "📤 Output: ``\n",
              "\n",
              "✅ Expected: ``\n",
              "\n",
              "💯 Passed Test Case: 91 / 91\n",
              "\n",
              "🚀 Runtime: 80 ms, Memory: 18.5 MB\n",
              "\n",
              "🉑 Runtime Percentile: better than 77.72%, Memory Percentile: better than 50.59%\n",
              "\n",
              "📆 Finished At: 2022-02-24"
            ],
            "text/plain": [
              "<IPython.core.display.Markdown object>"
            ]
          },
          "metadata": {},
          "output_type": "display_data"
        }
      ],
      "source": [
        "import sys, os; sys.path.append(os.path.abspath('..'))\n",
        "from submitter import submit\n",
        "submit(450)"
      ]
    }
  ],
  "metadata": {
    "authors": [
      {
        "name": "Soros Liu"
      }
    ],
    "kernelspec": {
      "display_name": "Python 3",
      "language": "python",
      "name": "python3"
    },
    "language_info": {
      "codemirror_mode": {
        "name": "ipython",
        "version": 3
      },
      "file_extension": ".py",
      "mimetype": "text/x-python",
      "name": "python",
      "nbconvert_exporter": "python",
      "pygments_lexer": "ipython3",
      "version": "3.8.6"
    },
    "leetcode_question_info": {
      "questionFrontendId": "450",
      "questionId": "450",
      "sampleTestCase": "[5,3,6,2,4,null,7]\n3",
      "submitUrl": "/problems/delete-node-in-a-bst/submit/"
    }
  },
  "nbformat": 4,
  "nbformat_minor": 2
}
