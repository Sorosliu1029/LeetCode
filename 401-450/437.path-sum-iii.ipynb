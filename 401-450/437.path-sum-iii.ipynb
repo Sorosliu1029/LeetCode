{
  "cells": [
    {
      "cell_type": "markdown",
      "metadata": {},
      "source": [
        "### 437. Path Sum III"
      ]
    },
    {
      "cell_type": "markdown",
      "metadata": {},
      "source": [
        "#### Content\n",
        "<p>Given the <code>root</code> of a binary tree and an integer <code>targetSum</code>, return <em>the number of paths where the sum of the values&nbsp;along the path equals</em>&nbsp;<code>targetSum</code>.</p>\n",
        "\n",
        "<p>The path does not need to start or end at the root or a leaf, but it must go downwards (i.e., traveling only from parent nodes to child nodes).</p>\n",
        "\n",
        "<p>&nbsp;</p>\n",
        "<p><strong>Example 1:</strong></p>\n",
        "<img alt=\"\" src=\"https://assets.leetcode.com/uploads/2021/04/09/pathsum3-1-tree.jpg\" style=\"width: 450px; height: 386px;\" />\n",
        "<pre>\n",
        "<strong>Input:</strong> root = [10,5,-3,3,2,null,11,3,-2,null,1], targetSum = 8\n",
        "<strong>Output:</strong> 3\n",
        "<strong>Explanation:</strong> The paths that sum to 8 are shown.\n",
        "</pre>\n",
        "\n",
        "<p><strong>Example 2:</strong></p>\n",
        "\n",
        "<pre>\n",
        "<strong>Input:</strong> root = [5,4,8,11,null,13,4,7,2,null,null,5,1], targetSum = 22\n",
        "<strong>Output:</strong> 3\n",
        "</pre>\n",
        "\n",
        "<p>&nbsp;</p>\n",
        "<p><strong>Constraints:</strong></p>\n",
        "\n",
        "<ul>\n",
        "\t<li>The number of nodes in the tree is in the range <code>[0, 1000]</code>.</li>\n",
        "\t<li><code>-10<sup>9</sup> &lt;= Node.val &lt;= 10<sup>9</sup></code></li>\n",
        "\t<li><code>-1000 &lt;= targetSum &lt;= 1000</code></li>\n",
        "</ul>\n"
      ]
    },
    {
      "cell_type": "markdown",
      "metadata": {},
      "source": [
        "#### Difficulty: Medium, AC rate: 50.1%\n",
        "\n",
        "#### Question Tags:\n",
        "- Tree\n",
        "- Depth-First Search\n",
        "- Binary Tree\n",
        "\n",
        "#### Links:\n",
        " 🎁 [Question Detail](https://leetcode.com/problems/path-sum-iii/description/) | 🎉 [Question Solution](https://leetcode.com/problems/path-sum-iii/solution/) | 💬 [Question Discussion](https://leetcode.com/problems/path-sum-iii/discuss/?orderBy=most_votes)\n",
        "\n",
        "#### Hints:\n"
      ]
    },
    {
      "cell_type": "markdown",
      "metadata": {},
      "source": [
        "#### Sample Test Case\n",
        "[10,5,-3,3,2,null,11,3,-2,null,1]\n",
        "8"
      ]
    },
    {
      "cell_type": "markdown",
      "metadata": {},
      "source": [
        "---\n",
        "What's your idea?\n",
        "\n",
        "DFS\n",
        "\n",
        "判断当前节点的值是否在 `remain` 中，出现一次就表示能构成一个 path\n",
        "\n",
        "---"
      ]
    },
    {
      "cell_type": "code",
      "execution_count": 95,
      "metadata": {},
      "outputs": [],
      "source": [
        "from typing import Optional\n",
        "# Definition for a binary tree node.\n",
        "class TreeNode:\n",
        "    def __init__(self, val=0, left=None, right=None):\n",
        "        self.val = val\n",
        "        self.left = left\n",
        "        self.right = right"
      ]
    },
    {
      "cell_type": "code",
      "execution_count": 107,
      "metadata": {
        "isSolutionCode": true
      },
      "outputs": [],
      "source": [
        "class Solution:\n",
        "    def pathSum(self, root: Optional[TreeNode], targetSum: int) -> int:\n",
        "        cnt = 0\n",
        "\n",
        "        def recur(node, remain):\n",
        "            nonlocal cnt\n",
        "            if node is None:\n",
        "                return\n",
        "            new_remain = []\n",
        "            for r in remain:\n",
        "                if r == node.val:\n",
        "                    cnt += 1\n",
        "                new_remain.append(r-node.val)\n",
        "            new_remain.append(targetSum)\n",
        "            recur(node.left, new_remain)\n",
        "            recur(node.right, new_remain)\n",
        "        \n",
        "        recur(root, [targetSum])\n",
        "        return cnt"
      ]
    },
    {
      "cell_type": "code",
      "execution_count": 109,
      "metadata": {},
      "outputs": [],
      "source": [
        "from helper import array_to_tree\n",
        "s = Solution()\n",
        "\n",
        "t = array_to_tree([1,2])\n",
        "assert s.pathSum(t, 2) == 1\n",
        "\n",
        "t = array_to_tree([0,1,1])\n",
        "assert s.pathSum(t, 1) == 4\n",
        "\n",
        "t = array_to_tree([10,5,-3,3,2,None,11,3,-2,None,1])\n",
        "assert s.pathSum(t, 8) == 3"
      ]
    },
    {
      "cell_type": "code",
      "execution_count": 110,
      "metadata": {},
      "outputs": [
        {
          "data": {
            "text/markdown": [
              "😃 Result: Accepted\n",
              "\n",
              "📥 Input: ``\n",
              "\n",
              "📤 Output: ``\n",
              "\n",
              "✅ Expected: ``\n",
              "\n",
              "💯 Passed Test Case: 126 / 126\n",
              "\n",
              "🚀 Runtime: 312 ms, Memory: 35.1 MB\n",
              "\n",
              "🉑 Runtime Percentile: better than 40.94%, Memory Percentile: better than 7.39%\n",
              "\n",
              "📆 Finished At: 2022-02-24"
            ],
            "text/plain": [
              "<IPython.core.display.Markdown object>"
            ]
          },
          "metadata": {},
          "output_type": "display_data"
        }
      ],
      "source": [
        "import sys, os; sys.path.append(os.path.abspath('..'))\n",
        "from submitter import submit\n",
        "submit(437)"
      ]
    }
  ],
  "metadata": {
    "authors": [
      {
        "name": "Soros Liu"
      }
    ],
    "kernelspec": {
      "display_name": "Python 3",
      "language": "python",
      "name": "python3"
    },
    "language_info": {
      "codemirror_mode": {
        "name": "ipython",
        "version": 3
      },
      "file_extension": ".py",
      "mimetype": "text/x-python",
      "name": "python",
      "nbconvert_exporter": "python",
      "pygments_lexer": "ipython3",
      "version": "3.8.6"
    },
    "leetcode_question_info": {
      "questionFrontendId": "437",
      "questionId": "437",
      "sampleTestCase": "[10,5,-3,3,2,null,11,3,-2,null,1]\n8",
      "submitUrl": "/problems/path-sum-iii/submit/"
    }
  },
  "nbformat": 4,
  "nbformat_minor": 2
}
