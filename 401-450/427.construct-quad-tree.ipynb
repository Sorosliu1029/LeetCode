{
  "cells": [
    {
      "cell_type": "markdown",
      "metadata": {},
      "source": [
        "### 427. Construct Quad Tree"
      ]
    },
    {
      "cell_type": "markdown",
      "metadata": {},
      "source": [
        "#### Content\n",
        "<p>Given a <code>n * n</code> matrix <code>grid</code> of <code>0&#39;s</code> and <code>1&#39;s</code> only. We want to represent the <code>grid</code> with a Quad-Tree.</p>\n",
        "\n",
        "<p>Return <em>the root of the Quad-Tree</em> representing the <code>grid</code>.</p>\n",
        "\n",
        "<p>Notice that you can assign the value of a node to <strong>True</strong> or <strong>False</strong> when <code>isLeaf</code> is <strong>False</strong>, and both are <strong>accepted</strong> in the answer.</p>\n",
        "\n",
        "<p>A Quad-Tree is a tree data structure in which each internal node has exactly four children. Besides, each node has two attributes:</p>\n",
        "\n",
        "<ul>\n",
        "\t<li><code>val</code>: True if the node represents a grid of 1&#39;s or False if the node represents a grid of 0&#39;s.</li>\n",
        "\t<li><code>isLeaf</code>: True if the node is leaf node on the tree or False if the node has the four children.</li>\n",
        "</ul>\n",
        "\n",
        "<pre>\n",
        "class Node {\n",
        "    public boolean val;\n",
        "    public boolean isLeaf;\n",
        "    public Node topLeft;\n",
        "    public Node topRight;\n",
        "    public Node bottomLeft;\n",
        "    public Node bottomRight;\n",
        "}</pre>\n",
        "\n",
        "<p>We can construct a Quad-Tree from a two-dimensional area using the following steps:</p>\n",
        "\n",
        "<ol>\n",
        "\t<li>If the current grid has the same value (i.e all <code>1&#39;s</code> or all <code>0&#39;s</code>) set <code>isLeaf</code> True and set <code>val</code> to the value of the grid and set the four children to Null and stop.</li>\n",
        "\t<li>If the current grid has different values, set <code>isLeaf</code> to False and set <code>val</code> to any value and divide the current grid into four sub-grids as shown in the photo.</li>\n",
        "\t<li>Recurse for each of the children with the proper sub-grid.</li>\n",
        "</ol>\n",
        "<img alt=\"\" src=\"https://assets.leetcode.com/uploads/2020/02/11/new_top.png\" style=\"width: 777px; height: 181px;\" />\n",
        "<p>If you want to know more about the Quad-Tree, you can refer to the <a href=\"https://en.wikipedia.org/wiki/Quadtree\">wiki</a>.</p>\n",
        "\n",
        "<p><strong>Quad-Tree format:</strong></p>\n",
        "\n",
        "<p>The output represents the serialized format of a Quad-Tree using level order traversal, where <code>null</code> signifies a path terminator where no node exists below.</p>\n",
        "\n",
        "<p>It is very similar to the serialization of the binary tree. The only difference is that the node is represented as a list <code>[isLeaf, val]</code>.</p>\n",
        "\n",
        "<p>If the value of <code>isLeaf</code> or <code>val</code> is True we represent it as <strong>1</strong> in the list <code>[isLeaf, val]</code> and if the value of <code>isLeaf</code> or <code>val</code> is False we represent it as <strong>0</strong>.</p>\n",
        "\n",
        "<p>&nbsp;</p>\n",
        "<p><strong>Example 1:</strong></p>\n",
        "<img alt=\"\" src=\"https://assets.leetcode.com/uploads/2020/02/11/grid1.png\" style=\"width: 777px; height: 99px;\" />\n",
        "<pre>\n",
        "<strong>Input:</strong> grid = [[0,1],[1,0]]\n",
        "<strong>Output:</strong> [[0,1],[1,0],[1,1],[1,1],[1,0]]\n",
        "<strong>Explanation:</strong> The explanation of this example is shown below:\n",
        "Notice that 0 represnts False and 1 represents True in the photo representing the Quad-Tree.\n",
        "<img alt=\"\" src=\"https://assets.leetcode.com/uploads/2020/02/12/e1tree.png\" style=\"width: 777px; height: 186px;\" />\n",
        "</pre>\n",
        "\n",
        "<p><strong>Example 2:</strong></p>\n",
        "\n",
        "<p><img alt=\"\" src=\"https://assets.leetcode.com/uploads/2020/02/12/e2mat.png\" style=\"width: 777px; height: 343px;\" /></p>\n",
        "\n",
        "<pre>\n",
        "<strong>Input:</strong> grid = [[1,1,1,1,0,0,0,0],[1,1,1,1,0,0,0,0],[1,1,1,1,1,1,1,1],[1,1,1,1,1,1,1,1],[1,1,1,1,0,0,0,0],[1,1,1,1,0,0,0,0],[1,1,1,1,0,0,0,0],[1,1,1,1,0,0,0,0]]\n",
        "<strong>Output:</strong> [[0,1],[1,1],[0,1],[1,1],[1,0],null,null,null,null,[1,0],[1,0],[1,1],[1,1]]\n",
        "<strong>Explanation:</strong> All values in the grid are not the same. We divide the grid into four sub-grids.\n",
        "The topLeft, bottomLeft and bottomRight each has the same value.\n",
        "The topRight have different values so we divide it into 4 sub-grids where each has the same value.\n",
        "Explanation is shown in the photo below:\n",
        "<img alt=\"\" src=\"https://assets.leetcode.com/uploads/2020/02/12/e2tree.png\" style=\"width: 777px; height: 328px;\" />\n",
        "</pre>\n",
        "\n",
        "<p>&nbsp;</p>\n",
        "<p><strong>Constraints:</strong></p>\n",
        "\n",
        "<ul>\n",
        "\t<li><code>n == grid.length == grid[i].length</code></li>\n",
        "\t<li><code>n == 2<sup>x</sup></code> where <code>0 &lt;= x &lt;= 6</code></li>\n",
        "</ul>\n"
      ]
    },
    {
      "cell_type": "markdown",
      "metadata": {},
      "source": [
        "#### Difficulty: Medium, AC rate: 64.7%\n",
        "\n",
        "#### Question Tags:\n",
        "- Array\n",
        "- Divide and Conquer\n",
        "- Tree\n",
        "- Matrix\n",
        "\n",
        "#### Links:\n",
        " 🎁 [Question Detail](https://leetcode.com/problems/construct-quad-tree/description/) | 🎉 [Question Solution](https://leetcode.com/problems/construct-quad-tree/solution/) | 💬 [Question Discussion](https://leetcode.com/problems/construct-quad-tree/discuss/?orderBy=most_votes)\n",
        "\n",
        "#### Hints:\n"
      ]
    },
    {
      "cell_type": "markdown",
      "metadata": {},
      "source": [
        "#### Sample Test Case\n",
        "[[0,1],[1,0]]"
      ]
    },
    {
      "cell_type": "markdown",
      "metadata": {},
      "source": [
        "---\n",
        "What's your idea?\n",
        "\n",
        "按照定义递归构建树即可\n",
        "\n",
        "---"
      ]
    },
    {
      "cell_type": "code",
      "execution_count": 40,
      "metadata": {
        "isSolutionCode": true
      },
      "outputs": [],
      "source": [
        "from typing import List\n",
        "# Definition for a QuadTree node.\n",
        "class Node:\n",
        "    def __init__(self, val, isLeaf, topLeft = None, topRight = None, bottomLeft = None, bottomRight = None):\n",
        "        self.val = val\n",
        "        self.isLeaf = isLeaf\n",
        "        self.topLeft = topLeft\n",
        "        self.topRight = topRight\n",
        "        self.bottomLeft = bottomLeft\n",
        "        self.bottomRight = bottomRight\n",
        "    \n",
        "    def level_order(self):\n",
        "        levels = []\n",
        "        cur = [self]\n",
        "        while cur:\n",
        "            levels += [[n.isLeaf, n.val] if n is not None else None for n in cur]\n",
        "            nxt = []\n",
        "            for n in cur:\n",
        "                if n is not None:\n",
        "                    nxt += [n.topLeft, n.topRight, n.bottomLeft, n.bottomRight]\n",
        "            while len(nxt) and nxt[-1] is None:\n",
        "                nxt.pop()\n",
        "            cur = nxt\n",
        "        return levels\n",
        "\n",
        "class Solution:\n",
        "    def construct(self, grid: List[List[int]]) -> Node:\n",
        "        return self.recur(grid, 0, 0, len(grid))\n",
        "\n",
        "    def recur(self, grid, i, j, n):\n",
        "        if self._is_area_all_same(grid, i, j, n):\n",
        "            return Node(grid[i][j], 1)\n",
        "        n //= 2\n",
        "        return Node(1, 0,\n",
        "            topLeft = self.recur(grid, i, j, n),\n",
        "            topRight = self.recur(grid, i, j+n, n),\n",
        "            bottomLeft = self.recur(grid, i+n, j, n),\n",
        "            bottomRight = self.recur(grid, i+n, j+n, n),\n",
        "        )\n",
        "    \n",
        "    def _is_area_all_same(self, grid, i, j, n):\n",
        "        first = grid[i][j]\n",
        "        for idx in range(n):\n",
        "            for jdx in range(n):\n",
        "                if grid[i+idx][j+jdx] != first:\n",
        "                    return False\n",
        "        return True"
      ]
    },
    {
      "cell_type": "code",
      "execution_count": 45,
      "metadata": {},
      "outputs": [],
      "source": [
        "s = Solution()\n",
        "assert s.construct(grid = [[0,1],[1,0]]).level_order() == [[0,1],[1,0],[1,1],[1,1],[1,0]]\n",
        "assert s.construct(grid = [\n",
        "  [1,1,1,1,0,0,0,0],\n",
        "  [1,1,1,1,0,0,0,0],\n",
        "  [1,1,1,1,1,1,1,1],\n",
        "  [1,1,1,1,1,1,1,1],\n",
        "  [1,1,1,1,0,0,0,0],\n",
        "  [1,1,1,1,0,0,0,0],\n",
        "  [1,1,1,1,0,0,0,0],\n",
        "  [1,1,1,1,0,0,0,0]\n",
        "]).level_order() == [[0,1],[1,1],[0,1],[1,1],[1,0],None,None,None,None,[1,0],[1,0],[1,1],[1,1]]"
      ]
    },
    {
      "cell_type": "code",
      "execution_count": 46,
      "metadata": {},
      "outputs": [
        {
          "data": {
            "text/markdown": [
              "😃 Result: Accepted\n",
              "\n",
              "📥 Input: ``\n",
              "\n",
              "📤 Output: ``\n",
              "\n",
              "✅ Expected: ``\n",
              "\n",
              "💯 Passed Test Case: 22 / 22\n",
              "\n",
              "🚀 Runtime: 191 ms, Memory: 14.7 MB\n",
              "\n",
              "🉑 Runtime Percentile: better than 27.02%, Memory Percentile: better than 86.64%\n",
              "\n",
              "📆 Finished At: 2022-02-13"
            ],
            "text/plain": [
              "<IPython.core.display.Markdown object>"
            ]
          },
          "metadata": {},
          "output_type": "display_data"
        }
      ],
      "source": [
        "import sys, os; sys.path.append(os.path.abspath('..'))\n",
        "from submitter import submit\n",
        "submit(427)"
      ]
    }
  ],
  "metadata": {
    "authors": [
      {
        "name": "Soros Liu"
      }
    ],
    "kernelspec": {
      "display_name": "Python 3",
      "language": "python",
      "name": "python3"
    },
    "language_info": {
      "codemirror_mode": {
        "name": "ipython",
        "version": 3
      },
      "file_extension": ".py",
      "mimetype": "text/x-python",
      "name": "python",
      "nbconvert_exporter": "python",
      "pygments_lexer": "ipython3",
      "version": "3.8.6"
    },
    "leetcode_question_info": {
      "questionFrontendId": "427",
      "questionId": "772",
      "sampleTestCase": "[[0,1],[1,0]]",
      "submitUrl": "/problems/construct-quad-tree/submit/"
    }
  },
  "nbformat": 4,
  "nbformat_minor": 2
}
