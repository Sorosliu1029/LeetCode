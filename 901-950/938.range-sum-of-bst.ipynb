{
  "cells": [
    {
      "cell_type": "markdown",
      "metadata": {},
      "source": [
        "### 938. Range Sum of BST"
      ]
    },
    {
      "cell_type": "markdown",
      "metadata": {},
      "source": [
        "#### Content\n",
        "<p>Given the <code>root</code> node of a binary search tree and two integers <code>low</code> and <code>high</code>, return <em>the sum of values of all nodes with a value in the <strong>inclusive</strong> range </em><code>[low, high]</code>.</p>\n",
        "\n",
        "<p>&nbsp;</p>\n",
        "<p><strong>Example 1:</strong></p>\n",
        "<img alt=\"\" src=\"https://assets.leetcode.com/uploads/2020/11/05/bst1.jpg\" style=\"width: 400px; height: 222px;\" />\n",
        "<pre>\n",
        "<strong>Input:</strong> root = [10,5,15,3,7,null,18], low = 7, high = 15\n",
        "<strong>Output:</strong> 32\n",
        "<strong>Explanation:</strong> Nodes 7, 10, and 15 are in the range [7, 15]. 7 + 10 + 15 = 32.\n",
        "</pre>\n",
        "\n",
        "<p><strong>Example 2:</strong></p>\n",
        "<img alt=\"\" src=\"https://assets.leetcode.com/uploads/2020/11/05/bst2.jpg\" style=\"width: 400px; height: 335px;\" />\n",
        "<pre>\n",
        "<strong>Input:</strong> root = [10,5,15,3,7,13,18,1,null,6], low = 6, high = 10\n",
        "<strong>Output:</strong> 23\n",
        "<strong>Explanation:</strong> Nodes 6, 7, and 10 are in the range [6, 10]. 6 + 7 + 10 = 23.\n",
        "</pre>\n",
        "\n",
        "<p>&nbsp;</p>\n",
        "<p><strong>Constraints:</strong></p>\n",
        "\n",
        "<ul>\n",
        "\t<li>The number of nodes in the tree is in the range <code>[1, 2 * 10<sup>4</sup>]</code>.</li>\n",
        "\t<li><code>1 &lt;= Node.val &lt;= 10<sup>5</sup></code></li>\n",
        "\t<li><code>1 &lt;= low &lt;= high &lt;= 10<sup>5</sup></code></li>\n",
        "\t<li>All <code>Node.val</code> are <strong>unique</strong>.</li>\n",
        "</ul>\n"
      ]
    },
    {
      "cell_type": "markdown",
      "metadata": {},
      "source": [
        "#### Difficulty: Easy, AC rate: 84.8%\n",
        "\n",
        "#### Question Tags:\n",
        "- Tree\n",
        "- Depth-First Search\n",
        "- Binary Search Tree\n",
        "- Binary Tree\n",
        "\n",
        "#### Links:\n",
        " 🎁 [Question Detail](https://leetcode.com/problems/range-sum-of-bst/description/) | 🎉 [Question Solution](https://leetcode.com/problems/range-sum-of-bst/solution/) | 💬 [Question Discussion](https://leetcode.com/problems/range-sum-of-bst/discuss/?orderBy=most_votes)\n",
        "\n",
        "#### Hints:\n"
      ]
    },
    {
      "cell_type": "markdown",
      "metadata": {},
      "source": [
        "#### Sample Test Case\n",
        "[10,5,15,3,7,null,18]\n",
        "7\n",
        "15"
      ]
    },
    {
      "cell_type": "markdown",
      "metadata": {},
      "source": [
        "---\n",
        "What's your idea?\n",
        "\n",
        "根据 BST 的特点，可以仅递归一个子树\n",
        "\n",
        "---"
      ]
    },
    {
      "cell_type": "code",
      "execution_count": 12,
      "metadata": {},
      "outputs": [],
      "source": [
        "from typing import Optional\n",
        "# Definition for a binary tree node.\n",
        "class TreeNode:\n",
        "    def __init__(self, val=0, left=None, right=None):\n",
        "        self.val = val\n",
        "        self.left = left\n",
        "        self.right = right"
      ]
    },
    {
      "cell_type": "code",
      "execution_count": 15,
      "metadata": {
        "isSolutionCode": true
      },
      "outputs": [],
      "source": [
        "class Solution:\n",
        "    def rangeSumBST(self, root: Optional[TreeNode], low: int, high: int) -> int:\n",
        "        if root is None:\n",
        "            return 0\n",
        "        if low <= root.val <= high:\n",
        "            return root.val + self.rangeSumBST(root.left, low, high) + self.rangeSumBST(root.right, low, high)\n",
        "        if root.val > high:\n",
        "            return self.rangeSumBST(root.left, low, high)\n",
        "        return self.rangeSumBST(root.right, low, high)"
      ]
    },
    {
      "cell_type": "code",
      "execution_count": 17,
      "metadata": {},
      "outputs": [],
      "source": [
        "from helper import array_to_tree\n",
        "s = Solution()\n",
        "\n",
        "t = array_to_tree([10,5,15,3,7,None,18])\n",
        "assert s.rangeSumBST(t, 7, 15) == 32\n",
        "\n",
        "t = array_to_tree([10,5,15,3,7,13,18,1,None,6])\n",
        "assert s.rangeSumBST(t, 6, 10) == 23"
      ]
    },
    {
      "cell_type": "code",
      "execution_count": 18,
      "metadata": {},
      "outputs": [
        {
          "data": {
            "text/markdown": [
              "😃 Result: Accepted\n",
              "\n",
              "📥 Input: ``\n",
              "\n",
              "📤 Output: ``\n",
              "\n",
              "✅ Expected: ``\n",
              "\n",
              "💯 Passed Test Case: 41 / 41\n",
              "\n",
              "🚀 Runtime: 320 ms, Memory: 23.1 MB\n",
              "\n",
              "🉑 Runtime Percentile: better than 44.41%, Memory Percentile: better than 21.17%\n",
              "\n",
              "📆 Finished At: 2022-02-19"
            ],
            "text/plain": [
              "<IPython.core.display.Markdown object>"
            ]
          },
          "metadata": {},
          "output_type": "display_data"
        }
      ],
      "source": [
        "import sys, os; sys.path.append(os.path.abspath('..'))\n",
        "from submitter import submit\n",
        "submit(938)"
      ]
    }
  ],
  "metadata": {
    "authors": [
      {
        "name": "Soros Liu"
      }
    ],
    "kernelspec": {
      "display_name": "Python 3",
      "language": "python",
      "name": "python3"
    },
    "language_info": {
      "codemirror_mode": {
        "name": "ipython",
        "version": 3
      },
      "file_extension": ".py",
      "mimetype": "text/x-python",
      "name": "python",
      "nbconvert_exporter": "python",
      "pygments_lexer": "ipython3",
      "version": "3.8.6"
    },
    "leetcode_question_info": {
      "questionFrontendId": "938",
      "questionId": "975",
      "sampleTestCase": "[10,5,15,3,7,null,18]\n7\n15",
      "submitUrl": "/problems/range-sum-of-bst/submit/"
    }
  },
  "nbformat": 4,
  "nbformat_minor": 2
}
