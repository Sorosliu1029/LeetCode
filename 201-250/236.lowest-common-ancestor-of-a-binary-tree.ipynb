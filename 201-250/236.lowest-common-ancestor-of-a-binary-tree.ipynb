{
  "cells": [
    {
      "cell_type": "markdown",
      "metadata": {},
      "source": [
        "### 236. Lowest Common Ancestor of a Binary Tree"
      ]
    },
    {
      "cell_type": "markdown",
      "metadata": {},
      "source": [
        "#### Content\n",
        "<p>Given a binary tree, find the lowest common ancestor (LCA) of two given nodes in the tree.</p>\n",
        "\n",
        "<p>According to the <a href=\"https://en.wikipedia.org/wiki/Lowest_common_ancestor\" target=\"_blank\">definition of LCA on Wikipedia</a>: &ldquo;The lowest common ancestor is defined between two nodes <code>p</code> and <code>q</code> as the lowest node in <code>T</code> that has both <code>p</code> and <code>q</code> as descendants (where we allow <b>a node to be a descendant of itself</b>).&rdquo;</p>\n",
        "\n",
        "<p>&nbsp;</p>\n",
        "<p><strong>Example 1:</strong></p>\n",
        "<img alt=\"\" src=\"https://assets.leetcode.com/uploads/2018/12/14/binarytree.png\" style=\"width: 200px; height: 190px;\" />\n",
        "<pre>\n",
        "<strong>Input:</strong> root = [3,5,1,6,2,0,8,null,null,7,4], p = 5, q = 1\n",
        "<strong>Output:</strong> 3\n",
        "<strong>Explanation:</strong> The LCA of nodes 5 and 1 is 3.\n",
        "</pre>\n",
        "\n",
        "<p><strong>Example 2:</strong></p>\n",
        "<img alt=\"\" src=\"https://assets.leetcode.com/uploads/2018/12/14/binarytree.png\" style=\"width: 200px; height: 190px;\" />\n",
        "<pre>\n",
        "<strong>Input:</strong> root = [3,5,1,6,2,0,8,null,null,7,4], p = 5, q = 4\n",
        "<strong>Output:</strong> 5\n",
        "<strong>Explanation:</strong> The LCA of nodes 5 and 4 is 5, since a node can be a descendant of itself according to the LCA definition.\n",
        "</pre>\n",
        "\n",
        "<p><strong>Example 3:</strong></p>\n",
        "\n",
        "<pre>\n",
        "<strong>Input:</strong> root = [1,2], p = 1, q = 2\n",
        "<strong>Output:</strong> 1\n",
        "</pre>\n",
        "\n",
        "<p>&nbsp;</p>\n",
        "<p><strong>Constraints:</strong></p>\n",
        "\n",
        "<ul>\n",
        "\t<li>The number of nodes in the tree is in the range <code>[2, 10<sup>5</sup>]</code>.</li>\n",
        "\t<li><code>-10<sup>9</sup> &lt;= Node.val &lt;= 10<sup>9</sup></code></li>\n",
        "\t<li>All <code>Node.val</code> are <strong>unique</strong>.</li>\n",
        "\t<li><code>p != q</code></li>\n",
        "\t<li><code>p</code> and <code>q</code> will exist in the tree.</li>\n",
        "</ul>\n"
      ]
    },
    {
      "cell_type": "markdown",
      "metadata": {},
      "source": [
        "#### Difficulty: Medium, AC rate: 54.3%\n",
        "\n",
        "#### Question Tags:\n",
        "- Tree\n",
        "- Depth-First Search\n",
        "- Binary Tree\n",
        "\n",
        "#### Links:\n",
        " 🎁 [Question Detail](https://leetcode.com/problems/lowest-common-ancestor-of-a-binary-tree/description/) | 🎉 [Question Solution](https://leetcode.com/problems/lowest-common-ancestor-of-a-binary-tree/solution/) | 💬 [Question Discussion](https://leetcode.com/problems/lowest-common-ancestor-of-a-binary-tree/discuss/?orderBy=most_votes)\n",
        "\n",
        "#### Hints:\n"
      ]
    },
    {
      "cell_type": "markdown",
      "metadata": {},
      "source": [
        "#### Sample Test Case\n",
        "[3,5,1,6,2,0,8,null,null,7,4]\n",
        "5\n",
        "1"
      ]
    },
    {
      "cell_type": "markdown",
      "metadata": {},
      "source": [
        "---\n",
        "What's your idea?\n",
        "\n",
        "后序遍历递归\n",
        "\n",
        "先分别看左右子树有没有 LCA，有没有任一匹配值\n",
        "\n",
        "- 如果有 LCA ，直接返回\n",
        "- 如果左右子树都找到一个匹配值，或者左右子树其一找到匹配值且根节点匹配另一值，则返回当前根节点\n",
        "- 否则，返回当前树中是否有匹配值\n",
        "\n",
        "---"
      ]
    },
    {
      "cell_type": "code",
      "execution_count": 70,
      "metadata": {
        "isSolutionCode": true
      },
      "outputs": [],
      "source": [
        "# Definition for a binary tree node.\n",
        "class TreeNode:\n",
        "    def __init__(self, x, left = None, right = None):\n",
        "        self.val = x\n",
        "        self.left = left\n",
        "        self.right = right\n",
        "\n",
        "class Solution:\n",
        "    def lowestCommonAncestor(self, root: TreeNode, p: TreeNode, q: TreeNode) -> TreeNode:\n",
        "        _, n = self.recur(root, p, q)\n",
        "        return n\n",
        "        \n",
        "    def recur(self, node, p, q):\n",
        "        if node is None:\n",
        "            return False, None\n",
        "        left_found, lca = self.recur(node.left, p, q)\n",
        "        if lca:\n",
        "            return True, lca\n",
        "        right_found, lca = self.recur(node.right, p, q)\n",
        "        if lca:\n",
        "            return True, lca\n",
        "        is_node_one_of = node.val == p.val or node.val == q.val\n",
        "        if (left_found and right_found) or (is_node_one_of and (left_found or right_found)):\n",
        "            return True, node\n",
        "        return is_node_one_of or left_found or right_found, None"
      ]
    },
    {
      "cell_type": "code",
      "execution_count": 71,
      "metadata": {},
      "outputs": [],
      "source": [
        "from helper import array_to_tree\n",
        "s = Solution()\n",
        "\n",
        "t = array_to_tree([1,2])\n",
        "assert s.lowestCommonAncestor(t, TreeNode(1), TreeNode(2)).val == 1\n",
        "\n",
        "t = array_to_tree([1,None,2])\n",
        "assert s.lowestCommonAncestor(t, TreeNode(1), TreeNode(2)).val == 1\n",
        "\n",
        "t = array_to_tree([3,5,1])\n",
        "assert s.lowestCommonAncestor(t, TreeNode(5), TreeNode(3)).val == 3\n",
        "assert s.lowestCommonAncestor(t, TreeNode(5), TreeNode(1)).val == 3\n",
        "\n",
        "t = array_to_tree([3,5,1,6,2,0,8,None,None,7,4])\n",
        "assert s.lowestCommonAncestor(t, TreeNode(5), TreeNode(1)).val == 3\n",
        "assert s.lowestCommonAncestor(t, TreeNode(5), TreeNode(4)).val == 5"
      ]
    },
    {
      "cell_type": "code",
      "execution_count": 72,
      "metadata": {},
      "outputs": [
        {
          "data": {
            "text/markdown": [
              "😃 Result: Accepted\n",
              "\n",
              "📥 Input: ``\n",
              "\n",
              "📤 Output: ``\n",
              "\n",
              "✅ Expected: ``\n",
              "\n",
              "💯 Passed Test Case: 31 / 31\n",
              "\n",
              "🚀 Runtime: 85 ms, Memory: 26.3 MB\n",
              "\n",
              "🉑 Runtime Percentile: better than 62.26%, Memory Percentile: better than 41.30%\n",
              "\n",
              "📆 Finished At: 2022-02-18"
            ],
            "text/plain": [
              "<IPython.core.display.Markdown object>"
            ]
          },
          "metadata": {},
          "output_type": "display_data"
        }
      ],
      "source": [
        "import sys, os; sys.path.append(os.path.abspath('..'))\n",
        "from submitter import submit\n",
        "submit(236)"
      ]
    }
  ],
  "metadata": {
    "authors": [
      {
        "name": "Soros Liu"
      }
    ],
    "kernelspec": {
      "display_name": "Python 3",
      "language": "python",
      "name": "python3"
    },
    "language_info": {
      "codemirror_mode": {
        "name": "ipython",
        "version": 3
      },
      "file_extension": ".py",
      "mimetype": "text/x-python",
      "name": "python",
      "nbconvert_exporter": "python",
      "pygments_lexer": "ipython3",
      "version": "3.8.6"
    },
    "leetcode_question_info": {
      "questionFrontendId": "236",
      "questionId": "236",
      "sampleTestCase": "[3,5,1,6,2,0,8,null,null,7,4]\n5\n1",
      "submitUrl": "/problems/lowest-common-ancestor-of-a-binary-tree/submit/"
    }
  },
  "nbformat": 4,
  "nbformat_minor": 2
}
