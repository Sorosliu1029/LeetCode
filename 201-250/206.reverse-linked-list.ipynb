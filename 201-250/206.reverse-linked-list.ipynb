{
 "cells": [
  {
   "cell_type": "markdown",
   "metadata": {},
   "source": [
    "### 206. Reverse Linked List"
   ]
  },
  {
   "cell_type": "markdown",
   "metadata": {},
   "source": [
    "#### Content\n",
    "<p>Given the <code>head</code> of a singly linked list, reverse the list, and return <em>the reversed list</em>.</p>\n",
    "\n",
    "<p>&nbsp;</p>\n",
    "<p><strong>Example 1:</strong></p>\n",
    "<img alt=\"\" src=\"https://assets.leetcode.com/uploads/2021/02/19/rev1ex1.jpg\" style=\"width: 542px; height: 222px;\" />\n",
    "<pre>\n",
    "<strong>Input:</strong> head = [1,2,3,4,5]\n",
    "<strong>Output:</strong> [5,4,3,2,1]\n",
    "</pre>\n",
    "\n",
    "<p><strong>Example 2:</strong></p>\n",
    "<img alt=\"\" src=\"https://assets.leetcode.com/uploads/2021/02/19/rev1ex2.jpg\" style=\"width: 182px; height: 222px;\" />\n",
    "<pre>\n",
    "<strong>Input:</strong> head = [1,2]\n",
    "<strong>Output:</strong> [2,1]\n",
    "</pre>\n",
    "\n",
    "<p><strong>Example 3:</strong></p>\n",
    "\n",
    "<pre>\n",
    "<strong>Input:</strong> head = []\n",
    "<strong>Output:</strong> []\n",
    "</pre>\n",
    "\n",
    "<p>&nbsp;</p>\n",
    "<p><strong>Constraints:</strong></p>\n",
    "\n",
    "<ul>\n",
    "\t<li>The number of nodes in the list is the range <code>[0, 5000]</code>.</li>\n",
    "\t<li><code>-5000 &lt;= Node.val &lt;= 5000</code></li>\n",
    "</ul>\n",
    "\n",
    "<p>&nbsp;</p>\n",
    "<p><strong>Follow up:</strong> A linked list can be reversed either iteratively or recursively. Could you implement both?</p>\n"
   ]
  },
  {
   "cell_type": "markdown",
   "metadata": {},
   "source": [
    "#### Difficulty: Easy, AC rate: 67.2%\n",
    "\n",
    "#### Question Tags:\n",
    "- Linked List\n",
    "- Recursion\n",
    "\n",
    "#### Links:\n",
    " 🎁 [Question Detail](https://leetcode.com/problems/reverse-linked-list/description/) | 🎉 [Question Solution](https://leetcode.com/problems/reverse-linked-list/solution/) | 💬 [Question Discussion](https://leetcode.com/problems/reverse-linked-list/discuss/?orderBy=most_votes)\n",
    "\n",
    "#### Hints:\n"
   ]
  },
  {
   "cell_type": "markdown",
   "metadata": {},
   "source": [
    "#### Sample Test Case\n",
    "[1,2,3,4,5]"
   ]
  },
  {
   "cell_type": "markdown",
   "metadata": {},
   "source": [
    "---\n",
    "What's your idea?\n",
    "\n",
    "递归的解法\n",
    "\n",
    "---"
   ]
  },
  {
   "cell_type": "code",
   "execution_count": 1,
   "metadata": {
    "isSolutionCode": true
   },
   "outputs": [],
   "source": [
    "from typing import Optional, Tuple\n",
    "\n",
    "# Definition for singly-linked list.\n",
    "class ListNode:\n",
    "    def __init__(self, val=0, next=None):\n",
    "        self.val = val\n",
    "        self.next = next\n",
    "        \n",
    "class Solution:\n",
    "    def reverseList(self, head: Optional[ListNode]) -> Optional[ListNode]:\n",
    "        _, new_head = self.reverseWithNewHead(head)\n",
    "        return new_head\n",
    "        \n",
    "    def reverseWithNewHead(self, head: Optional[ListNode]) -> Tuple[Optional[ListNode], Optional[ListNode]]:\n",
    "        if head is None or head.next is None:\n",
    "            return (head, head)\n",
    "        \n",
    "        new_tail, new_head = self.reverseWithNewHead(head.next)\n",
    "        head.next = None\n",
    "        new_tail.next = head\n",
    "        return (head, new_head)"
   ]
  },
  {
   "cell_type": "code",
   "execution_count": 2,
   "metadata": {},
   "outputs": [
    {
     "name": "stdout",
     "output_type": "stream",
     "text": [
      "[]\n",
      "[1, ]\n",
      "[2, 1, ]\n",
      "[3, 2, 1, ]\n",
      "[5, 4, 3, 2, 1, ]\n"
     ]
    }
   ],
   "source": [
    "import sys, os; sys.path.append(os.path.abspath('..'))\n",
    "from helper import array_to_list, print_list\n",
    "\n",
    "s = Solution()\n",
    "\n",
    "print_list(s.reverseList(array_to_list([])))\n",
    "print_list(s.reverseList(array_to_list([1])))\n",
    "print_list(s.reverseList(array_to_list([1,2])))\n",
    "print_list(s.reverseList(array_to_list([1,2,3])))\n",
    "print_list(s.reverseList(array_to_list([1,2,3,4,5])))"
   ]
  },
  {
   "cell_type": "code",
   "execution_count": 3,
   "metadata": {},
   "outputs": [
    {
     "data": {
      "text/markdown": [
       "😃 Result: Accepted\n",
       "\n",
       "📥 Input: ``\n",
       "\n",
       "📤 Output: ``\n",
       "\n",
       "✅ Expected: ``\n",
       "\n",
       "💯 Passed Test Case: 28 / 28\n",
       "\n",
       "🚀 Runtime: 44 ms, Memory: 19 MB\n",
       "\n",
       "🉑 Runtime Percentile: better than 11.75%, Memory Percentile: better than 12.26%\n",
       "\n",
       "📆 Finished At: 2021-08-21"
      ],
      "text/plain": [
       "<IPython.core.display.Markdown object>"
      ]
     },
     "metadata": {},
     "output_type": "display_data"
    }
   ],
   "source": [
    "import sys, os; sys.path.append(os.path.abspath('..'))\n",
    "from submitter import submit\n",
    "submit(206)"
   ]
  }
 ],
 "metadata": {
  "authors": [
   {
    "name": "Soros Liu"
   }
  ],
  "kernelspec": {
   "display_name": "Python 3",
   "language": "python",
   "name": "python3"
  },
  "language_info": {
   "codemirror_mode": {
    "name": "ipython",
    "version": 3
   },
   "file_extension": ".py",
   "mimetype": "text/x-python",
   "name": "python",
   "nbconvert_exporter": "python",
   "pygments_lexer": "ipython3",
   "version": "3.8.6"
  },
  "leetcode_question_info": {
   "questionFrontendId": "206",
   "questionId": "206",
   "sampleTestCase": "[1,2,3,4,5]",
   "submitUrl": "/problems/reverse-linked-list/submit/"
  }
 },
 "nbformat": 4,
 "nbformat_minor": 2
}
