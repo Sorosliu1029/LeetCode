{
  "cells": [
    {
      "cell_type": "markdown",
      "metadata": {},
      "source": [
        "### 230. Kth Smallest Element in a BST"
      ]
    },
    {
      "cell_type": "markdown",
      "metadata": {},
      "source": [
        "#### Content\n",
        "<p>Given the <code>root</code> of a binary search tree, and an integer <code>k</code>, return <em>the</em> <code>k<sup>th</sup></code> <em>smallest value (<strong>1-indexed</strong>) of all the values of the nodes in the tree</em>.</p>\n",
        "\n",
        "<p>&nbsp;</p>\n",
        "<p><strong>Example 1:</strong></p>\n",
        "<img alt=\"\" src=\"https://assets.leetcode.com/uploads/2021/01/28/kthtree1.jpg\" style=\"width: 212px; height: 301px;\" />\n",
        "<pre>\n",
        "<strong>Input:</strong> root = [3,1,4,null,2], k = 1\n",
        "<strong>Output:</strong> 1\n",
        "</pre>\n",
        "\n",
        "<p><strong>Example 2:</strong></p>\n",
        "<img alt=\"\" src=\"https://assets.leetcode.com/uploads/2021/01/28/kthtree2.jpg\" style=\"width: 382px; height: 302px;\" />\n",
        "<pre>\n",
        "<strong>Input:</strong> root = [5,3,6,2,4,null,null,1], k = 3\n",
        "<strong>Output:</strong> 3\n",
        "</pre>\n",
        "\n",
        "<p>&nbsp;</p>\n",
        "<p><strong>Constraints:</strong></p>\n",
        "\n",
        "<ul>\n",
        "\t<li>The number of nodes in the tree is <code>n</code>.</li>\n",
        "\t<li><code>1 &lt;= k &lt;= n &lt;= 10<sup>4</sup></code></li>\n",
        "\t<li><code>0 &lt;= Node.val &lt;= 10<sup>4</sup></code></li>\n",
        "</ul>\n",
        "\n",
        "<p>&nbsp;</p>\n",
        "<p><strong>Follow up:</strong> If the BST is modified often (i.e., we can do insert and delete operations) and you need to find the kth smallest frequently, how would you optimize?</p>\n"
      ]
    },
    {
      "cell_type": "markdown",
      "metadata": {},
      "source": [
        "#### Difficulty: Medium, AC rate: 66.0%\n",
        "\n",
        "#### Question Tags:\n",
        "- Tree\n",
        "- Depth-First Search\n",
        "- Binary Search Tree\n",
        "- Binary Tree\n",
        "\n",
        "#### Links:\n",
        " 🎁 [Question Detail](https://leetcode.com/problems/kth-smallest-element-in-a-bst/description/) | 🎉 [Question Solution](https://leetcode.com/problems/kth-smallest-element-in-a-bst/solution/) | 💬 [Question Discussion](https://leetcode.com/problems/kth-smallest-element-in-a-bst/discuss/?orderBy=most_votes)\n",
        "\n",
        "#### Hints:\n",
        "<details><summary>Hint 0  🔍</summary>Try to utilize the property of a BST.</details>\n",
        "<details><summary>Hint 1  🔍</summary>Try in-order traversal. (Credits to @chan13)</details>\n",
        "<details><summary>Hint 2  🔍</summary>What if you could modify the BST node's structure?</details>\n",
        "<details><summary>Hint 3  🔍</summary>The optimal runtime complexity is O(height of BST).</details>\n"
      ]
    },
    {
      "cell_type": "markdown",
      "metadata": {},
      "source": [
        "#### Sample Test Case\n",
        "[3,1,4,null,2]\n",
        "1"
      ]
    },
    {
      "cell_type": "markdown",
      "metadata": {},
      "source": [
        "---\n",
        "What's your idea?\n",
        "\n",
        "BST 中序遍历是有序的，所以按中序遍历的顺序，递归到第k个节点即可\n",
        "\n",
        "---"
      ]
    },
    {
      "cell_type": "code",
      "execution_count": 57,
      "metadata": {
        "isSolutionCode": true
      },
      "outputs": [],
      "source": [
        "from typing import Optional\n",
        "# Definition for a binary tree node.\n",
        "class TreeNode:\n",
        "    def __init__(self, val=0, left=None, right=None):\n",
        "        self.val = val\n",
        "        self.left = left\n",
        "        self.right = right\n",
        "\n",
        "class Solution:\n",
        "    def kthSmallest(self, root: Optional[TreeNode], k: int) -> int:\n",
        "        return self.recur(root, [k])\n",
        "\n",
        "    def recur(self, node, k_list):\n",
        "        if node is None:\n",
        "            return None\n",
        "\n",
        "        left = self.recur(node.left, k_list)\n",
        "        if left is not None:\n",
        "            return left\n",
        "\n",
        "        if k_list[0] == 1:\n",
        "            return node.val\n",
        "        k_list[0] -= 1\n",
        "\n",
        "        right = self.recur(node.right, k_list)\n",
        "        if right is not None:\n",
        "            return right\n",
        "        return None"
      ]
    },
    {
      "cell_type": "code",
      "execution_count": 60,
      "metadata": {},
      "outputs": [],
      "source": [
        "from helper import array_to_tree\n",
        "s = Solution()\n",
        "\n",
        "t = array_to_tree([3,1,4,None,2])\n",
        "assert s.kthSmallest(t, 1) == 1\n",
        "\n",
        "t = array_to_tree([5,3,6,2,4,None,None,1])\n",
        "assert s.kthSmallest(t, 3) == 3\n",
        "\n",
        "t = TreeNode(2)\n",
        "assert s.kthSmallest(t, 1) == 2"
      ]
    },
    {
      "cell_type": "code",
      "execution_count": 61,
      "metadata": {},
      "outputs": [
        {
          "data": {
            "text/markdown": [
              "😃 Result: Accepted\n",
              "\n",
              "📥 Input: ``\n",
              "\n",
              "📤 Output: ``\n",
              "\n",
              "✅ Expected: ``\n",
              "\n",
              "💯 Passed Test Case: 93 / 93\n",
              "\n",
              "🚀 Runtime: 52 ms, Memory: 18.1 MB\n",
              "\n",
              "🉑 Runtime Percentile: better than 81.76%, Memory Percentile: better than 56.90%\n",
              "\n",
              "📆 Finished At: 2022-02-12"
            ],
            "text/plain": [
              "<IPython.core.display.Markdown object>"
            ]
          },
          "metadata": {},
          "output_type": "display_data"
        }
      ],
      "source": [
        "import sys, os; sys.path.append(os.path.abspath('..'))\n",
        "from submitter import submit\n",
        "submit(230)"
      ]
    }
  ],
  "metadata": {
    "authors": [
      {
        "name": "Soros Liu"
      }
    ],
    "kernelspec": {
      "display_name": "Python 3",
      "language": "python",
      "name": "python3"
    },
    "language_info": {
      "codemirror_mode": {
        "name": "ipython",
        "version": 3
      },
      "file_extension": ".py",
      "mimetype": "text/x-python",
      "name": "python",
      "nbconvert_exporter": "python",
      "pygments_lexer": "ipython3",
      "version": "3.8.6"
    },
    "leetcode_question_info": {
      "questionFrontendId": "230",
      "questionId": "230",
      "sampleTestCase": "[3,1,4,null,2]\n1",
      "submitUrl": "/problems/kth-smallest-element-in-a-bst/submit/"
    }
  },
  "nbformat": 4,
  "nbformat_minor": 2
}
