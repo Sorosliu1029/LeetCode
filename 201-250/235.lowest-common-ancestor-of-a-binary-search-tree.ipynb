{
  "cells": [
    {
      "cell_type": "markdown",
      "metadata": {},
      "source": [
        "### 235. Lowest Common Ancestor of a Binary Search Tree"
      ]
    },
    {
      "cell_type": "markdown",
      "metadata": {},
      "source": [
        "#### Content\n",
        "<p>Given a binary search tree (BST), find the lowest common ancestor (LCA) of two given nodes in the BST.</p>\n",
        "\n",
        "<p>According to the <a href=\"https://en.wikipedia.org/wiki/Lowest_common_ancestor\" target=\"_blank\">definition of LCA on Wikipedia</a>: &ldquo;The lowest common ancestor is defined between two nodes <code>p</code> and <code>q</code> as the lowest node in <code>T</code> that has both <code>p</code> and <code>q</code> as descendants (where we allow <b>a node to be a descendant of itself</b>).&rdquo;</p>\n",
        "\n",
        "<p>&nbsp;</p>\n",
        "<p><strong>Example 1:</strong></p>\n",
        "<img alt=\"\" src=\"https://assets.leetcode.com/uploads/2018/12/14/binarysearchtree_improved.png\" style=\"width: 200px; height: 190px;\" />\n",
        "<pre>\n",
        "<strong>Input:</strong> root = [6,2,8,0,4,7,9,null,null,3,5], p = 2, q = 8\n",
        "<strong>Output:</strong> 6\n",
        "<strong>Explanation:</strong> The LCA of nodes 2 and 8 is 6.\n",
        "</pre>\n",
        "\n",
        "<p><strong>Example 2:</strong></p>\n",
        "<img alt=\"\" src=\"https://assets.leetcode.com/uploads/2018/12/14/binarysearchtree_improved.png\" style=\"width: 200px; height: 190px;\" />\n",
        "<pre>\n",
        "<strong>Input:</strong> root = [6,2,8,0,4,7,9,null,null,3,5], p = 2, q = 4\n",
        "<strong>Output:</strong> 2\n",
        "<strong>Explanation:</strong> The LCA of nodes 2 and 4 is 2, since a node can be a descendant of itself according to the LCA definition.\n",
        "</pre>\n",
        "\n",
        "<p><strong>Example 3:</strong></p>\n",
        "\n",
        "<pre>\n",
        "<strong>Input:</strong> root = [2,1], p = 2, q = 1\n",
        "<strong>Output:</strong> 2\n",
        "</pre>\n",
        "\n",
        "<p>&nbsp;</p>\n",
        "<p><strong>Constraints:</strong></p>\n",
        "\n",
        "<ul>\n",
        "\t<li>The number of nodes in the tree is in the range <code>[2, 10<sup>5</sup>]</code>.</li>\n",
        "\t<li><code>-10<sup>9</sup> &lt;= Node.val &lt;= 10<sup>9</sup></code></li>\n",
        "\t<li>All <code>Node.val</code> are <strong>unique</strong>.</li>\n",
        "\t<li><code>p != q</code></li>\n",
        "\t<li><code>p</code> and <code>q</code> will exist in the BST.</li>\n",
        "</ul>\n"
      ]
    },
    {
      "cell_type": "markdown",
      "metadata": {},
      "source": [
        "#### Difficulty: Easy, AC rate: 56.1%\n",
        "\n",
        "#### Question Tags:\n",
        "- Tree\n",
        "- Depth-First Search\n",
        "- Binary Search Tree\n",
        "- Binary Tree\n",
        "\n",
        "#### Links:\n",
        " 🎁 [Question Detail](https://leetcode.com/problems/lowest-common-ancestor-of-a-binary-search-tree/description/) | 🎉 [Question Solution](https://leetcode.com/problems/lowest-common-ancestor-of-a-binary-search-tree/solution/) | 💬 [Question Discussion](https://leetcode.com/problems/lowest-common-ancestor-of-a-binary-search-tree/discuss/?orderBy=most_votes)\n",
        "\n",
        "#### Hints:\n"
      ]
    },
    {
      "cell_type": "markdown",
      "metadata": {},
      "source": [
        "#### Sample Test Case\n",
        "[6,2,8,0,4,7,9,null,null,3,5]\n",
        "2\n",
        "8"
      ]
    },
    {
      "cell_type": "markdown",
      "metadata": {},
      "source": [
        "---\n",
        "What's your idea?\n",
        "\n",
        "根据BST有序的特点，判断p,q和当前节点的范围关系，递归\n",
        "\n",
        "---"
      ]
    },
    {
      "cell_type": "code",
      "execution_count": 16,
      "metadata": {
        "isSolutionCode": true
      },
      "outputs": [],
      "source": [
        "# Definition for a binary tree node.\n",
        "class TreeNode:\n",
        "    def __init__(self, x):\n",
        "        self.val = x\n",
        "        self.left = None\n",
        "        self.right = None\n",
        "\n",
        "class Solution:\n",
        "    def lowestCommonAncestor(self, root: TreeNode, p: TreeNode, q: TreeNode) -> TreeNode:\n",
        "        low, high = (p, q) if p.val < q.val else (q, p)\n",
        "        return self.recur(root, low, high)\n",
        "    \n",
        "    def recur(self, node, low, high):\n",
        "        if low.val <= node.val <= high.val:\n",
        "            return node\n",
        "        if low.val < node.val and high.val < node.val:\n",
        "            return self.recur(node.left, low, high)\n",
        "        return self.recur(node.right, low, high)"
      ]
    },
    {
      "cell_type": "code",
      "execution_count": 19,
      "metadata": {},
      "outputs": [
        {
          "name": "stdout",
          "output_type": "stream",
          "text": [
            "6\n",
            "2\n",
            "2\n"
          ]
        }
      ],
      "source": [
        "from helper import array_to_tree\n",
        "s = Solution()\n",
        "\n",
        "t = array_to_tree([6,2,8,0,4,7,9,None,None,3,5])\n",
        "print(s.lowestCommonAncestor(t, TreeNode(2), TreeNode(8)).val)\n",
        "\n",
        "t = array_to_tree([6,2,8,0,4,7,9,None,None,3,5])\n",
        "print(s.lowestCommonAncestor(t, TreeNode(2), TreeNode(4)).val)\n",
        "\n",
        "t = array_to_tree([2,1])\n",
        "print(s.lowestCommonAncestor(t, TreeNode(2), TreeNode(1)).val)"
      ]
    },
    {
      "cell_type": "code",
      "execution_count": 20,
      "metadata": {},
      "outputs": [
        {
          "data": {
            "text/markdown": [
              "😃 Result: Accepted\n",
              "\n",
              "📥 Input: ``\n",
              "\n",
              "📤 Output: ``\n",
              "\n",
              "✅ Expected: ``\n",
              "\n",
              "💯 Passed Test Case: 27 / 27\n",
              "\n",
              "🚀 Runtime: 102 ms, Memory: 18.8 MB\n",
              "\n",
              "🉑 Runtime Percentile: better than 52.29%, Memory Percentile: better than 7.72%\n",
              "\n",
              "📆 Finished At: 2022-02-13"
            ],
            "text/plain": [
              "<IPython.core.display.Markdown object>"
            ]
          },
          "metadata": {},
          "output_type": "display_data"
        }
      ],
      "source": [
        "import sys, os; sys.path.append(os.path.abspath('..'))\n",
        "from submitter import submit\n",
        "submit(235)"
      ]
    }
  ],
  "metadata": {
    "authors": [
      {
        "name": "Soros Liu"
      }
    ],
    "kernelspec": {
      "display_name": "Python 3",
      "language": "python",
      "name": "python3"
    },
    "language_info": {
      "codemirror_mode": {
        "name": "ipython",
        "version": 3
      },
      "file_extension": ".py",
      "mimetype": "text/x-python",
      "name": "python",
      "nbconvert_exporter": "python",
      "pygments_lexer": "ipython3",
      "version": "3.8.6"
    },
    "leetcode_question_info": {
      "questionFrontendId": "235",
      "questionId": "235",
      "sampleTestCase": "[6,2,8,0,4,7,9,null,null,3,5]\n2\n8",
      "submitUrl": "/problems/lowest-common-ancestor-of-a-binary-search-tree/submit/"
    }
  },
  "nbformat": 4,
  "nbformat_minor": 2
}
