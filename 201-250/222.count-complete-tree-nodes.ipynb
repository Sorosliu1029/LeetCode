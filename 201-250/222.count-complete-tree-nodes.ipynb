{
  "cells": [
    {
      "cell_type": "markdown",
      "metadata": {},
      "source": [
        "### 222. Count Complete Tree Nodes"
      ]
    },
    {
      "cell_type": "markdown",
      "metadata": {},
      "source": [
        "#### Content\n",
        "<p>Given the <code>root</code> of a <strong>complete</strong> binary tree, return the number of the nodes in the tree.</p>\n",
        "\n",
        "<p>According to <strong><a href=\"http://en.wikipedia.org/wiki/Binary_tree#Types_of_binary_trees\" target=\"_blank\">Wikipedia</a></strong>, every level, except possibly the last, is completely filled in a complete binary tree, and all nodes in the last level are as far left as possible. It can have between <code>1</code> and <code>2<sup>h</sup></code> nodes inclusive at the last level <code>h</code>.</p>\n",
        "\n",
        "<p>Design an algorithm that runs in less than&nbsp;<code data-stringify-type=\"code\">O(n)</code>&nbsp;time complexity.</p>\n",
        "\n",
        "<p>&nbsp;</p>\n",
        "<p><strong>Example 1:</strong></p>\n",
        "<img alt=\"\" src=\"https://assets.leetcode.com/uploads/2021/01/14/complete.jpg\" style=\"width: 372px; height: 302px;\" />\n",
        "<pre>\n",
        "<strong>Input:</strong> root = [1,2,3,4,5,6]\n",
        "<strong>Output:</strong> 6\n",
        "</pre>\n",
        "\n",
        "<p><strong>Example 2:</strong></p>\n",
        "\n",
        "<pre>\n",
        "<strong>Input:</strong> root = []\n",
        "<strong>Output:</strong> 0\n",
        "</pre>\n",
        "\n",
        "<p><strong>Example 3:</strong></p>\n",
        "\n",
        "<pre>\n",
        "<strong>Input:</strong> root = [1]\n",
        "<strong>Output:</strong> 1\n",
        "</pre>\n",
        "\n",
        "<p>&nbsp;</p>\n",
        "<p><strong>Constraints:</strong></p>\n",
        "\n",
        "<ul>\n",
        "\t<li>The number of nodes in the tree is in the range <code>[0, 5 * 10<sup>4</sup>]</code>.</li>\n",
        "\t<li><code>0 &lt;= Node.val &lt;= 5 * 10<sup>4</sup></code></li>\n",
        "\t<li>The tree is guaranteed to be <strong>complete</strong>.</li>\n",
        "</ul>\n"
      ]
    },
    {
      "cell_type": "markdown",
      "metadata": {},
      "source": [
        "#### Difficulty: Medium, AC rate: 54.4%\n",
        "\n",
        "#### Question Tags:\n",
        "- Binary Search\n",
        "- Tree\n",
        "- Depth-First Search\n",
        "- Binary Tree\n",
        "\n",
        "#### Links:\n",
        " 🎁 [Question Detail](https://leetcode.com/problems/count-complete-tree-nodes/description/) | 🎉 [Question Solution](https://leetcode.com/problems/count-complete-tree-nodes/solution/) | 💬 [Question Discussion](https://leetcode.com/problems/count-complete-tree-nodes/discuss/?orderBy=most_votes)\n",
        "\n",
        "#### Hints:\n"
      ]
    },
    {
      "cell_type": "markdown",
      "metadata": {},
      "source": [
        "#### Sample Test Case\n",
        "[1,2,3,4,5,6]"
      ]
    },
    {
      "cell_type": "markdown",
      "metadata": {},
      "source": [
        "---\n",
        "What's your idea?\n",
        "\n",
        "找出最后一个叶子节点的深度 `d` 和在层内的位置 `i`，即可利用 complete binary tree 的特点，计算出总结点数 $2^d+i$\n",
        "\n",
        "---"
      ]
    },
    {
      "cell_type": "code",
      "execution_count": 162,
      "metadata": {
        "isSolutionCode": true
      },
      "outputs": [],
      "source": [
        "from typing import Optional\n",
        "# Definition for a binary tree node.\n",
        "class TreeNode:\n",
        "    def __init__(self, val=0, left=None, right=None):\n",
        "        self.val = val\n",
        "        self.left = left\n",
        "        self.right = right\n",
        "\n",
        "class Solution:\n",
        "    def countNodes(self, root: Optional[TreeNode]) -> int:\n",
        "        if root is None:\n",
        "            return 0\n",
        "        pointer = [0, None]\n",
        "        self.recur(root, 0, 0, pointer)\n",
        "        return 2**pointer[1][0] + pointer[1][1]\n",
        "\n",
        "    def recur(self, node, d, i, pointer):\n",
        "        if node is None:\n",
        "            if i != pointer[0]:\n",
        "                return True\n",
        "            pointer[0] = pointer[0] + 1\n",
        "            pointer[1] = (d-1, i//2)\n",
        "            return False\n",
        "        left_found_last = self.recur(node.left, d+1, i*2, pointer)\n",
        "        if left_found_last:\n",
        "            return left_found_last\n",
        "        right_found_last = self.recur(node.right, d+1, i*2+1, pointer)\n",
        "        if right_found_last:\n",
        "            return right_found_last\n",
        "        return False"
      ]
    },
    {
      "cell_type": "code",
      "execution_count": 163,
      "metadata": {},
      "outputs": [],
      "source": [
        "from helper import array_to_tree\n",
        "s = Solution()\n",
        "\n",
        "t = array_to_tree([])\n",
        "assert s.countNodes(t) == 0\n",
        "\n",
        "t = array_to_tree([1])\n",
        "assert s.countNodes(t) == 1\n",
        "\n",
        "t = array_to_tree([1,2])\n",
        "assert s.countNodes(t) == 2\n",
        "\n",
        "t = array_to_tree([1,2,3,4,5,6])\n",
        "assert s.countNodes(t) == 6"
      ]
    },
    {
      "cell_type": "code",
      "execution_count": 164,
      "metadata": {},
      "outputs": [
        {
          "data": {
            "text/markdown": [
              "😃 Result: Accepted\n",
              "\n",
              "📥 Input: ``\n",
              "\n",
              "📤 Output: ``\n",
              "\n",
              "✅ Expected: ``\n",
              "\n",
              "💯 Passed Test Case: 18 / 18\n",
              "\n",
              "🚀 Runtime: 84 ms, Memory: 21.5 MB\n",
              "\n",
              "🉑 Runtime Percentile: better than 74.35%, Memory Percentile: better than 44.05%\n",
              "\n",
              "📆 Finished At: 2022-02-16"
            ],
            "text/plain": [
              "<IPython.core.display.Markdown object>"
            ]
          },
          "metadata": {},
          "output_type": "display_data"
        }
      ],
      "source": [
        "import sys, os; sys.path.append(os.path.abspath('..'))\n",
        "from submitter import submit\n",
        "submit(222)"
      ]
    }
  ],
  "metadata": {
    "authors": [
      {
        "name": "Soros Liu"
      }
    ],
    "kernelspec": {
      "display_name": "Python 3",
      "language": "python",
      "name": "python3"
    },
    "language_info": {
      "codemirror_mode": {
        "name": "ipython",
        "version": 3
      },
      "file_extension": ".py",
      "mimetype": "text/x-python",
      "name": "python",
      "nbconvert_exporter": "python",
      "pygments_lexer": "ipython3",
      "version": "3.8.6"
    },
    "leetcode_question_info": {
      "questionFrontendId": "222",
      "questionId": "222",
      "sampleTestCase": "[1,2,3,4,5,6]",
      "submitUrl": "/problems/count-complete-tree-nodes/submit/"
    }
  },
  "nbformat": 4,
  "nbformat_minor": 2
}
