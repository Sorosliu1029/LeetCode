{
 "cells": [
  {
   "cell_type": "markdown",
   "metadata": {
    "id": "title"
   },
   "source": [
    "### 965. Univalued Binary Tree"
   ]
  },
  {
   "cell_type": "markdown",
   "metadata": {
    "id": "content"
   },
   "source": [
    "<p>A binary tree is <strong>uni-valued</strong> if every node in the tree has the same value.</p>\n",
    "\n",
    "<p>Given the <code>root</code> of a binary tree, return <code>true</code><em> if the given tree is <strong>uni-valued</strong>, or </em><code>false</code><em> otherwise.</em></p>\n",
    "\n",
    "<p>&nbsp;</p>\n",
    "<p><strong class=\"example\">Example 1:</strong></p>\n",
    "<img alt=\"\" src=\"https://assets.leetcode.com/uploads/2018/12/28/unival_bst_1.png\" style=\"width: 265px; height: 172px;\" />\n",
    "<pre>\n",
    "<strong>Input:</strong> root = [1,1,1,1,1,null,1]\n",
    "<strong>Output:</strong> true\n",
    "</pre>\n",
    "\n",
    "<p><strong class=\"example\">Example 2:</strong></p>\n",
    "<img alt=\"\" src=\"https://assets.leetcode.com/uploads/2018/12/28/unival_bst_2.png\" style=\"width: 198px; height: 169px;\" />\n",
    "<pre>\n",
    "<strong>Input:</strong> root = [2,2,2,5,2]\n",
    "<strong>Output:</strong> false\n",
    "</pre>\n",
    "\n",
    "<p>&nbsp;</p>\n",
    "<p><strong>Constraints:</strong></p>\n",
    "\n",
    "<ul>\n",
    "\t<li>The number of nodes in the tree is in the range <code>[1, 100]</code>.</li>\n",
    "\t<li><code>0 &lt;= Node.val &lt; 100</code></li>\n",
    "</ul>\n"
   ]
  },
  {
   "cell_type": "markdown",
   "metadata": {
    "id": "extra"
   },
   "source": [
    "#### Difficulty: Easy, AC rate: 72.4%\n",
    "\n",
    "#### Topics:\n",
    "Tree | Depth-First Search | Breadth-First Search | Binary Tree\n",
    "\n",
    "#### Links:\n",
    " 🎁 [Question Detail](https://leetcode.com/problems/univalued-binary-tree/description/) | 🎉 [Question Solution](https://leetcode.com/problems/univalued-binary-tree/solution/) | 💬 [Question Discussion](https://leetcode.com/problems/univalued-binary-tree/discuss/?orderBy=most_votes)\n",
    "\n"
   ]
  },
  {
   "cell_type": "markdown",
   "metadata": {
    "exampleTestcaseList": [
     "[1,1,1,1,1,null,1]",
     "[2,2,2,5,2]"
    ],
    "id": "test",
    "sampleTestCase": "[1,1,1,1,1,null,1]"
   },
   "source": [
    "#### Test Case(s):\n",
    "\n",
    "1. `[1,1,1,1,1,null,1]`\n",
    "2. `[2,2,2,5,2]`"
   ]
  },
  {
   "cell_type": "markdown",
   "metadata": {
    "id": "idea"
   },
   "source": [
    "---\n",
    "What's your idea?\n",
    "\n",
    "just traverse through entire tree, order does not matter\n",
    "\n",
    "---"
   ]
  },
  {
   "cell_type": "code",
   "execution_count": 1,
   "metadata": {
    "id": "pre_code"
   },
   "outputs": [],
   "source": [
    "from typing import Optional\n",
    "\n",
    "# Definition for a binary tree node.\n",
    "class TreeNode:\n",
    "    def __init__(self, val=0, left=None, right=None):\n",
    "        self.val = val\n",
    "        self.left = left\n",
    "        self.right = right"
   ]
  },
  {
   "cell_type": "code",
   "execution_count": 2,
   "metadata": {
    "id": "code",
    "isSolutionCode": true
   },
   "outputs": [],
   "source": [
    "class Solution:\n",
    "    def isUnivalTree(self, root: Optional[TreeNode]) -> bool:\n",
    "        if root is None:\n",
    "            return True\n",
    "        return (root.left is None or root.val == root.left.val) \\\n",
    "            and (root.right is None or root.val == root.right.val) \\\n",
    "            and self.isUnivalTree(root.left) \\\n",
    "            and self.isUnivalTree(root.right)"
   ]
  },
  {
   "cell_type": "code",
   "execution_count": 3,
   "metadata": {
    "id": "run"
   },
   "outputs": [
    {
     "data": {
      "text/plain": [
       "True"
      ]
     },
     "execution_count": 3,
     "metadata": {},
     "output_type": "execute_result"
    }
   ],
   "source": [
    "s = Solution()\n",
    "from helper import array_to_binary_tree\n",
    "s.isUnivalTree(array_to_binary_tree([1,1,1,1,1,None,1]))"
   ]
  },
  {
   "cell_type": "code",
   "execution_count": 4,
   "metadata": {
    "id": "run_1"
   },
   "outputs": [
    {
     "data": {
      "text/plain": [
       "False"
      ]
     },
     "execution_count": 4,
     "metadata": {},
     "output_type": "execute_result"
    }
   ],
   "source": [
    "s.isUnivalTree(array_to_binary_tree([2,2,2,5,2]))"
   ]
  },
  {
   "cell_type": "markdown",
   "metadata": {
    "id": "result"
   },
   "source": [
    "😃 Result: Accepted  \n",
    "💯 Passed Test Case: 72 / 72  \n",
    "🚀 Runtime: 0 ms, Memory: 17.8 MB  \n",
    "🉑 Runtime Percentile: better than 100.00%, Memory Percentile: better than 35.72%  \n",
    "📆 Finished At: Mon, 01 Sep 2025 02:50:47 GMT"
   ]
  }
 ],
 "metadata": {
  "authors": [
   {
    "name": "jupyterlab-leetcode"
   }
  ],
  "kernelspec": {
   "display_name": "Python 3 (ipykernel)",
   "language": "python",
   "name": "python3"
  },
  "language_info": {
   "codemirror_mode": {
    "name": "ipython",
    "version": 3
   },
   "file_extension": ".py",
   "mimetype": "text/x-python",
   "name": "python",
   "nbconvert_exporter": "python",
   "pygments_lexer": "ipython3",
   "version": "3.13.5"
  },
  "leetcode_question_info": {
   "exampleTestcaseList": [
    "[1,1,1,1,1,null,1]",
    "[2,2,2,5,2]"
   ],
   "questionDetailUrl": "/problems/univalued-binary-tree/",
   "questionFrontendId": "965",
   "questionId": "1005",
   "sampleTestCase": "[1,1,1,1,1,null,1]",
   "submitUrl": "/problems/univalued-binary-tree/submit/"
  },
  "leetcode_submission_result": {
   "code_output": "",
   "compare_result": "111111111111111111111111111111111111111111111111111111111111111111111111",
   "display_runtime": "0",
   "elapsed_time": 65,
   "expected_output": "",
   "finished": true,
   "lang": "python3",
   "last_testcase": "",
   "memory": 17836000,
   "memory_percentile": 35.724599999999995,
   "pretty_lang": "Python3",
   "question_id": "1005",
   "run_success": true,
   "runtime_percentile": 100,
   "state": "SUCCESS",
   "status_code": 10,
   "status_memory": "17.8 MB",
   "status_msg": "Accepted",
   "status_runtime": "0 ms",
   "std_output": "",
   "submission_id": "1755346460",
   "task_finish_time": 1756695047290,
   "task_name": "judger.judgetask.Judge",
   "total_correct": 72,
   "total_testcases": 72
  }
 },
 "nbformat": 4,
 "nbformat_minor": 4
}
