{
 "cells": [
  {
   "cell_type": "markdown",
   "metadata": {},
   "source": [
    "### 1901. Find a Peak Element II"
   ]
  },
  {
   "cell_type": "markdown",
   "metadata": {},
   "source": [
    "#### Content\n",
    "<p>A <strong>peak</strong> element in a 2D grid is an element that is <strong>strictly greater</strong> than all of its <strong>adjacent </strong>neighbors to the left, right, top, and bottom.</p>\n",
    "\n",
    "<p>Given a <strong>0-indexed</strong> <code>m x n</code> matrix <code>mat</code> where <strong>no two adjacent cells are equal</strong>, find <strong>any</strong> peak element <code>mat[i][j]</code> and return <em>the length 2 array </em><code>[i,j]</code>.</p>\n",
    "\n",
    "<p>You may assume that the entire matrix is surrounded by an <strong>outer perimeter</strong> with the value <code>-1</code> in each cell.</p>\n",
    "\n",
    "<p>You must write an algorithm that runs in <code>O(m log(n))</code> or <code>O(n log(m))</code> time.</p>\n",
    "\n",
    "<p>&nbsp;</p>\n",
    "<p><strong>Example 1:</strong></p>\n",
    "\n",
    "<p><img alt=\"\" src=\"https://assets.leetcode.com/uploads/2021/06/08/1.png\" style=\"width: 206px; height: 209px;\" /></p>\n",
    "\n",
    "<pre>\n",
    "<strong>Input:</strong> mat = [[1,4],[3,2]]\n",
    "<strong>Output:</strong> [0,1]\n",
    "<strong>Explanation:</strong>&nbsp;Both 3 and 4 are peak elements so [1,0] and [0,1] are both acceptable answers.\n",
    "</pre>\n",
    "\n",
    "<p><strong>Example 2:</strong></p>\n",
    "\n",
    "<p><strong><img alt=\"\" src=\"https://assets.leetcode.com/uploads/2021/06/07/3.png\" style=\"width: 254px; height: 257px;\" /></strong></p>\n",
    "\n",
    "<pre>\n",
    "<strong>Input:</strong> mat = [[10,20,15],[21,30,14],[7,16,32]]\n",
    "<strong>Output:</strong> [1,1]\n",
    "<strong>Explanation:</strong>&nbsp;Both 30 and 32 are peak elements so [1,1] and [2,2] are both acceptable answers.\n",
    "</pre>\n",
    "\n",
    "<p>&nbsp;</p>\n",
    "<p><strong>Constraints:</strong></p>\n",
    "\n",
    "<ul>\n",
    "\t<li><code>m == mat.length</code></li>\n",
    "\t<li><code>n == mat[i].length</code></li>\n",
    "\t<li><code>1 &lt;= m, n &lt;= 500</code></li>\n",
    "\t<li><code>1 &lt;= mat[i][j] &lt;= 10<sup>5</sup></code></li>\n",
    "\t<li>No two adjacent cells are equal.</li>\n",
    "</ul>\n"
   ]
  },
  {
   "cell_type": "markdown",
   "metadata": {},
   "source": [
    "#### Difficulty: Medium, AC rate: 59.9%\n",
    "\n",
    "#### Question Tags:\n",
    "- Array\n",
    "- Binary Search\n",
    "- Divide and Conquer\n",
    "- Matrix\n",
    "\n",
    "#### Links:\n",
    " 🎁 [Question Detail](https://leetcode.com/problems/find-a-peak-element-ii/description/) | 🎉 [Question Solution](https://leetcode.com/problems/find-a-peak-element-ii/solution/) | 💬 [Question Discussion](https://leetcode.com/problems/find-a-peak-element-ii/discuss/?orderBy=most_votes)\n",
    "\n",
    "#### Hints:\n",
    "<details><summary>Hint 0  🔍</summary>Let's assume that the width of the array is bigger than the height, otherwise, we will split in another direction.</details>\n",
    "<details><summary>Hint 1  🔍</summary>Split the array into three parts: central column left side and right side.</details>\n",
    "<details><summary>Hint 2  🔍</summary>Go through the central column and two neighbor columns and look for maximum.</details>\n",
    "<details><summary>Hint 3  🔍</summary>If it's in the central column - this is our peak.</details>\n",
    "<details><summary>Hint 4  🔍</summary>If it's on the left side, run this algorithm on subarray left_side + central_column.</details>\n",
    "<details><summary>Hint 5  🔍</summary>If it's on the right side, run this algorithm on subarray right_side + central_column</details>\n"
   ]
  },
  {
   "cell_type": "markdown",
   "metadata": {},
   "source": [
    "#### Sample Test Case\n",
    "[[1,4],[3,2]]"
   ]
  },
  {
   "cell_type": "markdown",
   "metadata": {},
   "source": [
    "---\n",
    "What's your idea?\n",
    "\n",
    "类似 #162，按行二分，行内找最大的元素 O(n), 总时间复杂度 O(n * log(m))\n",
    "\n",
    "同样在 [MIT6.006](https://www.youtube.com/v/HtSuA80QTyo) 里有讲解\n",
    "\n",
    "---"
   ]
  },
  {
   "cell_type": "code",
   "execution_count": 1,
   "metadata": {
    "isSolutionCode": true
   },
   "outputs": [],
   "source": [
    "from typing import List\n",
    "\n",
    "class Solution:\n",
    "    def findPeakGrid(self, mat: List[List[int]]) -> List[int]:\n",
    "        m = len(mat)\n",
    "        if m == 1:\n",
    "            max_j, _ = max(enumerate(mat[0]), key=lambda tup: tup[1])\n",
    "            return [0, max_j]\n",
    "        \n",
    "        middle_row = m // 2\n",
    "        max_j, _ = max(enumerate(mat[middle_row]), key=lambda tup: tup[1])\n",
    "        if middle_row > 0 and mat[middle_row-1][max_j] > mat[middle_row][max_j]:\n",
    "            return self.findPeakGrid(mat[:middle_row])\n",
    "        elif middle_row < m - 1 and mat[middle_row+1][max_j] > mat[middle_row][max_j]:\n",
    "            result = self.findPeakGrid(mat[middle_row+1:])\n",
    "            return [sum(p) for p in zip(result, [middle_row+1, 0])]\n",
    "        else:\n",
    "            return [middle_row, max_j]"
   ]
  },
  {
   "cell_type": "code",
   "execution_count": 2,
   "metadata": {},
   "outputs": [
    {
     "name": "stdout",
     "output_type": "stream",
     "text": [
      "True\n",
      "True\n",
      "True\n",
      "True\n"
     ]
    }
   ],
   "source": [
    "s = Solution()\n",
    "\n",
    "print(s.findPeakGrid([[1,2,3]]) == [0, 2])\n",
    "r = s.findPeakGrid([[1,4],[3,2]])\n",
    "print(r == [1, 0] or r == [0, 1])\n",
    "r = s.findPeakGrid([[10,20,15],[21,30,14],[7,16,32]])\n",
    "print(r == [1, 1] or r == [2, 2])\n",
    "r = s.findPeakGrid([[47,30,35,8,25],[6,36,19,41,40],[24,37,13,46,5],[3,43,15,50,19],[6,15,7,25,18]])\n",
    "print(r == [0, 2] or r == [3, 3])"
   ]
  },
  {
   "cell_type": "code",
   "execution_count": 3,
   "metadata": {},
   "outputs": [
    {
     "data": {
      "text/markdown": [
       "😃 Result: Accepted\n",
       "\n",
       "📥 Input: ``\n",
       "\n",
       "📤 Output: ``\n",
       "\n",
       "✅ Expected: ``\n",
       "\n",
       "💯 Passed Test Case: 44 / 44\n",
       "\n",
       "🚀 Runtime: 1728 ms, Memory: 45.8 MB\n",
       "\n",
       "🉑 Runtime Percentile: better than 7.89%, Memory Percentile: better than 22.86%\n",
       "\n",
       "📆 Finished At: 2021-08-21"
      ],
      "text/plain": [
       "<IPython.core.display.Markdown object>"
      ]
     },
     "metadata": {},
     "output_type": "display_data"
    }
   ],
   "source": [
    "import sys, os; sys.path.append(os.path.abspath('..'))\n",
    "from submitter import submit\n",
    "submit(1901)"
   ]
  }
 ],
 "metadata": {
  "authors": [
   {
    "name": "Soros Liu"
   }
  ],
  "kernelspec": {
   "display_name": "Python 3",
   "language": "python",
   "name": "python3"
  },
  "language_info": {
   "codemirror_mode": {
    "name": "ipython",
    "version": 3
   },
   "file_extension": ".py",
   "mimetype": "text/x-python",
   "name": "python",
   "nbconvert_exporter": "python",
   "pygments_lexer": "ipython3",
   "version": "3.8.6"
  },
  "leetcode_question_info": {
   "questionFrontendId": "1901",
   "questionId": "2047",
   "sampleTestCase": "[[1,4],[3,2]]",
   "submitUrl": "/problems/find-a-peak-element-ii/submit/"
  }
 },
 "nbformat": 4,
 "nbformat_minor": 2
}
