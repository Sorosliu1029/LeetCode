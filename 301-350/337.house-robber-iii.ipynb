{
  "cells": [
    {
      "cell_type": "markdown",
      "metadata": {},
      "source": [
        "### 337. House Robber III"
      ]
    },
    {
      "cell_type": "markdown",
      "metadata": {},
      "source": [
        "#### Content\n",
        "<p>The thief has found himself a new place for his thievery again. There is only one entrance to this area, called <code>root</code>.</p>\n",
        "\n",
        "<p>Besides the <code>root</code>, each house has one and only one parent house. After a tour, the smart thief realized that all houses in this place form a binary tree. It will automatically contact the police if <strong>two directly-linked houses were broken into on the same night</strong>.</p>\n",
        "\n",
        "<p>Given the <code>root</code> of the binary tree, return <em>the maximum amount of money the thief can rob <strong>without alerting the police</strong></em>.</p>\n",
        "\n",
        "<p>&nbsp;</p>\n",
        "<p><strong>Example 1:</strong></p>\n",
        "<img alt=\"\" src=\"https://assets.leetcode.com/uploads/2021/03/10/rob1-tree.jpg\" style=\"width: 277px; height: 293px;\" />\n",
        "<pre>\n",
        "<strong>Input:</strong> root = [3,2,3,null,3,null,1]\n",
        "<strong>Output:</strong> 7\n",
        "<strong>Explanation:</strong> Maximum amount of money the thief can rob = 3 + 3 + 1 = 7.\n",
        "</pre>\n",
        "\n",
        "<p><strong>Example 2:</strong></p>\n",
        "<img alt=\"\" src=\"https://assets.leetcode.com/uploads/2021/03/10/rob2-tree.jpg\" style=\"width: 357px; height: 293px;\" />\n",
        "<pre>\n",
        "<strong>Input:</strong> root = [3,4,5,1,3,null,1]\n",
        "<strong>Output:</strong> 9\n",
        "<strong>Explanation:</strong> Maximum amount of money the thief can rob = 4 + 5 = 9.\n",
        "</pre>\n",
        "\n",
        "<p>&nbsp;</p>\n",
        "<p><strong>Constraints:</strong></p>\n",
        "\n",
        "<ul>\n",
        "\t<li>The number of nodes in the tree is in the range <code>[1, 10<sup>4</sup>]</code>.</li>\n",
        "\t<li><code>0 &lt;= Node.val &lt;= 10<sup>4</sup></code></li>\n",
        "</ul>\n"
      ]
    },
    {
      "cell_type": "markdown",
      "metadata": {},
      "source": [
        "#### Difficulty: Medium, AC rate: 53.3%\n",
        "\n",
        "#### Question Tags:\n",
        "- Dynamic Programming\n",
        "- Tree\n",
        "- Depth-First Search\n",
        "- Binary Tree\n",
        "\n",
        "#### Links:\n",
        " 🎁 [Question Detail](https://leetcode.com/problems/house-robber-iii/description/) | 🎉 [Question Solution](https://leetcode.com/problems/house-robber-iii/solution/) | 💬 [Question Discussion](https://leetcode.com/problems/house-robber-iii/discuss/?orderBy=most_votes)\n",
        "\n",
        "#### Hints:\n"
      ]
    },
    {
      "cell_type": "markdown",
      "metadata": {},
      "source": [
        "#### Sample Test Case\n",
        "[3,2,3,null,3,null,1]"
      ]
    },
    {
      "cell_type": "markdown",
      "metadata": {},
      "source": [
        "---\n",
        "What's your idea?\n",
        "\n",
        "动态规划 + 记忆子问题\n",
        "\n",
        "$$\n",
        "\\begin{cases}\n",
        "pv(node) = pnv(node.left) + pnv(node.right) \\\\\n",
        "pnv(node) = max(pv(node), pv(node.left)+pv(node.right)+node.val) \\\\\n",
        "pv(null) = 0 \\\\\n",
        "pnv(null) = 0 \\\\\n",
        "\\end{cases}\n",
        "$$\n",
        "\n",
        "pv: parent visited set\n",
        "\n",
        "pnv: parent not visited set\n",
        "\n",
        "---"
      ]
    },
    {
      "cell_type": "code",
      "execution_count": 45,
      "metadata": {},
      "outputs": [],
      "source": [
        "from typing import Optional\n",
        "# Definition for a binary tree node.\n",
        "class TreeNode:\n",
        "    def __init__(self, val=0, left=None, right=None):\n",
        "        self.val = val\n",
        "        self.left = left\n",
        "        self.right = right"
      ]
    },
    {
      "cell_type": "code",
      "execution_count": 66,
      "metadata": {
        "isSolutionCode": true
      },
      "outputs": [],
      "source": [
        "class Solution:\n",
        "    def rob(self, root: Optional[TreeNode]) -> int:\n",
        "        parent_visited_memory = {None: 0}\n",
        "        parent_not_visited_memory = {None: 0}\n",
        "\n",
        "        def recur(node, parent_visited):\n",
        "            if parent_visited:\n",
        "                if node in parent_visited_memory:\n",
        "                    return parent_visited_memory[node]\n",
        "                parent_visited_memory[node] = recur(node.left, False) + recur(node.right, False)\n",
        "                return parent_visited_memory[node]\n",
        "            \n",
        "            if node in parent_not_visited_memory:\n",
        "                return parent_not_visited_memory[node]\n",
        "            parent_not_visited_memory[node] = max(\n",
        "                recur(node, True),\n",
        "                recur(node.left, True) + recur(node.right, True) + node.val\n",
        "            )\n",
        "            return parent_not_visited_memory[node]\n",
        "\n",
        "        recur(root, False)\n",
        "        return max(parent_visited_memory[root], parent_not_visited_memory[root])"
      ]
    },
    {
      "cell_type": "code",
      "execution_count": 67,
      "metadata": {},
      "outputs": [],
      "source": [
        "from helper import array_to_tree\n",
        "s = Solution()\n",
        "\n",
        "t = array_to_tree([3,2,3,None,3,None,1])\n",
        "assert s.rob(t) == 7\n",
        "\n",
        "t = array_to_tree([3,4,5,1,3,None,1])\n",
        "assert s.rob(t) == 9\n",
        "\n",
        "t = None\n",
        "assert s.rob(t) == 0\n",
        "\n",
        "t = array_to_tree([1])\n",
        "assert s.rob(t) == 1\n",
        "\n",
        "t = array_to_tree([1, 2])\n",
        "assert s.rob(t) == 2\n",
        "\n",
        "t = TreeNode(4,\n",
        "  TreeNode(1,\n",
        "    TreeNode(2,\n",
        "      TreeNode(3)  \n",
        "    )\n",
        "  ),\n",
        ")\n",
        "assert s.rob(t) == 7"
      ]
    },
    {
      "cell_type": "code",
      "execution_count": 68,
      "metadata": {},
      "outputs": [
        {
          "data": {
            "text/markdown": [
              "😃 Result: Accepted\n",
              "\n",
              "📥 Input: ``\n",
              "\n",
              "📤 Output: ``\n",
              "\n",
              "✅ Expected: ``\n",
              "\n",
              "💯 Passed Test Case: 124 / 124\n",
              "\n",
              "🚀 Runtime: 103 ms, Memory: 17.3 MB\n",
              "\n",
              "🉑 Runtime Percentile: better than 11.75%, Memory Percentile: better than 23.51%\n",
              "\n",
              "📆 Finished At: 2022-02-19"
            ],
            "text/plain": [
              "<IPython.core.display.Markdown object>"
            ]
          },
          "metadata": {},
          "output_type": "display_data"
        }
      ],
      "source": [
        "import sys, os; sys.path.append(os.path.abspath('..'))\n",
        "from submitter import submit\n",
        "submit(337)"
      ]
    }
  ],
  "metadata": {
    "authors": [
      {
        "name": "Soros Liu"
      }
    ],
    "kernelspec": {
      "display_name": "Python 3",
      "language": "python",
      "name": "python3"
    },
    "language_info": {
      "codemirror_mode": {
        "name": "ipython",
        "version": 3
      },
      "file_extension": ".py",
      "mimetype": "text/x-python",
      "name": "python",
      "nbconvert_exporter": "python",
      "pygments_lexer": "ipython3",
      "version": "3.8.6"
    },
    "leetcode_question_info": {
      "questionFrontendId": "337",
      "questionId": "337",
      "sampleTestCase": "[3,2,3,null,3,null,1]",
      "submitUrl": "/problems/house-robber-iii/submit/"
    }
  },
  "nbformat": 4,
  "nbformat_minor": 2
}
