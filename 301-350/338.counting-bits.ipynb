{
  "cells": [
    {
      "cell_type": "markdown",
      "metadata": {},
      "source": [
        "### 338. Counting Bits"
      ]
    },
    {
      "cell_type": "markdown",
      "metadata": {},
      "source": [
        "#### Content\n",
        "<p>Given an integer <code>n</code>, return <em>an array </em><code>ans</code><em> of length </em><code>n + 1</code><em> such that for each </em><code>i</code><em> </em>(<code>0 &lt;= i &lt;= n</code>)<em>, </em><code>ans[i]</code><em> is the <strong>number of </strong></em><code>1</code><em><strong>&#39;s</strong> in the binary representation of </em><code>i</code>.</p>\n",
        "\n",
        "<p>&nbsp;</p>\n",
        "<p><strong>Example 1:</strong></p>\n",
        "\n",
        "<pre>\n",
        "<strong>Input:</strong> n = 2\n",
        "<strong>Output:</strong> [0,1,1]\n",
        "<strong>Explanation:</strong>\n",
        "0 --&gt; 0\n",
        "1 --&gt; 1\n",
        "2 --&gt; 10\n",
        "</pre>\n",
        "\n",
        "<p><strong>Example 2:</strong></p>\n",
        "\n",
        "<pre>\n",
        "<strong>Input:</strong> n = 5\n",
        "<strong>Output:</strong> [0,1,1,2,1,2]\n",
        "<strong>Explanation:</strong>\n",
        "0 --&gt; 0\n",
        "1 --&gt; 1\n",
        "2 --&gt; 10\n",
        "3 --&gt; 11\n",
        "4 --&gt; 100\n",
        "5 --&gt; 101\n",
        "</pre>\n",
        "\n",
        "<p>&nbsp;</p>\n",
        "<p><strong>Constraints:</strong></p>\n",
        "\n",
        "<ul>\n",
        "\t<li><code>0 &lt;= n &lt;= 10<sup>5</sup></code></li>\n",
        "</ul>\n",
        "\n",
        "<p>&nbsp;</p>\n",
        "<p><strong>Follow up:</strong></p>\n",
        "\n",
        "<ul>\n",
        "\t<li>It is very easy to come up with a solution with a runtime of <code>O(n log n)</code>. Can you do it in linear time <code>O(n)</code> and possibly in a single pass?</li>\n",
        "\t<li>Can you do it without using any built-in function (i.e., like <code>__builtin_popcount</code> in C++)?</li>\n",
        "</ul>\n"
      ]
    },
    {
      "cell_type": "markdown",
      "metadata": {},
      "source": [
        "#### Difficulty: Easy, AC rate: 72.6%\n",
        "\n",
        "#### Question Tags:\n",
        "- Dynamic Programming\n",
        "- Bit Manipulation\n",
        "\n",
        "#### Links:\n",
        " 🎁 [Question Detail](https://leetcode.com/problems/counting-bits/description/) | 🎉 [Question Solution](https://leetcode.com/problems/counting-bits/solution/) | 💬 [Question Discussion](https://leetcode.com/problems/counting-bits/discuss/?orderBy=most_votes)\n",
        "\n",
        "#### Hints:\n",
        "<details><summary>Hint 0  🔍</summary>You should make use of what you have produced already.</details>\n",
        "<details><summary>Hint 1  🔍</summary>Divide the numbers in ranges like [2-3], [4-7], [8-15] and so on. And try to generate new range from previous.</details>\n",
        "<details><summary>Hint 2  🔍</summary>Or does the odd/even status of the number help you in calculating the number of 1s?</details>\n"
      ]
    },
    {
      "cell_type": "markdown",
      "metadata": {},
      "source": [
        "#### Sample Test Case\n",
        "2"
      ]
    },
    {
      "cell_type": "markdown",
      "metadata": {},
      "source": [
        "---\n",
        "What's your idea?\n",
        "\n",
        "根据奇偶性，复用已有的结果\n",
        "\n",
        "---"
      ]
    },
    {
      "cell_type": "code",
      "execution_count": 155,
      "metadata": {
        "isSolutionCode": true
      },
      "outputs": [],
      "source": [
        "from typing import List\n",
        "class Solution:\n",
        "    ans = [0]\n",
        "    def countBits(self, n: int) -> List[int]:\n",
        "        if n < len(self.ans):\n",
        "            return self.ans[:n+1]\n",
        "        for i in range(len(self.ans), n+1):\n",
        "            if i % 2:\n",
        "                self.ans.append(self.ans[-1]+1)\n",
        "            else:\n",
        "                self.ans.append(self.ans[i//2])\n",
        "        return self.ans"
      ]
    },
    {
      "cell_type": "code",
      "execution_count": 158,
      "metadata": {},
      "outputs": [],
      "source": [
        "s = Solution()\n",
        "assert s.countBits(2) == [0,1,1]\n",
        "assert s.countBits(5) == [0,1,1,2,1,2]\n",
        "assert s.countBits(8) == [0,1,1,2,1,2,2,3,1]"
      ]
    },
    {
      "cell_type": "code",
      "execution_count": 159,
      "metadata": {},
      "outputs": [
        {
          "data": {
            "text/markdown": [
              "😃 Result: Accepted\n",
              "\n",
              "📥 Input: ``\n",
              "\n",
              "📤 Output: ``\n",
              "\n",
              "✅ Expected: ``\n",
              "\n",
              "💯 Passed Test Case: 15 / 15\n",
              "\n",
              "🚀 Runtime: 178 ms, Memory: 20.9 MB\n",
              "\n",
              "🉑 Runtime Percentile: better than 28.64%, Memory Percentile: better than 22.54%\n",
              "\n",
              "📆 Finished At: 2022-02-26"
            ],
            "text/plain": [
              "<IPython.core.display.Markdown object>"
            ]
          },
          "metadata": {},
          "output_type": "display_data"
        }
      ],
      "source": [
        "import sys, os; sys.path.append(os.path.abspath('..'))\n",
        "from submitter import submit\n",
        "submit(338)"
      ]
    }
  ],
  "metadata": {
    "authors": [
      {
        "name": "Soros Liu"
      }
    ],
    "kernelspec": {
      "display_name": "Python 3",
      "language": "python",
      "name": "python3"
    },
    "language_info": {
      "codemirror_mode": {
        "name": "ipython",
        "version": 3
      },
      "file_extension": ".py",
      "mimetype": "text/x-python",
      "name": "python",
      "nbconvert_exporter": "python",
      "pygments_lexer": "ipython3",
      "version": "3.8.6"
    },
    "leetcode_question_info": {
      "questionFrontendId": "338",
      "questionId": "338",
      "sampleTestCase": "2",
      "submitUrl": "/problems/counting-bits/submit/"
    }
  },
  "nbformat": 4,
  "nbformat_minor": 2
}
