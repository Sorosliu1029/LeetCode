{
  "cells": [
    {
      "cell_type": "markdown",
      "metadata": {},
      "source": [
        "### 341. Flatten Nested List Iterator"
      ]
    },
    {
      "cell_type": "markdown",
      "metadata": {},
      "source": [
        "#### Content\n",
        "<p>You are given a nested list of integers <code>nestedList</code>. Each element is either an integer or a list whose elements may also be integers or other lists. Implement an iterator to flatten it.</p>\n",
        "\n",
        "<p>Implement the <code>NestedIterator</code> class:</p>\n",
        "\n",
        "<ul>\n",
        "\t<li><code>NestedIterator(List&lt;NestedInteger&gt; nestedList)</code> Initializes the iterator with the nested list <code>nestedList</code>.</li>\n",
        "\t<li><code>int next()</code> Returns the next integer in the nested list.</li>\n",
        "\t<li><code>boolean hasNext()</code> Returns <code>true</code> if there are still some integers in the nested list and <code>false</code> otherwise.</li>\n",
        "</ul>\n",
        "\n",
        "<p>Your code will be tested with the following pseudocode:</p>\n",
        "\n",
        "<pre>\n",
        "initialize iterator with nestedList\n",
        "res = []\n",
        "while iterator.hasNext()\n",
        "    append iterator.next() to the end of res\n",
        "return res\n",
        "</pre>\n",
        "\n",
        "<p>If <code>res</code> matches the expected flattened list, then your code will be judged as correct.</p>\n",
        "\n",
        "<p>&nbsp;</p>\n",
        "<p><strong>Example 1:</strong></p>\n",
        "\n",
        "<pre>\n",
        "<strong>Input:</strong> nestedList = [[1,1],2,[1,1]]\n",
        "<strong>Output:</strong> [1,1,2,1,1]\n",
        "<strong>Explanation:</strong> By calling next repeatedly until hasNext returns false, the order of elements returned by next should be: [1,1,2,1,1].\n",
        "</pre>\n",
        "\n",
        "<p><strong>Example 2:</strong></p>\n",
        "\n",
        "<pre>\n",
        "<strong>Input:</strong> nestedList = [1,[4,[6]]]\n",
        "<strong>Output:</strong> [1,4,6]\n",
        "<strong>Explanation:</strong> By calling next repeatedly until hasNext returns false, the order of elements returned by next should be: [1,4,6].\n",
        "</pre>\n",
        "\n",
        "<p>&nbsp;</p>\n",
        "<p><strong>Constraints:</strong></p>\n",
        "\n",
        "<ul>\n",
        "\t<li><code>1 &lt;= nestedList.length &lt;= 500</code></li>\n",
        "\t<li>The values of the integers in the nested list is in the range <code>[-10<sup>6</sup>, 10<sup>6</sup>]</code>.</li>\n",
        "</ul>\n"
      ]
    },
    {
      "cell_type": "markdown",
      "metadata": {},
      "source": [
        "#### Difficulty: Medium, AC rate: 58.2%\n",
        "\n",
        "#### Question Tags:\n",
        "- Stack\n",
        "- Tree\n",
        "- Depth-First Search\n",
        "- Design\n",
        "- Queue\n",
        "- Iterator\n",
        "\n",
        "#### Links:\n",
        " 🎁 [Question Detail](https://leetcode.com/problems/flatten-nested-list-iterator/description/) | 🎉 [Question Solution](https://leetcode.com/problems/flatten-nested-list-iterator/solution/) | 💬 [Question Discussion](https://leetcode.com/problems/flatten-nested-list-iterator/discuss/?orderBy=most_votes)\n",
        "\n",
        "#### Hints:\n"
      ]
    },
    {
      "cell_type": "markdown",
      "metadata": {},
      "source": [
        "#### Sample Test Case\n",
        "[[1,1],2,[1,1]]"
      ]
    },
    {
      "cell_type": "markdown",
      "metadata": {},
      "source": [
        "---\n",
        "What's your idea?\n",
        "\n",
        "nested flatten，典型的栈场景\n",
        "\n",
        "---"
      ]
    },
    {
      "cell_type": "code",
      "execution_count": 78,
      "metadata": {},
      "outputs": [],
      "source": [
        "from __future__ import annotations\n",
        "from typing import List\n",
        "# \"\"\"\n",
        "# This is the interface that allows for creating nested lists.\n",
        "# You should not implement it, or speculate about its implementation\n",
        "# \"\"\"\n",
        "class NestedInteger:\n",
        "    def __init__(self, l):\n",
        "        self.l = l\n",
        "\n",
        "    def isInteger(self) -> bool:\n",
        "        \"\"\"\n",
        "        @return True if this NestedInteger holds a single integer, rather than a nested list.\n",
        "        \"\"\"\n",
        "        return isinstance(self.l, int)\n",
        "\n",
        "    def getInteger(self) -> int:\n",
        "        \"\"\"\n",
        "        @return the single integer that this NestedInteger holds, if it holds a single integer\n",
        "        Return None if this NestedInteger holds a nested list\n",
        "        \"\"\"\n",
        "        return self.l if self.isInteger() else None\n",
        "\n",
        "    def getList(self) -> List[NestedInteger]:\n",
        "        \"\"\"\n",
        "        @return the nested list that this NestedInteger holds, if it holds a nested list\n",
        "        Return None if this NestedInteger holds a single integer\n",
        "        \"\"\"\n",
        "        return self.l if not self.isInteger() else None"
      ]
    },
    {
      "cell_type": "code",
      "execution_count": 89,
      "metadata": {
        "isSolutionCode": true
      },
      "outputs": [],
      "source": [
        "class NestedIterator:\n",
        "    def __init__(self, nestedList: List[NestedInteger]):\n",
        "        self.stack = list(reversed(nestedList))\n",
        "    \n",
        "    def next(self) -> int:\n",
        "        return self.stack.pop().getInteger()\n",
        "    \n",
        "    def hasNext(self) -> bool:\n",
        "        while len(self.stack) and not self.stack[-1].isInteger():\n",
        "            self.stack += list(reversed(self.stack.pop().getList()))\n",
        "        return len(self.stack)"
      ]
    },
    {
      "cell_type": "code",
      "execution_count": 90,
      "metadata": {},
      "outputs": [],
      "source": [
        "# Your NestedIterator object will be instantiated and called as such:\n",
        "nestedList = [\n",
        "  NestedInteger([NestedInteger(1),NestedInteger(1)]),\n",
        "  NestedInteger(2),\n",
        "  NestedInteger([NestedInteger(1),NestedInteger(1)]),\n",
        "]\n",
        "i, v = NestedIterator(nestedList), []\n",
        "while i.hasNext():\n",
        "  v.append(i.next())\n",
        "assert v == [1,1,2,1,1]\n",
        "\n",
        "nestedList = [\n",
        "  NestedInteger(1),\n",
        "  NestedInteger([\n",
        "    NestedInteger(4),\n",
        "    NestedInteger([\n",
        "      NestedInteger(6)\n",
        "    ])\n",
        "  ])\n",
        "]\n",
        "i, v = NestedIterator(nestedList), []\n",
        "while i.hasNext():\n",
        "  v.append(i.next())\n",
        "assert v == [1,4,6]\n",
        "\n",
        "nestedList = [\n",
        "  NestedInteger([])\n",
        "]\n",
        "i, v = NestedIterator(nestedList), []\n",
        "while i.hasNext():\n",
        "  v.append(i.next())\n",
        "assert v == []\n"
      ]
    },
    {
      "cell_type": "code",
      "execution_count": 91,
      "metadata": {},
      "outputs": [
        {
          "data": {
            "text/markdown": [
              "😃 Result: Accepted\n",
              "\n",
              "📥 Input: ``\n",
              "\n",
              "📤 Output: ``\n",
              "\n",
              "✅ Expected: ``\n",
              "\n",
              "💯 Passed Test Case: 43 / 43\n",
              "\n",
              "🚀 Runtime: 60 ms, Memory: 17.9 MB\n",
              "\n",
              "🉑 Runtime Percentile: better than 97.03%, Memory Percentile: better than 19.94%\n",
              "\n",
              "📆 Finished At: 2022-02-19"
            ],
            "text/plain": [
              "<IPython.core.display.Markdown object>"
            ]
          },
          "metadata": {},
          "output_type": "display_data"
        }
      ],
      "source": [
        "import sys, os; sys.path.append(os.path.abspath('..'))\n",
        "from submitter import submit\n",
        "submit(341)"
      ]
    }
  ],
  "metadata": {
    "authors": [
      {
        "name": "Soros Liu"
      }
    ],
    "kernelspec": {
      "display_name": "Python 3",
      "language": "python",
      "name": "python3"
    },
    "language_info": {
      "codemirror_mode": {
        "name": "ipython",
        "version": 3
      },
      "file_extension": ".py",
      "mimetype": "text/x-python",
      "name": "python",
      "nbconvert_exporter": "python",
      "pygments_lexer": "ipython3",
      "version": "3.8.6"
    },
    "leetcode_question_info": {
      "questionFrontendId": "341",
      "questionId": "341",
      "sampleTestCase": "[[1,1],2,[1,1]]",
      "submitUrl": "/problems/flatten-nested-list-iterator/submit/"
    }
  },
  "nbformat": 4,
  "nbformat_minor": 2
}
