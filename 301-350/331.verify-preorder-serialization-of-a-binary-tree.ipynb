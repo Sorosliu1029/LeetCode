{
  "cells": [
    {
      "cell_type": "markdown",
      "metadata": {},
      "source": [
        "### 331. Verify Preorder Serialization of a Binary Tree"
      ]
    },
    {
      "cell_type": "markdown",
      "metadata": {},
      "source": [
        "#### Content\n",
        "<p>One way to serialize a binary tree is to use <strong>preorder traversal</strong>. When we encounter a non-null node, we record the node&#39;s value. If it is a null node, we record using a sentinel value such as <code>&#39;#&#39;</code>.</p>\n",
        "<img alt=\"\" src=\"https://assets.leetcode.com/uploads/2021/03/12/pre-tree.jpg\" style=\"width: 362px; height: 293px;\" />\n",
        "<p>For example, the above binary tree can be serialized to the string <code>&quot;9,3,4,#,#,1,#,#,2,#,6,#,#&quot;</code>, where <code>&#39;#&#39;</code> represents a null node.</p>\n",
        "\n",
        "<p>Given a string of comma-separated values <code>preorder</code>, return <code>true</code> if it is a correct preorder traversal serialization of a binary tree.</p>\n",
        "\n",
        "<p>It is <strong>guaranteed</strong> that each comma-separated value in the string must be either an integer or a character <code>&#39;#&#39;</code> representing null pointer.</p>\n",
        "\n",
        "<p>You may assume that the input format is always valid.</p>\n",
        "\n",
        "<ul>\n",
        "\t<li>For example, it could never contain two consecutive commas, such as <code>&quot;1,,3&quot;</code>.</li>\n",
        "</ul>\n",
        "\n",
        "<p><strong>Note:&nbsp;</strong>You are not allowed to reconstruct the tree.</p>\n",
        "\n",
        "<p>&nbsp;</p>\n",
        "<p><strong>Example 1:</strong></p>\n",
        "<pre><strong>Input:</strong> preorder = \"9,3,4,#,#,1,#,#,2,#,6,#,#\"\n",
        "<strong>Output:</strong> true\n",
        "</pre><p><strong>Example 2:</strong></p>\n",
        "<pre><strong>Input:</strong> preorder = \"1,#\"\n",
        "<strong>Output:</strong> false\n",
        "</pre><p><strong>Example 3:</strong></p>\n",
        "<pre><strong>Input:</strong> preorder = \"9,#,#,1\"\n",
        "<strong>Output:</strong> false\n",
        "</pre>\n",
        "<p>&nbsp;</p>\n",
        "<p><strong>Constraints:</strong></p>\n",
        "\n",
        "<ul>\n",
        "\t<li><code>1 &lt;= preorder.length &lt;= 10<sup>4</sup></code></li>\n",
        "\t<li><code>preorder</code> consist of integers in the range <code>[0, 100]</code> and <code>&#39;#&#39;</code> separated by commas <code>&#39;,&#39;</code>.</li>\n",
        "</ul>\n"
      ]
    },
    {
      "cell_type": "markdown",
      "metadata": {},
      "source": [
        "#### Difficulty: Medium, AC rate: 43.6%\n",
        "\n",
        "#### Question Tags:\n",
        "- String\n",
        "- Stack\n",
        "- Tree\n",
        "- Binary Tree\n",
        "\n",
        "#### Links:\n",
        " 🎁 [Question Detail](https://leetcode.com/problems/verify-preorder-serialization-of-a-binary-tree/description/) | 🎉 [Question Solution](https://leetcode.com/problems/verify-preorder-serialization-of-a-binary-tree/solution/) | 💬 [Question Discussion](https://leetcode.com/problems/verify-preorder-serialization-of-a-binary-tree/discuss/?orderBy=most_votes)\n",
        "\n",
        "#### Hints:\n"
      ]
    },
    {
      "cell_type": "markdown",
      "metadata": {},
      "source": [
        "#### Sample Test Case\n",
        "\"9,3,4,#,#,1,#,#,2,#,6,#,#\""
      ]
    },
    {
      "cell_type": "markdown",
      "metadata": {},
      "source": [
        "---\n",
        "What's your idea?\n",
        "\n",
        "用栈模拟前序遍历，栈中的布尔值表示该节点的左子树有没有遍历完\n",
        "\n",
        "---"
      ]
    },
    {
      "cell_type": "code",
      "execution_count": 42,
      "metadata": {
        "isSolutionCode": true
      },
      "outputs": [],
      "source": [
        "class Solution:\n",
        "    def isValidSerialization(self, preorder: str) -> bool:\n",
        "        if preorder == '#':\n",
        "            return True\n",
        "        stack = []\n",
        "        nodes = preorder.split(',')\n",
        "        for idx, n in enumerate(nodes):\n",
        "            if n != '#':\n",
        "                stack.append(False)\n",
        "            else:\n",
        "                while stack and stack[-1]:\n",
        "                    stack.pop()\n",
        "                if not stack:\n",
        "                    return idx+1 == len(nodes)\n",
        "                stack[-1] = True\n",
        "        return not stack"
      ]
    },
    {
      "cell_type": "code",
      "execution_count": 43,
      "metadata": {},
      "outputs": [],
      "source": [
        "s = Solution()\n",
        "assert s.isValidSerialization(\"9,3,4,#,#,1,#,#,2,#,6,#,#\") == True\n",
        "assert s.isValidSerialization(\"1,#\") == False\n",
        "assert s.isValidSerialization(\"9,#,#,1\") == False\n",
        "assert s.isValidSerialization(\"#\") == True\n",
        "assert s.isValidSerialization(\"1,#,#\") == True\n",
        "assert s.isValidSerialization(\"1,#,#,#,#\") == False\n",
        "assert s.isValidSerialization(\"1,#,#,2,#,#\") == False"
      ]
    },
    {
      "cell_type": "code",
      "execution_count": 44,
      "metadata": {},
      "outputs": [
        {
          "data": {
            "text/markdown": [
              "😃 Result: Accepted\n",
              "\n",
              "📥 Input: ``\n",
              "\n",
              "📤 Output: ``\n",
              "\n",
              "✅ Expected: ``\n",
              "\n",
              "💯 Passed Test Case: 151 / 151\n",
              "\n",
              "🚀 Runtime: 63 ms, Memory: 13.8 MB\n",
              "\n",
              "🉑 Runtime Percentile: better than 22.56%, Memory Percentile: better than 99.66%\n",
              "\n",
              "📆 Finished At: 2022-02-19"
            ],
            "text/plain": [
              "<IPython.core.display.Markdown object>"
            ]
          },
          "metadata": {},
          "output_type": "display_data"
        }
      ],
      "source": [
        "import sys, os; sys.path.append(os.path.abspath('..'))\n",
        "from submitter import submit\n",
        "submit(331)"
      ]
    }
  ],
  "metadata": {
    "authors": [
      {
        "name": "Soros Liu"
      }
    ],
    "kernelspec": {
      "display_name": "Python 3",
      "language": "python",
      "name": "python3"
    },
    "language_info": {
      "codemirror_mode": {
        "name": "ipython",
        "version": 3
      },
      "file_extension": ".py",
      "mimetype": "text/x-python",
      "name": "python",
      "nbconvert_exporter": "python",
      "pygments_lexer": "ipython3",
      "version": "3.8.6"
    },
    "leetcode_question_info": {
      "questionFrontendId": "331",
      "questionId": "331",
      "sampleTestCase": "\"9,3,4,#,#,1,#,#,2,#,6,#,#\"",
      "submitUrl": "/problems/verify-preorder-serialization-of-a-binary-tree/submit/"
    }
  },
  "nbformat": 4,
  "nbformat_minor": 2
}
