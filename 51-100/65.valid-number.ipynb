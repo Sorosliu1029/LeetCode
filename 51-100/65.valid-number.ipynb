{
 "cells": [
  {
   "cell_type": "markdown",
   "metadata": {},
   "source": [
    "### 65. Valid Number"
   ]
  },
  {
   "cell_type": "markdown",
   "metadata": {},
   "source": [
    "#### Content\n",
    "<p>A <strong>valid number</strong> can be split up into these components (in order):</p>\n",
    "\n",
    "<ol>\n",
    "\t<li>A <strong>decimal number</strong> or an <strong>integer</strong>.</li>\n",
    "\t<li>(Optional) An <code>&#39;e&#39;</code> or <code>&#39;E&#39;</code>, followed by an <strong>integer</strong>.</li>\n",
    "</ol>\n",
    "\n",
    "<p>A <strong>decimal number</strong> can be split up into these components (in order):</p>\n",
    "\n",
    "<ol>\n",
    "\t<li>(Optional) A sign character (either <code>&#39;+&#39;</code> or <code>&#39;-&#39;</code>).</li>\n",
    "\t<li>One of the following formats:\n",
    "\t<ol>\n",
    "\t\t<li>One or more digits, followed by a dot <code>&#39;.&#39;</code>.</li>\n",
    "\t\t<li>One or more digits, followed by a dot <code>&#39;.&#39;</code>, followed by one or more digits.</li>\n",
    "\t\t<li>A dot <code>&#39;.&#39;</code>, followed by one or more digits.</li>\n",
    "\t</ol>\n",
    "\t</li>\n",
    "</ol>\n",
    "\n",
    "<p>An <strong>integer</strong> can be split up into these components (in order):</p>\n",
    "\n",
    "<ol>\n",
    "\t<li>(Optional) A sign character (either <code>&#39;+&#39;</code> or <code>&#39;-&#39;</code>).</li>\n",
    "\t<li>One or more digits.</li>\n",
    "</ol>\n",
    "\n",
    "<p>For example, all the following are valid numbers: <code>[&quot;2&quot;, &quot;0089&quot;, &quot;-0.1&quot;, &quot;+3.14&quot;, &quot;4.&quot;, &quot;-.9&quot;, &quot;2e10&quot;, &quot;-90E3&quot;, &quot;3e+7&quot;, &quot;+6e-1&quot;, &quot;53.5e93&quot;, &quot;-123.456e789&quot;]</code>, while the following are not valid numbers: <code>[&quot;abc&quot;, &quot;1a&quot;, &quot;1e&quot;, &quot;e3&quot;, &quot;99e2.5&quot;, &quot;--6&quot;, &quot;-+3&quot;, &quot;95a54e53&quot;]</code>.</p>\n",
    "\n",
    "<p>Given a string <code>s</code>, return <code>true</code><em> if </em><code>s</code><em> is a <strong>valid number</strong></em>.</p>\n",
    "\n",
    "<p>&nbsp;</p>\n",
    "<p><strong>Example 1:</strong></p>\n",
    "\n",
    "<pre>\n",
    "<strong>Input:</strong> s = &quot;0&quot;\n",
    "<strong>Output:</strong> true\n",
    "</pre>\n",
    "\n",
    "<p><strong>Example 2:</strong></p>\n",
    "\n",
    "<pre>\n",
    "<strong>Input:</strong> s = &quot;e&quot;\n",
    "<strong>Output:</strong> false\n",
    "</pre>\n",
    "\n",
    "<p><strong>Example 3:</strong></p>\n",
    "\n",
    "<pre>\n",
    "<strong>Input:</strong> s = &quot;.&quot;\n",
    "<strong>Output:</strong> false\n",
    "</pre>\n",
    "\n",
    "<p><strong>Example 4:</strong></p>\n",
    "\n",
    "<pre>\n",
    "<strong>Input:</strong> s = &quot;.1&quot;\n",
    "<strong>Output:</strong> true\n",
    "</pre>\n",
    "\n",
    "<p>&nbsp;</p>\n",
    "<p><strong>Constraints:</strong></p>\n",
    "\n",
    "<ul>\n",
    "\t<li><code>1 &lt;= s.length &lt;= 20</code></li>\n",
    "\t<li><code>s</code> consists of only English letters (both uppercase and lowercase), digits (<code>0-9</code>), plus <code>&#39;+&#39;</code>, minus <code>&#39;-&#39;</code>, or dot <code>&#39;.&#39;</code>.</li>\n",
    "</ul>\n"
   ]
  },
  {
   "cell_type": "markdown",
   "metadata": {},
   "source": [
    "#### Difficulty: Hard, AC rate: 16.9%\n",
    "\n",
    "#### Question Tags:\n",
    "- String\n",
    "\n",
    "#### Links:\n",
    " 🎁 [Question Detail](https://leetcode.com/problems/valid-number/description/) | 🎉 [Question Solution](https://leetcode.com/problems/valid-number/solution/) | 💬 [Question Discussion](https://leetcode.com/problems/valid-number/discuss/?orderBy=most_votes)\n",
    "\n",
    "#### Hints:\n"
   ]
  },
  {
   "cell_type": "markdown",
   "metadata": {},
   "source": [
    "#### Sample Test Case\n",
    "\"0\""
   ]
  },
  {
   "cell_type": "markdown",
   "metadata": {},
   "source": [
    "---\n",
    "What's your idea?\n",
    "\n",
    "对照判断标准检查即可\n",
    "\n",
    "---"
   ]
  },
  {
   "cell_type": "code",
   "execution_count": 1,
   "metadata": {
    "isSolutionCode": true
   },
   "outputs": [],
   "source": [
    "class Solution:\n",
    "    def isNumber(self, s: str) -> bool:\n",
    "        e_idx = 0\n",
    "        length = len(s)\n",
    "        while e_idx < length:\n",
    "            if s[e_idx] == 'e' or s[e_idx] == 'E':\n",
    "                break\n",
    "            else:\n",
    "                e_idx += 1\n",
    "                \n",
    "        if e_idx < length:\n",
    "            if e_idx == length-1:\n",
    "                return False\n",
    "            return (self.isDecimal(s[:e_idx]) or self.isInteger(s[:e_idx])) and self.isInteger(s[e_idx+1:])\n",
    "        else:\n",
    "            return self.isDecimal(s) or self.isInteger(s)\n",
    "        \n",
    "    def isOneOrMoreDigits(self, s: str) -> bool:\n",
    "        length = len(s)\n",
    "        if not length:\n",
    "            return False\n",
    "        \n",
    "        p = 0\n",
    "        while p < length:\n",
    "            if '0' <= s[p] <= '9':\n",
    "                p += 1\n",
    "            else:\n",
    "                return False\n",
    "        return True\n",
    "    \n",
    "    def isInteger(self, s: str) -> bool:\n",
    "        length = len(s)\n",
    "        if not length:\n",
    "            return False\n",
    "        \n",
    "        p = 0\n",
    "        if s[p] == '-' or s[p] == '+':\n",
    "            p += 1\n",
    "        \n",
    "        return self.isOneOrMoreDigits(s[p:])\n",
    "    \n",
    "    def isDecimal(self, s: str) -> bool:\n",
    "        length = len(s)\n",
    "        if not length:\n",
    "            return False\n",
    "        \n",
    "        p = 0\n",
    "        if s[p] == '-' or s[p] == '+':\n",
    "            p += 1\n",
    "            \n",
    "        if p >= length:\n",
    "            return False\n",
    "        \n",
    "        if s[p] == '.':\n",
    "            return self.isOneOrMoreDigits(s[p+1:])\n",
    "        elif '0' <= s[p] <= '9':\n",
    "            first_dot_idx = s.find('.')\n",
    "            if first_dot_idx < 0:\n",
    "                return False\n",
    "            elif first_dot_idx == length-1:\n",
    "                return self.isOneOrMoreDigits(s[p:-1])\n",
    "            else:\n",
    "                return self.isOneOrMoreDigits(s[p:first_dot_idx]) and self.isOneOrMoreDigits(s[first_dot_idx+1:])\n",
    "        else:\n",
    "            return False"
   ]
  },
  {
   "cell_type": "code",
   "execution_count": 2,
   "metadata": {},
   "outputs": [
    {
     "name": "stdout",
     "output_type": "stream",
     "text": [
      "True\n",
      "True\n",
      "True\n",
      "True\n",
      "2 True\n",
      "0089 True\n",
      "-0.1 True\n",
      "+3.14 True\n",
      "4. True\n",
      "-.9 True\n",
      "2e10 True\n",
      "-90E3 True\n",
      "3e+7 True\n",
      "+6e-1 True\n",
      "53.5e93 True\n",
      "-123.456e789 True\n",
      "------------------------------\n",
      "abc False\n",
      "1a False\n",
      "1e False\n",
      "e3 False\n",
      "99e2.5 False\n",
      "--6 False\n",
      "-+3 False\n",
      "95a54e53 False\n",
      "False\n"
     ]
    }
   ],
   "source": [
    "s = Solution()\n",
    "print(s.isNumber(\"0\") == True)\n",
    "print(s.isNumber(\"e\") == False)\n",
    "print(s.isNumber(\".\") == False)\n",
    "print(s.isNumber(\".1\") == True)\n",
    "\n",
    "for n in [\"2\", \"0089\", \"-0.1\", \"+3.14\", \"4.\", \"-.9\", \"2e10\", \"-90E3\", \"3e+7\", \"+6e-1\", \"53.5e93\", \"-123.456e789\"]:\n",
    "    print(n, s.isNumber(n))\n",
    "    \n",
    "print('-' * 30)\n",
    "for n in [\"abc\", \"1a\", \"1e\", \"e3\", \"99e2.5\", \"--6\", \"-+3\", \"95a54e53\"]:\n",
    "    print(n, s.isNumber(n))\n",
    "\n",
    "print(s.isNumber(\"6.3.0\"))"
   ]
  },
  {
   "cell_type": "code",
   "execution_count": 3,
   "metadata": {},
   "outputs": [
    {
     "data": {
      "text/markdown": [
       "😃 Result: Accepted\n",
       "\n",
       "📥 Input: ``\n",
       "\n",
       "📤 Output: ``\n",
       "\n",
       "✅ Expected: ``\n",
       "\n",
       "💯 Passed Test Case: 1488 / 1488\n",
       "\n",
       "🚀 Runtime: 45 ms, Memory: 14.3 MB\n",
       "\n",
       "🉑 Runtime Percentile: better than 7.39%, Memory Percentile: better than 63.78%\n",
       "\n",
       "📆 Finished At: 2021-08-13"
      ],
      "text/plain": [
       "<IPython.core.display.Markdown object>"
      ]
     },
     "metadata": {},
     "output_type": "display_data"
    }
   ],
   "source": [
    "import sys, os; sys.path.append(os.path.abspath('..'))\n",
    "from submitter import submit\n",
    "submit(65)"
   ]
  }
 ],
 "metadata": {
  "authors": [
   {
    "name": "Soros Liu"
   }
  ],
  "kernelspec": {
   "display_name": "Python 3",
   "language": "python",
   "name": "python3"
  },
  "language_info": {
   "codemirror_mode": {
    "name": "ipython",
    "version": 3
   },
   "file_extension": ".py",
   "mimetype": "text/x-python",
   "name": "python",
   "nbconvert_exporter": "python",
   "pygments_lexer": "ipython3",
   "version": "3.8.6"
  },
  "leetcode_question_info": {
   "sampleTestCase": "\"0\"",
   "submitUrl": "/problems/valid-number/submit/"
  }
 },
 "nbformat": 4,
 "nbformat_minor": 2
}
