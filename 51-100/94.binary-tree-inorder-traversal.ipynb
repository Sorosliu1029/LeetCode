{
 "cells": [
  {
   "cell_type": "markdown",
   "metadata": {},
   "source": [
    "### 94. Binary Tree Inorder Traversal"
   ]
  },
  {
   "cell_type": "markdown",
   "metadata": {},
   "source": [
    "#### Content\n",
    "<p>Given the <code>root</code> of a binary tree, return <em>the inorder traversal of its nodes&#39; values</em>.</p>\n",
    "\n",
    "<p>&nbsp;</p>\n",
    "<p><strong>Example 1:</strong></p>\n",
    "<img alt=\"\" src=\"https://assets.leetcode.com/uploads/2020/09/15/inorder_1.jpg\" style=\"width: 202px; height: 324px;\" />\n",
    "<pre>\n",
    "<strong>Input:</strong> root = [1,null,2,3]\n",
    "<strong>Output:</strong> [1,3,2]\n",
    "</pre>\n",
    "\n",
    "<p><strong>Example 2:</strong></p>\n",
    "\n",
    "<pre>\n",
    "<strong>Input:</strong> root = []\n",
    "<strong>Output:</strong> []\n",
    "</pre>\n",
    "\n",
    "<p><strong>Example 3:</strong></p>\n",
    "\n",
    "<pre>\n",
    "<strong>Input:</strong> root = [1]\n",
    "<strong>Output:</strong> [1]\n",
    "</pre>\n",
    "\n",
    "<p><strong>Example 4:</strong></p>\n",
    "<img alt=\"\" src=\"https://assets.leetcode.com/uploads/2020/09/15/inorder_5.jpg\" style=\"width: 202px; height: 202px;\" />\n",
    "<pre>\n",
    "<strong>Input:</strong> root = [1,2]\n",
    "<strong>Output:</strong> [2,1]\n",
    "</pre>\n",
    "\n",
    "<p><strong>Example 5:</strong></p>\n",
    "<img alt=\"\" src=\"https://assets.leetcode.com/uploads/2020/09/15/inorder_4.jpg\" style=\"width: 202px; height: 202px;\" />\n",
    "<pre>\n",
    "<strong>Input:</strong> root = [1,null,2]\n",
    "<strong>Output:</strong> [1,2]\n",
    "</pre>\n",
    "\n",
    "<p>&nbsp;</p>\n",
    "<p><strong>Constraints:</strong></p>\n",
    "\n",
    "<ul>\n",
    "\t<li>The number of nodes in the tree is in the range <code>[0, 100]</code>.</li>\n",
    "\t<li><code>-100 &lt;= Node.val &lt;= 100</code></li>\n",
    "</ul>\n",
    "\n",
    "<p>&nbsp;</p>\n",
    "<strong>Follow up:</strong> Recursive solution is trivial, could you do it iteratively?"
   ]
  },
  {
   "cell_type": "markdown",
   "metadata": {},
   "source": [
    "#### Difficulty: Easy, AC rate: 68.0%\n",
    "\n",
    "#### Question Tags:\n",
    "- Stack\n",
    "- Tree\n",
    "- Depth-First Search\n",
    "- Binary Tree\n",
    "\n",
    "#### Links:\n",
    " 🎁 [Question Detail](https://leetcode.com/problems/binary-tree-inorder-traversal/description/) | 🎉 [Question Solution](https://leetcode.com/problems/binary-tree-inorder-traversal/solution/) | 💬 [Question Discussion](https://leetcode.com/problems/binary-tree-inorder-traversal/discuss/?orderBy=most_votes)\n",
    "\n",
    "#### Hints:\n"
   ]
  },
  {
   "cell_type": "markdown",
   "metadata": {},
   "source": [
    "#### Sample Test Case\n",
    "[1,null,2,3]"
   ]
  },
  {
   "cell_type": "markdown",
   "metadata": {},
   "source": [
    "---\n",
    "What's your idea?\n",
    "\n",
    "递归\n",
    "\n",
    "---"
   ]
  },
  {
   "cell_type": "code",
   "execution_count": 1,
   "metadata": {
    "isSolutionCode": true
   },
   "outputs": [],
   "source": [
    "from typing import Optional, List\n",
    "\n",
    "# Definition for a binary tree node.\n",
    "class TreeNode:\n",
    "    def __init__(self, val=0, left=None, right=None):\n",
    "        self.val = val\n",
    "        self.left = left\n",
    "        self.right = right\n",
    "        \n",
    "class Solution:\n",
    "    def inorderTraversal(self, root: Optional[TreeNode]) -> List[int]:\n",
    "        if root is None:\n",
    "            return []\n",
    "        \n",
    "        return self.inorderTraversal(root.left) + [root.val] + self.inorderTraversal(root.right)"
   ]
  },
  {
   "cell_type": "code",
   "execution_count": 2,
   "metadata": {},
   "outputs": [
    {
     "data": {
      "text/plain": [
       "[1, 3, 2]"
      ]
     },
     "execution_count": 2,
     "metadata": {},
     "output_type": "execute_result"
    }
   ],
   "source": [
    "s = Solution()\n",
    "\n",
    "n3 = TreeNode(3)\n",
    "n2 = TreeNode(2, n3, None)\n",
    "n1 = TreeNode(1, None, n2)\n",
    "s.inorderTraversal(n1)"
   ]
  },
  {
   "cell_type": "code",
   "execution_count": 3,
   "metadata": {},
   "outputs": [
    {
     "data": {
      "text/plain": [
       "[]"
      ]
     },
     "execution_count": 3,
     "metadata": {},
     "output_type": "execute_result"
    }
   ],
   "source": [
    "s.inorderTraversal(None)"
   ]
  },
  {
   "cell_type": "code",
   "execution_count": 4,
   "metadata": {},
   "outputs": [
    {
     "data": {
      "text/plain": [
       "[2, 1]"
      ]
     },
     "execution_count": 4,
     "metadata": {},
     "output_type": "execute_result"
    }
   ],
   "source": [
    "n2 = TreeNode(2)\n",
    "n1 = TreeNode(1, n2, None)\n",
    "\n",
    "s.inorderTraversal(n1)"
   ]
  },
  {
   "cell_type": "code",
   "execution_count": 5,
   "metadata": {},
   "outputs": [
    {
     "data": {
      "text/plain": [
       "[1, 2]"
      ]
     },
     "execution_count": 5,
     "metadata": {},
     "output_type": "execute_result"
    }
   ],
   "source": [
    "n2 = TreeNode(2)\n",
    "n1 = TreeNode(1, None, n2)\n",
    "\n",
    "s.inorderTraversal(n1)"
   ]
  },
  {
   "cell_type": "code",
   "execution_count": 6,
   "metadata": {},
   "outputs": [
    {
     "data": {
      "text/markdown": [
       "😃 Result: Accepted\n",
       "\n",
       "📥 Input: ``\n",
       "\n",
       "📤 Output: ``\n",
       "\n",
       "✅ Expected: ``\n",
       "\n",
       "💯 Passed Test Case: 68 / 68\n",
       "\n",
       "🚀 Runtime: 54 ms, Memory: 14.3 MB\n",
       "\n",
       "🉑 Runtime Percentile: better than 5.29%, Memory Percentile: better than 46.87%\n",
       "\n",
       "📆 Finished At: 2021-08-30"
      ],
      "text/plain": [
       "<IPython.core.display.Markdown object>"
      ]
     },
     "metadata": {},
     "output_type": "display_data"
    }
   ],
   "source": [
    "import sys, os; sys.path.append(os.path.abspath('..'))\n",
    "from submitter import submit\n",
    "submit(94)"
   ]
  }
 ],
 "metadata": {
  "authors": [
   {
    "name": "Soros Liu"
   }
  ],
  "kernelspec": {
   "display_name": "Python 3",
   "language": "python",
   "name": "python3"
  },
  "language_info": {
   "codemirror_mode": {
    "name": "ipython",
    "version": 3
   },
   "file_extension": ".py",
   "mimetype": "text/x-python",
   "name": "python",
   "nbconvert_exporter": "python",
   "pygments_lexer": "ipython3",
   "version": "3.8.6"
  },
  "leetcode_question_info": {
   "questionFrontendId": "94",
   "questionId": "94",
   "sampleTestCase": "[1,null,2,3]",
   "submitUrl": "/problems/binary-tree-inorder-traversal/submit/"
  }
 },
 "nbformat": 4,
 "nbformat_minor": 2
}
