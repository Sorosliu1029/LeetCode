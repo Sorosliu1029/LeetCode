{
 "cells": [
  {
   "cell_type": "markdown",
   "metadata": {},
   "source": [
    "### 98. Validate Binary Search Tree"
   ]
  },
  {
   "cell_type": "markdown",
   "metadata": {},
   "source": [
    "#### Content\n",
    "<p>Given the <code>root</code> of a binary tree, <em>determine if it is a valid binary search tree (BST)</em>.</p>\n",
    "\n",
    "<p>A <strong>valid BST</strong> is defined as follows:</p>\n",
    "\n",
    "<ul>\n",
    "\t<li>The left subtree of a node contains only nodes with keys <strong>less than</strong> the node&#39;s key.</li>\n",
    "\t<li>The right subtree of a node contains only nodes with keys <strong>greater than</strong> the node&#39;s key.</li>\n",
    "\t<li>Both the left and right subtrees must also be binary search trees.</li>\n",
    "</ul>\n",
    "\n",
    "<p>&nbsp;</p>\n",
    "<p><strong>Example 1:</strong></p>\n",
    "<img alt=\"\" src=\"https://assets.leetcode.com/uploads/2020/12/01/tree1.jpg\" style=\"width: 302px; height: 182px;\" />\n",
    "<pre>\n",
    "<strong>Input:</strong> root = [2,1,3]\n",
    "<strong>Output:</strong> true\n",
    "</pre>\n",
    "\n",
    "<p><strong>Example 2:</strong></p>\n",
    "<img alt=\"\" src=\"https://assets.leetcode.com/uploads/2020/12/01/tree2.jpg\" style=\"width: 422px; height: 292px;\" />\n",
    "<pre>\n",
    "<strong>Input:</strong> root = [5,1,4,null,null,3,6]\n",
    "<strong>Output:</strong> false\n",
    "<strong>Explanation:</strong> The root node&#39;s value is 5 but its right child&#39;s value is 4.\n",
    "</pre>\n",
    "\n",
    "<p>&nbsp;</p>\n",
    "<p><strong>Constraints:</strong></p>\n",
    "\n",
    "<ul>\n",
    "\t<li>The number of nodes in the tree is in the range <code>[1, 10<sup>4</sup>]</code>.</li>\n",
    "\t<li><code>-2<sup>31</sup> &lt;= Node.val &lt;= 2<sup>31</sup> - 1</code></li>\n",
    "</ul>\n"
   ]
  },
  {
   "cell_type": "markdown",
   "metadata": {},
   "source": [
    "#### Difficulty: Medium, AC rate: 29.3%\n",
    "\n",
    "#### Question Tags:\n",
    "- Tree\n",
    "- Depth-First Search\n",
    "- Binary Search Tree\n",
    "- Binary Tree\n",
    "\n",
    "#### Links:\n",
    " 🎁 [Question Detail](https://leetcode.com/problems/validate-binary-search-tree/description/) | 🎉 [Question Solution](https://leetcode.com/problems/validate-binary-search-tree/solution/) | 💬 [Question Discussion](https://leetcode.com/problems/validate-binary-search-tree/discuss/?orderBy=most_votes)\n",
    "\n",
    "#### Hints:\n"
   ]
  },
  {
   "cell_type": "markdown",
   "metadata": {},
   "source": [
    "#### Sample Test Case\n",
    "[2,1,3]"
   ]
  },
  {
   "cell_type": "markdown",
   "metadata": {},
   "source": [
    "---\n",
    "What's your idea?\n",
    "\n",
    "转换为检查「中序遍历是否严格单调递增」问题\n",
    "\n",
    "---"
   ]
  },
  {
   "cell_type": "code",
   "execution_count": 1,
   "metadata": {
    "isSolutionCode": true
   },
   "outputs": [],
   "source": [
    "from typing import List\n",
    "\n",
    "# Definition for a binary tree node.\n",
    "class TreeNode:\n",
    "    def __init__(self, val=0, left=None, right=None):\n",
    "        self.val = val\n",
    "        self.left = left\n",
    "        self.right = right\n",
    "        \n",
    "class Solution:\n",
    "    def isValidBST(self, root: TreeNode) -> bool:\n",
    "        curr_min = [(-2)**31 - 1]\n",
    "        return self.visit(root, curr_min)\n",
    "    \n",
    "    def visit(self, node: TreeNode, curr_min: List[int]) -> bool:\n",
    "        is_left_valid = node.left is None or self.visit(node.left, curr_min)\n",
    "            \n",
    "        if node.val <= curr_min[0]:\n",
    "            return False\n",
    "        else:\n",
    "            curr_min[0] = node.val\n",
    "        \n",
    "        is_right_valid = node.right is None or self.visit(node.right, curr_min)\n",
    "        \n",
    "        return is_left_valid and is_right_valid"
   ]
  },
  {
   "cell_type": "code",
   "execution_count": 2,
   "metadata": {},
   "outputs": [
    {
     "data": {
      "text/plain": [
       "True"
      ]
     },
     "execution_count": 2,
     "metadata": {},
     "output_type": "execute_result"
    }
   ],
   "source": [
    "s = Solution()\n",
    "\n",
    "n1 = TreeNode(1)\n",
    "n3 = TreeNode(3)\n",
    "n2 = TreeNode(2, n1, n3)\n",
    "s.isValidBST(n2)"
   ]
  },
  {
   "cell_type": "code",
   "execution_count": 3,
   "metadata": {},
   "outputs": [
    {
     "data": {
      "text/plain": [
       "False"
      ]
     },
     "execution_count": 3,
     "metadata": {},
     "output_type": "execute_result"
    }
   ],
   "source": [
    "n1 = TreeNode(1)\n",
    "n3 = TreeNode(3)\n",
    "n6 = TreeNode(6)\n",
    "n4 = TreeNode(4, n3, n6)\n",
    "n5 = TreeNode(5, n1, n4)\n",
    "s.isValidBST(n5)"
   ]
  },
  {
   "cell_type": "code",
   "execution_count": 4,
   "metadata": {},
   "outputs": [
    {
     "data": {
      "text/plain": [
       "True"
      ]
     },
     "execution_count": 4,
     "metadata": {},
     "output_type": "execute_result"
    }
   ],
   "source": [
    "n_negative1 = TreeNode(-1)\n",
    "n_0 = TreeNode(0, n_negative1)\n",
    "s.isValidBST(n_0)"
   ]
  },
  {
   "cell_type": "code",
   "execution_count": 5,
   "metadata": {},
   "outputs": [
    {
     "data": {
      "text/plain": [
       "False"
      ]
     },
     "execution_count": 5,
     "metadata": {},
     "output_type": "execute_result"
    }
   ],
   "source": [
    "n3 = TreeNode(3)\n",
    "n7 = TreeNode(7)\n",
    "n6 = TreeNode(6, n3, n7)\n",
    "n4 = TreeNode(4)\n",
    "n5 = TreeNode(5, n4, n6)\n",
    "s.isValidBST(n5)"
   ]
  },
  {
   "cell_type": "code",
   "execution_count": 6,
   "metadata": {},
   "outputs": [
    {
     "data": {
      "text/plain": [
       "False"
      ]
     },
     "execution_count": 6,
     "metadata": {},
     "output_type": "execute_result"
    }
   ],
   "source": [
    "n1_1 = TreeNode(1)\n",
    "n1_2 = TreeNode(1, n1_1)\n",
    "s.isValidBST(n1_2)"
   ]
  },
  {
   "cell_type": "code",
   "execution_count": 7,
   "metadata": {},
   "outputs": [
    {
     "data": {
      "text/markdown": [
       "😃 Result: Accepted\n",
       "\n",
       "📥 Input: ``\n",
       "\n",
       "📤 Output: ``\n",
       "\n",
       "✅ Expected: ``\n",
       "\n",
       "💯 Passed Test Case: 80 / 80\n",
       "\n",
       "🚀 Runtime: 40 ms, Memory: 16.9 MB\n",
       "\n",
       "🉑 Runtime Percentile: better than 89.92%, Memory Percentile: better than 24.39%\n",
       "\n",
       "📆 Finished At: 2021-07-31"
      ],
      "text/plain": [
       "<IPython.core.display.Markdown object>"
      ]
     },
     "metadata": {},
     "output_type": "display_data"
    }
   ],
   "source": [
    "import sys, os; sys.path.append(os.path.abspath('..'))\n",
    "from submitter import submit\n",
    "submit(98)"
   ]
  }
 ],
 "metadata": {
  "authors": [
   {
    "name": "Soros Liu"
   }
  ],
  "kernelspec": {
   "display_name": "Python 3",
   "language": "python",
   "name": "python3"
  },
  "language_info": {
   "codemirror_mode": {
    "name": "ipython",
    "version": 3
   },
   "file_extension": ".py",
   "mimetype": "text/x-python",
   "name": "python",
   "nbconvert_exporter": "python",
   "pygments_lexer": "ipython3",
   "version": "3.8.6"
  },
  "leetcode_question_info": {
   "sampleTestCase": "[2,1,3]",
   "submitUrl": "/problems/validate-binary-search-tree/submit/"
  }
 },
 "nbformat": 4,
 "nbformat_minor": 2
}
