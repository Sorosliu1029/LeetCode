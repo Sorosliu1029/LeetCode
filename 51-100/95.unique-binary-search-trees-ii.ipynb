{
  "cells": [
    {
      "cell_type": "markdown",
      "metadata": {},
      "source": [
        "### 95. Unique Binary Search Trees II"
      ]
    },
    {
      "cell_type": "markdown",
      "metadata": {},
      "source": [
        "#### Content\n",
        "<p>Given an integer <code>n</code>, return <em>all the structurally unique <strong>BST&#39;</strong>s (binary search trees), which has exactly </em><code>n</code><em> nodes of unique values from</em> <code>1</code> <em>to</em> <code>n</code>. Return the answer in <strong>any order</strong>.</p>\n",
        "\n",
        "<p>&nbsp;</p>\n",
        "<p><strong>Example 1:</strong></p>\n",
        "<img alt=\"\" src=\"https://assets.leetcode.com/uploads/2021/01/18/uniquebstn3.jpg\" style=\"width: 600px; height: 148px;\" />\n",
        "<pre>\n",
        "<strong>Input:</strong> n = 3\n",
        "<strong>Output:</strong> [[1,null,2,null,3],[1,null,3,2],[2,1,3],[3,1,null,null,2],[3,2,null,1]]\n",
        "</pre>\n",
        "\n",
        "<p><strong>Example 2:</strong></p>\n",
        "\n",
        "<pre>\n",
        "<strong>Input:</strong> n = 1\n",
        "<strong>Output:</strong> [[1]]\n",
        "</pre>\n",
        "\n",
        "<p>&nbsp;</p>\n",
        "<p><strong>Constraints:</strong></p>\n",
        "\n",
        "<ul>\n",
        "\t<li><code>1 &lt;= n &lt;= 8</code></li>\n",
        "</ul>\n"
      ]
    },
    {
      "cell_type": "markdown",
      "metadata": {},
      "source": [
        "#### Difficulty: Medium, AC rate: 48.7%\n",
        "\n",
        "#### Question Tags:\n",
        "- Dynamic Programming\n",
        "- Backtracking\n",
        "- Tree\n",
        "- Binary Search Tree\n",
        "- Binary Tree\n",
        "\n",
        "#### Links:\n",
        " 🎁 [Question Detail](https://leetcode.com/problems/unique-binary-search-trees-ii/description/) | 🎉 [Question Solution](https://leetcode.com/problems/unique-binary-search-trees-ii/solution/) | 💬 [Question Discussion](https://leetcode.com/problems/unique-binary-search-trees-ii/discuss/?orderBy=most_votes)\n",
        "\n",
        "#### Hints:\n"
      ]
    },
    {
      "cell_type": "markdown",
      "metadata": {},
      "source": [
        "#### Sample Test Case\n",
        "3"
      ]
    },
    {
      "cell_type": "markdown",
      "metadata": {},
      "source": [
        "---\n",
        "What's your idea?\n",
        "\n",
        "根节点占一个节点，左右子树分别分配节点数，组合构造出所有结构\n",
        "\n",
        "然后按中序遍历的方式从1开始填充 `val`\n",
        "\n",
        "---"
      ]
    },
    {
      "cell_type": "code",
      "execution_count": 39,
      "metadata": {
        "isSolutionCode": true
      },
      "outputs": [],
      "source": [
        "from typing import List, Optional\n",
        "# Definition for a binary tree node.\n",
        "class TreeNode:\n",
        "    def __init__(self, val=0, left=None, right=None):\n",
        "        self.val = val\n",
        "        self.left = left\n",
        "        self.right = right\n",
        "\n",
        "class Solution:\n",
        "    def generateTrees(self, n: int) -> List[Optional[TreeNode]]:\n",
        "        memory = dict()\n",
        "        trees = self.recur(n, memory)\n",
        "        r = []\n",
        "        for t in trees:\n",
        "            next_val = [1]\n",
        "            r.append(self.fill_tree(t, next_val))\n",
        "        return r\n",
        "    \n",
        "    def recur(self, n, memory):\n",
        "        if n in memory:\n",
        "            return memory[n]\n",
        "        if n == 0:\n",
        "            return [None]\n",
        "        r = []\n",
        "        for i in range(n):\n",
        "            for left_tree in self.generateTrees(i):\n",
        "                for right_tree in self.generateTrees(n-1-i):\n",
        "                    r.append(TreeNode(left=self.copy_tree(left_tree), right=self.copy_tree(right_tree)))\n",
        "        memory[n] = r\n",
        "        return r\n",
        "    \n",
        "    def copy_tree(self, root):\n",
        "        if root is None:\n",
        "            return None\n",
        "        return TreeNode(left=self.copy_tree(root.left), right=self.copy_tree(root.right))\n",
        "    \n",
        "    def fill_tree(self, root, next_val):\n",
        "        if root is None:\n",
        "            return None\n",
        "        root.left = self.fill_tree(root.left, next_val)\n",
        "        root.val = next_val[0]\n",
        "        next_val[0] = next_val[0] + 1\n",
        "        root.right = self.fill_tree(root.right, next_val)\n",
        "        return root"
      ]
    },
    {
      "cell_type": "code",
      "execution_count": 40,
      "metadata": {},
      "outputs": [
        {
          "data": {
            "image/svg+xml": "<?xml version=\"1.0\" encoding=\"UTF-8\" standalone=\"no\"?>\n<!DOCTYPE svg PUBLIC \"-//W3C//DTD SVG 1.1//EN\"\n \"http://www.w3.org/Graphics/SVG/1.1/DTD/svg11.dtd\">\n<!-- Generated by graphviz version 2.48.0 (20210717.2242)\n -->\n<!-- Pages: 1 -->\n<svg width=\"135pt\" height=\"188pt\"\n viewBox=\"0.00 0.00 134.50 188.00\" xmlns=\"http://www.w3.org/2000/svg\" xmlns:xlink=\"http://www.w3.org/1999/xlink\">\n<g id=\"graph0\" class=\"graph\" transform=\"scale(1 1) rotate(0) translate(4 184)\">\n<polygon fill=\"white\" stroke=\"transparent\" points=\"-4,4 -4,-184 130.5,-184 130.5,4 -4,4\"/>\n<!-- 0x7efdf0a37be0 -->\n<g id=\"node1\" class=\"node\">\n<title>0x7efdf0a37be0</title>\n<ellipse fill=\"none\" stroke=\"black\" cx=\"28.5\" cy=\"-162\" rx=\"18\" ry=\"18\"/>\n<text text-anchor=\"middle\" x=\"28.5\" y=\"-158.3\" font-family=\"Times,serif\" font-size=\"14.00\">1</text>\n</g>\n<!-- 0x7efdf0a37be0invis_l -->\n<!-- 0x7efdf0a37be0&#45;&gt;0x7efdf0a37be0invis_l -->\n<!-- 0x7efdf0a37be0invis_m -->\n<!-- 0x7efdf0a37be0&#45;&gt;0x7efdf0a37be0invis_m -->\n<!-- 0x7efdf0a37dc0 -->\n<g id=\"node4\" class=\"node\">\n<title>0x7efdf0a37dc0</title>\n<ellipse fill=\"none\" stroke=\"black\" cx=\"68.5\" cy=\"-90\" rx=\"18\" ry=\"18\"/>\n<text text-anchor=\"middle\" x=\"68.5\" y=\"-86.3\" font-family=\"Times,serif\" font-size=\"14.00\">2</text>\n</g>\n<!-- 0x7efdf0a37be0&#45;&gt;0x7efdf0a37dc0 -->\n<g id=\"edge3\" class=\"edge\">\n<title>0x7efdf0a37be0&#45;&gt;0x7efdf0a37dc0</title>\n<path fill=\"none\" stroke=\"black\" d=\"M37.18,-145.81C42.32,-136.82 48.94,-125.23 54.77,-115.03\"/>\n<polygon fill=\"black\" stroke=\"black\" points=\"57.91,-116.58 59.84,-106.16 51.84,-113.11 57.91,-116.58\"/>\n</g>\n<!-- 0x7efdf0a37dc0invis_l -->\n<!-- 0x7efdf0a37dc0&#45;&gt;0x7efdf0a37dc0invis_l -->\n<!-- 0x7efdf0a37dc0invis_m -->\n<!-- 0x7efdf0a37dc0&#45;&gt;0x7efdf0a37dc0invis_m -->\n<!-- 0x7efdf0a2a4f0 -->\n<g id=\"node7\" class=\"node\">\n<title>0x7efdf0a2a4f0</title>\n<ellipse fill=\"none\" stroke=\"black\" cx=\"108.5\" cy=\"-18\" rx=\"18\" ry=\"18\"/>\n<text text-anchor=\"middle\" x=\"108.5\" y=\"-14.3\" font-family=\"Times,serif\" font-size=\"14.00\">3</text>\n</g>\n<!-- 0x7efdf0a37dc0&#45;&gt;0x7efdf0a2a4f0 -->\n<g id=\"edge6\" class=\"edge\">\n<title>0x7efdf0a37dc0&#45;&gt;0x7efdf0a2a4f0</title>\n<path fill=\"none\" stroke=\"black\" d=\"M77.18,-73.81C82.32,-64.82 88.94,-53.23 94.77,-43.03\"/>\n<polygon fill=\"black\" stroke=\"black\" points=\"97.91,-44.58 99.84,-34.16 91.84,-41.11 97.91,-44.58\"/>\n</g>\n</g>\n</svg>\n",
            "text/plain": [
              "<graphviz.dot.Digraph at 0x7efdf0a2a7c0>"
            ]
          },
          "metadata": {},
          "output_type": "display_data"
        },
        {
          "data": {
            "image/svg+xml": "<?xml version=\"1.0\" encoding=\"UTF-8\" standalone=\"no\"?>\n<!DOCTYPE svg PUBLIC \"-//W3C//DTD SVG 1.1//EN\"\n \"http://www.w3.org/Graphics/SVG/1.1/DTD/svg11.dtd\">\n<!-- Generated by graphviz version 2.48.0 (20210717.2242)\n -->\n<!-- Pages: 1 -->\n<svg width=\"105pt\" height=\"188pt\"\n viewBox=\"0.00 0.00 105.00 188.00\" xmlns=\"http://www.w3.org/2000/svg\" xmlns:xlink=\"http://www.w3.org/1999/xlink\">\n<g id=\"graph0\" class=\"graph\" transform=\"scale(1 1) rotate(0) translate(4 184)\">\n<polygon fill=\"white\" stroke=\"transparent\" points=\"-4,4 -4,-184 101,-184 101,4 -4,4\"/>\n<!-- 0x7efdf0a37d60 -->\n<g id=\"node1\" class=\"node\">\n<title>0x7efdf0a37d60</title>\n<ellipse fill=\"none\" stroke=\"black\" cx=\"28.5\" cy=\"-162\" rx=\"18\" ry=\"18\"/>\n<text text-anchor=\"middle\" x=\"28.5\" y=\"-158.3\" font-family=\"Times,serif\" font-size=\"14.00\">1</text>\n</g>\n<!-- 0x7efdf0a37d60invis_l -->\n<!-- 0x7efdf0a37d60&#45;&gt;0x7efdf0a37d60invis_l -->\n<!-- 0x7efdf0a37d60invis_m -->\n<!-- 0x7efdf0a37d60&#45;&gt;0x7efdf0a37d60invis_m -->\n<!-- 0x7efdf0a376d0 -->\n<g id=\"node4\" class=\"node\">\n<title>0x7efdf0a376d0</title>\n<ellipse fill=\"none\" stroke=\"black\" cx=\"68.5\" cy=\"-90\" rx=\"18\" ry=\"18\"/>\n<text text-anchor=\"middle\" x=\"68.5\" y=\"-86.3\" font-family=\"Times,serif\" font-size=\"14.00\">3</text>\n</g>\n<!-- 0x7efdf0a37d60&#45;&gt;0x7efdf0a376d0 -->\n<g id=\"edge3\" class=\"edge\">\n<title>0x7efdf0a37d60&#45;&gt;0x7efdf0a376d0</title>\n<path fill=\"none\" stroke=\"black\" d=\"M37.18,-145.81C42.32,-136.82 48.94,-125.23 54.77,-115.03\"/>\n<polygon fill=\"black\" stroke=\"black\" points=\"57.91,-116.58 59.84,-106.16 51.84,-113.11 57.91,-116.58\"/>\n</g>\n<!-- 0x7efdf0a37e20 -->\n<g id=\"node5\" class=\"node\">\n<title>0x7efdf0a37e20</title>\n<ellipse fill=\"none\" stroke=\"black\" cx=\"28.5\" cy=\"-18\" rx=\"18\" ry=\"18\"/>\n<text text-anchor=\"middle\" x=\"28.5\" y=\"-14.3\" font-family=\"Times,serif\" font-size=\"14.00\">2</text>\n</g>\n<!-- 0x7efdf0a376d0&#45;&gt;0x7efdf0a37e20 -->\n<g id=\"edge4\" class=\"edge\">\n<title>0x7efdf0a376d0&#45;&gt;0x7efdf0a37e20</title>\n<path fill=\"none\" stroke=\"black\" d=\"M59.82,-73.81C54.68,-64.82 48.06,-53.23 42.23,-43.03\"/>\n<polygon fill=\"black\" stroke=\"black\" points=\"45.16,-41.11 37.16,-34.16 39.09,-44.58 45.16,-41.11\"/>\n</g>\n<!-- 0x7efdf0a376d0invis_m -->\n<!-- 0x7efdf0a376d0&#45;&gt;0x7efdf0a376d0invis_m -->\n<!-- 0x7efdf0a376d0invis_r -->\n<!-- 0x7efdf0a376d0&#45;&gt;0x7efdf0a376d0invis_r -->\n</g>\n</svg>\n",
            "text/plain": [
              "<graphviz.dot.Digraph at 0x7efdf0a2a7c0>"
            ]
          },
          "metadata": {},
          "output_type": "display_data"
        },
        {
          "data": {
            "image/svg+xml": "<?xml version=\"1.0\" encoding=\"UTF-8\" standalone=\"no\"?>\n<!DOCTYPE svg PUBLIC \"-//W3C//DTD SVG 1.1//EN\"\n \"http://www.w3.org/Graphics/SVG/1.1/DTD/svg11.dtd\">\n<!-- Generated by graphviz version 2.48.0 (20210717.2242)\n -->\n<!-- Pages: 1 -->\n<svg width=\"124pt\" height=\"116pt\"\n viewBox=\"0.00 0.00 124.00 116.00\" xmlns=\"http://www.w3.org/2000/svg\" xmlns:xlink=\"http://www.w3.org/1999/xlink\">\n<g id=\"graph0\" class=\"graph\" transform=\"scale(1 1) rotate(0) translate(4 112)\">\n<polygon fill=\"white\" stroke=\"transparent\" points=\"-4,4 -4,-112 120,-112 120,4 -4,4\"/>\n<!-- 0x7efdf0a37310 -->\n<g id=\"node1\" class=\"node\">\n<title>0x7efdf0a37310</title>\n<ellipse fill=\"none\" stroke=\"black\" cx=\"58\" cy=\"-90\" rx=\"18\" ry=\"18\"/>\n<text text-anchor=\"middle\" x=\"58\" y=\"-86.3\" font-family=\"Times,serif\" font-size=\"14.00\">2</text>\n</g>\n<!-- 0x7efdf0a2adf0 -->\n<g id=\"node2\" class=\"node\">\n<title>0x7efdf0a2adf0</title>\n<ellipse fill=\"none\" stroke=\"black\" cx=\"18\" cy=\"-18\" rx=\"18\" ry=\"18\"/>\n<text text-anchor=\"middle\" x=\"18\" y=\"-14.3\" font-family=\"Times,serif\" font-size=\"14.00\">1</text>\n</g>\n<!-- 0x7efdf0a37310&#45;&gt;0x7efdf0a2adf0 -->\n<g id=\"edge1\" class=\"edge\">\n<title>0x7efdf0a37310&#45;&gt;0x7efdf0a2adf0</title>\n<path fill=\"none\" stroke=\"black\" d=\"M49.32,-73.81C44.18,-64.82 37.56,-53.23 31.73,-43.03\"/>\n<polygon fill=\"black\" stroke=\"black\" points=\"34.66,-41.11 26.66,-34.16 28.59,-44.58 34.66,-41.11\"/>\n</g>\n<!-- 0x7efdf0a37310invis_m -->\n<!-- 0x7efdf0a37310&#45;&gt;0x7efdf0a37310invis_m -->\n<!-- 0x7efdf0a37f10 -->\n<g id=\"node4\" class=\"node\">\n<title>0x7efdf0a37f10</title>\n<ellipse fill=\"none\" stroke=\"black\" cx=\"98\" cy=\"-18\" rx=\"18\" ry=\"18\"/>\n<text text-anchor=\"middle\" x=\"98\" y=\"-14.3\" font-family=\"Times,serif\" font-size=\"14.00\">3</text>\n</g>\n<!-- 0x7efdf0a37310&#45;&gt;0x7efdf0a37f10 -->\n<g id=\"edge3\" class=\"edge\">\n<title>0x7efdf0a37310&#45;&gt;0x7efdf0a37f10</title>\n<path fill=\"none\" stroke=\"black\" d=\"M66.68,-73.81C71.82,-64.82 78.44,-53.23 84.27,-43.03\"/>\n<polygon fill=\"black\" stroke=\"black\" points=\"87.41,-44.58 89.34,-34.16 81.34,-41.11 87.41,-44.58\"/>\n</g>\n</g>\n</svg>\n",
            "text/plain": [
              "<graphviz.dot.Digraph at 0x7efdf0a2aee0>"
            ]
          },
          "metadata": {},
          "output_type": "display_data"
        },
        {
          "data": {
            "image/svg+xml": "<?xml version=\"1.0\" encoding=\"UTF-8\" standalone=\"no\"?>\n<!DOCTYPE svg PUBLIC \"-//W3C//DTD SVG 1.1//EN\"\n \"http://www.w3.org/Graphics/SVG/1.1/DTD/svg11.dtd\">\n<!-- Generated by graphviz version 2.48.0 (20210717.2242)\n -->\n<!-- Pages: 1 -->\n<svg width=\"105pt\" height=\"188pt\"\n viewBox=\"0.00 0.00 105.00 188.00\" xmlns=\"http://www.w3.org/2000/svg\" xmlns:xlink=\"http://www.w3.org/1999/xlink\">\n<g id=\"graph0\" class=\"graph\" transform=\"scale(1 1) rotate(0) translate(4 184)\">\n<polygon fill=\"white\" stroke=\"transparent\" points=\"-4,4 -4,-184 101,-184 101,4 -4,4\"/>\n<!-- 0x7efdf0a372b0 -->\n<g id=\"node1\" class=\"node\">\n<title>0x7efdf0a372b0</title>\n<ellipse fill=\"none\" stroke=\"black\" cx=\"68.5\" cy=\"-162\" rx=\"18\" ry=\"18\"/>\n<text text-anchor=\"middle\" x=\"68.5\" y=\"-158.3\" font-family=\"Times,serif\" font-size=\"14.00\">3</text>\n</g>\n<!-- 0x7efdf0a37e50 -->\n<g id=\"node2\" class=\"node\">\n<title>0x7efdf0a37e50</title>\n<ellipse fill=\"none\" stroke=\"black\" cx=\"28.5\" cy=\"-90\" rx=\"18\" ry=\"18\"/>\n<text text-anchor=\"middle\" x=\"28.5\" y=\"-86.3\" font-family=\"Times,serif\" font-size=\"14.00\">1</text>\n</g>\n<!-- 0x7efdf0a372b0&#45;&gt;0x7efdf0a37e50 -->\n<g id=\"edge1\" class=\"edge\">\n<title>0x7efdf0a372b0&#45;&gt;0x7efdf0a37e50</title>\n<path fill=\"none\" stroke=\"black\" d=\"M59.82,-145.81C54.68,-136.82 48.06,-125.23 42.23,-115.03\"/>\n<polygon fill=\"black\" stroke=\"black\" points=\"45.16,-113.11 37.16,-106.16 39.09,-116.58 45.16,-113.11\"/>\n</g>\n<!-- 0x7efdf0a372b0invis_m -->\n<!-- 0x7efdf0a372b0&#45;&gt;0x7efdf0a372b0invis_m -->\n<!-- 0x7efdf0a372b0invis_r -->\n<!-- 0x7efdf0a372b0&#45;&gt;0x7efdf0a372b0invis_r -->\n<!-- 0x7efdf0a37e50invis_l -->\n<!-- 0x7efdf0a37e50&#45;&gt;0x7efdf0a37e50invis_l -->\n<!-- 0x7efdf0a37e50invis_m -->\n<!-- 0x7efdf0a37e50&#45;&gt;0x7efdf0a37e50invis_m -->\n<!-- 0x7efdf0a37490 -->\n<g id=\"node5\" class=\"node\">\n<title>0x7efdf0a37490</title>\n<ellipse fill=\"none\" stroke=\"black\" cx=\"68.5\" cy=\"-18\" rx=\"18\" ry=\"18\"/>\n<text text-anchor=\"middle\" x=\"68.5\" y=\"-14.3\" font-family=\"Times,serif\" font-size=\"14.00\">2</text>\n</g>\n<!-- 0x7efdf0a37e50&#45;&gt;0x7efdf0a37490 -->\n<g id=\"edge4\" class=\"edge\">\n<title>0x7efdf0a37e50&#45;&gt;0x7efdf0a37490</title>\n<path fill=\"none\" stroke=\"black\" d=\"M37.18,-73.81C42.32,-64.82 48.94,-53.23 54.77,-43.03\"/>\n<polygon fill=\"black\" stroke=\"black\" points=\"57.91,-44.58 59.84,-34.16 51.84,-41.11 57.91,-44.58\"/>\n</g>\n</g>\n</svg>\n",
            "text/plain": [
              "<graphviz.dot.Digraph at 0x7efdf0a2a370>"
            ]
          },
          "metadata": {},
          "output_type": "display_data"
        },
        {
          "data": {
            "image/svg+xml": "<?xml version=\"1.0\" encoding=\"UTF-8\" standalone=\"no\"?>\n<!DOCTYPE svg PUBLIC \"-//W3C//DTD SVG 1.1//EN\"\n \"http://www.w3.org/Graphics/SVG/1.1/DTD/svg11.dtd\">\n<!-- Generated by graphviz version 2.48.0 (20210717.2242)\n -->\n<!-- Pages: 1 -->\n<svg width=\"135pt\" height=\"188pt\"\n viewBox=\"0.00 0.00 134.50 188.00\" xmlns=\"http://www.w3.org/2000/svg\" xmlns:xlink=\"http://www.w3.org/1999/xlink\">\n<g id=\"graph0\" class=\"graph\" transform=\"scale(1 1) rotate(0) translate(4 184)\">\n<polygon fill=\"white\" stroke=\"transparent\" points=\"-4,4 -4,-184 130.5,-184 130.5,4 -4,4\"/>\n<!-- 0x7efdf0a37520 -->\n<g id=\"node1\" class=\"node\">\n<title>0x7efdf0a37520</title>\n<ellipse fill=\"none\" stroke=\"black\" cx=\"98\" cy=\"-162\" rx=\"18\" ry=\"18\"/>\n<text text-anchor=\"middle\" x=\"98\" y=\"-158.3\" font-family=\"Times,serif\" font-size=\"14.00\">3</text>\n</g>\n<!-- 0x7efdf0a37190 -->\n<g id=\"node2\" class=\"node\">\n<title>0x7efdf0a37190</title>\n<ellipse fill=\"none\" stroke=\"black\" cx=\"58\" cy=\"-90\" rx=\"18\" ry=\"18\"/>\n<text text-anchor=\"middle\" x=\"58\" y=\"-86.3\" font-family=\"Times,serif\" font-size=\"14.00\">2</text>\n</g>\n<!-- 0x7efdf0a37520&#45;&gt;0x7efdf0a37190 -->\n<g id=\"edge1\" class=\"edge\">\n<title>0x7efdf0a37520&#45;&gt;0x7efdf0a37190</title>\n<path fill=\"none\" stroke=\"black\" d=\"M89.32,-145.81C84.18,-136.82 77.56,-125.23 71.73,-115.03\"/>\n<polygon fill=\"black\" stroke=\"black\" points=\"74.66,-113.11 66.66,-106.16 68.59,-116.58 74.66,-113.11\"/>\n</g>\n<!-- 0x7efdf0a37520invis_m -->\n<!-- 0x7efdf0a37520&#45;&gt;0x7efdf0a37520invis_m -->\n<!-- 0x7efdf0a37520invis_r -->\n<!-- 0x7efdf0a37520&#45;&gt;0x7efdf0a37520invis_r -->\n<!-- 0x7efdf0a37bb0 -->\n<g id=\"node3\" class=\"node\">\n<title>0x7efdf0a37bb0</title>\n<ellipse fill=\"none\" stroke=\"black\" cx=\"18\" cy=\"-18\" rx=\"18\" ry=\"18\"/>\n<text text-anchor=\"middle\" x=\"18\" y=\"-14.3\" font-family=\"Times,serif\" font-size=\"14.00\">1</text>\n</g>\n<!-- 0x7efdf0a37190&#45;&gt;0x7efdf0a37bb0 -->\n<g id=\"edge2\" class=\"edge\">\n<title>0x7efdf0a37190&#45;&gt;0x7efdf0a37bb0</title>\n<path fill=\"none\" stroke=\"black\" d=\"M49.32,-73.81C44.18,-64.82 37.56,-53.23 31.73,-43.03\"/>\n<polygon fill=\"black\" stroke=\"black\" points=\"34.66,-41.11 26.66,-34.16 28.59,-44.58 34.66,-41.11\"/>\n</g>\n<!-- 0x7efdf0a37190invis_m -->\n<!-- 0x7efdf0a37190&#45;&gt;0x7efdf0a37190invis_m -->\n<!-- 0x7efdf0a37190invis_r -->\n<!-- 0x7efdf0a37190&#45;&gt;0x7efdf0a37190invis_r -->\n</g>\n</svg>\n",
            "text/plain": [
              "<graphviz.dot.Digraph at 0x7efdf0a2aca0>"
            ]
          },
          "metadata": {},
          "output_type": "display_data"
        }
      ],
      "source": [
        "from visualizer import visualize_binary_tree\n",
        "s = Solution()\n",
        "\n",
        "for t in s.generateTrees(3):\n",
        "  visualize_binary_tree(t)"
      ]
    },
    {
      "cell_type": "code",
      "execution_count": 41,
      "metadata": {},
      "outputs": [
        {
          "data": {
            "text/markdown": [
              "😃 Result: Accepted\n",
              "\n",
              "📥 Input: ``\n",
              "\n",
              "📤 Output: ``\n",
              "\n",
              "✅ Expected: ``\n",
              "\n",
              "💯 Passed Test Case: 8 / 8\n",
              "\n",
              "🚀 Runtime: 211 ms, Memory: 16.9 MB\n",
              "\n",
              "🉑 Runtime Percentile: better than 5.12%, Memory Percentile: better than 8.49%\n",
              "\n",
              "📆 Finished At: 2022-02-17"
            ],
            "text/plain": [
              "<IPython.core.display.Markdown object>"
            ]
          },
          "metadata": {},
          "output_type": "display_data"
        }
      ],
      "source": [
        "import sys, os; sys.path.append(os.path.abspath('..'))\n",
        "from submitter import submit\n",
        "submit(95)"
      ]
    }
  ],
  "metadata": {
    "authors": [
      {
        "name": "Soros Liu"
      }
    ],
    "kernelspec": {
      "display_name": "Python 3",
      "language": "python",
      "name": "python3"
    },
    "language_info": {
      "codemirror_mode": {
        "name": "ipython",
        "version": 3
      },
      "file_extension": ".py",
      "mimetype": "text/x-python",
      "name": "python",
      "nbconvert_exporter": "python",
      "pygments_lexer": "ipython3",
      "version": "3.8.6"
    },
    "leetcode_question_info": {
      "questionFrontendId": "95",
      "questionId": "95",
      "sampleTestCase": "3",
      "submitUrl": "/problems/unique-binary-search-trees-ii/submit/"
    }
  },
  "nbformat": 4,
  "nbformat_minor": 2
}
