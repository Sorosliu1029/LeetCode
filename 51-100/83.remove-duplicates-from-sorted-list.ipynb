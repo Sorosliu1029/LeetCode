{
 "cells": [
  {
   "cell_type": "markdown",
   "metadata": {
    "id": "title"
   },
   "source": [
    "### 83. Remove Duplicates from Sorted List"
   ]
  },
  {
   "cell_type": "markdown",
   "metadata": {
    "id": "content"
   },
   "source": [
    "<p>Given the <code>head</code> of a sorted linked list, <em>delete all duplicates such that each element appears only once</em>. Return <em>the linked list <strong>sorted</strong> as well</em>.</p>\n",
    "\n",
    "<p>&nbsp;</p>\n",
    "<p><strong class=\"example\">Example 1:</strong></p>\n",
    "<img alt=\"\" src=\"https://assets.leetcode.com/uploads/2021/01/04/list1.jpg\" style=\"width: 302px; height: 242px;\" />\n",
    "<pre>\n",
    "<strong>Input:</strong> head = [1,1,2]\n",
    "<strong>Output:</strong> [1,2]\n",
    "</pre>\n",
    "\n",
    "<p><strong class=\"example\">Example 2:</strong></p>\n",
    "<img alt=\"\" src=\"https://assets.leetcode.com/uploads/2021/01/04/list2.jpg\" style=\"width: 542px; height: 222px;\" />\n",
    "<pre>\n",
    "<strong>Input:</strong> head = [1,1,2,3,3]\n",
    "<strong>Output:</strong> [1,2,3]\n",
    "</pre>\n",
    "\n",
    "<p>&nbsp;</p>\n",
    "<p><strong>Constraints:</strong></p>\n",
    "\n",
    "<ul>\n",
    "\t<li>The number of nodes in the list is in the range <code>[0, 300]</code>.</li>\n",
    "\t<li><code>-100 &lt;= Node.val &lt;= 100</code></li>\n",
    "\t<li>The list is guaranteed to be <strong>sorted</strong> in ascending order.</li>\n",
    "</ul>\n"
   ]
  },
  {
   "cell_type": "markdown",
   "metadata": {
    "id": "extra"
   },
   "source": [
    "#### Difficulty: Easy, AC rate: 55.3%\n",
    "\n",
    "#### Topics:\n",
    "Linked List\n",
    "\n",
    "#### Links:\n",
    " 🎁 [Question Detail](https://leetcode.com/problems/remove-duplicates-from-sorted-list/description/) | 🎉 [Question Solution](https://leetcode.com/problems/remove-duplicates-from-sorted-list/solution/) | 💬 [Question Discussion](https://leetcode.com/problems/remove-duplicates-from-sorted-list/discuss/?orderBy=most_votes)\n",
    "\n"
   ]
  },
  {
   "cell_type": "markdown",
   "metadata": {
    "exampleTestcaseList": [
     "[1,1,2]",
     "[1,1,2,3,3]"
    ],
    "id": "test",
    "sampleTestCase": "[1,1,2]"
   },
   "source": [
    "#### Test Case(s):\n",
    "\n",
    "1. `[1,1,2]`\n",
    "2. `[1,1,2,3,3]`"
   ]
  },
  {
   "cell_type": "markdown",
   "metadata": {
    "id": "idea"
   },
   "source": [
    "---\n",
    "What's your idea?\n",
    "\n",
    "traverse, drop duplicates\n",
    "\n",
    "---"
   ]
  },
  {
   "cell_type": "code",
   "execution_count": 1,
   "metadata": {
    "id": "pre_code"
   },
   "outputs": [],
   "source": [
    "from typing import Optional\n",
    "\n",
    "# Definition for singly-linked list.\n",
    "class ListNode:\n",
    "    def __init__(self, val=0, next=None):\n",
    "        self.val = val\n",
    "        self.next = next"
   ]
  },
  {
   "cell_type": "code",
   "execution_count": 2,
   "metadata": {
    "id": "code",
    "isSolutionCode": true
   },
   "outputs": [],
   "source": [
    "class Solution:\n",
    "    def deleteDuplicates(self, head: Optional[ListNode]) -> Optional[ListNode]:\n",
    "        p = head\n",
    "        while p is not None:\n",
    "            if p.next is not None and p.next.val == p.val:\n",
    "                p.next = p.next.next\n",
    "            else:\n",
    "                p = p.next\n",
    "        return head"
   ]
  },
  {
   "cell_type": "code",
   "execution_count": 3,
   "metadata": {
    "id": "run"
   },
   "outputs": [
    {
     "name": "stdout",
     "output_type": "stream",
     "text": [
      "[1, 2, ]\n"
     ]
    }
   ],
   "source": [
    "s = Solution()\n",
    "from helper import array_to_list, print_list\n",
    "print_list(s.deleteDuplicates(array_to_list([1,1,2])))"
   ]
  },
  {
   "cell_type": "code",
   "execution_count": 4,
   "metadata": {
    "id": "run_1"
   },
   "outputs": [
    {
     "name": "stdout",
     "output_type": "stream",
     "text": [
      "[1, 2, 3, ]\n"
     ]
    }
   ],
   "source": [
    "print_list(s.deleteDuplicates(array_to_list([1,1,2,3,3])))"
   ]
  },
  {
   "cell_type": "code",
   "execution_count": 5,
   "metadata": {},
   "outputs": [
    {
     "name": "stdout",
     "output_type": "stream",
     "text": [
      "[1, ]\n"
     ]
    }
   ],
   "source": [
    "print_list(s.deleteDuplicates(array_to_list([1,1,1])))"
   ]
  },
  {
   "cell_type": "markdown",
   "metadata": {
    "id": "result"
   },
   "source": [
    "😃 Result: Accepted  \n",
    "💯 Passed Test Case: 168 / 168  \n",
    "🚀 Runtime: 0 ms, Memory: 17.8 MB  \n",
    "🉑 Runtime Percentile: better than 100.00%, Memory Percentile: better than 39.77%  \n",
    "📆 Finished At: Mon, 01 Sep 2025 16:20:04 GMT"
   ]
  }
 ],
 "metadata": {
  "authors": [
   {
    "name": "jupyterlab-leetcode"
   }
  ],
  "kernelspec": {
   "display_name": "Python 3 (ipykernel)",
   "language": "python",
   "name": "python3"
  },
  "language_info": {
   "codemirror_mode": {
    "name": "ipython",
    "version": 3
   },
   "file_extension": ".py",
   "mimetype": "text/x-python",
   "name": "python",
   "nbconvert_exporter": "python",
   "pygments_lexer": "ipython3",
   "version": "3.13.5"
  },
  "leetcode_question_info": {
   "exampleTestcaseList": [
    "[1,1,2]",
    "[1,1,2,3,3]"
   ],
   "questionDetailUrl": "/problems/remove-duplicates-from-sorted-list/",
   "questionFrontendId": "83",
   "questionId": "83",
   "sampleTestCase": "[1,1,2]",
   "submitUrl": "/problems/remove-duplicates-from-sorted-list/submit/"
  },
  "leetcode_submission_result": {
   "code_output": "",
   "compare_result": "111111111111111111111111111111111111111111111111111111111111111111111111111111111111111111111111111111111111111111111111111111111111111111111111111111111111111111111111",
   "display_runtime": "0",
   "elapsed_time": 67,
   "expected_output": "",
   "finished": true,
   "lang": "python3",
   "last_testcase": "",
   "memory": 17804000,
   "memory_percentile": 39.7683,
   "pretty_lang": "Python3",
   "question_id": "83",
   "run_success": true,
   "runtime_percentile": 100,
   "state": "SUCCESS",
   "status_code": 10,
   "status_memory": "17.8 MB",
   "status_msg": "Accepted",
   "status_runtime": "0 ms",
   "std_output": "",
   "submission_id": "1756052701",
   "task_finish_time": 1756743604314,
   "task_name": "judger.judgetask.Judge",
   "total_correct": 168,
   "total_testcases": 168
  }
 },
 "nbformat": 4,
 "nbformat_minor": 4
}
