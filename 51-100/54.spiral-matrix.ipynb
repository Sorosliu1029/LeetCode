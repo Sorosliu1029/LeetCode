{
 "cells": [
  {
   "cell_type": "markdown",
   "metadata": {},
   "source": [
    "### 54. Spiral Matrix"
   ]
  },
  {
   "cell_type": "markdown",
   "metadata": {},
   "source": [
    "#### Content\n",
    "<p>Given an <code>m x n</code> <code>matrix</code>, return <em>all elements of the</em> <code>matrix</code> <em>in spiral order</em>.</p>\n",
    "\n",
    "<p>&nbsp;</p>\n",
    "<p><strong>Example 1:</strong></p>\n",
    "<img alt=\"\" src=\"https://assets.leetcode.com/uploads/2020/11/13/spiral1.jpg\" style=\"width: 242px; height: 242px;\" />\n",
    "<pre>\n",
    "<strong>Input:</strong> matrix = [[1,2,3],[4,5,6],[7,8,9]]\n",
    "<strong>Output:</strong> [1,2,3,6,9,8,7,4,5]\n",
    "</pre>\n",
    "\n",
    "<p><strong>Example 2:</strong></p>\n",
    "<img alt=\"\" src=\"https://assets.leetcode.com/uploads/2020/11/13/spiral.jpg\" style=\"width: 322px; height: 242px;\" />\n",
    "<pre>\n",
    "<strong>Input:</strong> matrix = [[1,2,3,4],[5,6,7,8],[9,10,11,12]]\n",
    "<strong>Output:</strong> [1,2,3,4,8,12,11,10,9,5,6,7]\n",
    "</pre>\n",
    "\n",
    "<p>&nbsp;</p>\n",
    "<p><strong>Constraints:</strong></p>\n",
    "\n",
    "<ul>\n",
    "\t<li><code>m == matrix.length</code></li>\n",
    "\t<li><code>n == matrix[i].length</code></li>\n",
    "\t<li><code>1 &lt;= m, n &lt;= 10</code></li>\n",
    "\t<li><code>-100 &lt;= matrix[i][j] &lt;= 100</code></li>\n",
    "</ul>\n"
   ]
  },
  {
   "cell_type": "markdown",
   "metadata": {},
   "source": [
    "#### Difficulty: Medium, AC rate: 37.8%\n",
    "\n",
    "#### Question Tags:\n",
    "- Array\n",
    "- Matrix\n",
    "- Simulation\n",
    "\n",
    "#### Links:\n",
    " 🎁 [Question Detail](https://leetcode.com/problems/spiral-matrix/description/) | 🎉 [Question Solution](https://leetcode.com/problems/spiral-matrix/solution/) | 💬 [Question Discussion](https://leetcode.com/problems/spiral-matrix/discuss/?orderBy=most_votes)\n",
    "\n",
    "#### Hints:\n",
    "<details><summary>Hint 0  🔍</summary>Well for some problems, the best way really is to come up with some algorithms for simulation. Basically, you need to simulate what the problem asks us to do.</details>\n",
    "<details><summary>Hint 1  🔍</summary>We go boundary by boundary and move inwards. That is the essential operation. First row, last column, last row, first column and then we move inwards by 1 and then repeat. That's all, that is all the simulation that we need.</details>\n",
    "<details><summary>Hint 2  🔍</summary>Think about when you want to switch the progress on one of the indexes. If you progress on <pre>i</pre> out of <pre>[i, j]</pre>, you'd be shifting in the same column. Similarly, by changing values for <pre>j</pre>, you'd be shifting in the same row.\n",
    "Also, keep track of the end of a boundary so that you can move inwards and then keep repeating. It's always best to run the simulation on edge cases like a single column or a single row to see if anything breaks or not.</details>\n"
   ]
  },
  {
   "cell_type": "markdown",
   "metadata": {},
   "source": [
    "#### Sample Test Case\n",
    "[[1,2,3],[4,5,6],[7,8,9]]"
   ]
  },
  {
   "cell_type": "markdown",
   "metadata": {},
   "source": [
    "---\n",
    "What's your idea?\n",
    "\n",
    "递归\n",
    "\n",
    "分为最外圈的顺时针遍历和内圈 `matrix` 的 `spiralOrder`\n",
    "\n",
    "注意递归的结束条件：\n",
    "\n",
    "- 起点坐标已经过半\n",
    "- 或者：只剩最后一行\n",
    "- 或者：只剩最后一列\n",
    "\n",
    "---"
   ]
  },
  {
   "cell_type": "code",
   "execution_count": 1,
   "metadata": {
    "isSolutionCode": true
   },
   "outputs": [],
   "source": [
    "from typing import List\n",
    "\n",
    "class Solution:\n",
    "    def spiralOrder(self, matrix: List[List[int]]) -> List[int]:\n",
    "        return self.visitClockwise(matrix, 0, 0, len(matrix), len(matrix[0]))\n",
    "        \n",
    "    def visitClockwise(self, matrix: List[List[int]], x: int, y: int, m: int, n: int) -> List[int]:\n",
    "        if 2*y >= m or 2*x >=n:\n",
    "            return []\n",
    "        if y == m // 2:\n",
    "            return matrix[y][x:n-x]\n",
    "        if x == n // 2:\n",
    "            return [matrix[i][x] for i in range(y, m-y)]\n",
    "        \n",
    "        return matrix[y][x:n-x] + \\\n",
    "                [matrix[i][n-x-1] for i in range(y+1, m-y)] + \\\n",
    "                [matrix[m-y-1][j] for j in range(n-x-2,x-1,-1)] + \\\n",
    "                [matrix[i][x] for i in range(m-y-2, y,-1)] + \\\n",
    "                self.visitClockwise(matrix, x+1,y+1,m,n)"
   ]
  },
  {
   "cell_type": "code",
   "execution_count": 2,
   "metadata": {},
   "outputs": [
    {
     "name": "stdout",
     "output_type": "stream",
     "text": [
      "[1]\n",
      "[1, 2, 3]\n",
      "[1, 2, 3]\n",
      "[1, 2, 4, 3]\n",
      "[1, 2, 3, 6, 9, 8, 7, 4, 5]\n",
      "[1, 2, 3, 4, 8, 12, 11, 10, 9, 5, 6, 7]\n",
      "[2, 5, 8, -1, 0, 4]\n",
      "[2, 5, 4, -1, 0, 8]\n"
     ]
    }
   ],
   "source": [
    "s = Solution()\n",
    "\n",
    "print(s.spiralOrder([[1]]))\n",
    "print(s.spiralOrder([[1,2,3]]))\n",
    "print(s.spiralOrder([[1],[2],[3]]))\n",
    "print(s.spiralOrder([[1,2],[3,4]]))\n",
    "print(s.spiralOrder([[1,2,3],[4,5,6],[7,8,9]]))\n",
    "print(s.spiralOrder([[1,2,3,4],[5,6,7,8],[9,10,11,12]]))\n",
    "print(s.spiralOrder([[2,5,8],[4,0,-1]]))\n",
    "print(s.spiralOrder([[2,5],[8,4],[0,-1]]))"
   ]
  },
  {
   "cell_type": "code",
   "execution_count": 3,
   "metadata": {},
   "outputs": [
    {
     "data": {
      "text/markdown": [
       "😃 Result: Accepted\n",
       "\n",
       "📥 Input: ``\n",
       "\n",
       "📤 Output: ``\n",
       "\n",
       "✅ Expected: ``\n",
       "\n",
       "💯 Passed Test Case: 23 / 23\n",
       "\n",
       "🚀 Runtime: 35 ms, Memory: 14.5 MB\n",
       "\n",
       "🉑 Runtime Percentile: better than 19.15%, Memory Percentile: better than 27.30%\n",
       "\n",
       "📆 Finished At: 2021-08-01"
      ],
      "text/plain": [
       "<IPython.core.display.Markdown object>"
      ]
     },
     "metadata": {},
     "output_type": "display_data"
    }
   ],
   "source": [
    "import sys, os; sys.path.append(os.path.abspath('..'))\n",
    "from submitter import submit\n",
    "submit(54)"
   ]
  }
 ],
 "metadata": {
  "authors": [
   {
    "name": "Soros Liu"
   }
  ],
  "kernelspec": {
   "display_name": "Python 3",
   "language": "python",
   "name": "python3"
  },
  "language_info": {
   "codemirror_mode": {
    "name": "ipython",
    "version": 3
   },
   "file_extension": ".py",
   "mimetype": "text/x-python",
   "name": "python",
   "nbconvert_exporter": "python",
   "pygments_lexer": "ipython3",
   "version": "3.8.6"
  },
  "leetcode_question_info": {
   "sampleTestCase": "[[1,2,3],[4,5,6],[7,8,9]]",
   "submitUrl": "/problems/spiral-matrix/submit/"
  }
 },
 "nbformat": 4,
 "nbformat_minor": 2
}
