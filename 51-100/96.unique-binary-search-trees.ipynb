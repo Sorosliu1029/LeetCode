{
  "cells": [
    {
      "cell_type": "markdown",
      "metadata": {},
      "source": [
        "### 96. Unique Binary Search Trees"
      ]
    },
    {
      "cell_type": "markdown",
      "metadata": {},
      "source": [
        "#### Content\n",
        "<p>Given an integer <code>n</code>, return <em>the number of structurally unique <strong>BST&#39;</strong>s (binary search trees) which has exactly </em><code>n</code><em> nodes of unique values from</em> <code>1</code> <em>to</em> <code>n</code>.</p>\n",
        "\n",
        "<p>&nbsp;</p>\n",
        "<p><strong>Example 1:</strong></p>\n",
        "<img alt=\"\" src=\"https://assets.leetcode.com/uploads/2021/01/18/uniquebstn3.jpg\" style=\"width: 600px; height: 148px;\" />\n",
        "<pre>\n",
        "<strong>Input:</strong> n = 3\n",
        "<strong>Output:</strong> 5\n",
        "</pre>\n",
        "\n",
        "<p><strong>Example 2:</strong></p>\n",
        "\n",
        "<pre>\n",
        "<strong>Input:</strong> n = 1\n",
        "<strong>Output:</strong> 1\n",
        "</pre>\n",
        "\n",
        "<p>&nbsp;</p>\n",
        "<p><strong>Constraints:</strong></p>\n",
        "\n",
        "<ul>\n",
        "\t<li><code>1 &lt;= n &lt;= 19</code></li>\n",
        "</ul>\n"
      ]
    },
    {
      "cell_type": "markdown",
      "metadata": {},
      "source": [
        "#### Difficulty: Medium, AC rate: 57.8%\n",
        "\n",
        "#### Question Tags:\n",
        "- Math\n",
        "- Dynamic Programming\n",
        "- Tree\n",
        "- Binary Search Tree\n",
        "- Binary Tree\n",
        "\n",
        "#### Links:\n",
        " 🎁 [Question Detail](https://leetcode.com/problems/unique-binary-search-trees/description/) | 🎉 [Question Solution](https://leetcode.com/problems/unique-binary-search-trees/solution/) | 💬 [Question Discussion](https://leetcode.com/problems/unique-binary-search-trees/discuss/?orderBy=most_votes)\n",
        "\n",
        "#### Hints:\n"
      ]
    },
    {
      "cell_type": "markdown",
      "metadata": {},
      "source": [
        "#### Sample Test Case\n",
        "3"
      ]
    },
    {
      "cell_type": "markdown",
      "metadata": {},
      "source": [
        "---\n",
        "What's your idea?\n",
        "\n",
        "[卡特兰数](https://zh.wikipedia.org/wiki/%E5%8D%A1%E5%A1%94%E5%85%B0%E6%95%B0)\n",
        "\n",
        "$C_0 = 0, C_{n+1} = \\sum_{i=0}^nC_iC_{n-i}$\n",
        "\n",
        "or\n",
        "\n",
        "$C_0 = 0, C_{n+1} = {2(2n+1) \\over n+2} C_n$\n",
        "\n",
        "n = 0 时，当作一棵空树\n",
        "\n",
        "n = 1 时，$C_1 = C_0 * C_0 = 1$，一个节点作为根，左子树有 $C_0$ 个选择，右子树有 $C_0$ 个选择\n",
        "\n",
        "n = 2 时，$C_2 = C_0 * C_1 + C_1 * C_0 = 2$，一个节点作为根，\n",
        "- 左子树有 $C_0$ 个选择，右子树有 $C_1$ 个选择\n",
        "- 左子树有 $C_1$ 个选择，右子树有 $C_0$ 个选择\n",
        "\n",
        "n = 3 时，$C_3 = C_0 * C_2 + C_1 * C_1 + C_2 * C_0 = 5$，一个节点作为根，\n",
        "- 左子树有 $C_0$ 个选择，右子树有 $C_2$ 个选择\n",
        "- 左子树有 $C_1$ 个选择，右子树有 $C_1$ 个选择\n",
        "- 左子树有 $C_2$ 个选择，右子树有 $C_0$ 个选择\n",
        "\n",
        "以此类推\n",
        "\n",
        "---"
      ]
    },
    {
      "cell_type": "code",
      "execution_count": 49,
      "metadata": {
        "isSolutionCode": true
      },
      "outputs": [],
      "source": [
        "class Solution:\n",
        "    memory = {0:1}\n",
        "\n",
        "    def numTrees(self, n: int) -> int:\n",
        "        if n in Solution.memory:\n",
        "            return Solution.memory[n]\n",
        "        \n",
        "        r = 2 * (2 * n - 1) * self.numTrees(n-1) // (n + 1) \n",
        "        Solution.memory[n] = r\n",
        "        return r"
      ]
    },
    {
      "cell_type": "code",
      "execution_count": 50,
      "metadata": {},
      "outputs": [
        {
          "name": "stdout",
          "output_type": "stream",
          "text": [
            "1\n",
            "1\n",
            "2\n",
            "5\n",
            "14\n"
          ]
        }
      ],
      "source": [
        "s = Solution()\n",
        "print(s.numTrees(0))\n",
        "print(s.numTrees(1))\n",
        "print(s.numTrees(2))\n",
        "print(s.numTrees(3))\n",
        "print(s.numTrees(4))"
      ]
    },
    {
      "cell_type": "code",
      "execution_count": 51,
      "metadata": {},
      "outputs": [
        {
          "data": {
            "text/markdown": [
              "😃 Result: Accepted\n",
              "\n",
              "📥 Input: ``\n",
              "\n",
              "📤 Output: ``\n",
              "\n",
              "✅ Expected: ``\n",
              "\n",
              "💯 Passed Test Case: 19 / 19\n",
              "\n",
              "🚀 Runtime: 42 ms, Memory: 13.9 MB\n",
              "\n",
              "🉑 Runtime Percentile: better than 45.96%, Memory Percentile: better than 91.99%\n",
              "\n",
              "📆 Finished At: 2022-02-12"
            ],
            "text/plain": [
              "<IPython.core.display.Markdown object>"
            ]
          },
          "metadata": {},
          "output_type": "display_data"
        }
      ],
      "source": [
        "import sys, os; sys.path.append(os.path.abspath('..'))\n",
        "from submitter import submit\n",
        "submit(96)"
      ]
    }
  ],
  "metadata": {
    "authors": [
      {
        "name": "Soros Liu"
      }
    ],
    "kernelspec": {
      "display_name": "Python 3",
      "language": "python",
      "name": "python3"
    },
    "language_info": {
      "codemirror_mode": {
        "name": "ipython",
        "version": 3
      },
      "file_extension": ".py",
      "mimetype": "text/x-python",
      "name": "python",
      "nbconvert_exporter": "python",
      "pygments_lexer": "ipython3",
      "version": "3.8.6"
    },
    "leetcode_question_info": {
      "questionFrontendId": "96",
      "questionId": "96",
      "sampleTestCase": "3",
      "submitUrl": "/problems/unique-binary-search-trees/submit/"
    }
  },
  "nbformat": 4,
  "nbformat_minor": 2
}
