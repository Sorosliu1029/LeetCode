{
  "cells": [
    {
      "cell_type": "markdown",
      "metadata": {},
      "source": [
        "### 78. Subsets"
      ]
    },
    {
      "cell_type": "markdown",
      "metadata": {},
      "source": [
        "#### Content\n",
        "<p>Given an integer array <code>nums</code> of <strong>unique</strong> elements, return <em>all possible subsets (the power set)</em>.</p>\n",
        "\n",
        "<p>The solution set <strong>must not</strong> contain duplicate subsets. Return the solution in <strong>any order</strong>.</p>\n",
        "\n",
        "<p>&nbsp;</p>\n",
        "<p><strong>Example 1:</strong></p>\n",
        "\n",
        "<pre>\n",
        "<strong>Input:</strong> nums = [1,2,3]\n",
        "<strong>Output:</strong> [[],[1],[2],[1,2],[3],[1,3],[2,3],[1,2,3]]\n",
        "</pre>\n",
        "\n",
        "<p><strong>Example 2:</strong></p>\n",
        "\n",
        "<pre>\n",
        "<strong>Input:</strong> nums = [0]\n",
        "<strong>Output:</strong> [[],[0]]\n",
        "</pre>\n",
        "\n",
        "<p>&nbsp;</p>\n",
        "<p><strong>Constraints:</strong></p>\n",
        "\n",
        "<ul>\n",
        "\t<li><code>1 &lt;= nums.length &lt;= 10</code></li>\n",
        "\t<li><code>-10 &lt;= nums[i] &lt;= 10</code></li>\n",
        "\t<li>All the numbers of&nbsp;<code>nums</code> are <strong>unique</strong>.</li>\n",
        "</ul>\n"
      ]
    },
    {
      "cell_type": "markdown",
      "metadata": {},
      "source": [
        "#### Difficulty: Medium, AC rate: 69.9%\n",
        "\n",
        "#### Question Tags:\n",
        "- Array\n",
        "- Backtracking\n",
        "- Bit Manipulation\n",
        "\n",
        "#### Links:\n",
        " 🎁 [Question Detail](https://leetcode.com/problems/subsets/description/) | 🎉 [Question Solution](https://leetcode.com/problems/subsets/solution/) | 💬 [Question Discussion](https://leetcode.com/problems/subsets/discuss/?orderBy=most_votes)\n",
        "\n",
        "#### Hints:\n"
      ]
    },
    {
      "cell_type": "markdown",
      "metadata": {},
      "source": [
        "#### Sample Test Case\n",
        "[1,2,3]"
      ]
    },
    {
      "cell_type": "markdown",
      "metadata": {},
      "source": [
        "---\n",
        "What's your idea?\n",
        "\n",
        "映射到 0 - 2^n 之间的数，以二进制的方式对应每一个子集\n",
        "\n",
        "---"
      ]
    },
    {
      "cell_type": "code",
      "execution_count": 3,
      "metadata": {
        "isSolutionCode": true
      },
      "outputs": [],
      "source": [
        "from typing import List\n",
        "class Solution:\n",
        "    def subsets(self, nums: List[int]) -> List[List[int]]:\n",
        "        return [self.pick(nums, i) for i in range(2**len(nums))]\n",
        "\n",
        "    def pick(self, nums, i):\n",
        "        d = len(nums) - 1\n",
        "        s = []\n",
        "        while d >= 0:\n",
        "            if i & 1 == 1:\n",
        "                s.append(nums[d])\n",
        "            i >>= 1\n",
        "            d -= 1\n",
        "        return s"
      ]
    },
    {
      "cell_type": "code",
      "execution_count": 5,
      "metadata": {},
      "outputs": [
        {
          "name": "stdout",
          "output_type": "stream",
          "text": [
            "[[], [3], [2], [3, 2], [1], [3, 1], [2, 1], [3, 2, 1]]\n",
            "[[], [0]]\n"
          ]
        }
      ],
      "source": [
        "s = Solution()\n",
        "print(s.subsets([1,2,3]))\n",
        "print(s.subsets([0]))"
      ]
    },
    {
      "cell_type": "code",
      "execution_count": 6,
      "metadata": {},
      "outputs": [
        {
          "data": {
            "text/markdown": [
              "😃 Result: Accepted\n",
              "\n",
              "📥 Input: ``\n",
              "\n",
              "📤 Output: ``\n",
              "\n",
              "✅ Expected: ``\n",
              "\n",
              "💯 Passed Test Case: 10 / 10\n",
              "\n",
              "🚀 Runtime: 40 ms, Memory: 14.1 MB\n",
              "\n",
              "🉑 Runtime Percentile: better than 61.13%, Memory Percentile: better than 82.34%\n",
              "\n",
              "📆 Finished At: 2022-02-13"
            ],
            "text/plain": [
              "<IPython.core.display.Markdown object>"
            ]
          },
          "metadata": {},
          "output_type": "display_data"
        }
      ],
      "source": [
        "import sys, os; sys.path.append(os.path.abspath('..'))\n",
        "from submitter import submit\n",
        "submit(78)"
      ]
    }
  ],
  "metadata": {
    "authors": [
      {
        "name": "Soros Liu"
      }
    ],
    "kernelspec": {
      "display_name": "Python 3",
      "language": "python",
      "name": "python3"
    },
    "language_info": {
      "codemirror_mode": {
        "name": "ipython",
        "version": 3
      },
      "file_extension": ".py",
      "mimetype": "text/x-python",
      "name": "python",
      "nbconvert_exporter": "python",
      "pygments_lexer": "ipython3",
      "version": "3.8.6"
    },
    "leetcode_question_info": {
      "questionFrontendId": "78",
      "questionId": "78",
      "sampleTestCase": "[1,2,3]",
      "submitUrl": "/problems/subsets/submit/"
    }
  },
  "nbformat": 4,
  "nbformat_minor": 2
}
