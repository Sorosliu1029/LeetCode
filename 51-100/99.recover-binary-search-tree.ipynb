{
  "cells": [
    {
      "cell_type": "markdown",
      "metadata": {},
      "source": [
        "### 99. Recover Binary Search Tree"
      ]
    },
    {
      "cell_type": "markdown",
      "metadata": {},
      "source": [
        "#### Content\n",
        "<p>You are given the <code>root</code> of a binary search tree (BST), where the values of <strong>exactly</strong> two nodes of the tree were swapped by mistake. <em>Recover the tree without changing its structure</em>.</p>\n",
        "\n",
        "<p>&nbsp;</p>\n",
        "<p><strong>Example 1:</strong></p>\n",
        "<img alt=\"\" src=\"https://assets.leetcode.com/uploads/2020/10/28/recover1.jpg\" style=\"width: 422px; height: 302px;\" />\n",
        "<pre>\n",
        "<strong>Input:</strong> root = [1,3,null,null,2]\n",
        "<strong>Output:</strong> [3,1,null,null,2]\n",
        "<strong>Explanation:</strong> 3 cannot be a left child of 1 because 3 &gt; 1. Swapping 1 and 3 makes the BST valid.\n",
        "</pre>\n",
        "\n",
        "<p><strong>Example 2:</strong></p>\n",
        "<img alt=\"\" src=\"https://assets.leetcode.com/uploads/2020/10/28/recover2.jpg\" style=\"width: 581px; height: 302px;\" />\n",
        "<pre>\n",
        "<strong>Input:</strong> root = [3,1,4,null,null,2]\n",
        "<strong>Output:</strong> [2,1,4,null,null,3]\n",
        "<strong>Explanation:</strong> 2 cannot be in the right subtree of 3 because 2 &lt; 3. Swapping 2 and 3 makes the BST valid.\n",
        "</pre>\n",
        "\n",
        "<p>&nbsp;</p>\n",
        "<p><strong>Constraints:</strong></p>\n",
        "\n",
        "<ul>\n",
        "\t<li>The number of nodes in the tree is in the range <code>[2, 1000]</code>.</li>\n",
        "\t<li><code>-2<sup>31</sup> &lt;= Node.val &lt;= 2<sup>31</sup> - 1</code></li>\n",
        "</ul>\n",
        "\n",
        "<p>&nbsp;</p>\n",
        "<strong>Follow up:</strong> A solution using <code>O(n)</code> space is pretty straight-forward. Could you devise a constant <code>O(1)</code> space solution?"
      ]
    },
    {
      "cell_type": "markdown",
      "metadata": {},
      "source": [
        "#### Difficulty: Medium, AC rate: 45.8%\n",
        "\n",
        "#### Question Tags:\n",
        "- Tree\n",
        "- Depth-First Search\n",
        "- Binary Search Tree\n",
        "- Binary Tree\n",
        "\n",
        "#### Links:\n",
        " 🎁 [Question Detail](https://leetcode.com/problems/recover-binary-search-tree/description/) | 🎉 [Question Solution](https://leetcode.com/problems/recover-binary-search-tree/solution/) | 💬 [Question Discussion](https://leetcode.com/problems/recover-binary-search-tree/discuss/?orderBy=most_votes)\n",
        "\n",
        "#### Hints:\n"
      ]
    },
    {
      "cell_type": "markdown",
      "metadata": {},
      "source": [
        "#### Sample Test Case\n",
        "[1,3,null,null,2]"
      ]
    },
    {
      "cell_type": "markdown",
      "metadata": {},
      "source": [
        "---\n",
        "What's your idea?\n",
        "\n",
        "根据 BST 的特点，分别从正向、逆向中序遍历扫一遍树，找出第一个不按顺序排的节点，交换两个节点的值\n",
        "\n",
        "---"
      ]
    },
    {
      "cell_type": "code",
      "execution_count": 45,
      "metadata": {
        "isSolutionCode": true
      },
      "outputs": [],
      "source": [
        "from typing import Optional\n",
        "# Definition for a binary tree node.\n",
        "class TreeNode:\n",
        "    def __init__(self, val=0, left=None, right=None):\n",
        "        self.val = val\n",
        "        self.left = left\n",
        "        self.right = right\n",
        "\n",
        "class Solution:\n",
        "    def recoverTree(self, root: Optional[TreeNode]) -> None:\n",
        "        \"\"\"\n",
        "        Do not return anything, modify root in-place instead.\n",
        "        \"\"\"\n",
        "        if root is None:\n",
        "            return\n",
        "        prev = [None]\n",
        "        self.forward(root, prev)\n",
        "        one_mistake = prev[0]\n",
        "        prev = [None]\n",
        "        self.backward(root, prev)\n",
        "        another_mistake = prev[0]\n",
        "        one_mistake.val, another_mistake.val = another_mistake.val, one_mistake.val\n",
        "        \n",
        "    def forward(self, node, prev):\n",
        "        if node is None:\n",
        "            return False\n",
        "        left_found = self.forward(node.left, prev)\n",
        "        if left_found:\n",
        "            return True\n",
        "        if prev[0] and node.val < prev[0].val:\n",
        "            return True\n",
        "        prev[0] = node\n",
        "        right_found = self.forward(node.right, prev)\n",
        "        if right_found:\n",
        "            return True\n",
        "        return False\n",
        "\n",
        "    def backward(self, node, prev):\n",
        "        if node is None:\n",
        "            return False\n",
        "        right_found = self.backward(node.right, prev)\n",
        "        if right_found:\n",
        "            return True\n",
        "        if prev[0] and node.val > prev[0].val:\n",
        "            return True\n",
        "        prev[0] = node\n",
        "        left_found = self.backward(node.left, prev)\n",
        "        if left_found:\n",
        "            return True\n",
        "        return False"
      ]
    },
    {
      "cell_type": "code",
      "execution_count": 47,
      "metadata": {},
      "outputs": [
        {
          "data": {
            "image/svg+xml": "<?xml version=\"1.0\" encoding=\"UTF-8\" standalone=\"no\"?>\n<!DOCTYPE svg PUBLIC \"-//W3C//DTD SVG 1.1//EN\"\n \"http://www.w3.org/Graphics/SVG/1.1/DTD/svg11.dtd\">\n<!-- Generated by graphviz version 2.48.0 (20210717.2242)\n -->\n<!-- Pages: 1 -->\n<svg width=\"105pt\" height=\"188pt\"\n viewBox=\"0.00 0.00 105.00 188.00\" xmlns=\"http://www.w3.org/2000/svg\" xmlns:xlink=\"http://www.w3.org/1999/xlink\">\n<g id=\"graph0\" class=\"graph\" transform=\"scale(1 1) rotate(0) translate(4 184)\">\n<polygon fill=\"white\" stroke=\"transparent\" points=\"-4,4 -4,-184 101,-184 101,4 -4,4\"/>\n<!-- 0x7efdf0a04a00 -->\n<g id=\"node1\" class=\"node\">\n<title>0x7efdf0a04a00</title>\n<ellipse fill=\"none\" stroke=\"black\" cx=\"68.5\" cy=\"-162\" rx=\"18\" ry=\"18\"/>\n<text text-anchor=\"middle\" x=\"68.5\" y=\"-158.3\" font-family=\"Times,serif\" font-size=\"14.00\">3</text>\n</g>\n<!-- 0x7efdf0a04490 -->\n<g id=\"node2\" class=\"node\">\n<title>0x7efdf0a04490</title>\n<ellipse fill=\"none\" stroke=\"black\" cx=\"28.5\" cy=\"-90\" rx=\"18\" ry=\"18\"/>\n<text text-anchor=\"middle\" x=\"28.5\" y=\"-86.3\" font-family=\"Times,serif\" font-size=\"14.00\">1</text>\n</g>\n<!-- 0x7efdf0a04a00&#45;&gt;0x7efdf0a04490 -->\n<g id=\"edge1\" class=\"edge\">\n<title>0x7efdf0a04a00&#45;&gt;0x7efdf0a04490</title>\n<path fill=\"none\" stroke=\"black\" d=\"M59.82,-145.81C54.68,-136.82 48.06,-125.23 42.23,-115.03\"/>\n<polygon fill=\"black\" stroke=\"black\" points=\"45.16,-113.11 37.16,-106.16 39.09,-116.58 45.16,-113.11\"/>\n</g>\n<!-- 0x7efdf0a04a00invis_m -->\n<!-- 0x7efdf0a04a00&#45;&gt;0x7efdf0a04a00invis_m -->\n<!-- 0x7efdf0a04a00invis_r -->\n<!-- 0x7efdf0a04a00&#45;&gt;0x7efdf0a04a00invis_r -->\n<!-- 0x7efdf0a04490invis_l -->\n<!-- 0x7efdf0a04490&#45;&gt;0x7efdf0a04490invis_l -->\n<!-- 0x7efdf0a04490invis_m -->\n<!-- 0x7efdf0a04490&#45;&gt;0x7efdf0a04490invis_m -->\n<!-- 0x7efdf0a04b20 -->\n<g id=\"node5\" class=\"node\">\n<title>0x7efdf0a04b20</title>\n<ellipse fill=\"none\" stroke=\"black\" cx=\"68.5\" cy=\"-18\" rx=\"18\" ry=\"18\"/>\n<text text-anchor=\"middle\" x=\"68.5\" y=\"-14.3\" font-family=\"Times,serif\" font-size=\"14.00\">2</text>\n</g>\n<!-- 0x7efdf0a04490&#45;&gt;0x7efdf0a04b20 -->\n<g id=\"edge4\" class=\"edge\">\n<title>0x7efdf0a04490&#45;&gt;0x7efdf0a04b20</title>\n<path fill=\"none\" stroke=\"black\" d=\"M37.18,-73.81C42.32,-64.82 48.94,-53.23 54.77,-43.03\"/>\n<polygon fill=\"black\" stroke=\"black\" points=\"57.91,-44.58 59.84,-34.16 51.84,-41.11 57.91,-44.58\"/>\n</g>\n</g>\n</svg>\n",
            "text/plain": [
              "<graphviz.dot.Digraph at 0x7efdf0a04610>"
            ]
          },
          "metadata": {},
          "output_type": "display_data"
        },
        {
          "data": {
            "image/svg+xml": "<?xml version=\"1.0\" encoding=\"UTF-8\" standalone=\"no\"?>\n<!DOCTYPE svg PUBLIC \"-//W3C//DTD SVG 1.1//EN\"\n \"http://www.w3.org/Graphics/SVG/1.1/DTD/svg11.dtd\">\n<!-- Generated by graphviz version 2.48.0 (20210717.2242)\n -->\n<!-- Pages: 1 -->\n<svg width=\"135pt\" height=\"188pt\"\n viewBox=\"0.00 0.00 134.50 188.00\" xmlns=\"http://www.w3.org/2000/svg\" xmlns:xlink=\"http://www.w3.org/1999/xlink\">\n<g id=\"graph0\" class=\"graph\" transform=\"scale(1 1) rotate(0) translate(4 184)\">\n<polygon fill=\"white\" stroke=\"transparent\" points=\"-4,4 -4,-184 130.5,-184 130.5,4 -4,4\"/>\n<!-- 0x7efdf0a37520 -->\n<g id=\"node1\" class=\"node\">\n<title>0x7efdf0a37520</title>\n<ellipse fill=\"none\" stroke=\"black\" cx=\"58\" cy=\"-162\" rx=\"18\" ry=\"18\"/>\n<text text-anchor=\"middle\" x=\"58\" y=\"-158.3\" font-family=\"Times,serif\" font-size=\"14.00\">2</text>\n</g>\n<!-- 0x7efdf0a04610 -->\n<g id=\"node2\" class=\"node\">\n<title>0x7efdf0a04610</title>\n<ellipse fill=\"none\" stroke=\"black\" cx=\"18\" cy=\"-90\" rx=\"18\" ry=\"18\"/>\n<text text-anchor=\"middle\" x=\"18\" y=\"-86.3\" font-family=\"Times,serif\" font-size=\"14.00\">1</text>\n</g>\n<!-- 0x7efdf0a37520&#45;&gt;0x7efdf0a04610 -->\n<g id=\"edge1\" class=\"edge\">\n<title>0x7efdf0a37520&#45;&gt;0x7efdf0a04610</title>\n<path fill=\"none\" stroke=\"black\" d=\"M49.32,-145.81C44.18,-136.82 37.56,-125.23 31.73,-115.03\"/>\n<polygon fill=\"black\" stroke=\"black\" points=\"34.66,-113.11 26.66,-106.16 28.59,-116.58 34.66,-113.11\"/>\n</g>\n<!-- 0x7efdf0a37520invis_m -->\n<!-- 0x7efdf0a37520&#45;&gt;0x7efdf0a37520invis_m -->\n<!-- 0x7efdf0a04a30 -->\n<g id=\"node4\" class=\"node\">\n<title>0x7efdf0a04a30</title>\n<ellipse fill=\"none\" stroke=\"black\" cx=\"98\" cy=\"-90\" rx=\"18\" ry=\"18\"/>\n<text text-anchor=\"middle\" x=\"98\" y=\"-86.3\" font-family=\"Times,serif\" font-size=\"14.00\">4</text>\n</g>\n<!-- 0x7efdf0a37520&#45;&gt;0x7efdf0a04a30 -->\n<g id=\"edge3\" class=\"edge\">\n<title>0x7efdf0a37520&#45;&gt;0x7efdf0a04a30</title>\n<path fill=\"none\" stroke=\"black\" d=\"M66.68,-145.81C71.82,-136.82 78.44,-125.23 84.27,-115.03\"/>\n<polygon fill=\"black\" stroke=\"black\" points=\"87.41,-116.58 89.34,-106.16 81.34,-113.11 87.41,-116.58\"/>\n</g>\n<!-- 0x7efdf0a04400 -->\n<g id=\"node5\" class=\"node\">\n<title>0x7efdf0a04400</title>\n<ellipse fill=\"none\" stroke=\"black\" cx=\"58\" cy=\"-18\" rx=\"18\" ry=\"18\"/>\n<text text-anchor=\"middle\" x=\"58\" y=\"-14.3\" font-family=\"Times,serif\" font-size=\"14.00\">3</text>\n</g>\n<!-- 0x7efdf0a04a30&#45;&gt;0x7efdf0a04400 -->\n<g id=\"edge4\" class=\"edge\">\n<title>0x7efdf0a04a30&#45;&gt;0x7efdf0a04400</title>\n<path fill=\"none\" stroke=\"black\" d=\"M89.32,-73.81C84.18,-64.82 77.56,-53.23 71.73,-43.03\"/>\n<polygon fill=\"black\" stroke=\"black\" points=\"74.66,-41.11 66.66,-34.16 68.59,-44.58 74.66,-41.11\"/>\n</g>\n<!-- 0x7efdf0a04a30invis_m -->\n<!-- 0x7efdf0a04a30&#45;&gt;0x7efdf0a04a30invis_m -->\n<!-- 0x7efdf0a04a30invis_r -->\n<!-- 0x7efdf0a04a30&#45;&gt;0x7efdf0a04a30invis_r -->\n</g>\n</svg>\n",
            "text/plain": [
              "<graphviz.dot.Digraph at 0x7efdf0a37fd0>"
            ]
          },
          "metadata": {},
          "output_type": "display_data"
        }
      ],
      "source": [
        "from helper import array_to_tree\n",
        "from visualizer import visualize_binary_tree\n",
        "s = Solution()\n",
        "\n",
        "t = array_to_tree([1,3,None,None,2])\n",
        "s.recoverTree(t)\n",
        "visualize_binary_tree(t)\n",
        "\n",
        "t = array_to_tree([3,1,4,None,None,2])\n",
        "s.recoverTree(t)\n",
        "visualize_binary_tree(t)"
      ]
    },
    {
      "cell_type": "code",
      "execution_count": 48,
      "metadata": {},
      "outputs": [
        {
          "data": {
            "text/markdown": [
              "😃 Result: Accepted\n",
              "\n",
              "📥 Input: ``\n",
              "\n",
              "📤 Output: ``\n",
              "\n",
              "✅ Expected: ``\n",
              "\n",
              "💯 Passed Test Case: 1919 / 1919\n",
              "\n",
              "🚀 Runtime: 112 ms, Memory: 14.2 MB\n",
              "\n",
              "🉑 Runtime Percentile: better than 37.05%, Memory Percentile: better than 88.99%\n",
              "\n",
              "📆 Finished At: 2022-02-17"
            ],
            "text/plain": [
              "<IPython.core.display.Markdown object>"
            ]
          },
          "metadata": {},
          "output_type": "display_data"
        }
      ],
      "source": [
        "import sys, os; sys.path.append(os.path.abspath('..'))\n",
        "from submitter import submit\n",
        "submit(99)"
      ]
    }
  ],
  "metadata": {
    "authors": [
      {
        "name": "Soros Liu"
      }
    ],
    "kernelspec": {
      "display_name": "Python 3",
      "language": "python",
      "name": "python3"
    },
    "language_info": {
      "codemirror_mode": {
        "name": "ipython",
        "version": 3
      },
      "file_extension": ".py",
      "mimetype": "text/x-python",
      "name": "python",
      "nbconvert_exporter": "python",
      "pygments_lexer": "ipython3",
      "version": "3.8.6"
    },
    "leetcode_question_info": {
      "questionFrontendId": "99",
      "questionId": "99",
      "sampleTestCase": "[1,3,null,null,2]",
      "submitUrl": "/problems/recover-binary-search-tree/submit/"
    }
  },
  "nbformat": 4,
  "nbformat_minor": 2
}
