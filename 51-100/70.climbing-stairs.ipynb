{
  "cells": [
    {
      "cell_type": "markdown",
      "metadata": {},
      "source": [
        "### 70. Climbing Stairs"
      ]
    },
    {
      "cell_type": "markdown",
      "metadata": {},
      "source": [
        "#### Content\n",
        "<p>You are climbing a staircase. It takes <code>n</code> steps to reach the top.</p>\n",
        "\n",
        "<p>Each time you can either climb <code>1</code> or <code>2</code> steps. In how many distinct ways can you climb to the top?</p>\n",
        "\n",
        "<p>&nbsp;</p>\n",
        "<p><strong>Example 1:</strong></p>\n",
        "\n",
        "<pre>\n",
        "<strong>Input:</strong> n = 2\n",
        "<strong>Output:</strong> 2\n",
        "<strong>Explanation:</strong> There are two ways to climb to the top.\n",
        "1. 1 step + 1 step\n",
        "2. 2 steps\n",
        "</pre>\n",
        "\n",
        "<p><strong>Example 2:</strong></p>\n",
        "\n",
        "<pre>\n",
        "<strong>Input:</strong> n = 3\n",
        "<strong>Output:</strong> 3\n",
        "<strong>Explanation:</strong> There are three ways to climb to the top.\n",
        "1. 1 step + 1 step + 1 step\n",
        "2. 1 step + 2 steps\n",
        "3. 2 steps + 1 step\n",
        "</pre>\n",
        "\n",
        "<p>&nbsp;</p>\n",
        "<p><strong>Constraints:</strong></p>\n",
        "\n",
        "<ul>\n",
        "\t<li><code>1 &lt;= n &lt;= 45</code></li>\n",
        "</ul>\n"
      ]
    },
    {
      "cell_type": "markdown",
      "metadata": {},
      "source": [
        "#### Difficulty: Easy, AC rate: 50.7%\n",
        "\n",
        "#### Question Tags:\n",
        "- Math\n",
        "- Dynamic Programming\n",
        "- Memoization\n",
        "\n",
        "#### Links:\n",
        " 🎁 [Question Detail](https://leetcode.com/problems/climbing-stairs/description/) | 🎉 [Question Solution](https://leetcode.com/problems/climbing-stairs/solution/) | 💬 [Question Discussion](https://leetcode.com/problems/climbing-stairs/discuss/?orderBy=most_votes)\n",
        "\n",
        "#### Hints:\n",
        "<details><summary>Hint 0  🔍</summary>To reach nth step, what could have been your previous steps? (Think about the step sizes)</details>\n"
      ]
    },
    {
      "cell_type": "markdown",
      "metadata": {},
      "source": [
        "#### Sample Test Case\n",
        "2"
      ]
    },
    {
      "cell_type": "markdown",
      "metadata": {},
      "source": [
        "---\n",
        "What's your idea?\n",
        "\n",
        "斐波那契：第一脚跨一级或第一脚跨两级\n",
        "\n",
        "---"
      ]
    },
    {
      "cell_type": "code",
      "execution_count": 160,
      "metadata": {
        "isSolutionCode": true
      },
      "outputs": [],
      "source": [
        "class Solution:\n",
        "    ans = {0:1,1:1}\n",
        "    def climbStairs(self, n: int) -> int:\n",
        "        if n in self.ans:\n",
        "            return self.ans[n]\n",
        "        self.ans[n] = self.climbStairs(n-1) + self.climbStairs(n-2)\n",
        "        return self.ans[n]"
      ]
    },
    {
      "cell_type": "code",
      "execution_count": 162,
      "metadata": {},
      "outputs": [],
      "source": [
        "s = Solution()\n",
        "assert s.climbStairs(2) == 2\n",
        "assert s.climbStairs(3) == 3\n",
        "assert s.climbStairs(5) == 8"
      ]
    },
    {
      "cell_type": "code",
      "execution_count": 163,
      "metadata": {},
      "outputs": [
        {
          "data": {
            "text/markdown": [
              "😃 Result: Accepted\n",
              "\n",
              "📥 Input: ``\n",
              "\n",
              "📤 Output: ``\n",
              "\n",
              "✅ Expected: ``\n",
              "\n",
              "💯 Passed Test Case: 45 / 45\n",
              "\n",
              "🚀 Runtime: 47 ms, Memory: 13.9 MB\n",
              "\n",
              "🉑 Runtime Percentile: better than 37.16%, Memory Percentile: better than 82.85%\n",
              "\n",
              "📆 Finished At: 2022-02-26"
            ],
            "text/plain": [
              "<IPython.core.display.Markdown object>"
            ]
          },
          "metadata": {},
          "output_type": "display_data"
        }
      ],
      "source": [
        "import sys, os; sys.path.append(os.path.abspath('..'))\n",
        "from submitter import submit\n",
        "submit(70)"
      ]
    }
  ],
  "metadata": {
    "authors": [
      {
        "name": "Soros Liu"
      }
    ],
    "kernelspec": {
      "display_name": "Python 3",
      "language": "python",
      "name": "python3"
    },
    "language_info": {
      "codemirror_mode": {
        "name": "ipython",
        "version": 3
      },
      "file_extension": ".py",
      "mimetype": "text/x-python",
      "name": "python",
      "nbconvert_exporter": "python",
      "pygments_lexer": "ipython3",
      "version": "3.8.6"
    },
    "leetcode_question_info": {
      "questionFrontendId": "70",
      "questionId": "70",
      "sampleTestCase": "2",
      "submitUrl": "/problems/climbing-stairs/submit/"
    }
  },
  "nbformat": 4,
  "nbformat_minor": 2
}
