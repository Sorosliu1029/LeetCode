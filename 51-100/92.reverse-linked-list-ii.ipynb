{
 "cells": [
  {
   "cell_type": "markdown",
   "metadata": {},
   "source": [
    "### 92. Reverse Linked List II"
   ]
  },
  {
   "cell_type": "markdown",
   "metadata": {},
   "source": [
    "#### Content\n",
    "<p>Given the <code>head</code> of a singly linked list and two integers <code>left</code> and <code>right</code> where <code>left &lt;= right</code>, reverse the nodes of the list from position <code>left</code> to position <code>right</code>, and return <em>the reversed list</em>.</p>\n",
    "\n",
    "<p>&nbsp;</p>\n",
    "<p><strong>Example 1:</strong></p>\n",
    "<img alt=\"\" src=\"https://assets.leetcode.com/uploads/2021/02/19/rev2ex2.jpg\" style=\"width: 542px; height: 222px;\" />\n",
    "<pre>\n",
    "<strong>Input:</strong> head = [1,2,3,4,5], left = 2, right = 4\n",
    "<strong>Output:</strong> [1,4,3,2,5]\n",
    "</pre>\n",
    "\n",
    "<p><strong>Example 2:</strong></p>\n",
    "\n",
    "<pre>\n",
    "<strong>Input:</strong> head = [5], left = 1, right = 1\n",
    "<strong>Output:</strong> [5]\n",
    "</pre>\n",
    "\n",
    "<p>&nbsp;</p>\n",
    "<p><strong>Constraints:</strong></p>\n",
    "\n",
    "<ul>\n",
    "\t<li>The number of nodes in the list is <code>n</code>.</li>\n",
    "\t<li><code>1 &lt;= n &lt;= 500</code></li>\n",
    "\t<li><code>-500 &lt;= Node.val &lt;= 500</code></li>\n",
    "\t<li><code>1 &lt;= left &lt;= right &lt;= n</code></li>\n",
    "</ul>\n",
    "\n",
    "<p>&nbsp;</p>\n",
    "<strong>Follow up:</strong> Could you do it in one pass?"
   ]
  },
  {
   "cell_type": "markdown",
   "metadata": {},
   "source": [
    "#### Difficulty: Medium, AC rate: 42.2%\n",
    "\n",
    "#### Question Tags:\n",
    "- Linked List\n",
    "\n",
    "#### Links:\n",
    " 🎁 [Question Detail](https://leetcode.com/problems/reverse-linked-list-ii/description/) | 🎉 [Question Solution](https://leetcode.com/problems/reverse-linked-list-ii/solution/) | 💬 [Question Discussion](https://leetcode.com/problems/reverse-linked-list-ii/discuss/?orderBy=most_votes)\n",
    "\n",
    "#### Hints:\n"
   ]
  },
  {
   "cell_type": "markdown",
   "metadata": {},
   "source": [
    "#### Sample Test Case\n",
    "[1,2,3,4,5]\n",
    "2\n",
    "4"
   ]
  },
  {
   "cell_type": "markdown",
   "metadata": {},
   "source": [
    "---\n",
    "What's your idea?\n",
    "\n",
    "在 #206 reverse linked list 的基础上，多一些左右两端边界节点的记录\n",
    "\n",
    "---"
   ]
  },
  {
   "cell_type": "code",
   "execution_count": 1,
   "metadata": {
    "isSolutionCode": true
   },
   "outputs": [],
   "source": [
    "from typing import Optional\n",
    "\n",
    "# Definition for singly-linked list.\n",
    "class ListNode:\n",
    "    def __init__(self, val=0, next=None):\n",
    "        self.val = val\n",
    "        self.next = next\n",
    "\n",
    "class Solution:\n",
    "    def reverseBetween(self, head: Optional[ListNode], left: int, right: int) -> Optional[ListNode]:\n",
    "        if left == right or not head or not head.next:\n",
    "            return head\n",
    "        \n",
    "        cnt = 0\n",
    "        dummy = ListNode(0, head)\n",
    "        p = dummy\n",
    "        while cnt < left:\n",
    "            cnt += 1\n",
    "            left_prev = p\n",
    "            p = p.next\n",
    "        left_node = p\n",
    "        \n",
    "        prev = None\n",
    "        while cnt < right+1:\n",
    "            cnt += 1\n",
    "            p.next, prev, p = prev, p, p.next\n",
    "            \n",
    "        left_prev.next = prev\n",
    "        left_node.next = p\n",
    "        \n",
    "        return dummy.next"
   ]
  },
  {
   "cell_type": "code",
   "execution_count": 2,
   "metadata": {},
   "outputs": [
    {
     "name": "stdout",
     "output_type": "stream",
     "text": [
      "[5, ]\n",
      "[2, 1, ]\n",
      "[2, 1, 3, ]\n",
      "[1, 3, 2, 4, ]\n",
      "[1, 4, 3, 2, 5, ]\n"
     ]
    }
   ],
   "source": [
    "import sys, os; sys.path.append(os.path.abspath('..'))\n",
    "from helper import array_to_list, print_list\n",
    "\n",
    "s = Solution()\n",
    "print_list(s.reverseBetween(array_to_list([5]), 1, 1))\n",
    "print_list(s.reverseBetween(array_to_list([1,2]), 1, 2))\n",
    "print_list(s.reverseBetween(array_to_list([1,2,3]), 1, 2))\n",
    "print_list(s.reverseBetween(array_to_list([1,2,3,4]), 2, 3))\n",
    "print_list(s.reverseBetween(array_to_list([1,2,3,4,5]), 2, 4))"
   ]
  },
  {
   "cell_type": "code",
   "execution_count": 3,
   "metadata": {},
   "outputs": [
    {
     "data": {
      "text/markdown": [
       "😃 Result: Accepted\n",
       "\n",
       "📥 Input: ``\n",
       "\n",
       "📤 Output: ``\n",
       "\n",
       "✅ Expected: ``\n",
       "\n",
       "💯 Passed Test Case: 44 / 44\n",
       "\n",
       "🚀 Runtime: 44 ms, Memory: 14.3 MB\n",
       "\n",
       "🉑 Runtime Percentile: better than 5.28%, Memory Percentile: better than 70.72%\n",
       "\n",
       "📆 Finished At: 2021-08-22"
      ],
      "text/plain": [
       "<IPython.core.display.Markdown object>"
      ]
     },
     "metadata": {},
     "output_type": "display_data"
    }
   ],
   "source": [
    "import sys, os; sys.path.append(os.path.abspath('..'))\n",
    "from submitter import submit\n",
    "submit(92)"
   ]
  }
 ],
 "metadata": {
  "authors": [
   {
    "name": "Soros Liu"
   }
  ],
  "kernelspec": {
   "display_name": "Python 3",
   "language": "python",
   "name": "python3"
  },
  "language_info": {
   "codemirror_mode": {
    "name": "ipython",
    "version": 3
   },
   "file_extension": ".py",
   "mimetype": "text/x-python",
   "name": "python",
   "nbconvert_exporter": "python",
   "pygments_lexer": "ipython3",
   "version": "3.8.6"
  },
  "leetcode_question_info": {
   "questionFrontendId": "92",
   "questionId": "92",
   "sampleTestCase": "[1,2,3,4,5]\n2\n4",
   "submitUrl": "/problems/reverse-linked-list-ii/submit/"
  }
 },
 "nbformat": 4,
 "nbformat_minor": 2
}
