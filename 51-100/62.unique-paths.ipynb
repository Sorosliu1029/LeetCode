{
  "cells": [
    {
      "cell_type": "markdown",
      "metadata": {},
      "source": [
        "### 62. Unique Paths"
      ]
    },
    {
      "cell_type": "markdown",
      "metadata": {},
      "source": [
        "#### Content\n",
        "<p>There is a robot on an <code>m x n</code> grid. The robot is initially located at the <strong>top-left corner</strong> (i.e., <code>grid[0][0]</code>). The robot tries to move to the <strong>bottom-right corner</strong> (i.e., <code>grid[m - 1][n - 1]</code>). The robot can only move either down or right at any point in time.</p>\n",
        "\n",
        "<p>Given the two integers <code>m</code> and <code>n</code>, return <em>the number of possible unique paths that the robot can take to reach the bottom-right corner</em>.</p>\n",
        "\n",
        "<p>The test cases are generated so that the answer will be less than or equal to <code>2 * 10<sup>9</sup></code>.</p>\n",
        "\n",
        "<p>&nbsp;</p>\n",
        "<p><strong>Example 1:</strong></p>\n",
        "<img src=\"https://assets.leetcode.com/uploads/2018/10/22/robot_maze.png\" style=\"width: 400px; height: 183px;\" />\n",
        "<pre>\n",
        "<strong>Input:</strong> m = 3, n = 7\n",
        "<strong>Output:</strong> 28\n",
        "</pre>\n",
        "\n",
        "<p><strong>Example 2:</strong></p>\n",
        "\n",
        "<pre>\n",
        "<strong>Input:</strong> m = 3, n = 2\n",
        "<strong>Output:</strong> 3\n",
        "<strong>Explanation:</strong> From the top-left corner, there are a total of 3 ways to reach the bottom-right corner:\n",
        "1. Right -&gt; Down -&gt; Down\n",
        "2. Down -&gt; Down -&gt; Right\n",
        "3. Down -&gt; Right -&gt; Down\n",
        "</pre>\n",
        "\n",
        "<p>&nbsp;</p>\n",
        "<p><strong>Constraints:</strong></p>\n",
        "\n",
        "<ul>\n",
        "\t<li><code>1 &lt;= m, n &lt;= 100</code></li>\n",
        "</ul>\n"
      ]
    },
    {
      "cell_type": "markdown",
      "metadata": {},
      "source": [
        "#### Difficulty: Medium, AC rate: 59.5%\n",
        "\n",
        "#### Question Tags:\n",
        "- Math\n",
        "- Dynamic Programming\n",
        "- Combinatorics\n",
        "\n",
        "#### Links:\n",
        " 🎁 [Question Detail](https://leetcode.com/problems/unique-paths/description/) | 🎉 [Question Solution](https://leetcode.com/problems/unique-paths/solution/) | 💬 [Question Discussion](https://leetcode.com/problems/unique-paths/discuss/?orderBy=most_votes)\n",
        "\n",
        "#### Hints:\n"
      ]
    },
    {
      "cell_type": "markdown",
      "metadata": {},
      "source": [
        "#### Sample Test Case\n",
        "3\n",
        "7"
      ]
    },
    {
      "cell_type": "markdown",
      "metadata": {},
      "source": [
        "---\n",
        "What's your idea?\n",
        "\n",
        "动态规划 + 记忆\n",
        "\n",
        "---"
      ]
    },
    {
      "cell_type": "code",
      "execution_count": 18,
      "metadata": {
        "isSolutionCode": true
      },
      "outputs": [],
      "source": [
        "class Solution:\n",
        "    ans = {(1,1):1}\n",
        "    def uniquePaths(self, m: int, n: int) -> int:\n",
        "        if (m, n) in self.ans:\n",
        "            return self.ans[(m, n)]\n",
        "        r = 0\n",
        "        if m > 1:\n",
        "            r += self.uniquePaths(m-1, n)\n",
        "        if n > 1:\n",
        "            r += self.uniquePaths(m, n-1)\n",
        "        self.ans[(m,n)] = r\n",
        "        return r"
      ]
    },
    {
      "cell_type": "code",
      "execution_count": 20,
      "metadata": {},
      "outputs": [],
      "source": [
        "s = Solution()\n",
        "assert s.uniquePaths(1, 1) == 1\n",
        "assert s.uniquePaths(1, 2) == 1\n",
        "assert s.uniquePaths(3, 1) == 1\n",
        "assert s.uniquePaths(3, 2) == 3\n",
        "assert s.uniquePaths(3, 7) == 28"
      ]
    },
    {
      "cell_type": "code",
      "execution_count": 21,
      "metadata": {},
      "outputs": [
        {
          "data": {
            "text/markdown": [
              "😃 Result: Accepted\n",
              "\n",
              "📥 Input: ``\n",
              "\n",
              "📤 Output: ``\n",
              "\n",
              "✅ Expected: ``\n",
              "\n",
              "💯 Passed Test Case: 63 / 63\n",
              "\n",
              "🚀 Runtime: 32 ms, Memory: 14 MB\n",
              "\n",
              "🉑 Runtime Percentile: better than 87.45%, Memory Percentile: better than 57.61%\n",
              "\n",
              "📆 Finished At: 2022-02-27"
            ],
            "text/plain": [
              "<IPython.core.display.Markdown object>"
            ]
          },
          "metadata": {},
          "output_type": "display_data"
        }
      ],
      "source": [
        "import sys, os; sys.path.append(os.path.abspath('..'))\n",
        "from submitter import submit\n",
        "submit(62)"
      ]
    }
  ],
  "metadata": {
    "authors": [
      {
        "name": "Soros Liu"
      }
    ],
    "kernelspec": {
      "display_name": "Python 3",
      "language": "python",
      "name": "python3"
    },
    "language_info": {
      "codemirror_mode": {
        "name": "ipython",
        "version": 3
      },
      "file_extension": ".py",
      "mimetype": "text/x-python",
      "name": "python",
      "nbconvert_exporter": "python",
      "pygments_lexer": "ipython3",
      "version": "3.8.6"
    },
    "leetcode_question_info": {
      "questionFrontendId": "62",
      "questionId": "62",
      "sampleTestCase": "3\n7",
      "submitUrl": "/problems/unique-paths/submit/"
    }
  },
  "nbformat": 4,
  "nbformat_minor": 2
}
