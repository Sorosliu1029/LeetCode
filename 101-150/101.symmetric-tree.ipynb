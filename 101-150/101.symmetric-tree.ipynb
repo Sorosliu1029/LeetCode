{
  "cells": [
    {
      "cell_type": "markdown",
      "metadata": {},
      "source": [
        "### 101. Symmetric Tree"
      ]
    },
    {
      "cell_type": "markdown",
      "metadata": {},
      "source": [
        "#### Content\n",
        "<p>Given the <code>root</code> of a binary tree, <em>check whether it is a mirror of itself</em> (i.e., symmetric around its center).</p>\n",
        "\n",
        "<p>&nbsp;</p>\n",
        "<p><strong>Example 1:</strong></p>\n",
        "<img alt=\"\" src=\"https://assets.leetcode.com/uploads/2021/02/19/symtree1.jpg\" style=\"width: 354px; height: 291px;\" />\n",
        "<pre>\n",
        "<strong>Input:</strong> root = [1,2,2,3,4,4,3]\n",
        "<strong>Output:</strong> true\n",
        "</pre>\n",
        "\n",
        "<p><strong>Example 2:</strong></p>\n",
        "<img alt=\"\" src=\"https://assets.leetcode.com/uploads/2021/02/19/symtree2.jpg\" style=\"width: 308px; height: 258px;\" />\n",
        "<pre>\n",
        "<strong>Input:</strong> root = [1,2,2,null,3,null,3]\n",
        "<strong>Output:</strong> false\n",
        "</pre>\n",
        "\n",
        "<p>&nbsp;</p>\n",
        "<p><strong>Constraints:</strong></p>\n",
        "\n",
        "<ul>\n",
        "\t<li>The number of nodes in the tree is in the range <code>[1, 1000]</code>.</li>\n",
        "\t<li><code>-100 &lt;= Node.val &lt;= 100</code></li>\n",
        "</ul>\n",
        "\n",
        "<p>&nbsp;</p>\n",
        "<strong>Follow up:</strong> Could you solve it both recursively and iteratively?"
      ]
    },
    {
      "cell_type": "markdown",
      "metadata": {},
      "source": [
        "#### Difficulty: Easy, AC rate: 51.0%\n",
        "\n",
        "#### Question Tags:\n",
        "- Tree\n",
        "- Depth-First Search\n",
        "- Breadth-First Search\n",
        "- Binary Tree\n",
        "\n",
        "#### Links:\n",
        " 🎁 [Question Detail](https://leetcode.com/problems/symmetric-tree/description/) | 🎉 [Question Solution](https://leetcode.com/problems/symmetric-tree/solution/) | 💬 [Question Discussion](https://leetcode.com/problems/symmetric-tree/discuss/?orderBy=most_votes)\n",
        "\n",
        "#### Hints:\n"
      ]
    },
    {
      "cell_type": "markdown",
      "metadata": {},
      "source": [
        "#### Sample Test Case\n",
        "[1,2,2,3,4,4,3]"
      ]
    },
    {
      "cell_type": "markdown",
      "metadata": {},
      "source": [
        "---\n",
        "What's your idea?\n",
        "\n",
        "BFS，逐层检查\n",
        "\n",
        "---"
      ]
    },
    {
      "cell_type": "code",
      "execution_count": 10,
      "metadata": {
        "isSolutionCode": true
      },
      "outputs": [],
      "source": [
        "from typing import Optional\n",
        "# Definition for a binary tree node.\n",
        "class TreeNode:\n",
        "    def __init__(self, val=0, left=None, right=None):\n",
        "        self.val = val\n",
        "        self.left = left\n",
        "        self.right = right\n",
        "\n",
        "class Solution:\n",
        "    def isSymmetric(self, root: Optional[TreeNode]) -> bool:\n",
        "        if root is None:\n",
        "            return True\n",
        "        level = [root]\n",
        "\n",
        "        while True:\n",
        "            for i in range(len(level) // 2):\n",
        "                if level[i] is None and level[-i-1] is None:\n",
        "                    continue\n",
        "                if level[i] is None or level[-i-1] is None:\n",
        "                    return False\n",
        "                if level[i].val != level[-i-1].val:\n",
        "                    return False\n",
        "\n",
        "            next = []\n",
        "            for n in level:\n",
        "                next += [n.left, n.right] if n is not None else [None, None]\n",
        "            if all([n is None for n in next]):\n",
        "                return True\n",
        "            level = next"
      ]
    },
    {
      "cell_type": "code",
      "execution_count": 11,
      "metadata": {},
      "outputs": [],
      "source": [
        "from helper import array_to_tree\n",
        "s = Solution()\n",
        "\n",
        "t = array_to_tree([1,2,2,3,4,4,3])\n",
        "assert s.isSymmetric(t) == True\n",
        "\n",
        "t = array_to_tree([1,2,2,None,3,None,3])\n",
        "assert s.isSymmetric(t) == False"
      ]
    },
    {
      "cell_type": "code",
      "execution_count": 12,
      "metadata": {},
      "outputs": [
        {
          "data": {
            "text/markdown": [
              "😃 Result: Accepted\n",
              "\n",
              "📥 Input: ``\n",
              "\n",
              "📤 Output: ``\n",
              "\n",
              "✅ Expected: ``\n",
              "\n",
              "💯 Passed Test Case: 197 / 197\n",
              "\n",
              "🚀 Runtime: 1019 ms, Memory: 122.5 MB\n",
              "\n",
              "🉑 Runtime Percentile: better than 5.12%, Memory Percentile: better than 13.43%\n",
              "\n",
              "📆 Finished At: 2022-02-11"
            ],
            "text/plain": [
              "<IPython.core.display.Markdown object>"
            ]
          },
          "metadata": {},
          "output_type": "display_data"
        }
      ],
      "source": [
        "import sys, os; sys.path.append(os.path.abspath('..'))\n",
        "from submitter import submit\n",
        "submit(101)"
      ]
    }
  ],
  "metadata": {
    "authors": [
      {
        "name": "Soros Liu"
      }
    ],
    "kernelspec": {
      "display_name": "Python 3",
      "language": "python",
      "name": "python3"
    },
    "language_info": {
      "codemirror_mode": {
        "name": "ipython",
        "version": 3
      },
      "file_extension": ".py",
      "mimetype": "text/x-python",
      "name": "python",
      "nbconvert_exporter": "python",
      "pygments_lexer": "ipython3",
      "version": "3.8.6"
    },
    "leetcode_question_info": {
      "questionFrontendId": "101",
      "questionId": "101",
      "sampleTestCase": "[1,2,2,3,4,4,3]",
      "submitUrl": "/problems/symmetric-tree/submit/"
    }
  },
  "nbformat": 4,
  "nbformat_minor": 2
}
