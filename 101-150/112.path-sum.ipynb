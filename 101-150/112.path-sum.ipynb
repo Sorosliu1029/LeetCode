{
  "cells": [
    {
      "cell_type": "markdown",
      "metadata": {},
      "source": [
        "### 112. Path Sum"
      ]
    },
    {
      "cell_type": "markdown",
      "metadata": {},
      "source": [
        "#### Content\n",
        "<p>Given the <code>root</code> of a binary tree and an integer <code>targetSum</code>, return <code>true</code> if the tree has a <strong>root-to-leaf</strong> path such that adding up all the values along the path equals <code>targetSum</code>.</p>\n",
        "\n",
        "<p>A <strong>leaf</strong> is a node with no children.</p>\n",
        "\n",
        "<p>&nbsp;</p>\n",
        "<p><strong>Example 1:</strong></p>\n",
        "<img alt=\"\" src=\"https://assets.leetcode.com/uploads/2021/01/18/pathsum1.jpg\" style=\"width: 500px; height: 356px;\" />\n",
        "<pre>\n",
        "<strong>Input:</strong> root = [5,4,8,11,null,13,4,7,2,null,null,null,1], targetSum = 22\n",
        "<strong>Output:</strong> true\n",
        "<strong>Explanation:</strong> The root-to-leaf path with the target sum is shown.\n",
        "</pre>\n",
        "\n",
        "<p><strong>Example 2:</strong></p>\n",
        "<img alt=\"\" src=\"https://assets.leetcode.com/uploads/2021/01/18/pathsum2.jpg\" />\n",
        "<pre>\n",
        "<strong>Input:</strong> root = [1,2,3], targetSum = 5\n",
        "<strong>Output:</strong> false\n",
        "<strong>Explanation:</strong> There two root-to-leaf paths in the tree:\n",
        "(1 --&gt; 2): The sum is 3.\n",
        "(1 --&gt; 3): The sum is 4.\n",
        "There is no root-to-leaf path with sum = 5.\n",
        "</pre>\n",
        "\n",
        "<p><strong>Example 3:</strong></p>\n",
        "\n",
        "<pre>\n",
        "<strong>Input:</strong> root = [], targetSum = 0\n",
        "<strong>Output:</strong> false\n",
        "<strong>Explanation:</strong> Since the tree is empty, there are no root-to-leaf paths.\n",
        "</pre>\n",
        "\n",
        "<p>&nbsp;</p>\n",
        "<p><strong>Constraints:</strong></p>\n",
        "\n",
        "<ul>\n",
        "\t<li>The number of nodes in the tree is in the range <code>[0, 5000]</code>.</li>\n",
        "\t<li><code>-1000 &lt;= Node.val &lt;= 1000</code></li>\n",
        "\t<li><code>-1000 &lt;= targetSum &lt;= 1000</code></li>\n",
        "</ul>\n"
      ]
    },
    {
      "cell_type": "markdown",
      "metadata": {},
      "source": [
        "#### Difficulty: Easy, AC rate: 44.9%\n",
        "\n",
        "#### Question Tags:\n",
        "- Tree\n",
        "- Depth-First Search\n",
        "- Breadth-First Search\n",
        "- Binary Tree\n",
        "\n",
        "#### Links:\n",
        " 🎁 [Question Detail](https://leetcode.com/problems/path-sum/description/) | 🎉 [Question Solution](https://leetcode.com/problems/path-sum/solution/) | 💬 [Question Discussion](https://leetcode.com/problems/path-sum/discuss/?orderBy=most_votes)\n",
        "\n",
        "#### Hints:\n"
      ]
    },
    {
      "cell_type": "markdown",
      "metadata": {},
      "source": [
        "#### Sample Test Case\n",
        "[5,4,8,11,null,13,4,7,2,null,null,null,1]\n",
        "22"
      ]
    },
    {
      "cell_type": "markdown",
      "metadata": {},
      "source": [
        "---\n",
        "What's your idea?\n",
        "\n",
        "DFS\n",
        "\n",
        "---"
      ]
    },
    {
      "cell_type": "code",
      "execution_count": 39,
      "metadata": {
        "isSolutionCode": true
      },
      "outputs": [],
      "source": [
        "from typing import Optional\n",
        "# Definition for a binary tree node.\n",
        "class TreeNode:\n",
        "    def __init__(self, val=0, left=None, right=None):\n",
        "        self.val = val\n",
        "        self.left = left\n",
        "        self.right = right\n",
        "\n",
        "class Solution:\n",
        "    def hasPathSum(self, root: Optional[TreeNode], targetSum: int) -> bool:\n",
        "        if root is None:\n",
        "            return False\n",
        "        return self.hasPartialPathSum(root, targetSum)\n",
        "        \n",
        "    def hasPartialPathSum(self, node: Optional[TreeNode], remaining: int) -> bool:\n",
        "        if node.left is None and node.right is None:\n",
        "            return remaining == node.val\n",
        "        return (self.hasPartialPathSum(node.left, remaining - node.val) if node.left is not None else False) or \\\n",
        "            (self.hasPartialPathSum(node.right, remaining - node.val) if node.right is not None else False)"
      ]
    },
    {
      "cell_type": "code",
      "execution_count": 40,
      "metadata": {},
      "outputs": [],
      "source": [
        "s = Solution()\n",
        "\n",
        "t = TreeNode(5,\n",
        "  TreeNode(4,\n",
        "    TreeNode(11,\n",
        "      TreeNode(7),\n",
        "      TreeNode(2),\n",
        "    ),\n",
        "    None,\n",
        "  ),\n",
        "  TreeNode(8,\n",
        "    TreeNode(13),\n",
        "    TreeNode(4,\n",
        "      None,\n",
        "      TreeNode(1)\n",
        "    )\n",
        "  ),\n",
        ")\n",
        "assert s.hasPathSum(t, 22) == True\n",
        "assert s.hasPathSum(t, 26) == True\n",
        "\n",
        "t = TreeNode(1, TreeNode(2), TreeNode(3))\n",
        "assert s.hasPathSum(t, 1) == False\n",
        "assert s.hasPathSum(t, 2) == False\n",
        "assert s.hasPathSum(t, 3) == True\n",
        "assert s.hasPathSum(t, 4) == True\n",
        "assert s.hasPathSum(t, 5) == False\n",
        "\n",
        "t = None\n",
        "assert s.hasPathSum(t, 0) == False\n",
        "\n",
        "t = TreeNode(1, TreeNode(2))\n",
        "assert s.hasPathSum(t, 1) == False"
      ]
    },
    {
      "cell_type": "code",
      "execution_count": 42,
      "metadata": {},
      "outputs": [
        {
          "data": {
            "text/markdown": [
              "😃 Result: Accepted\n",
              "\n",
              "📥 Input: ``\n",
              "\n",
              "📤 Output: ``\n",
              "\n",
              "✅ Expected: ``\n",
              "\n",
              "💯 Passed Test Case: 117 / 117\n",
              "\n",
              "🚀 Runtime: 95 ms, Memory: 15.1 MB\n",
              "\n",
              "🉑 Runtime Percentile: better than 5.29%, Memory Percentile: better than 75.39%\n",
              "\n",
              "📆 Finished At: 2022-02-11"
            ],
            "text/plain": [
              "<IPython.core.display.Markdown object>"
            ]
          },
          "metadata": {},
          "output_type": "display_data"
        }
      ],
      "source": [
        "import sys, os; sys.path.append(os.path.abspath('..'))\n",
        "from submitter import submit\n",
        "submit(112)"
      ]
    }
  ],
  "metadata": {
    "authors": [
      {
        "name": "Soros Liu"
      }
    ],
    "kernelspec": {
      "display_name": "Python 3",
      "language": "python",
      "name": "python3"
    },
    "language_info": {
      "codemirror_mode": {
        "name": "ipython",
        "version": 3
      },
      "file_extension": ".py",
      "mimetype": "text/x-python",
      "name": "python",
      "nbconvert_exporter": "python",
      "pygments_lexer": "ipython3",
      "version": "3.8.6"
    },
    "leetcode_question_info": {
      "questionFrontendId": "112",
      "questionId": "112",
      "sampleTestCase": "[5,4,8,11,null,13,4,7,2,null,null,null,1]\n22",
      "submitUrl": "/problems/path-sum/submit/"
    }
  },
  "nbformat": 4,
  "nbformat_minor": 2
}
