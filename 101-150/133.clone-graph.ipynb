{
  "cells": [
    {
      "cell_type": "markdown",
      "metadata": {},
      "source": [
        "### 133. Clone Graph"
      ]
    },
    {
      "cell_type": "markdown",
      "metadata": {},
      "source": [
        "#### Content\n",
        "<p>Given a reference of a node in a <strong><a href=\"https://en.wikipedia.org/wiki/Connectivity_(graph_theory)#Connected_graph\" target=\"_blank\">connected</a></strong> undirected graph.</p>\n",
        "\n",
        "<p>Return a <a href=\"https://en.wikipedia.org/wiki/Object_copying#Deep_copy\" target=\"_blank\"><strong>deep copy</strong></a> (clone) of the graph.</p>\n",
        "\n",
        "<p>Each node in the graph contains a value (<code>int</code>) and a list (<code>List[Node]</code>) of its neighbors.</p>\n",
        "\n",
        "<pre>\n",
        "class Node {\n",
        "    public int val;\n",
        "    public List&lt;Node&gt; neighbors;\n",
        "}\n",
        "</pre>\n",
        "\n",
        "<p>&nbsp;</p>\n",
        "\n",
        "<p><strong>Test case format:</strong></p>\n",
        "\n",
        "<p>For simplicity, each node&#39;s value is the same as the node&#39;s index (1-indexed). For example, the first node with <code>val == 1</code>, the second node with <code>val == 2</code>, and so on. The graph is represented in the test case using an adjacency list.</p>\n",
        "\n",
        "<p><b>An adjacency list</b> is a collection of unordered <b>lists</b> used to represent a finite graph. Each list describes the set of neighbors of a node in the graph.</p>\n",
        "\n",
        "<p>The given node will always be the first node with <code>val = 1</code>. You must return the <strong>copy of the given node</strong> as a reference to the cloned graph.</p>\n",
        "\n",
        "<p>&nbsp;</p>\n",
        "<p><strong>Example 1:</strong></p>\n",
        "<img alt=\"\" src=\"https://assets.leetcode.com/uploads/2019/11/04/133_clone_graph_question.png\" style=\"width: 454px; height: 500px;\" />\n",
        "<pre>\n",
        "<strong>Input:</strong> adjList = [[2,4],[1,3],[2,4],[1,3]]\n",
        "<strong>Output:</strong> [[2,4],[1,3],[2,4],[1,3]]\n",
        "<strong>Explanation:</strong> There are 4 nodes in the graph.\n",
        "1st node (val = 1)&#39;s neighbors are 2nd node (val = 2) and 4th node (val = 4).\n",
        "2nd node (val = 2)&#39;s neighbors are 1st node (val = 1) and 3rd node (val = 3).\n",
        "3rd node (val = 3)&#39;s neighbors are 2nd node (val = 2) and 4th node (val = 4).\n",
        "4th node (val = 4)&#39;s neighbors are 1st node (val = 1) and 3rd node (val = 3).\n",
        "</pre>\n",
        "\n",
        "<p><strong>Example 2:</strong></p>\n",
        "<img alt=\"\" src=\"https://assets.leetcode.com/uploads/2020/01/07/graph.png\" style=\"width: 163px; height: 148px;\" />\n",
        "<pre>\n",
        "<strong>Input:</strong> adjList = [[]]\n",
        "<strong>Output:</strong> [[]]\n",
        "<strong>Explanation:</strong> Note that the input contains one empty list. The graph consists of only one node with val = 1 and it does not have any neighbors.\n",
        "</pre>\n",
        "\n",
        "<p><strong>Example 3:</strong></p>\n",
        "\n",
        "<pre>\n",
        "<strong>Input:</strong> adjList = []\n",
        "<strong>Output:</strong> []\n",
        "<strong>Explanation:</strong> This an empty graph, it does not have any nodes.\n",
        "</pre>\n",
        "\n",
        "<p>&nbsp;</p>\n",
        "<p><strong>Constraints:</strong></p>\n",
        "\n",
        "<ul>\n",
        "\t<li>The number of nodes in the graph is in the range <code>[0, 100]</code>.</li>\n",
        "\t<li><code>1 &lt;= Node.val &lt;= 100</code></li>\n",
        "\t<li><code>Node.val</code> is unique for each node.</li>\n",
        "\t<li>There are no repeated edges and no self-loops in the graph.</li>\n",
        "\t<li>The Graph is connected and all nodes can be visited starting from the given node.</li>\n",
        "</ul>\n"
      ]
    },
    {
      "cell_type": "markdown",
      "metadata": {},
      "source": [
        "#### Difficulty: Medium, AC rate: 46.6%\n",
        "\n",
        "#### Question Tags:\n",
        "- Hash Table\n",
        "- Depth-First Search\n",
        "- Breadth-First Search\n",
        "- Graph\n",
        "\n",
        "#### Links:\n",
        " 🎁 [Question Detail](https://leetcode.com/problems/clone-graph/description/) | 🎉 [Question Solution](https://leetcode.com/problems/clone-graph/solution/) | 💬 [Question Discussion](https://leetcode.com/problems/clone-graph/discuss/?orderBy=most_votes)\n",
        "\n",
        "#### Hints:\n"
      ]
    },
    {
      "cell_type": "markdown",
      "metadata": {},
      "source": [
        "#### Sample Test Case\n",
        "[[2,4],[1,3],[2,4],[1,3]]"
      ]
    },
    {
      "cell_type": "markdown",
      "metadata": {},
      "source": [
        "---\n",
        "What's your idea?\n",
        "\n",
        "BFS\n",
        "\n",
        "---"
      ]
    },
    {
      "cell_type": "code",
      "execution_count": 1,
      "metadata": {},
      "outputs": [],
      "source": [
        "# Definition for a Node.\n",
        "class Node:\n",
        "    def __init__(self, val = 0, neighbors = None):\n",
        "        self.val = val\n",
        "        self.neighbors = neighbors if neighbors is not None else []"
      ]
    },
    {
      "cell_type": "code",
      "execution_count": 2,
      "metadata": {
        "isSolutionCode": true
      },
      "outputs": [],
      "source": [
        "class Solution:\n",
        "    def cloneGraph(self, node: 'Node') -> 'Node':\n",
        "        if node is None:\n",
        "            return None\n",
        "        level = [node]\n",
        "        visited = {}\n",
        "        \n",
        "        while any(n.val not in visited for n in level):\n",
        "            next_level = []\n",
        "            for n in level:\n",
        "                if n.val not in visited:\n",
        "                    visited[n.val] = (n, Node(n.val))\n",
        "                next_level += n.neighbors\n",
        "            level = next_level\n",
        "        \n",
        "        for origin, copy in visited.values():\n",
        "            copy.neighbors = [visited[n.val][1] for n in origin.neighbors]\n",
        "        return visited[node.val][1]"
      ]
    },
    {
      "cell_type": "code",
      "execution_count": 3,
      "metadata": {},
      "outputs": [
        {
          "data": {
            "image/svg+xml": "<?xml version=\"1.0\" encoding=\"UTF-8\" standalone=\"no\"?>\n<!DOCTYPE svg PUBLIC \"-//W3C//DTD SVG 1.1//EN\"\n \"http://www.w3.org/Graphics/SVG/1.1/DTD/svg11.dtd\">\n<!-- Generated by graphviz version 2.48.0 (20210717.2242)\n -->\n<!-- Pages: 1 -->\n<svg width=\"132pt\" height=\"134pt\"\n viewBox=\"0.00 0.00 131.62 134.40\" xmlns=\"http://www.w3.org/2000/svg\" xmlns:xlink=\"http://www.w3.org/1999/xlink\">\n<g id=\"graph0\" class=\"graph\" transform=\"scale(1 1) rotate(0) translate(4 130.4)\">\n<polygon fill=\"white\" stroke=\"transparent\" points=\"-4,4 -4,-130.4 127.62,-130.4 127.62,4 -4,4\"/>\n<!-- 0x7fa89702df40 -->\n<g id=\"node1\" class=\"node\">\n<title>0x7fa89702df40</title>\n<ellipse fill=\"none\" stroke=\"black\" cx=\"18\" cy=\"-52.14\" rx=\"18\" ry=\"18\"/>\n<text text-anchor=\"middle\" x=\"18\" y=\"-48.44\" font-family=\"Times,serif\" font-size=\"14.00\">1</text>\n</g>\n<!-- 0x7fa89702dfa0 -->\n<g id=\"node2\" class=\"node\">\n<title>0x7fa89702dfa0</title>\n<ellipse fill=\"none\" stroke=\"black\" cx=\"105.62\" cy=\"-73.86\" rx=\"18\" ry=\"18\"/>\n<text text-anchor=\"middle\" x=\"105.62\" y=\"-70.16\" font-family=\"Times,serif\" font-size=\"14.00\">2</text>\n</g>\n<!-- 0x7fa89702df40&#45;&gt;0x7fa89702dfa0 -->\n<g id=\"edge1\" class=\"edge\">\n<title>0x7fa89702df40&#45;&gt;0x7fa89702dfa0</title>\n<path fill=\"none\" stroke=\"black\" d=\"M33.58,-61.62C45.73,-66.07 62.92,-70.61 77.46,-73.34\"/>\n<polygon fill=\"black\" stroke=\"black\" points=\"77.03,-76.81 87.47,-74.98 78.17,-69.91 77.03,-76.81\"/>\n</g>\n<!-- 0x7fa89702d280 -->\n<g id=\"node3\" class=\"node\">\n<title>0x7fa89702d280</title>\n<ellipse fill=\"none\" stroke=\"black\" cx=\"62.28\" cy=\"-18\" rx=\"18\" ry=\"18\"/>\n<text text-anchor=\"middle\" x=\"62.28\" y=\"-14.3\" font-family=\"Times,serif\" font-size=\"14.00\">4</text>\n</g>\n<!-- 0x7fa89702df40&#45;&gt;0x7fa89702d280 -->\n<g id=\"edge2\" class=\"edge\">\n<title>0x7fa89702df40&#45;&gt;0x7fa89702d280</title>\n<path fill=\"none\" stroke=\"black\" d=\"M35.36,-46.68C38.48,-44.7 41.73,-42.39 44.86,-39.95\"/>\n<polygon fill=\"black\" stroke=\"black\" points=\"47.3,-42.47 52.66,-33.33 42.77,-37.13 47.3,-42.47\"/>\n</g>\n<!-- 0x7fa89702dfa0&#45;&gt;0x7fa89702df40 -->\n<g id=\"edge3\" class=\"edge\">\n<title>0x7fa89702dfa0&#45;&gt;0x7fa89702df40</title>\n<path fill=\"none\" stroke=\"black\" d=\"M90.04,-64.38C77.89,-59.93 60.71,-55.4 46.17,-52.66\"/>\n<polygon fill=\"black\" stroke=\"black\" points=\"46.59,-49.19 36.16,-51.02 45.46,-56.09 46.59,-49.19\"/>\n</g>\n<!-- 0x7fa89702dfd0 -->\n<g id=\"node4\" class=\"node\">\n<title>0x7fa89702dfd0</title>\n<ellipse fill=\"none\" stroke=\"black\" cx=\"61.62\" cy=\"-108.4\" rx=\"18\" ry=\"18\"/>\n<text text-anchor=\"middle\" x=\"61.62\" y=\"-104.7\" font-family=\"Times,serif\" font-size=\"14.00\">3</text>\n</g>\n<!-- 0x7fa89702dfa0&#45;&gt;0x7fa89702dfd0 -->\n<g id=\"edge4\" class=\"edge\">\n<title>0x7fa89702dfa0&#45;&gt;0x7fa89702dfd0</title>\n<path fill=\"none\" stroke=\"black\" d=\"M88.31,-79.48C85.2,-81.49 81.97,-83.82 78.86,-86.29\"/>\n<polygon fill=\"black\" stroke=\"black\" points=\"76.39,-83.8 71.11,-92.99 80.97,-89.1 76.39,-83.8\"/>\n</g>\n<!-- 0x7fa89702d280&#45;&gt;0x7fa89702df40 -->\n<g id=\"edge5\" class=\"edge\">\n<title>0x7fa89702d280&#45;&gt;0x7fa89702df40</title>\n<path fill=\"none\" stroke=\"black\" d=\"M44.92,-23.46C41.8,-25.44 38.55,-27.75 35.42,-30.19\"/>\n<polygon fill=\"black\" stroke=\"black\" points=\"32.98,-27.67 27.62,-36.81 37.51,-33.01 32.98,-27.67\"/>\n</g>\n<!-- 0x7fa89702d280&#45;&gt;0x7fa89702dfd0 -->\n<g id=\"edge6\" class=\"edge\">\n<title>0x7fa89702d280&#45;&gt;0x7fa89702dfd0</title>\n<path fill=\"none\" stroke=\"black\" d=\"M56.69,-35.39C55.21,-48.26 54.81,-66.05 55.55,-80.85\"/>\n<polygon fill=\"black\" stroke=\"black\" points=\"52.07,-81.27 56.29,-90.98 59.06,-80.75 52.07,-81.27\"/>\n</g>\n<!-- 0x7fa89702dfd0&#45;&gt;0x7fa89702dfa0 -->\n<g id=\"edge7\" class=\"edge\">\n<title>0x7fa89702dfd0&#45;&gt;0x7fa89702dfa0</title>\n<path fill=\"none\" stroke=\"black\" d=\"M78.94,-102.78C82.04,-100.78 85.28,-98.44 88.38,-95.97\"/>\n<polygon fill=\"black\" stroke=\"black\" points=\"90.85,-98.46 96.13,-89.28 86.28,-93.17 90.85,-98.46\"/>\n</g>\n<!-- 0x7fa89702dfd0&#45;&gt;0x7fa89702d280 -->\n<g id=\"edge8\" class=\"edge\">\n<title>0x7fa89702dfd0&#45;&gt;0x7fa89702d280</title>\n<path fill=\"none\" stroke=\"black\" d=\"M67.21,-91.01C68.69,-78.14 69.09,-60.35 68.35,-45.55\"/>\n<polygon fill=\"black\" stroke=\"black\" points=\"71.83,-45.13 67.6,-35.42 64.84,-45.64 71.83,-45.13\"/>\n</g>\n</g>\n</svg>\n",
            "text/plain": [
              "<graphviz.dot.Digraph at 0x7fa8976b5dc0>"
            ]
          },
          "metadata": {},
          "output_type": "display_data"
        }
      ],
      "source": [
        "from visualizer import visualize_directed_graph\n",
        "s = Solution()\n",
        "\n",
        "n1 = Node(1)\n",
        "clone = s.cloneGraph(n1)\n",
        "assert clone.val == n1.val\n",
        "assert clone.neighbors == []\n",
        "\n",
        "clone = s.cloneGraph(None)\n",
        "assert clone is None\n",
        "\n",
        "n1, n2, n3, n4 = Node(1), Node(2), Node(3), Node(4)\n",
        "n1.neighbors, n2.neighbors, n3.neighbors, n4.neighbors = [n2, n4], [n1, n3], [n2, n4], [n1, n3]\n",
        "clone = s.cloneGraph(n1)\n",
        "visualize_directed_graph(clone)\n",
        "assert clone.val == n1.val\n",
        "assert [n.val for n in clone.neighbors] == [2, 4]\n",
        "assert id(clone) != id(n1)\n",
        "clone_n2 = clone.neighbors[0]\n",
        "assert id(clone_n2) != id(n2)\n",
        "assert clone_n2.val == n2.val\n",
        "assert [n.val for n in clone_n2.neighbors] == [1, 3]\n",
        "clone_n3 = clone_n2.neighbors[1]\n",
        "assert id(clone_n3) != id(n3)\n",
        "assert clone_n3.val == n3.val\n",
        "assert [n.val for n in clone_n3.neighbors] == [2, 4]\n",
        "clone_n4 = clone.neighbors[1]\n",
        "assert id(clone_n4) != id(n4)\n",
        "assert clone_n4.val == n4.val\n",
        "assert [n.val for n in clone_n4.neighbors] == [1, 3]"
      ]
    },
    {
      "cell_type": "code",
      "execution_count": 6,
      "metadata": {},
      "outputs": [
        {
          "data": {
            "text/markdown": [
              "😃 Result: Accepted\n",
              "\n",
              "📥 Input: ``\n",
              "\n",
              "📤 Output: ``\n",
              "\n",
              "✅ Expected: ``\n",
              "\n",
              "💯 Passed Test Case: 22 / 22\n",
              "\n",
              "🚀 Runtime: 79 ms, Memory: 16.7 MB\n",
              "\n",
              "🉑 Runtime Percentile: better than 7.94%, Memory Percentile: better than 10.15%\n",
              "\n",
              "📆 Finished At: 2022-02-27"
            ],
            "text/plain": [
              "<IPython.core.display.Markdown object>"
            ]
          },
          "metadata": {},
          "output_type": "display_data"
        }
      ],
      "source": [
        "import sys, os; sys.path.append(os.path.abspath('..'))\n",
        "from submitter import submit\n",
        "submit(133)"
      ]
    }
  ],
  "metadata": {
    "authors": [
      {
        "name": "Soros Liu"
      }
    ],
    "kernelspec": {
      "display_name": "Python 3",
      "language": "python",
      "name": "python3"
    },
    "language_info": {
      "codemirror_mode": {
        "name": "ipython",
        "version": 3
      },
      "file_extension": ".py",
      "mimetype": "text/x-python",
      "name": "python",
      "nbconvert_exporter": "python",
      "pygments_lexer": "ipython3",
      "version": "3.8.6"
    },
    "leetcode_question_info": {
      "questionFrontendId": "133",
      "questionId": "133",
      "sampleTestCase": "[[2,4],[1,3],[2,4],[1,3]]",
      "submitUrl": "/problems/clone-graph/submit/"
    }
  },
  "nbformat": 4,
  "nbformat_minor": 2
}
