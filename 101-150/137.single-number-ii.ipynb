{
 "cells": [
  {
   "cell_type": "markdown",
   "metadata": {},
   "source": [
    "### 137. Single Number II"
   ]
  },
  {
   "cell_type": "markdown",
   "metadata": {},
   "source": [
    "#### Content\n",
    "<p>Given an integer array <code>nums</code> where&nbsp;every element appears <strong>three times</strong> except for one, which appears <strong>exactly once</strong>. <em>Find the single element and return it</em>.</p>\n",
    "\n",
    "<p>You must&nbsp;implement a solution with a linear runtime complexity and use&nbsp;only constant&nbsp;extra space.</p>\n",
    "\n",
    "<p>&nbsp;</p>\n",
    "<p><strong>Example 1:</strong></p>\n",
    "<pre><strong>Input:</strong> nums = [2,2,3,2]\n",
    "<strong>Output:</strong> 3\n",
    "</pre><p><strong>Example 2:</strong></p>\n",
    "<pre><strong>Input:</strong> nums = [0,1,0,1,0,1,99]\n",
    "<strong>Output:</strong> 99\n",
    "</pre>\n",
    "<p>&nbsp;</p>\n",
    "<p><strong>Constraints:</strong></p>\n",
    "\n",
    "<ul>\n",
    "\t<li><code>1 &lt;= nums.length &lt;= 3 * 10<sup>4</sup></code></li>\n",
    "\t<li><code>-2<sup>31</sup> &lt;= nums[i] &lt;= 2<sup>31</sup> - 1</code></li>\n",
    "\t<li>Each element in <code>nums</code> appears exactly <strong>three times</strong> except for one element which appears <strong>once</strong>.</li>\n",
    "</ul>\n"
   ]
  },
  {
   "cell_type": "markdown",
   "metadata": {},
   "source": [
    "#### Difficulty: Medium, AC rate: 55.0%\n",
    "\n",
    "#### Question Tags:\n",
    "- Array\n",
    "- Bit Manipulation\n",
    "\n",
    "#### Links:\n",
    " 🎁 [Question Detail](https://leetcode.com/problems/single-number-ii/description/) | 🎉 [Question Solution](https://leetcode.com/problems/single-number-ii/solution/) | 💬 [Question Discussion](https://leetcode.com/problems/single-number-ii/discuss/?orderBy=most_votes)\n",
    "\n",
    "#### Hints:\n"
   ]
  },
  {
   "cell_type": "markdown",
   "metadata": {},
   "source": [
    "#### Sample Test Case\n",
    "[2,2,3,2]"
   ]
  },
  {
   "cell_type": "markdown",
   "metadata": {},
   "source": [
    "---\n",
    "What's your idea?\n",
    "\n",
    "有对外参考。\n",
    "\n",
    "记录每一位的 `1` 的个数，最后每一位对 `3` 取模，留下的模数即为该位上 `1` 的个数\n",
    "\n",
    "---"
   ]
  },
  {
   "cell_type": "code",
   "execution_count": 1,
   "metadata": {
    "isSolutionCode": true
   },
   "outputs": [],
   "source": [
    "from typing import List\n",
    "\n",
    "class Solution:\n",
    "    def singleNumber(self, nums: List[int]) -> int:\n",
    "        bits = [0] * 32\n",
    "        \n",
    "        for n in nums:\n",
    "            n &= 0xffffffff\n",
    "            idx = 0\n",
    "            while n:\n",
    "                bits[idx] += (n & 1)\n",
    "                n >>= 1\n",
    "                idx += 1\n",
    "        \n",
    "        r = 0\n",
    "        for bit in bits[::-1]:\n",
    "            r <<= 1\n",
    "            r |= (bit % 3)\n",
    "        \n",
    "        return r if r < 2**31 else r-2**32"
   ]
  },
  {
   "cell_type": "code",
   "execution_count": 2,
   "metadata": {},
   "outputs": [
    {
     "name": "stdout",
     "output_type": "stream",
     "text": [
      "3\n",
      "99\n",
      "99\n",
      "-4\n",
      "-2\n",
      "-2\n",
      "-2\n"
     ]
    }
   ],
   "source": [
    "s = Solution()\n",
    "\n",
    "print(s.singleNumber([2,2,3,2]))\n",
    "print(s.singleNumber([0,1,0,1,0,1,99]))\n",
    "print(s.singleNumber([0,-1,0,-1,0,-1,99,-2,-2,-2]))\n",
    "print(s.singleNumber([-2,-2,1,1,4,1,4,4,-4,-2]))\n",
    "print(s.singleNumber([-1,-1,-1,-2]))\n",
    "print(s.singleNumber([-2]))\n",
    "print(s.singleNumber([0,0,0,-2]))"
   ]
  },
  {
   "cell_type": "code",
   "execution_count": 3,
   "metadata": {},
   "outputs": [
    {
     "data": {
      "text/markdown": [
       "😃 Result: Accepted\n",
       "\n",
       "📥 Input: ``\n",
       "\n",
       "📤 Output: ``\n",
       "\n",
       "✅ Expected: ``\n",
       "\n",
       "💯 Passed Test Case: 14 / 14\n",
       "\n",
       "🚀 Runtime: 128 ms, Memory: 15.7 MB\n",
       "\n",
       "🉑 Runtime Percentile: better than 18.59%, Memory Percentile: better than 81.27%\n",
       "\n",
       "📆 Finished At: 2021-08-15"
      ],
      "text/plain": [
       "<IPython.core.display.Markdown object>"
      ]
     },
     "metadata": {},
     "output_type": "display_data"
    }
   ],
   "source": [
    "import sys, os; sys.path.append(os.path.abspath('..'))\n",
    "from submitter import submit\n",
    "submit(137)"
   ]
  }
 ],
 "metadata": {
  "authors": [
   {
    "name": "Soros Liu"
   }
  ],
  "kernelspec": {
   "display_name": "Python 3",
   "language": "python",
   "name": "python3"
  },
  "language_info": {
   "codemirror_mode": {
    "name": "ipython",
    "version": 3
   },
   "file_extension": ".py",
   "mimetype": "text/x-python",
   "name": "python",
   "nbconvert_exporter": "python",
   "pygments_lexer": "ipython3",
   "version": "3.8.6"
  },
  "leetcode_question_info": {
   "sampleTestCase": "[2,2,3,2]",
   "submitUrl": "/problems/single-number-ii/submit/"
  }
 },
 "nbformat": 4,
 "nbformat_minor": 2
}
