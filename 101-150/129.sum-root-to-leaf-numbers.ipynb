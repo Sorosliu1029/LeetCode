{
  "cells": [
    {
      "cell_type": "markdown",
      "metadata": {},
      "source": [
        "### 129. Sum Root to Leaf Numbers"
      ]
    },
    {
      "cell_type": "markdown",
      "metadata": {},
      "source": [
        "#### Content\n",
        "<p>You are given the <code>root</code> of a binary tree containing digits from <code>0</code> to <code>9</code> only.</p>\n",
        "\n",
        "<p>Each root-to-leaf path in the tree represents a number.</p>\n",
        "\n",
        "<ul>\n",
        "\t<li>For example, the root-to-leaf path <code>1 -&gt; 2 -&gt; 3</code> represents the number <code>123</code>.</li>\n",
        "</ul>\n",
        "\n",
        "<p>Return <em>the total sum of all root-to-leaf numbers</em>. Test cases are generated so that the answer will fit in a <strong>32-bit</strong> integer.</p>\n",
        "\n",
        "<p>A <strong>leaf</strong> node is a node with no children.</p>\n",
        "\n",
        "<p>&nbsp;</p>\n",
        "<p><strong>Example 1:</strong></p>\n",
        "<img alt=\"\" src=\"https://assets.leetcode.com/uploads/2021/02/19/num1tree.jpg\" style=\"width: 212px; height: 182px;\" />\n",
        "<pre>\n",
        "<strong>Input:</strong> root = [1,2,3]\n",
        "<strong>Output:</strong> 25\n",
        "<strong>Explanation:</strong>\n",
        "The root-to-leaf path <code>1-&gt;2</code> represents the number <code>12</code>.\n",
        "The root-to-leaf path <code>1-&gt;3</code> represents the number <code>13</code>.\n",
        "Therefore, sum = 12 + 13 = <code>25</code>.\n",
        "</pre>\n",
        "\n",
        "<p><strong>Example 2:</strong></p>\n",
        "<img alt=\"\" src=\"https://assets.leetcode.com/uploads/2021/02/19/num2tree.jpg\" style=\"width: 292px; height: 302px;\" />\n",
        "<pre>\n",
        "<strong>Input:</strong> root = [4,9,0,5,1]\n",
        "<strong>Output:</strong> 1026\n",
        "<strong>Explanation:</strong>\n",
        "The root-to-leaf path <code>4-&gt;9-&gt;5</code> represents the number 495.\n",
        "The root-to-leaf path <code>4-&gt;9-&gt;1</code> represents the number 491.\n",
        "The root-to-leaf path <code>4-&gt;0</code> represents the number 40.\n",
        "Therefore, sum = 495 + 491 + 40 = <code>1026</code>.\n",
        "</pre>\n",
        "\n",
        "<p>&nbsp;</p>\n",
        "<p><strong>Constraints:</strong></p>\n",
        "\n",
        "<ul>\n",
        "\t<li>The number of nodes in the tree is in the range <code>[1, 1000]</code>.</li>\n",
        "\t<li><code>0 &lt;= Node.val &lt;= 9</code></li>\n",
        "\t<li>The depth of the tree will not exceed <code>10</code>.</li>\n",
        "</ul>\n"
      ]
    },
    {
      "cell_type": "markdown",
      "metadata": {},
      "source": [
        "#### Difficulty: Medium, AC rate: 56.1%\n",
        "\n",
        "#### Question Tags:\n",
        "- Tree\n",
        "- Depth-First Search\n",
        "- Binary Tree\n",
        "\n",
        "#### Links:\n",
        " 🎁 [Question Detail](https://leetcode.com/problems/sum-root-to-leaf-numbers/description/) | 🎉 [Question Solution](https://leetcode.com/problems/sum-root-to-leaf-numbers/solution/) | 💬 [Question Discussion](https://leetcode.com/problems/sum-root-to-leaf-numbers/discuss/?orderBy=most_votes)\n",
        "\n",
        "#### Hints:\n"
      ]
    },
    {
      "cell_type": "markdown",
      "metadata": {},
      "source": [
        "#### Sample Test Case\n",
        "[1,2,3]"
      ]
    },
    {
      "cell_type": "markdown",
      "metadata": {},
      "source": [
        "---\n",
        "What's your idea?\n",
        "\n",
        "BFS\n",
        "\n",
        "---"
      ]
    },
    {
      "cell_type": "code",
      "execution_count": 77,
      "metadata": {
        "isSolutionCode": true
      },
      "outputs": [],
      "source": [
        "from typing import Optional\n",
        "# Definition for a binary tree node.\n",
        "class TreeNode:\n",
        "    def __init__(self, val=0, left=None, right=None):\n",
        "        self.val = val\n",
        "        self.left = left\n",
        "        self.right = right\n",
        "\n",
        "class Solution:\n",
        "    def sumNumbers(self, root: Optional[TreeNode]) -> int:\n",
        "        if root is None:\n",
        "            return 0\n",
        "        s = 0\n",
        "        cur = [root]\n",
        "        while cur:\n",
        "            nxt = []\n",
        "            for n in cur:\n",
        "                if n.left is None and n.right is None:\n",
        "                    s += n.val\n",
        "                if n.left is not None:\n",
        "                    n.left.val += (n.val * 10)\n",
        "                    nxt.append(n.left)\n",
        "                if n.right is not None:\n",
        "                    n.right.val += (n.val * 10)\n",
        "                    nxt.append(n.right)\n",
        "            cur = nxt\n",
        "        return s"
      ]
    },
    {
      "cell_type": "code",
      "execution_count": 80,
      "metadata": {},
      "outputs": [],
      "source": [
        "from helper import array_to_tree\n",
        "s = Solution()\n",
        "\n",
        "t = array_to_tree([1,2,3])\n",
        "assert s.sumNumbers(t) == 25\n",
        "\n",
        "t = array_to_tree([4,9,0,5,1])\n",
        "assert s.sumNumbers(t) == 1026\n",
        "\n",
        "t = array_to_tree([1])\n",
        "assert s.sumNumbers(t) == 1"
      ]
    },
    {
      "cell_type": "code",
      "execution_count": 81,
      "metadata": {},
      "outputs": [
        {
          "data": {
            "text/markdown": [
              "😃 Result: Accepted\n",
              "\n",
              "📥 Input: ``\n",
              "\n",
              "📤 Output: ``\n",
              "\n",
              "✅ Expected: ``\n",
              "\n",
              "💯 Passed Test Case: 108 / 108\n",
              "\n",
              "🚀 Runtime: 78 ms, Memory: 13.9 MB\n",
              "\n",
              "🉑 Runtime Percentile: better than 5.51%, Memory Percentile: better than 91.85%\n",
              "\n",
              "📆 Finished At: 2022-02-15"
            ],
            "text/plain": [
              "<IPython.core.display.Markdown object>"
            ]
          },
          "metadata": {},
          "output_type": "display_data"
        }
      ],
      "source": [
        "import sys, os; sys.path.append(os.path.abspath('..'))\n",
        "from submitter import submit\n",
        "submit(129)"
      ]
    }
  ],
  "metadata": {
    "authors": [
      {
        "name": "Soros Liu"
      }
    ],
    "kernelspec": {
      "display_name": "Python 3",
      "language": "python",
      "name": "python3"
    },
    "language_info": {
      "codemirror_mode": {
        "name": "ipython",
        "version": 3
      },
      "file_extension": ".py",
      "mimetype": "text/x-python",
      "name": "python",
      "nbconvert_exporter": "python",
      "pygments_lexer": "ipython3",
      "version": "3.8.6"
    },
    "leetcode_question_info": {
      "questionFrontendId": "129",
      "questionId": "129",
      "sampleTestCase": "[1,2,3]",
      "submitUrl": "/problems/sum-root-to-leaf-numbers/submit/"
    }
  },
  "nbformat": 4,
  "nbformat_minor": 2
}
