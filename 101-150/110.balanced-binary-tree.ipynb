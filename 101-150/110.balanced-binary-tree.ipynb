{
 "cells": [
  {
   "cell_type": "markdown",
   "metadata": {},
   "source": [
    "### 110. Balanced Binary Tree"
   ]
  },
  {
   "cell_type": "markdown",
   "metadata": {},
   "source": [
    "#### Content\n",
    "<p>Given a binary tree, determine if it is height-balanced.</p>\n",
    "\n",
    "<p>For this problem, a height-balanced binary tree is defined as:</p>\n",
    "\n",
    "<blockquote>\n",
    "<p>a binary tree in which the left and right subtrees of <em>every</em> node differ in height by no more than 1.</p>\n",
    "</blockquote>\n",
    "\n",
    "<p>&nbsp;</p>\n",
    "<p><strong>Example 1:</strong></p>\n",
    "<img alt=\"\" src=\"https://assets.leetcode.com/uploads/2020/10/06/balance_1.jpg\" style=\"width: 342px; height: 221px;\" />\n",
    "<pre>\n",
    "<strong>Input:</strong> root = [3,9,20,null,null,15,7]\n",
    "<strong>Output:</strong> true\n",
    "</pre>\n",
    "\n",
    "<p><strong>Example 2:</strong></p>\n",
    "<img alt=\"\" src=\"https://assets.leetcode.com/uploads/2020/10/06/balance_2.jpg\" style=\"width: 452px; height: 301px;\" />\n",
    "<pre>\n",
    "<strong>Input:</strong> root = [1,2,2,3,3,null,null,4,4]\n",
    "<strong>Output:</strong> false\n",
    "</pre>\n",
    "\n",
    "<p><strong>Example 3:</strong></p>\n",
    "\n",
    "<pre>\n",
    "<strong>Input:</strong> root = []\n",
    "<strong>Output:</strong> true\n",
    "</pre>\n",
    "\n",
    "<p>&nbsp;</p>\n",
    "<p><strong>Constraints:</strong></p>\n",
    "\n",
    "<ul>\n",
    "\t<li>The number of nodes in the tree is in the range <code>[0, 5000]</code>.</li>\n",
    "\t<li><code>-10<sup>4</sup> &lt;= Node.val &lt;= 10<sup>4</sup></code></li>\n",
    "</ul>\n"
   ]
  },
  {
   "cell_type": "markdown",
   "metadata": {},
   "source": [
    "#### Difficulty: Easy, AC rate: 45.4%\n",
    "\n",
    "#### Question Tags:\n",
    "- Tree\n",
    "- Depth-First Search\n",
    "- Binary Tree\n",
    "\n",
    "#### Links:\n",
    " 🎁 [Question Detail](https://leetcode.com/problems/balanced-binary-tree/description/) | 🎉 [Question Solution](https://leetcode.com/problems/balanced-binary-tree/solution/) | 💬 [Question Discussion](https://leetcode.com/problems/balanced-binary-tree/discuss/?orderBy=most_votes)\n",
    "\n",
    "#### Hints:\n"
   ]
  },
  {
   "cell_type": "markdown",
   "metadata": {},
   "source": [
    "#### Sample Test Case\n",
    "[3,9,20,null,null,15,7]"
   ]
  },
  {
   "cell_type": "markdown",
   "metadata": {},
   "source": [
    "---\n",
    "What's your idea?\n",
    "\n",
    "DFS\n",
    "\n",
    "一旦检测到左子树或者右子树已经不平衡了，则直接返回，不再检查另一棵子树\n",
    "\n",
    "否则，按照平衡树的定义，检查左右子树高度差\n",
    "\n",
    "---"
   ]
  },
  {
   "cell_type": "code",
   "execution_count": 1,
   "metadata": {
    "isSolutionCode": true
   },
   "outputs": [],
   "source": [
    "from typing import Tuple\n",
    "\n",
    "# Definition for a binary tree node.\n",
    "class TreeNode:\n",
    "    def __init__(self, val=0, left=None, right=None):\n",
    "        self.val = val\n",
    "        self.left = left\n",
    "        self.right = right\n",
    "\n",
    "class Solution:\n",
    "    def isBalanced(self, root: TreeNode) -> bool:\n",
    "        balanced, _ = self.visitSubTree(root)\n",
    "        return balanced\n",
    "    \n",
    "    def visitSubTree(self, sub_root: TreeNode) -> Tuple[bool, int]:\n",
    "        if not sub_root:\n",
    "            return [True, 0]\n",
    "        \n",
    "        is_left_balanced, left_height = self.visitSubTree(sub_root.left)\n",
    "        if not is_left_balanced:\n",
    "            return [False, left_height + 1]\n",
    "        \n",
    "        is_right_balanced, right_height = self.visitSubTree(sub_root.right)\n",
    "        if not is_right_balanced:\n",
    "            return [False, right_height + 1]\n",
    "        \n",
    "        return [abs(left_height - right_height) <= 1, max(left_height, right_height)+1]"
   ]
  },
  {
   "cell_type": "code",
   "execution_count": 2,
   "metadata": {},
   "outputs": [
    {
     "data": {
      "text/plain": [
       "True"
      ]
     },
     "execution_count": 2,
     "metadata": {},
     "output_type": "execute_result"
    }
   ],
   "source": [
    "s = Solution()\n",
    "\n",
    "n7 = TreeNode(7)\n",
    "n15 = TreeNode(15)\n",
    "n20 = TreeNode(20, n15, n7)\n",
    "n9 = TreeNode(9)\n",
    "n3 = TreeNode(3, n9, n20)\n",
    "s.isBalanced(n3)"
   ]
  },
  {
   "cell_type": "code",
   "execution_count": 3,
   "metadata": {},
   "outputs": [
    {
     "data": {
      "text/plain": [
       "True"
      ]
     },
     "execution_count": 3,
     "metadata": {},
     "output_type": "execute_result"
    }
   ],
   "source": [
    "s.isBalanced(None)"
   ]
  },
  {
   "cell_type": "code",
   "execution_count": 4,
   "metadata": {},
   "outputs": [
    {
     "data": {
      "text/plain": [
       "False"
      ]
     },
     "execution_count": 4,
     "metadata": {},
     "output_type": "execute_result"
    }
   ],
   "source": [
    "n4l = TreeNode(4)\n",
    "n4r = TreeNode(4)\n",
    "n3l = TreeNode(3, n4l, n4r)\n",
    "n3r = TreeNode(3)\n",
    "n2l = TreeNode(2, n3l, n3r)\n",
    "n2r = TreeNode(2)\n",
    "n1 = TreeNode(1, n2l, n2r)\n",
    "s.isBalanced(n1)"
   ]
  },
  {
   "cell_type": "code",
   "execution_count": 5,
   "metadata": {},
   "outputs": [
    {
     "data": {
      "text/plain": [
       "True"
      ]
     },
     "execution_count": 5,
     "metadata": {},
     "output_type": "execute_result"
    }
   ],
   "source": [
    "n4l = TreeNode(4)\n",
    "n4r = TreeNode(4)\n",
    "n3l = TreeNode(3, n4l, n4r)\n",
    "n3r = TreeNode(3)\n",
    "n3rr = TreeNode(3)\n",
    "n2l = TreeNode(2, n3l, n3r)\n",
    "n2r = TreeNode(2, n3rr)\n",
    "n1 = TreeNode(1, n2l, n2r)\n",
    "s.isBalanced(n1)"
   ]
  },
  {
   "cell_type": "code",
   "execution_count": 6,
   "metadata": {},
   "outputs": [
    {
     "data": {
      "text/markdown": [
       "😃 Result: Accepted\n",
       "\n",
       "📥 Input: ``\n",
       "\n",
       "📤 Output: ``\n",
       "\n",
       "✅ Expected: ``\n",
       "\n",
       "💯 Passed Test Case: 228 / 228\n",
       "\n",
       "🚀 Runtime: 48 ms, Memory: 18.2 MB\n",
       "\n",
       "🉑 Runtime Percentile: better than 82.57%, Memory Percentile: better than 60.68%\n",
       "\n",
       "📆 Finished At: 2021-08-02"
      ],
      "text/plain": [
       "<IPython.core.display.Markdown object>"
      ]
     },
     "metadata": {},
     "output_type": "display_data"
    }
   ],
   "source": [
    "import sys, os; sys.path.append(os.path.abspath('..'))\n",
    "from submitter import submit\n",
    "submit(110)"
   ]
  }
 ],
 "metadata": {
  "authors": [
   {
    "name": "Soros Liu"
   }
  ],
  "kernelspec": {
   "display_name": "Python 3",
   "language": "python",
   "name": "python3"
  },
  "language_info": {
   "codemirror_mode": {
    "name": "ipython",
    "version": 3
   },
   "file_extension": ".py",
   "mimetype": "text/x-python",
   "name": "python",
   "nbconvert_exporter": "python",
   "pygments_lexer": "ipython3",
   "version": "3.8.6"
  },
  "leetcode_question_info": {
   "sampleTestCase": "[3,9,20,null,null,15,7]",
   "submitUrl": "/problems/balanced-binary-tree/submit/"
  }
 },
 "nbformat": 4,
 "nbformat_minor": 2
}
