{
  "cells": [
    {
      "cell_type": "markdown",
      "metadata": {},
      "source": [
        "### 113. Path Sum II"
      ]
    },
    {
      "cell_type": "markdown",
      "metadata": {},
      "source": [
        "#### Content\n",
        "<p>Given the <code>root</code> of a binary tree and an integer <code>targetSum</code>, return <em>all <strong>root-to-leaf</strong> paths where the sum of the node values in the path equals </em><code>targetSum</code><em>. Each path should be returned as a list of the node <strong>values</strong>, not node references</em>.</p>\n",
        "\n",
        "<p>A <strong>root-to-leaf</strong> path is a path starting from the root and ending at any leaf node. A <strong>leaf</strong> is a node with no children.</p>\n",
        "\n",
        "<p>&nbsp;</p>\n",
        "<p><strong>Example 1:</strong></p>\n",
        "<img alt=\"\" src=\"https://assets.leetcode.com/uploads/2021/01/18/pathsumii1.jpg\" style=\"width: 500px; height: 356px;\" />\n",
        "<pre>\n",
        "<strong>Input:</strong> root = [5,4,8,11,null,13,4,7,2,null,null,5,1], targetSum = 22\n",
        "<strong>Output:</strong> [[5,4,11,2],[5,8,4,5]]\n",
        "<strong>Explanation:</strong> There are two paths whose sum equals targetSum:\n",
        "5 + 4 + 11 + 2 = 22\n",
        "5 + 8 + 4 + 5 = 22\n",
        "</pre>\n",
        "\n",
        "<p><strong>Example 2:</strong></p>\n",
        "<img alt=\"\" src=\"https://assets.leetcode.com/uploads/2021/01/18/pathsum2.jpg\" style=\"width: 212px; height: 181px;\" />\n",
        "<pre>\n",
        "<strong>Input:</strong> root = [1,2,3], targetSum = 5\n",
        "<strong>Output:</strong> []\n",
        "</pre>\n",
        "\n",
        "<p><strong>Example 3:</strong></p>\n",
        "\n",
        "<pre>\n",
        "<strong>Input:</strong> root = [1,2], targetSum = 0\n",
        "<strong>Output:</strong> []\n",
        "</pre>\n",
        "\n",
        "<p>&nbsp;</p>\n",
        "<p><strong>Constraints:</strong></p>\n",
        "\n",
        "<ul>\n",
        "\t<li>The number of nodes in the tree is in the range <code>[0, 5000]</code>.</li>\n",
        "\t<li><code>-1000 &lt;= Node.val &lt;= 1000</code></li>\n",
        "\t<li><code>-1000 &lt;= targetSum &lt;= 1000</code></li>\n",
        "</ul>\n"
      ]
    },
    {
      "cell_type": "markdown",
      "metadata": {},
      "source": [
        "#### Difficulty: Medium, AC rate: 53.3%\n",
        "\n",
        "#### Question Tags:\n",
        "- Backtracking\n",
        "- Tree\n",
        "- Depth-First Search\n",
        "- Binary Tree\n",
        "\n",
        "#### Links:\n",
        " 🎁 [Question Detail](https://leetcode.com/problems/path-sum-ii/description/) | 🎉 [Question Solution](https://leetcode.com/problems/path-sum-ii/solution/) | 💬 [Question Discussion](https://leetcode.com/problems/path-sum-ii/discuss/?orderBy=most_votes)\n",
        "\n",
        "#### Hints:\n"
      ]
    },
    {
      "cell_type": "markdown",
      "metadata": {},
      "source": [
        "#### Sample Test Case\n",
        "[5,4,8,11,null,13,4,7,2,null,null,5,1]\n",
        "22"
      ]
    },
    {
      "cell_type": "markdown",
      "metadata": {},
      "source": [
        "---\n",
        "What's your idea?\n",
        "\n",
        "递归构造左右子树的 path，然后和根节点结合成新的 path\n",
        "\n",
        "---"
      ]
    },
    {
      "cell_type": "code",
      "execution_count": 109,
      "metadata": {
        "isSolutionCode": true
      },
      "outputs": [],
      "source": [
        "from typing import Optional, List\n",
        "# Definition for a binary tree node.\n",
        "class TreeNode:\n",
        "    def __init__(self, val=0, left=None, right=None):\n",
        "        self.val = val\n",
        "        self.left = left\n",
        "        self.right = right\n",
        "\n",
        "class Solution:\n",
        "    def pathSum(self, root: Optional[TreeNode], targetSum: int) -> List[List[int]]:\n",
        "        if root is None:\n",
        "            return []\n",
        "        if root.left is None and root.right is None:\n",
        "            return [[root.val]] if targetSum == root.val else []\n",
        "        r = []\n",
        "        left_paths = self.pathSum(root.left, targetSum - root.val)\n",
        "        if left_paths:\n",
        "            r += [[root.val] + path for path in left_paths]\n",
        "        right_paths = self.pathSum(root.right, targetSum - root.val)\n",
        "        if right_paths:\n",
        "            r += [[root.val] + path for path in right_paths]\n",
        "        return r"
      ]
    },
    {
      "cell_type": "code",
      "execution_count": 110,
      "metadata": {},
      "outputs": [],
      "source": [
        "s = Solution()\n",
        "\n",
        "t = TreeNode(1,\n",
        "  TreeNode(2),\n",
        "  TreeNode(3),\n",
        ")\n",
        "assert s.pathSum(t, 5) == []\n",
        "\n",
        "t = TreeNode(5,\n",
        "  TreeNode(4,\n",
        "    TreeNode(11,\n",
        "      TreeNode(7),\n",
        "      TreeNode(2),\n",
        "    )\n",
        "  ),\n",
        "  TreeNode(8,\n",
        "    TreeNode(13),\n",
        "    TreeNode(4,\n",
        "      TreeNode(5),\n",
        "      TreeNode(1)\n",
        "    ),\n",
        "  ),\n",
        ")\n",
        "assert s.pathSum(t, 22) == [[5,4,11,2],[5,8,4,5]]\n",
        "\n",
        "t = TreeNode(1,\n",
        "  TreeNode(2)\n",
        ")\n",
        "assert s.pathSum(t, 0) == []"
      ]
    },
    {
      "cell_type": "code",
      "execution_count": 111,
      "metadata": {},
      "outputs": [
        {
          "data": {
            "text/markdown": [
              "😃 Result: Accepted\n",
              "\n",
              "📥 Input: ``\n",
              "\n",
              "📤 Output: ``\n",
              "\n",
              "✅ Expected: ``\n",
              "\n",
              "💯 Passed Test Case: 115 / 115\n",
              "\n",
              "🚀 Runtime: 57 ms, Memory: 15.7 MB\n",
              "\n",
              "🉑 Runtime Percentile: better than 57.13%, Memory Percentile: better than 49.44%\n",
              "\n",
              "📆 Finished At: 2022-02-15"
            ],
            "text/plain": [
              "<IPython.core.display.Markdown object>"
            ]
          },
          "metadata": {},
          "output_type": "display_data"
        }
      ],
      "source": [
        "import sys, os; sys.path.append(os.path.abspath('..'))\n",
        "from submitter import submit\n",
        "submit(113)"
      ]
    }
  ],
  "metadata": {
    "authors": [
      {
        "name": "Soros Liu"
      }
    ],
    "kernelspec": {
      "display_name": "Python 3",
      "language": "python",
      "name": "python3"
    },
    "language_info": {
      "codemirror_mode": {
        "name": "ipython",
        "version": 3
      },
      "file_extension": ".py",
      "mimetype": "text/x-python",
      "name": "python",
      "nbconvert_exporter": "python",
      "pygments_lexer": "ipython3",
      "version": "3.8.6"
    },
    "leetcode_question_info": {
      "questionFrontendId": "113",
      "questionId": "113",
      "sampleTestCase": "[5,4,8,11,null,13,4,7,2,null,null,5,1]\n22",
      "submitUrl": "/problems/path-sum-ii/submit/"
    }
  },
  "nbformat": 4,
  "nbformat_minor": 2
}
