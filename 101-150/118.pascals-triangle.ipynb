{
  "cells": [
    {
      "cell_type": "markdown",
      "metadata": {},
      "source": [
        "### 118. Pascal's Triangle"
      ]
    },
    {
      "cell_type": "markdown",
      "metadata": {},
      "source": [
        "#### Content\n",
        "<p>Given an integer <code>numRows</code>, return the first numRows of <strong>Pascal&#39;s triangle</strong>.</p>\n",
        "\n",
        "<p>In <strong>Pascal&#39;s triangle</strong>, each number is the sum of the two numbers directly above it as shown:</p>\n",
        "<img alt=\"\" src=\"https://upload.wikimedia.org/wikipedia/commons/0/0d/PascalTriangleAnimated2.gif\" style=\"height:240px; width:260px\" />\n",
        "<p>&nbsp;</p>\n",
        "<p><strong>Example 1:</strong></p>\n",
        "<pre><strong>Input:</strong> numRows = 5\n",
        "<strong>Output:</strong> [[1],[1,1],[1,2,1],[1,3,3,1],[1,4,6,4,1]]\n",
        "</pre><p><strong>Example 2:</strong></p>\n",
        "<pre><strong>Input:</strong> numRows = 1\n",
        "<strong>Output:</strong> [[1]]\n",
        "</pre>\n",
        "<p>&nbsp;</p>\n",
        "<p><strong>Constraints:</strong></p>\n",
        "\n",
        "<ul>\n",
        "\t<li><code>1 &lt;= numRows &lt;= 30</code></li>\n",
        "</ul>\n"
      ]
    },
    {
      "cell_type": "markdown",
      "metadata": {},
      "source": [
        "#### Difficulty: Easy, AC rate: 63.1%\n",
        "\n",
        "#### Question Tags:\n",
        "- Array\n",
        "- Dynamic Programming\n",
        "\n",
        "#### Links:\n",
        " 🎁 [Question Detail](https://leetcode.com/problems/pascals-triangle/description/) | 🎉 [Question Solution](https://leetcode.com/problems/pascals-triangle/solution/) | 💬 [Question Discussion](https://leetcode.com/problems/pascals-triangle/discuss/?orderBy=most_votes)\n",
        "\n",
        "#### Hints:\n"
      ]
    },
    {
      "cell_type": "markdown",
      "metadata": {},
      "source": [
        "#### Sample Test Case\n",
        "5"
      ]
    },
    {
      "cell_type": "markdown",
      "metadata": {},
      "source": [
        "---\n",
        "What's your idea?\n",
        "\n",
        "动态规划 + 记忆\n",
        "\n",
        "---"
      ]
    },
    {
      "cell_type": "code",
      "execution_count": 139,
      "metadata": {
        "isSolutionCode": true
      },
      "outputs": [],
      "source": [
        "from typing import List\n",
        "class Solution:\n",
        "    memory = {1: [[1]], 2: [[1], [1,1]]}\n",
        "    def generate(self, numRows: int) -> List[List[int]]:\n",
        "        def recur(n):\n",
        "            if n in self.memory:\n",
        "                return self.memory[n]\n",
        "            smaller = recur(n-1)\n",
        "            parents = smaller[-1]\n",
        "            r = [1]\n",
        "            for idx in range(len(parents)-1):\n",
        "                r.append(parents[idx] + parents[idx+1])\n",
        "            r.append(1)\n",
        "            self.memory[n] = smaller + [r]\n",
        "            return self.memory[n]\n",
        "        return recur(numRows)"
      ]
    },
    {
      "cell_type": "code",
      "execution_count": 140,
      "metadata": {},
      "outputs": [],
      "source": [
        "s = Solution()\n",
        "assert s.generate(1) == [[1]]\n",
        "assert s.generate(5) == [[1],[1,1],[1,2,1],[1,3,3,1],[1,4,6,4,1]] "
      ]
    },
    {
      "cell_type": "code",
      "execution_count": 141,
      "metadata": {},
      "outputs": [
        {
          "data": {
            "text/markdown": [
              "😃 Result: Accepted\n",
              "\n",
              "📥 Input: ``\n",
              "\n",
              "📤 Output: ``\n",
              "\n",
              "✅ Expected: ``\n",
              "\n",
              "💯 Passed Test Case: 14 / 14\n",
              "\n",
              "🚀 Runtime: 45 ms, Memory: 14 MB\n",
              "\n",
              "🉑 Runtime Percentile: better than 46.07%, Memory Percentile: better than 64.67%\n",
              "\n",
              "📆 Finished At: 2022-02-25"
            ],
            "text/plain": [
              "<IPython.core.display.Markdown object>"
            ]
          },
          "metadata": {},
          "output_type": "display_data"
        }
      ],
      "source": [
        "import sys, os; sys.path.append(os.path.abspath('..'))\n",
        "from submitter import submit\n",
        "submit(118)"
      ]
    }
  ],
  "metadata": {
    "authors": [
      {
        "name": "Soros Liu"
      }
    ],
    "kernelspec": {
      "display_name": "Python 3",
      "language": "python",
      "name": "python3"
    },
    "language_info": {
      "codemirror_mode": {
        "name": "ipython",
        "version": 3
      },
      "file_extension": ".py",
      "mimetype": "text/x-python",
      "name": "python",
      "nbconvert_exporter": "python",
      "pygments_lexer": "ipython3",
      "version": "3.8.6"
    },
    "leetcode_question_info": {
      "questionFrontendId": "118",
      "questionId": "118",
      "sampleTestCase": "5",
      "submitUrl": "/problems/pascals-triangle/submit/"
    }
  },
  "nbformat": 4,
  "nbformat_minor": 2
}
