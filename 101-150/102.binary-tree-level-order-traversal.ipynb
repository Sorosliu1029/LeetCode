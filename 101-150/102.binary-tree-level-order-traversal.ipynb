{
  "cells": [
    {
      "cell_type": "markdown",
      "metadata": {},
      "source": [
        "### 102. Binary Tree Level Order Traversal"
      ]
    },
    {
      "cell_type": "markdown",
      "metadata": {},
      "source": [
        "#### Content\n",
        "<p>Given the <code>root</code> of a binary tree, return <em>the level order traversal of its nodes&#39; values</em>. (i.e., from left to right, level by level).</p>\n",
        "\n",
        "<p>&nbsp;</p>\n",
        "<p><strong>Example 1:</strong></p>\n",
        "<img alt=\"\" src=\"https://assets.leetcode.com/uploads/2021/02/19/tree1.jpg\" style=\"width: 277px; height: 302px;\" />\n",
        "<pre>\n",
        "<strong>Input:</strong> root = [3,9,20,null,null,15,7]\n",
        "<strong>Output:</strong> [[3],[9,20],[15,7]]\n",
        "</pre>\n",
        "\n",
        "<p><strong>Example 2:</strong></p>\n",
        "\n",
        "<pre>\n",
        "<strong>Input:</strong> root = [1]\n",
        "<strong>Output:</strong> [[1]]\n",
        "</pre>\n",
        "\n",
        "<p><strong>Example 3:</strong></p>\n",
        "\n",
        "<pre>\n",
        "<strong>Input:</strong> root = []\n",
        "<strong>Output:</strong> []\n",
        "</pre>\n",
        "\n",
        "<p>&nbsp;</p>\n",
        "<p><strong>Constraints:</strong></p>\n",
        "\n",
        "<ul>\n",
        "\t<li>The number of nodes in the tree is in the range <code>[0, 2000]</code>.</li>\n",
        "\t<li><code>-1000 &lt;= Node.val &lt;= 1000</code></li>\n",
        "</ul>\n"
      ]
    },
    {
      "cell_type": "markdown",
      "metadata": {},
      "source": [
        "#### Difficulty: Medium, AC rate: 60.2%\n",
        "\n",
        "#### Question Tags:\n",
        "- Tree\n",
        "- Breadth-First Search\n",
        "- Binary Tree\n",
        "\n",
        "#### Links:\n",
        " 🎁 [Question Detail](https://leetcode.com/problems/binary-tree-level-order-traversal/description/) | 🎉 [Question Solution](https://leetcode.com/problems/binary-tree-level-order-traversal/solution/) | 💬 [Question Discussion](https://leetcode.com/problems/binary-tree-level-order-traversal/discuss/?orderBy=most_votes)\n",
        "\n",
        "#### Hints:\n"
      ]
    },
    {
      "cell_type": "markdown",
      "metadata": {},
      "source": [
        "#### Sample Test Case\n",
        "[3,9,20,null,null,15,7]"
      ]
    },
    {
      "cell_type": "markdown",
      "metadata": {},
      "source": [
        "---\n",
        "What's your idea?\n",
        "\n",
        "BFS\n",
        "\n",
        "---"
      ]
    },
    {
      "cell_type": "code",
      "execution_count": 10,
      "metadata": {
        "isSolutionCode": true
      },
      "outputs": [],
      "source": [
        "# Definition for a binary tree node.\n",
        "class TreeNode:\n",
        "    def __init__(self, val=0, left=None, right=None):\n",
        "        self.val = val\n",
        "        self.left = left\n",
        "        self.right = right\n",
        "\n",
        "class Solution:\n",
        "    def levelOrder(self, root: Optional[TreeNode]) -> List[List[int]]:\n",
        "        if root is None:\n",
        "            return []\n",
        "\n",
        "        levels = []\n",
        "        cur = [root]\n",
        "        while cur:\n",
        "            levels.append([n.val for n in cur])\n",
        "            nxt = []\n",
        "            for n in cur:\n",
        "                if n.left is not None:\n",
        "                    nxt.append(n.left)\n",
        "                if n.right is not None:\n",
        "                    nxt.append(n.right)\n",
        "            cur = nxt\n",
        "\n",
        "        return levels"
      ]
    },
    {
      "cell_type": "code",
      "execution_count": 12,
      "metadata": {},
      "outputs": [
        {
          "name": "stdout",
          "output_type": "stream",
          "text": [
            "[[3], [9, 20], [15, 7]]\n",
            "[[1]]\n",
            "[]\n"
          ]
        }
      ],
      "source": [
        "from helper import array_to_tree\n",
        "s = Solution()\n",
        "\n",
        "t = array_to_tree([3,9,20,None,None,15,7])\n",
        "print(s.levelOrder(t))\n",
        "\n",
        "t = TreeNode(1)\n",
        "print(s.levelOrder(t))\n",
        "\n",
        "t = None\n",
        "print(s.levelOrder(t))"
      ]
    },
    {
      "cell_type": "code",
      "execution_count": 13,
      "metadata": {},
      "outputs": [
        {
          "data": {
            "text/markdown": [
              "😃 Result: Accepted\n",
              "\n",
              "📥 Input: ``\n",
              "\n",
              "📤 Output: ``\n",
              "\n",
              "✅ Expected: ``\n",
              "\n",
              "💯 Passed Test Case: 34 / 34\n",
              "\n",
              "🚀 Runtime: 43 ms, Memory: 14.2 MB\n",
              "\n",
              "🉑 Runtime Percentile: better than 56.82%, Memory Percentile: better than 96.52%\n",
              "\n",
              "📆 Finished At: 2022-02-13"
            ],
            "text/plain": [
              "<IPython.core.display.Markdown object>"
            ]
          },
          "metadata": {},
          "output_type": "display_data"
        }
      ],
      "source": [
        "import sys, os; sys.path.append(os.path.abspath('..'))\n",
        "from submitter import submit\n",
        "submit(102)"
      ]
    }
  ],
  "metadata": {
    "authors": [
      {
        "name": "Soros Liu"
      }
    ],
    "kernelspec": {
      "display_name": "Python 3",
      "language": "python",
      "name": "python3"
    },
    "language_info": {
      "codemirror_mode": {
        "name": "ipython",
        "version": 3
      },
      "file_extension": ".py",
      "mimetype": "text/x-python",
      "name": "python",
      "nbconvert_exporter": "python",
      "pygments_lexer": "ipython3",
      "version": "3.8.6"
    },
    "leetcode_question_info": {
      "questionFrontendId": "102",
      "questionId": "102",
      "sampleTestCase": "[3,9,20,null,null,15,7]",
      "submitUrl": "/problems/binary-tree-level-order-traversal/submit/"
    }
  },
  "nbformat": 4,
  "nbformat_minor": 2
}
