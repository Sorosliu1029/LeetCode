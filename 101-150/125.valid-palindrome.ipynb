{
 "cells": [
  {
   "cell_type": "markdown",
   "metadata": {},
   "source": [
    "### 125. Valid Palindrome"
   ]
  },
  {
   "cell_type": "markdown",
   "metadata": {},
   "source": [
    "#### Content\n",
    "<p>Given a string <code>s</code>, determine if it is a palindrome, considering only alphanumeric characters and ignoring cases.</p>\n",
    "\n",
    "<p>&nbsp;</p>\n",
    "<p><strong>Example 1:</strong></p>\n",
    "\n",
    "<pre>\n",
    "<strong>Input:</strong> s = &quot;A man, a plan, a canal: Panama&quot;\n",
    "<strong>Output:</strong> true\n",
    "<strong>Explanation:</strong> &quot;amanaplanacanalpanama&quot; is a palindrome.\n",
    "</pre>\n",
    "\n",
    "<p><strong>Example 2:</strong></p>\n",
    "\n",
    "<pre>\n",
    "<strong>Input:</strong> s = &quot;race a car&quot;\n",
    "<strong>Output:</strong> false\n",
    "<strong>Explanation:</strong> &quot;raceacar&quot; is not a palindrome.\n",
    "</pre>\n",
    "\n",
    "<p>&nbsp;</p>\n",
    "<p><strong>Constraints:</strong></p>\n",
    "\n",
    "<ul>\n",
    "\t<li><code>1 &lt;= s.length &lt;= 2 * 10<sup>5</sup></code></li>\n",
    "\t<li><code>s</code> consists only of printable ASCII characters.</li>\n",
    "</ul>\n"
   ]
  },
  {
   "cell_type": "markdown",
   "metadata": {},
   "source": [
    "#### Difficulty: Easy, AC rate: 39.3%\n",
    "\n",
    "#### Question Tags:\n",
    "- Two Pointers\n",
    "- String\n",
    "\n",
    "#### Links:\n",
    " 🎁 [Question Detail](https://leetcode.com/problems/valid-palindrome/description/) | 🎉 [Question Solution](https://leetcode.com/problems/valid-palindrome/solution/) | 💬 [Question Discussion](https://leetcode.com/problems/valid-palindrome/discuss/?orderBy=most_votes)\n",
    "\n",
    "#### Hints:\n"
   ]
  },
  {
   "cell_type": "markdown",
   "metadata": {},
   "source": [
    "#### Sample Test Case\n",
    "\"A man, a plan, a canal: Panama\""
   ]
  },
  {
   "cell_type": "markdown",
   "metadata": {},
   "source": [
    "---\n",
    "What's your idea?\n",
    "\n",
    "双指针，左右递进检查\n",
    "\n",
    "---"
   ]
  },
  {
   "cell_type": "code",
   "execution_count": 1,
   "metadata": {
    "isSolutionCode": true
   },
   "outputs": [],
   "source": [
    "from typing import Tuple\n",
    "\n",
    "class Solution:\n",
    "    def isPalindrome(self, s: str) -> bool:\n",
    "        left = 0\n",
    "        right = len(s) - 1\n",
    "        while left < right:\n",
    "            is_left_valid, left_char = self.isValidChar(s[left])\n",
    "            if not is_left_valid:\n",
    "                left += 1\n",
    "                continue\n",
    "            \n",
    "            is_right_valid, right_char = self.isValidChar(s[right])\n",
    "            if not is_right_valid:\n",
    "                right -= 1\n",
    "                continue\n",
    "            \n",
    "            if left_char != right_char:\n",
    "                return False\n",
    "            left += 1\n",
    "            right -= 1\n",
    "            \n",
    "        return True\n",
    "            \n",
    "    def isValidChar(self, c: str) -> Tuple[bool, str]:\n",
    "        if (c >= '0' and c <= '9') or (c >= 'a' and c <= 'z'):\n",
    "            return [True, c]\n",
    "        if c >= 'A' and c <= 'Z':\n",
    "            return [True, c.lower()]\n",
    "        return [False, c]"
   ]
  },
  {
   "cell_type": "code",
   "execution_count": 2,
   "metadata": {},
   "outputs": [
    {
     "name": "stdout",
     "output_type": "stream",
     "text": [
      "True\n",
      "False\n",
      "True\n"
     ]
    }
   ],
   "source": [
    "s = Solution()\n",
    "\n",
    "print(s.isPalindrome(\"A man, a plan, a canal: Panama\"))\n",
    "print(s.isPalindrome(\"race a car\"))\n",
    "print(s.isPalindrome('a'))"
   ]
  },
  {
   "cell_type": "code",
   "execution_count": 3,
   "metadata": {},
   "outputs": [
    {
     "data": {
      "text/markdown": [
       "😃 Result: Accepted\n",
       "\n",
       "📥 Input: ``\n",
       "\n",
       "📤 Output: ``\n",
       "\n",
       "✅ Expected: ``\n",
       "\n",
       "💯 Passed Test Case: 480 / 480\n",
       "\n",
       "🚀 Runtime: 72 ms, Memory: 14.5 MB\n",
       "\n",
       "🉑 Runtime Percentile: better than 16.78%, Memory Percentile: better than 93.80%\n",
       "\n",
       "📆 Finished At: 2021-07-31"
      ],
      "text/plain": [
       "<IPython.core.display.Markdown object>"
      ]
     },
     "metadata": {},
     "output_type": "display_data"
    }
   ],
   "source": [
    "import sys, os; sys.path.append(os.path.abspath('..'))\n",
    "from submitter import submit\n",
    "submit(125)"
   ]
  }
 ],
 "metadata": {
  "authors": [
   {
    "name": "Soros Liu"
   }
  ],
  "kernelspec": {
   "display_name": "Python 3",
   "language": "python",
   "name": "python3"
  },
  "language_info": {
   "codemirror_mode": {
    "name": "ipython",
    "version": 3
   },
   "file_extension": ".py",
   "mimetype": "text/x-python",
   "name": "python",
   "nbconvert_exporter": "python",
   "pygments_lexer": "ipython3",
   "version": "3.8.6"
  },
  "leetcode_question_info": {
   "sampleTestCase": "\"A man, a plan, a canal: Panama\"",
   "submitUrl": "/problems/valid-palindrome/submit/"
  }
 },
 "nbformat": 4,
 "nbformat_minor": 2
}
