{
 "cells": [
  {
   "cell_type": "markdown",
   "metadata": {},
   "source": [
    "### 150. Evaluate Reverse Polish Notation"
   ]
  },
  {
   "cell_type": "markdown",
   "metadata": {},
   "source": [
    "#### Content\n",
    "<p>Evaluate the value of an arithmetic expression in <a href=\"http://en.wikipedia.org/wiki/Reverse_Polish_notation\" target=\"_blank\">Reverse Polish Notation</a>.</p>\n",
    "\n",
    "<p>Valid operators are <code>+</code>, <code>-</code>, <code>*</code>, and <code>/</code>. Each operand may be an integer or another expression.</p>\n",
    "\n",
    "<p><strong>Note</strong> that division between two integers should truncate toward zero.</p>\n",
    "\n",
    "<p>It is guaranteed that the given RPN expression is always valid. That means the expression would always evaluate to a result, and there will not be any division by zero operation.</p>\n",
    "\n",
    "<p>&nbsp;</p>\n",
    "<p><strong>Example 1:</strong></p>\n",
    "\n",
    "<pre>\n",
    "<strong>Input:</strong> tokens = [&quot;2&quot;,&quot;1&quot;,&quot;+&quot;,&quot;3&quot;,&quot;*&quot;]\n",
    "<strong>Output:</strong> 9\n",
    "<strong>Explanation:</strong> ((2 + 1) * 3) = 9\n",
    "</pre>\n",
    "\n",
    "<p><strong>Example 2:</strong></p>\n",
    "\n",
    "<pre>\n",
    "<strong>Input:</strong> tokens = [&quot;4&quot;,&quot;13&quot;,&quot;5&quot;,&quot;/&quot;,&quot;+&quot;]\n",
    "<strong>Output:</strong> 6\n",
    "<strong>Explanation:</strong> (4 + (13 / 5)) = 6\n",
    "</pre>\n",
    "\n",
    "<p><strong>Example 3:</strong></p>\n",
    "\n",
    "<pre>\n",
    "<strong>Input:</strong> tokens = [&quot;10&quot;,&quot;6&quot;,&quot;9&quot;,&quot;3&quot;,&quot;+&quot;,&quot;-11&quot;,&quot;*&quot;,&quot;/&quot;,&quot;*&quot;,&quot;17&quot;,&quot;+&quot;,&quot;5&quot;,&quot;+&quot;]\n",
    "<strong>Output:</strong> 22\n",
    "<strong>Explanation:</strong> ((10 * (6 / ((9 + 3) * -11))) + 17) + 5\n",
    "= ((10 * (6 / (12 * -11))) + 17) + 5\n",
    "= ((10 * (6 / -132)) + 17) + 5\n",
    "= ((10 * 0) + 17) + 5\n",
    "= (0 + 17) + 5\n",
    "= 17 + 5\n",
    "= 22\n",
    "</pre>\n",
    "\n",
    "<p>&nbsp;</p>\n",
    "<p><strong>Constraints:</strong></p>\n",
    "\n",
    "<ul>\n",
    "\t<li><code>1 &lt;= tokens.length &lt;= 10<sup>4</sup></code></li>\n",
    "\t<li><code>tokens[i]</code> is either an operator: <code>&quot;+&quot;</code>, <code>&quot;-&quot;</code>, <code>&quot;*&quot;</code>, or <code>&quot;/&quot;</code>, or an integer in the range <code>[-200, 200]</code>.</li>\n",
    "</ul>\n"
   ]
  },
  {
   "cell_type": "markdown",
   "metadata": {},
   "source": [
    "#### Difficulty: Medium, AC rate: 40.0%\n",
    "\n",
    "#### Question Tags:\n",
    "- Array\n",
    "- Math\n",
    "- Stack\n",
    "\n",
    "#### Links:\n",
    " 🎁 [Question Detail](https://leetcode.com/problems/evaluate-reverse-polish-notation/description/) | 🎉 [Question Solution](https://leetcode.com/problems/evaluate-reverse-polish-notation/solution/) | 💬 [Question Discussion](https://leetcode.com/problems/evaluate-reverse-polish-notation/discuss/?orderBy=most_votes)\n",
    "\n",
    "#### Hints:\n"
   ]
  },
  {
   "cell_type": "markdown",
   "metadata": {},
   "source": [
    "#### Sample Test Case\n",
    "[\"2\",\"1\",\"+\",\"3\",\"*\"]"
   ]
  },
  {
   "cell_type": "markdown",
   "metadata": {},
   "source": [
    "---\n",
    "What's your idea?\n",
    "\n",
    "算法书对栈的经典案例\n",
    "\n",
    "---"
   ]
  },
  {
   "cell_type": "code",
   "execution_count": 1,
   "metadata": {
    "isSolutionCode": true
   },
   "outputs": [],
   "source": [
    "from typing import List\n",
    "\n",
    "class Solution:\n",
    "    def evalRPN(self, tokens: List[str]) -> int:\n",
    "        stack = []\n",
    "        for t in tokens:\n",
    "            if t == '+':\n",
    "                rhs = stack.pop()\n",
    "                lhs = stack.pop()\n",
    "                stack.append(lhs + rhs)\n",
    "            elif t == '-':\n",
    "                rhs = stack.pop()\n",
    "                lhs = stack.pop()\n",
    "                stack.append(lhs - rhs)\n",
    "            elif t == '*':\n",
    "                rhs = stack.pop()\n",
    "                lhs = stack.pop()\n",
    "                stack.append(lhs * rhs)\n",
    "            elif t == '/':\n",
    "                rhs = stack.pop()\n",
    "                lhs = stack.pop()\n",
    "                stack.append(int(lhs / rhs))\n",
    "            else:\n",
    "                stack.append(int(t))\n",
    "        \n",
    "        return stack[0]"
   ]
  },
  {
   "cell_type": "code",
   "execution_count": 2,
   "metadata": {},
   "outputs": [
    {
     "name": "stdout",
     "output_type": "stream",
     "text": [
      "9\n",
      "6\n",
      "22\n"
     ]
    }
   ],
   "source": [
    "s = Solution()\n",
    "print(s.evalRPN([\"2\",\"1\",\"+\",\"3\",\"*\"]))\n",
    "print(s.evalRPN([\"4\",\"13\",\"5\",\"/\",\"+\"]))\n",
    "print(s.evalRPN([\"10\",\"6\",\"9\",\"3\",\"+\",\"-11\",\"*\",\"/\",\"*\",\"17\",\"+\",\"5\",\"+\"]))"
   ]
  },
  {
   "cell_type": "code",
   "execution_count": 3,
   "metadata": {},
   "outputs": [
    {
     "data": {
      "text/markdown": [
       "😃 Result: Accepted\n",
       "\n",
       "📥 Input: ``\n",
       "\n",
       "📤 Output: ``\n",
       "\n",
       "✅ Expected: ``\n",
       "\n",
       "💯 Passed Test Case: 20 / 20\n",
       "\n",
       "🚀 Runtime: 100 ms, Memory: 14.8 MB\n",
       "\n",
       "🉑 Runtime Percentile: better than 18.28%, Memory Percentile: better than 22.76%\n",
       "\n",
       "📆 Finished At: 2021-07-31"
      ],
      "text/plain": [
       "<IPython.core.display.Markdown object>"
      ]
     },
     "metadata": {},
     "output_type": "display_data"
    }
   ],
   "source": [
    "import sys, os; sys.path.append(os.path.abspath('..'))\n",
    "from submitter import submit\n",
    "submit(150)"
   ]
  }
 ],
 "metadata": {
  "authors": [
   {
    "name": "Soros Liu"
   }
  ],
  "kernelspec": {
   "display_name": "Python 3",
   "language": "python",
   "name": "python3"
  },
  "language_info": {
   "codemirror_mode": {
    "name": "ipython",
    "version": 3
   },
   "file_extension": ".py",
   "mimetype": "text/x-python",
   "name": "python",
   "nbconvert_exporter": "python",
   "pygments_lexer": "ipython3",
   "version": "3.8.6"
  },
  "leetcode_question_info": {
   "sampleTestCase": "[\"2\",\"1\",\"+\",\"3\",\"*\"]",
   "submitUrl": "/problems/evaluate-reverse-polish-notation/submit/"
  }
 },
 "nbformat": 4,
 "nbformat_minor": 2
}
