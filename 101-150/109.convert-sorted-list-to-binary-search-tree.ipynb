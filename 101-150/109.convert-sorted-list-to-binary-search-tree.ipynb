{
 "cells": [
  {
   "cell_type": "markdown",
   "metadata": {},
   "source": [
    "### 109. Convert Sorted List to Binary Search Tree"
   ]
  },
  {
   "cell_type": "markdown",
   "metadata": {},
   "source": [
    "#### Content\n",
    "<p>Given the <code>head</code> of a singly linked list where elements are <strong>sorted in ascending order</strong>, convert it to a height balanced BST.</p>\n",
    "\n",
    "<p>For this problem, a height-balanced binary tree is defined as a binary tree in which the depth of the two subtrees of <em>every</em> node never differ by more than 1.</p>\n",
    "\n",
    "<p>&nbsp;</p>\n",
    "<p><strong>Example 1:</strong></p>\n",
    "<img alt=\"\" src=\"https://assets.leetcode.com/uploads/2020/08/17/linked.jpg\" style=\"width: 600px; height: 466px;\" />\n",
    "<pre>\n",
    "<strong>Input:</strong> head = [-10,-3,0,5,9]\n",
    "<strong>Output:</strong> [0,-3,9,-10,null,5]\n",
    "<strong>Explanation:</strong> One possible answer is [0,-3,9,-10,null,5], which represents the shown height balanced BST.\n",
    "</pre>\n",
    "\n",
    "<p><strong>Example 2:</strong></p>\n",
    "\n",
    "<pre>\n",
    "<strong>Input:</strong> head = []\n",
    "<strong>Output:</strong> []\n",
    "</pre>\n",
    "\n",
    "<p><strong>Example 3:</strong></p>\n",
    "\n",
    "<pre>\n",
    "<strong>Input:</strong> head = [0]\n",
    "<strong>Output:</strong> [0]\n",
    "</pre>\n",
    "\n",
    "<p><strong>Example 4:</strong></p>\n",
    "\n",
    "<pre>\n",
    "<strong>Input:</strong> head = [1,3]\n",
    "<strong>Output:</strong> [3,1]\n",
    "</pre>\n",
    "\n",
    "<p>&nbsp;</p>\n",
    "<p><strong>Constraints:</strong></p>\n",
    "\n",
    "<ul>\n",
    "\t<li>The number of nodes in <code>head</code> is in the range <code>[0, 2 * 10<sup>4</sup>]</code>.</li>\n",
    "\t<li><code>-10<sup>5</sup> &lt;= Node.val &lt;= 10<sup>5</sup></code></li>\n",
    "</ul>\n"
   ]
  },
  {
   "cell_type": "markdown",
   "metadata": {},
   "source": [
    "#### Difficulty: Medium, AC rate: 53.0%\n",
    "\n",
    "#### Question Tags:\n",
    "- Linked List\n",
    "- Divide and Conquer\n",
    "- Tree\n",
    "- Binary Search Tree\n",
    "- Binary Tree\n",
    "\n",
    "#### Links:\n",
    " 🎁 [Question Detail](https://leetcode.com/problems/convert-sorted-list-to-binary-search-tree/description/) | 🎉 [Question Solution](https://leetcode.com/problems/convert-sorted-list-to-binary-search-tree/solution/) | 💬 [Question Discussion](https://leetcode.com/problems/convert-sorted-list-to-binary-search-tree/discuss/?orderBy=most_votes)\n",
    "\n",
    "#### Hints:\n"
   ]
  },
  {
   "cell_type": "markdown",
   "metadata": {},
   "source": [
    "#### Sample Test Case\n",
    "[-10,-3,0,5,9]"
   ]
  },
  {
   "cell_type": "markdown",
   "metadata": {},
   "source": [
    "---\n",
    "What's your idea?\n",
    "\n",
    "类似 #108 题的思路，分治\n",
    "\n",
    "先遍历一边整个 list，拿到长度，然后将长度划分为左中右，递归地对左右半区分别构建平衡二叉树\n",
    "\n",
    "---"
   ]
  },
  {
   "cell_type": "code",
   "execution_count": 1,
   "metadata": {
    "isSolutionCode": true
   },
   "outputs": [],
   "source": [
    "# Definition for singly-linked list.\n",
    "class ListNode:\n",
    "    def __init__(self, val=0, next=None):\n",
    "        self.val = val\n",
    "        self.next = next\n",
    "# Definition for a binary tree node.\n",
    "class TreeNode:\n",
    "    def __init__(self, val=0, left=None, right=None):\n",
    "        self.val = val\n",
    "        self.left = left\n",
    "        self.right = right\n",
    "\n",
    "class Solution:\n",
    "    def sortedListToBST(self, head: ListNode) -> TreeNode:\n",
    "        list_length = 0\n",
    "        p = head\n",
    "        while p:\n",
    "            list_length += 1\n",
    "            p = p.next\n",
    "        \n",
    "        return self.construct(head, list_length)\n",
    "        \n",
    "    def construct(self, head: ListNode, size: int) -> TreeNode:\n",
    "        if not size or not head:\n",
    "            return None\n",
    "        if size == 1:\n",
    "            return TreeNode(head.val)\n",
    "        \n",
    "        left_size = size // 2\n",
    "        left_tree = self.construct(head, left_size)\n",
    "        \n",
    "        middle_list_node = self.advance(head, left_size)\n",
    "        \n",
    "        right_size = size - left_size - 1\n",
    "        right_tree = self.construct(middle_list_node.next, right_size)\n",
    "        \n",
    "        return TreeNode(middle_list_node.val, left_tree, right_tree)\n",
    "        \n",
    "        \n",
    "    def advance(self, head: ListNode, length: int) -> ListNode:\n",
    "        while length:\n",
    "            head = head.next\n",
    "            length -= 1\n",
    "        return head"
   ]
  },
  {
   "cell_type": "code",
   "execution_count": 2,
   "metadata": {},
   "outputs": [
    {
     "name": "stdout",
     "output_type": "stream",
     "text": [
      "None\n"
     ]
    }
   ],
   "source": [
    "import sys, os; sys.path.append(os.path.abspath('..'))\n",
    "from visualizer import visualize_binary_tree\n",
    "\n",
    "s = Solution()\n",
    "print(s.sortedListToBST(None))"
   ]
  },
  {
   "cell_type": "code",
   "execution_count": 3,
   "metadata": {},
   "outputs": [
    {
     "data": {
      "image/svg+xml": [
       "<?xml version=\"1.0\" encoding=\"UTF-8\" standalone=\"no\"?>\n",
       "<!DOCTYPE svg PUBLIC \"-//W3C//DTD SVG 1.1//EN\"\n",
       " \"http://www.w3.org/Graphics/SVG/1.1/DTD/svg11.dtd\">\n",
       "<!-- Generated by graphviz version 2.48.0 (20210717.2242)\n",
       " -->\n",
       "<!-- Pages: 1 -->\n",
       "<svg width=\"44pt\" height=\"44pt\"\n",
       " viewBox=\"0.00 0.00 44.00 44.00\" xmlns=\"http://www.w3.org/2000/svg\" xmlns:xlink=\"http://www.w3.org/1999/xlink\">\n",
       "<g id=\"graph0\" class=\"graph\" transform=\"scale(1 1) rotate(0) translate(4 40)\">\n",
       "<polygon fill=\"white\" stroke=\"transparent\" points=\"-4,4 -4,-40 40,-40 40,4 -4,4\"/>\n",
       "<!-- 0x7f869d1d0250 -->\n",
       "<g id=\"node1\" class=\"node\">\n",
       "<title>0x7f869d1d0250</title>\n",
       "<ellipse fill=\"none\" stroke=\"black\" cx=\"18\" cy=\"-18\" rx=\"18\" ry=\"18\"/>\n",
       "<text text-anchor=\"middle\" x=\"18\" y=\"-14.3\" font-family=\"Times,serif\" font-size=\"14.00\">0</text>\n",
       "</g>\n",
       "</g>\n",
       "</svg>\n"
      ],
      "text/plain": [
       "<graphviz.dot.Digraph at 0x7f869d1d02b0>"
      ]
     },
     "metadata": {},
     "output_type": "display_data"
    }
   ],
   "source": [
    "visualize_binary_tree(s.sortedListToBST(ListNode(0)))"
   ]
  },
  {
   "cell_type": "code",
   "execution_count": 4,
   "metadata": {},
   "outputs": [
    {
     "data": {
      "image/svg+xml": [
       "<?xml version=\"1.0\" encoding=\"UTF-8\" standalone=\"no\"?>\n",
       "<!DOCTYPE svg PUBLIC \"-//W3C//DTD SVG 1.1//EN\"\n",
       " \"http://www.w3.org/Graphics/SVG/1.1/DTD/svg11.dtd\">\n",
       "<!-- Generated by graphviz version 2.48.0 (20210717.2242)\n",
       " -->\n",
       "<!-- Pages: 1 -->\n",
       "<svg width=\"95pt\" height=\"116pt\"\n",
       " viewBox=\"0.00 0.00 94.50 116.00\" xmlns=\"http://www.w3.org/2000/svg\" xmlns:xlink=\"http://www.w3.org/1999/xlink\">\n",
       "<g id=\"graph0\" class=\"graph\" transform=\"scale(1 1) rotate(0) translate(4 112)\">\n",
       "<polygon fill=\"white\" stroke=\"transparent\" points=\"-4,4 -4,-112 90.5,-112 90.5,4 -4,4\"/>\n",
       "<!-- 0x7f869d1c28b0 -->\n",
       "<g id=\"node1\" class=\"node\">\n",
       "<title>0x7f869d1c28b0</title>\n",
       "<ellipse fill=\"none\" stroke=\"black\" cx=\"58\" cy=\"-90\" rx=\"18\" ry=\"18\"/>\n",
       "<text text-anchor=\"middle\" x=\"58\" y=\"-86.3\" font-family=\"Times,serif\" font-size=\"14.00\">3</text>\n",
       "</g>\n",
       "<!-- 0x7f869d1c2ee0 -->\n",
       "<g id=\"node2\" class=\"node\">\n",
       "<title>0x7f869d1c2ee0</title>\n",
       "<ellipse fill=\"none\" stroke=\"black\" cx=\"18\" cy=\"-18\" rx=\"18\" ry=\"18\"/>\n",
       "<text text-anchor=\"middle\" x=\"18\" y=\"-14.3\" font-family=\"Times,serif\" font-size=\"14.00\">1</text>\n",
       "</g>\n",
       "<!-- 0x7f869d1c28b0&#45;&gt;0x7f869d1c2ee0 -->\n",
       "<g id=\"edge1\" class=\"edge\">\n",
       "<title>0x7f869d1c28b0&#45;&gt;0x7f869d1c2ee0</title>\n",
       "<path fill=\"none\" stroke=\"black\" d=\"M49.32,-73.81C44.18,-64.82 37.56,-53.23 31.73,-43.03\"/>\n",
       "<polygon fill=\"black\" stroke=\"black\" points=\"34.66,-41.11 26.66,-34.16 28.59,-44.58 34.66,-41.11\"/>\n",
       "</g>\n",
       "<!-- 0x7f869d1c28b0invis_m -->\n",
       "<!-- 0x7f869d1c28b0&#45;&gt;0x7f869d1c28b0invis_m -->\n",
       "<!-- 0x7f869d1c28b0invis_r -->\n",
       "<!-- 0x7f869d1c28b0&#45;&gt;0x7f869d1c28b0invis_r -->\n",
       "</g>\n",
       "</svg>\n"
      ],
      "text/plain": [
       "<graphviz.dot.Digraph at 0x7f869d1c2dc0>"
      ]
     },
     "metadata": {},
     "output_type": "display_data"
    }
   ],
   "source": [
    "n1 = ListNode(1)\n",
    "n1.next = ListNode(3)\n",
    "visualize_binary_tree(s.sortedListToBST(n1))"
   ]
  },
  {
   "cell_type": "code",
   "execution_count": 5,
   "metadata": {},
   "outputs": [
    {
     "data": {
      "image/svg+xml": [
       "<?xml version=\"1.0\" encoding=\"UTF-8\" standalone=\"no\"?>\n",
       "<!DOCTYPE svg PUBLIC \"-//W3C//DTD SVG 1.1//EN\"\n",
       " \"http://www.w3.org/Graphics/SVG/1.1/DTD/svg11.dtd\">\n",
       "<!-- Generated by graphviz version 2.48.0 (20210717.2242)\n",
       " -->\n",
       "<!-- Pages: 1 -->\n",
       "<svg width=\"208pt\" height=\"198pt\"\n",
       " viewBox=\"0.00 0.00 208.25 197.89\" xmlns=\"http://www.w3.org/2000/svg\" xmlns:xlink=\"http://www.w3.org/1999/xlink\">\n",
       "<g id=\"graph0\" class=\"graph\" transform=\"scale(1 1) rotate(0) translate(4 193.89)\">\n",
       "<polygon fill=\"white\" stroke=\"transparent\" points=\"-4,4 -4,-193.89 204.25,-193.89 204.25,4 -4,4\"/>\n",
       "<!-- 0x7f869d1340a0 -->\n",
       "<g id=\"node1\" class=\"node\">\n",
       "<title>0x7f869d1340a0</title>\n",
       "<ellipse fill=\"none\" stroke=\"black\" cx=\"124.75\" cy=\"-171.89\" rx=\"18\" ry=\"18\"/>\n",
       "<text text-anchor=\"middle\" x=\"124.75\" y=\"-168.19\" font-family=\"Times,serif\" font-size=\"14.00\">0</text>\n",
       "</g>\n",
       "<!-- 0x7f869d1c2fa0 -->\n",
       "<g id=\"node2\" class=\"node\">\n",
       "<title>0x7f869d1c2fa0</title>\n",
       "<ellipse fill=\"none\" stroke=\"black\" cx=\"78.75\" cy=\"-99.69\" rx=\"18.4\" ry=\"18.4\"/>\n",
       "<text text-anchor=\"middle\" x=\"78.75\" y=\"-95.99\" font-family=\"Times,serif\" font-size=\"14.00\">&#45;3</text>\n",
       "</g>\n",
       "<!-- 0x7f869d1340a0&#45;&gt;0x7f869d1c2fa0 -->\n",
       "<g id=\"edge1\" class=\"edge\">\n",
       "<title>0x7f869d1340a0&#45;&gt;0x7f869d1c2fa0</title>\n",
       "<path fill=\"none\" stroke=\"black\" d=\"M115.22,-156.35C109.05,-146.94 100.89,-134.48 93.85,-123.74\"/>\n",
       "<polygon fill=\"black\" stroke=\"black\" points=\"96.68,-121.67 88.27,-115.22 90.82,-125.5 96.68,-121.67\"/>\n",
       "</g>\n",
       "<!-- 0x7f869d1340a0invis_m -->\n",
       "<!-- 0x7f869d1340a0&#45;&gt;0x7f869d1340a0invis_m -->\n",
       "<!-- 0x7f869d134040 -->\n",
       "<g id=\"node7\" class=\"node\">\n",
       "<title>0x7f869d134040</title>\n",
       "<ellipse fill=\"none\" stroke=\"black\" cx=\"167.75\" cy=\"-99.69\" rx=\"18\" ry=\"18\"/>\n",
       "<text text-anchor=\"middle\" x=\"167.75\" y=\"-95.99\" font-family=\"Times,serif\" font-size=\"14.00\">9</text>\n",
       "</g>\n",
       "<!-- 0x7f869d1340a0&#45;&gt;0x7f869d134040 -->\n",
       "<g id=\"edge6\" class=\"edge\">\n",
       "<title>0x7f869d1340a0&#45;&gt;0x7f869d134040</title>\n",
       "<path fill=\"none\" stroke=\"black\" d=\"M133.87,-156.01C139.51,-146.79 146.88,-134.76 153.31,-124.27\"/>\n",
       "<polygon fill=\"black\" stroke=\"black\" points=\"156.4,-125.92 158.64,-115.56 150.43,-122.26 156.4,-125.92\"/>\n",
       "</g>\n",
       "<!-- 0x7f869d1b5ee0 -->\n",
       "<g id=\"node3\" class=\"node\">\n",
       "<title>0x7f869d1b5ee0</title>\n",
       "<ellipse fill=\"none\" stroke=\"black\" cx=\"22.75\" cy=\"-22.75\" rx=\"23\" ry=\"23\"/>\n",
       "<text text-anchor=\"middle\" x=\"22.75\" y=\"-19.05\" font-family=\"Times,serif\" font-size=\"14.00\">&#45;10</text>\n",
       "</g>\n",
       "<!-- 0x7f869d1c2fa0&#45;&gt;0x7f869d1b5ee0 -->\n",
       "<g id=\"edge2\" class=\"edge\">\n",
       "<title>0x7f869d1c2fa0&#45;&gt;0x7f869d1b5ee0</title>\n",
       "<path fill=\"none\" stroke=\"black\" d=\"M68.21,-84.6C60.87,-74.77 50.86,-61.37 42.1,-49.65\"/>\n",
       "<polygon fill=\"black\" stroke=\"black\" points=\"44.79,-47.4 36,-41.49 39.18,-51.59 44.79,-47.4\"/>\n",
       "</g>\n",
       "<!-- 0x7f869d1c2fa0invis_m -->\n",
       "<!-- 0x7f869d1c2fa0&#45;&gt;0x7f869d1c2fa0invis_m -->\n",
       "<!-- 0x7f869d1c2fa0invis_r -->\n",
       "<!-- 0x7f869d1c2fa0&#45;&gt;0x7f869d1c2fa0invis_r -->\n",
       "<!-- 0x7f869d190c40 -->\n",
       "<g id=\"node8\" class=\"node\">\n",
       "<title>0x7f869d190c40</title>\n",
       "<ellipse fill=\"none\" stroke=\"black\" cx=\"131.75\" cy=\"-22.75\" rx=\"18\" ry=\"18\"/>\n",
       "<text text-anchor=\"middle\" x=\"131.75\" y=\"-19.05\" font-family=\"Times,serif\" font-size=\"14.00\">5</text>\n",
       "</g>\n",
       "<!-- 0x7f869d134040&#45;&gt;0x7f869d190c40 -->\n",
       "<g id=\"edge7\" class=\"edge\">\n",
       "<title>0x7f869d134040&#45;&gt;0x7f869d190c40</title>\n",
       "<path fill=\"none\" stroke=\"black\" d=\"M160.29,-83.17C155.46,-73.12 149.07,-59.82 143.56,-48.35\"/>\n",
       "<polygon fill=\"black\" stroke=\"black\" points=\"146.68,-46.76 139.2,-39.26 140.37,-49.79 146.68,-46.76\"/>\n",
       "</g>\n",
       "<!-- 0x7f869d134040invis_m -->\n",
       "<!-- 0x7f869d134040&#45;&gt;0x7f869d134040invis_m -->\n",
       "<!-- 0x7f869d134040invis_r -->\n",
       "<!-- 0x7f869d134040&#45;&gt;0x7f869d134040invis_r -->\n",
       "</g>\n",
       "</svg>\n"
      ],
      "text/plain": [
       "<graphviz.dot.Digraph at 0x7f869d134130>"
      ]
     },
     "metadata": {},
     "output_type": "display_data"
    }
   ],
   "source": [
    "from helper import array_to_list\n",
    "\n",
    "l = array_to_list([-10,-3,0,5,9])\n",
    "visualize_binary_tree(s.sortedListToBST(l))"
   ]
  },
  {
   "cell_type": "code",
   "execution_count": 6,
   "metadata": {},
   "outputs": [
    {
     "data": {
      "text/markdown": [
       "😃 Result: Accepted\n",
       "\n",
       "📥 Input: ``\n",
       "\n",
       "📤 Output: ``\n",
       "\n",
       "✅ Expected: ``\n",
       "\n",
       "💯 Passed Test Case: 32 / 32\n",
       "\n",
       "🚀 Runtime: 128 ms, Memory: 20.6 MB\n",
       "\n",
       "🉑 Runtime Percentile: better than 75.06%, Memory Percentile: better than 19.52%\n",
       "\n",
       "📆 Finished At: 2021-08-05"
      ],
      "text/plain": [
       "<IPython.core.display.Markdown object>"
      ]
     },
     "metadata": {},
     "output_type": "display_data"
    }
   ],
   "source": [
    "import sys, os; sys.path.append(os.path.abspath('..'))\n",
    "from submitter import submit\n",
    "submit(109)"
   ]
  }
 ],
 "metadata": {
  "authors": [
   {
    "name": "Soros Liu"
   }
  ],
  "kernelspec": {
   "display_name": "Python 3",
   "language": "python",
   "name": "python3"
  },
  "language_info": {
   "codemirror_mode": {
    "name": "ipython",
    "version": 3
   },
   "file_extension": ".py",
   "mimetype": "text/x-python",
   "name": "python",
   "nbconvert_exporter": "python",
   "pygments_lexer": "ipython3",
   "version": "3.8.6"
  },
  "leetcode_question_info": {
   "sampleTestCase": "[-10,-3,0,5,9]",
   "submitUrl": "/problems/convert-sorted-list-to-binary-search-tree/submit/"
  }
 },
 "nbformat": 4,
 "nbformat_minor": 2
}
