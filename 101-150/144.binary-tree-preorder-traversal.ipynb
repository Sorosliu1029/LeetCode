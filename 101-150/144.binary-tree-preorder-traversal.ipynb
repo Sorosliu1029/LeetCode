{
  "cells": [
    {
      "cell_type": "markdown",
      "metadata": {},
      "source": [
        "### 144. Binary Tree Preorder Traversal"
      ]
    },
    {
      "cell_type": "markdown",
      "metadata": {},
      "source": [
        "#### Content\n",
        "<p>Given the <code>root</code> of a binary tree, return <em>the preorder traversal of its nodes&#39; values</em>.</p>\n",
        "\n",
        "<p>&nbsp;</p>\n",
        "<p><strong>Example 1:</strong></p>\n",
        "<img alt=\"\" src=\"https://assets.leetcode.com/uploads/2020/09/15/inorder_1.jpg\" style=\"width: 125px; height: 200px;\" />\n",
        "<pre>\n",
        "<strong>Input:</strong> root = [1,null,2,3]\n",
        "<strong>Output:</strong> [1,2,3]\n",
        "</pre>\n",
        "\n",
        "<p><strong>Example 2:</strong></p>\n",
        "\n",
        "<pre>\n",
        "<strong>Input:</strong> root = []\n",
        "<strong>Output:</strong> []\n",
        "</pre>\n",
        "\n",
        "<p><strong>Example 3:</strong></p>\n",
        "\n",
        "<pre>\n",
        "<strong>Input:</strong> root = [1]\n",
        "<strong>Output:</strong> [1]\n",
        "</pre>\n",
        "\n",
        "<p>&nbsp;</p>\n",
        "<p><strong>Constraints:</strong></p>\n",
        "\n",
        "<ul>\n",
        "\t<li>The number of nodes in the tree is in the range <code>[0, 100]</code>.</li>\n",
        "\t<li><code>-100 &lt;= Node.val &lt;= 100</code></li>\n",
        "</ul>\n",
        "\n",
        "<p>&nbsp;</p>\n",
        "<p><strong>Follow up:</strong> Recursive solution is trivial, could you do it iteratively?</p>\n"
      ]
    },
    {
      "cell_type": "markdown",
      "metadata": {},
      "source": [
        "#### Difficulty: Easy, AC rate: 61.6%\n",
        "\n",
        "#### Question Tags:\n",
        "- Stack\n",
        "- Tree\n",
        "- Depth-First Search\n",
        "- Binary Tree\n",
        "\n",
        "#### Links:\n",
        " 🎁 [Question Detail](https://leetcode.com/problems/binary-tree-preorder-traversal/description/) | 🎉 [Question Solution](https://leetcode.com/problems/binary-tree-preorder-traversal/solution/) | 💬 [Question Discussion](https://leetcode.com/problems/binary-tree-preorder-traversal/discuss/?orderBy=most_votes)\n",
        "\n",
        "#### Hints:\n"
      ]
    },
    {
      "cell_type": "markdown",
      "metadata": {},
      "source": [
        "#### Sample Test Case\n",
        "[1,null,2,3]"
      ]
    },
    {
      "cell_type": "markdown",
      "metadata": {},
      "source": [
        "---\n",
        "What's your idea?\n",
        "\n",
        "简单的前序遍历递归\n",
        "\n",
        "---"
      ]
    },
    {
      "cell_type": "code",
      "execution_count": 13,
      "metadata": {
        "isSolutionCode": true
      },
      "outputs": [],
      "source": [
        "from typing import Optional, List\n",
        "# Definition for a binary tree node.\n",
        "class TreeNode:\n",
        "    def __init__(self, val=0, left=None, right=None):\n",
        "        self.val = val\n",
        "        self.left = left\n",
        "        self.right = right\n",
        "\n",
        "class Solution:\n",
        "    def preorderTraversal(self, root: Optional[TreeNode]) -> List[int]:\n",
        "        if root is None:\n",
        "            return []\n",
        "        return [root.val] + self.preorderTraversal(root.left) + self.preorderTraversal(root.right)"
      ]
    },
    {
      "cell_type": "code",
      "execution_count": 17,
      "metadata": {},
      "outputs": [
        {
          "name": "stdout",
          "output_type": "stream",
          "text": [
            "[1, 2, 3]\n",
            "[]\n",
            "[1]\n"
          ]
        }
      ],
      "source": [
        "s = Solution()\n",
        "\n",
        "t = TreeNode(1, None, TreeNode(2, TreeNode(3)))\n",
        "print(s.preorderTraversal(t))\n",
        "\n",
        "t = None\n",
        "print(s.preorderTraversal(t))\n",
        "\n",
        "t = TreeNode(1)\n",
        "print(s.preorderTraversal(t))"
      ]
    },
    {
      "cell_type": "code",
      "execution_count": 18,
      "metadata": {},
      "outputs": [
        {
          "data": {
            "text/markdown": [
              "😃 Result: Accepted\n",
              "\n",
              "📥 Input: ``\n",
              "\n",
              "📤 Output: ``\n",
              "\n",
              "✅ Expected: ``\n",
              "\n",
              "💯 Passed Test Case: 69 / 69\n",
              "\n",
              "🚀 Runtime: 46 ms, Memory: 13.9 MB\n",
              "\n",
              "🉑 Runtime Percentile: better than 36.43%, Memory Percentile: better than 91.84%\n",
              "\n",
              "📆 Finished At: 2022-02-11"
            ],
            "text/plain": [
              "<IPython.core.display.Markdown object>"
            ]
          },
          "metadata": {},
          "output_type": "display_data"
        }
      ],
      "source": [
        "import sys, os; sys.path.append(os.path.abspath('..'))\n",
        "from submitter import submit\n",
        "submit(144)"
      ]
    }
  ],
  "metadata": {
    "authors": [
      {
        "name": "Soros Liu"
      }
    ],
    "kernelspec": {
      "display_name": "Python 3",
      "language": "python",
      "name": "python3"
    },
    "language_info": {
      "codemirror_mode": {
        "name": "ipython",
        "version": 3
      },
      "file_extension": ".py",
      "mimetype": "text/x-python",
      "name": "python",
      "nbconvert_exporter": "python",
      "pygments_lexer": "ipython3",
      "version": "3.8.6"
    },
    "leetcode_question_info": {
      "questionFrontendId": "144",
      "questionId": "144",
      "sampleTestCase": "[1,null,2,3]",
      "submitUrl": "/problems/binary-tree-preorder-traversal/submit/"
    }
  },
  "nbformat": 4,
  "nbformat_minor": 2
}
