{
 "cells": [
  {
   "cell_type": "markdown",
   "metadata": {},
   "source": [
    "### 138. Copy List with Random Pointer"
   ]
  },
  {
   "cell_type": "markdown",
   "metadata": {},
   "source": [
    "#### Content\n",
    "<p>A linked list of length <code>n</code> is given such that each node contains an additional random pointer, which could point to any node in the list, or <code>null</code>.</p>\n",
    "\n",
    "<p>Construct a <a href=\"https://en.wikipedia.org/wiki/Object_copying#Deep_copy\" target=\"_blank\"><strong>deep copy</strong></a> of the list. The deep copy should consist of exactly <code>n</code> <strong>brand new</strong> nodes, where each new node has its value set to the value of its corresponding original node. Both the <code>next</code> and <code>random</code> pointer of the new nodes should point to new nodes in the copied list such that the pointers in the original list and copied list represent the same list state. <strong>None of the pointers in the new list should point to nodes in the original list</strong>.</p>\n",
    "\n",
    "<p>For example, if there are two nodes <code>X</code> and <code>Y</code> in the original list, where <code>X.random --&gt; Y</code>, then for the corresponding two nodes <code>x</code> and <code>y</code> in the copied list, <code>x.random --&gt; y</code>.</p>\n",
    "\n",
    "<p>Return <em>the head of the copied linked list</em>.</p>\n",
    "\n",
    "<p>The linked list is represented in the input/output as a list of <code>n</code> nodes. Each node is represented as a pair of <code>[val, random_index]</code> where:</p>\n",
    "\n",
    "<ul>\n",
    "\t<li><code>val</code>: an integer representing <code>Node.val</code></li>\n",
    "\t<li><code>random_index</code>: the index of the node (range from <code>0</code> to <code>n-1</code>) that the <code>random</code> pointer points to, or <code>null</code> if it does not point to any node.</li>\n",
    "</ul>\n",
    "\n",
    "<p>Your code will <strong>only</strong> be given the <code>head</code> of the original linked list.</p>\n",
    "\n",
    "<p>&nbsp;</p>\n",
    "<p><strong>Example 1:</strong></p>\n",
    "<img alt=\"\" src=\"https://assets.leetcode.com/uploads/2019/12/18/e1.png\" style=\"width: 700px; height: 142px;\" />\n",
    "<pre>\n",
    "<strong>Input:</strong> head = [[7,null],[13,0],[11,4],[10,2],[1,0]]\n",
    "<strong>Output:</strong> [[7,null],[13,0],[11,4],[10,2],[1,0]]\n",
    "</pre>\n",
    "\n",
    "<p><strong>Example 2:</strong></p>\n",
    "<img alt=\"\" src=\"https://assets.leetcode.com/uploads/2019/12/18/e2.png\" style=\"width: 700px; height: 114px;\" />\n",
    "<pre>\n",
    "<strong>Input:</strong> head = [[1,1],[2,1]]\n",
    "<strong>Output:</strong> [[1,1],[2,1]]\n",
    "</pre>\n",
    "\n",
    "<p><strong>Example 3:</strong></p>\n",
    "\n",
    "<p><strong><img alt=\"\" src=\"https://assets.leetcode.com/uploads/2019/12/18/e3.png\" style=\"width: 700px; height: 122px;\" /></strong></p>\n",
    "\n",
    "<pre>\n",
    "<strong>Input:</strong> head = [[3,null],[3,0],[3,null]]\n",
    "<strong>Output:</strong> [[3,null],[3,0],[3,null]]\n",
    "</pre>\n",
    "\n",
    "<p><strong>Example 4:</strong></p>\n",
    "\n",
    "<pre>\n",
    "<strong>Input:</strong> head = []\n",
    "<strong>Output:</strong> []\n",
    "<strong>Explanation:</strong> The given linked list is empty (null pointer), so return null.\n",
    "</pre>\n",
    "\n",
    "<p>&nbsp;</p>\n",
    "<p><strong>Constraints:</strong></p>\n",
    "\n",
    "<ul>\n",
    "\t<li><code>0 &lt;= n &lt;= 1000</code></li>\n",
    "\t<li><code>-10000 &lt;= Node.val &lt;= 10000</code></li>\n",
    "\t<li><code>Node.random</code> is <code>null</code> or is pointing to some node in the linked list.</li>\n",
    "</ul>\n"
   ]
  },
  {
   "cell_type": "markdown",
   "metadata": {},
   "source": [
    "#### Difficulty: Medium, AC rate: 43.1%\n",
    "\n",
    "#### Question Tags:\n",
    "- Hash Table\n",
    "- Linked List\n",
    "\n",
    "#### Links:\n",
    " 🎁 [Question Detail](https://leetcode.com/problems/copy-list-with-random-pointer/description/) | 🎉 [Question Solution](https://leetcode.com/problems/copy-list-with-random-pointer/solution/) | 💬 [Question Discussion](https://leetcode.com/problems/copy-list-with-random-pointer/discuss/?orderBy=most_votes)\n",
    "\n",
    "#### Hints:\n",
    "<details><summary>Hint 0  🔍</summary>Just iterate the linked list and create copies of the nodes on the go. Since a node can be referenced from multiple nodes due to the random pointers, make sure you are not making multiple copies of the same node.</details>\n",
    "<details><summary>Hint 1  🔍</summary>You may want to use extra space to keep <b>old node ---> new node</b> mapping to prevent creating multiples copies of same node.</details>\n",
    "<details><summary>Hint 2  🔍</summary>We can avoid using extra space for old node ---> new node mapping, by tweaking the original linked list. Simply interweave the nodes of the old and copied list. \n",
    "For e.g.\n",
    "<pre>\n",
    "Old List: A --> B --> C --> D\n",
    "InterWeaved List: A --> A' --> B --> B' --> C --> C' --> D --> D'\n",
    "</pre></details>\n",
    "<details><summary>Hint 3  🔍</summary>The interweaving is done using <b>next</b> pointers and we can make use of interweaved structure to get the correct reference nodes for <b>random</b> pointers.</details>\n"
   ]
  },
  {
   "cell_type": "markdown",
   "metadata": {},
   "source": [
    "#### Sample Test Case\n",
    "[[7,null],[13,0],[11,4],[10,2],[1,0]]"
   ]
  },
  {
   "cell_type": "markdown",
   "metadata": {},
   "source": [
    "---\n",
    "What's your idea?\n",
    "\n",
    "第一次遍历，用 O(n) 的空间构建新旧对象间的地址映射表\n",
    "\n",
    "第二次遍历，利用地址映射表，替换新对象的 `random`\n",
    "\n",
    "---"
   ]
  },
  {
   "cell_type": "code",
   "execution_count": 1,
   "metadata": {
    "isSolutionCode": true
   },
   "outputs": [],
   "source": [
    "# Definition for a Node.\n",
    "class Node:\n",
    "    def __init__(self, x: int, next: 'Node' = None, random: 'Node' = None):\n",
    "        self.val = x\n",
    "        self.next = next\n",
    "        self.random = random\n",
    "\n",
    "class Solution:\n",
    "    def copyRandomList(self, head: 'Node') -> 'Node':\n",
    "        dummy = Node(0)\n",
    "        p = dummy\n",
    "        \n",
    "        addr_map = {}\n",
    "        while head:\n",
    "            p.next = Node(head.val, head.next, head.random)\n",
    "            addr_map[head] = p.next\n",
    "            \n",
    "            head = head.next\n",
    "            p = p.next\n",
    "            \n",
    "        p = dummy.next\n",
    "        while p:\n",
    "            if p.random:\n",
    "                p.random = addr_map[p.random]\n",
    "            p = p.next\n",
    "        \n",
    "        return dummy.next"
   ]
  },
  {
   "cell_type": "code",
   "execution_count": 2,
   "metadata": {},
   "outputs": [
    {
     "name": "stdout",
     "output_type": "stream",
     "text": [
      "[7, None]\n",
      "[13, 7]\n",
      "[11, 1]\n",
      "[10, 11]\n",
      "[1, 7]\n"
     ]
    }
   ],
   "source": [
    "s = Solution()\n",
    "\n",
    "n4 = Node(1, None)\n",
    "n3 = Node(10, n4)\n",
    "n2 = Node(11, n3)\n",
    "n1 = Node(13, n2)\n",
    "n0 = Node(7, n1)\n",
    "n0.random = None\n",
    "n1.random = n0\n",
    "n2.random = n4\n",
    "n3.random = n2\n",
    "n4.random = n0\n",
    "\n",
    "l = s.copyRandomList(n0)\n",
    "while l:\n",
    "    print([l.val, l.random.val if l.random else None])\n",
    "    l = l.next"
   ]
  },
  {
   "cell_type": "code",
   "execution_count": 3,
   "metadata": {},
   "outputs": [
    {
     "name": "stdout",
     "output_type": "stream",
     "text": [
      "[1, 2]\n",
      "[2, 2]\n"
     ]
    }
   ],
   "source": [
    "n1 = Node(2, None)\n",
    "n0 = Node(1, n1)\n",
    "n0.random = n1\n",
    "n1.random = n1\n",
    "\n",
    "l = s.copyRandomList(n0)\n",
    "while l:\n",
    "    print([l.val, l.random.val if l.random else None])\n",
    "    l = l.next"
   ]
  },
  {
   "cell_type": "code",
   "execution_count": 4,
   "metadata": {},
   "outputs": [
    {
     "name": "stdout",
     "output_type": "stream",
     "text": [
      "[3, None]\n",
      "[3, 3]\n",
      "[3, None]\n"
     ]
    }
   ],
   "source": [
    "n2 = Node(3, None)\n",
    "n1 = Node(3, n2)\n",
    "n0 = Node(3, n1)\n",
    "n0.random = None\n",
    "n1.random = n0\n",
    "n2.random = None\n",
    "\n",
    "l = s.copyRandomList(n0)\n",
    "while l:\n",
    "    print([l.val, l.random.val if l.random else None])\n",
    "    l = l.next"
   ]
  },
  {
   "cell_type": "code",
   "execution_count": 5,
   "metadata": {},
   "outputs": [
    {
     "name": "stdout",
     "output_type": "stream",
     "text": [
      "None\n"
     ]
    }
   ],
   "source": [
    "print(s.copyRandomList(None))"
   ]
  },
  {
   "cell_type": "code",
   "execution_count": 6,
   "metadata": {},
   "outputs": [
    {
     "data": {
      "text/markdown": [
       "😃 Result: Accepted\n",
       "\n",
       "📥 Input: ``\n",
       "\n",
       "📤 Output: ``\n",
       "\n",
       "✅ Expected: ``\n",
       "\n",
       "💯 Passed Test Case: 19 / 19\n",
       "\n",
       "🚀 Runtime: 33 ms, Memory: 14.8 MB\n",
       "\n",
       "🉑 Runtime Percentile: better than 69.50%, Memory Percentile: better than 84.27%\n",
       "\n",
       "📆 Finished At: 2021-07-31"
      ],
      "text/plain": [
       "<IPython.core.display.Markdown object>"
      ]
     },
     "metadata": {},
     "output_type": "display_data"
    }
   ],
   "source": [
    "import sys, os; sys.path.append(os.path.abspath('..'))\n",
    "from submitter import submit\n",
    "submit(138)"
   ]
  }
 ],
 "metadata": {
  "authors": [
   {
    "name": "Soros Liu"
   }
  ],
  "kernelspec": {
   "display_name": "Python 3",
   "language": "python",
   "name": "python3"
  },
  "language_info": {
   "codemirror_mode": {
    "name": "ipython",
    "version": 3
   },
   "file_extension": ".py",
   "mimetype": "text/x-python",
   "name": "python",
   "nbconvert_exporter": "python",
   "pygments_lexer": "ipython3",
   "version": "3.8.6"
  },
  "leetcode_question_info": {
   "sampleTestCase": "[[7,null],[13,0],[11,4],[10,2],[1,0]]",
   "submitUrl": "/problems/copy-list-with-random-pointer/submit/"
  }
 },
 "nbformat": 4,
 "nbformat_minor": 2
}
