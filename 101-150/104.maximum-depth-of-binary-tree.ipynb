{
 "cells": [
  {
   "cell_type": "markdown",
   "metadata": {},
   "source": [
    "### 104. Maximum Depth of Binary Tree"
   ]
  },
  {
   "cell_type": "markdown",
   "metadata": {},
   "source": [
    "#### Content\n",
    "<p>Given the <code>root</code> of a binary tree, return <em>its maximum depth</em>.</p>\n",
    "\n",
    "<p>A binary tree&#39;s <strong>maximum depth</strong>&nbsp;is the number of nodes along the longest path from the root node down to the farthest leaf node.</p>\n",
    "\n",
    "<p>&nbsp;</p>\n",
    "<p><strong>Example 1:</strong></p>\n",
    "<img alt=\"\" src=\"https://assets.leetcode.com/uploads/2020/11/26/tmp-tree.jpg\" style=\"width: 400px; height: 277px;\" />\n",
    "<pre>\n",
    "<strong>Input:</strong> root = [3,9,20,null,null,15,7]\n",
    "<strong>Output:</strong> 3\n",
    "</pre>\n",
    "\n",
    "<p><strong>Example 2:</strong></p>\n",
    "\n",
    "<pre>\n",
    "<strong>Input:</strong> root = [1,null,2]\n",
    "<strong>Output:</strong> 2\n",
    "</pre>\n",
    "\n",
    "<p><strong>Example 3:</strong></p>\n",
    "\n",
    "<pre>\n",
    "<strong>Input:</strong> root = []\n",
    "<strong>Output:</strong> 0\n",
    "</pre>\n",
    "\n",
    "<p><strong>Example 4:</strong></p>\n",
    "\n",
    "<pre>\n",
    "<strong>Input:</strong> root = [0]\n",
    "<strong>Output:</strong> 1\n",
    "</pre>\n",
    "\n",
    "<p>&nbsp;</p>\n",
    "<p><strong>Constraints:</strong></p>\n",
    "\n",
    "<ul>\n",
    "\t<li>The number of nodes in the tree is in the range <code>[0, 10<sup>4</sup>]</code>.</li>\n",
    "\t<li><code>-100 &lt;= Node.val &lt;= 100</code></li>\n",
    "</ul>\n"
   ]
  },
  {
   "cell_type": "markdown",
   "metadata": {},
   "source": [
    "#### Difficulty: Easy, AC rate: 69.3%\n",
    "\n",
    "#### Question Tags:\n",
    "- Tree\n",
    "- Depth-First Search\n",
    "- Breadth-First Search\n",
    "- Binary Tree\n",
    "\n",
    "#### Links:\n",
    " 🎁 [Question Detail](https://leetcode.com/problems/maximum-depth-of-binary-tree/description/) | 🎉 [Question Solution](https://leetcode.com/problems/maximum-depth-of-binary-tree/solution/) | 💬 [Question Discussion](https://leetcode.com/problems/maximum-depth-of-binary-tree/discuss/?orderBy=most_votes)\n",
    "\n",
    "#### Hints:\n"
   ]
  },
  {
   "cell_type": "markdown",
   "metadata": {},
   "source": [
    "#### Sample Test Case\n",
    "[3,9,20,null,null,15,7]"
   ]
  },
  {
   "cell_type": "markdown",
   "metadata": {},
   "source": [
    "---\n",
    "What's your idea?\n",
    "\n",
    "DFS\n",
    "\n",
    "---"
   ]
  },
  {
   "cell_type": "code",
   "execution_count": 1,
   "metadata": {
    "isSolutionCode": true
   },
   "outputs": [],
   "source": [
    "# Definition for a binary tree node.\n",
    "class TreeNode:\n",
    "    def __init__(self, val=0, left=None, right=None):\n",
    "        self.val = val\n",
    "        self.left = left\n",
    "        self.right = right\n",
    "\n",
    "class Solution:\n",
    "    def maxDepth(self, root: TreeNode) -> int:\n",
    "        if root is None:\n",
    "            return 0\n",
    "        \n",
    "        return max(self.maxDepth(root.left), self.maxDepth(root.right)) + 1"
   ]
  },
  {
   "cell_type": "code",
   "execution_count": 2,
   "metadata": {},
   "outputs": [
    {
     "data": {
      "text/plain": [
       "3"
      ]
     },
     "execution_count": 2,
     "metadata": {},
     "output_type": "execute_result"
    }
   ],
   "source": [
    "s = Solution()\n",
    "\n",
    "n7 = TreeNode(7)\n",
    "n15 = TreeNode(15)\n",
    "n20 = TreeNode(20, n15, n7)\n",
    "n9 = TreeNode(9)\n",
    "n3 = TreeNode(n9, n20)\n",
    "s.maxDepth(n3)"
   ]
  },
  {
   "cell_type": "code",
   "execution_count": 3,
   "metadata": {},
   "outputs": [
    {
     "data": {
      "text/plain": [
       "2"
      ]
     },
     "execution_count": 3,
     "metadata": {},
     "output_type": "execute_result"
    }
   ],
   "source": [
    "n2 = TreeNode(2)\n",
    "n1 = TreeNode(1, None, n2)\n",
    "s.maxDepth(n1)"
   ]
  },
  {
   "cell_type": "code",
   "execution_count": 4,
   "metadata": {},
   "outputs": [
    {
     "data": {
      "text/plain": [
       "0"
      ]
     },
     "execution_count": 4,
     "metadata": {},
     "output_type": "execute_result"
    }
   ],
   "source": [
    "s.maxDepth(None)"
   ]
  },
  {
   "cell_type": "code",
   "execution_count": 5,
   "metadata": {},
   "outputs": [
    {
     "data": {
      "text/plain": [
       "1"
      ]
     },
     "execution_count": 5,
     "metadata": {},
     "output_type": "execute_result"
    }
   ],
   "source": [
    "n = TreeNode(0)\n",
    "s.maxDepth(n)"
   ]
  },
  {
   "cell_type": "code",
   "execution_count": 6,
   "metadata": {},
   "outputs": [
    {
     "data": {
      "text/markdown": [
       "😃 Result: Accepted\n",
       "\n",
       "📥 Input: ``\n",
       "\n",
       "📤 Output: ``\n",
       "\n",
       "✅ Expected: ``\n",
       "\n",
       "💯 Passed Test Case: 39 / 39\n",
       "\n",
       "🚀 Runtime: 40 ms, Memory: 16.2 MB\n",
       "\n",
       "🉑 Runtime Percentile: better than 75.76%, Memory Percentile: better than 41.14%\n",
       "\n",
       "📆 Finished At: 2021-08-02"
      ],
      "text/plain": [
       "<IPython.core.display.Markdown object>"
      ]
     },
     "metadata": {},
     "output_type": "display_data"
    }
   ],
   "source": [
    "import sys, os; sys.path.append(os.path.abspath('..'))\n",
    "from submitter import submit\n",
    "submit(104)"
   ]
  }
 ],
 "metadata": {
  "authors": [
   {
    "name": "Soros Liu"
   }
  ],
  "kernelspec": {
   "display_name": "Python 3",
   "language": "python",
   "name": "python3"
  },
  "language_info": {
   "codemirror_mode": {
    "name": "ipython",
    "version": 3
   },
   "file_extension": ".py",
   "mimetype": "text/x-python",
   "name": "python",
   "nbconvert_exporter": "python",
   "pygments_lexer": "ipython3",
   "version": "3.8.6"
  },
  "leetcode_question_info": {
   "sampleTestCase": "[3,9,20,null,null,15,7]",
   "submitUrl": "/problems/maximum-depth-of-binary-tree/submit/"
  }
 },
 "nbformat": 4,
 "nbformat_minor": 2
}
