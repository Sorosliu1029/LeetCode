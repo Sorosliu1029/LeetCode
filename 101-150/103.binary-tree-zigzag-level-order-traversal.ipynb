{
  "cells": [
    {
      "cell_type": "markdown",
      "metadata": {},
      "source": [
        "### 103. Binary Tree Zigzag Level Order Traversal"
      ]
    },
    {
      "cell_type": "markdown",
      "metadata": {},
      "source": [
        "#### Content\n",
        "<p>Given the <code>root</code> of a binary tree, return <em>the zigzag level order traversal of its nodes&#39; values</em>. (i.e., from left to right, then right to left for the next level and alternate between).</p>\n",
        "\n",
        "<p>&nbsp;</p>\n",
        "<p><strong>Example 1:</strong></p>\n",
        "<img alt=\"\" src=\"https://assets.leetcode.com/uploads/2021/02/19/tree1.jpg\" style=\"width: 277px; height: 302px;\" />\n",
        "<pre>\n",
        "<strong>Input:</strong> root = [3,9,20,null,null,15,7]\n",
        "<strong>Output:</strong> [[3],[20,9],[15,7]]\n",
        "</pre>\n",
        "\n",
        "<p><strong>Example 2:</strong></p>\n",
        "\n",
        "<pre>\n",
        "<strong>Input:</strong> root = [1]\n",
        "<strong>Output:</strong> [[1]]\n",
        "</pre>\n",
        "\n",
        "<p><strong>Example 3:</strong></p>\n",
        "\n",
        "<pre>\n",
        "<strong>Input:</strong> root = []\n",
        "<strong>Output:</strong> []\n",
        "</pre>\n",
        "\n",
        "<p>&nbsp;</p>\n",
        "<p><strong>Constraints:</strong></p>\n",
        "\n",
        "<ul>\n",
        "\t<li>The number of nodes in the tree is in the range <code>[0, 2000]</code>.</li>\n",
        "\t<li><code>-100 &lt;= Node.val &lt;= 100</code></li>\n",
        "</ul>\n"
      ]
    },
    {
      "cell_type": "markdown",
      "metadata": {},
      "source": [
        "#### Difficulty: Medium, AC rate: 53.0%\n",
        "\n",
        "#### Question Tags:\n",
        "- Tree\n",
        "- Breadth-First Search\n",
        "- Binary Tree\n",
        "\n",
        "#### Links:\n",
        " 🎁 [Question Detail](https://leetcode.com/problems/binary-tree-zigzag-level-order-traversal/description/) | 🎉 [Question Solution](https://leetcode.com/problems/binary-tree-zigzag-level-order-traversal/solution/) | 💬 [Question Discussion](https://leetcode.com/problems/binary-tree-zigzag-level-order-traversal/discuss/?orderBy=most_votes)\n",
        "\n",
        "#### Hints:\n"
      ]
    },
    {
      "cell_type": "markdown",
      "metadata": {},
      "source": [
        "#### Sample Test Case\n",
        "[3,9,20,null,null,15,7]"
      ]
    },
    {
      "cell_type": "markdown",
      "metadata": {},
      "source": [
        "---\n",
        "What's your idea?\n",
        "\n",
        "BFS\n",
        "\n",
        "---"
      ]
    },
    {
      "cell_type": "code",
      "execution_count": 85,
      "metadata": {
        "isSolutionCode": true
      },
      "outputs": [],
      "source": [
        "from typing import Optional, List\n",
        "# Definition for a binary tree node.\n",
        "class TreeNode:\n",
        "    def __init__(self, val=0, left=None, right=None):\n",
        "        self.val = val\n",
        "        self.left = left\n",
        "        self.right = right\n",
        "\n",
        "class Solution:\n",
        "    def zigzagLevelOrder(self, root: Optional[TreeNode]) -> List[List[int]]:\n",
        "        if root is None:\n",
        "            return []\n",
        "        r = []\n",
        "        cur = [root]\n",
        "        while cur:\n",
        "            r.append([n.val for n in (cur if len(r) % 2 == 0 else cur[::-1])])\n",
        "            nxt = []\n",
        "            for n in cur:\n",
        "                if n.left is not None:\n",
        "                    nxt.append(n.left)\n",
        "                if n.right is not None:\n",
        "                    nxt.append(n.right)\n",
        "            cur = nxt\n",
        "        return r"
      ]
    },
    {
      "cell_type": "code",
      "execution_count": 87,
      "metadata": {},
      "outputs": [],
      "source": [
        "from helper import array_to_tree\n",
        "s = Solution()\n",
        "\n",
        "t = array_to_tree([3,9,20,None,None,15,7])\n",
        "assert s.zigzagLevelOrder(t) == [[3],[20,9],[15,7]]\n",
        "\n",
        "t = array_to_tree([1])\n",
        "assert s.zigzagLevelOrder(t) == [[1]]\n",
        "\n",
        "t = None\n",
        "assert s.zigzagLevelOrder(t) == []"
      ]
    },
    {
      "cell_type": "code",
      "execution_count": 88,
      "metadata": {},
      "outputs": [
        {
          "data": {
            "text/markdown": [
              "😃 Result: Accepted\n",
              "\n",
              "📥 Input: ``\n",
              "\n",
              "📤 Output: ``\n",
              "\n",
              "✅ Expected: ``\n",
              "\n",
              "💯 Passed Test Case: 33 / 33\n",
              "\n",
              "🚀 Runtime: 32 ms, Memory: 14.2 MB\n",
              "\n",
              "🉑 Runtime Percentile: better than 87.29%, Memory Percentile: better than 87.95%\n",
              "\n",
              "📆 Finished At: 2022-02-15"
            ],
            "text/plain": [
              "<IPython.core.display.Markdown object>"
            ]
          },
          "metadata": {},
          "output_type": "display_data"
        }
      ],
      "source": [
        "import sys, os; sys.path.append(os.path.abspath('..'))\n",
        "from submitter import submit\n",
        "submit(103)"
      ]
    }
  ],
  "metadata": {
    "authors": [
      {
        "name": "Soros Liu"
      }
    ],
    "kernelspec": {
      "display_name": "Python 3",
      "language": "python",
      "name": "python3"
    },
    "language_info": {
      "codemirror_mode": {
        "name": "ipython",
        "version": 3
      },
      "file_extension": ".py",
      "mimetype": "text/x-python",
      "name": "python",
      "nbconvert_exporter": "python",
      "pygments_lexer": "ipython3",
      "version": "3.8.6"
    },
    "leetcode_question_info": {
      "questionFrontendId": "103",
      "questionId": "103",
      "sampleTestCase": "[3,9,20,null,null,15,7]",
      "submitUrl": "/problems/binary-tree-zigzag-level-order-traversal/submit/"
    }
  },
  "nbformat": 4,
  "nbformat_minor": 2
}
