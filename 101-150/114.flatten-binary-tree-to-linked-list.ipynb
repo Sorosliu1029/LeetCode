{
  "cells": [
    {
      "cell_type": "markdown",
      "metadata": {},
      "source": [
        "### 114. Flatten Binary Tree to Linked List"
      ]
    },
    {
      "cell_type": "markdown",
      "metadata": {},
      "source": [
        "#### Content\n",
        "<p>Given the <code>root</code> of a binary tree, flatten the tree into a &quot;linked list&quot;:</p>\n",
        "\n",
        "<ul>\n",
        "\t<li>The &quot;linked list&quot; should use the same <code>TreeNode</code> class where the <code>right</code> child pointer points to the next node in the list and the <code>left</code> child pointer is always <code>null</code>.</li>\n",
        "\t<li>The &quot;linked list&quot; should be in the same order as a <a href=\"https://en.wikipedia.org/wiki/Tree_traversal#Pre-order,_NLR\" target=\"_blank\"><strong>pre-order</strong><strong> traversal</strong></a> of the binary tree.</li>\n",
        "</ul>\n",
        "\n",
        "<p>&nbsp;</p>\n",
        "<p><strong>Example 1:</strong></p>\n",
        "<img alt=\"\" src=\"https://assets.leetcode.com/uploads/2021/01/14/flaten.jpg\" style=\"width: 500px; height: 226px;\" />\n",
        "<pre>\n",
        "<strong>Input:</strong> root = [1,2,5,3,4,null,6]\n",
        "<strong>Output:</strong> [1,null,2,null,3,null,4,null,5,null,6]\n",
        "</pre>\n",
        "\n",
        "<p><strong>Example 2:</strong></p>\n",
        "\n",
        "<pre>\n",
        "<strong>Input:</strong> root = []\n",
        "<strong>Output:</strong> []\n",
        "</pre>\n",
        "\n",
        "<p><strong>Example 3:</strong></p>\n",
        "\n",
        "<pre>\n",
        "<strong>Input:</strong> root = [0]\n",
        "<strong>Output:</strong> [0]\n",
        "</pre>\n",
        "\n",
        "<p>&nbsp;</p>\n",
        "<p><strong>Constraints:</strong></p>\n",
        "\n",
        "<ul>\n",
        "\t<li>The number of nodes in the tree is in the range <code>[0, 2000]</code>.</li>\n",
        "\t<li><code>-100 &lt;= Node.val &lt;= 100</code></li>\n",
        "</ul>\n",
        "\n",
        "<p>&nbsp;</p>\n",
        "<strong>Follow up:</strong> Can you flatten the tree in-place (with <code>O(1)</code> extra space)?"
      ]
    },
    {
      "cell_type": "markdown",
      "metadata": {},
      "source": [
        "#### Difficulty: Medium, AC rate: 57.0%\n",
        "\n",
        "#### Question Tags:\n",
        "- Linked List\n",
        "- Stack\n",
        "- Tree\n",
        "- Depth-First Search\n",
        "- Binary Tree\n",
        "\n",
        "#### Links:\n",
        " 🎁 [Question Detail](https://leetcode.com/problems/flatten-binary-tree-to-linked-list/description/) | 🎉 [Question Solution](https://leetcode.com/problems/flatten-binary-tree-to-linked-list/solution/) | 💬 [Question Discussion](https://leetcode.com/problems/flatten-binary-tree-to-linked-list/discuss/?orderBy=most_votes)\n",
        "\n",
        "#### Hints:\n",
        "<details><summary>Hint 0  🔍</summary>If you notice carefully in the flattened tree, each node's right child points to the next node of a pre-order traversal.</details>\n"
      ]
    },
    {
      "cell_type": "markdown",
      "metadata": {},
      "source": [
        "#### Sample Test Case\n",
        "[1,2,5,3,4,null,6]"
      ]
    },
    {
      "cell_type": "markdown",
      "metadata": {},
      "source": [
        "---\n",
        "What's your idea?\n",
        "\n",
        "递归，分别构建左右子树的链表，然后和根节点串起来\n",
        "\n",
        "---"
      ]
    },
    {
      "cell_type": "code",
      "execution_count": 59,
      "metadata": {
        "isSolutionCode": true
      },
      "outputs": [],
      "source": [
        "from typing import Optional\n",
        "# Definition for a binary tree node.\n",
        "class TreeNode:\n",
        "    def __init__(self, val=0, left=None, right=None):\n",
        "        self.val = val\n",
        "        self.left = left\n",
        "        self.right = right\n",
        "\n",
        "class Solution:\n",
        "    def flatten(self, root: Optional[TreeNode]) -> None:\n",
        "        \"\"\"\n",
        "        Do not return anything, modify root in-place instead.\n",
        "        \"\"\"\n",
        "        self.recur(root)\n",
        "        return root\n",
        "    \n",
        "    def recur(self, node):\n",
        "        if node is None:\n",
        "            return\n",
        "        node_left, node_right = node.left, node.right\n",
        "        left_linked_list_end = None\n",
        "        if node_left is not None:\n",
        "            left_linked_list_end = self.recur(node_left)\n",
        "            node.left = None\n",
        "            node.right = node_left\n",
        "        right_linked_list_end = None\n",
        "        if node_right is not None:\n",
        "            right_linked_list_end = self.recur(node_right)\n",
        "            if left_linked_list_end:\n",
        "                left_linked_list_end.right = node_right\n",
        "        return right_linked_list_end or left_linked_list_end or node"
      ]
    },
    {
      "cell_type": "code",
      "execution_count": 62,
      "metadata": {},
      "outputs": [
        {
          "data": {
            "image/svg+xml": "<?xml version=\"1.0\" encoding=\"UTF-8\" standalone=\"no\"?>\n<!DOCTYPE svg PUBLIC \"-//W3C//DTD SVG 1.1//EN\"\n \"http://www.w3.org/Graphics/SVG/1.1/DTD/svg11.dtd\">\n<!-- Generated by graphviz version 2.48.0 (20210717.2242)\n -->\n<!-- Pages: 1 -->\n<svg width=\"255pt\" height=\"404pt\"\n viewBox=\"0.00 0.00 254.50 404.00\" xmlns=\"http://www.w3.org/2000/svg\" xmlns:xlink=\"http://www.w3.org/1999/xlink\">\n<g id=\"graph0\" class=\"graph\" transform=\"scale(1 1) rotate(0) translate(4 400)\">\n<polygon fill=\"white\" stroke=\"transparent\" points=\"-4,4 -4,-400 250.5,-400 250.5,4 -4,4\"/>\n<!-- 0x7f9b921891c0 -->\n<g id=\"node1\" class=\"node\">\n<title>0x7f9b921891c0</title>\n<ellipse fill=\"none\" stroke=\"black\" cx=\"28.5\" cy=\"-378\" rx=\"18\" ry=\"18\"/>\n<text text-anchor=\"middle\" x=\"28.5\" y=\"-374.3\" font-family=\"Times,serif\" font-size=\"14.00\">1</text>\n</g>\n<!-- 0x7f9b921891c0invis_l -->\n<!-- 0x7f9b921891c0&#45;&gt;0x7f9b921891c0invis_l -->\n<!-- 0x7f9b921891c0invis_m -->\n<!-- 0x7f9b921891c0&#45;&gt;0x7f9b921891c0invis_m -->\n<!-- 0x7f9b92189a90 -->\n<g id=\"node4\" class=\"node\">\n<title>0x7f9b92189a90</title>\n<ellipse fill=\"none\" stroke=\"black\" cx=\"68.5\" cy=\"-306\" rx=\"18\" ry=\"18\"/>\n<text text-anchor=\"middle\" x=\"68.5\" y=\"-302.3\" font-family=\"Times,serif\" font-size=\"14.00\">2</text>\n</g>\n<!-- 0x7f9b921891c0&#45;&gt;0x7f9b92189a90 -->\n<g id=\"edge3\" class=\"edge\">\n<title>0x7f9b921891c0&#45;&gt;0x7f9b92189a90</title>\n<path fill=\"none\" stroke=\"black\" d=\"M37.18,-361.81C42.32,-352.82 48.94,-341.23 54.77,-331.03\"/>\n<polygon fill=\"black\" stroke=\"black\" points=\"57.91,-332.58 59.84,-322.16 51.84,-329.11 57.91,-332.58\"/>\n</g>\n<!-- 0x7f9b92189a90invis_l -->\n<!-- 0x7f9b92189a90&#45;&gt;0x7f9b92189a90invis_l -->\n<!-- 0x7f9b92189a90invis_m -->\n<!-- 0x7f9b92189a90&#45;&gt;0x7f9b92189a90invis_m -->\n<!-- 0x7f9b92189f40 -->\n<g id=\"node7\" class=\"node\">\n<title>0x7f9b92189f40</title>\n<ellipse fill=\"none\" stroke=\"black\" cx=\"108.5\" cy=\"-234\" rx=\"18\" ry=\"18\"/>\n<text text-anchor=\"middle\" x=\"108.5\" y=\"-230.3\" font-family=\"Times,serif\" font-size=\"14.00\">3</text>\n</g>\n<!-- 0x7f9b92189a90&#45;&gt;0x7f9b92189f40 -->\n<g id=\"edge6\" class=\"edge\">\n<title>0x7f9b92189a90&#45;&gt;0x7f9b92189f40</title>\n<path fill=\"none\" stroke=\"black\" d=\"M77.18,-289.81C82.32,-280.82 88.94,-269.23 94.77,-259.03\"/>\n<polygon fill=\"black\" stroke=\"black\" points=\"97.91,-260.58 99.84,-250.16 91.84,-257.11 97.91,-260.58\"/>\n</g>\n<!-- 0x7f9b92189f40invis_l -->\n<!-- 0x7f9b92189f40&#45;&gt;0x7f9b92189f40invis_l -->\n<!-- 0x7f9b92189f40invis_m -->\n<!-- 0x7f9b92189f40&#45;&gt;0x7f9b92189f40invis_m -->\n<!-- 0x7f9b92189bb0 -->\n<g id=\"node10\" class=\"node\">\n<title>0x7f9b92189bb0</title>\n<ellipse fill=\"none\" stroke=\"black\" cx=\"148.5\" cy=\"-162\" rx=\"18\" ry=\"18\"/>\n<text text-anchor=\"middle\" x=\"148.5\" y=\"-158.3\" font-family=\"Times,serif\" font-size=\"14.00\">4</text>\n</g>\n<!-- 0x7f9b92189f40&#45;&gt;0x7f9b92189bb0 -->\n<g id=\"edge9\" class=\"edge\">\n<title>0x7f9b92189f40&#45;&gt;0x7f9b92189bb0</title>\n<path fill=\"none\" stroke=\"black\" d=\"M117.18,-217.81C122.32,-208.82 128.94,-197.23 134.77,-187.03\"/>\n<polygon fill=\"black\" stroke=\"black\" points=\"137.91,-188.58 139.84,-178.16 131.84,-185.11 137.91,-188.58\"/>\n</g>\n<!-- 0x7f9b92189bb0invis_l -->\n<!-- 0x7f9b92189bb0&#45;&gt;0x7f9b92189bb0invis_l -->\n<!-- 0x7f9b92189bb0invis_m -->\n<!-- 0x7f9b92189bb0&#45;&gt;0x7f9b92189bb0invis_m -->\n<!-- 0x7f9b921897c0 -->\n<g id=\"node13\" class=\"node\">\n<title>0x7f9b921897c0</title>\n<ellipse fill=\"none\" stroke=\"black\" cx=\"188.5\" cy=\"-90\" rx=\"18\" ry=\"18\"/>\n<text text-anchor=\"middle\" x=\"188.5\" y=\"-86.3\" font-family=\"Times,serif\" font-size=\"14.00\">5</text>\n</g>\n<!-- 0x7f9b92189bb0&#45;&gt;0x7f9b921897c0 -->\n<g id=\"edge12\" class=\"edge\">\n<title>0x7f9b92189bb0&#45;&gt;0x7f9b921897c0</title>\n<path fill=\"none\" stroke=\"black\" d=\"M157.18,-145.81C162.32,-136.82 168.94,-125.23 174.77,-115.03\"/>\n<polygon fill=\"black\" stroke=\"black\" points=\"177.91,-116.58 179.84,-106.16 171.84,-113.11 177.91,-116.58\"/>\n</g>\n<!-- 0x7f9b921897c0invis_l -->\n<!-- 0x7f9b921897c0&#45;&gt;0x7f9b921897c0invis_l -->\n<!-- 0x7f9b921897c0invis_m -->\n<!-- 0x7f9b921897c0&#45;&gt;0x7f9b921897c0invis_m -->\n<!-- 0x7f9b92189a30 -->\n<g id=\"node16\" class=\"node\">\n<title>0x7f9b92189a30</title>\n<ellipse fill=\"none\" stroke=\"black\" cx=\"228.5\" cy=\"-18\" rx=\"18\" ry=\"18\"/>\n<text text-anchor=\"middle\" x=\"228.5\" y=\"-14.3\" font-family=\"Times,serif\" font-size=\"14.00\">6</text>\n</g>\n<!-- 0x7f9b921897c0&#45;&gt;0x7f9b92189a30 -->\n<g id=\"edge15\" class=\"edge\">\n<title>0x7f9b921897c0&#45;&gt;0x7f9b92189a30</title>\n<path fill=\"none\" stroke=\"black\" d=\"M197.18,-73.81C202.32,-64.82 208.94,-53.23 214.77,-43.03\"/>\n<polygon fill=\"black\" stroke=\"black\" points=\"217.91,-44.58 219.84,-34.16 211.84,-41.11 217.91,-44.58\"/>\n</g>\n</g>\n</svg>\n",
            "text/plain": [
              "<graphviz.dot.Digraph at 0x7f9b92189b50>"
            ]
          },
          "metadata": {},
          "output_type": "display_data"
        },
        {
          "data": {
            "image/svg+xml": "<?xml version=\"1.0\" encoding=\"UTF-8\" standalone=\"no\"?>\n<!DOCTYPE svg PUBLIC \"-//W3C//DTD SVG 1.1//EN\"\n \"http://www.w3.org/Graphics/SVG/1.1/DTD/svg11.dtd\">\n<!-- Generated by graphviz version 2.48.0 (20210717.2242)\n -->\n<!-- Pages: 1 -->\n<svg width=\"44pt\" height=\"44pt\"\n viewBox=\"0.00 0.00 44.00 44.00\" xmlns=\"http://www.w3.org/2000/svg\" xmlns:xlink=\"http://www.w3.org/1999/xlink\">\n<g id=\"graph0\" class=\"graph\" transform=\"scale(1 1) rotate(0) translate(4 40)\">\n<polygon fill=\"white\" stroke=\"transparent\" points=\"-4,4 -4,-40 40,-40 40,4 -4,4\"/>\n<!-- 0x7f9b92189850 -->\n<g id=\"node1\" class=\"node\">\n<title>0x7f9b92189850</title>\n<ellipse fill=\"none\" stroke=\"black\" cx=\"18\" cy=\"-18\" rx=\"18\" ry=\"18\"/>\n<text text-anchor=\"middle\" x=\"18\" y=\"-14.3\" font-family=\"Times,serif\" font-size=\"14.00\">0</text>\n</g>\n</g>\n</svg>\n",
            "text/plain": [
              "<graphviz.dot.Digraph at 0x7f9b92189f40>"
            ]
          },
          "metadata": {},
          "output_type": "display_data"
        }
      ],
      "source": [
        "from helper import array_to_tree\n",
        "from visualizer import visualize_binary_tree\n",
        "s = Solution()\n",
        "\n",
        "t = array_to_tree([1,2,5,3,4,None,6])\n",
        "s.flatten(t)\n",
        "visualize_binary_tree(t)\n",
        "\n",
        "t = array_to_tree([0])\n",
        "s.flatten(t)\n",
        "visualize_binary_tree(t)\n",
        "\n",
        "t = None\n",
        "s.flatten(t)\n",
        "assert t is None"
      ]
    },
    {
      "cell_type": "code",
      "execution_count": 63,
      "metadata": {},
      "outputs": [
        {
          "data": {
            "text/markdown": [
              "😃 Result: Accepted\n",
              "\n",
              "📥 Input: ``\n",
              "\n",
              "📤 Output: ``\n",
              "\n",
              "✅ Expected: ``\n",
              "\n",
              "💯 Passed Test Case: 225 / 225\n",
              "\n",
              "🚀 Runtime: 50 ms, Memory: 15.4 MB\n",
              "\n",
              "🉑 Runtime Percentile: better than 51.12%, Memory Percentile: better than 14.30%\n",
              "\n",
              "📆 Finished At: 2022-02-15"
            ],
            "text/plain": [
              "<IPython.core.display.Markdown object>"
            ]
          },
          "metadata": {},
          "output_type": "display_data"
        }
      ],
      "source": [
        "import sys, os; sys.path.append(os.path.abspath('..'))\n",
        "from submitter import submit\n",
        "submit(114)"
      ]
    }
  ],
  "metadata": {
    "authors": [
      {
        "name": "Soros Liu"
      }
    ],
    "kernelspec": {
      "display_name": "Python 3",
      "language": "python",
      "name": "python3"
    },
    "language_info": {
      "codemirror_mode": {
        "name": "ipython",
        "version": 3
      },
      "file_extension": ".py",
      "mimetype": "text/x-python",
      "name": "python",
      "nbconvert_exporter": "python",
      "pygments_lexer": "ipython3",
      "version": "3.8.6"
    },
    "leetcode_question_info": {
      "questionFrontendId": "114",
      "questionId": "114",
      "sampleTestCase": "[1,2,5,3,4,null,6]",
      "submitUrl": "/problems/flatten-binary-tree-to-linked-list/submit/"
    }
  },
  "nbformat": 4,
  "nbformat_minor": 2
}
