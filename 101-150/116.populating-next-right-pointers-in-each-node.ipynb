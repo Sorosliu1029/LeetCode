{
  "cells": [
    {
      "cell_type": "markdown",
      "metadata": {},
      "source": [
        "### 116. Populating Next Right Pointers in Each Node"
      ]
    },
    {
      "cell_type": "markdown",
      "metadata": {},
      "source": [
        "#### Content\n",
        "<p>You are given a <strong>perfect binary tree</strong> where all leaves are on the same level, and every parent has two children. The binary tree has the following definition:</p>\n",
        "\n",
        "<pre>\n",
        "struct Node {\n",
        "  int val;\n",
        "  Node *left;\n",
        "  Node *right;\n",
        "  Node *next;\n",
        "}\n",
        "</pre>\n",
        "\n",
        "<p>Populate each next pointer to point to its next right node. If there is no next right node, the next pointer should be set to <code>NULL</code>.</p>\n",
        "\n",
        "<p>Initially, all next pointers are set to <code>NULL</code>.</p>\n",
        "\n",
        "<p>&nbsp;</p>\n",
        "<p><strong>Example 1:</strong></p>\n",
        "<img alt=\"\" src=\"https://assets.leetcode.com/uploads/2019/02/14/116_sample.png\" style=\"width: 500px; height: 171px;\" />\n",
        "<pre>\n",
        "<strong>Input:</strong> root = [1,2,3,4,5,6,7]\n",
        "<strong>Output:</strong> [1,#,2,3,#,4,5,6,7,#]\n",
        "<strong>Explanation: </strong>Given the above perfect binary tree (Figure A), your function should populate each next pointer to point to its next right node, just like in Figure B. The serialized output is in level order as connected by the next pointers, with &#39;#&#39; signifying the end of each level.\n",
        "</pre>\n",
        "\n",
        "<p><strong>Example 2:</strong></p>\n",
        "\n",
        "<pre>\n",
        "<strong>Input:</strong> root = []\n",
        "<strong>Output:</strong> []\n",
        "</pre>\n",
        "\n",
        "<p>&nbsp;</p>\n",
        "<p><strong>Constraints:</strong></p>\n",
        "\n",
        "<ul>\n",
        "\t<li>The number of nodes in the tree is in the range <code>[0, 2<sup>12</sup> - 1]</code>.</li>\n",
        "\t<li><code>-1000 &lt;= Node.val &lt;= 1000</code></li>\n",
        "</ul>\n",
        "\n",
        "<p>&nbsp;</p>\n",
        "<p><strong>Follow-up:</strong></p>\n",
        "\n",
        "<ul>\n",
        "\t<li>You may only use constant extra space.</li>\n",
        "\t<li>The recursive approach is fine. You may assume implicit stack space does not count as extra space for this problem.</li>\n",
        "</ul>\n"
      ]
    },
    {
      "cell_type": "markdown",
      "metadata": {},
      "source": [
        "#### Difficulty: Medium, AC rate: 55.8%\n",
        "\n",
        "#### Question Tags:\n",
        "- Linked List\n",
        "- Tree\n",
        "- Depth-First Search\n",
        "- Breadth-First Search\n",
        "- Binary Tree\n",
        "\n",
        "#### Links:\n",
        " 🎁 [Question Detail](https://leetcode.com/problems/populating-next-right-pointers-in-each-node/description/) | 🎉 [Question Solution](https://leetcode.com/problems/populating-next-right-pointers-in-each-node/solution/) | 💬 [Question Discussion](https://leetcode.com/problems/populating-next-right-pointers-in-each-node/discuss/?orderBy=most_votes)\n",
        "\n",
        "#### Hints:\n"
      ]
    },
    {
      "cell_type": "markdown",
      "metadata": {},
      "source": [
        "#### Sample Test Case\n",
        "[1,2,3,4,5,6,7]"
      ]
    },
    {
      "cell_type": "markdown",
      "metadata": {},
      "source": [
        "---\n",
        "What's your idea?\n",
        "\n",
        "利用满二叉树的特点，BFS逐层构建链表\n",
        "\n",
        "---"
      ]
    },
    {
      "cell_type": "code",
      "execution_count": 119,
      "metadata": {
        "isSolutionCode": true
      },
      "outputs": [],
      "source": [
        "from typing import Optional\n",
        "# Definition for a Node.\n",
        "class Node:\n",
        "    def __init__(self, val: int = 0, left: 'Node' = None, right: 'Node' = None, next: 'Node' = None):\n",
        "        self.val = val\n",
        "        self.left = left\n",
        "        self.right = right\n",
        "        self.next = next\n",
        "    \n",
        "    def to_list(self):\n",
        "        r = []\n",
        "        level_begin = self\n",
        "        while level_begin:\n",
        "            n = level_begin\n",
        "            while n:\n",
        "                r.append(n.val)\n",
        "                n = n.next\n",
        "            r.append('#')\n",
        "            level_begin = level_begin.left\n",
        "        return r\n",
        "\n",
        "class Solution:\n",
        "    def connect(self, root: Optional[Node]) -> Optional[Node]:\n",
        "        if root is None:\n",
        "            return None\n",
        "        parent_begin = root\n",
        "        cur_begin = parent_begin.left\n",
        "        while cur_begin:\n",
        "            p = parent_begin\n",
        "            while p:\n",
        "                p.left.next = p.right\n",
        "                p.right.next = p.next.left if p.next else None\n",
        "                p = p.next\n",
        "            parent_begin = cur_begin\n",
        "            cur_begin = cur_begin.left\n",
        "        return root"
      ]
    },
    {
      "cell_type": "code",
      "execution_count": 121,
      "metadata": {},
      "outputs": [],
      "source": [
        "s = Solution()\n",
        "\n",
        "t = None\n",
        "assert s.connect(t) is None\n",
        "\n",
        "t = Node(1)\n",
        "assert s.connect(t).to_list() == [1, '#']\n",
        "\n",
        "t = Node(1,\n",
        "  Node(2),\n",
        "  Node(3)\n",
        ")\n",
        "assert s.connect(t).to_list() == [1, '#', 2, 3, '#']\n",
        "\n",
        "t = Node(1,\n",
        "  Node(2,\n",
        "    Node(4),\n",
        "    Node(5),\n",
        "  ),\n",
        "  Node(3,\n",
        "    Node(6),\n",
        "    Node(7),\n",
        "  ),\n",
        ")\n",
        "assert s.connect(t).to_list() == [1,'#',2,3,'#',4,5,6,7,'#']"
      ]
    },
    {
      "cell_type": "code",
      "execution_count": 123,
      "metadata": {},
      "outputs": [
        {
          "data": {
            "text/markdown": [
              "😃 Result: Accepted\n",
              "\n",
              "📥 Input: ``\n",
              "\n",
              "📤 Output: ``\n",
              "\n",
              "✅ Expected: ``\n",
              "\n",
              "💯 Passed Test Case: 59 / 59\n",
              "\n",
              "🚀 Runtime: 128 ms, Memory: 15.5 MB\n",
              "\n",
              "🉑 Runtime Percentile: better than 9.44%, Memory Percentile: better than 98.96%\n",
              "\n",
              "📆 Finished At: 2022-02-15"
            ],
            "text/plain": [
              "<IPython.core.display.Markdown object>"
            ]
          },
          "metadata": {},
          "output_type": "display_data"
        }
      ],
      "source": [
        "import sys, os; sys.path.append(os.path.abspath('..'))\n",
        "from submitter import submit\n",
        "submit(116)"
      ]
    }
  ],
  "metadata": {
    "authors": [
      {
        "name": "Soros Liu"
      }
    ],
    "kernelspec": {
      "display_name": "Python 3",
      "language": "python",
      "name": "python3"
    },
    "language_info": {
      "codemirror_mode": {
        "name": "ipython",
        "version": 3
      },
      "file_extension": ".py",
      "mimetype": "text/x-python",
      "name": "python",
      "nbconvert_exporter": "python",
      "pygments_lexer": "ipython3",
      "version": "3.8.6"
    },
    "leetcode_question_info": {
      "questionFrontendId": "116",
      "questionId": "116",
      "sampleTestCase": "[1,2,3,4,5,6,7]",
      "submitUrl": "/problems/populating-next-right-pointers-in-each-node/submit/"
    }
  },
  "nbformat": 4,
  "nbformat_minor": 2
}
