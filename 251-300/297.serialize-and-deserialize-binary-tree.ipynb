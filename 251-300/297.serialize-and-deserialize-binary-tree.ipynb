{
  "cells": [
    {
      "cell_type": "markdown",
      "metadata": {},
      "source": [
        "### 297. Serialize and Deserialize Binary Tree"
      ]
    },
    {
      "cell_type": "markdown",
      "metadata": {},
      "source": [
        "#### Content\n",
        "<p>Serialization is the process of converting a data structure or object into a sequence of bits so that it can be stored in a file or memory buffer, or transmitted across a network connection link to be reconstructed later in the same or another computer environment.</p>\n",
        "\n",
        "<p>Design an algorithm to serialize and deserialize a binary tree. There is no restriction on how your serialization/deserialization algorithm should work. You just need to ensure that a binary tree can be serialized to a string and this string can be deserialized to the original tree structure.</p>\n",
        "\n",
        "<p><strong>Clarification:</strong> The input/output format is the same as <a href=\"/faq/#binary-tree\" target=\"_blank\">how LeetCode serializes a binary tree</a>. You do not necessarily need to follow this format, so please be creative and come up with different approaches yourself.</p>\n",
        "\n",
        "<p>&nbsp;</p>\n",
        "<p><strong>Example 1:</strong></p>\n",
        "<img alt=\"\" src=\"https://assets.leetcode.com/uploads/2020/09/15/serdeser.jpg\" style=\"width: 442px; height: 324px;\" />\n",
        "<pre>\n",
        "<strong>Input:</strong> root = [1,2,3,null,null,4,5]\n",
        "<strong>Output:</strong> [1,2,3,null,null,4,5]\n",
        "</pre>\n",
        "\n",
        "<p><strong>Example 2:</strong></p>\n",
        "\n",
        "<pre>\n",
        "<strong>Input:</strong> root = []\n",
        "<strong>Output:</strong> []\n",
        "</pre>\n",
        "\n",
        "<p>&nbsp;</p>\n",
        "<p><strong>Constraints:</strong></p>\n",
        "\n",
        "<ul>\n",
        "\t<li>The number of nodes in the tree is in the range <code>[0, 10<sup>4</sup>]</code>.</li>\n",
        "\t<li><code>-1000 &lt;= Node.val &lt;= 1000</code></li>\n",
        "</ul>\n"
      ]
    },
    {
      "cell_type": "markdown",
      "metadata": {},
      "source": [
        "#### Difficulty: Hard, AC rate: 53.1%\n",
        "\n",
        "#### Question Tags:\n",
        "- String\n",
        "- Tree\n",
        "- Depth-First Search\n",
        "- Breadth-First Search\n",
        "- Design\n",
        "- Binary Tree\n",
        "\n",
        "#### Links:\n",
        " 🎁 [Question Detail](https://leetcode.com/problems/serialize-and-deserialize-binary-tree/description/) | 🎉 [Question Solution](https://leetcode.com/problems/serialize-and-deserialize-binary-tree/solution/) | 💬 [Question Discussion](https://leetcode.com/problems/serialize-and-deserialize-binary-tree/discuss/?orderBy=most_votes)\n",
        "\n",
        "#### Hints:\n"
      ]
    },
    {
      "cell_type": "markdown",
      "metadata": {},
      "source": [
        "#### Sample Test Case\n",
        "[1,2,3,null,null,4,5]"
      ]
    },
    {
      "cell_type": "markdown",
      "metadata": {},
      "source": [
        "---\n",
        "What's your idea?\n",
        "\n",
        "BFS\n",
        "\n",
        "---"
      ]
    },
    {
      "cell_type": "code",
      "execution_count": 11,
      "metadata": {},
      "outputs": [],
      "source": [
        "# Definition for a binary tree node.\n",
        "class TreeNode(object):\n",
        "    def __init__(self, x, left = None, right = None):\n",
        "        self.val = x\n",
        "        self.left = left\n",
        "        self.right = right"
      ]
    },
    {
      "cell_type": "code",
      "execution_count": 12,
      "metadata": {
        "isSolutionCode": true
      },
      "outputs": [],
      "source": [
        "class Codec:\n",
        "\n",
        "    def serialize(self, root):\n",
        "        \"\"\"Encodes a tree to a single string.\n",
        "        \n",
        "        :type root: TreeNode\n",
        "        :rtype: str\n",
        "        \"\"\"\n",
        "        if root is None:\n",
        "            return ''\n",
        "        r = ''\n",
        "        cur = [root]\n",
        "        while cur:\n",
        "            nxt = []\n",
        "            for n in cur:\n",
        "                if n:\n",
        "                    nxt += [n.left, n.right]\n",
        "            if not nxt:\n",
        "                break\n",
        "            r += (','.join([str(n.val) if n else 'N' for n in cur]) + '#')\n",
        "            cur = nxt\n",
        "        return r\n",
        "\n",
        "    def deserialize(self, data):\n",
        "        \"\"\"Decodes your encoded data to tree.\n",
        "        \n",
        "        :type data: str\n",
        "        :rtype: TreeNode\n",
        "        \"\"\"\n",
        "        if not data:\n",
        "            return None\n",
        "        levels = data.split('#')\n",
        "        root = TreeNode(int(levels[0]))\n",
        "        prev = [root]\n",
        "        for level in levels[1:-1]:\n",
        "            vals = level.split(',')\n",
        "            cur = []\n",
        "            for idx, n in enumerate(prev):\n",
        "                n.left = TreeNode(int(vals[2*idx])) if vals[2*idx] != 'N' else None\n",
        "                if n.left:\n",
        "                    cur.append(n.left)\n",
        "                n.right = TreeNode(int(vals[2*idx+1])) if vals[2*idx+1] != 'N' else None\n",
        "                if n.right:\n",
        "                    cur.append(n.right)\n",
        "            prev = cur\n",
        "        return root"
      ]
    },
    {
      "cell_type": "code",
      "execution_count": 13,
      "metadata": {},
      "outputs": [],
      "source": [
        "def is_same_tree(p, q):\n",
        "  if not p and not q:\n",
        "    return True\n",
        "  if not p or not q or p.val != q.val:\n",
        "    return False\n",
        "  return is_same_tree(p.left, q.left) and is_same_tree(p.right, q.right) "
      ]
    },
    {
      "cell_type": "code",
      "execution_count": 14,
      "metadata": {},
      "outputs": [
        {
          "data": {
            "image/svg+xml": "<?xml version=\"1.0\" encoding=\"UTF-8\" standalone=\"no\"?>\n<!DOCTYPE svg PUBLIC \"-//W3C//DTD SVG 1.1//EN\"\n \"http://www.w3.org/Graphics/SVG/1.1/DTD/svg11.dtd\">\n<!-- Generated by graphviz version 2.48.0 (20210717.2242)\n -->\n<!-- Pages: 1 -->\n<svg width=\"164pt\" height=\"188pt\"\n viewBox=\"0.00 0.00 164.00 188.00\" xmlns=\"http://www.w3.org/2000/svg\" xmlns:xlink=\"http://www.w3.org/1999/xlink\">\n<g id=\"graph0\" class=\"graph\" transform=\"scale(1 1) rotate(0) translate(4 184)\">\n<polygon fill=\"white\" stroke=\"transparent\" points=\"-4,4 -4,-184 160,-184 160,4 -4,4\"/>\n<!-- 0x7fda7f8759a0 -->\n<g id=\"node1\" class=\"node\">\n<title>0x7fda7f8759a0</title>\n<ellipse fill=\"none\" stroke=\"black\" cx=\"58\" cy=\"-162\" rx=\"18\" ry=\"18\"/>\n<text text-anchor=\"middle\" x=\"58\" y=\"-158.3\" font-family=\"Times,serif\" font-size=\"14.00\">1</text>\n</g>\n<!-- 0x7fda7f875250 -->\n<g id=\"node2\" class=\"node\">\n<title>0x7fda7f875250</title>\n<ellipse fill=\"none\" stroke=\"black\" cx=\"18\" cy=\"-90\" rx=\"18\" ry=\"18\"/>\n<text text-anchor=\"middle\" x=\"18\" y=\"-86.3\" font-family=\"Times,serif\" font-size=\"14.00\">2</text>\n</g>\n<!-- 0x7fda7f8759a0&#45;&gt;0x7fda7f875250 -->\n<g id=\"edge1\" class=\"edge\">\n<title>0x7fda7f8759a0&#45;&gt;0x7fda7f875250</title>\n<path fill=\"none\" stroke=\"black\" d=\"M49.32,-145.81C44.18,-136.82 37.56,-125.23 31.73,-115.03\"/>\n<polygon fill=\"black\" stroke=\"black\" points=\"34.66,-113.11 26.66,-106.16 28.59,-116.58 34.66,-113.11\"/>\n</g>\n<!-- 0x7fda7f8759a0invis_m -->\n<!-- 0x7fda7f8759a0&#45;&gt;0x7fda7f8759a0invis_m -->\n<!-- 0x7fda7f26fac0 -->\n<g id=\"node4\" class=\"node\">\n<title>0x7fda7f26fac0</title>\n<ellipse fill=\"none\" stroke=\"black\" cx=\"98\" cy=\"-90\" rx=\"18\" ry=\"18\"/>\n<text text-anchor=\"middle\" x=\"98\" y=\"-86.3\" font-family=\"Times,serif\" font-size=\"14.00\">3</text>\n</g>\n<!-- 0x7fda7f8759a0&#45;&gt;0x7fda7f26fac0 -->\n<g id=\"edge3\" class=\"edge\">\n<title>0x7fda7f8759a0&#45;&gt;0x7fda7f26fac0</title>\n<path fill=\"none\" stroke=\"black\" d=\"M66.68,-145.81C71.82,-136.82 78.44,-125.23 84.27,-115.03\"/>\n<polygon fill=\"black\" stroke=\"black\" points=\"87.41,-116.58 89.34,-106.16 81.34,-113.11 87.41,-116.58\"/>\n</g>\n<!-- 0x7fda7f26fd00 -->\n<g id=\"node5\" class=\"node\">\n<title>0x7fda7f26fd00</title>\n<ellipse fill=\"none\" stroke=\"black\" cx=\"58\" cy=\"-18\" rx=\"18\" ry=\"18\"/>\n<text text-anchor=\"middle\" x=\"58\" y=\"-14.3\" font-family=\"Times,serif\" font-size=\"14.00\">4</text>\n</g>\n<!-- 0x7fda7f26fac0&#45;&gt;0x7fda7f26fd00 -->\n<g id=\"edge4\" class=\"edge\">\n<title>0x7fda7f26fac0&#45;&gt;0x7fda7f26fd00</title>\n<path fill=\"none\" stroke=\"black\" d=\"M89.32,-73.81C84.18,-64.82 77.56,-53.23 71.73,-43.03\"/>\n<polygon fill=\"black\" stroke=\"black\" points=\"74.66,-41.11 66.66,-34.16 68.59,-44.58 74.66,-41.11\"/>\n</g>\n<!-- 0x7fda7f26fac0invis_m -->\n<!-- 0x7fda7f26fac0&#45;&gt;0x7fda7f26fac0invis_m -->\n<!-- 0x7fda7f26fd60 -->\n<g id=\"node7\" class=\"node\">\n<title>0x7fda7f26fd60</title>\n<ellipse fill=\"none\" stroke=\"black\" cx=\"138\" cy=\"-18\" rx=\"18\" ry=\"18\"/>\n<text text-anchor=\"middle\" x=\"138\" y=\"-14.3\" font-family=\"Times,serif\" font-size=\"14.00\">5</text>\n</g>\n<!-- 0x7fda7f26fac0&#45;&gt;0x7fda7f26fd60 -->\n<g id=\"edge6\" class=\"edge\">\n<title>0x7fda7f26fac0&#45;&gt;0x7fda7f26fd60</title>\n<path fill=\"none\" stroke=\"black\" d=\"M106.68,-73.81C111.82,-64.82 118.44,-53.23 124.27,-43.03\"/>\n<polygon fill=\"black\" stroke=\"black\" points=\"127.41,-44.58 129.34,-34.16 121.34,-41.11 127.41,-44.58\"/>\n</g>\n</g>\n</svg>\n",
            "text/plain": [
              "<graphviz.dot.Digraph at 0x7fda7f0735b0>"
            ]
          },
          "metadata": {},
          "output_type": "display_data"
        },
        {
          "data": {
            "image/svg+xml": "<?xml version=\"1.0\" encoding=\"UTF-8\" standalone=\"no\"?>\n<!DOCTYPE svg PUBLIC \"-//W3C//DTD SVG 1.1//EN\"\n \"http://www.w3.org/Graphics/SVG/1.1/DTD/svg11.dtd\">\n<!-- Generated by graphviz version 2.48.0 (20210717.2242)\n -->\n<!-- Pages: 1 -->\n<svg width=\"95pt\" height=\"116pt\"\n viewBox=\"0.00 0.00 94.50 116.00\" xmlns=\"http://www.w3.org/2000/svg\" xmlns:xlink=\"http://www.w3.org/1999/xlink\">\n<g id=\"graph0\" class=\"graph\" transform=\"scale(1 1) rotate(0) translate(4 112)\">\n<polygon fill=\"white\" stroke=\"transparent\" points=\"-4,4 -4,-112 90.5,-112 90.5,4 -4,4\"/>\n<!-- 0x7fda7f0737c0 -->\n<g id=\"node1\" class=\"node\">\n<title>0x7fda7f0737c0</title>\n<ellipse fill=\"none\" stroke=\"black\" cx=\"28.5\" cy=\"-90\" rx=\"18\" ry=\"18\"/>\n<text text-anchor=\"middle\" x=\"28.5\" y=\"-86.3\" font-family=\"Times,serif\" font-size=\"14.00\">1</text>\n</g>\n<!-- 0x7fda7f0737c0invis_l -->\n<!-- 0x7fda7f0737c0&#45;&gt;0x7fda7f0737c0invis_l -->\n<!-- 0x7fda7f0737c0invis_m -->\n<!-- 0x7fda7f0737c0&#45;&gt;0x7fda7f0737c0invis_m -->\n<!-- 0x7fda7f783370 -->\n<g id=\"node4\" class=\"node\">\n<title>0x7fda7f783370</title>\n<ellipse fill=\"none\" stroke=\"black\" cx=\"68.5\" cy=\"-18\" rx=\"18\" ry=\"18\"/>\n<text text-anchor=\"middle\" x=\"68.5\" y=\"-14.3\" font-family=\"Times,serif\" font-size=\"14.00\">2</text>\n</g>\n<!-- 0x7fda7f0737c0&#45;&gt;0x7fda7f783370 -->\n<g id=\"edge3\" class=\"edge\">\n<title>0x7fda7f0737c0&#45;&gt;0x7fda7f783370</title>\n<path fill=\"none\" stroke=\"black\" d=\"M37.18,-73.81C42.32,-64.82 48.94,-53.23 54.77,-43.03\"/>\n<polygon fill=\"black\" stroke=\"black\" points=\"57.91,-44.58 59.84,-34.16 51.84,-41.11 57.91,-44.58\"/>\n</g>\n</g>\n</svg>\n",
            "text/plain": [
              "<graphviz.dot.Digraph at 0x7fda7f7831f0>"
            ]
          },
          "metadata": {},
          "output_type": "display_data"
        },
        {
          "data": {
            "image/svg+xml": "<?xml version=\"1.0\" encoding=\"UTF-8\" standalone=\"no\"?>\n<!DOCTYPE svg PUBLIC \"-//W3C//DTD SVG 1.1//EN\"\n \"http://www.w3.org/Graphics/SVG/1.1/DTD/svg11.dtd\">\n<!-- Generated by graphviz version 2.48.0 (20210717.2242)\n -->\n<!-- Pages: 1 -->\n<svg width=\"135pt\" height=\"188pt\"\n viewBox=\"0.00 0.00 134.50 188.00\" xmlns=\"http://www.w3.org/2000/svg\" xmlns:xlink=\"http://www.w3.org/1999/xlink\">\n<g id=\"graph0\" class=\"graph\" transform=\"scale(1 1) rotate(0) translate(4 184)\">\n<polygon fill=\"white\" stroke=\"transparent\" points=\"-4,4 -4,-184 130.5,-184 130.5,4 -4,4\"/>\n<!-- 0x7fda7f0735b0 -->\n<g id=\"node1\" class=\"node\">\n<title>0x7fda7f0735b0</title>\n<ellipse fill=\"none\" stroke=\"black\" cx=\"98\" cy=\"-162\" rx=\"18\" ry=\"18\"/>\n<text text-anchor=\"middle\" x=\"98\" y=\"-158.3\" font-family=\"Times,serif\" font-size=\"14.00\">1</text>\n</g>\n<!-- 0x7fda7f783a30 -->\n<g id=\"node2\" class=\"node\">\n<title>0x7fda7f783a30</title>\n<ellipse fill=\"none\" stroke=\"black\" cx=\"58\" cy=\"-90\" rx=\"18\" ry=\"18\"/>\n<text text-anchor=\"middle\" x=\"58\" y=\"-86.3\" font-family=\"Times,serif\" font-size=\"14.00\">2</text>\n</g>\n<!-- 0x7fda7f0735b0&#45;&gt;0x7fda7f783a30 -->\n<g id=\"edge1\" class=\"edge\">\n<title>0x7fda7f0735b0&#45;&gt;0x7fda7f783a30</title>\n<path fill=\"none\" stroke=\"black\" d=\"M89.32,-145.81C84.18,-136.82 77.56,-125.23 71.73,-115.03\"/>\n<polygon fill=\"black\" stroke=\"black\" points=\"74.66,-113.11 66.66,-106.16 68.59,-116.58 74.66,-113.11\"/>\n</g>\n<!-- 0x7fda7f0735b0invis_m -->\n<!-- 0x7fda7f0735b0&#45;&gt;0x7fda7f0735b0invis_m -->\n<!-- 0x7fda7f0735b0invis_r -->\n<!-- 0x7fda7f0735b0&#45;&gt;0x7fda7f0735b0invis_r -->\n<!-- 0x7fda7f8759d0 -->\n<g id=\"node3\" class=\"node\">\n<title>0x7fda7f8759d0</title>\n<ellipse fill=\"none\" stroke=\"black\" cx=\"18\" cy=\"-18\" rx=\"18\" ry=\"18\"/>\n<text text-anchor=\"middle\" x=\"18\" y=\"-14.3\" font-family=\"Times,serif\" font-size=\"14.00\">3</text>\n</g>\n<!-- 0x7fda7f783a30&#45;&gt;0x7fda7f8759d0 -->\n<g id=\"edge2\" class=\"edge\">\n<title>0x7fda7f783a30&#45;&gt;0x7fda7f8759d0</title>\n<path fill=\"none\" stroke=\"black\" d=\"M49.32,-73.81C44.18,-64.82 37.56,-53.23 31.73,-43.03\"/>\n<polygon fill=\"black\" stroke=\"black\" points=\"34.66,-41.11 26.66,-34.16 28.59,-44.58 34.66,-41.11\"/>\n</g>\n<!-- 0x7fda7f783a30invis_m -->\n<!-- 0x7fda7f783a30&#45;&gt;0x7fda7f783a30invis_m -->\n<!-- 0x7fda7f783a30invis_r -->\n<!-- 0x7fda7f783a30&#45;&gt;0x7fda7f783a30invis_r -->\n</g>\n</svg>\n",
            "text/plain": [
              "<graphviz.dot.Digraph at 0x7fda7f34ed30>"
            ]
          },
          "metadata": {},
          "output_type": "display_data"
        },
        {
          "data": {
            "image/svg+xml": "<?xml version=\"1.0\" encoding=\"UTF-8\" standalone=\"no\"?>\n<!DOCTYPE svg PUBLIC \"-//W3C//DTD SVG 1.1//EN\"\n \"http://www.w3.org/Graphics/SVG/1.1/DTD/svg11.dtd\">\n<!-- Generated by graphviz version 2.48.0 (20210717.2242)\n -->\n<!-- Pages: 1 -->\n<svg width=\"175pt\" height=\"260pt\"\n viewBox=\"0.00 0.00 174.50 260.00\" xmlns=\"http://www.w3.org/2000/svg\" xmlns:xlink=\"http://www.w3.org/1999/xlink\">\n<g id=\"graph0\" class=\"graph\" transform=\"scale(1 1) rotate(0) translate(4 256)\">\n<polygon fill=\"white\" stroke=\"transparent\" points=\"-4,4 -4,-256 170.5,-256 170.5,4 -4,4\"/>\n<!-- 0x7fda7f3b46d0 -->\n<g id=\"node1\" class=\"node\">\n<title>0x7fda7f3b46d0</title>\n<ellipse fill=\"none\" stroke=\"black\" cx=\"28.5\" cy=\"-234\" rx=\"18\" ry=\"18\"/>\n<text text-anchor=\"middle\" x=\"28.5\" y=\"-230.3\" font-family=\"Times,serif\" font-size=\"14.00\">1</text>\n</g>\n<!-- 0x7fda7f3b46d0invis_l -->\n<!-- 0x7fda7f3b46d0&#45;&gt;0x7fda7f3b46d0invis_l -->\n<!-- 0x7fda7f3b46d0invis_m -->\n<!-- 0x7fda7f3b46d0&#45;&gt;0x7fda7f3b46d0invis_m -->\n<!-- 0x7fda7f26fd60 -->\n<g id=\"node4\" class=\"node\">\n<title>0x7fda7f26fd60</title>\n<ellipse fill=\"none\" stroke=\"black\" cx=\"68.5\" cy=\"-162\" rx=\"18\" ry=\"18\"/>\n<text text-anchor=\"middle\" x=\"68.5\" y=\"-158.3\" font-family=\"Times,serif\" font-size=\"14.00\">2</text>\n</g>\n<!-- 0x7fda7f3b46d0&#45;&gt;0x7fda7f26fd60 -->\n<g id=\"edge3\" class=\"edge\">\n<title>0x7fda7f3b46d0&#45;&gt;0x7fda7f26fd60</title>\n<path fill=\"none\" stroke=\"black\" d=\"M37.18,-217.81C42.32,-208.82 48.94,-197.23 54.77,-187.03\"/>\n<polygon fill=\"black\" stroke=\"black\" points=\"57.91,-188.58 59.84,-178.16 51.84,-185.11 57.91,-188.58\"/>\n</g>\n<!-- 0x7fda7f26fd60invis_l -->\n<!-- 0x7fda7f26fd60&#45;&gt;0x7fda7f26fd60invis_l -->\n<!-- 0x7fda7f26fd60invis_m -->\n<!-- 0x7fda7f26fd60&#45;&gt;0x7fda7f26fd60invis_m -->\n<!-- 0x7fda7f26fd00 -->\n<g id=\"node7\" class=\"node\">\n<title>0x7fda7f26fd00</title>\n<ellipse fill=\"none\" stroke=\"black\" cx=\"108.5\" cy=\"-90\" rx=\"18\" ry=\"18\"/>\n<text text-anchor=\"middle\" x=\"108.5\" y=\"-86.3\" font-family=\"Times,serif\" font-size=\"14.00\">3</text>\n</g>\n<!-- 0x7fda7f26fd60&#45;&gt;0x7fda7f26fd00 -->\n<g id=\"edge6\" class=\"edge\">\n<title>0x7fda7f26fd60&#45;&gt;0x7fda7f26fd00</title>\n<path fill=\"none\" stroke=\"black\" d=\"M77.18,-145.81C82.32,-136.82 88.94,-125.23 94.77,-115.03\"/>\n<polygon fill=\"black\" stroke=\"black\" points=\"97.91,-116.58 99.84,-106.16 91.84,-113.11 97.91,-116.58\"/>\n</g>\n<!-- 0x7fda7f26fd00invis_l -->\n<!-- 0x7fda7f26fd00&#45;&gt;0x7fda7f26fd00invis_l -->\n<!-- 0x7fda7f26fd00invis_m -->\n<!-- 0x7fda7f26fd00&#45;&gt;0x7fda7f26fd00invis_m -->\n<!-- 0x7fda7f26fa90 -->\n<g id=\"node10\" class=\"node\">\n<title>0x7fda7f26fa90</title>\n<ellipse fill=\"none\" stroke=\"black\" cx=\"148.5\" cy=\"-18\" rx=\"18\" ry=\"18\"/>\n<text text-anchor=\"middle\" x=\"148.5\" y=\"-14.3\" font-family=\"Times,serif\" font-size=\"14.00\">4</text>\n</g>\n<!-- 0x7fda7f26fd00&#45;&gt;0x7fda7f26fa90 -->\n<g id=\"edge9\" class=\"edge\">\n<title>0x7fda7f26fd00&#45;&gt;0x7fda7f26fa90</title>\n<path fill=\"none\" stroke=\"black\" d=\"M117.18,-73.81C122.32,-64.82 128.94,-53.23 134.77,-43.03\"/>\n<polygon fill=\"black\" stroke=\"black\" points=\"137.91,-44.58 139.84,-34.16 131.84,-41.11 137.91,-44.58\"/>\n</g>\n</g>\n</svg>\n",
            "text/plain": [
              "<graphviz.dot.Digraph at 0x7fda7f783a30>"
            ]
          },
          "metadata": {},
          "output_type": "display_data"
        }
      ],
      "source": [
        "from helper import array_to_tree\n",
        "from visualizer import visualize_binary_tree\n",
        "# Your Codec object will be instantiated and called as such:\n",
        "root = array_to_tree([1,2,3,None,None,4,5])\n",
        "ser = Codec()\n",
        "deser = Codec()\n",
        "ans = deser.deserialize(ser.serialize(root))\n",
        "visualize_binary_tree(ans)\n",
        "assert is_same_tree(root, ans) == True\n",
        "\n",
        "root = None\n",
        "ser = Codec()\n",
        "deser = Codec()\n",
        "ans = deser.deserialize(ser.serialize(root))\n",
        "assert is_same_tree(root, ans) == True\n",
        "\n",
        "root = array_to_tree([1,None,2])\n",
        "ser = Codec()\n",
        "deser = Codec()\n",
        "ans = deser.deserialize(ser.serialize(root))\n",
        "visualize_binary_tree(ans)\n",
        "assert is_same_tree(root, ans) == True\n",
        "\n",
        "root = array_to_tree([1,2,None,3])\n",
        "ser = Codec()\n",
        "deser = Codec()\n",
        "ans = deser.deserialize(ser.serialize(root))\n",
        "visualize_binary_tree(ans)\n",
        "assert is_same_tree(root, ans) == True\n",
        "\n",
        "root = TreeNode(1)\n",
        "root.right = TreeNode(2)\n",
        "root.right.right = TreeNode(3)\n",
        "root.right.right.right = TreeNode(4)\n",
        "ser = Codec()\n",
        "deser = Codec()\n",
        "ans = deser.deserialize(ser.serialize(root))\n",
        "visualize_binary_tree(ans)\n",
        "assert is_same_tree(root, ans) == True"
      ]
    },
    {
      "cell_type": "code",
      "execution_count": 15,
      "metadata": {},
      "outputs": [
        {
          "data": {
            "text/markdown": [
              "😃 Result: Accepted\n",
              "\n",
              "📥 Input: ``\n",
              "\n",
              "📤 Output: ``\n",
              "\n",
              "✅ Expected: ``\n",
              "\n",
              "💯 Passed Test Case: 52 / 52\n",
              "\n",
              "🚀 Runtime: 270 ms, Memory: 20.1 MB\n",
              "\n",
              "🉑 Runtime Percentile: better than 49.90%, Memory Percentile: better than 45.90%\n",
              "\n",
              "📆 Finished At: 2022-02-19"
            ],
            "text/plain": [
              "<IPython.core.display.Markdown object>"
            ]
          },
          "metadata": {},
          "output_type": "display_data"
        }
      ],
      "source": [
        "import sys, os; sys.path.append(os.path.abspath('..'))\n",
        "from submitter import submit\n",
        "submit(297)"
      ]
    }
  ],
  "metadata": {
    "authors": [
      {
        "name": "Soros Liu"
      }
    ],
    "kernelspec": {
      "display_name": "Python 3",
      "language": "python",
      "name": "python3"
    },
    "language_info": {
      "codemirror_mode": {
        "name": "ipython",
        "version": 3
      },
      "file_extension": ".py",
      "mimetype": "text/x-python",
      "name": "python",
      "nbconvert_exporter": "python",
      "pygments_lexer": "ipython3",
      "version": "3.8.6"
    },
    "leetcode_question_info": {
      "questionFrontendId": "297",
      "questionId": "297",
      "sampleTestCase": "[1,2,3,null,null,4,5]",
      "submitUrl": "/problems/serialize-and-deserialize-binary-tree/submit/"
    }
  },
  "nbformat": 4,
  "nbformat_minor": 2
}
