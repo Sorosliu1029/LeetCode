{
  "cells": [
    {
      "cell_type": "markdown",
      "metadata": {},
      "source": [
        "### 257. Binary Tree Paths"
      ]
    },
    {
      "cell_type": "markdown",
      "metadata": {},
      "source": [
        "#### Content\n",
        "<p>Given the <code>root</code> of a binary tree, return <em>all root-to-leaf paths in <strong>any order</strong></em>.</p>\n",
        "\n",
        "<p>A <strong>leaf</strong> is a node with no children.</p>\n",
        "\n",
        "<p>&nbsp;</p>\n",
        "<p><strong>Example 1:</strong></p>\n",
        "<img alt=\"\" src=\"https://assets.leetcode.com/uploads/2021/03/12/paths-tree.jpg\" style=\"width: 207px; height: 293px;\" />\n",
        "<pre>\n",
        "<strong>Input:</strong> root = [1,2,3,null,5]\n",
        "<strong>Output:</strong> [&quot;1-&gt;2-&gt;5&quot;,&quot;1-&gt;3&quot;]\n",
        "</pre>\n",
        "\n",
        "<p><strong>Example 2:</strong></p>\n",
        "\n",
        "<pre>\n",
        "<strong>Input:</strong> root = [1]\n",
        "<strong>Output:</strong> [&quot;1&quot;]\n",
        "</pre>\n",
        "\n",
        "<p>&nbsp;</p>\n",
        "<p><strong>Constraints:</strong></p>\n",
        "\n",
        "<ul>\n",
        "\t<li>The number of nodes in the tree is in the range <code>[1, 100]</code>.</li>\n",
        "\t<li><code>-100 &lt;= Node.val &lt;= 100</code></li>\n",
        "</ul>\n"
      ]
    },
    {
      "cell_type": "markdown",
      "metadata": {},
      "source": [
        "#### Difficulty: Easy, AC rate: 57.7%\n",
        "\n",
        "#### Question Tags:\n",
        "- String\n",
        "- Backtracking\n",
        "- Tree\n",
        "- Depth-First Search\n",
        "- Binary Tree\n",
        "\n",
        "#### Links:\n",
        " 🎁 [Question Detail](https://leetcode.com/problems/binary-tree-paths/description/) | 🎉 [Question Solution](https://leetcode.com/problems/binary-tree-paths/solution/) | 💬 [Question Discussion](https://leetcode.com/problems/binary-tree-paths/discuss/?orderBy=most_votes)\n",
        "\n",
        "#### Hints:\n"
      ]
    },
    {
      "cell_type": "markdown",
      "metadata": {},
      "source": [
        "#### Sample Test Case\n",
        "[1,2,3,null,5]"
      ]
    },
    {
      "cell_type": "markdown",
      "metadata": {},
      "source": [
        "---\n",
        "What's your idea?\n",
        "\n",
        "DFS\n",
        "\n",
        "---"
      ]
    },
    {
      "cell_type": "code",
      "execution_count": 62,
      "metadata": {
        "isSolutionCode": true
      },
      "outputs": [],
      "source": [
        "from typing import Optional, List\n",
        "# Definition for a binary tree node.\n",
        "class TreeNode:\n",
        "    def __init__(self, val=0, left=None, right=None):\n",
        "        self.val = val\n",
        "        self.left = left\n",
        "        self.right = right\n",
        "\n",
        "class Solution:\n",
        "    def binaryTreePaths(self, root: Optional[TreeNode]) -> List[str]:\n",
        "        if root is None:\n",
        "            return []\n",
        "        if root.left is None and root.right is None:\n",
        "            return [str(root.val)]\n",
        "        return [str(root.val) + '->' + l \n",
        "            for l in self.binaryTreePaths(root.left) + self.binaryTreePaths(root.right)]"
      ]
    },
    {
      "cell_type": "code",
      "execution_count": 65,
      "metadata": {},
      "outputs": [
        {
          "name": "stdout",
          "output_type": "stream",
          "text": [
            "['1->2->5', '1->3']\n",
            "['1']\n",
            "[]\n"
          ]
        }
      ],
      "source": [
        "from helper import array_to_tree\n",
        "s = Solution()\n",
        "\n",
        "t = array_to_tree([1,2,3,None,5])\n",
        "print(s.binaryTreePaths(t))\n",
        "\n",
        "t = TreeNode(1)\n",
        "print(s.binaryTreePaths(t))\n",
        "\n",
        "t = None\n",
        "print(s.binaryTreePaths(t))"
      ]
    },
    {
      "cell_type": "code",
      "execution_count": 66,
      "metadata": {},
      "outputs": [
        {
          "data": {
            "text/markdown": [
              "😃 Result: Accepted\n",
              "\n",
              "📥 Input: ``\n",
              "\n",
              "📤 Output: ``\n",
              "\n",
              "✅ Expected: ``\n",
              "\n",
              "💯 Passed Test Case: 208 / 208\n",
              "\n",
              "🚀 Runtime: 54 ms, Memory: 14 MB\n",
              "\n",
              "🉑 Runtime Percentile: better than 29.77%, Memory Percentile: better than 70.90%\n",
              "\n",
              "📆 Finished At: 2022-02-13"
            ],
            "text/plain": [
              "<IPython.core.display.Markdown object>"
            ]
          },
          "metadata": {},
          "output_type": "display_data"
        }
      ],
      "source": [
        "import sys, os; sys.path.append(os.path.abspath('..'))\n",
        "from submitter import submit\n",
        "submit(257)"
      ]
    }
  ],
  "metadata": {
    "authors": [
      {
        "name": "Soros Liu"
      }
    ],
    "kernelspec": {
      "display_name": "Python 3",
      "language": "python",
      "name": "python3"
    },
    "language_info": {
      "codemirror_mode": {
        "name": "ipython",
        "version": 3
      },
      "file_extension": ".py",
      "mimetype": "text/x-python",
      "name": "python",
      "nbconvert_exporter": "python",
      "pygments_lexer": "ipython3",
      "version": "3.8.6"
    },
    "leetcode_question_info": {
      "questionFrontendId": "257",
      "questionId": "257",
      "sampleTestCase": "[1,2,3,null,5]",
      "submitUrl": "/problems/binary-tree-paths/submit/"
    }
  },
  "nbformat": 4,
  "nbformat_minor": 2
}
