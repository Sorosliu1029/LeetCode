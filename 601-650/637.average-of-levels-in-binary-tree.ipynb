{
  "cells": [
    {
      "cell_type": "markdown",
      "metadata": {},
      "source": [
        "### 637. Average of Levels in Binary Tree"
      ]
    },
    {
      "cell_type": "markdown",
      "metadata": {},
      "source": [
        "#### Content\n",
        "Given the <code>root</code> of a binary tree, return <em>the average value of the nodes on each level in the form of an array</em>. Answers within <code>10<sup>-5</sup></code> of the actual answer will be accepted.\n",
        "<p>&nbsp;</p>\n",
        "<p><strong>Example 1:</strong></p>\n",
        "<img alt=\"\" src=\"https://assets.leetcode.com/uploads/2021/03/09/avg1-tree.jpg\" style=\"width: 277px; height: 302px;\" />\n",
        "<pre>\n",
        "<strong>Input:</strong> root = [3,9,20,null,null,15,7]\n",
        "<strong>Output:</strong> [3.00000,14.50000,11.00000]\n",
        "Explanation: The average value of nodes on level 0 is 3, on level 1 is 14.5, and on level 2 is 11.\n",
        "Hence return [3, 14.5, 11].\n",
        "</pre>\n",
        "\n",
        "<p><strong>Example 2:</strong></p>\n",
        "<img alt=\"\" src=\"https://assets.leetcode.com/uploads/2021/03/09/avg2-tree.jpg\" style=\"width: 292px; height: 302px;\" />\n",
        "<pre>\n",
        "<strong>Input:</strong> root = [3,9,20,15,7]\n",
        "<strong>Output:</strong> [3.00000,14.50000,11.00000]\n",
        "</pre>\n",
        "\n",
        "<p>&nbsp;</p>\n",
        "<p><strong>Constraints:</strong></p>\n",
        "\n",
        "<ul>\n",
        "\t<li>The number of nodes in the tree is in the range <code>[1, 10<sup>4</sup>]</code>.</li>\n",
        "\t<li><code>-2<sup>31</sup> &lt;= Node.val &lt;= 2<sup>31</sup> - 1</code></li>\n",
        "</ul>\n"
      ]
    },
    {
      "cell_type": "markdown",
      "metadata": {},
      "source": [
        "#### Difficulty: Easy, AC rate: 68.1%\n",
        "\n",
        "#### Question Tags:\n",
        "- Tree\n",
        "- Depth-First Search\n",
        "- Breadth-First Search\n",
        "- Binary Tree\n",
        "\n",
        "#### Links:\n",
        " 🎁 [Question Detail](https://leetcode.com/problems/average-of-levels-in-binary-tree/description/) | 🎉 [Question Solution](https://leetcode.com/problems/average-of-levels-in-binary-tree/solution/) | 💬 [Question Discussion](https://leetcode.com/problems/average-of-levels-in-binary-tree/discuss/?orderBy=most_votes)\n",
        "\n",
        "#### Hints:\n"
      ]
    },
    {
      "cell_type": "markdown",
      "metadata": {},
      "source": [
        "#### Sample Test Case\n",
        "[3,9,20,null,null,15,7]"
      ]
    },
    {
      "cell_type": "markdown",
      "metadata": {},
      "source": [
        "---\n",
        "What's your idea?\n",
        "\n",
        "BFS\n",
        "\n",
        "---"
      ]
    },
    {
      "cell_type": "code",
      "execution_count": 95,
      "metadata": {
        "isSolutionCode": true
      },
      "outputs": [],
      "source": [
        "from typing import Optional, List\n",
        "# Definition for a binary tree node.\n",
        "class TreeNode:\n",
        "    def __init__(self, val=0, left=None, right=None):\n",
        "        self.val = val\n",
        "        self.left = left\n",
        "        self.right = right\n",
        "\n",
        "class Solution:\n",
        "    def averageOfLevels(self, root: Optional[TreeNode]) -> List[float]:\n",
        "        if root is None:\n",
        "            return []\n",
        "        levels = []\n",
        "        cur = [root]\n",
        "        while cur:\n",
        "            levels.append(sum([n.val for n in cur]) / len(cur))\n",
        "            nxt = []\n",
        "            for n in cur:\n",
        "                if n.left is not None:\n",
        "                    nxt.append(n.left)\n",
        "                if n.right is not None:\n",
        "                    nxt.append(n.right)\n",
        "            cur = nxt\n",
        "        return levels"
      ]
    },
    {
      "cell_type": "code",
      "execution_count": 97,
      "metadata": {},
      "outputs": [],
      "source": [
        "from helper import array_to_tree\n",
        "s = Solution()\n",
        "\n",
        "t = array_to_tree([3,9,20,None,None,15,7])\n",
        "assert s.averageOfLevels(t) == [3.00000,14.50000,11.00000]\n",
        "\n",
        "t = array_to_tree([3,9,20,15,7])\n",
        "assert s.averageOfLevels(t) == [3.00000,14.50000,11.00000]\n",
        "\n",
        "t = array_to_tree([1])\n",
        "assert s.averageOfLevels(t) == [1.0]"
      ]
    },
    {
      "cell_type": "code",
      "execution_count": 98,
      "metadata": {},
      "outputs": [
        {
          "data": {
            "text/markdown": [
              "😃 Result: Accepted\n",
              "\n",
              "📥 Input: ``\n",
              "\n",
              "📤 Output: ``\n",
              "\n",
              "✅ Expected: ``\n",
              "\n",
              "💯 Passed Test Case: 66 / 66\n",
              "\n",
              "🚀 Runtime: 66 ms, Memory: 16.5 MB\n",
              "\n",
              "🉑 Runtime Percentile: better than 51.78%, Memory Percentile: better than 63.98%\n",
              "\n",
              "📆 Finished At: 2022-02-13"
            ],
            "text/plain": [
              "<IPython.core.display.Markdown object>"
            ]
          },
          "metadata": {},
          "output_type": "display_data"
        }
      ],
      "source": [
        "import sys, os; sys.path.append(os.path.abspath('..'))\n",
        "from submitter import submit\n",
        "submit(637)"
      ]
    }
  ],
  "metadata": {
    "authors": [
      {
        "name": "Soros Liu"
      }
    ],
    "kernelspec": {
      "display_name": "Python 3",
      "language": "python",
      "name": "python3"
    },
    "leetcode_question_info": {
      "questionFrontendId": "637",
      "questionId": "637",
      "sampleTestCase": "[3,9,20,null,null,15,7]",
      "submitUrl": "/problems/average-of-levels-in-binary-tree/submit/"
    }
  },
  "nbformat": 4,
  "nbformat_minor": 2
}
