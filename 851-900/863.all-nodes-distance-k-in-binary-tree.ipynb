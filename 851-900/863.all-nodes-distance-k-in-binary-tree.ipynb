{
  "cells": [
    {
      "cell_type": "markdown",
      "metadata": {},
      "source": [
        "### 863. All Nodes Distance K in Binary Tree"
      ]
    },
    {
      "cell_type": "markdown",
      "metadata": {},
      "source": [
        "#### Content\n",
        "<p>Given the <code>root</code> of a binary tree, the value of a target node <code>target</code>, and an integer <code>k</code>, return <em>an array of the values of all nodes that have a distance </em><code>k</code><em> from the target node.</em></p>\n",
        "\n",
        "<p>You can return the answer in <strong>any order</strong>.</p>\n",
        "\n",
        "<p>&nbsp;</p>\n",
        "<p><strong>Example 1:</strong></p>\n",
        "<img alt=\"\" src=\"https://s3-lc-upload.s3.amazonaws.com/uploads/2018/06/28/sketch0.png\" style=\"width: 500px; height: 429px;\" />\n",
        "<pre>\n",
        "<strong>Input:</strong> root = [3,5,1,6,2,0,8,null,null,7,4], target = 5, k = 2\n",
        "<strong>Output:</strong> [7,4,1]\n",
        "Explanation: The nodes that are a distance 2 from the target node (with value 5) have values 7, 4, and 1.\n",
        "</pre>\n",
        "\n",
        "<p><strong>Example 2:</strong></p>\n",
        "\n",
        "<pre>\n",
        "<strong>Input:</strong> root = [1], target = 1, k = 3\n",
        "<strong>Output:</strong> []\n",
        "</pre>\n",
        "\n",
        "<p>&nbsp;</p>\n",
        "<p><strong>Constraints:</strong></p>\n",
        "\n",
        "<ul>\n",
        "\t<li>The number of nodes in the tree is in the range <code>[1, 500]</code>.</li>\n",
        "\t<li><code>0 &lt;= Node.val &lt;= 500</code></li>\n",
        "\t<li>All the values <code>Node.val</code> are <strong>unique</strong>.</li>\n",
        "\t<li><code>target</code> is the value of one of the nodes in the tree.</li>\n",
        "\t<li><code>0 &lt;= k &lt;= 1000</code></li>\n",
        "</ul>\n"
      ]
    },
    {
      "cell_type": "markdown",
      "metadata": {},
      "source": [
        "#### Difficulty: Medium, AC rate: 60.6%\n",
        "\n",
        "#### Question Tags:\n",
        "- Tree\n",
        "- Depth-First Search\n",
        "- Breadth-First Search\n",
        "- Binary Tree\n",
        "\n",
        "#### Links:\n",
        " 🎁 [Question Detail](https://leetcode.com/problems/all-nodes-distance-k-in-binary-tree/description/) | 🎉 [Question Solution](https://leetcode.com/problems/all-nodes-distance-k-in-binary-tree/solution/) | 💬 [Question Discussion](https://leetcode.com/problems/all-nodes-distance-k-in-binary-tree/discuss/?orderBy=most_votes)\n",
        "\n",
        "#### Hints:\n"
      ]
    },
    {
      "cell_type": "markdown",
      "metadata": {},
      "source": [
        "#### Sample Test Case\n",
        "[3,5,1,6,2,0,8,null,null,7,4]\n",
        "5\n",
        "2"
      ]
    },
    {
      "cell_type": "markdown",
      "metadata": {},
      "source": [
        "---\n",
        "What's your idea?\n",
        "\n",
        "总体思路是在target上往下找和往上找\n",
        "\n",
        "- 找到根节点到 target 的路径 path\n",
        "- 沿着 target 往根节点的路径回溯，沿途添加对侧子树的 `distance_n_from_root` 结果（即离根节点距离为n的所有节点）\n",
        "\n",
        "---"
      ]
    },
    {
      "cell_type": "code",
      "execution_count": 11,
      "metadata": {
        "isSolutionCode": true
      },
      "outputs": [],
      "source": [
        "from typing import List\n",
        "# Definition for a binary tree node.\n",
        "class TreeNode:\n",
        "    def __init__(self, x, left = None, right = None):\n",
        "        self.val = x\n",
        "        self.left = left\n",
        "        self.right = right\n",
        "\n",
        "class Solution:\n",
        "    def distanceK(self, root: TreeNode, target: TreeNode, k: int) -> List[int]:\n",
        "        path = []\n",
        "        self.add_to_path(root, target.val, path)\n",
        "        r = []\n",
        "        reversed_path = list(reversed(path))\n",
        "        path_len = len(reversed_path)\n",
        "        r += self.distance_n_from_root(reversed_path[0], k)\n",
        "        for i in range(1, min(k, path_len)):\n",
        "            r += self.distance_n_from_root(\n",
        "                    (reversed_path[i].left if reversed_path[i-1] is reversed_path[i].right else reversed_path[i].right), \n",
        "                    k-i-1,\n",
        "                )\n",
        "        if k and path_len > k:\n",
        "            r.append(reversed_path[k].val)\n",
        "        return r\n",
        "\n",
        "    def add_to_path(self, node, val, path):\n",
        "        if node is None:\n",
        "            return False\n",
        "\n",
        "        path.append(node)\n",
        "        if node.val == val:\n",
        "            return True\n",
        "        left_found = self.add_to_path(node.left, val, path)\n",
        "        if left_found:\n",
        "            return left_found\n",
        "        right_found = self.add_to_path(node.right, val, path)\n",
        "        if right_found:\n",
        "            return right_found\n",
        "        path.pop()\n",
        "        return False\n",
        "    \n",
        "    def distance_n_from_root(self, node, n):\n",
        "        if node is None:\n",
        "            return []\n",
        "        if n == 0:\n",
        "            return [node.val]\n",
        "        return self.distance_n_from_root(node.left, n-1) + self.distance_n_from_root(node.right, n-1)"
      ]
    },
    {
      "cell_type": "code",
      "execution_count": 23,
      "metadata": {},
      "outputs": [],
      "source": [
        "from helper import array_to_tree\n",
        "s = Solution()\n",
        "\n",
        "t = array_to_tree([3,5,1,6,2,0,8,None,None,7,4])\n",
        "assert s.distanceK(t, TreeNode(5), 2) == [7,4,1]\n",
        "assert s.distanceK(t, TreeNode(5), 1) == [6,2,3]\n",
        "assert s.distanceK(t, TreeNode(5), 3) == [0,8]\n",
        "assert s.distanceK(t, TreeNode(6), 2) == [2,3]\n",
        "assert s.distanceK(t, TreeNode(6), 3) == [7,4,1]\n",
        "assert s.distanceK(t, TreeNode(3), 2) == [6,2,0,8]\n",
        "assert s.distanceK(t, TreeNode(3), 1) == [5,1]\n",
        "assert s.distanceK(t, TreeNode(3), 0) == [3]\n",
        "assert s.distanceK(t, TreeNode(3), 3) == [7,4]\n",
        "\n",
        "t = array_to_tree([1])\n",
        "assert s.distanceK(t, TreeNode(1), 3) == []\n",
        "\n",
        "t = array_to_tree([0,1,None,3,2])\n",
        "assert s.distanceK(t, TreeNode(2), 1) == [1]\n",
        "\n",
        "t = TreeNode(0,\n",
        "  TreeNode(1,\n",
        "    None,\n",
        "    TreeNode(2,\n",
        "      None,\n",
        "      TreeNode(3,\n",
        "        None,\n",
        "        TreeNode(4)\n",
        "      )\n",
        "    )\n",
        "  ),\n",
        ")\n",
        "assert s.distanceK(t, TreeNode(3), 0) == [3]"
      ]
    },
    {
      "cell_type": "code",
      "execution_count": 24,
      "metadata": {},
      "outputs": [
        {
          "data": {
            "text/markdown": [
              "😃 Result: Accepted\n",
              "\n",
              "📥 Input: ``\n",
              "\n",
              "📤 Output: ``\n",
              "\n",
              "✅ Expected: ``\n",
              "\n",
              "💯 Passed Test Case: 57 / 57\n",
              "\n",
              "🚀 Runtime: 40 ms, Memory: 14.4 MB\n",
              "\n",
              "🉑 Runtime Percentile: better than 77.73%, Memory Percentile: better than 81.50%\n",
              "\n",
              "📆 Finished At: 2022-02-17"
            ],
            "text/plain": [
              "<IPython.core.display.Markdown object>"
            ]
          },
          "metadata": {},
          "output_type": "display_data"
        }
      ],
      "source": [
        "import sys, os; sys.path.append(os.path.abspath('..'))\n",
        "from submitter import submit\n",
        "submit(863)"
      ]
    }
  ],
  "metadata": {
    "authors": [
      {
        "name": "Soros Liu"
      }
    ],
    "kernelspec": {
      "display_name": "Python 3",
      "language": "python",
      "name": "python3"
    },
    "language_info": {
      "codemirror_mode": {
        "name": "ipython",
        "version": 3
      },
      "file_extension": ".py",
      "mimetype": "text/x-python",
      "name": "python",
      "nbconvert_exporter": "python",
      "pygments_lexer": "ipython3",
      "version": "3.8.6"
    },
    "leetcode_question_info": {
      "questionFrontendId": "863",
      "questionId": "893",
      "sampleTestCase": "[3,5,1,6,2,0,8,null,null,7,4]\n5\n2",
      "submitUrl": "/problems/all-nodes-distance-k-in-binary-tree/submit/"
    }
  },
  "nbformat": 4,
  "nbformat_minor": 2
}
