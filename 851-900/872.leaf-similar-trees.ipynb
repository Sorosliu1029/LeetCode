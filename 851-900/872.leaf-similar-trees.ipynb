{
 "cells": [
  {
   "cell_type": "markdown",
   "metadata": {
    "id": "title"
   },
   "source": [
    "### 872. Leaf-Similar Trees"
   ]
  },
  {
   "cell_type": "markdown",
   "metadata": {
    "id": "content"
   },
   "source": [
    "<p>Consider all the leaves of a binary tree, from&nbsp;left to right order, the values of those&nbsp;leaves form a <strong>leaf value sequence</strong><em>.</em></p>\n",
    "\n",
    "<p><img alt=\"\" src=\"https://s3-lc-upload.s3.amazonaws.com/uploads/2018/07/16/tree.png\" style=\"width: 400px; height: 336px;\" /></p>\n",
    "\n",
    "<p>For example, in the given tree above, the leaf value sequence is <code>(6, 7, 4, 9, 8)</code>.</p>\n",
    "\n",
    "<p>Two binary trees are considered <em>leaf-similar</em>&nbsp;if their leaf value sequence is the same.</p>\n",
    "\n",
    "<p>Return <code>true</code> if and only if the two given trees with head nodes <code>root1</code> and <code>root2</code> are leaf-similar.</p>\n",
    "\n",
    "<p>&nbsp;</p>\n",
    "<p><strong class=\"example\">Example 1:</strong></p>\n",
    "<img alt=\"\" src=\"https://assets.leetcode.com/uploads/2020/09/03/leaf-similar-1.jpg\" style=\"width: 600px; height: 237px;\" />\n",
    "<pre>\n",
    "<strong>Input:</strong> root1 = [3,5,1,6,2,9,8,null,null,7,4], root2 = [3,5,1,6,7,4,2,null,null,null,null,null,null,9,8]\n",
    "<strong>Output:</strong> true\n",
    "</pre>\n",
    "\n",
    "<p><strong class=\"example\">Example 2:</strong></p>\n",
    "<img alt=\"\" src=\"https://assets.leetcode.com/uploads/2020/09/03/leaf-similar-2.jpg\" style=\"width: 300px; height: 110px;\" />\n",
    "<pre>\n",
    "<strong>Input:</strong> root1 = [1,2,3], root2 = [1,3,2]\n",
    "<strong>Output:</strong> false\n",
    "</pre>\n",
    "\n",
    "<p>&nbsp;</p>\n",
    "<p><strong>Constraints:</strong></p>\n",
    "\n",
    "<ul>\n",
    "\t<li>The number of nodes in each tree will be in the range <code>[1, 200]</code>.</li>\n",
    "\t<li>Both of the given trees will have values in the range <code>[0, 200]</code>.</li>\n",
    "</ul>\n"
   ]
  },
  {
   "cell_type": "markdown",
   "metadata": {
    "id": "extra"
   },
   "source": [
    "#### Difficulty: Easy, AC rate: 70.1%\n",
    "\n",
    "#### Topics:\n",
    "Tree | Depth-First Search | Binary Tree\n",
    "\n",
    "#### Links:\n",
    " 🎁 [Question Detail](https://leetcode.com/problems/leaf-similar-trees/description/) | 🎉 [Question Solution](https://leetcode.com/problems/leaf-similar-trees/solution/) | 💬 [Question Discussion](https://leetcode.com/problems/leaf-similar-trees/discuss/?orderBy=most_votes)\n",
    "\n"
   ]
  },
  {
   "cell_type": "markdown",
   "metadata": {
    "exampleTestcaseList": [
     "[3,5,1,6,2,9,8,null,null,7,4]\n[3,5,1,6,7,4,2,null,null,null,null,null,null,9,8]",
     "[1,2,3]\n[1,3,2]"
    ],
    "id": "test",
    "sampleTestCase": "[3,5,1,6,2,9,8,null,null,7,4]\n[3,5,1,6,7,4,2,null,null,null,null,null,null,9,8]"
   },
   "source": [
    "#### Test Case(s):\n",
    "\n",
    "1. `[3,5,1,6,2,9,8,null,null,7,4]`  \n",
    "`[3,5,1,6,7,4,2,null,null,null,null,null,null,9,8]`\n",
    "2. `[1,2,3]`  \n",
    "`[1,3,2]`"
   ]
  },
  {
   "cell_type": "markdown",
   "metadata": {
    "id": "idea"
   },
   "source": [
    "---\n",
    "What's your idea?\n",
    "\n",
    "dfs both tree, return early if one leaf not match\n",
    "\n",
    "---"
   ]
  },
  {
   "cell_type": "code",
   "execution_count": 1,
   "metadata": {
    "id": "pre_code"
   },
   "outputs": [],
   "source": [
    "from typing import Optional\n",
    "\n",
    "# Definition for a binary tree node.\n",
    "class TreeNode:\n",
    "    def __init__(self, val=0, left=None, right=None):\n",
    "        self.val = val\n",
    "        self.left = left\n",
    "        self.right = right"
   ]
  },
  {
   "cell_type": "code",
   "execution_count": 2,
   "metadata": {
    "id": "code",
    "isSolutionCode": true
   },
   "outputs": [],
   "source": [
    "import itertools\n",
    "\n",
    "class Solution:\n",
    "    def dfs(self, tree: TreeNode):\n",
    "        if tree is None:\n",
    "            return\n",
    "        if tree.left is None and tree.right is None:\n",
    "            yield tree.val\n",
    "            return\n",
    "        yield from self.dfs(tree.left)\n",
    "        yield from self.dfs(tree.right)\n",
    "        \n",
    "    def leafSimilar(self, root1: Optional[TreeNode], root2: Optional[TreeNode]) -> bool:\n",
    "        if root1 is None:\n",
    "            return root2 is None\n",
    "        if root2 is None:\n",
    "            return root1 is None\n",
    "        g1 = self.dfs(root1)\n",
    "        g2 = self.dfs(root2)\n",
    "        for e1, e2 in itertools.zip_longest(g1, g2):\n",
    "            if e1 != e2:\n",
    "                return False\n",
    "        return True"
   ]
  },
  {
   "cell_type": "code",
   "execution_count": 3,
   "metadata": {
    "id": "run"
   },
   "outputs": [
    {
     "data": {
      "text/plain": [
       "True"
      ]
     },
     "execution_count": 3,
     "metadata": {},
     "output_type": "execute_result"
    }
   ],
   "source": [
    "s = Solution()\n",
    "from helper import array_to_binary_tree\n",
    "s.leafSimilar(array_to_binary_tree([3,5,1,6,2,9,8,None,None,7,4]), array_to_binary_tree([3,5,1,6,7,4,2,None,None,None,None,None,None,9,8]))"
   ]
  },
  {
   "cell_type": "code",
   "execution_count": 4,
   "metadata": {
    "id": "run_1"
   },
   "outputs": [
    {
     "data": {
      "text/plain": [
       "False"
      ]
     },
     "execution_count": 4,
     "metadata": {},
     "output_type": "execute_result"
    }
   ],
   "source": [
    "s.leafSimilar(array_to_binary_tree([1,2,3]), array_to_binary_tree([1,3,2]))"
   ]
  },
  {
   "cell_type": "code",
   "execution_count": 5,
   "metadata": {},
   "outputs": [
    {
     "data": {
      "text/plain": [
       "False"
      ]
     },
     "execution_count": 5,
     "metadata": {},
     "output_type": "execute_result"
    }
   ],
   "source": [
    "s.leafSimilar(array_to_binary_tree([3,5,1,6,7,4,2,None,None,None,None,None,None,9,11,None,None,8,10]), array_to_binary_tree([3,5,1,6,2,9,8,None,None,7,4]))"
   ]
  },
  {
   "cell_type": "markdown",
   "metadata": {
    "id": "result"
   },
   "source": [
    "😃 Result: Accepted  \n",
    "💯 Passed Test Case: 48 / 48  \n",
    "🚀 Runtime: 0 ms, Memory: 17.8 MB  \n",
    "🉑 Runtime Percentile: better than 100.00%, Memory Percentile: better than 73.78%  \n",
    "📆 Finished At: Mon, 01 Sep 2025 02:39:31 GMT"
   ]
  }
 ],
 "metadata": {
  "authors": [
   {
    "name": "jupyterlab-leetcode"
   }
  ],
  "kernelspec": {
   "display_name": "Python 3 (ipykernel)",
   "language": "python",
   "name": "python3"
  },
  "language_info": {
   "codemirror_mode": {
    "name": "ipython",
    "version": 3
   },
   "file_extension": ".py",
   "mimetype": "text/x-python",
   "name": "python",
   "nbconvert_exporter": "python",
   "pygments_lexer": "ipython3",
   "version": "3.13.5"
  },
  "leetcode_question_info": {
   "exampleTestcaseList": [
    "[3,5,1,6,2,9,8,null,null,7,4]\n[3,5,1,6,7,4,2,null,null,null,null,null,null,9,8]",
    "[1,2,3]\n[1,3,2]"
   ],
   "questionDetailUrl": "/problems/leaf-similar-trees/",
   "questionFrontendId": "872",
   "questionId": "904",
   "sampleTestCase": "[3,5,1,6,2,9,8,null,null,7,4]\n[3,5,1,6,7,4,2,null,null,null,null,null,null,9,8]",
   "submitUrl": "/problems/leaf-similar-trees/submit/"
  },
  "leetcode_submission_result": {
   "code_output": "",
   "compare_result": "111111111111111111111111111111111111111111111111",
   "display_runtime": "0",
   "elapsed_time": 59,
   "expected_output": "",
   "finished": true,
   "lang": "python3",
   "last_testcase": "",
   "memory": 17772000,
   "memory_percentile": 73.7807,
   "pretty_lang": "Python3",
   "question_id": "904",
   "run_success": true,
   "runtime_percentile": 100,
   "state": "SUCCESS",
   "status_code": 10,
   "status_memory": "17.8 MB",
   "status_msg": "Accepted",
   "status_runtime": "0 ms",
   "std_output": "",
   "submission_id": "1755341234",
   "task_finish_time": 1756694371583,
   "task_name": "judger.judgetask.Judge",
   "total_correct": 48,
   "total_testcases": 48
  }
 },
 "nbformat": 4,
 "nbformat_minor": 4
}
