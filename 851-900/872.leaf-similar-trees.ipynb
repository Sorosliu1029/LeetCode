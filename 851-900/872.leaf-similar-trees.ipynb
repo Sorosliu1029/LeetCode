{
 "cells": [
  {
   "cell_type": "markdown",
   "metadata": {
    "id": "title"
   },
   "source": [
    "### 872. Leaf-Similar Trees"
   ]
  },
  {
   "cell_type": "markdown",
   "metadata": {
    "id": "content"
   },
   "source": [
    "<p>Consider all the leaves of a binary tree, from&nbsp;left to right order, the values of those&nbsp;leaves form a <strong>leaf value sequence</strong><em>.</em></p>\n",
    "\n",
    "<p><img alt=\"\" src=\"https://s3-lc-upload.s3.amazonaws.com/uploads/2018/07/16/tree.png\" style=\"width: 400px; height: 336px;\" /></p>\n",
    "\n",
    "<p>For example, in the given tree above, the leaf value sequence is <code>(6, 7, 4, 9, 8)</code>.</p>\n",
    "\n",
    "<p>Two binary trees are considered <em>leaf-similar</em>&nbsp;if their leaf value sequence is the same.</p>\n",
    "\n",
    "<p>Return <code>true</code> if and only if the two given trees with head nodes <code>root1</code> and <code>root2</code> are leaf-similar.</p>\n",
    "\n",
    "<p>&nbsp;</p>\n",
    "<p><strong class=\"example\">Example 1:</strong></p>\n",
    "<img alt=\"\" src=\"https://assets.leetcode.com/uploads/2020/09/03/leaf-similar-1.jpg\" style=\"width: 600px; height: 237px;\" />\n",
    "<pre>\n",
    "<strong>Input:</strong> root1 = [3,5,1,6,2,9,8,null,null,7,4], root2 = [3,5,1,6,7,4,2,null,null,null,null,null,null,9,8]\n",
    "<strong>Output:</strong> true\n",
    "</pre>\n",
    "\n",
    "<p><strong class=\"example\">Example 2:</strong></p>\n",
    "<img alt=\"\" src=\"https://assets.leetcode.com/uploads/2020/09/03/leaf-similar-2.jpg\" style=\"width: 300px; height: 110px;\" />\n",
    "<pre>\n",
    "<strong>Input:</strong> root1 = [1,2,3], root2 = [1,3,2]\n",
    "<strong>Output:</strong> false\n",
    "</pre>\n",
    "\n",
    "<p>&nbsp;</p>\n",
    "<p><strong>Constraints:</strong></p>\n",
    "\n",
    "<ul>\n",
    "\t<li>The number of nodes in each tree will be in the range <code>[1, 200]</code>.</li>\n",
    "\t<li>Both of the given trees will have values in the range <code>[0, 200]</code>.</li>\n",
    "</ul>\n"
   ]
  },
  {
   "cell_type": "markdown",
   "metadata": {
    "id": "extra"
   },
   "source": [
    "#### Difficulty: Easy, AC rate: 70.1%\n",
    "\n",
    "#### Topics:\n",
    "Tree | Depth-First Search | Binary Tree\n",
    "\n",
    "#### Links:\n",
    " 🎁 [Question Detail](https://leetcode.com/problems/leaf-similar-trees/description/) | 🎉 [Question Solution](https://leetcode.com/problems/leaf-similar-trees/solution/) | 💬 [Question Discussion](https://leetcode.com/problems/leaf-similar-trees/discuss/?orderBy=most_votes)\n",
    "\n"
   ]
  },
  {
   "cell_type": "markdown",
   "metadata": {
    "exampleTestcaseList": [
     "[3,5,1,6,2,9,8,null,null,7,4]\n[3,5,1,6,7,4,2,null,null,null,null,null,null,9,8]",
     "[1,2,3]\n[1,3,2]"
    ],
    "id": "test",
    "sampleTestCase": "[3,5,1,6,2,9,8,null,null,7,4]\n[3,5,1,6,7,4,2,null,null,null,null,null,null,9,8]"
   },
   "source": [
    "#### Test Case(s):\n",
    "\n",
    "1. `[3,5,1,6,2,9,8,null,null,7,4]`  \n",
    "`[3,5,1,6,7,4,2,null,null,null,null,null,null,9,8]`\n",
    "2. `[1,2,3]`  \n",
    "`[1,3,2]`"
   ]
  },
  {
   "cell_type": "markdown",
   "metadata": {
    "id": "idea"
   },
   "source": [
    "---\n",
    "What's your idea?\n",
    "\n",
    "---"
   ]
  },
  {
   "cell_type": "code",
   "execution_count": 2,
   "metadata": {
    "id": "pre_code"
   },
   "outputs": [],
   "source": [
    "from typing import Optional\n",
    "\n",
    "# Definition for a binary tree node.\n",
    "class TreeNode:\n",
    "    def __init__(self, val=0, left=None, right=None):\n",
    "        self.val = val\n",
    "        self.left = left\n",
    "        self.right = right"
   ]
  },
  {
   "cell_type": "code",
   "execution_count": 4,
   "metadata": {
    "id": "code",
    "isSolutionCode": true
   },
   "outputs": [],
   "source": [
    "class Solution:\n",
    "    def leafSimilar(self, root1: Optional[TreeNode], root2: Optional[TreeNode]) -> bool:\n",
    "        pass"
   ]
  },
  {
   "cell_type": "code",
   "execution_count": 5,
   "metadata": {
    "id": "run"
   },
   "outputs": [
    {
     "ename": "NameError",
     "evalue": "name 'null' is not defined",
     "output_type": "error",
     "traceback": [
      "\u001b[31m---------------------------------------------------------------------------\u001b[39m",
      "\u001b[31mNameError\u001b[39m                                 Traceback (most recent call last)",
      "\u001b[36mCell\u001b[39m\u001b[36m \u001b[39m\u001b[32mIn[5]\u001b[39m\u001b[32m, line 3\u001b[39m\n\u001b[32m      1\u001b[39m \u001b[38;5;28;01mfrom\u001b[39;00m\u001b[38;5;250m \u001b[39m\u001b[34;01mhelper\u001b[39;00m\u001b[38;5;250m \u001b[39m\u001b[38;5;28;01mimport\u001b[39;00m array_to_binary_tree\n\u001b[32m      2\u001b[39m s = Solution()\n\u001b[32m----> \u001b[39m\u001b[32m3\u001b[39m s.leafSimilar([\u001b[32m3\u001b[39m,\u001b[32m5\u001b[39m,\u001b[32m1\u001b[39m,\u001b[32m6\u001b[39m,\u001b[32m2\u001b[39m,\u001b[32m9\u001b[39m,\u001b[32m8\u001b[39m,\u001b[43mnull\u001b[49m,null,\u001b[32m7\u001b[39m,\u001b[32m4\u001b[39m], [\u001b[32m3\u001b[39m,\u001b[32m5\u001b[39m,\u001b[32m1\u001b[39m,\u001b[32m6\u001b[39m,\u001b[32m7\u001b[39m,\u001b[32m4\u001b[39m,\u001b[32m2\u001b[39m,null,null,null,null,null,null,\u001b[32m9\u001b[39m,\u001b[32m8\u001b[39m])\n",
      "\u001b[31mNameError\u001b[39m: name 'null' is not defined"
     ]
    }
   ],
   "source": [
    "from helper import array_to_binary_tree\n",
    "s = Solution()\n",
    "s.leafSimilar([3,5,1,6,2,9,8,null,null,7,4], [3,5,1,6,7,4,2,null,null,null,null,null,null,9,8])"
   ]
  },
  {
   "cell_type": "code",
   "execution_count": null,
   "metadata": {
    "id": "run_1"
   },
   "outputs": [],
   "source": [
    "s.leafSimilar([1,2,3], [1,3,2])"
   ]
  }
 ],
 "metadata": {
  "authors": [
   {
    "name": "jupyterlab-leetcode"
   }
  ],
  "kernelspec": {
   "display_name": "Python 3 (ipykernel)",
   "language": "python",
   "name": "python3"
  },
  "language_info": {
   "codemirror_mode": {
    "name": "ipython",
    "version": 3
   },
   "file_extension": ".py",
   "mimetype": "text/x-python",
   "name": "python",
   "nbconvert_exporter": "python",
   "pygments_lexer": "ipython3",
   "version": "3.13.5"
  },
  "leetcode_question_info": {
   "exampleTestcaseList": [
    "[3,5,1,6,2,9,8,null,null,7,4]\n[3,5,1,6,7,4,2,null,null,null,null,null,null,9,8]",
    "[1,2,3]\n[1,3,2]"
   ],
   "questionDetailUrl": "/problems/leaf-similar-trees/",
   "questionFrontendId": "872",
   "questionId": "904",
   "sampleTestCase": "[3,5,1,6,2,9,8,null,null,7,4]\n[3,5,1,6,7,4,2,null,null,null,null,null,null,9,8]",
   "submitUrl": "/problems/leaf-similar-trees/submit/"
  }
 },
 "nbformat": 4,
 "nbformat_minor": 4
}
