{
 "cells": [
  {
   "cell_type": "markdown",
   "metadata": {
    "id": "title"
   },
   "source": [
    "### 876. Middle of the Linked List"
   ]
  },
  {
   "cell_type": "markdown",
   "metadata": {
    "id": "content"
   },
   "source": [
    "<p>Given the <code>head</code> of a singly linked list, return <em>the middle node of the linked list</em>.</p>\n",
    "\n",
    "<p>If there are two middle nodes, return <strong>the second middle</strong> node.</p>\n",
    "\n",
    "<p>&nbsp;</p>\n",
    "<p><strong class=\"example\">Example 1:</strong></p>\n",
    "<img alt=\"\" src=\"https://assets.leetcode.com/uploads/2021/07/23/lc-midlist1.jpg\" style=\"width: 544px; height: 65px;\" />\n",
    "<pre>\n",
    "<strong>Input:</strong> head = [1,2,3,4,5]\n",
    "<strong>Output:</strong> [3,4,5]\n",
    "<strong>Explanation:</strong> The middle node of the list is node 3.\n",
    "</pre>\n",
    "\n",
    "<p><strong class=\"example\">Example 2:</strong></p>\n",
    "<img alt=\"\" src=\"https://assets.leetcode.com/uploads/2021/07/23/lc-midlist2.jpg\" style=\"width: 664px; height: 65px;\" />\n",
    "<pre>\n",
    "<strong>Input:</strong> head = [1,2,3,4,5,6]\n",
    "<strong>Output:</strong> [4,5,6]\n",
    "<strong>Explanation:</strong> Since the list has two middle nodes with values 3 and 4, we return the second one.\n",
    "</pre>\n",
    "\n",
    "<p>&nbsp;</p>\n",
    "<p><strong>Constraints:</strong></p>\n",
    "\n",
    "<ul>\n",
    "\t<li>The number of nodes in the list is in the range <code>[1, 100]</code>.</li>\n",
    "\t<li><code>1 &lt;= Node.val &lt;= 100</code></li>\n",
    "</ul>\n"
   ]
  },
  {
   "cell_type": "markdown",
   "metadata": {
    "id": "extra"
   },
   "source": [
    "#### Difficulty: Easy, AC rate: 81.0%\n",
    "\n",
    "#### Topics:\n",
    "Linked List | Two Pointers\n",
    "\n",
    "#### Links:\n",
    " 🎁 [Question Detail](https://leetcode.com/problems/middle-of-the-linked-list/description/) | 🎉 [Question Solution](https://leetcode.com/problems/middle-of-the-linked-list/solution/) | 💬 [Question Discussion](https://leetcode.com/problems/middle-of-the-linked-list/discuss/?orderBy=most_votes)\n",
    "\n"
   ]
  },
  {
   "cell_type": "markdown",
   "metadata": {
    "exampleTestcaseList": [
     "[1,2,3,4,5]",
     "[1,2,3,4,5,6]"
    ],
    "id": "test",
    "sampleTestCase": "[1,2,3,4,5]"
   },
   "source": [
    "#### Test Case(s):\n",
    "\n",
    "1. `[1,2,3,4,5]`\n",
    "2. `[1,2,3,4,5,6]`"
   ]
  },
  {
   "cell_type": "markdown",
   "metadata": {
    "id": "idea"
   },
   "source": [
    "---\n",
    "What's your idea?\n",
    "\n",
    "tow pointers, pace at different speed, as 1/2\n",
    "\n",
    "---"
   ]
  },
  {
   "cell_type": "code",
   "execution_count": 1,
   "metadata": {
    "id": "pre_code"
   },
   "outputs": [],
   "source": [
    "from typing import Optional\n",
    "\n",
    "# Definition for singly-linked list.\n",
    "class ListNode:\n",
    "    def __init__(self, val=0, next=None):\n",
    "        self.val = val\n",
    "        self.next = next"
   ]
  },
  {
   "cell_type": "code",
   "execution_count": 2,
   "metadata": {
    "id": "code",
    "isSolutionCode": true
   },
   "outputs": [],
   "source": [
    "class Solution:\n",
    "    def middleNode(self, head: Optional[ListNode]) -> Optional[ListNode]:\n",
    "        fp = head\n",
    "        sp = head\n",
    "        steps = 0\n",
    "        while fp is not None:\n",
    "            fp = fp.next\n",
    "            steps += 1\n",
    "            sp = sp if steps % 2 else sp.next\n",
    "        return sp"
   ]
  },
  {
   "cell_type": "code",
   "execution_count": 3,
   "metadata": {
    "id": "run"
   },
   "outputs": [
    {
     "name": "stdout",
     "output_type": "stream",
     "text": [
      "[3, 4, 5, ]\n"
     ]
    }
   ],
   "source": [
    "s = Solution()\n",
    "from helper import array_to_list, print_list\n",
    "print_list(s.middleNode(array_to_list([1,2,3,4,5])))"
   ]
  },
  {
   "cell_type": "code",
   "execution_count": 4,
   "metadata": {
    "id": "run_1"
   },
   "outputs": [
    {
     "name": "stdout",
     "output_type": "stream",
     "text": [
      "[4, 5, 6, ]\n"
     ]
    }
   ],
   "source": [
    "print_list(s.middleNode(array_to_list([1,2,3,4,5,6])))"
   ]
  },
  {
   "cell_type": "code",
   "execution_count": 5,
   "metadata": {
    "id": "run_1"
   },
   "outputs": [
    {
     "name": "stdout",
     "output_type": "stream",
     "text": [
      "[2, ]\n"
     ]
    }
   ],
   "source": [
    "print_list(s.middleNode(array_to_list([1,2])))"
   ]
  },
  {
   "cell_type": "code",
   "execution_count": 6,
   "metadata": {
    "id": "run_1"
   },
   "outputs": [
    {
     "name": "stdout",
     "output_type": "stream",
     "text": [
      "[1, ]\n"
     ]
    }
   ],
   "source": [
    "print_list(s.middleNode(array_to_list([1])))"
   ]
  },
  {
   "cell_type": "markdown",
   "metadata": {
    "id": "result"
   },
   "source": [
    "😃 Result: Accepted  \n",
    "💯 Passed Test Case: 36 / 36  \n",
    "🚀 Runtime: 0 ms, Memory: 17.8 MB  \n",
    "🉑 Runtime Percentile: better than 100.00%, Memory Percentile: better than 48.14%  \n",
    "📆 Finished At: Mon, 01 Sep 2025 15:46:46 GMT"
   ]
  }
 ],
 "metadata": {
  "authors": [
   {
    "name": "jupyterlab-leetcode"
   }
  ],
  "kernelspec": {
   "display_name": "Python 3 (ipykernel)",
   "language": "python",
   "name": "python3"
  },
  "language_info": {
   "codemirror_mode": {
    "name": "ipython",
    "version": 3
   },
   "file_extension": ".py",
   "mimetype": "text/x-python",
   "name": "python",
   "nbconvert_exporter": "python",
   "pygments_lexer": "ipython3",
   "version": "3.13.5"
  },
  "leetcode_question_info": {
   "exampleTestcaseList": [
    "[1,2,3,4,5]",
    "[1,2,3,4,5,6]"
   ],
   "questionDetailUrl": "/problems/middle-of-the-linked-list/",
   "questionFrontendId": "876",
   "questionId": "908",
   "sampleTestCase": "[1,2,3,4,5]",
   "submitUrl": "/problems/middle-of-the-linked-list/submit/"
  },
  "leetcode_submission_result": {
   "code_output": "",
   "compare_result": "111111111111111111111111111111111111",
   "display_runtime": "0",
   "elapsed_time": 64,
   "expected_output": "",
   "finished": true,
   "lang": "python3",
   "last_testcase": "",
   "memory": 17772000,
   "memory_percentile": 48.142100000000006,
   "pretty_lang": "Python3",
   "question_id": "908",
   "run_success": true,
   "runtime_percentile": 100,
   "state": "SUCCESS",
   "status_code": 10,
   "status_memory": "17.8 MB",
   "status_msg": "Accepted",
   "status_runtime": "0 ms",
   "std_output": "",
   "submission_id": "1756012024",
   "task_finish_time": 1756741606167,
   "task_name": "judger.judgetask.Judge",
   "total_correct": 36,
   "total_testcases": 36
  }
 },
 "nbformat": 4,
 "nbformat_minor": 4
}
