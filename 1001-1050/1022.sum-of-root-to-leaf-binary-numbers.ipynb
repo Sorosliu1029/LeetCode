{
 "cells": [
  {
   "cell_type": "markdown",
   "metadata": {
    "id": "title"
   },
   "source": [
    "### 1022. Sum of Root To Leaf Binary Numbers"
   ]
  },
  {
   "cell_type": "markdown",
   "metadata": {
    "id": "content"
   },
   "source": [
    "<p>You are given the <code>root</code> of a binary tree where each node has a value <code>0</code> or <code>1</code>. Each root-to-leaf path represents a binary number starting with the most significant bit.</p>\n",
    "\n",
    "<ul>\n",
    "\t<li>For example, if the path is <code>0 -&gt; 1 -&gt; 1 -&gt; 0 -&gt; 1</code>, then this could represent <code>01101</code> in binary, which is <code>13</code>.</li>\n",
    "</ul>\n",
    "\n",
    "<p>For all leaves in the tree, consider the numbers represented by the path from the root to that leaf. Return <em>the sum of these numbers</em>.</p>\n",
    "\n",
    "<p>The test cases are generated so that the answer fits in a <strong>32-bits</strong> integer.</p>\n",
    "\n",
    "<p>&nbsp;</p>\n",
    "<p><strong class=\"example\">Example 1:</strong></p>\n",
    "<img alt=\"\" src=\"https://assets.leetcode.com/uploads/2019/04/04/sum-of-root-to-leaf-binary-numbers.png\" style=\"width: 400px; height: 263px;\" />\n",
    "<pre>\n",
    "<strong>Input:</strong> root = [1,0,1,0,1,0,1]\n",
    "<strong>Output:</strong> 22\n",
    "<strong>Explanation: </strong>(100) + (101) + (110) + (111) = 4 + 5 + 6 + 7 = 22\n",
    "</pre>\n",
    "\n",
    "<p><strong class=\"example\">Example 2:</strong></p>\n",
    "\n",
    "<pre>\n",
    "<strong>Input:</strong> root = [0]\n",
    "<strong>Output:</strong> 0\n",
    "</pre>\n",
    "\n",
    "<p>&nbsp;</p>\n",
    "<p><strong>Constraints:</strong></p>\n",
    "\n",
    "<ul>\n",
    "\t<li>The number of nodes in the tree is in the range <code>[1, 1000]</code>.</li>\n",
    "\t<li><code>Node.val</code> is <code>0</code> or <code>1</code>.</li>\n",
    "</ul>\n"
   ]
  },
  {
   "cell_type": "markdown",
   "metadata": {
    "id": "extra"
   },
   "source": [
    "#### Difficulty: Easy, AC rate: 73.5%\n",
    "\n",
    "#### Topics:\n",
    "Tree | Depth-First Search | Binary Tree\n",
    "\n",
    "#### Links:\n",
    " 🎁 [Question Detail](https://leetcode.com/problems/sum-of-root-to-leaf-binary-numbers/description/) | 🎉 [Question Solution](https://leetcode.com/problems/sum-of-root-to-leaf-binary-numbers/solution/) | 💬 [Question Discussion](https://leetcode.com/problems/sum-of-root-to-leaf-binary-numbers/discuss/?orderBy=most_votes)\n",
    "\n",
    "#### Hints:\n",
    "<details><summary>Hint 0  🔍</summary>Find each path, then transform that path to an integer in base 10.</details>\n"
   ]
  },
  {
   "cell_type": "markdown",
   "metadata": {
    "exampleTestcaseList": [
     "[1,0,1,0,1,0,1]",
     "[0]"
    ],
    "id": "test",
    "sampleTestCase": "[1,0,1,0,1,0,1]"
   },
   "source": [
    "#### Test Case(s):\n",
    "\n",
    "1. `[1,0,1,0,1,0,1]`\n",
    "2. `[0]`"
   ]
  },
  {
   "cell_type": "markdown",
   "metadata": {
    "id": "idea"
   },
   "source": [
    "---\n",
    "What's your idea?\n",
    "\n",
    "dfs to construct root-to-leaf number\n",
    "\n",
    "---"
   ]
  },
  {
   "cell_type": "code",
   "execution_count": 1,
   "metadata": {
    "id": "pre_code"
   },
   "outputs": [],
   "source": [
    "from typing import Optional\n",
    "\n",
    "# Definition for a binary tree node.\n",
    "class TreeNode:\n",
    "    def __init__(self, val=0, left=None, right=None):\n",
    "        self.val = val\n",
    "        self.left = left\n",
    "        self.right = right"
   ]
  },
  {
   "cell_type": "code",
   "execution_count": 2,
   "metadata": {
    "id": "code",
    "isSolutionCode": true
   },
   "outputs": [],
   "source": [
    "class Solution:\n",
    "    def binary_strings(self, root:TreeNode) -> list[str]:\n",
    "        if root is None:\n",
    "            return []\n",
    "            \n",
    "        c = '1' if root.val else '0'\n",
    "        if root.left is None and root.right is None:\n",
    "            return [c]\n",
    "        return [c+n for n in self.binary_strings(root.left) + self.binary_strings(root.right)]\n",
    "        \n",
    "    def sumRootToLeaf(self, root: Optional[TreeNode]) -> int:\n",
    "        return sum((int(s, base=2) for s in self.binary_strings(root)))"
   ]
  },
  {
   "cell_type": "code",
   "execution_count": 3,
   "metadata": {
    "id": "run"
   },
   "outputs": [
    {
     "data": {
      "text/plain": [
       "22"
      ]
     },
     "execution_count": 3,
     "metadata": {},
     "output_type": "execute_result"
    }
   ],
   "source": [
    "s = Solution()\n",
    "from helper import array_to_binary_tree\n",
    "s.sumRootToLeaf(array_to_binary_tree([1,0,1,0,1,0,1]))"
   ]
  },
  {
   "cell_type": "code",
   "execution_count": 4,
   "metadata": {
    "id": "run_1"
   },
   "outputs": [
    {
     "data": {
      "text/plain": [
       "0"
      ]
     },
     "execution_count": 4,
     "metadata": {},
     "output_type": "execute_result"
    }
   ],
   "source": [
    "s.sumRootToLeaf(array_to_binary_tree([0]))"
   ]
  },
  {
   "cell_type": "markdown",
   "metadata": {
    "id": "result"
   },
   "source": [
    "😃 Result: Accepted  \n",
    "💯 Passed Test Case: 63 / 63  \n",
    "🚀 Runtime: 3 ms, Memory: 18 MB  \n",
    "🉑 Runtime Percentile: better than 30.32%, Memory Percentile: better than 63.58%  \n",
    "📆 Finished At: Mon, 01 Sep 2025 03:25:56 GMT"
   ]
  }
 ],
 "metadata": {
  "authors": [
   {
    "name": "jupyterlab-leetcode"
   }
  ],
  "kernelspec": {
   "display_name": "Python 3 (ipykernel)",
   "language": "python",
   "name": "python3"
  },
  "language_info": {
   "codemirror_mode": {
    "name": "ipython",
    "version": 3
   },
   "file_extension": ".py",
   "mimetype": "text/x-python",
   "name": "python",
   "nbconvert_exporter": "python",
   "pygments_lexer": "ipython3",
   "version": "3.13.5"
  },
  "leetcode_question_info": {
   "exampleTestcaseList": [
    "[1,0,1,0,1,0,1]",
    "[0]"
   ],
   "questionDetailUrl": "/problems/sum-of-root-to-leaf-binary-numbers/",
   "questionFrontendId": "1022",
   "questionId": "1079",
   "sampleTestCase": "[1,0,1,0,1,0,1]",
   "submitUrl": "/problems/sum-of-root-to-leaf-binary-numbers/submit/"
  },
  "leetcode_submission_result": {
   "code_output": "",
   "compare_result": "111111111111111111111111111111111111111111111111111111111111111",
   "display_runtime": "3",
   "elapsed_time": 65,
   "expected_output": "",
   "finished": true,
   "lang": "python3",
   "last_testcase": "",
   "memory": 18044000,
   "memory_percentile": 63.5788,
   "pretty_lang": "Python3",
   "question_id": "1079",
   "run_success": true,
   "runtime_percentile": 30.324699999999996,
   "state": "SUCCESS",
   "status_code": 10,
   "status_memory": "18 MB",
   "status_msg": "Accepted",
   "status_runtime": "3 ms",
   "std_output": "",
   "submission_id": "1755363271",
   "task_finish_time": 1756697156433,
   "task_name": "judger.judgetask.Judge",
   "total_correct": 63,
   "total_testcases": 63
  }
 },
 "nbformat": 4,
 "nbformat_minor": 4
}
