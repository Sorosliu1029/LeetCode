{
 "cells": [
  {
   "cell_type": "markdown",
   "metadata": {
    "id": "title"
   },
   "source": [
    "### 1290. Convert Binary Number in a Linked List to Integer"
   ]
  },
  {
   "cell_type": "markdown",
   "metadata": {
    "id": "content"
   },
   "source": [
    "<p>Given <code>head</code> which is a reference node to a singly-linked list. The value of each node in the linked list is either <code>0</code> or <code>1</code>. The linked list holds the binary representation of a number.</p>\n",
    "\n",
    "<p>Return the <em>decimal value</em> of the number in the linked list.</p>\n",
    "\n",
    "<p>The <strong>most significant bit</strong> is at the head of the linked list.</p>\n",
    "\n",
    "<p>&nbsp;</p>\n",
    "<p><strong class=\"example\">Example 1:</strong></p>\n",
    "<img alt=\"\" src=\"https://assets.leetcode.com/uploads/2019/12/05/graph-1.png\" style=\"width: 426px; height: 108px;\" />\n",
    "<pre>\n",
    "<strong>Input:</strong> head = [1,0,1]\n",
    "<strong>Output:</strong> 5\n",
    "<strong>Explanation:</strong> (101) in base 2 = (5) in base 10\n",
    "</pre>\n",
    "\n",
    "<p><strong class=\"example\">Example 2:</strong></p>\n",
    "\n",
    "<pre>\n",
    "<strong>Input:</strong> head = [0]\n",
    "<strong>Output:</strong> 0\n",
    "</pre>\n",
    "\n",
    "<p>&nbsp;</p>\n",
    "<p><strong>Constraints:</strong></p>\n",
    "\n",
    "<ul>\n",
    "\t<li>The Linked List is not empty.</li>\n",
    "\t<li>Number of nodes will not exceed <code>30</code>.</li>\n",
    "\t<li>Each node&#39;s value is either <code>0</code> or <code>1</code>.</li>\n",
    "</ul>\n"
   ]
  },
  {
   "cell_type": "markdown",
   "metadata": {
    "id": "extra"
   },
   "source": [
    "#### Difficulty: Easy, AC rate: 82.3%\n",
    "\n",
    "#### Topics:\n",
    "Linked List | Math\n",
    "\n",
    "#### Links:\n",
    " 🎁 [Question Detail](https://leetcode.com/problems/convert-binary-number-in-a-linked-list-to-integer/description/) | 🎉 [Question Solution](https://leetcode.com/problems/convert-binary-number-in-a-linked-list-to-integer/solution/) | 💬 [Question Discussion](https://leetcode.com/problems/convert-binary-number-in-a-linked-list-to-integer/discuss/?orderBy=most_votes)\n",
    "\n",
    "#### Hints:\n",
    "<details><summary>Hint 0  🔍</summary>Traverse the linked list and store all values in a string or array. convert the values obtained to decimal value.</details>\n",
    "<details><summary>Hint 1  🔍</summary>You can solve the problem in O(1) memory using bits operation. use shift left operation ( << ) and or operation ( | ) to get the decimal value in one operation.</details>\n"
   ]
  },
  {
   "cell_type": "markdown",
   "metadata": {
    "exampleTestcaseList": [
     "[1,0,1]",
     "[0]"
    ],
    "id": "test",
    "sampleTestCase": "[1,0,1]"
   },
   "source": [
    "#### Test Case(s):\n",
    "\n",
    "1. `[1,0,1]`\n",
    "2. `[0]`"
   ]
  },
  {
   "cell_type": "markdown",
   "metadata": {
    "id": "idea"
   },
   "source": [
    "---\n",
    "What's your idea?\n",
    "\n",
    "traverse, do the math\n",
    "\n",
    "---"
   ]
  },
  {
   "cell_type": "code",
   "execution_count": 1,
   "metadata": {
    "id": "pre_code"
   },
   "outputs": [],
   "source": [
    "from typing import Optional\n",
    "\n",
    "# Definition for singly-linked list.\n",
    "class ListNode:\n",
    "    def __init__(self, val=0, next=None):\n",
    "        self.val = val\n",
    "        self.next = next"
   ]
  },
  {
   "cell_type": "code",
   "execution_count": 2,
   "metadata": {
    "id": "code",
    "isSolutionCode": true
   },
   "outputs": [],
   "source": [
    "class Solution:\n",
    "    def getDecimalValue(self, head: Optional[ListNode]) -> int:\n",
    "        r = 0\n",
    "        while head is not None:\n",
    "            r = r*2 + head.val\n",
    "            head = head.next\n",
    "        return r"
   ]
  },
  {
   "cell_type": "code",
   "execution_count": 3,
   "metadata": {
    "id": "run"
   },
   "outputs": [
    {
     "data": {
      "text/plain": [
       "5"
      ]
     },
     "execution_count": 3,
     "metadata": {},
     "output_type": "execute_result"
    }
   ],
   "source": [
    "s = Solution()\n",
    "from helper import array_to_list\n",
    "s.getDecimalValue(array_to_list([1,0,1]))"
   ]
  },
  {
   "cell_type": "code",
   "execution_count": 4,
   "metadata": {
    "id": "run_1"
   },
   "outputs": [
    {
     "data": {
      "text/plain": [
       "0"
      ]
     },
     "execution_count": 4,
     "metadata": {},
     "output_type": "execute_result"
    }
   ],
   "source": [
    "s.getDecimalValue(array_to_list([0]))"
   ]
  },
  {
   "cell_type": "markdown",
   "metadata": {
    "id": "result"
   },
   "source": [
    "😃 Result: Accepted  \n",
    "💯 Passed Test Case: 102 / 102  \n",
    "🚀 Runtime: 0 ms, Memory: 18 MB  \n",
    "🉑 Runtime Percentile: better than 100.00%, Memory Percentile: better than 6.68%  \n",
    "📆 Finished At: Mon, 01 Sep 2025 15:57:26 GMT"
   ]
  }
 ],
 "metadata": {
  "authors": [
   {
    "name": "jupyterlab-leetcode"
   }
  ],
  "kernelspec": {
   "display_name": "Python 3 (ipykernel)",
   "language": "python",
   "name": "python3"
  },
  "language_info": {
   "codemirror_mode": {
    "name": "ipython",
    "version": 3
   },
   "file_extension": ".py",
   "mimetype": "text/x-python",
   "name": "python",
   "nbconvert_exporter": "python",
   "pygments_lexer": "ipython3",
   "version": "3.13.5"
  },
  "leetcode_question_info": {
   "exampleTestcaseList": [
    "[1,0,1]",
    "[0]"
   ],
   "questionDetailUrl": "/problems/convert-binary-number-in-a-linked-list-to-integer/",
   "questionFrontendId": "1290",
   "questionId": "1411",
   "sampleTestCase": "[1,0,1]",
   "submitUrl": "/problems/convert-binary-number-in-a-linked-list-to-integer/submit/"
  },
  "leetcode_submission_result": {
   "code_output": "",
   "compare_result": "111111111111111111111111111111111111111111111111111111111111111111111111111111111111111111111111111111",
   "display_runtime": "0",
   "elapsed_time": 67,
   "expected_output": "",
   "finished": true,
   "lang": "python3",
   "last_testcase": "",
   "memory": 17960000,
   "memory_percentile": 6.67639999999999,
   "pretty_lang": "Python3",
   "question_id": "1411",
   "run_success": true,
   "runtime_percentile": 100,
   "state": "SUCCESS",
   "status_code": 10,
   "status_memory": "18 MB",
   "status_msg": "Accepted",
   "status_runtime": "0 ms",
   "std_output": "",
   "submission_id": "1756024859",
   "task_finish_time": 1756742246379,
   "task_name": "judger.judgetask.Judge",
   "total_correct": 102,
   "total_testcases": 102
  }
 },
 "nbformat": 4,
 "nbformat_minor": 4
}
