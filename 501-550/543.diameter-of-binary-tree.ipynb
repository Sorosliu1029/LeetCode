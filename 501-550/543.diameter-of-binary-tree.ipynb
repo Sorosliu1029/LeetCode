{
  "cells": [
    {
      "cell_type": "markdown",
      "metadata": {},
      "source": [
        "### 543. Diameter of Binary Tree"
      ]
    },
    {
      "cell_type": "markdown",
      "metadata": {},
      "source": [
        "#### Content\n",
        "<p>Given the <code>root</code> of a binary tree, return <em>the length of the <strong>diameter</strong> of the tree</em>.</p>\n",
        "\n",
        "<p>The <strong>diameter</strong> of a binary tree is the <strong>length</strong> of the longest path between any two nodes in a tree. This path may or may not pass through the <code>root</code>.</p>\n",
        "\n",
        "<p>The <strong>length</strong> of a path between two nodes is represented by the number of edges between them.</p>\n",
        "\n",
        "<p>&nbsp;</p>\n",
        "<p><strong>Example 1:</strong></p>\n",
        "<img alt=\"\" src=\"https://assets.leetcode.com/uploads/2021/03/06/diamtree.jpg\" style=\"width: 292px; height: 302px;\" />\n",
        "<pre>\n",
        "<strong>Input:</strong> root = [1,2,3,4,5]\n",
        "<strong>Output:</strong> 3\n",
        "<strong>Explanation:</strong> 3 is the length of the path [4,2,1,3] or [5,2,1,3].\n",
        "</pre>\n",
        "\n",
        "<p><strong>Example 2:</strong></p>\n",
        "\n",
        "<pre>\n",
        "<strong>Input:</strong> root = [1,2]\n",
        "<strong>Output:</strong> 1\n",
        "</pre>\n",
        "\n",
        "<p>&nbsp;</p>\n",
        "<p><strong>Constraints:</strong></p>\n",
        "\n",
        "<ul>\n",
        "\t<li>The number of nodes in the tree is in the range <code>[1, 10<sup>4</sup>]</code>.</li>\n",
        "\t<li><code>-100 &lt;= Node.val &lt;= 100</code></li>\n",
        "</ul>\n"
      ]
    },
    {
      "cell_type": "markdown",
      "metadata": {},
      "source": [
        "#### Difficulty: Easy, AC rate: 53.5%\n",
        "\n",
        "#### Question Tags:\n",
        "- Tree\n",
        "- Depth-First Search\n",
        "- Binary Tree\n",
        "\n",
        "#### Links:\n",
        " 🎁 [Question Detail](https://leetcode.com/problems/diameter-of-binary-tree/description/) | 🎉 [Question Solution](https://leetcode.com/problems/diameter-of-binary-tree/solution/) | 💬 [Question Discussion](https://leetcode.com/problems/diameter-of-binary-tree/discuss/?orderBy=most_votes)\n",
        "\n",
        "#### Hints:\n"
      ]
    },
    {
      "cell_type": "markdown",
      "metadata": {},
      "source": [
        "#### Sample Test Case\n",
        "[1,2,3,4,5]"
      ]
    },
    {
      "cell_type": "markdown",
      "metadata": {},
      "source": [
        "---\n",
        "What's your idea?\n",
        "\n",
        "DFS\n",
        "\n",
        "分为以root结束的path和不以root结束的path\n",
        "\n",
        "---"
      ]
    },
    {
      "cell_type": "code",
      "execution_count": 18,
      "metadata": {},
      "outputs": [],
      "source": [
        "from typing import Optional\n",
        "# Definition for a binary tree node.\n",
        "class TreeNode:\n",
        "    def __init__(self, val=0, left=None, right=None):\n",
        "        self.val = val\n",
        "        self.left = left\n",
        "        self.right = right"
      ]
    },
    {
      "cell_type": "code",
      "execution_count": 36,
      "metadata": {
        "isSolutionCode": true
      },
      "outputs": [],
      "source": [
        "class Solution:\n",
        "    def diameterOfBinaryTree(self, root: Optional[TreeNode]) -> int:\n",
        "        if root is None:\n",
        "            return 0\n",
        "        return max(self.recur(root))\n",
        "        \n",
        "    def recur(self, node):\n",
        "        if node is None:\n",
        "            return (-1, -1)\n",
        "        left_end_at_root, left_end_not_at_root = self.recur(node.left)\n",
        "        right_end_at_root, right_end_not_at_root = self.recur(node.right)\n",
        "        return (\n",
        "            max(left_end_at_root, right_end_at_root) + 1,\n",
        "            max(left_end_not_at_root, right_end_not_at_root, left_end_at_root + right_end_at_root + 2)\n",
        "        )\n"
      ]
    },
    {
      "cell_type": "code",
      "execution_count": 38,
      "metadata": {},
      "outputs": [],
      "source": [
        "from helper import array_to_tree\n",
        "s = Solution()\n",
        "\n",
        "t = array_to_tree([1])\n",
        "assert s.diameterOfBinaryTree(t) == 0\n",
        "\n",
        "t = array_to_tree([1,2])\n",
        "assert s.diameterOfBinaryTree(t) == 1\n",
        "\n",
        "t = array_to_tree([1,2,3])\n",
        "assert s.diameterOfBinaryTree(t) == 2\n",
        "\n",
        "t = array_to_tree([1,2,3,4,5])\n",
        "assert s.diameterOfBinaryTree(t) == 3"
      ]
    },
    {
      "cell_type": "code",
      "execution_count": 39,
      "metadata": {},
      "outputs": [
        {
          "data": {
            "text/markdown": [
              "😃 Result: Accepted\n",
              "\n",
              "📥 Input: ``\n",
              "\n",
              "📤 Output: ``\n",
              "\n",
              "✅ Expected: ``\n",
              "\n",
              "💯 Passed Test Case: 104 / 104\n",
              "\n",
              "🚀 Runtime: 63 ms, Memory: 16.5 MB\n",
              "\n",
              "🉑 Runtime Percentile: better than 52.44%, Memory Percentile: better than 20.83%\n",
              "\n",
              "📆 Finished At: 2022-02-23"
            ],
            "text/plain": [
              "<IPython.core.display.Markdown object>"
            ]
          },
          "metadata": {},
          "output_type": "display_data"
        }
      ],
      "source": [
        "import sys, os; sys.path.append(os.path.abspath('..'))\n",
        "from submitter import submit\n",
        "submit(543)"
      ]
    }
  ],
  "metadata": {
    "authors": [
      {
        "name": "Soros Liu"
      }
    ],
    "kernelspec": {
      "display_name": "Python 3",
      "language": "python",
      "name": "python3"
    },
    "language_info": {
      "codemirror_mode": {
        "name": "ipython",
        "version": 3
      },
      "file_extension": ".py",
      "mimetype": "text/x-python",
      "name": "python",
      "nbconvert_exporter": "python",
      "pygments_lexer": "ipython3",
      "version": "3.8.6"
    },
    "leetcode_question_info": {
      "questionFrontendId": "543",
      "questionId": "543",
      "sampleTestCase": "[1,2,3,4,5]",
      "submitUrl": "/problems/diameter-of-binary-tree/submit/"
    }
  },
  "nbformat": 4,
  "nbformat_minor": 2
}
