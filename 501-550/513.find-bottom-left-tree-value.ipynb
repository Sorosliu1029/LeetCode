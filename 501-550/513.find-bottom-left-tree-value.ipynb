{
  "cells": [
    {
      "cell_type": "markdown",
      "metadata": {},
      "source": [
        "### 513. Find Bottom Left Tree Value"
      ]
    },
    {
      "cell_type": "markdown",
      "metadata": {},
      "source": [
        "#### Content\n",
        "<p>Given the <code>root</code> of a binary tree, return the leftmost value in the last row of the tree.</p>\n",
        "\n",
        "<p>&nbsp;</p>\n",
        "<p><strong>Example 1:</strong></p>\n",
        "<img alt=\"\" src=\"https://assets.leetcode.com/uploads/2020/12/14/tree1.jpg\" style=\"width: 302px; height: 182px;\" />\n",
        "<pre>\n",
        "<strong>Input:</strong> root = [2,1,3]\n",
        "<strong>Output:</strong> 1\n",
        "</pre>\n",
        "\n",
        "<p><strong>Example 2:</strong></p>\n",
        "<img alt=\"\" src=\"https://assets.leetcode.com/uploads/2020/12/14/tree2.jpg\" style=\"width: 432px; height: 421px;\" />\n",
        "<pre>\n",
        "<strong>Input:</strong> root = [1,2,3,4,null,5,6,null,null,7]\n",
        "<strong>Output:</strong> 7\n",
        "</pre>\n",
        "\n",
        "<p>&nbsp;</p>\n",
        "<p><strong>Constraints:</strong></p>\n",
        "\n",
        "<ul>\n",
        "\t<li>The number of nodes in the tree is in the range <code>[1, 10<sup>4</sup>]</code>.</li>\n",
        "\t<li><code>-2<sup>31</sup> &lt;= Node.val &lt;= 2<sup>31</sup> - 1</code></li>\n",
        "</ul>\n"
      ]
    },
    {
      "cell_type": "markdown",
      "metadata": {},
      "source": [
        "#### Difficulty: Medium, AC rate: 64.8%\n",
        "\n",
        "#### Question Tags:\n",
        "- Tree\n",
        "- Depth-First Search\n",
        "- Breadth-First Search\n",
        "- Binary Tree\n",
        "\n",
        "#### Links:\n",
        " 🎁 [Question Detail](https://leetcode.com/problems/find-bottom-left-tree-value/description/) | 🎉 [Question Solution](https://leetcode.com/problems/find-bottom-left-tree-value/solution/) | 💬 [Question Discussion](https://leetcode.com/problems/find-bottom-left-tree-value/discuss/?orderBy=most_votes)\n",
        "\n",
        "#### Hints:\n"
      ]
    },
    {
      "cell_type": "markdown",
      "metadata": {},
      "source": [
        "#### Sample Test Case\n",
        "[2,1,3]"
      ]
    },
    {
      "cell_type": "markdown",
      "metadata": {},
      "source": [
        "---\n",
        "What's your idea?\n",
        "\n",
        "BFS 到最底层节点，底层第一个leaf节点就是 bottom left\n",
        "\n",
        "---"
      ]
    },
    {
      "cell_type": "code",
      "execution_count": 25,
      "metadata": {
        "isSolutionCode": true
      },
      "outputs": [],
      "source": [
        "from typing import Optional\n",
        "# Definition for a binary tree node.\n",
        "class TreeNode:\n",
        "    def __init__(self, val=0, left=None, right=None):\n",
        "        self.val = val\n",
        "        self.left = left\n",
        "        self.right = right\n",
        "\n",
        "class Solution:\n",
        "    def findBottomLeftValue(self, root: Optional[TreeNode]) -> int:\n",
        "        cur = [root]\n",
        "        while cur:\n",
        "            nxt = []\n",
        "            for n in cur:\n",
        "                if n.left is not None:\n",
        "                    nxt.append(n.left)\n",
        "                if n.right is not None:\n",
        "                    nxt.append(n.right)\n",
        "            if not nxt:\n",
        "                return cur[0].val\n",
        "            cur = nxt"
      ]
    },
    {
      "cell_type": "code",
      "execution_count": 27,
      "metadata": {},
      "outputs": [],
      "source": [
        "from helper import array_to_tree\n",
        "s = Solution()\n",
        "\n",
        "t = array_to_tree([2,1,3])\n",
        "assert s.findBottomLeftValue(t) == 1\n",
        "\n",
        "t = TreeNode(1,\n",
        "  TreeNode(2,\n",
        "    TreeNode(4)\n",
        "  ),\n",
        "  TreeNode(3,\n",
        "    TreeNode(5,\n",
        "      TreeNode(7)\n",
        "    ),\n",
        "    TreeNode(6),\n",
        "  ),\n",
        ")\n",
        "assert s.findBottomLeftValue(t) == 7"
      ]
    },
    {
      "cell_type": "code",
      "execution_count": 28,
      "metadata": {},
      "outputs": [
        {
          "data": {
            "text/markdown": [
              "😃 Result: Accepted\n",
              "\n",
              "📥 Input: ``\n",
              "\n",
              "📤 Output: ``\n",
              "\n",
              "✅ Expected: ``\n",
              "\n",
              "💯 Passed Test Case: 76 / 76\n",
              "\n",
              "🚀 Runtime: 40 ms, Memory: 16.5 MB\n",
              "\n",
              "🉑 Runtime Percentile: better than 94.37%, Memory Percentile: better than 46.95%\n",
              "\n",
              "📆 Finished At: 2022-02-13"
            ],
            "text/plain": [
              "<IPython.core.display.Markdown object>"
            ]
          },
          "metadata": {},
          "output_type": "display_data"
        }
      ],
      "source": [
        "import sys, os; sys.path.append(os.path.abspath('..'))\n",
        "from submitter import submit\n",
        "submit(513)"
      ]
    }
  ],
  "metadata": {
    "authors": [
      {
        "name": "Soros Liu"
      }
    ],
    "kernelspec": {
      "display_name": "Python 3",
      "language": "python",
      "name": "python3"
    },
    "language_info": {
      "codemirror_mode": {
        "name": "ipython",
        "version": 3
      },
      "file_extension": ".py",
      "mimetype": "text/x-python",
      "name": "python",
      "nbconvert_exporter": "python",
      "pygments_lexer": "ipython3",
      "version": "3.8.6"
    },
    "leetcode_question_info": {
      "questionFrontendId": "513",
      "questionId": "513",
      "sampleTestCase": "[2,1,3]",
      "submitUrl": "/problems/find-bottom-left-tree-value/submit/"
    }
  },
  "nbformat": 4,
  "nbformat_minor": 2
}
