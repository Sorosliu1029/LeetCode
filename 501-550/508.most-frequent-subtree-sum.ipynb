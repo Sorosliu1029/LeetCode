{
  "cells": [
    {
      "cell_type": "markdown",
      "metadata": {},
      "source": [
        "### 508. Most Frequent Subtree Sum"
      ]
    },
    {
      "cell_type": "markdown",
      "metadata": {},
      "source": [
        "#### Content\n",
        "<p>Given the <code>root</code> of a binary tree, return the most frequent <strong>subtree sum</strong>. If there is a tie, return all the values with the highest frequency in any order.</p>\n",
        "\n",
        "<p>The <strong>subtree sum</strong> of a node is defined as the sum of all the node values formed by the subtree rooted at that node (including the node itself).</p>\n",
        "\n",
        "<p>&nbsp;</p>\n",
        "<p><strong>Example 1:</strong></p>\n",
        "<img alt=\"\" src=\"https://assets.leetcode.com/uploads/2021/04/24/freq1-tree.jpg\" style=\"width: 207px; height: 183px;\" />\n",
        "<pre>\n",
        "<strong>Input:</strong> root = [5,2,-3]\n",
        "<strong>Output:</strong> [2,-3,4]\n",
        "</pre>\n",
        "\n",
        "<p><strong>Example 2:</strong></p>\n",
        "<img alt=\"\" src=\"https://assets.leetcode.com/uploads/2021/04/24/freq2-tree.jpg\" style=\"width: 207px; height: 183px;\" />\n",
        "<pre>\n",
        "<strong>Input:</strong> root = [5,2,-5]\n",
        "<strong>Output:</strong> [2]\n",
        "</pre>\n",
        "\n",
        "<p>&nbsp;</p>\n",
        "<p><strong>Constraints:</strong></p>\n",
        "\n",
        "<ul>\n",
        "\t<li>The number of nodes in the tree is in the range <code>[1, 10<sup>4</sup>]</code>.</li>\n",
        "\t<li><code>-10<sup>5</sup> &lt;= Node.val &lt;= 10<sup>5</sup></code></li>\n",
        "</ul>\n"
      ]
    },
    {
      "cell_type": "markdown",
      "metadata": {},
      "source": [
        "#### Difficulty: Medium, AC rate: 62.2%\n",
        "\n",
        "#### Question Tags:\n",
        "- Hash Table\n",
        "- Tree\n",
        "- Depth-First Search\n",
        "- Binary Tree\n",
        "\n",
        "#### Links:\n",
        " 🎁 [Question Detail](https://leetcode.com/problems/most-frequent-subtree-sum/description/) | 🎉 [Question Solution](https://leetcode.com/problems/most-frequent-subtree-sum/solution/) | 💬 [Question Discussion](https://leetcode.com/problems/most-frequent-subtree-sum/discuss/?orderBy=most_votes)\n",
        "\n",
        "#### Hints:\n"
      ]
    },
    {
      "cell_type": "markdown",
      "metadata": {},
      "source": [
        "#### Sample Test Case\n",
        "[5,2,-3]"
      ]
    },
    {
      "cell_type": "markdown",
      "metadata": {},
      "source": [
        "---\n",
        "What's your idea?\n",
        "\n",
        "DFS + counter 频数统计\n",
        "\n",
        "---"
      ]
    },
    {
      "cell_type": "code",
      "execution_count": 55,
      "metadata": {
        "isSolutionCode": true
      },
      "outputs": [],
      "source": [
        "from typing import Optional, List\n",
        "# Definition for a binary tree node.\n",
        "class TreeNode:\n",
        "    def __init__(self, val=0, left=None, right=None):\n",
        "        self.val = val\n",
        "        self.left = left\n",
        "        self.right = right\n",
        "\n",
        "class Solution:\n",
        "    def findFrequentTreeSum(self, root: Optional[TreeNode]) -> List[int]:\n",
        "        d = dict()\n",
        "        self.recur(root, d)\n",
        "\n",
        "        r = []\n",
        "        max_f = 0\n",
        "        for s, f in d.items():\n",
        "            if f > max_f:\n",
        "                max_f = f\n",
        "                r = [s]\n",
        "            elif f == max_f:\n",
        "                r.append(s)\n",
        "        return r\n",
        "        \n",
        "    def recur(self, node, d):\n",
        "        if node is None:\n",
        "            return 0\n",
        "        s = self.recur(node.left, d) + self.recur(node.right, d) + node.val\n",
        "        d[s] = d[s] + 1 if s in d else 1\n",
        "        return s"
      ]
    },
    {
      "cell_type": "code",
      "execution_count": 56,
      "metadata": {},
      "outputs": [
        {
          "name": "stdout",
          "output_type": "stream",
          "text": [
            "[2, -3, 4]\n",
            "[2]\n"
          ]
        }
      ],
      "source": [
        "from helper import array_to_tree\n",
        "s = Solution()\n",
        "\n",
        "t = array_to_tree([5,2,-3])\n",
        "print(s.findFrequentTreeSum(t))\n",
        "\n",
        "t = array_to_tree([5,2,-5])\n",
        "print(s.findFrequentTreeSum(t))"
      ]
    },
    {
      "cell_type": "code",
      "execution_count": 57,
      "metadata": {},
      "outputs": [
        {
          "data": {
            "text/markdown": [
              "😃 Result: Accepted\n",
              "\n",
              "📥 Input: ``\n",
              "\n",
              "📤 Output: ``\n",
              "\n",
              "✅ Expected: ``\n",
              "\n",
              "💯 Passed Test Case: 58 / 58\n",
              "\n",
              "🚀 Runtime: 47 ms, Memory: 17.4 MB\n",
              "\n",
              "🉑 Runtime Percentile: better than 88.02%, Memory Percentile: better than 75.75%\n",
              "\n",
              "📆 Finished At: 2022-02-13"
            ],
            "text/plain": [
              "<IPython.core.display.Markdown object>"
            ]
          },
          "metadata": {},
          "output_type": "display_data"
        }
      ],
      "source": [
        "import sys, os; sys.path.append(os.path.abspath('..'))\n",
        "from submitter import submit\n",
        "submit(508)"
      ]
    }
  ],
  "metadata": {
    "authors": [
      {
        "name": "Soros Liu"
      }
    ],
    "kernelspec": {
      "display_name": "Python 3",
      "language": "python",
      "name": "python3"
    },
    "language_info": {
      "codemirror_mode": {
        "name": "ipython",
        "version": 3
      },
      "file_extension": ".py",
      "mimetype": "text/x-python",
      "name": "python",
      "nbconvert_exporter": "python",
      "pygments_lexer": "ipython3",
      "version": "3.8.6"
    },
    "leetcode_question_info": {
      "questionFrontendId": "508",
      "questionId": "508",
      "sampleTestCase": "[5,2,-3]",
      "submitUrl": "/problems/most-frequent-subtree-sum/submit/"
    }
  },
  "nbformat": 4,
  "nbformat_minor": 2
}
