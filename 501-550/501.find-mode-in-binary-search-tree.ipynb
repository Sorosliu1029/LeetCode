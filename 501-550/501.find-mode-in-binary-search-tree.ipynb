{
  "cells": [
    {
      "cell_type": "markdown",
      "metadata": {},
      "source": [
        "### 501. Find Mode in Binary Search Tree"
      ]
    },
    {
      "cell_type": "markdown",
      "metadata": {},
      "source": [
        "#### Content\n",
        "<p>Given the <code>root</code> of a binary search tree (BST) with duplicates, return <em>all the <a href=\"https://en.wikipedia.org/wiki/Mode_(statistics)\" target=\"_blank\">mode(s)</a> (i.e., the most frequently occurred element) in it</em>.</p>\n",
        "\n",
        "<p>If the tree has more than one mode, return them in <strong>any order</strong>.</p>\n",
        "\n",
        "<p>Assume a BST is defined as follows:</p>\n",
        "\n",
        "<ul>\n",
        "\t<li>The left subtree of a node contains only nodes with keys <strong>less than or equal to</strong> the node&#39;s key.</li>\n",
        "\t<li>The right subtree of a node contains only nodes with keys <strong>greater than or equal to</strong> the node&#39;s key.</li>\n",
        "\t<li>Both the left and right subtrees must also be binary search trees.</li>\n",
        "</ul>\n",
        "\n",
        "<p>&nbsp;</p>\n",
        "<p><strong>Example 1:</strong></p>\n",
        "<img alt=\"\" src=\"https://assets.leetcode.com/uploads/2021/03/11/mode-tree.jpg\" style=\"width: 142px; height: 222px;\" />\n",
        "<pre>\n",
        "<strong>Input:</strong> root = [1,null,2,2]\n",
        "<strong>Output:</strong> [2]\n",
        "</pre>\n",
        "\n",
        "<p><strong>Example 2:</strong></p>\n",
        "\n",
        "<pre>\n",
        "<strong>Input:</strong> root = [0]\n",
        "<strong>Output:</strong> [0]\n",
        "</pre>\n",
        "\n",
        "<p>&nbsp;</p>\n",
        "<p><strong>Constraints:</strong></p>\n",
        "\n",
        "<ul>\n",
        "\t<li>The number of nodes in the tree is in the range <code>[1, 10<sup>4</sup>]</code>.</li>\n",
        "\t<li><code>-10<sup>5</sup> &lt;= Node.val &lt;= 10<sup>5</sup></code></li>\n",
        "</ul>\n",
        "\n",
        "<p>&nbsp;</p>\n",
        "<strong>Follow up:</strong> Could you do that without using any extra space? (Assume that the implicit stack space incurred due to recursion does not count)."
      ]
    },
    {
      "cell_type": "markdown",
      "metadata": {},
      "source": [
        "#### Difficulty: Easy, AC rate: 46.7%\n",
        "\n",
        "#### Question Tags:\n",
        "- Tree\n",
        "- Depth-First Search\n",
        "- Binary Search Tree\n",
        "- Binary Tree\n",
        "\n",
        "#### Links:\n",
        " 🎁 [Question Detail](https://leetcode.com/problems/find-mode-in-binary-search-tree/description/) | 🎉 [Question Solution](https://leetcode.com/problems/find-mode-in-binary-search-tree/solution/) | 💬 [Question Discussion](https://leetcode.com/problems/find-mode-in-binary-search-tree/discuss/?orderBy=most_votes)\n",
        "\n",
        "#### Hints:\n"
      ]
    },
    {
      "cell_type": "markdown",
      "metadata": {},
      "source": [
        "#### Sample Test Case\n",
        "[1,null,2,2]"
      ]
    },
    {
      "cell_type": "markdown",
      "metadata": {},
      "source": [
        "---\n",
        "What's your idea?\n",
        "\n",
        "BST 适合中序遍历，因为中序遍历下，是有序的\n",
        "\n",
        "在这个前提下，判断相邻两次遍历到的节点的值的大小关系，和对应计数的关系，可以决定取或舍最终结果集中的元素\n",
        "\n",
        "---"
      ]
    },
    {
      "cell_type": "code",
      "execution_count": 1,
      "metadata": {},
      "outputs": [],
      "source": [
        "from typing import Optional, List\n",
        "# Definition for a binary tree node.\n",
        "class TreeNode:\n",
        "    def __init__(self, val=0, left=None, right=None):\n",
        "        self.val = val\n",
        "        self.left = left\n",
        "        self.right = right"
      ]
    },
    {
      "cell_type": "code",
      "execution_count": 9,
      "metadata": {
        "isSolutionCode": true
      },
      "outputs": [],
      "source": [
        "class Solution:\n",
        "    def findMode(self, root: Optional[TreeNode]) -> List[int]:\n",
        "        r = []\n",
        "        max_cnt = 1\n",
        "        def recur(node):\n",
        "            nonlocal r, max_cnt\n",
        "            if node is None:\n",
        "                return\n",
        "            recur(node.left)\n",
        "            if len(r):\n",
        "                if node.val == r[-1][0]:\n",
        "                    r[-1] = (node.val, r[-1][1]+1)\n",
        "                    if r[-1][1] > max_cnt:\n",
        "                        max_cnt = r[-1][1]\n",
        "                        r = r[-1:]\n",
        "                else:\n",
        "                    if r[-1][1] < max_cnt:\n",
        "                        r.pop()\n",
        "                    r.append((node.val, 1))\n",
        "            else:\n",
        "                r.append((node.val, 1))\n",
        "            recur(node.right)\n",
        "\n",
        "        recur(root)\n",
        "        return [val for val, cnt in r if cnt == max_cnt]\n"
      ]
    },
    {
      "cell_type": "code",
      "execution_count": 10,
      "metadata": {},
      "outputs": [],
      "source": [
        "from helper import array_to_tree\n",
        "s = Solution()\n",
        "\n",
        "t = TreeNode(1,\n",
        "  right = TreeNode(2,\n",
        "    left = TreeNode(2)\n",
        "  )\n",
        ")\n",
        "assert s.findMode(t) == [2]\n",
        "\n",
        "t = TreeNode(0)\n",
        "assert s.findMode(t) == [0]\n",
        "\n",
        "t = array_to_tree([1,0,2,0,0,2,2])\n",
        "assert s.findMode(t) == [0,2]\n",
        "\n",
        "t = array_to_tree([6,2,8,0,4,7,9,None,None,2,6])\n",
        "assert s.findMode(t) == [2,6]"
      ]
    },
    {
      "cell_type": "code",
      "execution_count": 11,
      "metadata": {},
      "outputs": [
        {
          "data": {
            "text/markdown": [
              "😃 Result: Accepted\n",
              "\n",
              "📥 Input: ``\n",
              "\n",
              "📤 Output: ``\n",
              "\n",
              "✅ Expected: ``\n",
              "\n",
              "💯 Passed Test Case: 23 / 23\n",
              "\n",
              "🚀 Runtime: 52 ms, Memory: 18 MB\n",
              "\n",
              "🉑 Runtime Percentile: better than 93.33%, Memory Percentile: better than 81.06%\n",
              "\n",
              "📆 Finished At: 2022-02-19"
            ],
            "text/plain": [
              "<IPython.core.display.Markdown object>"
            ]
          },
          "metadata": {},
          "output_type": "display_data"
        }
      ],
      "source": [
        "import sys, os; sys.path.append(os.path.abspath('..'))\n",
        "from submitter import submit\n",
        "submit(501)"
      ]
    }
  ],
  "metadata": {
    "authors": [
      {
        "name": "Soros Liu"
      }
    ],
    "kernelspec": {
      "display_name": "Python 3",
      "language": "python",
      "name": "python3"
    },
    "language_info": {
      "codemirror_mode": {
        "name": "ipython",
        "version": 3
      },
      "file_extension": ".py",
      "mimetype": "text/x-python",
      "name": "python",
      "nbconvert_exporter": "python",
      "pygments_lexer": "ipython3",
      "version": "3.8.6"
    },
    "leetcode_question_info": {
      "questionFrontendId": "501",
      "questionId": "501",
      "sampleTestCase": "[1,null,2,2]",
      "submitUrl": "/problems/find-mode-in-binary-search-tree/submit/"
    }
  },
  "nbformat": 4,
  "nbformat_minor": 2
}
