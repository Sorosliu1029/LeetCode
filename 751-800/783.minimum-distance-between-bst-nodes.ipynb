{
  "cells": [
    {
      "cell_type": "markdown",
      "metadata": {},
      "source": [
        "### 783. Minimum Distance Between BST Nodes"
      ]
    },
    {
      "cell_type": "markdown",
      "metadata": {},
      "source": [
        "#### Content\n",
        "<p>Given the <code>root</code> of a Binary Search Tree (BST), return <em>the minimum difference between the values of any two different nodes in the tree</em>.</p>\n",
        "\n",
        "<p>&nbsp;</p>\n",
        "<p><strong>Example 1:</strong></p>\n",
        "<img alt=\"\" src=\"https://assets.leetcode.com/uploads/2021/02/05/bst1.jpg\" style=\"width: 292px; height: 301px;\" />\n",
        "<pre>\n",
        "<strong>Input:</strong> root = [4,2,6,1,3]\n",
        "<strong>Output:</strong> 1\n",
        "</pre>\n",
        "\n",
        "<p><strong>Example 2:</strong></p>\n",
        "<img alt=\"\" src=\"https://assets.leetcode.com/uploads/2021/02/05/bst2.jpg\" style=\"width: 282px; height: 301px;\" />\n",
        "<pre>\n",
        "<strong>Input:</strong> root = [1,0,48,null,null,12,49]\n",
        "<strong>Output:</strong> 1\n",
        "</pre>\n",
        "\n",
        "<p>&nbsp;</p>\n",
        "<p><strong>Constraints:</strong></p>\n",
        "\n",
        "<ul>\n",
        "\t<li>The number of nodes in the tree is in the range <code>[2, 100]</code>.</li>\n",
        "\t<li><code>0 &lt;= Node.val &lt;= 10<sup>5</sup></code></li>\n",
        "</ul>\n",
        "\n",
        "<p>&nbsp;</p>\n",
        "<p><strong>Note:</strong> This question is the same as 530: <a href=\"https://leetcode.com/problems/minimum-absolute-difference-in-bst/\" target=\"_blank\">https://leetcode.com/problems/minimum-absolute-difference-in-bst/</a></p>\n"
      ]
    },
    {
      "cell_type": "markdown",
      "metadata": {},
      "source": [
        "#### Difficulty: Easy, AC rate: 55.8%\n",
        "\n",
        "#### Question Tags:\n",
        "- Tree\n",
        "- Depth-First Search\n",
        "- Breadth-First Search\n",
        "- Binary Search Tree\n",
        "- Binary Tree\n",
        "\n",
        "#### Links:\n",
        " 🎁 [Question Detail](https://leetcode.com/problems/minimum-distance-between-bst-nodes/description/) | 🎉 [Question Solution](https://leetcode.com/problems/minimum-distance-between-bst-nodes/solution/) | 💬 [Question Discussion](https://leetcode.com/problems/minimum-distance-between-bst-nodes/discuss/?orderBy=most_votes)\n",
        "\n",
        "#### Hints:\n"
      ]
    },
    {
      "cell_type": "markdown",
      "metadata": {},
      "source": [
        "#### Sample Test Case\n",
        "[4,2,6,1,3]"
      ]
    },
    {
      "cell_type": "markdown",
      "metadata": {},
      "source": [
        "---\n",
        "What's your idea?\n",
        "\n",
        "DFS\n",
        "\n",
        "---"
      ]
    },
    {
      "cell_type": "code",
      "execution_count": 27,
      "metadata": {},
      "outputs": [],
      "source": [
        "from typing import Optional\n",
        "# Definition for a binary tree node.\n",
        "class TreeNode:\n",
        "    def __init__(self, val=0, left=None, right=None):\n",
        "        self.val = val\n",
        "        self.left = left\n",
        "        self.right = right"
      ]
    },
    {
      "cell_type": "code",
      "execution_count": 29,
      "metadata": {
        "isSolutionCode": true
      },
      "outputs": [],
      "source": [
        "class Solution:\n",
        "    def minDiffInBST(self, root: Optional[TreeNode]) -> int:\n",
        "        if root is None:\n",
        "            return 1e5\n",
        "        return self.recur(root)[0]\n",
        "        \n",
        "    def recur(self, node):\n",
        "        if node.left is None and node.right is None:\n",
        "            return (1e5, (node.val, node.val))\n",
        "        if node.left is None:\n",
        "            right_min_abs_diff, (right_min, right_max) = self.recur(node.right)\n",
        "            return (min(right_min_abs_diff, right_min-node.val), (node.val, right_max))\n",
        "        if node.right is None:\n",
        "            left_min_abs_diff, (left_min, left_max) = self.recur(node.left)\n",
        "            return (min(left_min_abs_diff, node.val-left_max), (left_min, node.val))\n",
        "        \n",
        "        left_min_abs_diff, (left_min, left_max) = self.recur(node.left)\n",
        "        right_min_abs_diff, (right_min, right_max) = self.recur(node.right)\n",
        "        return (\n",
        "            min(left_min_abs_diff, right_min_abs_diff, node.val-left_max, right_min-node.val),\n",
        "            (left_min, right_max)\n",
        "        )"
      ]
    },
    {
      "cell_type": "code",
      "execution_count": 30,
      "metadata": {},
      "outputs": [],
      "source": [
        "from helper import array_to_tree\n",
        "s = Solution()\n",
        "\n",
        "t = array_to_tree([4,2,6,1,3])\n",
        "assert s.minDiffInBST(t) == 1\n",
        "\n",
        "t = array_to_tree([1,0,48,None,None,12,49])\n",
        "assert s.minDiffInBST(t) == 1\n",
        "\n",
        "t = array_to_tree([6,1])\n",
        "assert s.minDiffInBST(t) == 5\n",
        "\n",
        "t = array_to_tree([6,None,9])\n",
        "assert s.minDiffInBST(t) == 3\n",
        "\n",
        "t = array_to_tree([6,1,10])\n",
        "assert s.minDiffInBST(t) == 4"
      ]
    },
    {
      "cell_type": "code",
      "execution_count": 31,
      "metadata": {},
      "outputs": [
        {
          "data": {
            "text/markdown": [
              "😃 Result: Accepted\n",
              "\n",
              "📥 Input: ``\n",
              "\n",
              "📤 Output: ``\n",
              "\n",
              "✅ Expected: ``\n",
              "\n",
              "💯 Passed Test Case: 48 / 48\n",
              "\n",
              "🚀 Runtime: 43 ms, Memory: 14.1 MB\n",
              "\n",
              "🉑 Runtime Percentile: better than 56.11%, Memory Percentile: better than 60.28%\n",
              "\n",
              "📆 Finished At: 2022-02-23"
            ],
            "text/plain": [
              "<IPython.core.display.Markdown object>"
            ]
          },
          "metadata": {},
          "output_type": "display_data"
        }
      ],
      "source": [
        "import sys, os; sys.path.append(os.path.abspath('..'))\n",
        "from submitter import submit\n",
        "submit(783)"
      ]
    }
  ],
  "metadata": {
    "authors": [
      {
        "name": "Soros Liu"
      }
    ],
    "kernelspec": {
      "display_name": "Python 3",
      "language": "python",
      "name": "python3"
    },
    "language_info": {
      "codemirror_mode": {
        "name": "ipython",
        "version": 3
      },
      "file_extension": ".py",
      "mimetype": "text/x-python",
      "name": "python",
      "nbconvert_exporter": "python",
      "pygments_lexer": "ipython3",
      "version": "3.8.6"
    },
    "leetcode_question_info": {
      "questionFrontendId": "783",
      "questionId": "799",
      "sampleTestCase": "[4,2,6,1,3]",
      "submitUrl": "/problems/minimum-distance-between-bst-nodes/submit/"
    }
  },
  "nbformat": 4,
  "nbformat_minor": 2
}
