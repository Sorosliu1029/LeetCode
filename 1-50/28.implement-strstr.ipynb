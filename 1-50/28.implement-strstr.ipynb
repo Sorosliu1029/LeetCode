{
 "cells": [
  {
   "cell_type": "markdown",
   "metadata": {},
   "source": [
    "### 28. Implement strStr()"
   ]
  },
  {
   "cell_type": "markdown",
   "metadata": {},
   "source": [
    "#### Content\n",
    "<p>Implement <a href=\"http://www.cplusplus.com/reference/cstring/strstr/\" target=\"_blank\">strStr()</a>.</p>\n",
    "\n",
    "<p>Return the index of the first occurrence of needle in haystack, or <code>-1</code> if <code>needle</code> is not part of <code>haystack</code>.</p>\n",
    "\n",
    "<p><strong>Clarification:</strong></p>\n",
    "\n",
    "<p>What should we return when <code>needle</code> is an empty string? This is a great question to ask during an interview.</p>\n",
    "\n",
    "<p>For the purpose of this problem, we will return 0 when <code>needle</code> is an empty string. This is consistent to C&#39;s&nbsp;<a href=\"http://www.cplusplus.com/reference/cstring/strstr/\" target=\"_blank\">strstr()</a> and Java&#39;s&nbsp;<a href=\"https://docs.oracle.com/javase/7/docs/api/java/lang/String.html#indexOf(java.lang.String)\" target=\"_blank\">indexOf()</a>.</p>\n",
    "\n",
    "<p>&nbsp;</p>\n",
    "<p><strong>Example 1:</strong></p>\n",
    "<pre><strong>Input:</strong> haystack = \"hello\", needle = \"ll\"\n",
    "<strong>Output:</strong> 2\n",
    "</pre><p><strong>Example 2:</strong></p>\n",
    "<pre><strong>Input:</strong> haystack = \"aaaaa\", needle = \"bba\"\n",
    "<strong>Output:</strong> -1\n",
    "</pre><p><strong>Example 3:</strong></p>\n",
    "<pre><strong>Input:</strong> haystack = \"\", needle = \"\"\n",
    "<strong>Output:</strong> 0\n",
    "</pre>\n",
    "<p>&nbsp;</p>\n",
    "<p><strong>Constraints:</strong></p>\n",
    "\n",
    "<ul>\n",
    "\t<li><code>0 &lt;= haystack.length, needle.length &lt;= 5 * 10<sup>4</sup></code></li>\n",
    "\t<li><code>haystack</code> and&nbsp;<code>needle</code> consist of only lower-case English characters.</li>\n",
    "</ul>\n"
   ]
  },
  {
   "cell_type": "markdown",
   "metadata": {},
   "source": [
    "#### Difficulty: Easy, AC rate: 35.8%\n",
    "\n",
    "#### Question Tags:\n",
    "- Two Pointers\n",
    "- String\n",
    "- String Matching\n",
    "\n",
    "#### Links:\n",
    " 🎁 [Question Detail](https://leetcode.com/problems/implement-strstr/description/) | 🎉 [Question Solution](https://leetcode.com/problems/implement-strstr/solution/) | 💬 [Question Discussion](https://leetcode.com/problems/implement-strstr/discuss/?orderBy=most_votes)\n",
    "\n",
    "#### Hints:\n"
   ]
  },
  {
   "cell_type": "markdown",
   "metadata": {},
   "source": [
    "#### Sample Test Case\n",
    "\"hello\"\n",
    "\"ll\""
   ]
  },
  {
   "cell_type": "markdown",
   "metadata": {},
   "source": [
    "---\n",
    "What's your idea?\n",
    "\n",
    "只先实现了 naive 的方法，加了一些优化，但时间复杂度仍然是 `O(n*m)`，会 LTE\n",
    "\n",
    "贴出 naive 的方法：\n",
    "\n",
    "---"
   ]
  },
  {
   "cell_type": "code",
   "execution_count": 1,
   "metadata": {},
   "outputs": [],
   "source": [
    "import bisect\n",
    "\n",
    "class Solution:\n",
    "    def strStr(self, haystack: str, needle: str) -> int:\n",
    "        if not needle:\n",
    "            return 0\n",
    "        \n",
    "        needle_len = len(needle)\n",
    "        haystack_len = len(haystack)\n",
    "        if needle_len > haystack_len:\n",
    "            return -1\n",
    "        \n",
    "        d = {}\n",
    "        for i, c in enumerate(needle):\n",
    "            d.setdefault(c, []).append(i)\n",
    "        \n",
    "        start = 0\n",
    "        while start <= haystack_len - needle_len:\n",
    "            idx = 0\n",
    "            while idx < needle_len and needle[idx] == haystack[start+idx]:\n",
    "                idx += 1\n",
    "            if idx == 0:\n",
    "                start += 1\n",
    "                continue\n",
    "                \n",
    "            if idx == needle_len:\n",
    "                return start\n",
    "            \n",
    "            anchor = haystack[start+idx]\n",
    "            anchor_in_needle = d.get(anchor)\n",
    "            if not anchor_in_needle:\n",
    "                start += (idx + 1)\n",
    "            else:\n",
    "                anchor_idx = bisect.bisect_left(anchor_in_needle, idx)-1\n",
    "                if anchor_idx < 0:\n",
    "                    start += (idx+1)\n",
    "                else:\n",
    "                    start += (idx-anchor_in_needle[anchor_idx])\n",
    "            \n",
    "        return -1"
   ]
  },
  {
   "cell_type": "markdown",
   "metadata": {},
   "source": [
    "看起来能过的应该是 KMP "
   ]
  },
  {
   "cell_type": "code",
   "execution_count": 2,
   "metadata": {
    "isSolutionCode": true
   },
   "outputs": [],
   "source": [
    "class Solution:\n",
    "    def strStr(self, haystack: str, needle: str) -> int:\n",
    "        pass"
   ]
  },
  {
   "cell_type": "code",
   "execution_count": 3,
   "metadata": {},
   "outputs": [
    {
     "name": "stdout",
     "output_type": "stream",
     "text": [
      "False\n",
      "False\n",
      "False\n",
      "False\n",
      "False\n",
      "False\n",
      "False\n",
      "False\n"
     ]
    }
   ],
   "source": [
    "s = Solution()\n",
    "print(s.strStr(\"hello\", \"ll\") == 2)\n",
    "print(s.strStr(\"aaaaa\", \"bba\") == -1)\n",
    "print(s.strStr(\"\", \"\") == 0)\n",
    "print(s.strStr(\"a\", \"a\") == 0)\n",
    "print(s.strStr(\"aaaaaaaacaaaaaab\", \"aaab\") == 12)\n",
    "print(s.strStr(\"abceabcfabcdabcg\", \"abch\") == -1)\n",
    "print(s.strStr(\"abceabcfabcdabcg\", \"abcd\") == 8)\n",
    "print(s.strStr(\"aabaaabaaac\", \"aabaaac\") == 4)"
   ]
  },
  {
   "cell_type": "code",
   "execution_count": 4,
   "metadata": {},
   "outputs": [
    {
     "data": {
      "text/plain": [
       "{'ERROR': 'No solution or solution is empty'}"
      ]
     },
     "execution_count": 4,
     "metadata": {},
     "output_type": "execute_result"
    }
   ],
   "source": [
    "import sys, os; sys.path.append(os.path.abspath('..'))\n",
    "from submitter import submit\n",
    "submit(28)"
   ]
  }
 ],
 "metadata": {
  "authors": [
   {
    "name": "Soros Liu"
   }
  ],
  "kernelspec": {
   "display_name": "Python 3",
   "language": "python",
   "name": "python3"
  },
  "language_info": {
   "codemirror_mode": {
    "name": "ipython",
    "version": 3
   },
   "file_extension": ".py",
   "mimetype": "text/x-python",
   "name": "python",
   "nbconvert_exporter": "python",
   "pygments_lexer": "ipython3",
   "version": "3.8.6"
  },
  "leetcode_question_info": {
   "sampleTestCase": "\"hello\"\n\"ll\"",
   "submitUrl": "/problems/implement-strstr/submit/"
  }
 },
 "nbformat": 4,
 "nbformat_minor": 2
}
