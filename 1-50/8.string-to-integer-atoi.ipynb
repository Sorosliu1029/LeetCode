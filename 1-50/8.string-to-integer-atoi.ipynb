{
 "cells": [
  {
   "cell_type": "markdown",
   "metadata": {},
   "source": [
    "### 8. String to Integer (atoi)"
   ]
  },
  {
   "cell_type": "markdown",
   "metadata": {},
   "source": [
    "#### Content\n",
    "<p>Implement the <code>myAtoi(string s)</code> function, which converts a string to a 32-bit signed integer (similar to C/C++&#39;s <code>atoi</code> function).</p>\n",
    "\n",
    "<p>The algorithm for <code>myAtoi(string s)</code> is as follows:</p>\n",
    "\n",
    "<ol>\n",
    "\t<li>Read in and ignore any leading whitespace.</li>\n",
    "\t<li>Check if the next character (if not already at the end of the string) is <code>&#39;-&#39;</code> or <code>&#39;+&#39;</code>. Read this character in if it is either. This determines if the final result is negative or positive respectively. Assume the result is positive if neither is present.</li>\n",
    "\t<li>Read in next the characters until the next non-digit charcter or the end of the input is reached. The rest of the string is ignored.</li>\n",
    "\t<li>Convert these digits into an integer (i.e. <code>&quot;123&quot; -&gt; 123</code>, <code>&quot;0032&quot; -&gt; 32</code>). If no digits were read, then the integer is <code>0</code>. Change the sign as necessary (from step 2).</li>\n",
    "\t<li>If the integer is out of the 32-bit signed integer range <code>[-2<sup>31</sup>, 2<sup>31</sup> - 1]</code>, then clamp the integer so that it remains in the range. Specifically, integers less than <code>-2<sup>31</sup></code> should be clamped to <code>-2<sup>31</sup></code>, and integers greater than <code>2<sup>31</sup> - 1</code> should be clamped to <code>2<sup>31</sup> - 1</code>.</li>\n",
    "\t<li>Return the integer as the final result.</li>\n",
    "</ol>\n",
    "\n",
    "<p><strong>Note:</strong></p>\n",
    "\n",
    "<ul>\n",
    "\t<li>Only the space character <code>&#39; &#39;</code> is considered a whitespace character.</li>\n",
    "\t<li><strong>Do not ignore</strong> any characters other than the leading whitespace or the rest of the string after the digits.</li>\n",
    "</ul>\n",
    "\n",
    "<p>&nbsp;</p>\n",
    "<p><strong>Example 1:</strong></p>\n",
    "\n",
    "<pre>\n",
    "<strong>Input:</strong> s = &quot;42&quot;\n",
    "<strong>Output:</strong> 42\n",
    "<strong>Explanation:</strong> The underlined characters are what is read in, the caret is the current reader position.\n",
    "Step 1: &quot;42&quot; (no characters read because there is no leading whitespace)\n",
    "         ^\n",
    "Step 2: &quot;42&quot; (no characters read because there is neither a &#39;-&#39; nor &#39;+&#39;)\n",
    "         ^\n",
    "Step 3: &quot;<u>42</u>&quot; (&quot;42&quot; is read in)\n",
    "           ^\n",
    "The parsed integer is 42.\n",
    "Since 42 is in the range [-2<sup>31</sup>, 2<sup>31</sup> - 1], the final result is 42.\n",
    "</pre>\n",
    "\n",
    "<p><strong>Example 2:</strong></p>\n",
    "\n",
    "<pre>\n",
    "<strong>Input:</strong> s = &quot;   -42&quot;\n",
    "<strong>Output:</strong> -42\n",
    "<strong>Explanation:</strong>\n",
    "Step 1: &quot;<u>   </u>-42&quot; (leading whitespace is read and ignored)\n",
    "            ^\n",
    "Step 2: &quot;   <u>-</u>42&quot; (&#39;-&#39; is read, so the result should be negative)\n",
    "             ^\n",
    "Step 3: &quot;   -<u>42</u>&quot; (&quot;42&quot; is read in)\n",
    "               ^\n",
    "The parsed integer is -42.\n",
    "Since -42 is in the range [-2<sup>31</sup>, 2<sup>31</sup> - 1], the final result is -42.\n",
    "</pre>\n",
    "\n",
    "<p><strong>Example 3:</strong></p>\n",
    "\n",
    "<pre>\n",
    "<strong>Input:</strong> s = &quot;4193 with words&quot;\n",
    "<strong>Output:</strong> 4193\n",
    "<strong>Explanation:</strong>\n",
    "Step 1: &quot;4193 with words&quot; (no characters read because there is no leading whitespace)\n",
    "         ^\n",
    "Step 2: &quot;4193 with words&quot; (no characters read because there is neither a &#39;-&#39; nor &#39;+&#39;)\n",
    "         ^\n",
    "Step 3: &quot;<u>4193</u> with words&quot; (&quot;4193&quot; is read in; reading stops because the next character is a non-digit)\n",
    "             ^\n",
    "The parsed integer is 4193.\n",
    "Since 4193 is in the range [-2<sup>31</sup>, 2<sup>31</sup> - 1], the final result is 4193.\n",
    "</pre>\n",
    "\n",
    "<p><strong>Example 4:</strong></p>\n",
    "\n",
    "<pre>\n",
    "<strong>Input:</strong> s = &quot;words and 987&quot;\n",
    "<strong>Output:</strong> 0\n",
    "<strong>Explanation:\n",
    "</strong>Step 1: &quot;words and 987&quot; (no characters read because there is no leading whitespace)\n",
    "         ^\n",
    "Step 2: &quot;words and 987&quot; (no characters read because there is neither a &#39;-&#39; nor &#39;+&#39;)\n",
    "         ^\n",
    "Step 3: &quot;words and 987&quot; (reading stops immediately because there is a non-digit &#39;w&#39;)\n",
    "         ^\n",
    "The parsed integer is 0 because no digits were read.\n",
    "Since 0 is in the range [-2<sup>31</sup>, 2<sup>31</sup> - 1], the final result is 0.\n",
    "</pre>\n",
    "\n",
    "<p><strong>Example 5:</strong></p>\n",
    "\n",
    "<pre>\n",
    "<strong>Input:</strong> s = &quot;-91283472332&quot;\n",
    "<strong>Output:</strong> -2147483648\n",
    "<strong>Explanation:\n",
    "</strong>Step 1: &quot;-91283472332&quot; (no characters read because there is no leading whitespace)\n",
    "         ^\n",
    "Step 2: &quot;<u>-</u>91283472332&quot; (&#39;-&#39; is read, so the result should be negative)\n",
    "          ^\n",
    "Step 3: &quot;-<u>91283472332</u>&quot; (&quot;91283472332&quot; is read in)\n",
    "                     ^\n",
    "The parsed integer is -91283472332.\n",
    "Since -91283472332 is less than the lower bound of the range [-2<sup>31</sup>, 2<sup>31</sup> - 1], the final result is clamped to -2<sup>31</sup> = -2147483648.<strong><span style=\"display: none;\"> </span></strong>\n",
    "</pre>\n",
    "\n",
    "<p>&nbsp;</p>\n",
    "<p><strong>Constraints:</strong></p>\n",
    "\n",
    "<ul>\n",
    "\t<li><code>0 &lt;= s.length &lt;= 200</code></li>\n",
    "\t<li><code>s</code> consists of English letters (lower-case and upper-case), digits (<code>0-9</code>), <code>&#39; &#39;</code>, <code>&#39;+&#39;</code>, <code>&#39;-&#39;</code>, and <code>&#39;.&#39;</code>.</li>\n",
    "</ul>\n"
   ]
  },
  {
   "cell_type": "markdown",
   "metadata": {},
   "source": [
    "#### Difficulty: Medium, AC rate: 15.9%\n",
    "\n",
    "#### Question Tags:\n",
    "- String\n",
    "\n",
    "#### Links:\n",
    " 🎁 [Question Detail](https://leetcode.com/problems/string-to-integer-atoi/description/) | 🎉 [Question Solution](https://leetcode.com/problems/string-to-integer-atoi/solution/) | 💬 [Question Discussion](https://leetcode.com/problems/string-to-integer-atoi/discuss/?orderBy=most_votes)\n",
    "\n",
    "#### Hints:\n"
   ]
  },
  {
   "cell_type": "markdown",
   "metadata": {},
   "source": [
    "#### Sample Test Case\n",
    "\"42\""
   ]
  },
  {
   "cell_type": "markdown",
   "metadata": {},
   "source": [
    "---\n",
    "What's your idea?\n",
    "\n",
    "按照提示的步骤一步步做就好\n",
    "\n",
    "---"
   ]
  },
  {
   "cell_type": "code",
   "execution_count": 1,
   "metadata": {
    "isSolutionCode": true
   },
   "outputs": [],
   "source": [
    "class Solution:\n",
    "    def myAtoi(self, s: str) -> int:\n",
    "        p = 0\n",
    "        length = len(s)\n",
    "        \n",
    "        while p < length and s[p] == ' ':\n",
    "            p += 1\n",
    "        if p == length:\n",
    "            return 0\n",
    "        \n",
    "        is_positive = True\n",
    "        if s[p] == '-':\n",
    "            is_positive = False\n",
    "            p += 1\n",
    "        elif s[p] == '+':\n",
    "            p += 1\n",
    "        \n",
    "        i = 0\n",
    "        ord_0 = ord('0')\n",
    "        while p < length and '0' <= s[p] <= '9':\n",
    "            i = i * 10 + ord(s[p]) - ord_0\n",
    "            p += 1\n",
    "            \n",
    "        if not is_positive:\n",
    "            i *= -1\n",
    "            \n",
    "        i_min = (-2) ** 31\n",
    "        if i < i_min:\n",
    "            return i_min\n",
    "        \n",
    "        i_max = 2**31 - 1\n",
    "        if i > i_max:\n",
    "            return i_max\n",
    "        \n",
    "        return i"
   ]
  },
  {
   "cell_type": "code",
   "execution_count": 2,
   "metadata": {},
   "outputs": [
    {
     "name": "stdout",
     "output_type": "stream",
     "text": [
      "True\n",
      "True\n",
      "True\n",
      "True\n",
      "True\n",
      "True\n",
      "True\n",
      "True\n",
      "True\n",
      "True\n"
     ]
    }
   ],
   "source": [
    "s = Solution()\n",
    "\n",
    "print(s.myAtoi(\"42\") == 42)\n",
    "print(s.myAtoi(\"   -42\") == -42)\n",
    "print(s.myAtoi(\"4193 with words\") == 4193)\n",
    "print(s.myAtoi(\"words and 987\") == 0)\n",
    "print(s.myAtoi(\"-91283472332\") == -2147483648)\n",
    "print(s.myAtoi(\"\") == 0)\n",
    "print(s.myAtoi(\"-\") == 0)\n",
    "print(s.myAtoi(\"+\") == 0)\n",
    "print(s.myAtoi(\"0032\") == 32)\n",
    "print(s.myAtoi(\"-0032\") == -32)"
   ]
  },
  {
   "cell_type": "code",
   "execution_count": 3,
   "metadata": {},
   "outputs": [
    {
     "data": {
      "text/markdown": [
       "😃 Result: Accepted\n",
       "\n",
       "📥 Input: ``\n",
       "\n",
       "📤 Output: ``\n",
       "\n",
       "✅ Expected: ``\n",
       "\n",
       "💯 Passed Test Case: 1082 / 1082\n",
       "\n",
       "🚀 Runtime: 36 ms, Memory: 14.2 MB\n",
       "\n",
       "🉑 Runtime Percentile: better than 56.22%, Memory Percentile: better than 82.88%\n",
       "\n",
       "📆 Finished At: 2021-08-13"
      ],
      "text/plain": [
       "<IPython.core.display.Markdown object>"
      ]
     },
     "metadata": {},
     "output_type": "display_data"
    }
   ],
   "source": [
    "import sys, os; sys.path.append(os.path.abspath('..'))\n",
    "from submitter import submit\n",
    "submit(8)"
   ]
  }
 ],
 "metadata": {
  "authors": [
   {
    "name": "Soros Liu"
   }
  ],
  "kernelspec": {
   "display_name": "Python 3",
   "language": "python",
   "name": "python3"
  },
  "language_info": {
   "codemirror_mode": {
    "name": "ipython",
    "version": 3
   },
   "file_extension": ".py",
   "mimetype": "text/x-python",
   "name": "python",
   "nbconvert_exporter": "python",
   "pygments_lexer": "ipython3",
   "version": "3.8.6"
  },
  "leetcode_question_info": {
   "sampleTestCase": "\"42\"",
   "submitUrl": "/problems/string-to-integer-atoi/submit/"
  }
 },
 "nbformat": 4,
 "nbformat_minor": 2
}
