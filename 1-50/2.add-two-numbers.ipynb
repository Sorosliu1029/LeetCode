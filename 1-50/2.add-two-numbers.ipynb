{
 "cells": [
  {
   "cell_type": "markdown",
   "metadata": {},
   "source": [
    "### 2. Add Two Numbers"
   ]
  },
  {
   "cell_type": "markdown",
   "metadata": {},
   "source": [
    "#### Content\n",
    "<p>You are given two <strong>non-empty</strong> linked lists representing two non-negative integers. The digits are stored in <strong>reverse order</strong>, and each of their nodes contains a single digit. Add the two numbers and return the sum&nbsp;as a linked list.</p>\n",
    "\n",
    "<p>You may assume the two numbers do not contain any leading zero, except the number 0 itself.</p>\n",
    "\n",
    "<p>&nbsp;</p>\n",
    "<p><strong>Example 1:</strong></p>\n",
    "<img alt=\"\" src=\"https://assets.leetcode.com/uploads/2020/10/02/addtwonumber1.jpg\" style=\"width: 483px; height: 342px;\" />\n",
    "<pre>\n",
    "<strong>Input:</strong> l1 = [2,4,3], l2 = [5,6,4]\n",
    "<strong>Output:</strong> [7,0,8]\n",
    "<strong>Explanation:</strong> 342 + 465 = 807.\n",
    "</pre>\n",
    "\n",
    "<p><strong>Example 2:</strong></p>\n",
    "\n",
    "<pre>\n",
    "<strong>Input:</strong> l1 = [0], l2 = [0]\n",
    "<strong>Output:</strong> [0]\n",
    "</pre>\n",
    "\n",
    "<p><strong>Example 3:</strong></p>\n",
    "\n",
    "<pre>\n",
    "<strong>Input:</strong> l1 = [9,9,9,9,9,9,9], l2 = [9,9,9,9]\n",
    "<strong>Output:</strong> [8,9,9,9,0,0,0,1]\n",
    "</pre>\n",
    "\n",
    "<p>&nbsp;</p>\n",
    "<p><strong>Constraints:</strong></p>\n",
    "\n",
    "<ul>\n",
    "\t<li>The number of nodes in each linked list is in the range <code>[1, 100]</code>.</li>\n",
    "\t<li><code>0 &lt;= Node.val &lt;= 9</code></li>\n",
    "\t<li>It is guaranteed that the list represents a number that does not have leading zeros.</li>\n",
    "</ul>\n"
   ]
  },
  {
   "cell_type": "markdown",
   "metadata": {},
   "source": [
    "#### Difficulty: Medium, AC rate: 36.5%\n",
    "\n",
    "#### Question Tags:\n",
    "- Linked List\n",
    "- Math\n",
    "- Recursion\n",
    "\n",
    "#### Links:\n",
    " 🎁 [Question Detail](https://leetcode.com/problems/add-two-numbers/description/) | 🎉 [Question Solution](https://leetcode.com/problems/add-two-numbers/solution/) | 💬 [Question Discussion](https://leetcode.com/problems/add-two-numbers/discuss/?orderBy=most_votes)\n",
    "\n",
    "#### Hints:\n"
   ]
  },
  {
   "cell_type": "markdown",
   "metadata": {},
   "source": [
    "#### Sample Test Case\n",
    "[2,4,3]\n",
    "[5,6,4]"
   ]
  },
  {
   "cell_type": "markdown",
   "metadata": {},
   "source": [
    "---\n",
    "What's your idea?\n",
    "\n",
    "第一次遍历，按照竖式加法的规则，从低位向高位逐位相加，但先保持进位不进\n",
    "\n",
    "第二次遍历，从低位向高位，逐位考察进位\n",
    "\n",
    "---"
   ]
  },
  {
   "cell_type": "code",
   "execution_count": 1,
   "metadata": {
    "isSolutionCode": true
   },
   "outputs": [],
   "source": [
    "# Definition for singly-linked list.\n",
    "class ListNode:\n",
    "    def __init__(self, val=0, next=None):\n",
    "        self.val = val\n",
    "        self.next = next\n",
    "\n",
    "class Solution:\n",
    "    def addTwoNumbers(self, l1: ListNode, l2: ListNode) -> ListNode:\n",
    "        l1p = l1\n",
    "        l2p = l2\n",
    "        l1p_prev = None\n",
    "        while l1p and l2p:\n",
    "            l1p.val += l2p.val\n",
    "            l1p_prev = l1p\n",
    "            l1p = l1p.next\n",
    "            l2p = l2p.next\n",
    "        if l1p is None:\n",
    "            l1p_prev.next = l2p\n",
    "        \n",
    "        l1p = l1\n",
    "        l1p_prev = None\n",
    "        carry = 0\n",
    "        while l1p:\n",
    "            l1p.val += carry\n",
    "            carry = l1p.val // 10\n",
    "            l1p.val %= 10\n",
    "            l1p_prev = l1p\n",
    "            l1p = l1p.next\n",
    "        if carry:\n",
    "            l1p_prev.next = ListNode(carry)\n",
    "        \n",
    "        return l1"
   ]
  },
  {
   "cell_type": "code",
   "execution_count": 2,
   "metadata": {},
   "outputs": [
    {
     "name": "stdout",
     "output_type": "stream",
     "text": [
      "7\n",
      "0\n",
      "8\n"
     ]
    }
   ],
   "source": [
    "s = Solution()\n",
    "\n",
    "l1_3 = ListNode(3, None)\n",
    "l1_2 = ListNode(4, l1_3)\n",
    "l1_1 = ListNode(2, l1_2)\n",
    "l2_3 = ListNode(4, None)\n",
    "l2_2 = ListNode(6, l2_3)\n",
    "l2_1 = ListNode(5, l2_2)\n",
    "l = s.addTwoNumbers(l1_1, l2_1)\n",
    "while l:\n",
    "    print(l.val)\n",
    "    l = l.next"
   ]
  },
  {
   "cell_type": "code",
   "execution_count": 3,
   "metadata": {},
   "outputs": [
    {
     "name": "stdout",
     "output_type": "stream",
     "text": [
      "0\n"
     ]
    }
   ],
   "source": [
    "l1_1 = ListNode(0, None)\n",
    "l2_1 = ListNode(0, None)\n",
    "l = s.addTwoNumbers(l1_1, l2_1)\n",
    "while l:\n",
    "    print(l.val)\n",
    "    l = l.next"
   ]
  },
  {
   "cell_type": "code",
   "execution_count": 4,
   "metadata": {},
   "outputs": [
    {
     "name": "stdout",
     "output_type": "stream",
     "text": [
      "8\n",
      "9\n",
      "9\n",
      "9\n",
      "0\n",
      "0\n",
      "0\n",
      "1\n"
     ]
    }
   ],
   "source": [
    "l1_7 = ListNode(9, None)\n",
    "l1_6 = ListNode(9, l1_7)\n",
    "l1_5 = ListNode(9, l1_6)\n",
    "l1_4 = ListNode(9, l1_5)\n",
    "l1_3 = ListNode(9, l1_4)\n",
    "l1_2 = ListNode(9, l1_3)\n",
    "l1_1 = ListNode(9, l1_2)\n",
    "l2_4 = ListNode(9, None)\n",
    "l2_3 = ListNode(9, l2_4)\n",
    "l2_2 = ListNode(9, l2_3)\n",
    "l2_1 = ListNode(9, l2_2)\n",
    "l = s.addTwoNumbers(l1_1, l2_1)\n",
    "while l:\n",
    "    print(l.val)\n",
    "    l = l.next"
   ]
  },
  {
   "cell_type": "code",
   "execution_count": 5,
   "metadata": {},
   "outputs": [
    {
     "data": {
      "text/markdown": [
       "😃 Result: Accepted\n",
       "\n",
       "📥 Input: ``\n",
       "\n",
       "📤 Output: ``\n",
       "\n",
       "✅ Expected: ``\n",
       "\n",
       "💯 Passed Test Case: 1568 / 1568\n",
       "\n",
       "🚀 Runtime: 64 ms, Memory: 14 MB\n",
       "\n",
       "🉑 Runtime Percentile: better than 90.44%, Memory Percentile: better than 99.90%\n",
       "\n",
       "📆 Finished At: 2021-07-30"
      ],
      "text/plain": [
       "<IPython.core.display.Markdown object>"
      ]
     },
     "metadata": {},
     "output_type": "display_data"
    }
   ],
   "source": [
    "import sys, os; sys.path.append(os.path.abspath('..'))\n",
    "from submitter import submit\n",
    "submit(2)"
   ]
  }
 ],
 "metadata": {
  "authors": [
   {
    "name": "Soros Liu"
   }
  ],
  "kernelspec": {
   "display_name": "Python 3",
   "language": "python",
   "name": "python3"
  },
  "language_info": {
   "codemirror_mode": {
    "name": "ipython",
    "version": 3
   },
   "file_extension": ".py",
   "mimetype": "text/x-python",
   "name": "python",
   "nbconvert_exporter": "python",
   "pygments_lexer": "ipython3",
   "version": "3.8.6"
  },
  "leetcode_question_info": {
   "sampleTestCase": "[2,4,3]\n[5,6,4]",
   "submitUrl": "/problems/add-two-numbers/submit/"
  }
 },
 "nbformat": 4,
 "nbformat_minor": 2
}
