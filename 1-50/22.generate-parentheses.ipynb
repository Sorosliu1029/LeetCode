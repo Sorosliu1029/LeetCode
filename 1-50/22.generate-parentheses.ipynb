{
  "cells": [
    {
      "cell_type": "markdown",
      "metadata": {},
      "source": [
        "### 22. Generate Parentheses"
      ]
    },
    {
      "cell_type": "markdown",
      "metadata": {},
      "source": [
        "#### Content\n",
        "<p>Given <code>n</code> pairs of parentheses, write a function to <em>generate all combinations of well-formed parentheses</em>.</p>\n",
        "\n",
        "<p>&nbsp;</p>\n",
        "<p><strong>Example 1:</strong></p>\n",
        "<pre><strong>Input:</strong> n = 3\n",
        "<strong>Output:</strong> [\"((()))\",\"(()())\",\"(())()\",\"()(())\",\"()()()\"]\n",
        "</pre><p><strong>Example 2:</strong></p>\n",
        "<pre><strong>Input:</strong> n = 1\n",
        "<strong>Output:</strong> [\"()\"]\n",
        "</pre>\n",
        "<p>&nbsp;</p>\n",
        "<p><strong>Constraints:</strong></p>\n",
        "\n",
        "<ul>\n",
        "\t<li><code>1 &lt;= n &lt;= 8</code></li>\n",
        "</ul>\n"
      ]
    },
    {
      "cell_type": "markdown",
      "metadata": {},
      "source": [
        "#### Difficulty: Medium, AC rate: 69.5%\n",
        "\n",
        "#### Question Tags:\n",
        "- String\n",
        "- Dynamic Programming\n",
        "- Backtracking\n",
        "\n",
        "#### Links:\n",
        " 🎁 [Question Detail](https://leetcode.com/problems/generate-parentheses/description/) | 🎉 [Question Solution](https://leetcode.com/problems/generate-parentheses/solution/) | 💬 [Question Discussion](https://leetcode.com/problems/generate-parentheses/discuss/?orderBy=most_votes)\n",
        "\n",
        "#### Hints:\n"
      ]
    },
    {
      "cell_type": "markdown",
      "metadata": {},
      "source": [
        "#### Sample Test Case\n",
        "3"
      ]
    },
    {
      "cell_type": "markdown",
      "metadata": {},
      "source": [
        "---\n",
        "What's your idea?\n",
        "\n",
        "动态规划 + 记忆\n",
        "\n",
        "每个新生成的 parenthesis 都可以由两个更小的 parenthesis 构成: `left ( right )`\n",
        "\n",
        "---"
      ]
    },
    {
      "cell_type": "code",
      "execution_count": 130,
      "metadata": {
        "isSolutionCode": true
      },
      "outputs": [],
      "source": [
        "from typing import List\n",
        "class Solution:\n",
        "    memory = {0: ['']}\n",
        "    def generateParenthesis(self, n: int) -> List[str]:\n",
        "        def recur(n):\n",
        "            if n in self.memory:\n",
        "                return self.memory[n]\n",
        "            r = []\n",
        "            for i in range(n):\n",
        "                for left in recur(i):\n",
        "                    for right in recur(n-i-1):\n",
        "                        r.append(left + '(' + right + ')')\n",
        "            self.memory[n] = r\n",
        "            return r\n",
        "\n",
        "        return recur(n)"
      ]
    },
    {
      "cell_type": "code",
      "execution_count": 131,
      "metadata": {},
      "outputs": [],
      "source": [
        "s = Solution()\n",
        "assert set(s.generateParenthesis(1)) == set([\"()\"])\n",
        "assert set(s.generateParenthesis(2)) == set([\"(())\", \"()()\"])\n",
        "assert set(s.generateParenthesis(3)) == set([\"((()))\",\"(()())\",\"(())()\",\"()(())\",\"()()()\"])"
      ]
    },
    {
      "cell_type": "code",
      "execution_count": 132,
      "metadata": {},
      "outputs": [
        {
          "data": {
            "text/markdown": [
              "😃 Result: Accepted\n",
              "\n",
              "📥 Input: ``\n",
              "\n",
              "📤 Output: ``\n",
              "\n",
              "✅ Expected: ``\n",
              "\n",
              "💯 Passed Test Case: 8 / 8\n",
              "\n",
              "🚀 Runtime: 36 ms, Memory: 14.2 MB\n",
              "\n",
              "🉑 Runtime Percentile: better than 86.38%, Memory Percentile: better than 74.05%\n",
              "\n",
              "📆 Finished At: 2022-02-25"
            ],
            "text/plain": [
              "<IPython.core.display.Markdown object>"
            ]
          },
          "metadata": {},
          "output_type": "display_data"
        }
      ],
      "source": [
        "import sys, os; sys.path.append(os.path.abspath('..'))\n",
        "from submitter import submit\n",
        "submit(22)"
      ]
    }
  ],
  "metadata": {
    "authors": [
      {
        "name": "Soros Liu"
      }
    ],
    "kernelspec": {
      "display_name": "Python 3",
      "language": "python",
      "name": "python3"
    },
    "language_info": {
      "codemirror_mode": {
        "name": "ipython",
        "version": 3
      },
      "file_extension": ".py",
      "mimetype": "text/x-python",
      "name": "python",
      "nbconvert_exporter": "python",
      "pygments_lexer": "ipython3",
      "version": "3.8.6"
    },
    "leetcode_question_info": {
      "questionFrontendId": "22",
      "questionId": "22",
      "sampleTestCase": "3",
      "submitUrl": "/problems/generate-parentheses/submit/"
    }
  },
  "nbformat": 4,
  "nbformat_minor": 2
}
