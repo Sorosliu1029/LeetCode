{
 "cells": [
  {
   "cell_type": "markdown",
   "metadata": {},
   "source": [
    "### 20. Valid Parentheses"
   ]
  },
  {
   "cell_type": "markdown",
   "metadata": {},
   "source": [
    "#### Content\n",
    "<p>Given a string <code>s</code> containing just the characters <code>&#39;(&#39;</code>, <code>&#39;)&#39;</code>, <code>&#39;{&#39;</code>, <code>&#39;}&#39;</code>, <code>&#39;[&#39;</code> and <code>&#39;]&#39;</code>, determine if the input string is valid.</p>\n",
    "\n",
    "<p>An input string is valid if:</p>\n",
    "\n",
    "<ol>\n",
    "\t<li>Open brackets must be closed by the same type of brackets.</li>\n",
    "\t<li>Open brackets must be closed in the correct order.</li>\n",
    "</ol>\n",
    "\n",
    "<p>&nbsp;</p>\n",
    "<p><strong>Example 1:</strong></p>\n",
    "\n",
    "<pre>\n",
    "<strong>Input:</strong> s = &quot;()&quot;\n",
    "<strong>Output:</strong> true\n",
    "</pre>\n",
    "\n",
    "<p><strong>Example 2:</strong></p>\n",
    "\n",
    "<pre>\n",
    "<strong>Input:</strong> s = &quot;()[]{}&quot;\n",
    "<strong>Output:</strong> true\n",
    "</pre>\n",
    "\n",
    "<p><strong>Example 3:</strong></p>\n",
    "\n",
    "<pre>\n",
    "<strong>Input:</strong> s = &quot;(]&quot;\n",
    "<strong>Output:</strong> false\n",
    "</pre>\n",
    "\n",
    "<p><strong>Example 4:</strong></p>\n",
    "\n",
    "<pre>\n",
    "<strong>Input:</strong> s = &quot;([)]&quot;\n",
    "<strong>Output:</strong> false\n",
    "</pre>\n",
    "\n",
    "<p><strong>Example 5:</strong></p>\n",
    "\n",
    "<pre>\n",
    "<strong>Input:</strong> s = &quot;{[]}&quot;\n",
    "<strong>Output:</strong> true\n",
    "</pre>\n",
    "\n",
    "<p>&nbsp;</p>\n",
    "<p><strong>Constraints:</strong></p>\n",
    "\n",
    "<ul>\n",
    "\t<li><code>1 &lt;= s.length &lt;= 10<sup>4</sup></code></li>\n",
    "\t<li><code>s</code> consists of parentheses only <code>&#39;()[]{}&#39;</code>.</li>\n",
    "</ul>\n"
   ]
  },
  {
   "cell_type": "markdown",
   "metadata": {},
   "source": [
    "#### Difficulty: Easy, AC rate: 40.3%\n",
    "\n",
    "#### Question Tags:\n",
    "- String\n",
    "- Stack\n",
    "\n",
    "#### Links:\n",
    " 🎁 [Question Detail](https://leetcode.com/problems/valid-parentheses/description/) | 🎉 [Question Solution](https://leetcode.com/problems/valid-parentheses/solution/) | 💬 [Question Discussion](https://leetcode.com/problems/valid-parentheses/discuss/?orderBy=most_votes)\n",
    "\n",
    "#### Hints:\n",
    "<details><summary>Hint 0  🔍</summary>An interesting property about a valid parenthesis expression is that a sub-expression of a valid expression should also be a valid expression. (Not every sub-expression) e.g.\n",
    "\n",
    "<pre>\n",
    "{ { } [ ] [ [ [ ] ] ] } is VALID expression\n",
    "          [ [ [ ] ] ]    is VALID sub-expression\n",
    "  { } [ ]                is VALID sub-expression\n",
    "</pre>\n",
    "\n",
    "Can we exploit this recursive structure somehow?</details>\n",
    "<details><summary>Hint 1  🔍</summary>What if whenever we encounter a matching pair of parenthesis in the expression, we simply remove it from the expression? This would keep on shortening the expression. e.g.\n",
    "\n",
    "<pre>\n",
    "{ { ( { } ) } }\n",
    "      |_|\n",
    "\n",
    "{ { (      ) } }\n",
    "    |______|\n",
    "\n",
    "{ {          } }\n",
    "  |__________|\n",
    "\n",
    "{                }\n",
    "|________________|\n",
    "\n",
    "VALID EXPRESSION!\n",
    "</pre></details>\n",
    "<details><summary>Hint 2  🔍</summary>The <b>stack</b> data structure can come in handy here in representing this recursive structure of the problem. We can't really process this from the inside out because we don't have an idea about the overall structure. But, the stack can help us process this recursively i.e. from outside to inwards.</details>\n"
   ]
  },
  {
   "cell_type": "markdown",
   "metadata": {},
   "source": [
    "#### Sample Test Case\n",
    "\"()\""
   ]
  },
  {
   "cell_type": "markdown",
   "metadata": {},
   "source": [
    "---\n",
    "What's your idea?\n",
    "\n",
    "经典的栈的使用场景\n",
    "\n",
    "---"
   ]
  },
  {
   "cell_type": "code",
   "execution_count": 1,
   "metadata": {
    "isSolutionCode": true
   },
   "outputs": [],
   "source": [
    "class Solution:\n",
    "    def isValid(self, s: str) -> bool:\n",
    "        if len(s) % 2:\n",
    "            return False\n",
    "        \n",
    "        stack = []\n",
    "        for c in s:\n",
    "            if c == '(' or c == '[' or c == '{':\n",
    "                stack.append(c)\n",
    "            else:\n",
    "                if len(stack) == 0:\n",
    "                    return False\n",
    "                \n",
    "                top = stack.pop()\n",
    "                if (top == '(' and c != ')') or \\\n",
    "                    (top == '[' and c != ']') or \\\n",
    "                    (top == '{' and c != '}'):\n",
    "                    return False\n",
    "        \n",
    "        return len(stack) == 0"
   ]
  },
  {
   "cell_type": "code",
   "execution_count": 2,
   "metadata": {},
   "outputs": [
    {
     "name": "stdout",
     "output_type": "stream",
     "text": [
      "True\n",
      "True\n",
      "False\n",
      "False\n",
      "True\n",
      "False\n",
      "False\n",
      "False\n"
     ]
    }
   ],
   "source": [
    "s = Solution()\n",
    "\n",
    "print(s.isValid('()'))\n",
    "print(s.isValid('()[]{}'))\n",
    "print(s.isValid('(]'))\n",
    "print(s.isValid('([)]'))\n",
    "print(s.isValid('{[]}'))\n",
    "print(s.isValid('}{'))\n",
    "print(s.isValid('){'))\n",
    "print(s.isValid('()}'))"
   ]
  },
  {
   "cell_type": "code",
   "execution_count": 3,
   "metadata": {},
   "outputs": [
    {
     "data": {
      "text/markdown": [
       "😃 Result: Accepted\n",
       "\n",
       "📥 Input: ``\n",
       "\n",
       "📤 Output: ``\n",
       "\n",
       "✅ Expected: ``\n",
       "\n",
       "💯 Passed Test Case: 91 / 91\n",
       "\n",
       "🚀 Runtime: 45 ms, Memory: 14.2 MB\n",
       "\n",
       "🉑 Runtime Percentile: better than 13.23%, Memory Percentile: better than 86.81%\n",
       "\n",
       "📆 Finished At: 2021-07-31"
      ],
      "text/plain": [
       "<IPython.core.display.Markdown object>"
      ]
     },
     "metadata": {},
     "output_type": "display_data"
    }
   ],
   "source": [
    "import sys, os; sys.path.append(os.path.abspath('..'))\n",
    "from submitter import submit\n",
    "submit(20)"
   ]
  }
 ],
 "metadata": {
  "authors": [
   {
    "name": "Soros Liu"
   }
  ],
  "kernelspec": {
   "display_name": "Python 3",
   "language": "python",
   "name": "python3"
  },
  "language_info": {
   "codemirror_mode": {
    "name": "ipython",
    "version": 3
   },
   "file_extension": ".py",
   "mimetype": "text/x-python",
   "name": "python",
   "nbconvert_exporter": "python",
   "pygments_lexer": "ipython3",
   "version": "3.8.6"
  },
  "leetcode_question_info": {
   "sampleTestCase": "\"()\"",
   "submitUrl": "/problems/valid-parentheses/submit/"
  }
 },
 "nbformat": 4,
 "nbformat_minor": 2
}
