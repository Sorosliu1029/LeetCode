{
 "cells": [
  {
   "cell_type": "markdown",
   "metadata": {},
   "source": [
    "### 9. Palindrome Number"
   ]
  },
  {
   "cell_type": "markdown",
   "metadata": {},
   "source": [
    "#### Content\n",
    "<p>Given an integer <code>x</code>, return <code>true</code> if <code>x</code> is palindrome integer.</p>\n",
    "\n",
    "<p>An integer is a <strong>palindrome</strong> when it reads the same backward as forward. For example, <code>121</code> is palindrome while <code>123</code> is not.</p>\n",
    "\n",
    "<p>&nbsp;</p>\n",
    "<p><strong>Example 1:</strong></p>\n",
    "\n",
    "<pre>\n",
    "<strong>Input:</strong> x = 121\n",
    "<strong>Output:</strong> true\n",
    "</pre>\n",
    "\n",
    "<p><strong>Example 2:</strong></p>\n",
    "\n",
    "<pre>\n",
    "<strong>Input:</strong> x = -121\n",
    "<strong>Output:</strong> false\n",
    "<strong>Explanation:</strong> From left to right, it reads -121. From right to left, it becomes 121-. Therefore it is not a palindrome.\n",
    "</pre>\n",
    "\n",
    "<p><strong>Example 3:</strong></p>\n",
    "\n",
    "<pre>\n",
    "<strong>Input:</strong> x = 10\n",
    "<strong>Output:</strong> false\n",
    "<strong>Explanation:</strong> Reads 01 from right to left. Therefore it is not a palindrome.\n",
    "</pre>\n",
    "\n",
    "<p><strong>Example 4:</strong></p>\n",
    "\n",
    "<pre>\n",
    "<strong>Input:</strong> x = -101\n",
    "<strong>Output:</strong> false\n",
    "</pre>\n",
    "\n",
    "<p>&nbsp;</p>\n",
    "<p><strong>Constraints:</strong></p>\n",
    "\n",
    "<ul>\n",
    "\t<li><code>-2<sup>31</sup>&nbsp;&lt;= x &lt;= 2<sup>31</sup>&nbsp;- 1</code></li>\n",
    "</ul>\n",
    "\n",
    "<p>&nbsp;</p>\n",
    "<strong>Follow up:</strong> Could you solve it without converting the integer to a string?"
   ]
  },
  {
   "cell_type": "markdown",
   "metadata": {},
   "source": [
    "#### Difficulty: Easy, AC rate: 50.9%\n",
    "\n",
    "#### Question Tags:\n",
    "- Math\n",
    "\n",
    "#### Links:\n",
    " 🎁 [Question Detail](https://leetcode.com/problems/palindrome-number/description/) | 🎉 [Question Solution](https://leetcode.com/problems/palindrome-number/solution/) | 💬 [Question Discussion](https://leetcode.com/problems/palindrome-number/discuss/?orderBy=most_votes)\n",
    "\n",
    "#### Hints:\n",
    "<details><summary>Hint 0  🔍</summary>Beware of overflow when you reverse the integer.</details>\n"
   ]
  },
  {
   "cell_type": "markdown",
   "metadata": {},
   "source": [
    "#### Sample Test Case\n",
    "121"
   ]
  },
  {
   "cell_type": "markdown",
   "metadata": {},
   "source": [
    "---\n",
    "What's your idea?\n",
    "\n",
    "- 负数直接 false\n",
    "- 非负数则构造高低位逆序的测试数，最后判断是否与原数相等\n",
    "\n",
    "---"
   ]
  },
  {
   "cell_type": "code",
   "execution_count": 1,
   "metadata": {
    "isSolutionCode": true
   },
   "outputs": [],
   "source": [
    "class Solution:\n",
    "    def isPalindrome(self, x: int) -> bool:\n",
    "        if x < 0:\n",
    "            return False\n",
    "        \n",
    "        xx = x\n",
    "        y = 0\n",
    "        while xx:\n",
    "            y = y * 10 + xx % 10\n",
    "            xx //= 10\n",
    "        \n",
    "        return y == x"
   ]
  },
  {
   "cell_type": "code",
   "execution_count": 2,
   "metadata": {},
   "outputs": [
    {
     "name": "stdout",
     "output_type": "stream",
     "text": [
      "True\n",
      "False\n",
      "False\n",
      "False\n",
      "True\n",
      "True\n",
      "True\n",
      "False\n"
     ]
    }
   ],
   "source": [
    "s = Solution()\n",
    "print(s.isPalindrome(121))\n",
    "print(s.isPalindrome(-121))\n",
    "print(s.isPalindrome(10))\n",
    "print(s.isPalindrome(-101))\n",
    "print(s.isPalindrome(0))\n",
    "print(s.isPalindrome(101))\n",
    "print(s.isPalindrome(1001))\n",
    "print(s.isPalindrome(1002))"
   ]
  },
  {
   "cell_type": "code",
   "execution_count": 3,
   "metadata": {},
   "outputs": [
    {
     "data": {
      "text/markdown": [
       "😃 Result: Accepted\n",
       "\n",
       "📥 Input: ``\n",
       "\n",
       "📤 Output: ``\n",
       "\n",
       "✅ Expected: ``\n",
       "\n",
       "💯 Passed Test Case: 11510 / 11510\n",
       "\n",
       "🚀 Runtime: 72 ms, Memory: 14.3 MB\n",
       "\n",
       "🉑 Runtime Percentile: better than 34.60%, Memory Percentile: better than 49.51%\n",
       "\n",
       "📆 Finished At: 2021-07-31"
      ],
      "text/plain": [
       "<IPython.core.display.Markdown object>"
      ]
     },
     "metadata": {},
     "output_type": "display_data"
    }
   ],
   "source": [
    "import sys, os; sys.path.append(os.path.abspath('..'))\n",
    "from submitter import submit\n",
    "submit(9)"
   ]
  }
 ],
 "metadata": {
  "authors": [
   {
    "name": "Soros Liu"
   }
  ],
  "kernelspec": {
   "display_name": "Python 3",
   "language": "python",
   "name": "python3"
  },
  "language_info": {
   "codemirror_mode": {
    "name": "ipython",
    "version": 3
   },
   "file_extension": ".py",
   "mimetype": "text/x-python",
   "name": "python",
   "nbconvert_exporter": "python",
   "pygments_lexer": "ipython3",
   "version": "3.8.6"
  },
  "leetcode_question_info": {
   "sampleTestCase": "121",
   "submitUrl": "/problems/palindrome-number/submit/"
  }
 },
 "nbformat": 4,
 "nbformat_minor": 2
}
