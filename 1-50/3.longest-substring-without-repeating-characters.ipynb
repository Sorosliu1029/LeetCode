{
 "cells": [
  {
   "cell_type": "markdown",
   "metadata": {},
   "source": [
    "### 3. Longest Substring Without Repeating Characters"
   ]
  },
  {
   "cell_type": "markdown",
   "metadata": {},
   "source": [
    "#### Content\n",
    "<p>Given a string <code>s</code>, find the length of the <b>longest substring</b> without repeating characters.</p>\n",
    "\n",
    "<p>&nbsp;</p>\n",
    "<p><strong>Example 1:</strong></p>\n",
    "\n",
    "<pre>\n",
    "<strong>Input:</strong> s = &quot;abcabcbb&quot;\n",
    "<strong>Output:</strong> 3\n",
    "<strong>Explanation:</strong> The answer is &quot;abc&quot;, with the length of 3.\n",
    "</pre>\n",
    "\n",
    "<p><strong>Example 2:</strong></p>\n",
    "\n",
    "<pre>\n",
    "<strong>Input:</strong> s = &quot;bbbbb&quot;\n",
    "<strong>Output:</strong> 1\n",
    "<strong>Explanation:</strong> The answer is &quot;b&quot;, with the length of 1.\n",
    "</pre>\n",
    "\n",
    "<p><strong>Example 3:</strong></p>\n",
    "\n",
    "<pre>\n",
    "<strong>Input:</strong> s = &quot;pwwkew&quot;\n",
    "<strong>Output:</strong> 3\n",
    "<strong>Explanation:</strong> The answer is &quot;wke&quot;, with the length of 3.\n",
    "Notice that the answer must be a substring, &quot;pwke&quot; is a subsequence and not a substring.\n",
    "</pre>\n",
    "\n",
    "<p><strong>Example 4:</strong></p>\n",
    "\n",
    "<pre>\n",
    "<strong>Input:</strong> s = &quot;&quot;\n",
    "<strong>Output:</strong> 0\n",
    "</pre>\n",
    "\n",
    "<p>&nbsp;</p>\n",
    "<p><strong>Constraints:</strong></p>\n",
    "\n",
    "<ul>\n",
    "\t<li><code>0 &lt;= s.length &lt;= 5 * 10<sup>4</sup></code></li>\n",
    "\t<li><code>s</code> consists of English letters, digits, symbols and spaces.</li>\n",
    "</ul>\n"
   ]
  },
  {
   "cell_type": "markdown",
   "metadata": {},
   "source": [
    "#### Difficulty: Medium, AC rate: 32.0%\n",
    "\n",
    "#### Question Tags:\n",
    "- Hash Table\n",
    "- String\n",
    "- Sliding Window\n",
    "\n",
    "#### Links:\n",
    " 🎁 [Question Detail](https://leetcode.com/problems/longest-substring-without-repeating-characters/description/) | 🎉 [Question Solution](https://leetcode.com/problems/longest-substring-without-repeating-characters/solution/) | 💬 [Question Discussion](https://leetcode.com/problems/longest-substring-without-repeating-characters/discuss/?orderBy=most_votes)\n",
    "\n",
    "#### Hints:\n"
   ]
  },
  {
   "cell_type": "markdown",
   "metadata": {},
   "source": [
    "#### Sample Test Case\n",
    "\"abcabcbb\""
   ]
  },
  {
   "cell_type": "markdown",
   "metadata": {},
   "source": [
    "---\n",
    "What's your idea?\n",
    "\n",
    "记录一个滑动窗口，以及该窗口内每个字母的下标。\n",
    "\n",
    "每次滑动一个字母时，判断在窗口内有无重复。\n",
    "\n",
    "如有重复，则收窄窗口到该重复字母的下标，即更新窗口的开始下标\n",
    "\n",
    "---"
   ]
  },
  {
   "cell_type": "code",
   "execution_count": 1,
   "metadata": {
    "isSolutionCode": true
   },
   "outputs": [],
   "source": [
    "class Solution:\n",
    "    def lengthOfLongestSubstring(self, s: str) -> int:\n",
    "        window_start = 0\n",
    "        window_table = {}\n",
    "        window_size = 0\n",
    "        \n",
    "        longest_length = 0\n",
    "        \n",
    "        for i, c in enumerate(s):\n",
    "            window_size += 1\n",
    "            \n",
    "            prev_idx = window_table.get(c)\n",
    "            window_table[c] = i\n",
    "            if prev_idx is None or prev_idx < window_start:\n",
    "                longest_length = max(longest_length, window_size)\n",
    "            else:\n",
    "                window_size -= (prev_idx + 1 - window_start)\n",
    "                window_start = prev_idx + 1\n",
    "        \n",
    "        return longest_length"
   ]
  },
  {
   "cell_type": "code",
   "execution_count": 2,
   "metadata": {},
   "outputs": [
    {
     "name": "stdout",
     "output_type": "stream",
     "text": [
      "3\n",
      "1\n",
      "3\n",
      "0\n"
     ]
    }
   ],
   "source": [
    "s = Solution()\n",
    "\n",
    "print(s.lengthOfLongestSubstring(\"abcabcbb\"))\n",
    "print(s.lengthOfLongestSubstring(\"bbbbb\"))\n",
    "print(s.lengthOfLongestSubstring(\"pwwkew\"))\n",
    "print(s.lengthOfLongestSubstring(\"\"))"
   ]
  },
  {
   "cell_type": "code",
   "execution_count": 3,
   "metadata": {},
   "outputs": [
    {
     "data": {
      "text/markdown": [
       "😃 Result: Accepted\n",
       "\n",
       "📥 Input: ``\n",
       "\n",
       "📤 Output: ``\n",
       "\n",
       "✅ Expected: ``\n",
       "\n",
       "💯 Passed Test Case: 987 / 987\n",
       "\n",
       "🚀 Runtime: 52 ms, Memory: 14.4 MB\n",
       "\n",
       "🉑 Runtime Percentile: better than 91.29%, Memory Percentile: better than 54.94%\n",
       "\n",
       "📆 Finished At: 2021-08-13"
      ],
      "text/plain": [
       "<IPython.core.display.Markdown object>"
      ]
     },
     "metadata": {},
     "output_type": "display_data"
    }
   ],
   "source": [
    "import sys, os; sys.path.append(os.path.abspath('..'))\n",
    "from submitter import submit\n",
    "submit(3)"
   ]
  }
 ],
 "metadata": {
  "authors": [
   {
    "name": "Soros Liu"
   }
  ],
  "kernelspec": {
   "display_name": "Python 3",
   "language": "python",
   "name": "python3"
  },
  "language_info": {
   "codemirror_mode": {
    "name": "ipython",
    "version": 3
   },
   "file_extension": ".py",
   "mimetype": "text/x-python",
   "name": "python",
   "nbconvert_exporter": "python",
   "pygments_lexer": "ipython3",
   "version": "3.8.6"
  },
  "leetcode_question_info": {
   "sampleTestCase": "\"abcabcbb\"",
   "submitUrl": "/problems/longest-substring-without-repeating-characters/submit/"
  }
 },
 "nbformat": 4,
 "nbformat_minor": 2
}
