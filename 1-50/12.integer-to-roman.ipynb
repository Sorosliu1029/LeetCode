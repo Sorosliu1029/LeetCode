{
 "cells": [
  {
   "cell_type": "markdown",
   "metadata": {},
   "source": [
    "### 12. Integer to Roman"
   ]
  },
  {
   "cell_type": "markdown",
   "metadata": {},
   "source": [
    "#### Content\n",
    "<p>Roman numerals are represented by seven different symbols:&nbsp;<code>I</code>, <code>V</code>, <code>X</code>, <code>L</code>, <code>C</code>, <code>D</code> and <code>M</code>.</p>\n",
    "\n",
    "<pre>\n",
    "<strong>Symbol</strong>       <strong>Value</strong>\n",
    "I             1\n",
    "V             5\n",
    "X             10\n",
    "L             50\n",
    "C             100\n",
    "D             500\n",
    "M             1000</pre>\n",
    "\n",
    "<p>For example,&nbsp;<code>2</code> is written as <code>II</code>&nbsp;in Roman numeral, just two one&#39;s added together. <code>12</code> is written as&nbsp;<code>XII</code>, which is simply <code>X + II</code>. The number <code>27</code> is written as <code>XXVII</code>, which is <code>XX + V + II</code>.</p>\n",
    "\n",
    "<p>Roman numerals are usually written largest to smallest from left to right. However, the numeral for four is not <code>IIII</code>. Instead, the number four is written as <code>IV</code>. Because the one is before the five we subtract it making four. The same principle applies to the number nine, which is written as <code>IX</code>. There are six instances where subtraction is used:</p>\n",
    "\n",
    "<ul>\n",
    "\t<li><code>I</code> can be placed before <code>V</code> (5) and <code>X</code> (10) to make 4 and 9.&nbsp;</li>\n",
    "\t<li><code>X</code> can be placed before <code>L</code> (50) and <code>C</code> (100) to make 40 and 90.&nbsp;</li>\n",
    "\t<li><code>C</code> can be placed before <code>D</code> (500) and <code>M</code> (1000) to make 400 and 900.</li>\n",
    "</ul>\n",
    "\n",
    "<p>Given an integer, convert it to a roman numeral.</p>\n",
    "\n",
    "<p>&nbsp;</p>\n",
    "<p><strong>Example 1:</strong></p>\n",
    "\n",
    "<pre>\n",
    "<strong>Input:</strong> num = 3\n",
    "<strong>Output:</strong> &quot;III&quot;\n",
    "</pre>\n",
    "\n",
    "<p><strong>Example 2:</strong></p>\n",
    "\n",
    "<pre>\n",
    "<strong>Input:</strong> num = 4\n",
    "<strong>Output:</strong> &quot;IV&quot;\n",
    "</pre>\n",
    "\n",
    "<p><strong>Example 3:</strong></p>\n",
    "\n",
    "<pre>\n",
    "<strong>Input:</strong> num = 9\n",
    "<strong>Output:</strong> &quot;IX&quot;\n",
    "</pre>\n",
    "\n",
    "<p><strong>Example 4:</strong></p>\n",
    "\n",
    "<pre>\n",
    "<strong>Input:</strong> num = 58\n",
    "<strong>Output:</strong> &quot;LVIII&quot;\n",
    "<strong>Explanation:</strong> L = 50, V = 5, III = 3.\n",
    "</pre>\n",
    "\n",
    "<p><strong>Example 5:</strong></p>\n",
    "\n",
    "<pre>\n",
    "<strong>Input:</strong> num = 1994\n",
    "<strong>Output:</strong> &quot;MCMXCIV&quot;\n",
    "<strong>Explanation:</strong> M = 1000, CM = 900, XC = 90 and IV = 4.\n",
    "</pre>\n",
    "\n",
    "<p>&nbsp;</p>\n",
    "<p><strong>Constraints:</strong></p>\n",
    "\n",
    "<ul>\n",
    "\t<li><code>1 &lt;= num &lt;= 3999</code></li>\n",
    "</ul>\n"
   ]
  },
  {
   "cell_type": "markdown",
   "metadata": {},
   "source": [
    "#### Difficulty: Medium, AC rate: 57.9%\n",
    "\n",
    "#### Question Tags:\n",
    "- Hash Table\n",
    "- Math\n",
    "- String\n",
    "\n",
    "#### Links:\n",
    " 🎁 [Question Detail](https://leetcode.com/problems/integer-to-roman/description/) | 🎉 [Question Solution](https://leetcode.com/problems/integer-to-roman/solution/) | 💬 [Question Discussion](https://leetcode.com/problems/integer-to-roman/discuss/?orderBy=most_votes)\n",
    "\n",
    "#### Hints:\n"
   ]
  },
  {
   "cell_type": "markdown",
   "metadata": {},
   "source": [
    "#### Sample Test Case\n",
    "3"
   ]
  },
  {
   "cell_type": "markdown",
   "metadata": {},
   "source": [
    "---\n",
    "What's your idea?\n",
    "\n",
    "由有限的基础元素组合而成\n",
    "\n",
    "从低位到高位逐位构建\n",
    "\n",
    "- 类似 `4`, `9` 这样的值，则直接查找基础元素表\n",
    "- 类似 `2`, `3`, `6`, `7`, `8` 这样的值，则组合拼接基础元素\n",
    "\n",
    "---"
   ]
  },
  {
   "cell_type": "code",
   "execution_count": 1,
   "metadata": {
    "isSolutionCode": true
   },
   "outputs": [],
   "source": [
    "class Solution:\n",
    "    def __init__(self):\n",
    "        self.value_map = {1:'I', 5:'V', 10:'X', 50:'L', 100:'C', 500:'D', 1000:'M',\n",
    "                         4:'IV', 9:'IX', 40:'XL', 90:'XC', 400:'CD', 900:'CM'}\n",
    "    \n",
    "    def intToRoman(self, num: int) -> str:\n",
    "        r = ''\n",
    "        \n",
    "        div = 10\n",
    "        prev_div = 1\n",
    "        while num:\n",
    "            m = (num*prev_div) % div\n",
    "            if m in self.value_map:\n",
    "                r = self.value_map[m] + r\n",
    "            else:\n",
    "                div5 = div >> 1\n",
    "                r = (self.value_map[div5] if m // div5 else '') + \\\n",
    "                    self.value_map[prev_div]*((m // prev_div) % (div5 // prev_div)) + \\\n",
    "                    r\n",
    "            \n",
    "            num //= 10\n",
    "            prev_div = div\n",
    "            div *= 10\n",
    "            \n",
    "        return r"
   ]
  },
  {
   "cell_type": "code",
   "execution_count": 2,
   "metadata": {},
   "outputs": [
    {
     "name": "stdout",
     "output_type": "stream",
     "text": [
      "True\n",
      "True\n",
      "True\n",
      "True\n",
      "True\n",
      "True\n",
      "True\n",
      "True\n"
     ]
    }
   ],
   "source": [
    "s = Solution()\n",
    "\n",
    "print(s.intToRoman(3) == 'III')\n",
    "print(s.intToRoman(4) == 'IV')\n",
    "print(s.intToRoman(9) == 'IX')\n",
    "print(s.intToRoman(12) == 'XII')\n",
    "print(s.intToRoman(27) == 'XXVII')\n",
    "print(s.intToRoman(34) == 'XXXIV')\n",
    "print(s.intToRoman(58) == 'LVIII')\n",
    "print(s.intToRoman(1994) == 'MCMXCIV')"
   ]
  },
  {
   "cell_type": "code",
   "execution_count": 3,
   "metadata": {},
   "outputs": [
    {
     "data": {
      "text/markdown": [
       "😃 Result: Accepted\n",
       "\n",
       "📥 Input: ``\n",
       "\n",
       "📤 Output: ``\n",
       "\n",
       "✅ Expected: ``\n",
       "\n",
       "💯 Passed Test Case: 3999 / 3999\n",
       "\n",
       "🚀 Runtime: 52 ms, Memory: 14.3 MB\n",
       "\n",
       "🉑 Runtime Percentile: better than 60.58%, Memory Percentile: better than 28.40%\n",
       "\n",
       "📆 Finished At: 2021-08-01"
      ],
      "text/plain": [
       "<IPython.core.display.Markdown object>"
      ]
     },
     "metadata": {},
     "output_type": "display_data"
    }
   ],
   "source": [
    "import sys, os; sys.path.append(os.path.abspath('..'))\n",
    "from submitter import submit\n",
    "submit(12)"
   ]
  }
 ],
 "metadata": {
  "authors": [
   {
    "name": "Soros Liu"
   }
  ],
  "kernelspec": {
   "display_name": "Python 3",
   "language": "python",
   "name": "python3"
  },
  "language_info": {
   "codemirror_mode": {
    "name": "ipython",
    "version": 3
   },
   "file_extension": ".py",
   "mimetype": "text/x-python",
   "name": "python",
   "nbconvert_exporter": "python",
   "pygments_lexer": "ipython3",
   "version": "3.8.6"
  },
  "leetcode_question_info": {
   "sampleTestCase": "3",
   "submitUrl": "/problems/integer-to-roman/submit/"
  }
 },
 "nbformat": 4,
 "nbformat_minor": 2
}
