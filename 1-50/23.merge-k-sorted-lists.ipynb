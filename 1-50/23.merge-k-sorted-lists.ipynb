{
 "cells": [
  {
   "cell_type": "markdown",
   "metadata": {},
   "source": [
    "### 23. Merge k Sorted Lists"
   ]
  },
  {
   "cell_type": "markdown",
   "metadata": {},
   "source": [
    "#### Content\n",
    "<p>You are given an array of <code>k</code> linked-lists <code>lists</code>, each linked-list is sorted in ascending order.</p>\n",
    "\n",
    "<p><em>Merge all the linked-lists into one sorted linked-list and return it.</em></p>\n",
    "\n",
    "<p>&nbsp;</p>\n",
    "<p><strong>Example 1:</strong></p>\n",
    "\n",
    "<pre>\n",
    "<strong>Input:</strong> lists = [[1,4,5],[1,3,4],[2,6]]\n",
    "<strong>Output:</strong> [1,1,2,3,4,4,5,6]\n",
    "<strong>Explanation:</strong> The linked-lists are:\n",
    "[\n",
    "  1-&gt;4-&gt;5,\n",
    "  1-&gt;3-&gt;4,\n",
    "  2-&gt;6\n",
    "]\n",
    "merging them into one sorted list:\n",
    "1-&gt;1-&gt;2-&gt;3-&gt;4-&gt;4-&gt;5-&gt;6\n",
    "</pre>\n",
    "\n",
    "<p><strong>Example 2:</strong></p>\n",
    "\n",
    "<pre>\n",
    "<strong>Input:</strong> lists = []\n",
    "<strong>Output:</strong> []\n",
    "</pre>\n",
    "\n",
    "<p><strong>Example 3:</strong></p>\n",
    "\n",
    "<pre>\n",
    "<strong>Input:</strong> lists = [[]]\n",
    "<strong>Output:</strong> []\n",
    "</pre>\n",
    "\n",
    "<p>&nbsp;</p>\n",
    "<p><strong>Constraints:</strong></p>\n",
    "\n",
    "<ul>\n",
    "\t<li><code>k == lists.length</code></li>\n",
    "\t<li><code>0 &lt;= k &lt;= 10^4</code></li>\n",
    "\t<li><code>0 &lt;= lists[i].length &lt;= 500</code></li>\n",
    "\t<li><code>-10^4 &lt;= lists[i][j] &lt;= 10^4</code></li>\n",
    "\t<li><code>lists[i]</code> is sorted in <strong>ascending order</strong>.</li>\n",
    "\t<li>The sum of <code>lists[i].length</code> won&#39;t exceed <code>10^4</code>.</li>\n",
    "</ul>\n"
   ]
  },
  {
   "cell_type": "markdown",
   "metadata": {},
   "source": [
    "#### Difficulty: Hard, AC rate: 44.1%\n",
    "\n",
    "#### Question Tags:\n",
    "- Linked List\n",
    "- Divide and Conquer\n",
    "- Heap (Priority Queue)\n",
    "- Merge Sort\n",
    "\n",
    "#### Links:\n",
    " 🎁 [Question Detail](https://leetcode.com/problems/merge-k-sorted-lists/description/) | 🎉 [Question Solution](https://leetcode.com/problems/merge-k-sorted-lists/solution/) | 💬 [Question Discussion](https://leetcode.com/problems/merge-k-sorted-lists/discuss/?orderBy=most_votes)\n",
    "\n",
    "#### Hints:\n"
   ]
  },
  {
   "cell_type": "markdown",
   "metadata": {},
   "source": [
    "#### Sample Test Case\n",
    "[[1,4,5],[1,3,4],[2,6]]"
   ]
  },
  {
   "cell_type": "markdown",
   "metadata": {},
   "source": [
    "---\n",
    "What's your idea?\n",
    "\n",
    "分治\n",
    "\n",
    "分为前半区和后半区，每个半区各取对应位置上的 `ListNode` 进行两个 `ListNode` 的归并排序，排序结果放入前半区，然后对前半区进行 `mergeKLists`\n",
    "\n",
    "---"
   ]
  },
  {
   "cell_type": "code",
   "execution_count": 1,
   "metadata": {
    "isSolutionCode": true
   },
   "outputs": [],
   "source": [
    "from typing import List\n",
    "\n",
    "# Definition for singly-linked list.\n",
    "class ListNode:\n",
    "    def __init__(self, val=0, next=None):\n",
    "        self.val = val\n",
    "        self.next = next\n",
    "\n",
    "class Solution:\n",
    "    def mergeKLists(self, lists: List[ListNode]) -> ListNode:\n",
    "        length = len(lists)\n",
    "        if length == 0:\n",
    "            return None\n",
    "        elif length == 1:\n",
    "            return lists[0]\n",
    "        \n",
    "        half = length // 2\n",
    "        for i in range(half):\n",
    "            lists[i] = self.mergeTwo(lists[i], lists[half+i])\n",
    "        if length > 2 * half:\n",
    "            lists[half] = lists[length-1]\n",
    "            half += 1\n",
    "        \n",
    "        return self.mergeKLists(lists[:half])\n",
    "    \n",
    "    def mergeTwo(self, l1: ListNode, l2: ListNode) -> ListNode:\n",
    "        dummy = ListNode()\n",
    "        p = dummy\n",
    "        while l1 and l2:\n",
    "            if l1.val <= l2.val:\n",
    "                p.next = l1\n",
    "                l1 = l1.next\n",
    "            else:\n",
    "                p.next = l2\n",
    "                l2 = l2.next\n",
    "            p = p.next\n",
    "        \n",
    "        if l1:\n",
    "            p.next = l1\n",
    "        if l2:\n",
    "            p.next = l2\n",
    "        return dummy.next"
   ]
  },
  {
   "cell_type": "code",
   "execution_count": 2,
   "metadata": {},
   "outputs": [
    {
     "name": "stdout",
     "output_type": "stream",
     "text": [
      "1\n",
      "1\n",
      "2\n",
      "3\n",
      "4\n",
      "4\n",
      "5\n",
      "6\n"
     ]
    }
   ],
   "source": [
    "s = Solution()\n",
    "\n",
    "l1_3 = ListNode(5, None)\n",
    "l1_2 = ListNode(4, l1_3)\n",
    "l1_1 = ListNode(1, l1_2)\n",
    "\n",
    "l2_3 = ListNode(4, None)\n",
    "l2_2 = ListNode(3, l2_3)\n",
    "l2_1 = ListNode(1, l2_2)\n",
    "\n",
    "l3_2 = ListNode(6, None)\n",
    "l3_1 = ListNode(2, l3_2)\n",
    "\n",
    "l = s.mergeKLists([l1_1, l2_1, l3_1])\n",
    "while l:\n",
    "    print(l.val)\n",
    "    l = l.next"
   ]
  },
  {
   "cell_type": "code",
   "execution_count": 3,
   "metadata": {},
   "outputs": [
    {
     "name": "stdout",
     "output_type": "stream",
     "text": [
      "None\n"
     ]
    }
   ],
   "source": [
    "print(s.mergeKLists([]))"
   ]
  },
  {
   "cell_type": "code",
   "execution_count": 4,
   "metadata": {},
   "outputs": [
    {
     "name": "stdout",
     "output_type": "stream",
     "text": [
      "None\n"
     ]
    }
   ],
   "source": [
    "print(s.mergeKLists([None]))"
   ]
  },
  {
   "cell_type": "code",
   "execution_count": 5,
   "metadata": {},
   "outputs": [
    {
     "data": {
      "text/markdown": [
       "😃 Result: Accepted\n",
       "\n",
       "📥 Input: ``\n",
       "\n",
       "📤 Output: ``\n",
       "\n",
       "✅ Expected: ``\n",
       "\n",
       "💯 Passed Test Case: 133 / 133\n",
       "\n",
       "🚀 Runtime: 120 ms, Memory: 17.8 MB\n",
       "\n",
       "🉑 Runtime Percentile: better than 49.89%, Memory Percentile: better than 65.34%\n",
       "\n",
       "📆 Finished At: 2021-07-31"
      ],
      "text/plain": [
       "<IPython.core.display.Markdown object>"
      ]
     },
     "metadata": {},
     "output_type": "display_data"
    }
   ],
   "source": [
    "import sys, os; sys.path.append(os.path.abspath('..'))\n",
    "from submitter import submit\n",
    "submit(23)"
   ]
  }
 ],
 "metadata": {
  "authors": [
   {
    "name": "Soros Liu"
   }
  ],
  "kernelspec": {
   "display_name": "Python 3",
   "language": "python",
   "name": "python3"
  },
  "language_info": {
   "codemirror_mode": {
    "name": "ipython",
    "version": 3
   },
   "file_extension": ".py",
   "mimetype": "text/x-python",
   "name": "python",
   "nbconvert_exporter": "python",
   "pygments_lexer": "ipython3",
   "version": "3.8.6"
  },
  "leetcode_question_info": {
   "sampleTestCase": "[[1,4,5],[1,3,4],[2,6]]",
   "submitUrl": "/problems/merge-k-sorted-lists/submit/"
  }
 },
 "nbformat": 4,
 "nbformat_minor": 2
}
