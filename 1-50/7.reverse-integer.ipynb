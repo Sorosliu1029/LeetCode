{
 "cells": [
  {
   "cell_type": "markdown",
   "metadata": {},
   "source": [
    "### 7. Reverse Integer"
   ]
  },
  {
   "cell_type": "markdown",
   "metadata": {},
   "source": [
    "#### Content\n",
    "<p>Given a signed 32-bit integer <code>x</code>, return <code>x</code><em> with its digits reversed</em>. If reversing <code>x</code> causes the value to go outside the signed 32-bit integer range <code>[-2<sup>31</sup>, 2<sup>31</sup> - 1]</code>, then return <code>0</code>.</p>\n",
    "\n",
    "<p><strong>Assume the environment does not allow you to store 64-bit integers (signed or unsigned).</strong></p>\n",
    "\n",
    "<p>&nbsp;</p>\n",
    "<p><strong>Example 1:</strong></p>\n",
    "<pre><strong>Input:</strong> x = 123\n",
    "<strong>Output:</strong> 321\n",
    "</pre><p><strong>Example 2:</strong></p>\n",
    "<pre><strong>Input:</strong> x = -123\n",
    "<strong>Output:</strong> -321\n",
    "</pre><p><strong>Example 3:</strong></p>\n",
    "<pre><strong>Input:</strong> x = 120\n",
    "<strong>Output:</strong> 21\n",
    "</pre><p><strong>Example 4:</strong></p>\n",
    "<pre><strong>Input:</strong> x = 0\n",
    "<strong>Output:</strong> 0\n",
    "</pre>\n",
    "<p>&nbsp;</p>\n",
    "<p><strong>Constraints:</strong></p>\n",
    "\n",
    "<ul>\n",
    "\t<li><code>-2<sup>31</sup> &lt;= x &lt;= 2<sup>31</sup> - 1</code></li>\n",
    "</ul>\n"
   ]
  },
  {
   "cell_type": "markdown",
   "metadata": {},
   "source": [
    "#### Difficulty: Easy, AC rate: 26.1%\n",
    "\n",
    "#### Question Tags:\n",
    "- Math\n",
    "\n",
    "#### Links:\n",
    " 🎁 [Question Detail](https://leetcode.com/problems/reverse-integer/description/) | 🎉 [Question Solution](https://leetcode.com/problems/reverse-integer/solution/) | 💬 [Question Discussion](https://leetcode.com/problems/reverse-integer/discuss/?orderBy=most_votes)\n",
    "\n",
    "#### Hints:\n"
   ]
  },
  {
   "cell_type": "markdown",
   "metadata": {},
   "source": [
    "#### Sample Test Case\n",
    "123"
   ]
  },
  {
   "cell_type": "markdown",
   "metadata": {},
   "source": [
    "---\n",
    "What's your idea?\n",
    "\n",
    "从低位向高位逐位取余，构建目标数，最后考虑符号\n",
    "\n",
    "---"
   ]
  },
  {
   "cell_type": "code",
   "execution_count": 1,
   "metadata": {
    "isSolutionCode": true
   },
   "outputs": [],
   "source": [
    "class Solution:\n",
    "    def reverse(self, x: int) -> int:\n",
    "        x_abs = abs(x)\n",
    "        r = 0\n",
    "        while x_abs:\n",
    "            r = r * 10 + x_abs % 10\n",
    "            x_abs //= 10\n",
    "        \n",
    "        if x < 0:\n",
    "            r *= -1\n",
    "        \n",
    "        if r < (-2)**31 or r > 2**31-1:\n",
    "            return 0\n",
    "        return r"
   ]
  },
  {
   "cell_type": "code",
   "execution_count": 2,
   "metadata": {},
   "outputs": [
    {
     "name": "stdout",
     "output_type": "stream",
     "text": [
      "321\n",
      "-321\n",
      "21\n",
      "0\n"
     ]
    }
   ],
   "source": [
    "s = Solution()\n",
    "print(s.reverse(123))\n",
    "print(s.reverse(-123))\n",
    "print(s.reverse(120))\n",
    "print(s.reverse(0))"
   ]
  },
  {
   "cell_type": "code",
   "execution_count": 3,
   "metadata": {},
   "outputs": [
    {
     "data": {
      "text/markdown": [
       "😃 Result: Accepted\n",
       "\n",
       "📥 Input: ``\n",
       "\n",
       "📤 Output: ``\n",
       "\n",
       "✅ Expected: ``\n",
       "\n",
       "💯 Passed Test Case: 1032 / 1032\n",
       "\n",
       "🚀 Runtime: 24 ms, Memory: 14.3 MB\n",
       "\n",
       "🉑 Runtime Percentile: better than 97.43%, Memory Percentile: better than 44.99%\n",
       "\n",
       "📆 Finished At: 2021-07-30"
      ],
      "text/plain": [
       "<IPython.core.display.Markdown object>"
      ]
     },
     "metadata": {},
     "output_type": "display_data"
    }
   ],
   "source": [
    "import sys, os; sys.path.append(os.path.abspath('..'))\n",
    "from submitter import submit\n",
    "submit(7)"
   ]
  }
 ],
 "metadata": {
  "authors": [
   {
    "name": "Soros Liu"
   }
  ],
  "kernelspec": {
   "display_name": "Python 3",
   "language": "python",
   "name": "python3"
  },
  "language_info": {
   "codemirror_mode": {
    "name": "ipython",
    "version": 3
   },
   "file_extension": ".py",
   "mimetype": "text/x-python",
   "name": "python",
   "nbconvert_exporter": "python",
   "pygments_lexer": "ipython3",
   "version": "3.8.6"
  },
  "leetcode_question_info": {
   "sampleTestCase": "123",
   "submitUrl": "/problems/reverse-integer/submit/"
  }
 },
 "nbformat": 4,
 "nbformat_minor": 2
}
