{
 "cells": [
  {
   "cell_type": "markdown",
   "metadata": {},
   "source": [
    "### 21. Merge Two Sorted Lists"
   ]
  },
  {
   "cell_type": "markdown",
   "metadata": {},
   "source": [
    "#### Content\n",
    "<p>Merge two sorted linked lists and return it as a <strong>sorted</strong> list. The list should be made by splicing together the nodes of the first two lists.</p>\n",
    "\n",
    "<p>&nbsp;</p>\n",
    "<p><strong>Example 1:</strong></p>\n",
    "<img alt=\"\" src=\"https://assets.leetcode.com/uploads/2020/10/03/merge_ex1.jpg\" style=\"width: 662px; height: 302px;\" />\n",
    "<pre>\n",
    "<strong>Input:</strong> l1 = [1,2,4], l2 = [1,3,4]\n",
    "<strong>Output:</strong> [1,1,2,3,4,4]\n",
    "</pre>\n",
    "\n",
    "<p><strong>Example 2:</strong></p>\n",
    "\n",
    "<pre>\n",
    "<strong>Input:</strong> l1 = [], l2 = []\n",
    "<strong>Output:</strong> []\n",
    "</pre>\n",
    "\n",
    "<p><strong>Example 3:</strong></p>\n",
    "\n",
    "<pre>\n",
    "<strong>Input:</strong> l1 = [], l2 = [0]\n",
    "<strong>Output:</strong> [0]\n",
    "</pre>\n",
    "\n",
    "<p>&nbsp;</p>\n",
    "<p><strong>Constraints:</strong></p>\n",
    "\n",
    "<ul>\n",
    "\t<li>The number of nodes in both lists is in the range <code>[0, 50]</code>.</li>\n",
    "\t<li><code>-100 &lt;= Node.val &lt;= 100</code></li>\n",
    "\t<li>Both <code>l1</code> and <code>l2</code> are sorted in <strong>non-decreasing</strong> order.</li>\n",
    "</ul>\n"
   ]
  },
  {
   "cell_type": "markdown",
   "metadata": {},
   "source": [
    "#### Difficulty: Easy, AC rate: 57.3%\n",
    "\n",
    "#### Question Tags:\n",
    "- Linked List\n",
    "- Recursion\n",
    "\n",
    "#### Links:\n",
    " 🎁 [Question Detail](https://leetcode.com/problems/merge-two-sorted-lists/description/) | 🎉 [Question Solution](https://leetcode.com/problems/merge-two-sorted-lists/solution/) | 💬 [Question Discussion](https://leetcode.com/problems/merge-two-sorted-lists/discuss/?orderBy=most_votes)\n",
    "\n",
    "#### Hints:\n"
   ]
  },
  {
   "cell_type": "markdown",
   "metadata": {},
   "source": [
    "#### Sample Test Case\n",
    "[1,2,4]\n",
    "[1,3,4]"
   ]
  },
  {
   "cell_type": "markdown",
   "metadata": {},
   "source": [
    "---\n",
    "What's your idea?\n",
    "\n",
    "双指针\n",
    "\n",
    "---"
   ]
  },
  {
   "cell_type": "code",
   "execution_count": 1,
   "metadata": {},
   "outputs": [],
   "source": [
    "# Definition for singly-linked list.\n",
    "class ListNode:\n",
    "    def __init__(self, val=0, next=None):\n",
    "        self.val = val\n",
    "        self.next = next\n",
    "        \n",
    "class Solution:\n",
    "    def mergeTwoLists(self, l1: ListNode, l2: ListNode) -> ListNode:\n",
    "        p = ListNode()\n",
    "        r = p\n",
    "        while l1 is not None and l2 is not None:\n",
    "            if l1.val <= l2.val:\n",
    "                p.next = l1\n",
    "                l1 = l1.next\n",
    "            else:\n",
    "                p.next = l2\n",
    "                l2 = l2.next\n",
    "            p = p.next\n",
    "            \n",
    "        while l1 is not None:\n",
    "            p.next = l1\n",
    "            l1 = l1.next\n",
    "            p = p.next\n",
    "        \n",
    "        while l2 is not None:\n",
    "            p.next = l2\n",
    "            l2 = l2.next\n",
    "            p = p.next\n",
    "            \n",
    "        return r.next"
   ]
  },
  {
   "cell_type": "code",
   "execution_count": 2,
   "metadata": {},
   "outputs": [
    {
     "name": "stdout",
     "output_type": "stream",
     "text": [
      "1\n",
      "1\n",
      "2\n",
      "3\n",
      "4\n",
      "4\n"
     ]
    }
   ],
   "source": [
    "l1_4 = ListNode(4, None)\n",
    "l1_2 = ListNode(2, l1_4)\n",
    "l1_1 = ListNode(1, l1_2)\n",
    "l1 = l1_1\n",
    "\n",
    "l2_4 = ListNode(4, None)\n",
    "l2_3 = ListNode(3, l2_4)\n",
    "l2_1 = ListNode(1, l2_3)\n",
    "l2 = l2_1\n",
    "\n",
    "s = Solution()\n",
    "r = s.mergeTwoLists(l1, l2)\n",
    "while r is not None:\n",
    "    print(r.val)\n",
    "    r = r.next"
   ]
  },
  {
   "cell_type": "code",
   "execution_count": 3,
   "metadata": {},
   "outputs": [
    {
     "data": {
      "text/markdown": [
       "😃 Result: Accepted\n",
       "\n",
       "📥 Input: ``\n",
       "\n",
       "📤 Output: ``\n",
       "\n",
       "✅ Expected: ``\n",
       "\n",
       "💯 Passed Test Case: 208 / 208\n",
       "\n",
       "🚀 Runtime: 40 ms, Memory: 14.3 MB\n",
       "\n",
       "🉑 Runtime Percentile: better than 52.42%, Memory Percentile: better than 31.45%\n",
       "\n",
       "📆 Finished At: 2021-07-27"
      ],
      "text/plain": [
       "<IPython.core.display.Markdown object>"
      ]
     },
     "metadata": {},
     "output_type": "display_data"
    }
   ],
   "source": [
    "import sys, os; sys.path.append(os.path.abspath('..'))\n",
    "from submitter import submit\n",
    "submit(21)"
   ]
  }
 ],
 "metadata": {
  "authors": [
   {
    "name": "Soros Liu"
   }
  ],
  "kernelspec": {
   "display_name": "Python 3",
   "language": "python",
   "name": "python3"
  },
  "language_info": {
   "codemirror_mode": {
    "name": "ipython",
    "version": 3
   },
   "file_extension": ".py",
   "mimetype": "text/x-python",
   "name": "python",
   "nbconvert_exporter": "python",
   "pygments_lexer": "ipython3",
   "version": "3.8.6"
  },
  "leetcode_question_info": {
   "sampleTestCase": "[1,2,4]\n[1,3,4]",
   "submitUrl": "/problems/merge-two-sorted-lists/submit/"
  }
 },
 "nbformat": 4,
 "nbformat_minor": 2
}
