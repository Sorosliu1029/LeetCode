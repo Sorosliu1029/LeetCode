{
 "cells": [
  {
   "cell_type": "markdown",
   "metadata": {},
   "source": [
    "### 13. Roman to Integer"
   ]
  },
  {
   "cell_type": "markdown",
   "metadata": {},
   "source": [
    "#### Content\n",
    "<p>Roman numerals are represented by seven different symbols:&nbsp;<code>I</code>, <code>V</code>, <code>X</code>, <code>L</code>, <code>C</code>, <code>D</code> and <code>M</code>.</p>\n",
    "\n",
    "<pre>\n",
    "<strong>Symbol</strong>       <strong>Value</strong>\n",
    "I             1\n",
    "V             5\n",
    "X             10\n",
    "L             50\n",
    "C             100\n",
    "D             500\n",
    "M             1000</pre>\n",
    "\n",
    "<p>For example,&nbsp;<code>2</code> is written as <code>II</code>&nbsp;in Roman numeral, just two one&#39;s added together. <code>12</code> is written as&nbsp;<code>XII</code>, which is simply <code>X + II</code>. The number <code>27</code> is written as <code>XXVII</code>, which is <code>XX + V + II</code>.</p>\n",
    "\n",
    "<p>Roman numerals are usually written largest to smallest from left to right. However, the numeral for four is not <code>IIII</code>. Instead, the number four is written as <code>IV</code>. Because the one is before the five we subtract it making four. The same principle applies to the number nine, which is written as <code>IX</code>. There are six instances where subtraction is used:</p>\n",
    "\n",
    "<ul>\n",
    "\t<li><code>I</code> can be placed before <code>V</code> (5) and <code>X</code> (10) to make 4 and 9.&nbsp;</li>\n",
    "\t<li><code>X</code> can be placed before <code>L</code> (50) and <code>C</code> (100) to make 40 and 90.&nbsp;</li>\n",
    "\t<li><code>C</code> can be placed before <code>D</code> (500) and <code>M</code> (1000) to make 400 and 900.</li>\n",
    "</ul>\n",
    "\n",
    "<p>Given a roman numeral, convert it to an integer.</p>\n",
    "\n",
    "<p>&nbsp;</p>\n",
    "<p><strong>Example 1:</strong></p>\n",
    "\n",
    "<pre>\n",
    "<strong>Input:</strong> s = &quot;III&quot;\n",
    "<strong>Output:</strong> 3\n",
    "</pre>\n",
    "\n",
    "<p><strong>Example 2:</strong></p>\n",
    "\n",
    "<pre>\n",
    "<strong>Input:</strong> s = &quot;IV&quot;\n",
    "<strong>Output:</strong> 4\n",
    "</pre>\n",
    "\n",
    "<p><strong>Example 3:</strong></p>\n",
    "\n",
    "<pre>\n",
    "<strong>Input:</strong> s = &quot;IX&quot;\n",
    "<strong>Output:</strong> 9\n",
    "</pre>\n",
    "\n",
    "<p><strong>Example 4:</strong></p>\n",
    "\n",
    "<pre>\n",
    "<strong>Input:</strong> s = &quot;LVIII&quot;\n",
    "<strong>Output:</strong> 58\n",
    "<strong>Explanation:</strong> L = 50, V= 5, III = 3.\n",
    "</pre>\n",
    "\n",
    "<p><strong>Example 5:</strong></p>\n",
    "\n",
    "<pre>\n",
    "<strong>Input:</strong> s = &quot;MCMXCIV&quot;\n",
    "<strong>Output:</strong> 1994\n",
    "<strong>Explanation:</strong> M = 1000, CM = 900, XC = 90 and IV = 4.\n",
    "</pre>\n",
    "\n",
    "<p>&nbsp;</p>\n",
    "<p><strong>Constraints:</strong></p>\n",
    "\n",
    "<ul>\n",
    "\t<li><code>1 &lt;= s.length &lt;= 15</code></li>\n",
    "\t<li><code>s</code> contains only&nbsp;the characters <code>(&#39;I&#39;, &#39;V&#39;, &#39;X&#39;, &#39;L&#39;, &#39;C&#39;, &#39;D&#39;, &#39;M&#39;)</code>.</li>\n",
    "\t<li>It is <strong>guaranteed</strong>&nbsp;that <code>s</code> is a valid roman numeral in the range <code>[1, 3999]</code>.</li>\n",
    "</ul>\n"
   ]
  },
  {
   "cell_type": "markdown",
   "metadata": {},
   "source": [
    "#### Difficulty: Easy, AC rate: 57.5%\n",
    "\n",
    "#### Question Tags:\n",
    "- Hash Table\n",
    "- Math\n",
    "- String\n",
    "\n",
    "#### Links:\n",
    " 🎁 [Question Detail](https://leetcode.com/problems/roman-to-integer/description/) | 🎉 [Question Solution](https://leetcode.com/problems/roman-to-integer/solution/) | 💬 [Question Discussion](https://leetcode.com/problems/roman-to-integer/discuss/?orderBy=most_votes)\n",
    "\n",
    "#### Hints:\n",
    "<details><summary>Hint 0  🔍</summary>Problem is simpler to solve by working the string from back to front and using a map.</details>\n"
   ]
  },
  {
   "cell_type": "markdown",
   "metadata": {},
   "source": [
    "#### Sample Test Case\n",
    "\"III\""
   ]
  },
  {
   "cell_type": "markdown",
   "metadata": {},
   "source": [
    "---\n",
    "What's your idea?\n",
    "\n",
    "- 遇到 `5`, `50`, `500` 时，检查是否是「减」的规则并应用，否则就加上相应的值\n",
    "- 遇到 `10`, `100`, `1000` 时，检查是否是「减」的规则并应用，否则相应的计数器加一，用于后续的「减」\n",
    "- 最后，把计数器里剩余的值累加上\n",
    "\n",
    "---"
   ]
  },
  {
   "cell_type": "code",
   "execution_count": 1,
   "metadata": {
    "isSolutionCode": true
   },
   "outputs": [],
   "source": [
    "from typing import Dict\n",
    "\n",
    "class Solution:\n",
    "    def __init__(self):\n",
    "        self.symbol_map = {'I':1, 'V':5, 'X':10, 'L':50, 'C':100, 'D':500, 'M':1000}\n",
    "        self.subtract_map = {'V':'I', 'X':'I', 'L':'X', 'C':'X', 'D':'C', 'M':'C'}\n",
    "    \n",
    "    def romanToInt(self, s: str) -> int:\n",
    "        cnt = { 'I': 0, 'X': 0, 'C': 0, 'M': 0 }\n",
    "        n = 0\n",
    "        \n",
    "        for c in s:\n",
    "            if c == 'I':\n",
    "                cnt[c] += 1\n",
    "            elif c == 'V' or c == 'L' or c == 'D':\n",
    "                n += self.apply(c, cnt)\n",
    "            elif c == 'X' or c == 'C' or c == 'M':\n",
    "                if cnt[self.subtract_map[c]]:\n",
    "                    n += self.apply(c, cnt)\n",
    "                else:\n",
    "                    cnt[c] += 1\n",
    "        \n",
    "        for remain_char, remain_cnt in cnt.items():\n",
    "            n += remain_cnt * self.symbol_map[remain_char]\n",
    "        \n",
    "        return n\n",
    "    \n",
    "    def apply(self, c: str, cnt_map: Dict[str, int]) -> int:\n",
    "        r = self.symbol_map[c]\n",
    "        \n",
    "        subtractor = self.subtract_map[c]\n",
    "        if cnt_map[subtractor]:\n",
    "            r -= cnt_map[subtractor] * self.symbol_map[subtractor]\n",
    "            cnt_map[subtractor] = 0\n",
    "        \n",
    "        return r"
   ]
  },
  {
   "cell_type": "code",
   "execution_count": 2,
   "metadata": {},
   "outputs": [
    {
     "name": "stdout",
     "output_type": "stream",
     "text": [
      "True\n",
      "True\n",
      "True\n",
      "True\n",
      "True\n",
      "True\n"
     ]
    }
   ],
   "source": [
    "s = Solution()\n",
    "\n",
    "print(s.romanToInt(\"III\") == 3)\n",
    "print(s.romanToInt(\"IV\") == 4)\n",
    "print(s.romanToInt(\"IX\") == 9)\n",
    "print(s.romanToInt(\"LVIII\") == 58)\n",
    "print(s.romanToInt(\"MCMXCIV\") == 1994)\n",
    "print(s.romanToInt(\"XXVII\") == 27)"
   ]
  },
  {
   "cell_type": "code",
   "execution_count": 3,
   "metadata": {},
   "outputs": [
    {
     "data": {
      "text/markdown": [
       "😃 Result: Accepted\n",
       "\n",
       "📥 Input: ``\n",
       "\n",
       "📤 Output: ``\n",
       "\n",
       "✅ Expected: ``\n",
       "\n",
       "💯 Passed Test Case: 3999 / 3999\n",
       "\n",
       "🚀 Runtime: 56 ms, Memory: 14.4 MB\n",
       "\n",
       "🉑 Runtime Percentile: better than 29.26%, Memory Percentile: better than 27.14%\n",
       "\n",
       "📆 Finished At: 2021-08-01"
      ],
      "text/plain": [
       "<IPython.core.display.Markdown object>"
      ]
     },
     "metadata": {},
     "output_type": "display_data"
    }
   ],
   "source": [
    "import sys, os; sys.path.append(os.path.abspath('..'))\n",
    "from submitter import submit\n",
    "submit(13)"
   ]
  }
 ],
 "metadata": {
  "authors": [
   {
    "name": "Soros Liu"
   }
  ],
  "kernelspec": {
   "display_name": "Python 3",
   "language": "python",
   "name": "python3"
  },
  "language_info": {
   "codemirror_mode": {
    "name": "ipython",
    "version": 3
   },
   "file_extension": ".py",
   "mimetype": "text/x-python",
   "name": "python",
   "nbconvert_exporter": "python",
   "pygments_lexer": "ipython3",
   "version": "3.8.6"
  },
  "leetcode_question_info": {
   "sampleTestCase": "\"III\"",
   "submitUrl": "/problems/roman-to-integer/submit/"
  }
 },
 "nbformat": 4,
 "nbformat_minor": 2
}
